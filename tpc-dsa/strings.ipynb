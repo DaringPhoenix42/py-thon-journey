{
 "cells": [
  {
   "cell_type": "markdown",
   "metadata": {},
   "source": [
    "Reverse of string"
   ]
  },
  {
   "cell_type": "code",
   "execution_count": 1,
   "metadata": {},
   "outputs": [
    {
     "name": "stdout",
     "output_type": "stream",
     "text": [
      "Not a palindrome\n"
     ]
    }
   ],
   "source": [
    "#M-1\n",
    "#1 find reverse of string\n",
    "#2 check if reverse and original are same or not \n",
    "\n",
    "#s=input(\"Enter a string\")\n",
    "s=\"abcdef\"\n",
    "# print(s[:])\n",
    "# print(s[0:5])\n",
    "# print(s[0:5:1])\n",
    "# print(s[::-1])\n",
    "revstr=(s[::-1])\n",
    "if revstr==s:\n",
    "    print(\"Yes same after reversed palindrome\")\n",
    "else:\n",
    "    print(\"Not a palindrome\")\n",
    "     "
   ]
  },
  {
   "cell_type": "markdown",
   "metadata": {},
   "source": [
    "Reverse word into string"
   ]
  },
  {
   "cell_type": "code",
   "execution_count": 8,
   "metadata": {},
   "outputs": [
    {
     "name": "stdout",
     "output_type": "stream",
     "text": [
      "['Welcome', '', 'to', 'python', '', 'programming']\n",
      "['programming', '', 'python', 'to', '', 'Welcome']\n",
      "Welcome  to python  programming\n"
     ]
    }
   ],
   "source": [
    "str=\"Welcome  to python  programming\"\n",
    "\n",
    "words=str.split(\" \")\n",
    "print(words)\n",
    "word=words[-1::-1]\n",
    "print(word)\n",
    "outstr=' '.join(words)\n",
    "print(outstr)\n"
   ]
  },
  {
   "cell_type": "markdown",
   "metadata": {},
   "source": [
    "Substring in a given string"
   ]
  },
  {
   "cell_type": "code",
   "execution_count": 12,
   "metadata": {},
   "outputs": [
    {
     "name": "stdout",
     "output_type": "stream",
     "text": [
      "Not found in the string\n"
     ]
    }
   ],
   "source": [
    "str=\"Welcome  to python  programming\"\n",
    "#sub_str=\"python\"\n",
    "sub_str=\"xyz\"\n",
    "\n",
    "index=str.find(sub_str)\n",
    "if index>0:\n",
    "    print(\"Index of string\",index)\n",
    "    \n",
    "else:\n",
    "    print(\"Not found in the string\")"
   ]
  },
  {
   "cell_type": "markdown",
   "metadata": {},
   "source": [
    "special character "
   ]
  },
  {
   "cell_type": "code",
   "execution_count": null,
   "metadata": {},
   "outputs": [],
   "source": [
    "#.search() method"
   ]
  }
 ],
 "metadata": {
  "kernelspec": {
   "display_name": "Python 3",
   "language": "python",
   "name": "python3"
  },
  "language_info": {
   "codemirror_mode": {
    "name": "ipython",
    "version": 3
   },
   "file_extension": ".py",
   "mimetype": "text/x-python",
   "name": "python",
   "nbconvert_exporter": "python",
   "pygments_lexer": "ipython3",
   "version": "3.13.1"
  }
 },
 "nbformat": 4,
 "nbformat_minor": 2
}
