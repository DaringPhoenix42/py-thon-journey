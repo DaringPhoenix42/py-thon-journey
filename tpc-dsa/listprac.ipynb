{
 "cells": [
  {
   "cell_type": "code",
   "execution_count": 1,
   "metadata": {},
   "outputs": [
    {
     "name": "stdout",
     "output_type": "stream",
     "text": [
      "Hello world\n"
     ]
    }
   ],
   "source": [
    "print(\"Hello world\")"
   ]
  },
  {
   "cell_type": "code",
   "execution_count": 3,
   "metadata": {},
   "outputs": [
    {
     "name": "stdout",
     "output_type": "stream",
     "text": [
      "[2, 3, 4, 5]\n"
     ]
    }
   ],
   "source": [
    "a=list(map(int,input().split()))\n",
    "val=int(input(\"Enter no:-\"))\n",
    "l=[]\n",
    "for i in range(len(a)):\n",
    "    if i==val:\n",
    "        a.remove(i)\n",
    "print(a)\n",
    "            "
   ]
  },
  {
   "cell_type": "code",
   "execution_count": null,
   "metadata": {},
   "outputs": [],
   "source": [
    "a=list(map(int,input().split()))\n",
    "val=int(input(\"Enter no:-\"))\n",
    "l=[]\n",
    "for i in range(len(a)):\n",
    "    if i==val:\n",
    "        \n",
    "print(a)"
   ]
  },
  {
   "cell_type": "code",
   "execution_count": 5,
   "metadata": {},
   "outputs": [
    {
     "name": "stdout",
     "output_type": "stream",
     "text": [
      "[1, 2, 3, 4]\n"
     ]
    }
   ],
   "source": [
    "b=list(map(int,input().split()))\n",
    "print(b)\n",
    "c=[]\n",
    "for i in b:\n",
    "    if i not in c:\n",
    "        b.append(i)\n",
    "print()\n",
    "    \n",
    "    "
   ]
  },
  {
   "cell_type": "markdown",
   "metadata": {},
   "source": [
    "coding platform list:-\n",
    "tcs lauch pad--> tcs\n",
    "infytq -->infosis\n",
    "whebox ,aon,mettl--> accunture\n",
    "tcs nqt-->\n",
    "hakkerrank-- dashboard\n",
    "final year hakathons\n",
    "cognitive class.ai certifications\n",
    "\n",
    "\n",
    "\n"
   ]
  },
  {
   "cell_type": "code",
   "execution_count": 10,
   "metadata": {},
   "outputs": [
    {
     "name": "stdout",
     "output_type": "stream",
     "text": [
      "Anagram\n"
     ]
    }
   ],
   "source": [
    "#anagram nagaram\n",
    "#str1=input(\"Enter the string:-\")\n",
    "str1=\"listen\"\n",
    "s1=str1.lower()\n",
    "sorted(s1)\n",
    "\n",
    "#str2=input(\"Enter the string:-\")\n",
    "str2=\"silent\"\n",
    "s2=str2.lower()\n",
    "sorted(s2)\n",
    "count=0\n",
    "\n",
    "for i in str1:\n",
    "    for y in str2:\n",
    "        if i==y:\n",
    "            count=count+1\n",
    "if count==len(str1):\n",
    "    print(\"Anagram\")\n",
    "else :\n",
    "    print(\"Not a anigram\")\n",
    "        \n",
    "    \n",
    "    \n"
   ]
  },
  {
   "cell_type": "code",
   "execution_count": 8,
   "metadata": {},
   "outputs": [
    {
     "name": "stdout",
     "output_type": "stream",
     "text": [
      "Anagram\n"
     ]
    }
   ],
   "source": [
    "# Input strings\n",
    "str1 = \"listen\"\n",
    "str2 = \"silent\"\n",
    "\n",
    "# Convert both strings to lowercase and sort them\n",
    "s1 = sorted(str1.lower())\n",
    "s2 = sorted(str2.lower())\n",
    "\n",
    "# Compare sorted versions of the strings\n",
    "if s1 == s2:\n",
    "    print(\"Anagram\")\n",
    "else:\n",
    "    print(\"Not an anagram\")\n"
   ]
  },
  {
   "cell_type": "code",
   "execution_count": null,
   "metadata": {},
   "outputs": [],
   "source": [
    "#next largest integer\n",
    "\n",
    "#arr=[1,3,2,4]\n",
    "\"\"\" Tnput:-\n",
    "N=4,arr[]=[1,3,2,4]\n",
    "output:-\n",
    "3 4 4 -1\n",
    "\n",
    "Explain In the array ,the next largest element to 1 is 3,3 is 4, 2 is 4 and for 4 \n",
    "since it does not exist ,it is -1\n",
    "\"\"\"\n",
    "\n",
    "\"\"\"arr=[1,3,2,4]\n",
    "n=len(arr)\n",
    "a=[]\n",
    "for i in range(len(arr)):\n",
    "    for j in range(i+1,n,1):\n",
    "\n",
    "for i in range(len(arr)):\n",
    "    for j=i+1 - n\n",
    "        if arr[i]<arr[j]\n",
    "    \n",
    "    \"\"\"\n",
    "\n"
   ]
  },
  {
   "cell_type": "code",
   "execution_count": 16,
   "metadata": {},
   "outputs": [
    {
     "name": "stdout",
     "output_type": "stream",
     "text": [
      "2\n",
      "Number of vowels =2\n",
      "Number of consonats =3\n"
     ]
    }
   ],
   "source": [
    "#vowel and consonent in the string\n",
    "#str=input(\"Enter the string\")\n",
    "in1=\"hello\"\n",
    "l=len(in1)\n",
    "l1=['a','e','i','o','u']\n",
    "l11=str(l1)\n",
    "l2=[]\n",
    "l3=[]\n",
    "count=0\n",
    "for i in in1:\n",
    "    for j in l11:\n",
    "        if i==j:\n",
    "            count=count+1\n",
    "print(count)\n",
    "\n",
    "print(f\"Number of vowels ={count}\")\n",
    "print(f\"Number of consonats ={l-count}\")\n",
    "            \n",
    "            \n",
    "    \n",
    "\n"
   ]
  },
  {
   "cell_type": "markdown",
   "metadata": {},
   "source": [
    "panagram "
   ]
  },
  {
   "cell_type": "code",
   "execution_count": 18,
   "metadata": {},
   "outputs": [
    {
     "name": "stdout",
     "output_type": "stream",
     "text": [
      "False\n",
      "Not a plagram\n"
     ]
    }
   ],
   "source": [
    "word=\"The qucik brown jumps over the lazy dog\"\n",
    "n=len(word)\n",
    "val=word.isalpha()\n",
    "#print(val)\n",
    "if val==True:\n",
    "    print(\"Anagram\")\n",
    "else:\n",
    "    print(\"Not a plagram\")"
   ]
  },
  {
   "cell_type": "code",
   "execution_count": 24,
   "metadata": {},
   "outputs": [
    {
     "name": "stdout",
     "output_type": "stream",
     "text": [
      "['This', 'is', 'a', 'scentence']\n",
      "4\n",
      "COunt of string =4\n"
     ]
    }
   ],
   "source": [
    "# count of string \n",
    "word=\"This is a scentence\"\n",
    "n=len(word)\n",
    "w=word.split()\n",
    "print(w)\n",
    "count=0\n",
    "for i in w:\n",
    "    count=count+1\n",
    "print(count)\n",
    "print(f\"COunt of string ={count}\")\n",
    "\n",
    "\n",
    "    \n",
    "    \n",
    "\n"
   ]
  },
  {
   "cell_type": "code",
   "execution_count": 26,
   "metadata": {},
   "outputs": [
    {
     "name": "stdout",
     "output_type": "stream",
     "text": [
      "['This', 'is', 'a', 'scentence']\n"
     ]
    }
   ],
   "source": [
    "#remove empty space\n",
    "word=\"This is a scentence\"\n",
    "n=len(word)\n",
    "w=word.split()\n",
    "print(w)\n",
    "#list to string\n",
    "    "
   ]
  }
 ],
 "metadata": {
  "kernelspec": {
   "display_name": "Python 3",
   "language": "python",
   "name": "python3"
  },
  "language_info": {
   "codemirror_mode": {
    "name": "ipython",
    "version": 3
   },
   "file_extension": ".py",
   "mimetype": "text/x-python",
   "name": "python",
   "nbconvert_exporter": "python",
   "pygments_lexer": "ipython3",
   "version": "3.13.1"
  }
 },
 "nbformat": 4,
 "nbformat_minor": 2
}
