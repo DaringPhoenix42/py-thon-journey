{
 "cells": [
  {
   "cell_type": "markdown",
   "metadata": {},
   "source": [
    "list\n"
   ]
  },
  {
   "cell_type": "code",
   "execution_count": 1,
   "metadata": {},
   "outputs": [
    {
     "name": "stdout",
     "output_type": "stream",
     "text": [
      "[7, 8, 9, 'raj']\n"
     ]
    }
   ],
   "source": [
    "n=[7,8,9]\n",
    "n.insert(3,\"raj\")\n",
    "print(n)"
   ]
  },
  {
   "cell_type": "code",
   "execution_count": 3,
   "metadata": {},
   "outputs": [
    {
     "name": "stdout",
     "output_type": "stream",
     "text": [
      "['chicken', 'Mutton', 'Fish', 'PEPSI', 'COKE', 'DEW']\n"
     ]
    }
   ],
   "source": [
    "# extend function\n",
    "order1=[\"chicken\",\"Mutton\",\"Fish\"]\n",
    "order2=[\"PEPSI\",\"COKE\",\"DEW\"]\n",
    "order1.extend(order2)\n",
    "print(order1)"
   ]
  },
  {
   "cell_type": "code",
   "execution_count": 10,
   "metadata": {},
   "outputs": [
    {
     "name": "stdout",
     "output_type": "stream",
     "text": [
      "[7, 8, 9, 'raj']\n",
      "[7, 8, 9, 'raj']\n",
      "[5, 4, 3, 2]\n"
     ]
    }
   ],
   "source": [
    "#remove function\n",
    "n1=[1,2,3,4,5,6]\n",
    "n1.remove(1)\n",
    "print(n)\n",
    "n1.pop\n",
    "print(n)\n",
    "#remove index \n",
    "#pop last\n",
    "n2=[2,3,4,5]\n",
    "\n",
    "n2.reverse()\n",
    "print(n2)"
   ]
  },
  {
   "cell_type": "code",
   "execution_count": 13,
   "metadata": {},
   "outputs": [
    {
     "name": "stdout",
     "output_type": "stream",
     "text": [
      "123\n",
      "23\n",
      "123\n",
      "123\n",
      "[4242, 23, 123, 1]\n",
      "12\n",
      "[4, 56, 6]\n",
      "123\n",
      "12\n",
      "3\n"
     ]
    }
   ],
   "source": [
    "#nested list\n",
    "n=[123,123,[4242,23,123,1],12,[4,56,6],123,12,3]\n",
    "print(n[0])\n",
    "print(n[2][1])\n",
    "print(\"for\")\n",
    "for i in n:\n",
    "    print(i)"
   ]
  },
  {
   "cell_type": "markdown",
   "metadata": {},
   "source": [
    "nested list"
   ]
  },
  {
   "cell_type": "code",
   "execution_count": 14,
   "metadata": {},
   "outputs": [
    {
     "name": "stdout",
     "output_type": "stream",
     "text": [
      "[[10, 20, 30], [40, 50, 60], [70, 80, 90]]\n",
      "10 20 30 \n",
      "40 50 60 \n",
      "70 80 90 \n"
     ]
    }
   ],
   "source": [
    "n=[[10,20,30],[40,50,60],[70,80,90]]\n",
    "print(n)\n",
    "for i in range(len(n)):\n",
    "    for j in range(len(n[i])):\n",
    "        print(n[i][j],end=\" \")\n",
    "    print()    \n",
    "    "
   ]
  },
  {
   "cell_type": "markdown",
   "metadata": {},
   "source": [
    "max element in list"
   ]
  },
  {
   "cell_type": "code",
   "execution_count": 15,
   "metadata": {},
   "outputs": [
    {
     "name": "stdout",
     "output_type": "stream",
     "text": [
      "10\n"
     ]
    }
   ],
   "source": [
    "num=[3,8,1,10,5]\n",
    "max=num[0]\n",
    "for i in range(1,len(num)):\n",
    "    if max<num[i]:\n",
    "        max=num[i]\n",
    "print(max)\n",
    "        "
   ]
  },
  {
   "cell_type": "code",
   "execution_count": 16,
   "metadata": {},
   "outputs": [
    {
     "name": "stdout",
     "output_type": "stream",
     "text": [
      "1\n"
     ]
    }
   ],
   "source": [
    "num=[3,8,1,10,5]\n",
    "min=num[0]\n",
    "for i in range(1,len(num)):\n",
    "    if min>num[i]:\n",
    "        min=num[i]\n",
    "print(min)"
   ]
  },
  {
   "cell_type": "code",
   "execution_count": 17,
   "metadata": {},
   "outputs": [
    {
     "name": "stdout",
     "output_type": "stream",
     "text": [
      "[5, 4, 3, 2, 1]\n"
     ]
    }
   ],
   "source": [
    "#reverse\n",
    "num=[1,2,3,4,5]\n",
    "l=[]\n",
    "for i in range(len(num)-1,-1,-1):\n",
    "    l.append(num[i])\n",
    "print(l)\n",
    "\n"
   ]
  },
  {
   "cell_type": "code",
   "execution_count": 19,
   "metadata": {},
   "outputs": [
    {
     "name": "stdout",
     "output_type": "stream",
     "text": [
      "[1, 2, 3, 4, 5]\n"
     ]
    }
   ],
   "source": [
    "num=[1,2,3,4,4,5]\n",
    "l=[]\n",
    "for i in num:\n",
    "    if i not in l: \n",
    "     l.append(i)\n",
    "print(l)\n",
    "    \n",
    "    "
   ]
  },
  {
   "cell_type": "code",
   "execution_count": 25,
   "metadata": {},
   "outputs": [
    {
     "name": "stdout",
     "output_type": "stream",
     "text": [
      "[1, 1, 1, 1, 1]\n",
      "palindrome\n"
     ]
    }
   ],
   "source": [
    "#palindrome od list\n",
    "num=[1,1,1,1,1]\n",
    "l=[]\n",
    "for i in range(len(num)-1,-1,-1):\n",
    "    l.append(num[i])\n",
    "print(l)\n",
    "\n",
    "\n",
    "result1=''\n",
    "for i in range(len(num)):\n",
    "    result1+=str(num[i])\n",
    "    \n",
    "result2=''\n",
    "for i in range(len(l)):\n",
    "    result2+=str(l[i])\n",
    "\n",
    "\n",
    "if result1==result2:\n",
    "    print(\"palindrome\")\n",
    "else:\n",
    "    print(\"Not palindrome\")\n"
   ]
  },
  {
   "cell_type": "code",
   "execution_count": 27,
   "metadata": {},
   "outputs": [
    {
     "name": "stdout",
     "output_type": "stream",
     "text": [
      "[2, 3, 4]\n"
     ]
    }
   ],
   "source": [
    "l1=[1,2,3,4]\n",
    "l2=[2,3,4,5]\n",
    "l=[]\n",
    "for x in l1:\n",
    "    for y in l2:\n",
    "       if x==y:\n",
    "           l.append(x)\n",
    "print(l)"
   ]
  },
  {
   "cell_type": "code",
   "execution_count": 31,
   "metadata": {},
   "outputs": [
    {
     "ename": "TypeError",
     "evalue": "'list' object is not callable",
     "output_type": "error",
     "traceback": [
      "\u001b[1;31m---------------------------------------------------------------------------\u001b[0m",
      "\u001b[1;31mTypeError\u001b[0m                                 Traceback (most recent call last)",
      "Cell \u001b[1;32mIn[31], line 1\u001b[0m\n\u001b[1;32m----> 1\u001b[0m a1\u001b[38;5;241m=\u001b[39m\u001b[38;5;28;43mlist\u001b[39;49m\u001b[43m(\u001b[49m\u001b[38;5;28;43mmap\u001b[39;49m\u001b[43m(\u001b[49m\u001b[38;5;28;43mint\u001b[39;49m\u001b[43m,\u001b[49m\u001b[38;5;28;43minput\u001b[39;49m\u001b[43m(\u001b[49m\u001b[43m)\u001b[49m\u001b[38;5;241;43m.\u001b[39;49m\u001b[43msplit\u001b[49m\u001b[43m(\u001b[49m\u001b[43m)\u001b[49m\u001b[43m)\u001b[49m\u001b[43m)\u001b[49m\n\u001b[0;32m      2\u001b[0m \u001b[38;5;28msum\u001b[39m\u001b[38;5;241m=\u001b[39m\u001b[38;5;241m0\u001b[39m\n\u001b[0;32m      3\u001b[0m \u001b[38;5;28;01mfor\u001b[39;00m i \u001b[38;5;129;01min\u001b[39;00m \u001b[38;5;28mrange\u001b[39m(\u001b[38;5;28mlen\u001b[39m(a1)):\n",
      "\u001b[1;31mTypeError\u001b[0m: 'list' object is not callable"
     ]
    }
   ],
   "source": [
    "a1=list(map(int,input().split()))\n",
    "sum=0\n",
    "for i in range(len(a1)):\n",
    "    sum=sum+a1[i]\n",
    "print(sum)"
   ]
  }
 ],
 "metadata": {
  "kernelspec": {
   "display_name": "Python 3",
   "language": "python",
   "name": "python3"
  },
  "language_info": {
   "codemirror_mode": {
    "name": "ipython",
    "version": 3
   },
   "file_extension": ".py",
   "mimetype": "text/x-python",
   "name": "python",
   "nbconvert_exporter": "python",
   "pygments_lexer": "ipython3",
   "version": "3.12.4"
  }
 },
 "nbformat": 4,
 "nbformat_minor": 2
}
