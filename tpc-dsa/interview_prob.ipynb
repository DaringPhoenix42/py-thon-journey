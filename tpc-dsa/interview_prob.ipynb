{
 "cells": [
  {
   "cell_type": "markdown",
   "metadata": {},
   "source": [
    "Swapping 2 numbers"
   ]
  },
  {
   "cell_type": "code",
   "execution_count": 2,
   "metadata": {},
   "outputs": [
    {
     "name": "stdout",
     "output_type": "stream",
     "text": [
      "The value of numbers Before swap 10 \t 15\n",
      "The value of numbers Before swap 15 \t 10\n"
     ]
    }
   ],
   "source": [
    "\n",
    "num1=int(input(\"Enter the first number:-\"))\n",
    "num2=int(input(\"Enter the first number:-\"))\n",
    "print(f\"The value of numbers Before swap {num1} \\t {num2}\")\n",
    "num1,num2=num2,num1\n",
    "#temp=num1\n",
    "#num1=num2\n",
    "#num2=temp\n",
    "print(f\"The value of numbers Before swap {num1} \\t {num2}\")\n"
   ]
  },
  {
   "cell_type": "markdown",
   "metadata": {},
   "source": [
    "Check number is prime or not"
   ]
  },
  {
   "cell_type": "code",
   "execution_count": null,
   "metadata": {},
   "outputs": [
    {
     "name": "stdout",
     "output_type": "stream",
     "text": [
      "The number is  prime\n"
     ]
    }
   ],
   "source": [
    "#Natural numbers>1\n",
    "#which has 2 factors 1 and itself\n",
    "\n",
    "\n",
    "\n",
    "#19=>1 and 19 => prime  4 more than 2 factors\n",
    "num1=int(input(\"Enter the number:-\"))\n",
    "\n",
    "count=0\n",
    "if num1>1:\n",
    "    \n",
    " for i in range(1,num1+1,1):\n",
    "    if num1%i==0:\n",
    "        count=count+1\n",
    " if count==2:\n",
    "    print(\"The number is  prime\")\n",
    " else :\n",
    "     print(\"The number is  not prime\")\n",
    "    \n",
    "        "
   ]
  },
  {
   "cell_type": "markdown",
   "metadata": {},
   "source": [
    "Factorial of number:-"
   ]
  },
  {
   "cell_type": "markdown",
   "metadata": {},
   "source": [
    "Method-1"
   ]
  },
  {
   "cell_type": "code",
   "execution_count": 1,
   "metadata": {},
   "outputs": [
    {
     "name": "stdout",
     "output_type": "stream",
     "text": [
      "Factorail of num=120\n"
     ]
    }
   ],
   "source": [
    "num1=int(input(\"Enter the number :-\"))\n",
    "#5!=5*4*3*2*1\n",
    "fact=1\n",
    "\n",
    "if num1<0:\n",
    "  print(\"Factorial doesnot exist\")\n",
    "  \n",
    "elif num1==0:\n",
    "    print(\"Factorial :-\\t 0 != 1\")\n",
    "    \n",
    "else:\n",
    "  for i in range(1,num1+1,1):\n",
    "    fact=fact*i\n",
    "\n",
    "  print(f\"Factorail of num={fact}\")"
   ]
  },
  {
   "cell_type": "markdown",
   "metadata": {},
   "source": [
    "Method-2"
   ]
  },
  {
   "cell_type": "code",
   "execution_count": 2,
   "metadata": {},
   "outputs": [
    {
     "name": "stdout",
     "output_type": "stream",
     "text": [
      "Factorial of  5 120\n"
     ]
    }
   ],
   "source": [
    "def factorail(n):\n",
    "    if(n==0 or n==1):\n",
    "        return 1\n",
    "    \n",
    "    else:\n",
    "        return n*factorail(n-1)\n",
    "    \n",
    "num=5\n",
    "print(\"Factorial of \",num,factorail(num))\n",
    "    \n"
   ]
  },
  {
   "cell_type": "markdown",
   "metadata": {},
   "source": [
    "fibonacci number:-"
   ]
  },
  {
   "cell_type": "code",
   "execution_count": 13,
   "metadata": {},
   "outputs": [
    {
     "name": "stdout",
     "output_type": "stream",
     "text": [
      "0\t1\t  1 \t 2 \t 3 \t 5 \t 8 \t 13 \t 21 \t 34 \t "
     ]
    }
   ],
   "source": [
    "\n",
    "\n",
    "n1=0\n",
    "n2=1\n",
    "\n",
    "print(f\"{n1}\\t{n2}\\t \",end=\" \")\n",
    "\n",
    "for i in range(2,10,1):\n",
    "    sum=n1+n2\n",
    "    print(f\"{sum} \\t\",end=\" \")\n",
    "    n1=n2\n",
    "    n2=sum"
   ]
  },
  {
   "cell_type": "markdown",
   "metadata": {},
   "source": [
    "list based questions:-"
   ]
  },
  {
   "cell_type": "markdown",
   "metadata": {},
   "source": [
    "sum of elements in array:-"
   ]
  },
  {
   "cell_type": "code",
   "execution_count": 39,
   "metadata": {},
   "outputs": [
    {
     "name": "stdout",
     "output_type": "stream",
     "text": [
      "[1, 2, 3, 4, 5]\n",
      "15\n"
     ]
    }
   ],
   "source": [
    "list = []\n",
    "\n",
    "n = int(input(\"Enter the number of elements:-\"))\n",
    "\n",
    "for i in range(n):\n",
    "    list.append(int(input(f\"Enter the element {i+1}:-\")))\n",
    "\n",
    "print(list)\n",
    "\n",
    "sum = 0\n",
    "for j in range(n):  # Start from 0, not 1\n",
    "    sum = list[j] + sum\n",
    "\n",
    "print(sum)"
   ]
  },
  {
   "cell_type": "markdown",
   "metadata": {},
   "source": [
    "list-content to string"
   ]
  },
  {
   "cell_type": "code",
   "execution_count": 42,
   "metadata": {},
   "outputs": [
    {
     "name": "stdout",
     "output_type": "stream",
     "text": [
      "[1, 2]\n",
      "12\n"
     ]
    }
   ],
   "source": [
    "list = []\n",
    "\n",
    "n = int(input(\"Enter the number of elements:-\"))\n",
    "\n",
    "for i in range(n):\n",
    "    list.append(int(input(f\"Enter the element {i+1}:-\")))\n",
    "\n",
    "print(list)\n",
    "\n",
    "result=''\n",
    "for i in range(len(list)):\n",
    "    result+=str(list[i])\n",
    "    \n",
    "print(result)"
   ]
  },
  {
   "cell_type": "markdown",
   "metadata": {},
   "source": [
    "Minimum and maximum number"
   ]
  },
  {
   "cell_type": "code",
   "execution_count": 43,
   "metadata": {},
   "outputs": [
    {
     "name": "stdout",
     "output_type": "stream",
     "text": [
      "4\n"
     ]
    }
   ],
   "source": [
    "#M-1\n",
    "list=[1,2,3,4]\n",
    "print(max(list))"
   ]
  },
  {
   "cell_type": "code",
   "execution_count": 49,
   "metadata": {},
   "outputs": [
    {
     "name": "stdout",
     "output_type": "stream",
     "text": [
      "Min= {min}\n"
     ]
    }
   ],
   "source": [
    "#M-2\n",
    "list=[1,2,3,4]\n",
    "n=len(list)\n",
    "min=list[0]\n",
    "for i in range(1,n):\n",
    "    if min>list[i]:\n",
    "        min=list[i]\n",
    "        \n",
    "print(\"Min= {min}\")\n",
    "        \n",
    "    "
   ]
  },
  {
   "cell_type": "code",
   "execution_count": 48,
   "metadata": {},
   "outputs": [
    {
     "name": "stdout",
     "output_type": "stream",
     "text": [
      "Max= 4\n"
     ]
    }
   ],
   "source": [
    "#M-2\n",
    "list=[1,2,3,4]\n",
    "n=len(list)\n",
    "max=list[0]\n",
    "for i in range(1,n):\n",
    "    if max<list[i]:\n",
    "        max=list[i]\n",
    "        \n",
    "print(f\"Max= {max}\")"
   ]
  },
  {
   "cell_type": "code",
   "execution_count": 51,
   "metadata": {},
   "outputs": [
    {
     "ename": "TypeError",
     "evalue": "'int' object is not callable",
     "output_type": "error",
     "traceback": [
      "\u001b[1;31m---------------------------------------------------------------------------\u001b[0m",
      "\u001b[1;31mTypeError\u001b[0m                                 Traceback (most recent call last)",
      "Cell \u001b[1;32mIn[51], line 3\u001b[0m\n\u001b[0;32m      1\u001b[0m \u001b[38;5;66;03m#M-1\u001b[39;00m\n\u001b[0;32m      2\u001b[0m list2\u001b[38;5;241m=\u001b[39m[\u001b[38;5;241m1\u001b[39m,\u001b[38;5;241m2\u001b[39m,\u001b[38;5;241m3\u001b[39m,\u001b[38;5;241m4\u001b[39m]\n\u001b[1;32m----> 3\u001b[0m \u001b[38;5;28mprint\u001b[39m(\u001b[38;5;28;43mmin\u001b[39;49m\u001b[43m(\u001b[49m\u001b[43mlist2\u001b[49m\u001b[43m)\u001b[49m)\n",
      "\u001b[1;31mTypeError\u001b[0m: 'int' object is not callable"
     ]
    }
   ],
   "source": [
    "#M-1\n",
    "list2=[1,2,3,4]\n",
    "print(min(list2))"
   ]
  },
  {
   "cell_type": "markdown",
   "metadata": {},
   "source": [
    "length of list 2 method\n",
    " "
   ]
  },
  {
   "cell_type": "code",
   "execution_count": 52,
   "metadata": {},
   "outputs": [
    {
     "name": "stdout",
     "output_type": "stream",
     "text": [
      "4\n"
     ]
    }
   ],
   "source": [
    "list=[1,2,3,4]\n",
    "print(len(list))\n",
    "\n",
    "\n"
   ]
  },
  {
   "cell_type": "code",
   "execution_count": 54,
   "metadata": {},
   "outputs": [
    {
     "name": "stdout",
     "output_type": "stream",
     "text": [
      "4\n",
      "4\n"
     ]
    }
   ],
   "source": [
    "list=[1,2,3,4]\n",
    "print(len(list))\n",
    "\n",
    "count=0\n",
    "for i in list:\n",
    "    count=count+1\n",
    "print(count)"
   ]
  },
  {
   "cell_type": "markdown",
   "metadata": {},
   "source": [
    "Swap first and last element in alist"
   ]
  },
  {
   "cell_type": "code",
   "execution_count": 56,
   "metadata": {},
   "outputs": [
    {
     "name": "stdout",
     "output_type": "stream",
     "text": [
      "Before swap\n",
      " [12, 35, 9, 56, 24]\n",
      "[24, 35, 9, 56, 12]\n"
     ]
    }
   ],
   "source": [
    "#M-1\n",
    "list=[12,35,9,56,24]\n",
    "print(f\"Before swap\\n {list}\")\n",
    "length=len(list)\n",
    "temp=list[0]\n",
    "list[0]=list[length-1]\n",
    "list[length-1]=temp\n",
    "\n",
    "print(list)\n",
    "\n"
   ]
  },
  {
   "cell_type": "code",
   "execution_count": 57,
   "metadata": {},
   "outputs": [
    {
     "name": "stdout",
     "output_type": "stream",
     "text": [
      "Before swap\n",
      " [12, 35, 9, 56, 24]\n",
      "After swap\n",
      " [24, 35, 9, 56, 12]\n"
     ]
    }
   ],
   "source": [
    "#m-2\n",
    "list=[12,35,9,56,24]\n",
    "l=len(list)\n",
    "print(f\"Before swap\\n {list}\")\n",
    "list[0],list[l-1]=list[l-1],list[0]\n",
    "\n",
    "print(f\"After swap\\n {list}\")"
   ]
  },
  {
   "cell_type": "code",
   "execution_count": 58,
   "metadata": {},
   "outputs": [
    {
     "name": "stdout",
     "output_type": "stream",
     "text": [
      "Before swap\n",
      " [12, 35, 9, 56, 24]\n",
      "After swap\n",
      " [24, 35, 9, 56, 12]\n"
     ]
    }
   ],
   "source": [
    "#M-3 tuplevariable shortcut:-\n",
    "list=[12,35,9,56,24]\n",
    "l=len(list)\n",
    "print(f\"Before swap\\n {list}\")\n",
    "get=(list[-1],list[-0])\n",
    "\n",
    "list[0],list[-1]=get\n",
    "print(f\"After swap\\n {list}\")\n",
    "\n"
   ]
  },
  {
   "cell_type": "code",
   "execution_count": 59,
   "metadata": {},
   "outputs": [
    {
     "name": "stdout",
     "output_type": "stream",
     "text": [
      "Before swap\n",
      " [12, 35, 9, 56, 24]\n",
      "After swap\n",
      " [12, 56, 9, 35, 24]\n"
     ]
    }
   ],
   "source": [
    "# swapping element in list based on the position \n",
    "list=[12,35,9,56,24]\n",
    "l=len(list)\n",
    "print(f\"Before swap\\n {list}\")\n",
    "pos1=1\n",
    "pos2=3\n",
    "list[pos1],list[pos2]=list[pos2],list[pos1]\n",
    "print(f\"After swap\\n {list}\")\n",
    "\n",
    "\n"
   ]
  },
  {
   "cell_type": "code",
   "execution_count": 61,
   "metadata": {},
   "outputs": [
    {
     "name": "stdout",
     "output_type": "stream",
     "text": [
      "Before swap\n",
      " [12, 35, 9, 56, 24]\n",
      "After swap\n",
      " [12, 56, 9, 35, 24]\n"
     ]
    }
   ],
   "source": [
    "#M-2\n",
    "list=[12,35,9,56,24]\n",
    "l=len(list)\n",
    "print(f\"Before swap\\n {list}\")\n",
    "pos1=1\n",
    "pos2=3\n",
    "e1=list.pop(pos1)\n",
    "e2=list.pop(pos2-1)\n",
    "\n",
    "list.insert(pos1,e2)\n",
    "list.insert(pos2,e1)\n",
    "\n",
    "print(f\"After swap\\n {list}\")\n",
    "\n"
   ]
  },
  {
   "cell_type": "code",
   "execution_count": 75,
   "metadata": {},
   "outputs": [
    {
     "name": "stdout",
     "output_type": "stream",
     "text": [
      "['geek ', 'for', ' geek']\n"
     ]
    }
   ],
   "source": [
    "#REmove nth occurence of the given word in list\n",
    "#list=[\"geek \",\"for\", \" geeks\"]\n",
    "#n=2\n",
    "#list=[\"geek \",\"for\"]\n",
    "\n",
    "list=[\"geek \",\"for\", \" geek\"]\n",
    "n=2\n",
    "word=\"geek\"\n",
    "count=0\n",
    "\n",
    "for i in range(0,len(list)):\n",
    "    if i==word:\n",
    "        count=count+1\n",
    "        if(count==n):\n",
    "            del list[i]\n",
    "            \n",
    "            \n",
    "print(list)\n",
    "        \n"
   ]
  },
  {
   "cell_type": "markdown",
   "metadata": {},
   "source": [
    "search element in the list"
   ]
  },
  {
   "cell_type": "code",
   "execution_count": 78,
   "metadata": {},
   "outputs": [
    {
     "name": "stdout",
     "output_type": "stream",
     "text": [
      "Element found at index 2\n"
     ]
    }
   ],
   "source": [
    "list=[12,35,9,56,24]\n",
    "l=len(list)\n",
    "find=35\n",
    "for i in range(l):\n",
    "    if list[i]==find:\n",
    "        print(\"Element found at index\",i+1)\n",
    "        break\n",
    "    "
   ]
  },
  {
   "cell_type": "markdown",
   "metadata": {},
   "source": [
    "Clear list  methods clear() method , del method, initialise all elements to 0\n"
   ]
  },
  {
   "cell_type": "code",
   "execution_count": 81,
   "metadata": {},
   "outputs": [
    {
     "name": "stdout",
     "output_type": "stream",
     "text": [
      "After using clear method\n",
      " [12, 35, 9, 56, 24]\n",
      "After using clear method\n",
      " []\n"
     ]
    }
   ],
   "source": [
    "list=[12,35,9,56,24]\n",
    "l=len(list)\n",
    "print(f\"After using clear method\\n {list}\")\n",
    "#list.clear()\n",
    "del list[0:5]\n",
    "print(f\"After using clear method\\n {list}\")\n"
   ]
  },
  {
   "cell_type": "markdown",
   "metadata": {},
   "source": [
    "List before reverse:-"
   ]
  },
  {
   "cell_type": "code",
   "execution_count": 83,
   "metadata": {},
   "outputs": [
    {
     "name": "stdout",
     "output_type": "stream",
     "text": [
      "After using reverse method\n",
      " [12, 35, 9, 56, 24]\n",
      "After using reverse method\n",
      " [24, 56, 9, 35, 12]\n"
     ]
    }
   ],
   "source": [
    "list=[12,35,9,56,24]\n",
    "l=len(list)\n",
    "print(f\"After using reverse method\\n {list}\")\n",
    "#list.reverse()\n",
    "list=list[::-1] #slicing\n",
    "print(f\"After using reverse method\\n {list}\")\n"
   ]
  },
  {
   "cell_type": "markdown",
   "metadata": {},
   "source": [
    "Count occurence of elemets in a list"
   ]
  }
 ],
 "metadata": {
  "kernelspec": {
   "display_name": "Python 3",
   "language": "python",
   "name": "python3"
  },
  "language_info": {
   "codemirror_mode": {
    "name": "ipython",
    "version": 3
   },
   "file_extension": ".py",
   "mimetype": "text/x-python",
   "name": "python",
   "nbconvert_exporter": "python",
   "pygments_lexer": "ipython3",
   "version": "3.12.4"
  }
 },
 "nbformat": 4,
 "nbformat_minor": 2
}
