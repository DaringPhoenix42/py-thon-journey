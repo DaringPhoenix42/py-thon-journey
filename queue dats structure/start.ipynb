{
 "cells": [
  {
   "cell_type": "markdown",
   "id": "01a31c12",
   "metadata": {},
   "source": [
    "# implementation of queue"
   ]
  },
  {
   "cell_type": "code",
   "execution_count": 2,
   "id": "dbaaa0ba",
   "metadata": {},
   "outputs": [
    {
     "name": "stdout",
     "output_type": "stream",
     "text": [
      "[4, 5, 6, 8, 10]\n",
      "4\n",
      "[5, 6, 8, 10]\n"
     ]
    }
   ],
   "source": [
    "class Queue:\n",
    "    def __init__(self):\n",
    "        self.queue=[]\n",
    "    def dequeue(self):\n",
    "        if len(self.queue )<1:\n",
    "            return None\n",
    "        else :\n",
    "            return self.queue.pop(0)\n",
    "    def enqueue(self,item):\n",
    "        self.queue.append(item)\n",
    "        \n",
    "    def size(self):\n",
    "        return len(self.queue)\n",
    "    \n",
    "    def display(self):\n",
    "        print(self.queue)\n",
    "        \n",
    "q=Queue()\n",
    "q.enqueue(4)\n",
    "q.enqueue(5)\n",
    "q.enqueue(6)\n",
    "q.enqueue(8)\n",
    "q.enqueue(10)\n",
    "q.display()\n",
    "print(q.dequeue())\n",
    "q.display()"
   ]
  },
  {
   "cell_type": "markdown",
   "id": "a59cbd31",
   "metadata": {},
   "source": [
    "# Questions"
   ]
  }
 ],
 "metadata": {
  "kernelspec": {
   "display_name": "Python 3",
   "language": "python",
   "name": "python3"
  },
  "language_info": {
   "codemirror_mode": {
    "name": "ipython",
    "version": 3
   },
   "file_extension": ".py",
   "mimetype": "text/x-python",
   "name": "python",
   "nbconvert_exporter": "python",
   "pygments_lexer": "ipython3",
   "version": "3.13.1"
  }
 },
 "nbformat": 4,
 "nbformat_minor": 5
}
