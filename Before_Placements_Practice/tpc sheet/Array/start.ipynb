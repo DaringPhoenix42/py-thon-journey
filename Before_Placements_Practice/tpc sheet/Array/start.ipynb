{
 "cells": [
  {
   "cell_type": "markdown",
   "id": "b8a6482a",
   "metadata": {},
   "source": [
    "# [1] Find the Maximum Element in a List:"
   ]
  },
  {
   "cell_type": "markdown",
   "id": "66b44c06",
   "metadata": {},
   "source": [
    "**Question:** Write a function to find the largest element in a list.  \n",
    "**Logic:** Iterate through the list and keep track of the maximum element.  \n",
    "**Sample Input:** [3, 8, 1, 10, 5]  \n",
    "**Expected Output:** 10\n"
   ]
  },
  {
   "cell_type": "code",
   "execution_count": 9,
   "id": "86a5063d",
   "metadata": {},
   "outputs": [],
   "source": [
    "def maximumElements(n,numbers):\n",
    "    minimum_no=float('-inf')\n",
    "    maximumElements=float('-inf')\n",
    "    if n==0:\n",
    "        return -1\n",
    "    \n",
    "    for i in range(0,n,1):\n",
    "        if numbers[i]>maximumElements:\n",
    "            maximumElements=numbers[i]\n",
    "        else:\n",
    "            continue\n",
    "        \n",
    "    if maximumElements==float('-inf'):\n",
    "        return -1\n",
    "    else:\n",
    "        return maximumElements\n"
   ]
  },
  {
   "cell_type": "code",
   "execution_count": 6,
   "id": "c5916683",
   "metadata": {},
   "outputs": [
    {
     "ename": "ValueError",
     "evalue": "invalid literal for int() with base 10: ''",
     "output_type": "error",
     "traceback": [
      "\u001b[1;31m---------------------------------------------------------------------------\u001b[0m",
      "\u001b[1;31mValueError\u001b[0m                                Traceback (most recent call last)",
      "Cell \u001b[1;32mIn[6], line 2\u001b[0m\n\u001b[0;32m      1\u001b[0m \u001b[38;5;28;01mif\u001b[39;00m \u001b[38;5;18m__name__\u001b[39m \u001b[38;5;241m==\u001b[39m \u001b[38;5;124m\"\u001b[39m\u001b[38;5;124m__main__\u001b[39m\u001b[38;5;124m\"\u001b[39m:\n\u001b[1;32m----> 2\u001b[0m     n\u001b[38;5;241m=\u001b[39m\u001b[38;5;28;43mint\u001b[39;49m\u001b[43m(\u001b[49m\u001b[38;5;28;43minput\u001b[39;49m\u001b[43m(\u001b[49m\u001b[38;5;124;43m\"\u001b[39;49m\u001b[38;5;124;43mEnter the length of array:-\u001b[39;49m\u001b[38;5;124;43m\"\u001b[39;49m\u001b[43m)\u001b[49m\u001b[43m)\u001b[49m\n\u001b[0;32m      3\u001b[0m     numbers\u001b[38;5;241m=\u001b[39m\u001b[38;5;28mlist\u001b[39m(\u001b[38;5;28mmap\u001b[39m(\u001b[38;5;28mint\u001b[39m,\u001b[38;5;28minput\u001b[39m()\u001b[38;5;241m.\u001b[39msplit()))\n\u001b[0;32m      4\u001b[0m     result\u001b[38;5;241m=\u001b[39mmaximumElements(n,numbers)\n",
      "\u001b[1;31mValueError\u001b[0m: invalid literal for int() with base 10: ''"
     ]
    }
   ],
   "source": [
    "if __name__ == \"__main__\":\n",
    "    n=int(input(\"Enter the length of array:-\"))\n",
    "    numbers=list(map(int,input().split()))\n",
    "    result=maximumElements(n,numbers)\n",
    "    print(result)"
   ]
  },
  {
   "cell_type": "code",
   "execution_count": 10,
   "id": "59ab6709",
   "metadata": {},
   "outputs": [
    {
     "name": "stdout",
     "output_type": "stream",
     "text": [
      "Max of arr1: 10\n",
      "Max of arr2: -2\n",
      "Max of arr3: 5\n",
      "Max of arr4: -1\n"
     ]
    }
   ],
   "source": [
    "# 🔽 Test Case 1\n",
    "arr1 = [3, 8, 1, 10, 5]\n",
    "print(\"Max of arr1:\", maximumElements(len(arr1), arr1))\n",
    "\n",
    "# 🔽 Test Case 2\n",
    "arr2 = [-7, -4, -9, -2]\n",
    "print(\"Max of arr2:\", maximumElements(len(arr2), arr2))\n",
    "\n",
    "# 🔽 Test Case 3\n",
    "arr3 = [5, 5, 5]\n",
    "print(\"Max of arr3:\", maximumElements(len(arr3), arr3))\n",
    "\n",
    "# 🔽 Test Case 4 (Empty Array)\n",
    "arr4 = []\n",
    "print(\"Max of arr4:\", maximumElements(len(arr4), arr4))"
   ]
  },
  {
   "cell_type": "markdown",
   "id": "0d7c110e",
   "metadata": {},
   "source": [
    "# [2] Remove Duplicates from a List:"
   ]
  },
  {
   "cell_type": "markdown",
   "id": "dbf1b6d6",
   "metadata": {},
   "source": [
    "**Question:** Write a function to remove duplicate elements from a list.\n",
    "\n",
    "**Logic** Use a loop or convert the list to a set and back to a list.\n",
    "\n",
    "**Sample Input**: [1, 2, 2, 3, 4, 4, 5]\n",
    "\n",
    "**Expected Output**: [1, 2, 3, 4, 5]"
   ]
  },
  {
   "cell_type": "markdown",
   "id": "d5fbc370",
   "metadata": {},
   "source": [
    "using dictionary data structure"
   ]
  },
  {
   "cell_type": "code",
   "execution_count": 19,
   "id": "2d039093",
   "metadata": {},
   "outputs": [],
   "source": [
    "def remove_duplicate(n,numbers):\n",
    "    hashmap=dict()\n",
    "    list1=[]\n",
    "    for i in range(0,n,1):\n",
    "        hashmap[numbers[i]]=hashmap.get(numbers[i],0)+1\n",
    "    for i in hashmap.keys():\n",
    "        list1.append(i)\n",
    "    return list1\n",
    "        "
   ]
  },
  {
   "cell_type": "code",
   "execution_count": 20,
   "id": "6adefa1f",
   "metadata": {},
   "outputs": [
    {
     "name": "stdout",
     "output_type": "stream",
     "text": [
      "[1, 2, 3, 4]\n",
      "[5, 6, 7]\n",
      "[9]\n",
      "[]\n"
     ]
    }
   ],
   "source": [
    "arr1 = [1, 2, 2, 3, 4, 1]\n",
    "print(remove_duplicate(len(arr1), arr1))\n",
    "# Output: [1, 2, 3, 4]\n",
    "\n",
    "arr2 = [5, 6, 7]\n",
    "print(remove_duplicate(len(arr2), arr2))\n",
    "# Output: [5, 6, 7]\n",
    "\n",
    "arr3 = [9, 9, 9, 9]\n",
    "print(remove_duplicate(len(arr3), arr3))\n",
    "# Output: [9]\n",
    "\n",
    "arr4 = []\n",
    "print(remove_duplicate(len(arr4), arr4))\n",
    "# Output: []"
   ]
  },
  {
   "cell_type": "markdown",
   "id": "63ae6804",
   "metadata": {},
   "source": [
    "brute using set data structure"
   ]
  },
  {
   "cell_type": "code",
   "execution_count": 11,
   "id": "4b9d9479",
   "metadata": {},
   "outputs": [],
   "source": [
    "def remove_duplicate(n,numbers):\n",
    "    count=0\n",
    "    set1=set()\n",
    "    list1=[]\n",
    "    if n==0:\n",
    "        return []\n",
    "    for i in range(0,n,1):\n",
    "        if numbers[i] not in set1:\n",
    "            set1.add(numbers[i])\n",
    "            list1.append(numbers[i])\n",
    "    return list1"
   ]
  },
  {
   "cell_type": "code",
   "execution_count": 15,
   "id": "12f17ace",
   "metadata": {},
   "outputs": [
    {
     "name": "stdout",
     "output_type": "stream",
     "text": [
      "[3]\n"
     ]
    }
   ],
   "source": [
    "if __name__==\"__main__\":\n",
    "    length=int(input(\"Enter the length of array:-\"))\n",
    "    numbers=list(map(int,input(\"Enter list element:-\").split()))\n",
    "    result=remove_duplicate(length,numbers)\n",
    "    print(result)"
   ]
  },
  {
   "cell_type": "code",
   "execution_count": 12,
   "id": "99295997",
   "metadata": {},
   "outputs": [
    {
     "name": "stdout",
     "output_type": "stream",
     "text": [
      "[1, 2, 3, 4]\n",
      "[5, 6, 7]\n",
      "[9]\n",
      "[]\n"
     ]
    }
   ],
   "source": [
    "arr1 = [1, 2, 2, 3, 4, 1]\n",
    "print(remove_duplicate(len(arr1), arr1))\n",
    "# Output: [1, 2, 3, 4]\n",
    "\n",
    "arr2 = [5, 6, 7]\n",
    "print(remove_duplicate(len(arr2), arr2))\n",
    "# Output: [5, 6, 7]\n",
    "\n",
    "arr3 = [9, 9, 9, 9]\n",
    "print(remove_duplicate(len(arr3), arr3))\n",
    "# Output: [9]\n",
    "\n",
    "arr4 = []\n",
    "print(remove_duplicate(len(arr4), arr4))\n",
    "# Output: []\n"
   ]
  },
  {
   "cell_type": "markdown",
   "id": "b071f5c8",
   "metadata": {},
   "source": [
    "# [3] Reverse a List:"
   ]
  },
  {
   "cell_type": "markdown",
   "id": "42af0391",
   "metadata": {},
   "source": [
    "**Question**: Write a function to reverse the order of elements in a list.\n",
    "\n",
    "**Logic**: Use list slicing or a loop to reverse the elements.\n",
    "\n",
    "**Sample Input**: [1, 2, 3, 4, 5]\n",
    "\n",
    "**Expected Output**: [5, 4, 3, 2, 1]"
   ]
  },
  {
   "cell_type": "markdown",
   "id": "8e9b9418",
   "metadata": {},
   "source": [
    "brute approach"
   ]
  },
  {
   "cell_type": "code",
   "execution_count": 22,
   "id": "1cb48b65",
   "metadata": {},
   "outputs": [],
   "source": [
    "def reverse_array(n,numbers):\n",
    "    if n==0:\n",
    "        return []\n",
    "    list1=[]\n",
    "    for i in range(n-1,-1,-1):\n",
    "        list1.append(numbers[i])\n",
    "    return list1"
   ]
  },
  {
   "cell_type": "code",
   "execution_count": 23,
   "id": "8803cd15",
   "metadata": {},
   "outputs": [
    {
     "name": "stdout",
     "output_type": "stream",
     "text": [
      "[50, 40, 30, 20, 10]\n",
      "[3, 2, 1]\n",
      "[42]\n",
      "[]\n",
      "[5, 5, 5, 5]\n"
     ]
    }
   ],
   "source": [
    "print(reverse_array(5, [10, 20, 30, 40, 50]))   # ❌ IndexError: numbers[5] out of range\n",
    "print(reverse_array(3, [1, 2, 3]))              # ❌ IndexError: numbers[3] out of range\n",
    "print(reverse_array(1, [42]))                  # ❌ IndexError: numbers[1] out of range\n",
    "print(reverse_array(0, []))                    # ✅ Output: []\n",
    "print(reverse_array(4, [5, 5, 5, 5]))           # ❌ IndexError: numbers[4] out of range\n"
   ]
  },
  {
   "cell_type": "code",
   "execution_count": 24,
   "id": "14be8804",
   "metadata": {},
   "outputs": [
    {
     "name": "stdout",
     "output_type": "stream",
     "text": [
      "[3, 2, 1]\n"
     ]
    }
   ],
   "source": [
    "if __name__==\"__main__\":\n",
    "    no=int(input(\"Enter the length of list:-\"))\n",
    "    numbers=list(map(int,input(\"Enter the number element:-\").split()))\n",
    "    result=reverse_array(no,numbers)\n",
    "    print(result)"
   ]
  },
  {
   "cell_type": "markdown",
   "id": "22cfce61",
   "metadata": {},
   "source": [
    "in build method"
   ]
  },
  {
   "cell_type": "code",
   "execution_count": 29,
   "id": "cc2e8f3e",
   "metadata": {},
   "outputs": [],
   "source": [
    "def reverse_array(n,numbers):\n",
    "    if n==0:\n",
    "        return []\n",
    "    list1=list(reversed(numbers))\n",
    "    return list1"
   ]
  },
  {
   "cell_type": "code",
   "execution_count": 30,
   "id": "4780bba1",
   "metadata": {},
   "outputs": [
    {
     "name": "stdout",
     "output_type": "stream",
     "text": [
      "[50, 40, 30, 20, 10]\n",
      "[3, 2, 1]\n",
      "[42]\n",
      "[]\n",
      "[5, 5, 5, 5]\n"
     ]
    }
   ],
   "source": [
    "print(reverse_array(5, [10, 20, 30, 40, 50]))   # ❌ IndexError: numbers[5] out of range\n",
    "print(reverse_array(3, [1, 2, 3]))              # ❌ IndexError: numbers[3] out of range\n",
    "print(reverse_array(1, [42]))                  # ❌ IndexError: numbers[1] out of range\n",
    "print(reverse_array(0, []))                    # ✅ Output: []\n",
    "print(reverse_array(4, [5, 5, 5, 5]))    "
   ]
  },
  {
   "cell_type": "markdown",
   "id": "4f12c58b",
   "metadata": {},
   "source": [
    "# [4] Check for Palindromic List:\n",
    "\n",
    "**Question**: Write a function to check if a list is a palindrome.\n",
    "\n",
    " **Logic**: Compare the list with its reverse.\n",
    "\n",
    " **Sample Input**: [1, 2, 3, 2, 1]\n",
    "\n",
    " **Expected Output**: Palindrome\n",
    " "
   ]
  },
  {
   "cell_type": "code",
   "execution_count": 36,
   "id": "c7d4f664",
   "metadata": {},
   "outputs": [],
   "source": [
    "def palindrome(n,number):\n",
    "\n",
    "    if number== number[::-1]:\n",
    "        return True\n",
    "    else:\n",
    "        return False\n",
    "    "
   ]
  },
  {
   "cell_type": "code",
   "execution_count": 38,
   "id": "d3a5b67b",
   "metadata": {},
   "outputs": [
    {
     "name": "stdout",
     "output_type": "stream",
     "text": [
      "True\n"
     ]
    }
   ],
   "source": [
    "if __name__==\"__main__\":\n",
    "    no=int(input(\"Enter the length of the array:-\"))\n",
    "    numbers=list(map(int,input().split()))\n",
    "    result=palindrome(n,numbers)\n",
    "    print(result)"
   ]
  },
  {
   "cell_type": "code",
   "execution_count": 32,
   "id": "d02cc4b1",
   "metadata": {},
   "outputs": [
    {
     "name": "stdout",
     "output_type": "stream",
     "text": [
      "True\n",
      "True\n",
      "True\n",
      "True\n",
      "False\n",
      "True\n",
      "True\n"
     ]
    }
   ],
   "source": [
    "print(palindrome(5, \"12321\"))   # True → Odd length palindrome\n",
    "print(palindrome(6, \"123321\"))  # True → Even length palindrome\n",
    "print(palindrome(3, \"121\"))     # True\n",
    "print(palindrome(4, \"1221\"))    # True\n",
    "print(palindrome(4, \"1234\"))    # False → Not a palindrome\n",
    "print(palindrome(1, \"7\"))       # True → Single-digit/string is always a palindrome\n",
    "print(palindrome(0, \"\"))        # True → Empty string is considered a palindrome\n"
   ]
  },
  {
   "cell_type": "markdown",
   "id": "74a8768a",
   "metadata": {},
   "source": [
    "# [5] Find Common Elements in Two Lists:\n",
    "\n",
    "### Question:\n",
    "Write a function to find common elements between two lists.\n",
    "\n",
    "---\n",
    "\n",
    "### Logic:\n",
    "Use list comprehensions or a loop to compare elements.\n",
    "\n",
    "---\n",
    "\n",
    "### Sample Input:\n",
    "- [1, 2, 3, 4]  \n",
    "- [3, 4, 5, 6]\n",
    "\n",
    "---\n",
    "\n",
    "### Expected Output:\n",
    "- [3, 4]\n",
    "\n"
   ]
  },
  {
   "cell_type": "code",
   "execution_count": 42,
   "id": "ba8f8510",
   "metadata": {},
   "outputs": [],
   "source": [
    "def common_elements(l1,arr1,l2,arr2):\n",
    "    list1=[]\n",
    "    for i in range(0,l1,1):\n",
    "            if arr1[i] in arr2:\n",
    "                list1.append(arr1[i])\n",
    "                \n",
    "    return list1"
   ]
  },
  {
   "cell_type": "code",
   "execution_count": 39,
   "id": "25c079e3",
   "metadata": {},
   "outputs": [
    {
     "ename": "ValueError",
     "evalue": "invalid literal for int() with base 10: ''",
     "output_type": "error",
     "traceback": [
      "\u001b[1;31m---------------------------------------------------------------------------\u001b[0m",
      "\u001b[1;31mValueError\u001b[0m                                Traceback (most recent call last)",
      "Cell \u001b[1;32mIn[39], line 2\u001b[0m\n\u001b[0;32m      1\u001b[0m \u001b[38;5;28;01mif\u001b[39;00m \u001b[38;5;18m__name__\u001b[39m\u001b[38;5;241m==\u001b[39m\u001b[38;5;124m\"\u001b[39m\u001b[38;5;124m__main__\u001b[39m\u001b[38;5;124m\"\u001b[39m:\n\u001b[1;32m----> 2\u001b[0m     l1\u001b[38;5;241m=\u001b[39m\u001b[38;5;28;43mint\u001b[39;49m\u001b[43m(\u001b[49m\u001b[38;5;28;43minput\u001b[39;49m\u001b[43m(\u001b[49m\u001b[38;5;124;43m\"\u001b[39;49m\u001b[38;5;124;43mEnter the length of arry 1:-\u001b[39;49m\u001b[38;5;124;43m\"\u001b[39;49m\u001b[43m)\u001b[49m\u001b[43m)\u001b[49m\n\u001b[0;32m      3\u001b[0m     arr1\u001b[38;5;241m=\u001b[39m\u001b[38;5;28mlist\u001b[39m(\u001b[38;5;28mmap\u001b[39m(\u001b[38;5;28mint\u001b[39m,\u001b[38;5;28minput\u001b[39m(\u001b[38;5;124m\"\u001b[39m\u001b[38;5;124mEnter the arrr1 element:-\u001b[39m\u001b[38;5;124m\"\u001b[39m)\u001b[38;5;241m.\u001b[39msplit()))\n\u001b[0;32m      4\u001b[0m     l2\u001b[38;5;241m=\u001b[39m\u001b[38;5;28mint\u001b[39m(\u001b[38;5;28minput\u001b[39m(\u001b[38;5;124m\"\u001b[39m\u001b[38;5;124mEnter the length of arry 2:-\u001b[39m\u001b[38;5;124m\"\u001b[39m))\n",
      "\u001b[1;31mValueError\u001b[0m: invalid literal for int() with base 10: ''"
     ]
    }
   ],
   "source": [
    "if __name__==\"__main__\":\n",
    "    l1=int(input(\"Enter the length of arry 1:-\"))\n",
    "    arr1=list(map(int,input(\"Enter the arrr1 element:-\").split()))\n",
    "    l2=int(input(\"Enter the length of arry 2:-\"))\n",
    "    arr2=list(map(int,input(\"Enter the arrr2 element:-\").split()))\n",
    "    result=common_elements(l1,arr1,l2,arr2)\n",
    "    print(result)\n",
    "    \n",
    "    "
   ]
  },
  {
   "cell_type": "code",
   "execution_count": 43,
   "id": "e52384da",
   "metadata": {},
   "outputs": [
    {
     "name": "stdout",
     "output_type": "stream",
     "text": [
      "[3, 4]\n",
      "[]\n",
      "[1, 2, 3]\n",
      "[]\n",
      "[2, 2, 3, 3]\n",
      "[]\n"
     ]
    }
   ],
   "source": [
    "# Test Case 1: Normal case with common elements\n",
    "print(common_elements(4, [1, 2, 3, 4], 4, [3, 4, 5, 6]))\n",
    "# Output: [3, 4]\n",
    "\n",
    "# Test Case 2: No common elements\n",
    "print(common_elements(3, [1, 2, 7], 3, [3, 4, 5]))\n",
    "# Output: []\n",
    "\n",
    "# Test Case 3: All elements are common\n",
    "print(common_elements(3, [1, 2, 3], 3, [1, 2, 3]))\n",
    "# Output: [1, 2, 3]\n",
    "\n",
    "# Test Case 4: One list is empty\n",
    "print(common_elements(0, [], 3, [1, 2, 3]))\n",
    "# Output: []\n",
    "\n",
    "# Test Case 5: Duplicates in first list\n",
    "print(common_elements(6, [1, 2, 2, 3, 3, 4], 4, [2, 3]))\n",
    "# Output: [2, 2, 3, 3]\n",
    "\n",
    "# Test Case 6: Second list is empty\n",
    "print(common_elements(3, [1, 2, 3], 0, []))\n",
    "# Output: []\n"
   ]
  },
  {
   "cell_type": "markdown",
   "id": "e6df127c",
   "metadata": {},
   "source": [
    "approach-2"
   ]
  },
  {
   "cell_type": "code",
   "execution_count": null,
   "id": "4898ed8a",
   "metadata": {},
   "outputs": [],
   "source": [
    "def common_elements(l1,arr1,l2,arr2):\n",
    "    list1=[]\n",
    "    for i in range(0,l1,1):\n",
    "            if arr1[i] in arr2:\n",
    "                list1.append(arr1[i])\n",
    "                \n",
    "    return list1"
   ]
  },
  {
   "cell_type": "markdown",
   "id": "2e33d63a",
   "metadata": {},
   "source": [
    "# [6] Merge Two Sorted Lists:"
   ]
  },
  {
   "cell_type": "markdown",
   "id": "e524d9c3",
   "metadata": {},
   "source": [
    "### Question:\n",
    "Write a function to merge two sorted lists into a single sorted list.\n",
    "\n",
    "---\n",
    "\n",
    "### Logic:\n",
    "Use two pointers to iterate through the lists and merge them.\n",
    "\n",
    "---\n",
    "\n",
    "### Sample Input:\n",
    "- [1, 3, 5]  \n",
    "- [2, 4, 6]\n",
    "\n",
    "---\n",
    "\n",
    "### Expected Output:\n",
    "- [1, 2, 3, 4, 5, 6]\n"
   ]
  },
  {
   "cell_type": "markdown",
   "id": "d2056f59",
   "metadata": {},
   "source": [
    "brute approach"
   ]
  },
  {
   "cell_type": "code",
   "execution_count": 46,
   "id": "ba6463af",
   "metadata": {},
   "outputs": [],
   "source": [
    "def merge_two_sorted_list(arr1,arr2):\n",
    "    l1=len(arr1)\n",
    "    l2=len(arr2)\n",
    "    for i in range(0,l2,1):\n",
    "     if arr2[i] not in arr1:\n",
    "        arr1.append(arr2[i])\n",
    "    arr1.sort()\n",
    "    return arr1\n",
    "    "
   ]
  },
  {
   "cell_type": "code",
   "execution_count": null,
   "id": "4f8f4b5f",
   "metadata": {},
   "outputs": [],
   "source": [
    "if __name__==\"__main__\":\n",
    "    arr1=list(map(int,input(\"Enter the Elements of the array-1\").split()))\n",
    "    arr2=list(map(int,input(\"Enter the Elements of array 2\").split()))\n",
    "    result=merge_two_sorted_list(arr1,arr2)\n",
    "    print(result)"
   ]
  },
  {
   "cell_type": "code",
   "execution_count": 68,
   "id": "4338990c",
   "metadata": {},
   "outputs": [],
   "source": [
    "def merge_two_sorted_list(arr1, arr2):\n",
    "    i = 0\n",
    "    j = 0\n",
    "    merged = []\n",
    "\n",
    "    while i < len(arr1) and j < len(arr2):\n",
    "        if arr1[i] <= arr2[j]:\n",
    "            merged.append(arr1[i])\n",
    "            i += 1\n",
    "        else:\n",
    "            merged.append(arr2[j])\n",
    "            j += 1\n",
    "\n",
    "    # Add remaining elements from arr1\n",
    "    while i < len(arr1):\n",
    "        merged.append(arr1[i])\n",
    "        i += 1\n",
    "\n",
    "    # Add remaining elements from arr2\n",
    "    while j < len(arr2):\n",
    "        merged.append(arr2[j])\n",
    "        j += 1\n",
    "\n",
    "    return merged\n"
   ]
  },
  {
   "cell_type": "code",
   "execution_count": 69,
   "id": "9b1660a3",
   "metadata": {},
   "outputs": [
    {
     "name": "stdout",
     "output_type": "stream",
     "text": [
      "[2, 4, 6]\n",
      "[]\n",
      "[1, 2, 2, 3]\n",
      "[-10, -5, 0, 2, 3]\n"
     ]
    }
   ],
   "source": [
    "print(merge_two_sorted_list([], [2, 4, 6]))       # arr1 empty\n",
    "print(merge_two_sorted_list([], []))             # both empty\n",
    "print(merge_two_sorted_list([1, 2], [2, 3]))      # duplicates\n",
    "print(merge_two_sorted_list([-5, 0, 3], [-10, 2])) # includes negatives\n"
   ]
  },
  {
   "cell_type": "markdown",
   "id": "0da12fc4",
   "metadata": {},
   "source": [
    "2 pointer approach"
   ]
  },
  {
   "cell_type": "code",
   "execution_count": 66,
   "id": "f2019e7a",
   "metadata": {},
   "outputs": [],
   "source": [
    "def merge_two_sorted_list(arr1, arr2):\n",
    "    l1 = len(arr1)\n",
    "    l2 = len(arr2)\n",
    "    i = 0\n",
    "    j = 0\n",
    "    list1 = []\n",
    "\n",
    "    while i < l1 and j < l2:\n",
    "        if arr1[i] < arr2[j]:\n",
    "            list1.append(arr1[i])\n",
    "            i += 1\n",
    "        else:\n",
    "            list1.append(arr2[j])\n",
    "            j += 1\n",
    "\n",
    "    # Add remaining elements from arr1 or arr2\n",
    "    while i < l1:\n",
    "        list1.append(arr1[i])\n",
    "        i += 1\n",
    "    while j < l2:\n",
    "        list1.append(arr2[j])\n",
    "        j += 1\n",
    "\n",
    "    return list1\n"
   ]
  },
  {
   "cell_type": "code",
   "execution_count": 67,
   "id": "56438c68",
   "metadata": {},
   "outputs": [
    {
     "name": "stdout",
     "output_type": "stream",
     "text": [
      "[2, 4, 6]\n",
      "[]\n",
      "[1, 2, 2, 3]\n",
      "[-10, -5, 0, 2, 3]\n"
     ]
    }
   ],
   "source": [
    "print(merge_two_sorted_list([], [2, 4, 6]))       # arr1 empty\n",
    "print(merge_two_sorted_list([], []))             # both empty\n",
    "print(merge_two_sorted_list([1, 2], [2, 3]))      # duplicates\n",
    "print(merge_two_sorted_list([-5, 0, 3], [-10, 2])) # includes negatives\n"
   ]
  },
  {
   "cell_type": "markdown",
   "id": "f3df27cc",
   "metadata": {},
   "source": [
    "# [7] Calculate the Sum of List Elements:"
   ]
  },
  {
   "cell_type": "markdown",
   "id": "9b62d775",
   "metadata": {},
   "source": [
    "### Question:  \n",
    "Write a function to calculate the sum of all elements in a list.\n",
    "\n",
    "### Logic:  \n",
    "Use a loop to iterate through the list and accumulate the sum.\n",
    "\n",
    "### Sample Input:  \n",
    "[1, 2, 3, 4, 5]\n",
    "\n",
    "### Expected Output:  \n",
    "15\n"
   ]
  },
  {
   "cell_type": "markdown",
   "id": "7340b0f0",
   "metadata": {},
   "source": [
    "brute -or optimal"
   ]
  },
  {
   "cell_type": "code",
   "execution_count": null,
   "id": "c340f4a7",
   "metadata": {},
   "outputs": [],
   "source": [
    "def sum_of_list(n,list1):\n",
    "    sum=0\n",
    "    for i in list1:\n",
    "        sum=sum+i\n",
    "    return sum\n",
    "    "
   ]
  },
  {
   "cell_type": "code",
   "execution_count": 71,
   "id": "c89527f8",
   "metadata": {},
   "outputs": [
    {
     "name": "stdout",
     "output_type": "stream",
     "text": [
      "4\n"
     ]
    }
   ],
   "source": [
    "if __name__==\"__main__\":\n",
    "    length=int(input(\"Enter the length of list:-\"))\n",
    "    list1=list(map(int,input(\"Enter list elements:-\").split()))\n",
    "    result=sum_of_list(length,list1)\n",
    "    print(result)"
   ]
  },
  {
   "cell_type": "code",
   "execution_count": 72,
   "id": "ef451a3e",
   "metadata": {},
   "outputs": [
    {
     "name": "stdout",
     "output_type": "stream",
     "text": [
      "0\n",
      "-6\n",
      "2\n"
     ]
    }
   ],
   "source": [
    "print(sum_of_list(0, []))  # Expected: 0\n",
    "print(sum_of_list(3, [-1, -2, -3]))  # Expected: -6\n",
    "print(sum_of_list(5, [0, -2, 3, -1, 2]))  # Expected: 2\n"
   ]
  },
  {
   "cell_type": "markdown",
   "id": "45d1e1a7",
   "metadata": {},
   "source": [
    "# [8] Count Occurrences of an Element in a List:"
   ]
  },
  {
   "cell_type": "markdown",
   "id": "25bab65d",
   "metadata": {},
   "source": [
    "### Question:  \n",
    "Write a function to count how many times a specific element appears in a list.\n",
    "\n",
    "### Logic:  \n",
    "Use a loop to count occurrences.\n",
    "\n",
    "### Sample Input:  \n",
    "[1, 2, 2, 3, 4, 2] and 2\n",
    "\n",
    "### Expected Output:  \n",
    "3\n"
   ]
  },
  {
   "cell_type": "code",
   "execution_count": 74,
   "id": "2853206b",
   "metadata": {},
   "outputs": [],
   "source": [
    "def count_occ_elemnt(len,lsit1,elem):\n",
    "    count=0\n",
    "    if elem not in lsit1:\n",
    "        return -1\n",
    "    for i in lsit1:\n",
    "        if i==elem:\n",
    "            count=count+1\n",
    "    return count"
   ]
  },
  {
   "cell_type": "code",
   "execution_count": 76,
   "id": "462e5892",
   "metadata": {},
   "outputs": [
    {
     "name": "stdout",
     "output_type": "stream",
     "text": [
      "3\n"
     ]
    }
   ],
   "source": [
    "if __name__==\"__main__\":\n",
    "    length=int(input(\"Enter the length of list:-\"))\n",
    "    list1=list(map(int,input(\"Enter list elements:-\").split()))\n",
    "    el=int(input(\"Enter the element of list:-\"))\n",
    "    result=count_occ_elemnt(length,list1,el)\n",
    "    print(result)"
   ]
  },
  {
   "cell_type": "code",
   "execution_count": 75,
   "id": "cfc54948",
   "metadata": {},
   "outputs": [
    {
     "name": "stdout",
     "output_type": "stream",
     "text": [
      "3\n",
      "1\n",
      "-1\n",
      "-1\n"
     ]
    }
   ],
   "source": [
    "print(count_occ_elemnt(5, [1, 2, 3, 2, 2], 2))  # Expected: 3\n",
    "print(count_occ_elemnt(4, [5, 6, 7, 8], 7))  # Expected: 1\n",
    "print(count_occ_elemnt(3, [1, 2, 3], 9))  # Expected: -1\n",
    "print(count_occ_elemnt(0, [], 1))  # Expected: -1\n"
   ]
  },
  {
   "cell_type": "markdown",
   "id": "19bac49f",
   "metadata": {},
   "source": [
    "# [9] Find the Second Largest Element in a List:"
   ]
  },
  {
   "cell_type": "markdown",
   "id": "282f77aa",
   "metadata": {},
   "source": [
    "### Question:  \n",
    "Write a function to find the second largest element in a list.\n",
    "\n",
    "### Logic:  \n",
    "Iterate through the list and keep track of the largest and second largest elements.\n",
    "\n",
    "### Sample Input:  \n",
    "[3, 8, 1, 10, 5]\n",
    "\n",
    "### Expected Output:  \n",
    "8\n"
   ]
  },
  {
   "cell_type": "code",
   "execution_count": null,
   "id": "1d4f9450",
   "metadata": {},
   "outputs": [],
   "source": []
  },
  {
   "cell_type": "code",
   "execution_count": null,
   "id": "fc09b0aa",
   "metadata": {},
   "outputs": [],
   "source": []
  },
  {
   "cell_type": "markdown",
   "id": "3b24604a",
   "metadata": {},
   "source": [
    "# [10] Generate a List of Prime Numbers:"
   ]
  },
  {
   "cell_type": "markdown",
   "id": "b88c2469",
   "metadata": {},
   "source": [
    "### Question:  \n",
    "Write a function to generate a list of prime numbers within a given range.\n",
    "\n",
    "### Logic:  \n",
    "Use loops and checks to find prime numbers.\n",
    "\n",
    "### Sample Input:  \n",
    "Range: 1 to 20\n",
    "\n",
    "### Expected Output:  \n",
    "List of Prime Numbers: [2, 3, 5, 7, 11, 13, 17, 19]\n"
   ]
  },
  {
   "cell_type": "code",
   "execution_count": 79,
   "id": "75d3c43b",
   "metadata": {},
   "outputs": [],
   "source": [
    "def generate_prime_range(start, end):\n",
    "    prime_list = []\n",
    "    \n",
    "    for number in range(start, end + 1):\n",
    "        if number <= 1:\n",
    "            continue\n",
    "        is_prime = True\n",
    "        \n",
    "        for i in range(2, number):\n",
    "            if number % i == 0:\n",
    "                is_prime = False\n",
    "                break\n",
    "        \n",
    "        if is_prime:\n",
    "            prime_list.append(number)\n",
    "    \n",
    "    return prime_list\n"
   ]
  },
  {
   "cell_type": "code",
   "execution_count": 80,
   "id": "aa31093e",
   "metadata": {},
   "outputs": [
    {
     "name": "stdout",
     "output_type": "stream",
     "text": [
      "[2, 3, 5, 7, 11, 13, 17, 19]\n"
     ]
    }
   ],
   "source": [
    "print(generate_prime_range(1, 20))\n",
    "# Output: [2, 3, 5, 7, 11, 13, 17, 19]\n"
   ]
  }
 ],
 "metadata": {
  "kernelspec": {
   "display_name": "Python 3",
   "language": "python",
   "name": "python3"
  },
  "language_info": {
   "codemirror_mode": {
    "name": "ipython",
    "version": 3
   },
   "file_extension": ".py",
   "mimetype": "text/x-python",
   "name": "python",
   "nbconvert_exporter": "python",
   "pygments_lexer": "ipython3",
   "version": "3.13.1"
  }
 },
 "nbformat": 4,
 "nbformat_minor": 5
}
