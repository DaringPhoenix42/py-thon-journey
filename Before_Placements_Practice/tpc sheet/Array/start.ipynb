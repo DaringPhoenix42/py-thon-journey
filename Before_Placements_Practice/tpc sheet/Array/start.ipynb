{
 "cells": [
  {
   "cell_type": "markdown",
   "id": "b8a6482a",
   "metadata": {},
   "source": [
    "# [1] Find the Maximum Element in a List:"
   ]
  },
  {
   "cell_type": "markdown",
   "id": "66b44c06",
   "metadata": {},
   "source": [
    "**Question:** Write a function to find the largest element in a list.  \n",
    "**Logic:** Iterate through the list and keep track of the maximum element.  \n",
    "**Sample Input:** [3, 8, 1, 10, 5]  \n",
    "**Expected Output:** 10\n"
   ]
  },
  {
   "cell_type": "code",
   "execution_count": 9,
   "id": "86a5063d",
   "metadata": {},
   "outputs": [],
   "source": [
    "def maximumElements(n,numbers):\n",
    "    minimum_no=float('-inf')\n",
    "    maximumElements=float('-inf')\n",
    "    if n==0:\n",
    "        return -1\n",
    "    \n",
    "    for i in range(0,n,1):\n",
    "        if numbers[i]>maximumElements:\n",
    "            maximumElements=numbers[i]\n",
    "        else:\n",
    "            continue\n",
    "        \n",
    "    if maximumElements==float('-inf'):\n",
    "        return -1\n",
    "    else:\n",
    "        return maximumElements\n"
   ]
  },
  {
   "cell_type": "code",
   "execution_count": 6,
   "id": "c5916683",
   "metadata": {},
   "outputs": [
    {
     "ename": "ValueError",
     "evalue": "invalid literal for int() with base 10: ''",
     "output_type": "error",
     "traceback": [
      "\u001b[1;31m---------------------------------------------------------------------------\u001b[0m",
      "\u001b[1;31mValueError\u001b[0m                                Traceback (most recent call last)",
      "Cell \u001b[1;32mIn[6], line 2\u001b[0m\n\u001b[0;32m      1\u001b[0m \u001b[38;5;28;01mif\u001b[39;00m \u001b[38;5;18m__name__\u001b[39m \u001b[38;5;241m==\u001b[39m \u001b[38;5;124m\"\u001b[39m\u001b[38;5;124m__main__\u001b[39m\u001b[38;5;124m\"\u001b[39m:\n\u001b[1;32m----> 2\u001b[0m     n\u001b[38;5;241m=\u001b[39m\u001b[38;5;28;43mint\u001b[39;49m\u001b[43m(\u001b[49m\u001b[38;5;28;43minput\u001b[39;49m\u001b[43m(\u001b[49m\u001b[38;5;124;43m\"\u001b[39;49m\u001b[38;5;124;43mEnter the length of array:-\u001b[39;49m\u001b[38;5;124;43m\"\u001b[39;49m\u001b[43m)\u001b[49m\u001b[43m)\u001b[49m\n\u001b[0;32m      3\u001b[0m     numbers\u001b[38;5;241m=\u001b[39m\u001b[38;5;28mlist\u001b[39m(\u001b[38;5;28mmap\u001b[39m(\u001b[38;5;28mint\u001b[39m,\u001b[38;5;28minput\u001b[39m()\u001b[38;5;241m.\u001b[39msplit()))\n\u001b[0;32m      4\u001b[0m     result\u001b[38;5;241m=\u001b[39mmaximumElements(n,numbers)\n",
      "\u001b[1;31mValueError\u001b[0m: invalid literal for int() with base 10: ''"
     ]
    }
   ],
   "source": [
    "if __name__ == \"__main__\":\n",
    "    n=int(input(\"Enter the length of array:-\"))\n",
    "    numbers=list(map(int,input().split()))\n",
    "    result=maximumElements(n,numbers)\n",
    "    print(result)"
   ]
  },
  {
   "cell_type": "code",
   "execution_count": 10,
   "id": "59ab6709",
   "metadata": {},
   "outputs": [
    {
     "name": "stdout",
     "output_type": "stream",
     "text": [
      "Max of arr1: 10\n",
      "Max of arr2: -2\n",
      "Max of arr3: 5\n",
      "Max of arr4: -1\n"
     ]
    }
   ],
   "source": [
    "# 🔽 Test Case 1\n",
    "arr1 = [3, 8, 1, 10, 5]\n",
    "print(\"Max of arr1:\", maximumElements(len(arr1), arr1))\n",
    "\n",
    "# 🔽 Test Case 2\n",
    "arr2 = [-7, -4, -9, -2]\n",
    "print(\"Max of arr2:\", maximumElements(len(arr2), arr2))\n",
    "\n",
    "# 🔽 Test Case 3\n",
    "arr3 = [5, 5, 5]\n",
    "print(\"Max of arr3:\", maximumElements(len(arr3), arr3))\n",
    "\n",
    "# 🔽 Test Case 4 (Empty Array)\n",
    "arr4 = []\n",
    "print(\"Max of arr4:\", maximumElements(len(arr4), arr4))"
   ]
  },
  {
   "cell_type": "markdown",
   "id": "0d7c110e",
   "metadata": {},
   "source": [
    "# [2] Remove Duplicates from a List:"
   ]
  },
  {
   "cell_type": "markdown",
   "id": "dbf1b6d6",
   "metadata": {},
   "source": [
    "**Question:** Write a function to remove duplicate elements from a list.\n",
    "\n",
    "**Logic** Use a loop or convert the list to a set and back to a list.\n",
    "\n",
    "**Sample Input**: [1, 2, 2, 3, 4, 4, 5]\n",
    "\n",
    "**Expected Output**: [1, 2, 3, 4, 5]"
   ]
  },
  {
   "cell_type": "markdown",
   "id": "d5fbc370",
   "metadata": {},
   "source": [
    "using dictionary data structure"
   ]
  },
  {
   "cell_type": "code",
   "execution_count": 19,
   "id": "2d039093",
   "metadata": {},
   "outputs": [],
   "source": [
    "def remove_duplicate(n,numbers):\n",
    "    hashmap=dict()\n",
    "    list1=[]\n",
    "    for i in range(0,n,1):\n",
    "        hashmap[numbers[i]]=hashmap.get(numbers[i],0)+1\n",
    "    for i in hashmap.keys():\n",
    "        list1.append(i)\n",
    "    return list1\n",
    "        "
   ]
  },
  {
   "cell_type": "code",
   "execution_count": 20,
   "id": "6adefa1f",
   "metadata": {},
   "outputs": [
    {
     "name": "stdout",
     "output_type": "stream",
     "text": [
      "[1, 2, 3, 4]\n",
      "[5, 6, 7]\n",
      "[9]\n",
      "[]\n"
     ]
    }
   ],
   "source": [
    "arr1 = [1, 2, 2, 3, 4, 1]\n",
    "print(remove_duplicate(len(arr1), arr1))\n",
    "# Output: [1, 2, 3, 4]\n",
    "\n",
    "arr2 = [5, 6, 7]\n",
    "print(remove_duplicate(len(arr2), arr2))\n",
    "# Output: [5, 6, 7]\n",
    "\n",
    "arr3 = [9, 9, 9, 9]\n",
    "print(remove_duplicate(len(arr3), arr3))\n",
    "# Output: [9]\n",
    "\n",
    "arr4 = []\n",
    "print(remove_duplicate(len(arr4), arr4))\n",
    "# Output: []"
   ]
  },
  {
   "cell_type": "markdown",
   "id": "63ae6804",
   "metadata": {},
   "source": [
    "brute using set data structure"
   ]
  },
  {
   "cell_type": "code",
   "execution_count": 11,
   "id": "4b9d9479",
   "metadata": {},
   "outputs": [],
   "source": [
    "def remove_duplicate(n,numbers):\n",
    "    count=0\n",
    "    set1=set()\n",
    "    list1=[]\n",
    "    if n==0:\n",
    "        return []\n",
    "    for i in range(0,n,1):\n",
    "        if numbers[i] not in set1:\n",
    "            set1.add(numbers[i])\n",
    "            list1.append(numbers[i])\n",
    "    return list1"
   ]
  },
  {
   "cell_type": "code",
   "execution_count": 15,
   "id": "12f17ace",
   "metadata": {},
   "outputs": [
    {
     "name": "stdout",
     "output_type": "stream",
     "text": [
      "[3]\n"
     ]
    }
   ],
   "source": [
    "if __name__==\"__main__\":\n",
    "    length=int(input(\"Enter the length of array:-\"))\n",
    "    numbers=list(map(int,input(\"Enter list element:-\").split()))\n",
    "    result=remove_duplicate(length,numbers)\n",
    "    print(result)"
   ]
  },
  {
   "cell_type": "code",
   "execution_count": 12,
   "id": "99295997",
   "metadata": {},
   "outputs": [
    {
     "name": "stdout",
     "output_type": "stream",
     "text": [
      "[1, 2, 3, 4]\n",
      "[5, 6, 7]\n",
      "[9]\n",
      "[]\n"
     ]
    }
   ],
   "source": [
    "arr1 = [1, 2, 2, 3, 4, 1]\n",
    "print(remove_duplicate(len(arr1), arr1))\n",
    "# Output: [1, 2, 3, 4]\n",
    "\n",
    "arr2 = [5, 6, 7]\n",
    "print(remove_duplicate(len(arr2), arr2))\n",
    "# Output: [5, 6, 7]\n",
    "\n",
    "arr3 = [9, 9, 9, 9]\n",
    "print(remove_duplicate(len(arr3), arr3))\n",
    "# Output: [9]\n",
    "\n",
    "arr4 = []\n",
    "print(remove_duplicate(len(arr4), arr4))\n",
    "# Output: []\n"
   ]
  },
  {
   "cell_type": "markdown",
   "id": "b071f5c8",
   "metadata": {},
   "source": [
    "# [3] Reverse a List:"
   ]
  },
  {
   "cell_type": "markdown",
   "id": "42af0391",
   "metadata": {},
   "source": [
    "**Question**: Write a function to reverse the order of elements in a list.\n",
    "\n",
    "**Logic**: Use list slicing or a loop to reverse the elements.\n",
    "\n",
    "**Sample Input**: [1, 2, 3, 4, 5]\n",
    "\n",
    "**Expected Output**: [5, 4, 3, 2, 1]"
   ]
  },
  {
   "cell_type": "markdown",
   "id": "8e9b9418",
   "metadata": {},
   "source": [
    "brute approach"
   ]
  },
  {
   "cell_type": "code",
   "execution_count": 22,
   "id": "1cb48b65",
   "metadata": {},
   "outputs": [],
   "source": [
    "def reverse_array(n,numbers):\n",
    "    if n==0:\n",
    "        return []\n",
    "    list1=[]\n",
    "    for i in range(n-1,-1,-1):\n",
    "        list1.append(numbers[i])\n",
    "    return list1"
   ]
  },
  {
   "cell_type": "code",
   "execution_count": 23,
   "id": "8803cd15",
   "metadata": {},
   "outputs": [
    {
     "name": "stdout",
     "output_type": "stream",
     "text": [
      "[50, 40, 30, 20, 10]\n",
      "[3, 2, 1]\n",
      "[42]\n",
      "[]\n",
      "[5, 5, 5, 5]\n"
     ]
    }
   ],
   "source": [
    "print(reverse_array(5, [10, 20, 30, 40, 50]))   # ❌ IndexError: numbers[5] out of range\n",
    "print(reverse_array(3, [1, 2, 3]))              # ❌ IndexError: numbers[3] out of range\n",
    "print(reverse_array(1, [42]))                  # ❌ IndexError: numbers[1] out of range\n",
    "print(reverse_array(0, []))                    # ✅ Output: []\n",
    "print(reverse_array(4, [5, 5, 5, 5]))           # ❌ IndexError: numbers[4] out of range\n"
   ]
  },
  {
   "cell_type": "code",
   "execution_count": 24,
   "id": "14be8804",
   "metadata": {},
   "outputs": [
    {
     "name": "stdout",
     "output_type": "stream",
     "text": [
      "[3, 2, 1]\n"
     ]
    }
   ],
   "source": [
    "if __name__==\"__main__\":\n",
    "    no=int(input(\"Enter the length of list:-\"))\n",
    "    numbers=list(map(int,input(\"Enter the number element:-\").split()))\n",
    "    result=reverse_array(no,numbers)\n",
    "    print(result)"
   ]
  },
  {
   "cell_type": "markdown",
   "id": "22cfce61",
   "metadata": {},
   "source": [
    "in build method"
   ]
  },
  {
   "cell_type": "code",
   "execution_count": 29,
   "id": "cc2e8f3e",
   "metadata": {},
   "outputs": [],
   "source": [
    "def reverse_array(n,numbers):\n",
    "    if n==0:\n",
    "        return []\n",
    "    list1=list(reversed(numbers))\n",
    "    return list1"
   ]
  },
  {
   "cell_type": "code",
   "execution_count": 30,
   "id": "4780bba1",
   "metadata": {},
   "outputs": [
    {
     "name": "stdout",
     "output_type": "stream",
     "text": [
      "[50, 40, 30, 20, 10]\n",
      "[3, 2, 1]\n",
      "[42]\n",
      "[]\n",
      "[5, 5, 5, 5]\n"
     ]
    }
   ],
   "source": [
    "print(reverse_array(5, [10, 20, 30, 40, 50]))   # ❌ IndexError: numbers[5] out of range\n",
    "print(reverse_array(3, [1, 2, 3]))              # ❌ IndexError: numbers[3] out of range\n",
    "print(reverse_array(1, [42]))                  # ❌ IndexError: numbers[1] out of range\n",
    "print(reverse_array(0, []))                    # ✅ Output: []\n",
    "print(reverse_array(4, [5, 5, 5, 5]))    "
   ]
  },
  {
   "cell_type": "markdown",
   "id": "4f12c58b",
   "metadata": {},
   "source": [
    "# [4] Check for Palindromic List:\n",
    "\n",
    "**Question**: Write a function to check if a list is a palindrome.\n",
    "\n",
    " **Logic**: Compare the list with its reverse.\n",
    "\n",
    " **Sample Input**: [1, 2, 3, 2, 1]\n",
    "\n",
    " **Expected Output**: Palindrome\n",
    " "
   ]
  },
  {
   "cell_type": "code",
   "execution_count": 36,
   "id": "c7d4f664",
   "metadata": {},
   "outputs": [],
   "source": [
    "def palindrome(n,number):\n",
    "\n",
    "    if number== number[::-1]:\n",
    "        return True\n",
    "    else:\n",
    "        return False\n",
    "    "
   ]
  },
  {
   "cell_type": "code",
   "execution_count": 38,
   "id": "d3a5b67b",
   "metadata": {},
   "outputs": [
    {
     "name": "stdout",
     "output_type": "stream",
     "text": [
      "True\n"
     ]
    }
   ],
   "source": [
    "if __name__==\"__main__\":\n",
    "    no=int(input(\"Enter the length of the array:-\"))\n",
    "    numbers=list(map(int,input().split()))\n",
    "    result=palindrome(n,numbers)\n",
    "    print(result)"
   ]
  },
  {
   "cell_type": "code",
   "execution_count": 32,
   "id": "d02cc4b1",
   "metadata": {},
   "outputs": [
    {
     "name": "stdout",
     "output_type": "stream",
     "text": [
      "True\n",
      "True\n",
      "True\n",
      "True\n",
      "False\n",
      "True\n",
      "True\n"
     ]
    }
   ],
   "source": [
    "print(palindrome(5, \"12321\"))   # True → Odd length palindrome\n",
    "print(palindrome(6, \"123321\"))  # True → Even length palindrome\n",
    "print(palindrome(3, \"121\"))     # True\n",
    "print(palindrome(4, \"1221\"))    # True\n",
    "print(palindrome(4, \"1234\"))    # False → Not a palindrome\n",
    "print(palindrome(1, \"7\"))       # True → Single-digit/string is always a palindrome\n",
    "print(palindrome(0, \"\"))        # True → Empty string is considered a palindrome\n"
   ]
  },
  {
   "cell_type": "markdown",
   "id": "74a8768a",
   "metadata": {},
   "source": [
    "# [5] Find Common Elements in Two Lists:\n",
    "\n",
    "### Question:\n",
    "Write a function to find common elements between two lists.\n",
    "\n",
    "---\n",
    "\n",
    "### Logic:\n",
    "Use list comprehensions or a loop to compare elements.\n",
    "\n",
    "---\n",
    "\n",
    "### Sample Input:\n",
    "- [1, 2, 3, 4]  \n",
    "- [3, 4, 5, 6]\n",
    "\n",
    "---\n",
    "\n",
    "### Expected Output:\n",
    "- [3, 4]\n",
    "\n"
   ]
  },
  {
   "cell_type": "code",
   "execution_count": 42,
   "id": "ba8f8510",
   "metadata": {},
   "outputs": [],
   "source": [
    "def common_elements(l1,arr1,l2,arr2):\n",
    "    list1=[]\n",
    "    for i in range(0,l1,1):\n",
    "            if arr1[i] in arr2:\n",
    "                list1.append(arr1[i])\n",
    "                \n",
    "    return list1"
   ]
  },
  {
   "cell_type": "code",
   "execution_count": 39,
   "id": "25c079e3",
   "metadata": {},
   "outputs": [
    {
     "ename": "ValueError",
     "evalue": "invalid literal for int() with base 10: ''",
     "output_type": "error",
     "traceback": [
      "\u001b[1;31m---------------------------------------------------------------------------\u001b[0m",
      "\u001b[1;31mValueError\u001b[0m                                Traceback (most recent call last)",
      "Cell \u001b[1;32mIn[39], line 2\u001b[0m\n\u001b[0;32m      1\u001b[0m \u001b[38;5;28;01mif\u001b[39;00m \u001b[38;5;18m__name__\u001b[39m\u001b[38;5;241m==\u001b[39m\u001b[38;5;124m\"\u001b[39m\u001b[38;5;124m__main__\u001b[39m\u001b[38;5;124m\"\u001b[39m:\n\u001b[1;32m----> 2\u001b[0m     l1\u001b[38;5;241m=\u001b[39m\u001b[38;5;28;43mint\u001b[39;49m\u001b[43m(\u001b[49m\u001b[38;5;28;43minput\u001b[39;49m\u001b[43m(\u001b[49m\u001b[38;5;124;43m\"\u001b[39;49m\u001b[38;5;124;43mEnter the length of arry 1:-\u001b[39;49m\u001b[38;5;124;43m\"\u001b[39;49m\u001b[43m)\u001b[49m\u001b[43m)\u001b[49m\n\u001b[0;32m      3\u001b[0m     arr1\u001b[38;5;241m=\u001b[39m\u001b[38;5;28mlist\u001b[39m(\u001b[38;5;28mmap\u001b[39m(\u001b[38;5;28mint\u001b[39m,\u001b[38;5;28minput\u001b[39m(\u001b[38;5;124m\"\u001b[39m\u001b[38;5;124mEnter the arrr1 element:-\u001b[39m\u001b[38;5;124m\"\u001b[39m)\u001b[38;5;241m.\u001b[39msplit()))\n\u001b[0;32m      4\u001b[0m     l2\u001b[38;5;241m=\u001b[39m\u001b[38;5;28mint\u001b[39m(\u001b[38;5;28minput\u001b[39m(\u001b[38;5;124m\"\u001b[39m\u001b[38;5;124mEnter the length of arry 2:-\u001b[39m\u001b[38;5;124m\"\u001b[39m))\n",
      "\u001b[1;31mValueError\u001b[0m: invalid literal for int() with base 10: ''"
     ]
    }
   ],
   "source": [
    "if __name__==\"__main__\":\n",
    "    l1=int(input(\"Enter the length of arry 1:-\"))\n",
    "    arr1=list(map(int,input(\"Enter the arrr1 element:-\").split()))\n",
    "    l2=int(input(\"Enter the length of arry 2:-\"))\n",
    "    arr2=list(map(int,input(\"Enter the arrr2 element:-\").split()))\n",
    "    result=common_elements(l1,arr1,l2,arr2)\n",
    "    print(result)\n",
    "    \n",
    "    "
   ]
  },
  {
   "cell_type": "code",
   "execution_count": 43,
   "id": "e52384da",
   "metadata": {},
   "outputs": [
    {
     "name": "stdout",
     "output_type": "stream",
     "text": [
      "[3, 4]\n",
      "[]\n",
      "[1, 2, 3]\n",
      "[]\n",
      "[2, 2, 3, 3]\n",
      "[]\n"
     ]
    }
   ],
   "source": [
    "# Test Case 1: Normal case with common elements\n",
    "print(common_elements(4, [1, 2, 3, 4], 4, [3, 4, 5, 6]))\n",
    "# Output: [3, 4]\n",
    "\n",
    "# Test Case 2: No common elements\n",
    "print(common_elements(3, [1, 2, 7], 3, [3, 4, 5]))\n",
    "# Output: []\n",
    "\n",
    "# Test Case 3: All elements are common\n",
    "print(common_elements(3, [1, 2, 3], 3, [1, 2, 3]))\n",
    "# Output: [1, 2, 3]\n",
    "\n",
    "# Test Case 4: One list is empty\n",
    "print(common_elements(0, [], 3, [1, 2, 3]))\n",
    "# Output: []\n",
    "\n",
    "# Test Case 5: Duplicates in first list\n",
    "print(common_elements(6, [1, 2, 2, 3, 3, 4], 4, [2, 3]))\n",
    "# Output: [2, 2, 3, 3]\n",
    "\n",
    "# Test Case 6: Second list is empty\n",
    "print(common_elements(3, [1, 2, 3], 0, []))\n",
    "# Output: []\n"
   ]
  },
  {
   "cell_type": "markdown",
   "id": "e6df127c",
   "metadata": {},
   "source": [
    "approach-2"
   ]
  },
  {
   "cell_type": "code",
   "execution_count": null,
   "id": "4898ed8a",
   "metadata": {},
   "outputs": [],
   "source": [
    "def common_elements(l1,arr1,l2,arr2):\n",
    "    list1=[]\n",
    "    for i in range(0,l1,1):\n",
    "            if arr1[i] in arr2:\n",
    "                list1.append(arr1[i])\n",
    "                \n",
    "    return list1"
   ]
  },
  {
   "cell_type": "markdown",
   "id": "2e33d63a",
   "metadata": {},
   "source": [
    "# [6] Merge Two Sorted Lists:"
   ]
  },
  {
   "cell_type": "markdown",
   "id": "e524d9c3",
   "metadata": {},
   "source": [
    "### Question:\n",
    "Write a function to merge two sorted lists into a single sorted list.\n",
    "\n",
    "---\n",
    "\n",
    "### Logic:\n",
    "Use two pointers to iterate through the lists and merge them.\n",
    "\n",
    "---\n",
    "\n",
    "### Sample Input:\n",
    "- [1, 3, 5]  \n",
    "- [2, 4, 6]\n",
    "\n",
    "---\n",
    "\n",
    "### Expected Output:\n",
    "- [1, 2, 3, 4, 5, 6]\n"
   ]
  },
  {
   "cell_type": "markdown",
   "id": "d2056f59",
   "metadata": {},
   "source": [
    "brute approach"
   ]
  },
  {
   "cell_type": "code",
   "execution_count": 46,
   "id": "ba6463af",
   "metadata": {},
   "outputs": [],
   "source": [
    "def merge_two_sorted_list(arr1,arr2):\n",
    "    l1=len(arr1)\n",
    "    l2=len(arr2)\n",
    "    for i in range(0,l2,1):\n",
    "     if arr2[i] not in arr1:\n",
    "        arr1.append(arr2[i])\n",
    "    arr1.sort()\n",
    "    return arr1\n",
    "    "
   ]
  },
  {
   "cell_type": "code",
   "execution_count": null,
   "id": "4f8f4b5f",
   "metadata": {},
   "outputs": [],
   "source": [
    "if __name__==\"__main__\":\n",
    "    arr1=list(map(int,input(\"Enter the Elements of the array-1\").split()))\n",
    "    arr2=list(map(int,input(\"Enter the Elements of array 2\").split()))\n",
    "    result=merge_two_sorted_list(arr1,arr2)\n",
    "    print(result)"
   ]
  },
  {
   "cell_type": "code",
   "execution_count": 68,
   "id": "4338990c",
   "metadata": {},
   "outputs": [],
   "source": [
    "def merge_two_sorted_list(arr1, arr2):\n",
    "    i = 0\n",
    "    j = 0\n",
    "    merged = []\n",
    "\n",
    "    while i < len(arr1) and j < len(arr2):\n",
    "        if arr1[i] <= arr2[j]:\n",
    "            merged.append(arr1[i])\n",
    "            i += 1\n",
    "        else:\n",
    "            merged.append(arr2[j])\n",
    "            j += 1\n",
    "\n",
    "    # Add remaining elements from arr1\n",
    "    while i < len(arr1):\n",
    "        merged.append(arr1[i])\n",
    "        i += 1\n",
    "\n",
    "    # Add remaining elements from arr2\n",
    "    while j < len(arr2):\n",
    "        merged.append(arr2[j])\n",
    "        j += 1\n",
    "\n",
    "    return merged\n"
   ]
  },
  {
   "cell_type": "code",
   "execution_count": 69,
   "id": "9b1660a3",
   "metadata": {},
   "outputs": [
    {
     "name": "stdout",
     "output_type": "stream",
     "text": [
      "[2, 4, 6]\n",
      "[]\n",
      "[1, 2, 2, 3]\n",
      "[-10, -5, 0, 2, 3]\n"
     ]
    }
   ],
   "source": [
    "print(merge_two_sorted_list([], [2, 4, 6]))       # arr1 empty\n",
    "print(merge_two_sorted_list([], []))             # both empty\n",
    "print(merge_two_sorted_list([1, 2], [2, 3]))      # duplicates\n",
    "print(merge_two_sorted_list([-5, 0, 3], [-10, 2])) # includes negatives\n"
   ]
  },
  {
   "cell_type": "markdown",
   "id": "0da12fc4",
   "metadata": {},
   "source": [
    "2 pointer approach"
   ]
  },
  {
   "cell_type": "code",
   "execution_count": 66,
   "id": "f2019e7a",
   "metadata": {},
   "outputs": [],
   "source": [
    "def merge_two_sorted_list(arr1, arr2):\n",
    "    l1 = len(arr1)\n",
    "    l2 = len(arr2)\n",
    "    i = 0\n",
    "    j = 0\n",
    "    list1 = []\n",
    "\n",
    "    while i < l1 and j < l2:\n",
    "        if arr1[i] < arr2[j]:\n",
    "            list1.append(arr1[i])\n",
    "            i += 1\n",
    "        else:\n",
    "            list1.append(arr2[j])\n",
    "            j += 1\n",
    "\n",
    "    # Add remaining elements from arr1 or arr2\n",
    "    while i < l1:\n",
    "        list1.append(arr1[i])\n",
    "        i += 1\n",
    "    while j < l2:\n",
    "        list1.append(arr2[j])\n",
    "        j += 1\n",
    "\n",
    "    return list1\n"
   ]
  },
  {
   "cell_type": "code",
   "execution_count": 67,
   "id": "56438c68",
   "metadata": {},
   "outputs": [
    {
     "name": "stdout",
     "output_type": "stream",
     "text": [
      "[2, 4, 6]\n",
      "[]\n",
      "[1, 2, 2, 3]\n",
      "[-10, -5, 0, 2, 3]\n"
     ]
    }
   ],
   "source": [
    "print(merge_two_sorted_list([], [2, 4, 6]))       # arr1 empty\n",
    "print(merge_two_sorted_list([], []))             # both empty\n",
    "print(merge_two_sorted_list([1, 2], [2, 3]))      # duplicates\n",
    "print(merge_two_sorted_list([-5, 0, 3], [-10, 2])) # includes negatives\n"
   ]
  },
  {
   "cell_type": "markdown",
   "id": "f3df27cc",
   "metadata": {},
   "source": [
    "# [7] Calculate the Sum of List Elements:"
   ]
  },
  {
   "cell_type": "markdown",
   "id": "9b62d775",
   "metadata": {},
   "source": [
    "### Question:  \n",
    "Write a function to calculate the sum of all elements in a list.\n",
    "\n",
    "### Logic:  \n",
    "Use a loop to iterate through the list and accumulate the sum.\n",
    "\n",
    "### Sample Input:  \n",
    "[1, 2, 3, 4, 5]\n",
    "\n",
    "### Expected Output:  \n",
    "15\n"
   ]
  },
  {
   "cell_type": "markdown",
   "id": "7340b0f0",
   "metadata": {},
   "source": [
    "brute -or optimal"
   ]
  },
  {
   "cell_type": "code",
   "execution_count": null,
   "id": "c340f4a7",
   "metadata": {},
   "outputs": [],
   "source": [
    "def sum_of_list(n,list1):\n",
    "    sum=0\n",
    "    for i in list1:\n",
    "        sum=sum+i\n",
    "    return sum\n",
    "    "
   ]
  },
  {
   "cell_type": "code",
   "execution_count": 71,
   "id": "c89527f8",
   "metadata": {},
   "outputs": [
    {
     "name": "stdout",
     "output_type": "stream",
     "text": [
      "4\n"
     ]
    }
   ],
   "source": [
    "if __name__==\"__main__\":\n",
    "    length=int(input(\"Enter the length of list:-\"))\n",
    "    list1=list(map(int,input(\"Enter list elements:-\").split()))\n",
    "    result=sum_of_list(length,list1)\n",
    "    print(result)"
   ]
  },
  {
   "cell_type": "code",
   "execution_count": 72,
   "id": "ef451a3e",
   "metadata": {},
   "outputs": [
    {
     "name": "stdout",
     "output_type": "stream",
     "text": [
      "0\n",
      "-6\n",
      "2\n"
     ]
    }
   ],
   "source": [
    "print(sum_of_list(0, []))  # Expected: 0\n",
    "print(sum_of_list(3, [-1, -2, -3]))  # Expected: -6\n",
    "print(sum_of_list(5, [0, -2, 3, -1, 2]))  # Expected: 2\n"
   ]
  },
  {
   "cell_type": "markdown",
   "id": "45d1e1a7",
   "metadata": {},
   "source": [
    "# [8] Count Occurrences of an Element in a List:"
   ]
  },
  {
   "cell_type": "markdown",
   "id": "25bab65d",
   "metadata": {},
   "source": [
    "### Question:  \n",
    "Write a function to count how many times a specific element appears in a list.\n",
    "\n",
    "### Logic:  \n",
    "Use a loop to count occurrences.\n",
    "\n",
    "### Sample Input:  \n",
    "[1, 2, 2, 3, 4, 2] and 2\n",
    "\n",
    "### Expected Output:  \n",
    "3\n"
   ]
  },
  {
   "cell_type": "code",
   "execution_count": 74,
   "id": "2853206b",
   "metadata": {},
   "outputs": [],
   "source": [
    "def count_occ_elemnt(len,lsit1,elem):\n",
    "    count=0\n",
    "    if elem not in lsit1:\n",
    "        return -1\n",
    "    for i in lsit1:\n",
    "        if i==elem:\n",
    "            count=count+1\n",
    "    return count"
   ]
  },
  {
   "cell_type": "code",
   "execution_count": 76,
   "id": "462e5892",
   "metadata": {},
   "outputs": [
    {
     "name": "stdout",
     "output_type": "stream",
     "text": [
      "3\n"
     ]
    }
   ],
   "source": [
    "if __name__==\"__main__\":\n",
    "    length=int(input(\"Enter the length of list:-\"))\n",
    "    list1=list(map(int,input(\"Enter list elements:-\").split()))\n",
    "    el=int(input(\"Enter the element of list:-\"))\n",
    "    result=count_occ_elemnt(length,list1,el)\n",
    "    print(result)"
   ]
  },
  {
   "cell_type": "code",
   "execution_count": 75,
   "id": "cfc54948",
   "metadata": {},
   "outputs": [
    {
     "name": "stdout",
     "output_type": "stream",
     "text": [
      "3\n",
      "1\n",
      "-1\n",
      "-1\n"
     ]
    }
   ],
   "source": [
    "print(count_occ_elemnt(5, [1, 2, 3, 2, 2], 2))  # Expected: 3\n",
    "print(count_occ_elemnt(4, [5, 6, 7, 8], 7))  # Expected: 1\n",
    "print(count_occ_elemnt(3, [1, 2, 3], 9))  # Expected: -1\n",
    "print(count_occ_elemnt(0, [], 1))  # Expected: -1\n"
   ]
  },
  {
   "cell_type": "markdown",
   "id": "19bac49f",
   "metadata": {},
   "source": [
    "# [9] Find the Second Largest Element in a List:"
   ]
  },
  {
   "cell_type": "markdown",
   "id": "282f77aa",
   "metadata": {},
   "source": [
    "### Question:  \n",
    "Write a function to find the second largest element in a list.\n",
    "\n",
    "### Logic:  \n",
    "Iterate through the list and keep track of the largest and second largest elements.\n",
    "\n",
    "### Sample Input:  \n",
    "[3, 8, 1, 10, 5]\n",
    "\n",
    "### Expected Output:  \n",
    "8\n"
   ]
  },
  {
   "cell_type": "code",
   "execution_count": null,
   "id": "1d4f9450",
   "metadata": {},
   "outputs": [],
   "source": []
  },
  {
   "cell_type": "code",
   "execution_count": null,
   "id": "fc09b0aa",
   "metadata": {},
   "outputs": [],
   "source": []
  },
  {
   "cell_type": "markdown",
   "id": "3b24604a",
   "metadata": {},
   "source": [
    "# [10] Generate a List of Prime Numbers:"
   ]
  },
  {
   "cell_type": "markdown",
   "id": "b88c2469",
   "metadata": {},
   "source": [
    "### Question:  \n",
    "Write a function to generate a list of prime numbers within a given range.\n",
    "\n",
    "### Logic:  \n",
    "Use loops and checks to find prime numbers.\n",
    "\n",
    "### Sample Input:  \n",
    "Range: 1 to 20\n",
    "\n",
    "### Expected Output:  \n",
    "List of Prime Numbers: [2, 3, 5, 7, 11, 13, 17, 19]\n"
   ]
  },
  {
   "cell_type": "code",
   "execution_count": 79,
   "id": "75d3c43b",
   "metadata": {},
   "outputs": [],
   "source": [
    "def generate_prime_range(start, end):\n",
    "    prime_list = []\n",
    "    \n",
    "    for number in range(start, end + 1):\n",
    "        if number <= 1:\n",
    "            continue\n",
    "        is_prime = True\n",
    "        \n",
    "        for i in range(2, number):\n",
    "            if number % i == 0:\n",
    "                is_prime = False\n",
    "                break\n",
    "        \n",
    "        if is_prime:\n",
    "            prime_list.append(number)\n",
    "    \n",
    "    return prime_list\n"
   ]
  },
  {
   "cell_type": "code",
   "execution_count": 80,
   "id": "aa31093e",
   "metadata": {},
   "outputs": [
    {
     "name": "stdout",
     "output_type": "stream",
     "text": [
      "[2, 3, 5, 7, 11, 13, 17, 19]\n"
     ]
    }
   ],
   "source": [
    "print(generate_prime_range(1, 20))\n",
    "# Output: [2, 3, 5, 7, 11, 13, 17, 19]\n"
   ]
  },
  {
   "cell_type": "markdown",
   "id": "95a496b1",
   "metadata": {},
   "source": [
    "# [11] Add an Element at the Beginning of a List:"
   ]
  },
  {
   "cell_type": "markdown",
   "id": "bf1300e9",
   "metadata": {},
   "source": [
    "### Question:  \n",
    "Write a function to add an element at the beginning of a list.\n",
    "\n",
    "### Logic:  \n",
    "Use list slicing or the insert() method.\n",
    "\n",
    "### Sample Input:  \n",
    "List: [2, 3, 4] and Element: 1\n",
    "\n",
    "### Expected Output:  \n",
    "List: [1, 2, 3, 4]\n"
   ]
  },
  {
   "cell_type": "markdown",
   "id": "0b7db106",
   "metadata": {},
   "source": [
    "Inbuild"
   ]
  },
  {
   "cell_type": "code",
   "execution_count": 81,
   "id": "685e3d4b",
   "metadata": {},
   "outputs": [],
   "source": [
    "def insert_at_beginning(leng,list1,elem):\n",
    "    list1.insert(0,elem)\n",
    "    return list1\n"
   ]
  },
  {
   "cell_type": "code",
   "execution_count": null,
   "id": "7825d9e3",
   "metadata": {},
   "outputs": [],
   "source": [
    "if __name__==\"__main__\":\n",
    "    length=int(input(\"Enter the length of list:-\"))\n",
    "    list1=list(map(int,input(\"Enter list elements:-\").split()))\n",
    "    el=int(input(\"Enter the element of list:-\"))\n",
    "    result=insert_at_beginning(length,list1,el)\n",
    "    print(result)"
   ]
  },
  {
   "cell_type": "code",
   "execution_count": 82,
   "id": "537431f3",
   "metadata": {},
   "outputs": [
    {
     "name": "stdout",
     "output_type": "stream",
     "text": [
      "[1, 2, 3, 4]\n",
      "[99]\n",
      "[-5, 10, 20, 30]\n",
      "['a', 'b', 'c']\n"
     ]
    }
   ],
   "source": [
    "print(insert_at_beginning(3, [2, 3, 4], 1))        # [1, 2, 3, 4]\n",
    "print(insert_at_beginning(0, [], 99))              # [99]\n",
    "print(insert_at_beginning(5, [10, 20, 30], -5))     # [-5, 10, 20, 30]\n",
    "print(insert_at_beginning(2, ['b', 'c'], 'a'))      # ['a', 'b', 'c']\n"
   ]
  },
  {
   "cell_type": "markdown",
   "id": "2247967c",
   "metadata": {},
   "source": [
    "without inbuild logic"
   ]
  },
  {
   "cell_type": "code",
   "execution_count": null,
   "id": "bcb341af",
   "metadata": {},
   "outputs": [],
   "source": [
    "def insert_at_beginning(leng,list1,elem):\n",
    "    list1.insert(0,elem)\n",
    "    return list1\n"
   ]
  },
  {
   "cell_type": "code",
   "execution_count": null,
   "id": "c40d3dae",
   "metadata": {},
   "outputs": [],
   "source": [
    "print(insert_at_beginning(3, [2, 3, 4], 1))        # [1, 2, 3, 4]\n",
    "print(insert_at_beginning(0, [], 99))              # [99]\n",
    "print(insert_at_beginning(5, [10, 20, 30], -5))     # [-5, 10, 20, 30]\n",
    "print(insert_at_beginning(2, ['b', 'c'], 'a')) "
   ]
  },
  {
   "cell_type": "markdown",
   "id": "fcbc9c04",
   "metadata": {},
   "source": [
    "# [12] Remove an Element from a List by Value:"
   ]
  },
  {
   "cell_type": "markdown",
   "id": "55c9c4ef",
   "metadata": {},
   "source": [
    "### Question:  \n",
    "Write a function to remove a specific element from a list by its value.\n",
    "\n",
    "### Logic:  \n",
    "Use list methods like `remove()` or list comprehensions.\n",
    "\n",
    "### Sample Input:  \n",
    "List: [1, 2, 3, 4, 5] and Element: 3\n",
    "\n",
    "### Expected Output:  \n",
    "List: [1, 2, 4, 5]\n"
   ]
  },
  {
   "cell_type": "code",
   "execution_count": 84,
   "id": "edd7819d",
   "metadata": {},
   "outputs": [],
   "source": [
    "def remove_element_by(n,list1,element):\n",
    "    if element in list1:\n",
    "        list1.remove(element)\n",
    "    return list1"
   ]
  },
  {
   "cell_type": "code",
   "execution_count": null,
   "id": "0075f646",
   "metadata": {},
   "outputs": [],
   "source": [
    "if __name__ == \"__main__\":\n",
    "    length = int(input(\"Enter the length of list: \"))\n",
    "    list1 = list(map(int, input(\"Enter list elements: \").split()))\n",
    "    el = int(input(\"Enter the element to remove from the list: \"))\n",
    "    \n",
    "    result = remove_element_by(length, list1, el)\n",
    "    print(\"Updated list:\", result)"
   ]
  },
  {
   "cell_type": "code",
   "execution_count": 85,
   "id": "2188fa08",
   "metadata": {},
   "outputs": [
    {
     "name": "stdout",
     "output_type": "stream",
     "text": [
      "[1, 2, 4]\n",
      "[5, 6, 7, 8, 9]\n",
      "[2, 2]\n",
      "[]\n"
     ]
    }
   ],
   "source": [
    "print(remove_element_by(4, [1, 2, 3, 4], 3))          # Output: [1, 2, 4]\n",
    "print(remove_element_by(5, [5, 6, 7, 8, 9], 10))      # Output: [5, 6, 7, 8, 9] (element not found)\n",
    "print(remove_element_by(3, [2, 2, 2], 2))             # Output: [2, 2] (only first 2 removed)\n",
    "print(remove_element_by(0, [], 1))                   # Output: [] (empty list, nothing removed)\n"
   ]
  },
  {
   "cell_type": "markdown",
   "id": "fecad54f",
   "metadata": {},
   "source": [
    "# [13] Find the Third Largest Element in a List:"
   ]
  },
  {
   "cell_type": "markdown",
   "id": "dab434a1",
   "metadata": {},
   "source": [
    "### Question:  \n",
    "Write a function to find the third largest element in a list.\n",
    "\n",
    "### Logic:  \n",
    "Iterate through the list while keeping track of the largest, second largest, and third largest elements.\n",
    "\n",
    "### Sample Input:  \n",
    "[5, 9, 2, 7, 3, 8, 6]\n",
    "\n",
    "### Expected Output:  \n",
    "7\n"
   ]
  },
  {
   "cell_type": "code",
   "execution_count": null,
   "id": "64132566",
   "metadata": {},
   "outputs": [],
   "source": []
  },
  {
   "cell_type": "markdown",
   "id": "55fa8aff",
   "metadata": {},
   "source": [
    "# [14]  Count Negative and Positive Numbers in a List:"
   ]
  },
  {
   "cell_type": "markdown",
   "id": "d97c3ab9",
   "metadata": {},
   "source": [
    "### Question:  \n",
    "Write a function to count the number of negative and positive numbers in a list.\n",
    "\n",
    "### Logic:  \n",
    "Use a loop to iterate through the list and keep two counters.\n",
    "\n",
    "### Sample Input:  \n",
    "[3, -2, 7, -1, 0, 5, -4]\n",
    "\n",
    "### Expected Output:  \n",
    "Positive: 4, Negative: 3\n"
   ]
  },
  {
   "cell_type": "code",
   "execution_count": 89,
   "id": "b09517af",
   "metadata": {},
   "outputs": [],
   "source": [
    "\n",
    "def count_pos_neg(lst):\n",
    "    count=0\n",
    "    for i in range(0,len(lst),1):\n",
    "        if lst[i]>=0:\n",
    "            count=count+1\n",
    "    ncount=len(lst)-count\n",
    "    return [count,ncount]\n",
    "\n",
    "\n",
    "\n"
   ]
  },
  {
   "cell_type": "code",
   "execution_count": null,
   "id": "125b4a47",
   "metadata": {},
   "outputs": [],
   "source": [
    "if __name__ == \"__main__\":\n",
    "    length = int(input(\"Enter the length of list: \"))\n",
    "    list1 = list(map(int, input(\"Enter list elements: \").split()))\n",
    "\n",
    "    result = count_pos_neg(list1)\n",
    "    print(\"Positive:\", result[0], \", Negative:\", result[1])"
   ]
  },
  {
   "cell_type": "code",
   "execution_count": 90,
   "id": "4878e45a",
   "metadata": {},
   "outputs": [
    {
     "name": "stdout",
     "output_type": "stream",
     "text": [
      "[4, 3]\n",
      "[0, 4]\n",
      "[5, 0]\n",
      "[3, 0]\n",
      "[0, 0]\n"
     ]
    }
   ],
   "source": [
    "print(count_pos_neg([3, -2, 7, -1, 0, 5, -4]))       # Expected: Positive: 4, Negative: 3\n",
    "print(count_pos_neg([-10, -5, -1, -3]))              # Expected: Positive: 0, Negative: 4\n",
    "print(count_pos_neg([1, 2, 3, 4, 5]))                # Expected: Positive: 5, Negative: 0\n",
    "print(count_pos_neg([0, 0, 0]))                      # Expected: Positive: 0, Negative: 0\n",
    "print(count_pos_neg([]))                            # Expected: Positive: 0, Negative: 0\n"
   ]
  },
  {
   "cell_type": "markdown",
   "id": "a4587eaf",
   "metadata": {},
   "source": [
    "# [15] Find the Kth Smallest Element in a List:"
   ]
  },
  {
   "cell_type": "markdown",
   "id": "119ad1a0",
   "metadata": {},
   "source": [
    "### Question:  \n",
    "Write a function to find the Kth smallest element in a list.\n",
    "\n",
    "### Logic:  \n",
    "Use sorting or a selection algorithm to find the Kth smallest element.\n",
    "\n",
    "### Sample Input:  \n",
    "List: [5, 2, 8, 3, 1, 9, 4], K: 3\n",
    "\n",
    "### Expected Output:  \n",
    "3\n"
   ]
  },
  {
   "cell_type": "code",
   "execution_count": null,
   "id": "29c96983",
   "metadata": {},
   "outputs": [],
   "source": []
  },
  {
   "cell_type": "markdown",
   "id": "96f7624a",
   "metadata": {},
   "source": [
    "# [16] Remove All Occurrences of an Element in a List:"
   ]
  },
  {
   "cell_type": "markdown",
   "id": "4593032a",
   "metadata": {},
   "source": [
    "### Question:  \n",
    "Write a function to remove all occurrences of a specific element from a list.\n",
    "\n",
    "### Logic:  \n",
    "Use list comprehensions or a loop to filter out the element.\n",
    "\n",
    "### Sample Input:  \n",
    "List: [1, 2, 2, 3, 4, 2] and Element: 2\n",
    "\n",
    "### Expected Output:  \n",
    "List: [1, 3, 4]\n"
   ]
  },
  {
   "cell_type": "code",
   "execution_count": 101,
   "id": "98ada29c",
   "metadata": {},
   "outputs": [],
   "source": [
    "def remove_all_occurrences(lst, elem):\n",
    "    # 👉 Write logic to remove all occurrences of `elem` from `lst`\n",
    "    if len(lst)==0:\n",
    "        return -1\n",
    "    \n",
    "    for i in lst:\n",
    "        if i==elem:\n",
    "            lst.pop(i)\n",
    "    return lst\n"
   ]
  },
  {
   "cell_type": "code",
   "execution_count": 103,
   "id": "e3bccd70",
   "metadata": {},
   "outputs": [],
   "source": [
    "def remove_all_occurrences(lst, elem):\n",
    "    while elem in lst:\n",
    "        lst.remove(elem)\n",
    "    return lst\n"
   ]
  },
  {
   "cell_type": "code",
   "execution_count": null,
   "id": "8d0f346b",
   "metadata": {},
   "outputs": [],
   "source": [
    "if __name__ == \"__main__\":\n",
    "    length = int(input(\"Enter the length of the list: \"))\n",
    "    list1 = list(map(int, input(\"Enter the list elements: \").split()))\n",
    "    el = int(input(\"Enter the element to remove from the list: \"))\n",
    "\n",
    "    result = remove_all_occurrences(list1, el)\n",
    "    print(\"Updated list:\", result)\n"
   ]
  },
  {
   "cell_type": "code",
   "execution_count": 104,
   "id": "fedbfb1b",
   "metadata": {},
   "outputs": [
    {
     "name": "stdout",
     "output_type": "stream",
     "text": [
      "[1, 3, 4]\n",
      "[5, 6, 7]\n",
      "[]\n",
      "[]\n"
     ]
    }
   ],
   "source": [
    "print(remove_all_occurrences([1, 2, 2, 3, 4, 2], 2))      # [1, 3, 4]\n",
    "print(remove_all_occurrences([5, 6, 7], 8))               # [5, 6, 7] (element not found)\n",
    "print(remove_all_occurrences([9, 9, 9, 9], 9))            # [] (all elements removed)\n",
    "print(remove_all_occurrences([], 1))                     # [] (empty list)\n"
   ]
  },
  {
   "cell_type": "markdown",
   "id": "c94754b4",
   "metadata": {},
   "source": [
    "# [17] Calculate the Product of List Elements:"
   ]
  },
  {
   "cell_type": "markdown",
   "id": "3abb1af5",
   "metadata": {},
   "source": [
    "### Question:  \n",
    "Write a function to calculate the product of all elements in a list.\n",
    "\n",
    "### Logic:  \n",
    "Use a loop to iterate through the list and accumulate the product.\n",
    "\n",
    "### Sample Input:  \n",
    "[2, 3, 4, 5]\n",
    "\n",
    "### Expected Output:  \n",
    "120\n"
   ]
  },
  {
   "cell_type": "code",
   "execution_count": 107,
   "id": "17fdc1da",
   "metadata": {},
   "outputs": [],
   "source": [
    "def product_of_list(lst):\n",
    "    if len(lst)==0:\n",
    "        return 1\n",
    "    # 👉 Write your logic here to calculate the product of all elements\n",
    "    for num in lst:\n",
    "        prd=1\n",
    "        prd=prd*num\n",
    "    return prd\n"
   ]
  },
  {
   "cell_type": "code",
   "execution_count": null,
   "id": "4867d885",
   "metadata": {},
   "outputs": [],
   "source": [
    "if __name__ == \"__main__\":\n",
    "    length = int(input(\"Enter the length of the list: \"))\n",
    "    list1 = list(map(int, input(\"Enter the list elements: \").split()))\n",
    "\n",
    "    result = product_of_list(list1)\n",
    "    print(\"Product of list elements:\", result)\n"
   ]
  },
  {
   "cell_type": "code",
   "execution_count": 108,
   "id": "2b8c1463",
   "metadata": {},
   "outputs": [
    {
     "name": "stdout",
     "output_type": "stream",
     "text": [
      "5\n",
      "1\n",
      "5\n",
      "1\n"
     ]
    }
   ],
   "source": [
    "print(product_of_list([2, 3, 4, 5]))        # 120\n",
    "print(product_of_list([1, 1, 1, 1]))        # 1\n",
    "print(product_of_list([10, 0, 5]))          # 0\n",
    "print(product_of_list([]))                 # 1 (by convention, product of empty list is 1)\n"
   ]
  },
  {
   "cell_type": "markdown",
   "id": "b8da8fce",
   "metadata": {},
   "source": [
    "# [18]  Find the First Non-Repeating Element in a List:"
   ]
  },
  {
   "cell_type": "markdown",
   "id": "d7f94d4b",
   "metadata": {},
   "source": [
    "### Question:  \n",
    "Write a function to find the first non-repeating element in a list.\n",
    "\n",
    "### Logic:  \n",
    "Use a loop and a dictionary to count occurrences.\n",
    "\n",
    "### Sample Input:  \n",
    "[1, 2, 3, 2, 1, 4, 5]\n",
    "\n",
    "### Expected Output:  \n",
    "3\n"
   ]
  },
  {
   "cell_type": "code",
   "execution_count": 109,
   "id": "5ff5d9df",
   "metadata": {},
   "outputs": [],
   "source": [
    "def first_non_repeating(lst):\n",
    "    freq = {}\n",
    "\n",
    "    # Step 1: Count occurrences\n",
    "    for num in lst:\n",
    "        freq[num] = freq.get(num, 0) + 1\n",
    "\n",
    "    # Step 2: Find the first with count 1\n",
    "    for num in lst:\n",
    "        if freq[num] == 1:\n",
    "            return num\n",
    "\n",
    "    return -1  # If no non-repeating element is found\n"
   ]
  },
  {
   "cell_type": "code",
   "execution_count": 110,
   "id": "67dc0520",
   "metadata": {},
   "outputs": [
    {
     "name": "stdout",
     "output_type": "stream",
     "text": [
      "3\n",
      "9\n",
      "-1\n",
      "5\n",
      "-1\n"
     ]
    }
   ],
   "source": [
    "print(first_non_repeating([1, 2, 3, 2, 1, 4, 5]))     # ➤ 3  \n",
    "print(first_non_repeating([7, 7, 8, 8, 9]))           # ➤ 9  \n",
    "print(first_non_repeating([10, 10, 10]))              # ➤ -1  \n",
    "print(first_non_repeating([5]))                       # ➤ 5  \n",
    "print(first_non_repeating([]))                        # ➤ -1  \n"
   ]
  },
  {
   "cell_type": "markdown",
   "id": "6bbe8c87",
   "metadata": {},
   "source": [
    "# [19] Split a List into Chunks of a Given Size:"
   ]
  },
  {
   "cell_type": "markdown",
   "id": "9645c2d7",
   "metadata": {},
   "source": [
    "### Question:  \n",
    "Write a function to split a list into smaller lists of a specified size.\n",
    "\n",
    "### Logic:  \n",
    "Use list comprehensions or a loop to create chunks.\n",
    "\n",
    "### Sample Input:  \n",
    "List: [1, 2, 3, 4, 5, 6, 7, 8], Chunk Size: 3\n",
    "\n",
    "### Expected Output:  \n",
    "[[1, 2, 3], [4, 5, 6], [7, 8]]\n"
   ]
  },
  {
   "cell_type": "code",
   "execution_count": 113,
   "id": "205fc404",
   "metadata": {},
   "outputs": [],
   "source": [
    "def split_into_chunks(lst, chunk_size):\n",
    "    # 👉 Write logic to split list into chunks of given size\n",
    "    result=[]\n",
    "    if len(lst)==0:\n",
    "        return -1\n",
    "    for i in range(0,len(lst),chunk_size):\n",
    "        result.append([lst[i:i+chunk_size:1]])\n",
    "    return result\n"
   ]
  },
  {
   "cell_type": "code",
   "execution_count": null,
   "id": "b18bc3e9",
   "metadata": {},
   "outputs": [],
   "source": [
    "if __name__ == \"__main__\":\n",
    "    lst = list(map(int, input(\"Enter the list elements: \").split()))\n",
    "    chunk_size = int(input(\"Enter the chunk size: \"))\n",
    "    \n",
    "    result = split_into_chunks(lst, chunk_size)\n",
    "    print(\"Chunks:\", result)\n"
   ]
  },
  {
   "cell_type": "code",
   "execution_count": 114,
   "id": "d3ebd051",
   "metadata": {},
   "outputs": [
    {
     "name": "stdout",
     "output_type": "stream",
     "text": [
      "[[[1, 2, 3]], [[4, 5, 6]], [[7, 8]]]\n",
      "[[[10, 20]], [[30, 40]], [[50]]]\n",
      "[[[9, 8, 7, 6, 5]]]\n",
      "-1\n"
     ]
    }
   ],
   "source": [
    "print(split_into_chunks([1, 2, 3, 4, 5, 6, 7, 8], 3))     # [[1, 2, 3], [4, 5, 6], [7, 8]]\n",
    "print(split_into_chunks([10, 20, 30, 40, 50], 2))         # [[10, 20], [30, 40], [50]]\n",
    "print(split_into_chunks([9, 8, 7, 6, 5], 10))             # [[9, 8, 7, 6, 5]]\n",
    "print(split_into_chunks([], 3))                          # []\n"
   ]
  },
  {
   "cell_type": "markdown",
   "id": "a104d54c",
   "metadata": {},
   "source": [
    "# [20] Find the Union of Two Lists:"
   ]
  },
  {
   "cell_type": "markdown",
   "id": "aaa9de97",
   "metadata": {},
   "source": [
    "### Question:  \n",
    "Write a function to find the union of two lists.\n",
    "\n",
    "### Logic:  \n",
    "Use list comprehensions or a loop to combine the lists.\n",
    "\n",
    "### Sample Input:  \n",
    "List 1: [1, 2, 3], List 2: [3, 4, 5]\n",
    "\n",
    "### Expected Output:  \n",
    "[1, 2, 3, 4, 5]\n"
   ]
  },
  {
   "cell_type": "markdown",
   "id": "0d1f6280",
   "metadata": {},
   "source": [
    "own appro"
   ]
  },
  {
   "cell_type": "code",
   "execution_count": 115,
   "id": "34b47c44",
   "metadata": {},
   "outputs": [],
   "source": [
    "def union_of_lists(list1, list2):\n",
    "    l1=len(list1)\n",
    "    l2=len(list2)\n",
    "    \n",
    "    \n",
    "    for num in list2:\n",
    "        if num not in list1:\n",
    "            list1.append(num)\n",
    "    \n",
    "    return list1\n",
    "    # 👉 Write logic to return the union of list1 and list2 (no duplicates)\n",
    "    pass\n"
   ]
  },
  {
   "cell_type": "code",
   "execution_count": null,
   "id": "56e0770d",
   "metadata": {},
   "outputs": [],
   "source": [
    "print(union_of_lists([1, 2, 3], [3, 4, 5]))           # ➤ [1, 2, 3, 4, 5]\n",
    "print(union_of_lists([10, 20], [20, 30, 40]))         # ➤ [10, 20, 30, 40]\n",
    "print(union_of_lists([], [1, 2, 3]))                  # ➤ [1, 2, 3]\n",
    "print(union_of_lists([5, 5, 5], [5])) "
   ]
  },
  {
   "cell_type": "markdown",
   "id": "5e211749",
   "metadata": {},
   "source": [
    "set appro"
   ]
  },
  {
   "cell_type": "code",
   "execution_count": 117,
   "id": "90aed4aa",
   "metadata": {},
   "outputs": [],
   "source": [
    "def union_of_lists(list1, list2):\n",
    "    result = []\n",
    "    seen = set()\n",
    "    for num in list1 + list2:\n",
    "        if num not in seen:\n",
    "            result.append(num)\n",
    "            seen.add(num)\n",
    "    return result\n"
   ]
  },
  {
   "cell_type": "code",
   "execution_count": null,
   "id": "4f9301c5",
   "metadata": {},
   "outputs": [],
   "source": [
    "print(union_of_lists([1, 2, 3], [3, 4, 5]))           # ➤ [1, 2, 3, 4, 5]\n",
    "print(union_of_lists([10, 20], [20, 30, 40]))         # ➤ [10, 20, 30, 40]\n",
    "print(union_of_lists([], [1, 2, 3]))                  # ➤ [1, 2, 3]\n",
    "print(union_of_lists([5, 5, 5], [5])) "
   ]
  },
  {
   "cell_type": "code",
   "execution_count": 120,
   "id": "5e7fe0dd",
   "metadata": {},
   "outputs": [],
   "source": [
    "def union_of_lists(list1, list2):\n",
    "    return list(set(list1).union(set(list2)))\n"
   ]
  },
  {
   "cell_type": "code",
   "execution_count": 121,
   "id": "813c9806",
   "metadata": {},
   "outputs": [
    {
     "name": "stdout",
     "output_type": "stream",
     "text": [
      "[1, 2, 3, 4, 5]\n",
      "[20, 40, 10, 30]\n",
      "[1, 2, 3]\n",
      "[5]\n"
     ]
    }
   ],
   "source": [
    "print(union_of_lists([1, 2, 3], [3, 4, 5]))           # ➤ [1, 2, 3, 4, 5]\n",
    "print(union_of_lists([10, 20], [20, 30, 40]))         # ➤ [10, 20, 30, 40]\n",
    "print(union_of_lists([], [1, 2, 3]))                  # ➤ [1, 2, 3]\n",
    "print(union_of_lists([5, 5, 5], [5])) "
   ]
  },
  {
   "cell_type": "code",
   "execution_count": null,
   "id": "7b457657",
   "metadata": {},
   "outputs": [],
   "source": [
    "if __name__ == \"__main__\":\n",
    "    list1 = list(map(int, input(\"Enter elements of list 1: \").split()))\n",
    "    list2 = list(map(int, input(\"Enter elements of list 2: \").split()))\n",
    "\n",
    "    result = union_of_lists(list1, list2)\n",
    "    print(\"Union:\", result)\n"
   ]
  },
  {
   "cell_type": "code",
   "execution_count": 118,
   "id": "60a53459",
   "metadata": {},
   "outputs": [
    {
     "name": "stdout",
     "output_type": "stream",
     "text": [
      "[1, 2, 3, 4, 5]\n",
      "[10, 20, 30, 40]\n",
      "[1, 2, 3]\n",
      "[5]\n"
     ]
    }
   ],
   "source": [
    "print(union_of_lists([1, 2, 3], [3, 4, 5]))           # ➤ [1, 2, 3, 4, 5]\n",
    "print(union_of_lists([10, 20], [20, 30, 40]))         # ➤ [10, 20, 30, 40]\n",
    "print(union_of_lists([], [1, 2, 3]))                  # ➤ [1, 2, 3]\n",
    "print(union_of_lists([5, 5, 5], [5]))                 # ➤ [5]\n"
   ]
  },
  {
   "cell_type": "markdown",
   "id": "01504c3e",
   "metadata": {},
   "source": [
    "# [21] Check if List is Sorted in Non-Decreasing Order:"
   ]
  },
  {
   "cell_type": "markdown",
   "id": "59588c1e",
   "metadata": {},
   "source": [
    "### Question:\n",
    "Write a function to find the union of two lists.\n",
    "\n",
    "### Logic:\n",
    "Use list comprehensions or a loop to combine the lists.\n",
    "\n",
    "### Sample Input:\n",
    "List 1: [1, 2, 3], List 2: [3, 4, 5]\n",
    "\n",
    "### Expected Output:\n",
    "[1, 2, 3, 4, 5]\n"
   ]
  },
  {
   "cell_type": "markdown",
   "id": "cf67bd11",
   "metadata": {},
   "source": [
    "app-1"
   ]
  },
  {
   "cell_type": "code",
   "execution_count": 122,
   "id": "dcf4987b",
   "metadata": {},
   "outputs": [],
   "source": [
    "def is_sorted_non_decreasing(lst):\n",
    "    l1=len(lst)\n",
    "    for i in range(1,l1,1):\n",
    "        if lst[i] >=lst[i-1]:\n",
    "            continue\n",
    "        else:\n",
    "            return \"Not sorted\"\n",
    "    return \"Sorted\"\n",
    "    pass  # 👉 Write your logic here\n"
   ]
  },
  {
   "cell_type": "code",
   "execution_count": 123,
   "id": "638857c5",
   "metadata": {},
   "outputs": [
    {
     "name": "stdout",
     "output_type": "stream",
     "text": [
      "Sorted\n",
      "Not sorted\n",
      "Sorted\n",
      "Not sorted\n"
     ]
    }
   ],
   "source": [
    "print(is_sorted_non_decreasing([1, 2, 3, 3, 4, 5]))  # ➤ Sorted\n",
    "print(is_sorted_non_decreasing([5, 4, 3, 2]))        # ➤ Not Sorted\n",
    "print(is_sorted_non_decreasing([10, 20, 20, 30]))    # ➤ Sorted\n",
    "print(is_sorted_non_decreasing([9, 8, 8, 6]))        # ➤ Not Sorted\n"
   ]
  },
  {
   "cell_type": "code",
   "execution_count": null,
   "id": "0ec19a91",
   "metadata": {},
   "outputs": [],
   "source": [
    "if __name__ == \"__main__\":\n",
    "    lst = list(map(int, input(\"Enter list elements: \").split()))\n",
    "    result = is_sorted_non_decreasing(lst)\n",
    "    print(\"Result:\", result)\n"
   ]
  },
  {
   "cell_type": "markdown",
   "id": "a55dbd47",
   "metadata": {},
   "source": [
    "app-2"
   ]
  },
  {
   "cell_type": "code",
   "execution_count": 128,
   "id": "4917afc1",
   "metadata": {},
   "outputs": [],
   "source": [
    "def is_sorted_non_decreasing(lst):\n",
    "    l1=len(lst)\n",
    "    val=val = sorted(lst)\n",
    "\n",
    "    if lst==val:\n",
    "        return \"Sorted\"\n",
    "    return \"NOT Sorted\"\n",
    "    pass  # 👉 Write your logic here"
   ]
  },
  {
   "cell_type": "code",
   "execution_count": 129,
   "id": "7eeff24e",
   "metadata": {},
   "outputs": [
    {
     "name": "stdout",
     "output_type": "stream",
     "text": [
      "Sorted\n",
      "NOT Sorted\n",
      "Sorted\n",
      "NOT Sorted\n"
     ]
    }
   ],
   "source": [
    "print(is_sorted_non_decreasing([1, 2, 3, 3, 4, 5]))  # ➤ Sorted\n",
    "print(is_sorted_non_decreasing([5, 4, 3, 2]))        # ➤ Not Sorted\n",
    "print(is_sorted_non_decreasing([10, 20, 20, 30]))    # ➤ Sorted\n",
    "print(is_sorted_non_decreasing([9, 8, 8, 6])) "
   ]
  },
  {
   "cell_type": "markdown",
   "id": "50536acf",
   "metadata": {},
   "source": [
    "# [22] Remove Leading Zeros from a List of Integers"
   ]
  },
  {
   "cell_type": "markdown",
   "id": "9e8401ab",
   "metadata": {},
   "source": [
    "### Question:\n",
    "Write a function to remove leading zeros from a list of integers.\n",
    "\n",
    "### Logic:\n",
    "Use list slicing or a loop to remove zeros until a non-zero element is encountered.\n",
    "\n",
    "### Sample Input:\n",
    "[0, 0, 1, 2, 0, 3, 0, 0, 4]\n"
   ]
  },
  {
   "cell_type": "markdown",
   "id": "6e94e3f2",
   "metadata": {},
   "source": [
    "app-1"
   ]
  },
  {
   "cell_type": "code",
   "execution_count": 135,
   "id": "3ccca518",
   "metadata": {},
   "outputs": [],
   "source": [
    "def remove_leading_zeros(lst):\n",
    "    length=len(lst)\n",
    "    if length==0:\n",
    "        return  []\n",
    "    for i in range(0,length,1):\n",
    "        if lst[i]==0:\n",
    "            lst.remove(lst[i])\n",
    "        elif lst[i]!=0:\n",
    "            return lst\n",
    "        \n",
    "    pass  # 👉 Write your logic here\n"
   ]
  },
  {
   "cell_type": "code",
   "execution_count": 136,
   "id": "6b4b432e",
   "metadata": {},
   "outputs": [
    {
     "name": "stdout",
     "output_type": "stream",
     "text": [
      "[0, 1, 2, 0, 3, 0, 0, 4]\n"
     ]
    },
    {
     "ename": "IndexError",
     "evalue": "list index out of range",
     "output_type": "error",
     "traceback": [
      "\u001b[1;31m---------------------------------------------------------------------------\u001b[0m",
      "\u001b[1;31mIndexError\u001b[0m                                Traceback (most recent call last)",
      "Cell \u001b[1;32mIn[136], line 2\u001b[0m\n\u001b[0;32m      1\u001b[0m \u001b[38;5;28mprint\u001b[39m(remove_leading_zeros([\u001b[38;5;241m0\u001b[39m, \u001b[38;5;241m0\u001b[39m, \u001b[38;5;241m1\u001b[39m, \u001b[38;5;241m2\u001b[39m, \u001b[38;5;241m0\u001b[39m, \u001b[38;5;241m3\u001b[39m, \u001b[38;5;241m0\u001b[39m, \u001b[38;5;241m0\u001b[39m, \u001b[38;5;241m4\u001b[39m]))  \u001b[38;5;66;03m# ➤ [1, 2, 0, 3, 0, 0, 4]\u001b[39;00m\n\u001b[1;32m----> 2\u001b[0m \u001b[38;5;28mprint\u001b[39m(\u001b[43mremove_leading_zeros\u001b[49m\u001b[43m(\u001b[49m\u001b[43m[\u001b[49m\u001b[38;5;241;43m0\u001b[39;49m\u001b[43m,\u001b[49m\u001b[43m \u001b[49m\u001b[38;5;241;43m0\u001b[39;49m\u001b[43m,\u001b[49m\u001b[43m \u001b[49m\u001b[38;5;241;43m0\u001b[39;49m\u001b[43m]\u001b[49m\u001b[43m)\u001b[49m)                   \u001b[38;5;66;03m# ➤ []\u001b[39;00m\n\u001b[0;32m      3\u001b[0m \u001b[38;5;28mprint\u001b[39m(remove_leading_zeros([\u001b[38;5;241m5\u001b[39m, \u001b[38;5;241m0\u001b[39m, \u001b[38;5;241m1\u001b[39m]))                   \u001b[38;5;66;03m# ➤ [5, 0, 1]\u001b[39;00m\n\u001b[0;32m      4\u001b[0m \u001b[38;5;28mprint\u001b[39m(remove_leading_zeros([\u001b[38;5;241m0\u001b[39m, \u001b[38;5;241m7\u001b[39m, \u001b[38;5;241m0\u001b[39m, \u001b[38;5;241m8\u001b[39m])) \n",
      "Cell \u001b[1;32mIn[135], line 6\u001b[0m, in \u001b[0;36mremove_leading_zeros\u001b[1;34m(lst)\u001b[0m\n\u001b[0;32m      4\u001b[0m     \u001b[38;5;28;01mreturn\u001b[39;00m  []\n\u001b[0;32m      5\u001b[0m \u001b[38;5;28;01mfor\u001b[39;00m i \u001b[38;5;129;01min\u001b[39;00m \u001b[38;5;28mrange\u001b[39m(\u001b[38;5;241m0\u001b[39m,length,\u001b[38;5;241m1\u001b[39m):\n\u001b[1;32m----> 6\u001b[0m     \u001b[38;5;28;01mif\u001b[39;00m \u001b[43mlst\u001b[49m\u001b[43m[\u001b[49m\u001b[43mi\u001b[49m\u001b[43m]\u001b[49m\u001b[38;5;241m==\u001b[39m\u001b[38;5;241m0\u001b[39m:\n\u001b[0;32m      7\u001b[0m         lst\u001b[38;5;241m.\u001b[39mremove(lst[i])\n\u001b[0;32m      8\u001b[0m     \u001b[38;5;28;01melif\u001b[39;00m lst[i]\u001b[38;5;241m!=\u001b[39m\u001b[38;5;241m0\u001b[39m:\n",
      "\u001b[1;31mIndexError\u001b[0m: list index out of range"
     ]
    }
   ],
   "source": [
    "print(remove_leading_zeros([0, 0, 1, 2, 0, 3, 0, 0, 4]))  # ➤ [1, 2, 0, 3, 0, 0, 4]\n",
    "print(remove_leading_zeros([0, 0, 0]))                   # ➤ []\n",
    "print(remove_leading_zeros([5, 0, 1]))                   # ➤ [5, 0, 1]\n",
    "print(remove_leading_zeros([0, 7, 0, 8])) "
   ]
  },
  {
   "cell_type": "code",
   "execution_count": 132,
   "id": "a947f9d2",
   "metadata": {},
   "outputs": [],
   "source": [
    "def remove_leading_zeros(lst):\n",
    "    length = len(lst)\n",
    "    if length == 0:\n",
    "        return []\n",
    "\n",
    "    i = 0\n",
    "    while i < len(lst) and lst[i] == 0:\n",
    "        i += 1\n",
    "    return lst[i:]\n"
   ]
  },
  {
   "cell_type": "code",
   "execution_count": 133,
   "id": "9c519754",
   "metadata": {},
   "outputs": [
    {
     "name": "stdout",
     "output_type": "stream",
     "text": [
      "[1, 2, 0, 3, 0, 0, 4]\n",
      "[]\n",
      "[5, 0, 1]\n",
      "[7, 0, 8]\n"
     ]
    }
   ],
   "source": [
    "print(remove_leading_zeros([0, 0, 1, 2, 0, 3, 0, 0, 4]))  # ➤ [1, 2, 0, 3, 0, 0, 4]\n",
    "print(remove_leading_zeros([0, 0, 0]))                   # ➤ []\n",
    "print(remove_leading_zeros([5, 0, 1]))                   # ➤ [5, 0, 1]\n",
    "print(remove_leading_zeros([0, 7, 0, 8]))                # ➤ [7, 0, 8]\n"
   ]
  },
  {
   "cell_type": "code",
   "execution_count": null,
   "id": "2bf5f7a7",
   "metadata": {},
   "outputs": [],
   "source": [
    "if __name__ == \"__main__\":\n",
    "    lst = list(map(int, input(\"Enter list elements: \").split()))\n",
    "    result = remove_leading_zeros(lst)\n",
    "    print(\"Result:\", result)\n"
   ]
  },
  {
   "cell_type": "markdown",
   "id": "21d708be",
   "metadata": {},
   "source": [
    "app2-"
   ]
  },
  {
   "cell_type": "code",
   "execution_count": null,
   "id": "e53d2747",
   "metadata": {},
   "outputs": [],
   "source": [
    "def remove_leading_zeros(lst):\n",
    "    pass  # 👉 Write your logic here\n"
   ]
  },
  {
   "cell_type": "code",
   "execution_count": null,
   "id": "ab7cdb5b",
   "metadata": {},
   "outputs": [],
   "source": [
    "print(remove_leading_zeros([0, 0, 1, 2, 0, 3, 0, 0, 4]))  # ➤ [1, 2, 0, 3, 0, 0, 4]\n",
    "print(remove_leading_zeros([0, 0, 0]))                   # ➤ []\n",
    "print(remove_leading_zeros([5, 0, 1]))                   # ➤ [5, 0, 1]\n",
    "print(remove_leading_zeros([0, 7, 0, 8]))                # ➤ [7, 0, 8]\n"
   ]
  },
  {
   "cell_type": "code",
   "execution_count": null,
   "id": "daca8422",
   "metadata": {},
   "outputs": [],
   "source": [
    "if __name__ == \"__main__\":\n",
    "    lst = list(map(int, input(\"Enter list elements: \").split()))\n",
    "    result = remove_leading_zeros(lst)\n",
    "    print(\"Result:\", result)\n"
   ]
  },
  {
   "cell_type": "markdown",
   "id": "aa68bacb",
   "metadata": {},
   "source": [
    "# [23] Find the Largest Subarray with Contiguous Elements:"
   ]
  },
  {
   "cell_type": "markdown",
   "id": "cb239ab9",
   "metadata": {},
   "source": [
    "### Question:\n",
    "Write a function to find the largest subarray with contiguous elements in a list.\n",
    "\n",
    "### Logic:\n",
    "Use a loop and keep track of the longest contiguous subarray.\n",
    "\n",
    "### Sample Input:\n",
    "[1, 2, 3, 4, 6, 7, 8, 9, 10]\n",
    "\n",
    "### Expected Output:\n",
    "[1, 2, 3, 4]\n"
   ]
  },
  {
   "cell_type": "markdown",
   "id": "e506e9cc",
   "metadata": {},
   "source": [
    "app-1"
   ]
  },
  {
   "cell_type": "code",
   "execution_count": 139,
   "id": "6aa8810e",
   "metadata": {},
   "outputs": [],
   "source": [
    "def largest_contiguous_subarray(lst):\n",
    "    length=len(lst)\n",
    "    index=0\n",
    "    for i in range(1,length,1):\n",
    "        if lst[i]==lst[i-1]+1:\n",
    "            index=i\n",
    "        else:\n",
    "            break\n",
    "    return lst[0:index]\n",
    "            \n",
    "    pass  # 👉 Write your logic here\n"
   ]
  },
  {
   "cell_type": "code",
   "execution_count": 140,
   "id": "3351168e",
   "metadata": {},
   "outputs": [
    {
     "name": "stdout",
     "output_type": "stream",
     "text": [
      "[1, 2, 3]\n",
      "[10, 11]\n",
      "[4, 5]\n",
      "[]\n"
     ]
    }
   ],
   "source": [
    "print(largest_contiguous_subarray([1, 2, 3, 4, 6, 7, 8, 9, 10]))  # ➤ [1, 2, 3, 4]\n",
    "print(largest_contiguous_subarray([10, 11, 12, 5, 6]))            # ➤ [10, 11, 12]\n",
    "print(largest_contiguous_subarray([4, 5, 6, 1, 2, 3]))            # ➤ [4, 5, 6]\n",
    "print(largest_contiguous_subarray([1, 3, 5, 7]))                  # ➤ [1]\n"
   ]
  },
  {
   "cell_type": "code",
   "execution_count": null,
   "id": "ce7091b9",
   "metadata": {},
   "outputs": [],
   "source": [
    "if __name__ == \"__main__\":\n",
    "    lst = list(map(int, input(\"Enter list elements: \").split()))\n",
    "    result = largest_contiguous_subarray(lst)\n",
    "    print(\"Result:\", result)\n"
   ]
  },
  {
   "cell_type": "markdown",
   "id": "511b8538",
   "metadata": {},
   "source": [
    "# [24] Find the First Missing Positive Integer:"
   ]
  },
  {
   "cell_type": "markdown",
   "id": "6960c03f",
   "metadata": {},
   "source": [
    "### Question:\n",
    "Write a function to find the first missing positive integer in a list of unsorted integers.\n",
    "\n",
    "### Logic:\n",
    "Use a loop and reposition elements to place each positive integer at its respective index.\n",
    "\n",
    "### Sample Input:\n",
    "[3, 4, -1, 1]\n",
    "\n",
    "### Expected Output:\n",
    "2\n"
   ]
  },
  {
   "cell_type": "markdown",
   "id": "275268ec",
   "metadata": {},
   "source": []
  },
  {
   "cell_type": "code",
   "execution_count": 155,
   "id": "b1d4c096",
   "metadata": {},
   "outputs": [],
   "source": [
    "def first_missing_positive(lst):\n",
    "    length = len(lst)\n",
    "    final = sorted(lst)\n",
    "    \n",
    "    if 1 not in final:\n",
    "        return 1\n",
    "\n",
    "    for i in range(length - 1):\n",
    "        if final[i] > 0:\n",
    "            # Skip duplicates\n",
    "            if final[i] == final[i+1]:\n",
    "                continue\n",
    "            if final[i+1] != final[i] + 1:\n",
    "                return final[i] + 1\n",
    "\n",
    "    # If all positives are consecutive, return next one\n",
    "    return final[-1] + 1\n",
    "\n"
   ]
  },
  {
   "cell_type": "code",
   "execution_count": 161,
   "id": "0c805750",
   "metadata": {},
   "outputs": [],
   "source": [
    "def first_missing_positive(lst):\n",
    "    length=len(lst)\n",
    "    final=sorted(lst)\n",
    "    if 1 not in final:\n",
    "        return 1\n",
    "    for i in range(0,length-1,1):\n",
    "        if final[i]>0:\n",
    "            if final[i+1]!=final[i]+1:\n",
    "                return i+1\n",
    "    pass  # 👉 Write your logic here"
   ]
  },
  {
   "cell_type": "code",
   "execution_count": 162,
   "id": "37033225",
   "metadata": {},
   "outputs": [
    {
     "name": "stdout",
     "output_type": "stream",
     "text": [
      "2\n",
      "None\n",
      "1\n",
      "1\n"
     ]
    }
   ],
   "source": [
    "print(first_missing_positive([3, 4, -1, 1]))          # ➤ 2\n",
    "print(first_missing_positive([1, 2, 0]))              # ➤ 3\n",
    "print(first_missing_positive([7, 8, 9, 11, 12]))      # ➤ 1\n",
    "print(first_missing_positive([-1, -2, -60, 0, 2]))    # ➤ 1\n"
   ]
  },
  {
   "cell_type": "code",
   "execution_count": 147,
   "id": "2c73b639",
   "metadata": {},
   "outputs": [],
   "source": [
    "def first_missing_positive(lst):\n",
    "    nums = set(lst)\n",
    "    i = 1\n",
    "    while True:\n",
    "        if i not in nums:\n",
    "            return i\n",
    "        i += 1\n"
   ]
  },
  {
   "cell_type": "code",
   "execution_count": 148,
   "id": "0dbeec44",
   "metadata": {},
   "outputs": [
    {
     "name": "stdout",
     "output_type": "stream",
     "text": [
      "2\n",
      "3\n",
      "1\n",
      "1\n"
     ]
    }
   ],
   "source": [
    "print(first_missing_positive([3, 4, -1, 1]))          # ➤ 2\n",
    "print(first_missing_positive([1, 2, 0]))              # ➤ 3\n",
    "print(first_missing_positive([7, 8, 9, 11, 12]))      # ➤ 1\n",
    "print(first_missing_positive([-1, -2, -60, 0, 2]))    # ➤ 1\n"
   ]
  },
  {
   "cell_type": "code",
   "execution_count": null,
   "id": "a4548411",
   "metadata": {},
   "outputs": [],
   "source": [
    "if __name__ == \"__main__\":\n",
    "    lst = list(map(int, input(\"Enter list elements: \").split()))\n",
    "    result = first_missing_positive(lst)\n",
    "    print(\"First missing positive integer is:\", result)\n"
   ]
  },
  {
   "cell_type": "markdown",
   "id": "be5d6317",
   "metadata": {},
   "source": [
    "# [25] Find the Smallest Missing Positive Integer:"
   ]
  },
  {
   "cell_type": "markdown",
   "id": "1bf0aa43",
   "metadata": {},
   "source": [
    "### Question:\n",
    "Write a function to find the smallest missing positive integer in a list of unsorted integers.\n",
    "\n",
    "### Logic:\n",
    "Use a loop and reposition elements to place each positive integer at its respective index.\n",
    "\n",
    "### Sample Input:\n",
    "[7, 8, 9, 11, 12]\n",
    "\n",
    "### Expected Output:\n",
    "1\n"
   ]
  },
  {
   "cell_type": "code",
   "execution_count": null,
   "id": "7c8db126",
   "metadata": {},
   "outputs": [],
   "source": []
  },
  {
   "cell_type": "code",
   "execution_count": null,
   "id": "fe0d5fe0",
   "metadata": {},
   "outputs": [],
   "source": []
  },
  {
   "cell_type": "markdown",
   "id": "be77ccff",
   "metadata": {},
   "source": [
    "# [26] Find the Longest Subarray with Equal 0s and 1s:"
   ]
  },
  {
   "cell_type": "markdown",
   "id": "72623af7",
   "metadata": {},
   "source": [
    "### Question:\n",
    "Write a function to find the longest subarray with an equal number of 0s and 1s in a list of binary integers.\n",
    "\n",
    "### Logic:\n",
    "Use a loop and keep track of the longest subarray with a balance of 0s and 1s.\n",
    "\n",
    "### Sample Input:\n",
    "[0, 1, 0, 0, 1, 1, 0]\n",
    "\n",
    "### Expected Output:\n",
    "[0, 1, 0, 0, 1, 1]\n"
   ]
  },
  {
   "cell_type": "code",
   "execution_count": null,
   "id": "1ff32bd9",
   "metadata": {},
   "outputs": [],
   "source": [
    "def longest_equal_zero_one_subarray(lst):\n",
    "    pass  # 👉 Write your logic here\n"
   ]
  },
  {
   "cell_type": "code",
   "execution_count": null,
   "id": "3876711d",
   "metadata": {},
   "outputs": [],
   "source": [
    "print(longest_equal_zero_one_subarray([0, 1, 0, 0, 1, 1, 0]))  # ➤ [0, 1, 0, 0, 1, 1]\n",
    "print(longest_equal_zero_one_subarray([1, 1, 1, 0, 0, 1, 0]))  # ➤ [1, 0, 0, 1, 0]\n",
    "print(longest_equal_zero_one_subarray([0, 0, 1, 1, 1, 0, 0]))  # ➤ [0, 0, 1, 1]\n",
    "print(longest_equal_zero_one_subarray([1, 0, 1, 0, 1, 0]))     # ➤ [1, 0, 1, 0, 1, 0]\n"
   ]
  },
  {
   "cell_type": "code",
   "execution_count": null,
   "id": "6eb10fe1",
   "metadata": {},
   "outputs": [],
   "source": [
    "if __name__ == \"__main__\":\n",
    "    lst = list(map(int, input(\"Enter binary list elements (0s and 1s): \").split()))\n",
    "    result = longest_equal_zero_one_subarray(lst)\n",
    "    print(\"Longest subarray with equal 0s and 1s:\", result)\n"
   ]
  },
  {
   "cell_type": "code",
   "execution_count": 164,
   "id": "93ed1998",
   "metadata": {},
   "outputs": [],
   "source": [
    "def longest_equal_zero_one_subarray(arr):\n",
    "    \"\"\"\n",
    "    Finds the length of the longest contiguous subarray with an equal\n",
    "    number of zeros and ones using a brute-force approach.\n",
    "\n",
    "    Args:\n",
    "        arr: A list of integers (0s and 1s).\n",
    "\n",
    "    Returns:\n",
    "        The length of the longest subarray with an equal number of zeros and ones.\n",
    "        Returns 0 if no such subarray exists.\n",
    "    \"\"\"\n",
    "    n = len(arr)\n",
    "    max_len = 0\n",
    "\n",
    "    # Outer loop to define the starting point of the subarray\n",
    "    for i in range(n):\n",
    "        zero_count = 0\n",
    "        one_count = 0\n",
    "\n",
    "        # Inner loop to define the ending point of the subarray\n",
    "        for j in range(i, n):\n",
    "            if arr[j] == 0:\n",
    "                zero_count += 1\n",
    "            elif arr[j] == 1:\n",
    "                one_count += 1\n",
    "\n",
    "            # Check if the current subarray has an equal number of zeros and ones\n",
    "            if zero_count == one_count:\n",
    "                current_len = j - i + 1\n",
    "                if current_len > max_len:\n",
    "                    max_len = current_len\n",
    "\n",
    "    return max_len\n",
    "\n"
   ]
  },
  {
   "cell_type": "code",
   "execution_count": 165,
   "id": "e88fd1cd",
   "metadata": {},
   "outputs": [
    {
     "name": "stdout",
     "output_type": "stream",
     "text": [
      "Input: [0, 0, 0, 1, 1, 0], Expected: 4, Got: 4 -> PASS\n",
      "Input: [1, 1, 0, 0, 1, 0], Expected: 6, Got: 6 -> PASS\n",
      "Input: [0, 1, 0, 1, 0, 1], Expected: 6, Got: 6 -> PASS\n",
      "Input: [1, 1, 1, 1], Expected: 0, Got: 0 -> PASS\n",
      "Input: [0, 0, 0, 0], Expected: 0, Got: 0 -> PASS\n",
      "Input: [0, 1], Expected: 2, Got: 2 -> PASS\n",
      "Input: [1, 0], Expected: 2, Got: 2 -> PASS\n",
      "Input: [], Expected: 0, Got: 0 -> PASS\n",
      "Input: [0], Expected: 0, Got: 0 -> PASS\n",
      "Input: [1], Expected: 0, Got: 0 -> PASS\n",
      "Input: [0, 0, 1, 1, 0, 0, 1, 1], Expected: 8, Got: 8 -> PASS\n",
      "Input: [0, 1, 1, 0, 1, 1], Expected: 4, Got: 4 -> PASS\n",
      "Input: [1, 0, 0, 1, 0, 1], Expected: 6, Got: 6 -> PASS\n"
     ]
    }
   ],
   "source": [
    "# --- Test Cases ---\n",
    "if __name__ == \"__main__\":\n",
    "    test_cases = [\n",
    "        ([0, 0, 0, 1, 1, 0], 4),  # Example from your image (subarray [0,0,1,1] or [0,1,1,0])\n",
    "        ([1, 1, 0, 0, 1, 0], 6),  # The whole array\n",
    "        ([0, 1, 0, 1, 0, 1], 6),  # The whole array\n",
    "        ([1, 1, 1, 1], 0),         # No equal zeros and ones\n",
    "        ([0, 0, 0, 0], 0),         # No equal zeros and ones\n",
    "        ([0, 1], 2),              # Simple case\n",
    "        ([1, 0], 2),              # Simple case\n",
    "        ([], 0),                  # Empty array\n",
    "        ([0], 0),                 # Single element\n",
    "        ([1], 0),                 # Single element\n",
    "        ([0, 0, 1, 1, 0, 0, 1, 1], 8), # The whole array\n",
    "        ([0,1,1,0,1,1], 4),        # Subarray [0,1,1,0]\n",
    "        ([1,0,0,1,0,1], 6)\n",
    "    ]\n",
    "\n",
    "    for arr, expected in test_cases:\n",
    "        result = longest_equal_zero_one_subarray(arr)\n",
    "        print(f\"Input: {arr}, Expected: {expected}, Got: {result} -> {'PASS' if result == expected else 'FAIL'}\")\n",
    "        assert result == expected, f\"Test failed for {arr}. Expected {expected}, got {result}\""
   ]
  },
  {
   "cell_type": "markdown",
   "id": "4590be70",
   "metadata": {},
   "source": [
    "betterr approach"
   ]
  },
  {
   "cell_type": "code",
   "execution_count": 166,
   "id": "ddeaefd4",
   "metadata": {},
   "outputs": [],
   "source": [
    "def longest_equal_0s_1s_subarray(arr):\n",
    "    # Convert 0 to -1 using a normal for loop\n",
    "    transformed = []\n",
    "    for x in arr:\n",
    "        if x == 0:\n",
    "            transformed.append(-1)\n",
    "        else:\n",
    "            transformed.append(1)\n",
    "\n",
    "    prefix_sum = 0\n",
    "    max_len = 0\n",
    "    start_index = -1\n",
    "    prefix_map = {0: -1}\n",
    "\n",
    "    for i in range(len(transformed)):\n",
    "        prefix_sum += transformed[i]\n",
    "\n",
    "        if prefix_sum in prefix_map:\n",
    "            length = i - prefix_map[prefix_sum]\n",
    "            if length > max_len:\n",
    "                max_len = length\n",
    "                start_index = prefix_map[prefix_sum] + 1\n",
    "        else:\n",
    "            prefix_map[prefix_sum] = i\n",
    "\n",
    "    if max_len == 0:\n",
    "        return []\n",
    "    return arr[start_index:start_index + max_len]\n"
   ]
  },
  {
   "cell_type": "code",
   "execution_count": 167,
   "id": "19fe64b5",
   "metadata": {},
   "outputs": [
    {
     "name": "stdout",
     "output_type": "stream",
     "text": [
      "Input: [0, 0, 0, 1, 1, 0], Expected: 4, Got: 4 -> PASS\n",
      "Input: [1, 1, 0, 0, 1, 0], Expected: 6, Got: 6 -> PASS\n",
      "Input: [0, 1, 0, 1, 0, 1], Expected: 6, Got: 6 -> PASS\n",
      "Input: [1, 1, 1, 1], Expected: 0, Got: 0 -> PASS\n",
      "Input: [0, 0, 0, 0], Expected: 0, Got: 0 -> PASS\n",
      "Input: [0, 1], Expected: 2, Got: 2 -> PASS\n",
      "Input: [1, 0], Expected: 2, Got: 2 -> PASS\n",
      "Input: [], Expected: 0, Got: 0 -> PASS\n",
      "Input: [0], Expected: 0, Got: 0 -> PASS\n",
      "Input: [1], Expected: 0, Got: 0 -> PASS\n",
      "Input: [0, 0, 1, 1, 0, 0, 1, 1], Expected: 8, Got: 8 -> PASS\n",
      "Input: [0, 1, 1, 0, 1, 1], Expected: 4, Got: 4 -> PASS\n",
      "Input: [1, 0, 0, 1, 0, 1], Expected: 6, Got: 6 -> PASS\n"
     ]
    }
   ],
   "source": [
    "# --- Test Cases ---\n",
    "if __name__ == \"__main__\":\n",
    "    test_cases = [\n",
    "        ([0, 0, 0, 1, 1, 0], 4),  # Example from your image (subarray [0,0,1,1] or [0,1,1,0])\n",
    "        ([1, 1, 0, 0, 1, 0], 6),  # The whole array\n",
    "        ([0, 1, 0, 1, 0, 1], 6),  # The whole array\n",
    "        ([1, 1, 1, 1], 0),         # No equal zeros and ones\n",
    "        ([0, 0, 0, 0], 0),         # No equal zeros and ones\n",
    "        ([0, 1], 2),              # Simple case\n",
    "        ([1, 0], 2),              # Simple case\n",
    "        ([], 0),                  # Empty array\n",
    "        ([0], 0),                 # Single element\n",
    "        ([1], 0),                 # Single element\n",
    "        ([0, 0, 1, 1, 0, 0, 1, 1], 8), # The whole array\n",
    "        ([0,1,1,0,1,1], 4),        # Subarray [0,1,1,0]\n",
    "        ([1,0,0,1,0,1], 6)\n",
    "    ]\n",
    "\n",
    "    for arr, expected in test_cases:\n",
    "        result = longest_equal_zero_one_subarray(arr)\n",
    "        print(f\"Input: {arr}, Expected: {expected}, Got: {result} -> {'PASS' if result == expected else 'FAIL'}\")\n",
    "        assert result == expected, f\"Test failed for {arr}. Expected {expected}, got {result}\""
   ]
  }
 ],
 "metadata": {
  "kernelspec": {
   "display_name": "Python 3",
   "language": "python",
   "name": "python3"
  },
  "language_info": {
   "codemirror_mode": {
    "name": "ipython",
    "version": 3
   },
   "file_extension": ".py",
   "mimetype": "text/x-python",
   "name": "python",
   "nbconvert_exporter": "python",
   "pygments_lexer": "ipython3",
   "version": "3.13.1"
  }
 },
 "nbformat": 4,
 "nbformat_minor": 5
}
