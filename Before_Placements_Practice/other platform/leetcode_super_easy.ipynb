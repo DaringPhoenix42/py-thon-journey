{
 "cells": [
  {
   "cell_type": "markdown",
   "id": "3d770b93",
   "metadata": {},
   "source": [
    "# [1] Maximum Number of Words Found in Sentences"
   ]
  },
  {
   "cell_type": "code",
   "execution_count": null,
   "id": "5799a9b4",
   "metadata": {},
   "outputs": [],
   "source": [
    "class Solution(object):\n",
    "    def mostWordsFound(self, sentences):\n",
    "        \"\"\"\n",
    "        :type sentences: List[str]\n",
    "        :rtype: int\n",
    "        \"\"\"\n",
    "        length=len(sentences)\n",
    "        if length==0:\n",
    "            return 0\n",
    "        count=0\n",
    "        for i in range(0,length,1):\n",
    "            val=sentences[i]\n",
    "            res=val.split()\n",
    "            print(res)\n",
    "            if len(res)>count:\n",
    "                count=len(res)\n",
    "        return count"
   ]
  },
  {
   "cell_type": "markdown",
   "id": "d5b81ef0",
   "metadata": {},
   "source": [
    "# [2]  Count the Digits That Divide a Number\n",
    "Solved\n",
    "Easy\n",
    "Topics\n",
    "premium lock iconCompanies\n",
    "Hint\n",
    "\n",
    "Given an integer num, return the number of digits in num that divide num.\n",
    "\n",
    "An integer val divides nums if nums % val == 0"
   ]
  },
  {
   "cell_type": "code",
   "execution_count": null,
   "id": "a313be18",
   "metadata": {},
   "outputs": [],
   "source": [
    "class Solution(object):\n",
    "    def countDigits(self, num):\n",
    "        original = num  # Save original number\n",
    "        count = 0\n",
    "        while num > 0:\n",
    "            digit = num % 10  # Get last digit\n",
    "            if digit != 0 and original % digit == 0:\n",
    "                count += 1    # Correct way to increment\n",
    "            num = num // 10   # Remove last digit\n",
    "        \n",
    "        return count"
   ]
  },
  {
   "cell_type": "markdown",
   "id": "d984e1e4",
   "metadata": {},
   "source": [
    "# [3] 2108. Find First Palindromic String in the Array\n",
    "Solved\n",
    "Easy\n",
    "Topics\n",
    "premium lock iconCompanies\n",
    "Hint\n",
    "\n",
    "Given an array of strings words, return the first palindromic string in the array. If there is no such string, return an empty string \"\".\n",
    "\n",
    "A string is palindromic if it reads the same forward and backward"
   ]
  },
  {
   "cell_type": "code",
   "execution_count": 1,
   "id": "29b844b5",
   "metadata": {},
   "outputs": [],
   "source": [
    "class Solution(object):\n",
    "    def firstPalindrome(self, words):\n",
    "        \"\"\"\n",
    "        :type words: List[str]\n",
    "        :rtype: str\n",
    "        \"\"\"\n",
    "        result=\"\"\n",
    "        length=len(words)\n",
    "        for i in range(length):\n",
    "            \n",
    "            if words[i]==words[i][::-1]:\n",
    "                return words[i]"
   ]
  },
  {
   "cell_type": "markdown",
   "id": "3da5c9e2",
   "metadata": {},
   "source": [
    "# [4] 2798. Number of Employees Who Met the Target\n",
    "Easy\n",
    "Topics\n",
    "premium lock iconCompanies\n",
    "Hint\n",
    "\n",
    "There are n employees in a company, numbered from 0 to n - 1. Each employee i has worked for hours[i] hours in the company.\n",
    "\n",
    "The company requires each employee to work for at least target hours.\n",
    "\n",
    "You are given a 0-indexed array of non-negative integers hours of length n and a non-negative integer target"
   ]
  },
  {
   "cell_type": "code",
   "execution_count": null,
   "id": "525df5e4",
   "metadata": {},
   "outputs": [],
   "source": [
    "class Solution(object):\n",
    "    def numberOfEmployeesWhoMetTarget(self, hours, target):\n",
    "        \"\"\"\n",
    "        :type hours: List[int]\n",
    "        :type target: int\n",
    "        :rtype: int\n",
    "        \"\"\"\n",
    "        count=0\n",
    "        for i in range(len(hours)):\n",
    "            if hours[i]>=target:\n",
    "                count+=1\n",
    "        return count\n",
    "\n"
   ]
  },
  {
   "cell_type": "markdown",
   "id": "7c47129c",
   "metadata": {},
   "source": [
    "# [5]  Difference Between Element Sum and Digit Sum of an Array\n",
    "Easy\n",
    "Topics\n",
    "premium lock iconCompanies\n",
    "Hint\n",
    "\n",
    "You are given a positive integer array nums.\n",
    "\n",
    "    The element sum is the sum of all the elements in nums.\n",
    "    The digit sum is the sum of all the digits (not necessarily distinct) that appear in nums.\n",
    "\n",
    "Return the absolute difference between the element sum and digit sum of nums.\n",
    "\n",
    "Note that the absolute difference between two integers x and y is defined a"
   ]
  },
  {
   "cell_type": "code",
   "execution_count": 1,
   "id": "91379063",
   "metadata": {},
   "outputs": [],
   "source": [
    "class Solution(object):\n",
    "    def differenceOfSum(self, nums):\n",
    "        \"\"\"\n",
    "        :type nums: List[int]\n",
    "        :rtype: int\n",
    "        \"\"\"\n",
    "        length=len(nums)\n",
    "\n",
    "        elementsum=sum(nums)\n",
    "        digitsum=0\n",
    "        for num in nums:\n",
    "            num2=num\n",
    "            while num2!=0:\n",
    "                digit=num2%10\n",
    "                digitsum+=digit\n",
    "                num2=num2//10\n",
    "        return abs(elementsum-digitsum)\n"
   ]
  },
  {
   "cell_type": "markdown",
   "id": "63b3f66f",
   "metadata": {},
   "source": [
    "# [6] "
   ]
  }
 ],
 "metadata": {
  "kernelspec": {
   "display_name": "Python 3",
   "language": "python",
   "name": "python3"
  },
  "language_info": {
   "codemirror_mode": {
    "name": "ipython",
    "version": 3
   },
   "file_extension": ".py",
   "mimetype": "text/x-python",
   "name": "python",
   "nbconvert_exporter": "python",
   "pygments_lexer": "ipython3",
   "version": "3.13.1"
  }
 },
 "nbformat": 4,
 "nbformat_minor": 5
}
