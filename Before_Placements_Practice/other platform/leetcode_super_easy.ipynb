{
 "cells": [
  {
   "cell_type": "markdown",
   "id": "e1e0c8ab",
   "metadata": {},
   "source": [
    "Hello"
   ]
  },
  {
   "cell_type": "markdown",
   "id": "3d770b93",
   "metadata": {},
   "source": [
    "# [1] Maximum Number of Words Found in Sentences"
   ]
  },
  {
   "cell_type": "code",
   "execution_count": null,
   "id": "5799a9b4",
   "metadata": {},
   "outputs": [],
   "source": [
    "class Solution(object):\n",
    "    def mostWordsFound(self, sentences):\n",
    "        \"\"\"\n",
    "        :type sentences: List[str]\n",
    "        :rtype: int\n",
    "        \"\"\"\n",
    "        length=len(sentences)\n",
    "        if length==0:\n",
    "            return 0\n",
    "        count=0\n",
    "        for i in range(0,length,1):\n",
    "            val=sentences[i]\n",
    "            res=val.split()\n",
    "            print(res)\n",
    "            if len(res)>count:\n",
    "                count=len(res)\n",
    "        return count"
   ]
  }
 ],
 "metadata": {
  "kernelspec": {
   "display_name": "Python 3",
   "language": "python",
   "name": "python3"
  },
  "language_info": {
   "name": "python",
   "version": "3.13.1"
  }
 },
 "nbformat": 4,
 "nbformat_minor": 5
}
