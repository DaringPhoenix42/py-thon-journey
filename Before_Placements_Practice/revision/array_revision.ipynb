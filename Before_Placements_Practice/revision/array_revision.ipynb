{
 "cells": [
  {
   "cell_type": "markdown",
   "id": "edfb11e2",
   "metadata": {},
   "source": [
    "# [1] Find the Largest element in an array"
   ]
  },
  {
   "cell_type": "code",
   "execution_count": 7,
   "id": "66f41382",
   "metadata": {},
   "outputs": [],
   "source": [
    "class Solution(object):\n",
    "    \n",
    "    def largest_element(self,array):\n",
    "        array.sort(reverse=True)\n",
    "        print(array)\n",
    "        return array[0]\n"
   ]
  },
  {
   "cell_type": "code",
   "execution_count": 8,
   "id": "7b1783d6",
   "metadata": {},
   "outputs": [
    {
     "name": "stdout",
     "output_type": "stream",
     "text": [
      "[15, 7, 4, 2]\n",
      "15\n"
     ]
    }
   ],
   "source": [
    "sol=Solution()\n",
    "array=[2,15,4,7]\n",
    "result=sol.largest_element(array)\n",
    "print(result)"
   ]
  },
  {
   "cell_type": "markdown",
   "id": "64ff69c2",
   "metadata": {},
   "source": [
    "# [2] Find Second Smallest and Second Largest Element in an array"
   ]
  },
  {
   "cell_type": "code",
   "execution_count": null,
   "id": "0c3b44bb",
   "metadata": {},
   "outputs": [],
   "source": [
    "class Solution:\n",
    "    def getSecondLargest(self, arr):\n",
    "        length = len(arr)\n",
    "        if length < 2:\n",
    "            return -1  # No second largest if less than 2 elements\n",
    "\n",
    "        maxel = float('-inf')\n",
    "        secondlarg = float('-inf')\n",
    "\n",
    "        # Find largest element\n",
    "        for num in arr:\n",
    "            if num > maxel:\n",
    "                maxel = num\n",
    "\n",
    "        # Check if all elements are equal\n",
    "        if arr.count(maxel) == length:\n",
    "            return -1\n",
    "\n",
    "        # Find second largest\n",
    "        for num in arr:\n",
    "            if num > secondlarg and num < maxel:\n",
    "                secondlarg = num\n",
    "\n",
    "        return secondlarg\n"
   ]
  },
  {
   "cell_type": "code",
   "execution_count": 9,
   "id": "b2c56646",
   "metadata": {},
   "outputs": [],
   "source": [
    "class Solution:\n",
    "    def getSecondLargest(self, arr):\n",
    "        # Code Here\n",
    "        length=len(arr)\n",
    "        if length < 2:\n",
    "            return -1\n",
    "        if len(set(arr)) == 1:\n",
    "            return -1\n",
    "\n",
    "        maxel=float('-inf')\n",
    "        secondlarg=float('-inf')\n",
    "        count=0\n",
    "        for i in range(length):\n",
    "            if arr[i]>maxel:\n",
    "                maxel=arr[i]\n",
    "\n",
    "        for j in range(length):\n",
    "            if secondlarg<arr[j]<maxel:\n",
    "                secondlarg=arr[j]\n",
    "        return secondlarg"
   ]
  },
  {
   "cell_type": "code",
   "execution_count": 10,
   "id": "b1d0da46",
   "metadata": {},
   "outputs": [],
   "source": [
    "class Solution:\n",
    "    def getSecondLargest(self, arr):\n",
    "        length = len(arr)\n",
    "        if length < 2:\n",
    "            return -1\n",
    "        if len(set(arr)) == 1:\n",
    "            return -1\n",
    "\n",
    "        arr.sort(reverse=True)\n",
    "        maxel = arr[0]\n",
    "\n",
    "        # Find the first element less than maxel\n",
    "        for i in range(1, length):\n",
    "            if arr[i] < maxel:\n",
    "                return arr[i]\n",
    "\n",
    "        # If no second largest exists\n",
    "        return -1\n"
   ]
  },
  {
   "cell_type": "markdown",
   "id": "f42a148f",
   "metadata": {},
   "source": [
    "# [3] Check if array is sorted"
   ]
  },
  {
   "cell_type": "code",
   "execution_count": 11,
   "id": "7ac4ab81",
   "metadata": {},
   "outputs": [],
   "source": [
    "class Solution:\n",
    "    def arraySortedOrNot(self, arr) -> bool:\n",
    "        # code here\n",
    "        arr2=sorted(arr)\n",
    "        if arr==arr2:\n",
    "            return True\n",
    "        else:\n",
    "            return False"
   ]
  },
  {
   "cell_type": "markdown",
   "id": "b936205d",
   "metadata": {},
   "source": [
    "# [4] Check if the Array is Sorted II"
   ]
  },
  {
   "cell_type": "code",
   "execution_count": null,
   "id": "333e99d8",
   "metadata": {},
   "outputs": [],
   "source": []
  },
  {
   "cell_type": "markdown",
   "id": "5ebb1c2d",
   "metadata": {},
   "source": [
    "# [5] First and Second Smallest number"
   ]
  },
  {
   "cell_type": "code",
   "execution_count": 12,
   "id": "d0dbcb59",
   "metadata": {},
   "outputs": [],
   "source": [
    "class Solution:\n",
    "    def minAnd2ndMin(self, arr):\n",
    "        #code here\n",
    "        if len(set(arr))==1:\n",
    "            return[-1]\n",
    "        if len(arr)<2:\n",
    "            return[-1]\n",
    "        arr.sort()\n",
    "        smallest=arr[0]\n",
    "        secondsmall=float('inf')\n",
    "        for i in range(1,len(arr)):\n",
    "            if smallest<secondsmall>arr[i]:\n",
    "                secondsmall=arr[i]\n",
    "            if smallest==secondsmall<arr[i]:\n",
    "                secondsmall=arr[i]\n",
    "            \n",
    "        return [smallest,secondsmall]\n",
    "    \n",
    "\n"
   ]
  },
  {
   "cell_type": "code",
   "execution_count": 13,
   "id": "0244b387",
   "metadata": {},
   "outputs": [],
   "source": [
    "class Solution:\n",
    "    def minAnd2ndMin(self, arr):\n",
    "        if len(arr) < 2:\n",
    "            return [-1]\n",
    "\n",
    "        first = second = float('inf')\n",
    "\n",
    "        for num in arr:\n",
    "            if num < first:\n",
    "                second = first\n",
    "                first = num\n",
    "            elif first < num < second:\n",
    "                second = num\n",
    "\n",
    "        if second == float('inf'):\n",
    "            return [-1]\n",
    "\n",
    "        return [first, second]\n"
   ]
  },
  {
   "cell_type": "markdown",
   "id": "02849b8a",
   "metadata": {},
   "source": [
    "# [6] Remove Duplicates in-place from Sorted Array"
   ]
  },
  {
   "cell_type": "code",
   "execution_count": 14,
   "id": "a5d9d06c",
   "metadata": {},
   "outputs": [],
   "source": [
    "class Solution:\n",
    "    def removeDuplicates(self, arr):\n",
    "        seen = set()\n",
    "        result = []\n",
    "        for num in arr:\n",
    "            if num not in seen:\n",
    "                seen.add(num)\n",
    "                result.append(num)\n",
    "        return result\n"
   ]
  },
  {
   "cell_type": "code",
   "execution_count": null,
   "id": "f1058b41",
   "metadata": {},
   "outputs": [],
   "source": [
    "#User function template for Python\n",
    "\n",
    "class Solution:\n",
    "    def removeDuplicates(self, arr):\n",
    "        #Code Here\n",
    "        dict={}\n",
    "        result=[]\n",
    "        for i in range(0,len(arr),1):\n",
    "            dict[arr[i]]=dict.get(arr[i],0)+1\n",
    "            \n",
    "        for key,value in dict.items():\n",
    "            if  dict[key]==1:\n",
    "                result.append(key)\n",
    "            else:\n",
    "                continue\n",
    "        return result"
   ]
  },
  {
   "cell_type": "code",
   "execution_count": 22,
   "id": "1da6ed59",
   "metadata": {},
   "outputs": [],
   "source": [
    "def removeduplicate(arr):\n",
    "    i=0\n",
    "    \n",
    "    for j in range(1,len(arr),1):\n",
    "        \n",
    "        if arr[j]!=arr[i]:\n",
    "            i=i+1\n",
    "            arr[i]=arr[j]\n",
    "    return arr[:i+1]"
   ]
  },
  {
   "cell_type": "code",
   "execution_count": 23,
   "id": "e403c6f3",
   "metadata": {},
   "outputs": [
    {
     "name": "stdout",
     "output_type": "stream",
     "text": [
      "[1, 2, 3, 4, 5]\n"
     ]
    }
   ],
   "source": [
    "arr = [1, 1, 2, 2, 3, 4, 4, 4, 5]\n",
    "result = removeduplicate(arr)\n",
    "print(result)  # Output: [1, 2, 3, 4, 5]\n"
   ]
  },
  {
   "cell_type": "markdown",
   "id": "0f432957",
   "metadata": {},
   "source": [
    "# [7] Rotate Array by One clockwise direction"
   ]
  },
  {
   "cell_type": "code",
   "execution_count": 24,
   "id": "7ac1f85d",
   "metadata": {},
   "outputs": [],
   "source": [
    "#User function Template for python3\n",
    "\n",
    "class Solution:\n",
    "    def rotate(self, arr):\n",
    "        length=len(arr)\n",
    "        temp=arr[length-1]\n",
    "        arr.pop()\n",
    "        arr.insert(0,temp)\n",
    "        \n",
    "        return arr\n",
    "    "
   ]
  },
  {
   "cell_type": "markdown",
   "id": "e15bae32",
   "metadata": {},
   "source": [
    "# [8] Rotate Array by One anti-clockwise direction"
   ]
  },
  {
   "cell_type": "code",
   "execution_count": 36,
   "id": "eb248d87",
   "metadata": {},
   "outputs": [],
   "source": [
    "def rotate_anti_clockwise(arr):\n",
    "    length=len(arr)\n",
    "    temp=arr[0]\n",
    "    for i in range(1,length,1):\n",
    "        arr[i-1]=arr[i]\n",
    "    arr[length-1]=temp\n",
    "    \n",
    "    return arr"
   ]
  },
  {
   "cell_type": "code",
   "execution_count": 37,
   "id": "4336bedf",
   "metadata": {},
   "outputs": [
    {
     "name": "stdout",
     "output_type": "stream",
     "text": [
      "[2, 3, 4, 5, 1]\n"
     ]
    }
   ],
   "source": [
    "arr = [1, 2, 3, 4, 5]\n",
    "print(rotate_anti_clockwise(arr))"
   ]
  },
  {
   "cell_type": "code",
   "execution_count": 42,
   "id": "826f43b4",
   "metadata": {},
   "outputs": [],
   "source": [
    "def rotate_anti_clockwise2(arr):\n",
    "    length=len(arr)\n",
    "    temp=arr[0]\n",
    "    list=[]\n",
    "    for i in range(1,length,1):\n",
    "        list.append(arr[i])\n",
    "    list.append(temp)\n",
    "    return list"
   ]
  },
  {
   "cell_type": "code",
   "execution_count": 43,
   "id": "a533e046",
   "metadata": {},
   "outputs": [
    {
     "name": "stdout",
     "output_type": "stream",
     "text": [
      "[2, 3, 4, 5, 1]\n"
     ]
    }
   ],
   "source": [
    "arr = [1, 2, 3, 4, 5]\n",
    "print(rotate_anti_clockwise2(arr))"
   ]
  },
  {
   "cell_type": "markdown",
   "id": "29bb7cfa",
   "metadata": {},
   "source": [
    "# [9] Rotate Array by D places abti-clockwise direction"
   ]
  },
  {
   "cell_type": "code",
   "execution_count": 44,
   "id": "10883e30",
   "metadata": {},
   "outputs": [],
   "source": [
    "#User function Template for python3\n",
    "\n",
    "class Solution:\n",
    "    #Function to rotate an array by d elements in counter-clockwise direction. \n",
    "    def rotateArr(self, arr, d):\n",
    "        #Your code here\n",
    "        n=len(arr)\n",
    "        k=d%n\n",
    "        temp=arr[0:k]\n",
    "        for i in range(n-k):\n",
    "            arr[i]=arr[i+k]\n",
    "        arr[n-k:]=temp\n",
    "        return arr"
   ]
  },
  {
   "cell_type": "markdown",
   "id": "6e52a22a",
   "metadata": {},
   "source": [
    "# [10] Rotate Array by D places anti clockwise direction"
   ]
  },
  {
   "cell_type": "code",
   "execution_count": 76,
   "id": "d176fadf",
   "metadata": {},
   "outputs": [],
   "source": [
    "def rotateArr( arr, d):\n",
    "        #Your code here\n",
    "        n=len(arr)\n",
    "        k=d%n\n",
    "        temp=arr[n-k:n]\n",
    "        for i in range(n-k-1,-1,-1):\n",
    "            arr[i+k]=arr[i]\n",
    "        print(arr)\n",
    "        arr[:k]=temp\n",
    "        return arr"
   ]
  },
  {
   "cell_type": "code",
   "execution_count": 77,
   "id": "d2cd2f9b",
   "metadata": {},
   "outputs": [
    {
     "name": "stdout",
     "output_type": "stream",
     "text": [
      "[1, 2, 1, 2, 3]\n",
      "[4, 5, 1, 2, 3]\n"
     ]
    }
   ],
   "source": [
    "arr = [1, 2, 3, 4, 5]\n",
    "d=2\n",
    "print(rotateArr(arr,d))"
   ]
  },
  {
   "cell_type": "markdown",
   "id": "5d4a0779",
   "metadata": {},
   "source": [
    "# [11] Move all Zeros to the end of the array"
   ]
  },
  {
   "cell_type": "code",
   "execution_count": 78,
   "id": "1e1cea88",
   "metadata": {},
   "outputs": [],
   "source": [
    "class Solution:\n",
    "    def pushZerosToEnd(self, arr):\n",
    "        new = []\n",
    "        count = 0\n",
    "        \n",
    "        for num in arr:\n",
    "            if num != 0:\n",
    "                new.append(num)\n",
    "            else:\n",
    "                count += 1\n",
    "\n",
    "        new.extend([0] * count)\n",
    "        return new\n"
   ]
  },
  {
   "cell_type": "code",
   "execution_count": null,
   "id": "a3c9f95c",
   "metadata": {},
   "outputs": [],
   "source": [
    "# User function Template for python3\n",
    "\n",
    "class Solution:\n",
    "    def pushZerosToEnd(self, arr):\n",
    "        # code here\n",
    "        length = len(arr)\n",
    "        new = []\n",
    "        count = 0\n",
    "        \n",
    "        for i in range(length):\n",
    "            if arr[i] != 0:\n",
    "                arr[count]=arr[i]\n",
    "                count=count+1\n",
    "        while count<length:\n",
    "            arr[count]=0\n",
    "            count=count+1\n",
    "\n",
    "\n",
    "        return arr"
   ]
  },
  {
   "cell_type": "code",
   "execution_count": 81,
   "id": "9421dd1d",
   "metadata": {},
   "outputs": [],
   "source": [
    "class Solution:\n",
    "    def pushZerosToEnd(self, arr):\n",
    "        n = len(arr)\n",
    "        j = 0  # Pointer to the next non-zero placement index\n",
    "\n",
    "        for i in range(n):\n",
    "            if arr[i] != 0:\n",
    "                arr[i], arr[j] = arr[j], arr[i]\n",
    "                j += 1\n",
    "        return arr\n",
    "\n",
    "    \t     "
   ]
  },
  {
   "cell_type": "code",
   "execution_count": 82,
   "id": "0a9dc6bc",
   "metadata": {},
   "outputs": [],
   "source": [
    "class Solution:\n",
    "    def pushZerosToEnd(self, arr):\n",
    "        n = len(arr)\n",
    "        j=0\n",
    "        count=0\n",
    "        for i in range(0,n,1):\n",
    "            if arr[i]==0:\n",
    "                j=i\n",
    "                count=count+1\n",
    "                break\n",
    "        if count==0:\n",
    "            return arr   \n",
    "         \n",
    "\n",
    "        for i in range(j+1,n):\n",
    "            if arr[i] != 0:\n",
    "                arr[i], arr[j] = arr[j], arr[i]\n",
    "                j += 1\n",
    "        return arr\n"
   ]
  },
  {
   "cell_type": "markdown",
   "id": "0d3de141",
   "metadata": {},
   "source": [
    "# [12] Linear Search"
   ]
  },
  {
   "cell_type": "code",
   "execution_count": null,
   "id": "7ce4e8f5",
   "metadata": {},
   "outputs": [],
   "source": [
    "class Solution:\n",
    "    def search(self,arr, x):\n",
    "        #code here\n",
    "        length=len(arr)\n",
    "        for i in range(length):\n",
    "            if arr[i]==x:\n",
    "                return i\n",
    "        return -1\n",
    "    \n",
    "    \n",
    "    "
   ]
  },
  {
   "cell_type": "markdown",
   "id": "9b6539cd",
   "metadata": {},
   "source": [
    "# [13]Union of Two Sorted Arrays"
   ]
  },
  {
   "cell_type": "code",
   "execution_count": 84,
   "id": "eeac1bca",
   "metadata": {},
   "outputs": [
    {
     "name": "stdout",
     "output_type": "stream",
     "text": [
      "{1, 2, 3, 4, 5}\n",
      "{1, 2, 3, 4, 5}\n"
     ]
    }
   ],
   "source": [
    "a = [1, 2, 3]\n",
    "b = [3, 4, 5]\n",
    "\n",
    "# Method 1: Using set.union()\n",
    "union_set = set(a).union(set(b))\n",
    "print(union_set)  # Output: {1, 2, 3, 4, 5}\n",
    "\n",
    "# Method 2: Using | operator\n",
    "union_set2 = set(a) | set(b)\n",
    "print(union_set2)  # Output: {1, 2, 3, 4, 5}\n"
   ]
  },
  {
   "cell_type": "markdown",
   "id": "f072b8de",
   "metadata": {},
   "source": [
    "# [14] Find the missing number in an array"
   ]
  },
  {
   "cell_type": "code",
   "execution_count": 3,
   "id": "431fcce2",
   "metadata": {},
   "outputs": [],
   "source": [
    "class Solution(object):\n",
    "    def missingNumber(self, nums):\n",
    "        \"\"\"\n",
    "        :type nums: List[int]\n",
    "        :rtype: int\n",
    "        \"\"\"\n",
    "        length=len(nums)\n",
    "        list1=[0]\n",
    "        complete_list=[]\n",
    "        for i in range(length):\n",
    "            complete_list.append(i)\n",
    "        complete_list.append(length)\n",
    "       \n",
    "        for num in complete_list:\n",
    "            if  num in nums:\n",
    "                continue\n",
    "            else:\n",
    "                return num\n"
   ]
  },
  {
   "cell_type": "code",
   "execution_count": 2,
   "id": "e865a38e",
   "metadata": {},
   "outputs": [],
   "source": [
    "class Solution(object):\n",
    "    def missingNumber(self, nums):\n",
    "        \"\"\"\n",
    "        :type nums: List[int]\n",
    "        :rtype: int\n",
    "        \"\"\"\n",
    "        xor_all = 0\n",
    "        n = len(nums)\n",
    "        \n",
    "        for i in range(n):\n",
    "            xor_all ^= i ^ nums[i]\n",
    "        \n",
    "        xor_all ^= n  # Include the last number in range [0, n]\n",
    "\n",
    "        return xor_all\n"
   ]
  }
 ],
 "metadata": {
  "kernelspec": {
   "display_name": "Python 3",
   "language": "python",
   "name": "python3"
  },
  "language_info": {
   "codemirror_mode": {
    "name": "ipython",
    "version": 3
   },
   "file_extension": ".py",
   "mimetype": "text/x-python",
   "name": "python",
   "nbconvert_exporter": "python",
   "pygments_lexer": "ipython3",
   "version": "3.13.1"
  }
 },
 "nbformat": 4,
 "nbformat_minor": 5
}
