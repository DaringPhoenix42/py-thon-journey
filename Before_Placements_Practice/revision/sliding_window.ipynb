{
 "cells": [
  {
   "cell_type": "markdown",
   "id": "95826c72",
   "metadata": {},
   "source": [
    "# sliding window and 2 pointer"
   ]
  },
  {
   "cell_type": "markdown",
   "id": "a5ad6137",
   "metadata": {},
   "source": [
    "[1] Constant window"
   ]
  },
  {
   "cell_type": "code",
   "execution_count": 25,
   "id": "1ebdbaa6",
   "metadata": {},
   "outputs": [],
   "source": [
    "def max_sum_k_distinct_elements(arr,k):\n",
    "    length=len(arr)\n",
    "    if k > length:\n",
    "        return None\n",
    "    left=0\n",
    "    right=k-1\n",
    "    currentsum=sum(arr[:k])\n",
    "    maxsum=currentsum\n",
    "    while right<length-1:\n",
    "        currentsum=currentsum-arr[left]\n",
    "        left=left+1\n",
    "        right=right+1\n",
    "        currentsum=currentsum+arr[right]\n",
    "        maxsum=max(maxsum,currentsum)\n",
    "    \n",
    "    \n",
    "    return maxsum\n",
    "        \n",
    "\n"
   ]
  },
  {
   "cell_type": "code",
   "execution_count": 24,
   "id": "65b0b304",
   "metadata": {},
   "outputs": [
    {
     "name": "stdout",
     "output_type": "stream",
     "text": [
      "9\n"
     ]
    }
   ],
   "source": [
    "arr=[-1,2,3,3,4,5,-1]\n",
    "k=2\n",
    "print(max_sum_k_distinct_elements(arr,k))"
   ]
  },
  {
   "cell_type": "markdown",
   "id": "e094f2b3",
   "metadata": {},
   "source": [
    "brute force approach"
   ]
  },
  {
   "cell_type": "code",
   "execution_count": 45,
   "id": "a3dda092",
   "metadata": {},
   "outputs": [],
   "source": [
    "def max_sum_k_distinct_elements(arr,k):\n",
    "    length=len(arr)\n",
    "    currentsum=0\n",
    "    maxsum=0\n",
    "    count=0\n",
    "    for i in range(length-k):\n",
    "        currentsum=0\n",
    "        count=0\n",
    "        for j in range(i,length):\n",
    "            \n",
    "            if count<k:\n",
    "                    currentsum=currentsum+arr[j]\n",
    "                    count=count+1\n",
    "            if count==k:\n",
    "                maxsum=max(maxsum,currentsum)\n",
    "                break\n",
    "    return maxsum\n",
    "        "
   ]
  },
  {
   "cell_type": "code",
   "execution_count": 46,
   "id": "068bbd06",
   "metadata": {},
   "outputs": [
    {
     "name": "stdout",
     "output_type": "stream",
     "text": [
      "9\n"
     ]
    }
   ],
   "source": [
    "arr=[-1,2,3,3,4,5,-1]\n",
    "k=2\n",
    "print(max_sum_k_distinct_elements(arr,k))"
   ]
  },
  {
   "cell_type": "markdown",
   "id": "4e896a2d",
   "metadata": {},
   "source": [
    "# [2] longest sub array with condition sum<=k"
   ]
  },
  {
   "cell_type": "markdown",
   "id": "aa36bb36",
   "metadata": {},
   "source": [
    "brute force"
   ]
  },
  {
   "cell_type": "code",
   "execution_count": 49,
   "id": "c99a33da",
   "metadata": {},
   "outputs": [],
   "source": [
    "def subarray_with_sum_than_k(arr,k):\n",
    "    startindex=0\n",
    "    endindex=0\n",
    "    length=len(arr)\n",
    "    maxlength=0\n",
    "    subarry=0\n",
    "    currentsum=0\n",
    "    for i in range(length):\n",
    "        currentsum=0\n",
    "        for j in range(length):\n",
    "            \n",
    "            if currentsum<=k:\n",
    "                currentsum=currentsum+arr[j]\n",
    "                if maxlength<j-i+1:\n",
    "                    startindex=i\n",
    "                    endindex=j\n",
    "                maxlength=max(maxlength,j-i+1)\n",
    "            if currentsum>=k:\n",
    "                break      \n",
    "    subarry=arr[startindex:endindex+1]      \n",
    "    return maxlength,subarry"
   ]
  },
  {
   "cell_type": "code",
   "execution_count": 50,
   "id": "1df7b317",
   "metadata": {},
   "outputs": [
    {
     "name": "stdout",
     "output_type": "stream",
     "text": [
      "[2, 5, 1, 7, 10]\n",
      "4 [2, 5, 1, 7]\n"
     ]
    }
   ],
   "source": [
    "arr=[2,5,1,7,10]\n",
    "k=14\n",
    "print(arr)\n",
    "length,subarray=subarray_with_sum_than_k(arr,k)\n",
    "print(length,subarray)"
   ]
  },
  {
   "cell_type": "markdown",
   "id": "31273d78",
   "metadata": {},
   "source": [
    "sliding window 2 pointer"
   ]
  },
  {
   "cell_type": "code",
   "execution_count": 52,
   "id": "eeda8209",
   "metadata": {},
   "outputs": [],
   "source": [
    "def subarray_with_sum_than_k(arr,k):\n",
    "    startindex=0\n",
    "    endindex=0\n",
    "    length=len(arr)\n",
    "    maxlength=0\n",
    "    subarry=0\n",
    "    currentsum=0\n",
    "    left=0\n",
    "    right=0\n",
    "    while right<length-1:\n",
    "        if currentsum<=k:\n",
    "            if maxlength<right-left+1:\n",
    "                    startindex=left\n",
    "                    endindex=right\n",
    "            maxlength=max(maxlength,right-left+1)\n",
    "            currentsum=currentsum+arr[right]\n",
    "        if currentsum>k:\n",
    "            leftsum=arr[left]\n",
    "            currentsum=currentsum-leftsum\n",
    "        right=right+1\n",
    "        \n",
    "    \n",
    "    subarry=arr[startindex:endindex+1]      \n",
    "    return maxlength,subarry"
   ]
  },
  {
   "cell_type": "code",
   "execution_count": 53,
   "id": "61a1e788",
   "metadata": {},
   "outputs": [
    {
     "name": "stdout",
     "output_type": "stream",
     "text": [
      "[2, 5, 1, 7, 10]\n",
      "4 [2, 5, 1, 7]\n"
     ]
    }
   ],
   "source": [
    "arr=[2,5,1,7,10]\n",
    "k=14\n",
    "print(arr)\n",
    "length,subarray=subarray_with_sum_than_k(arr,k)\n",
    "print(length,subarray)"
   ]
  },
  {
   "cell_type": "markdown",
   "id": "2a7f5576",
   "metadata": {},
   "source": [
    "# [3] maximum points you can obtain from n cards"
   ]
  },
  {
   "cell_type": "markdown",
   "id": "57faeeaa",
   "metadata": {},
   "source": [
    "You must pick exactly k cards.\n",
    "\n",
    "You can only pick from the start or end, not from the middle.\n",
    "\n",
    "Your task is to maximize the total points from the selected cards."
   ]
  },
  {
   "cell_type": "markdown",
   "id": "00b491f0",
   "metadata": {},
   "source": [
    "brute"
   ]
  },
  {
   "cell_type": "code",
   "execution_count": null,
   "id": "909e4c50",
   "metadata": {},
   "outputs": [],
   "source": [
    "def maxScore(arr, k):\n",
    "    n = len(arr)\n",
    "    \n",
    "    lsum=rsum=maxsum=0\n",
    "    lsum=sum(arr[0:k])\n",
    "    maxsum=lsum\n",
    "    righti=n-1\n",
    "    for j in range(k-1,-1,-1):\n",
    "        lsum=lsum-arr[j]\n",
    "        rsum += arr[righti]\n",
    "        righti-=1\n",
    "        sumo=lsum+rsum\n",
    "        maxsum=max(maxsum,sumo)\n",
    "    return maxsum"
   ]
  },
  {
   "cell_type": "code",
   "execution_count": 80,
   "id": "79e50614",
   "metadata": {},
   "outputs": [
    {
     "name": "stdout",
     "output_type": "stream",
     "text": [
      "16\n"
     ]
    }
   ],
   "source": [
    "arr=[6,2,3,4,7,2,1,7,1]\n",
    "k=4\n",
    "value=maxScore(arr,k)\n",
    "print(value)"
   ]
  },
  {
   "cell_type": "markdown",
   "id": "35e3c2b1",
   "metadata": {},
   "source": [
    "# [4] longest substring without repaeating character"
   ]
  },
  {
   "cell_type": "markdown",
   "id": "364e62e7",
   "metadata": {},
   "source": [
    "brute approach"
   ]
  },
  {
   "cell_type": "code",
   "execution_count": 90,
   "id": "7cacda66",
   "metadata": {},
   "outputs": [],
   "source": [
    "def longest_substring_without_repeting(s):\n",
    "    list1=[]\n",
    "    set1=set()\n",
    "    maxlen=0\n",
    "    length=len(s)\n",
    "    for i in range(length):\n",
    "        set1.clear()\n",
    "        for j in range(i,length):\n",
    "            if s[j] in set1:\n",
    "                break\n",
    "            if s[j] not in set1:\n",
    "                set1.add(s[j])\n",
    "                list1.append(s[j])\n",
    "                maxlen=max(maxlen,len(set1))\n",
    "    return maxlen\n",
    "            "
   ]
  },
  {
   "cell_type": "code",
   "execution_count": 91,
   "id": "0c827f4f",
   "metadata": {},
   "outputs": [
    {
     "name": "stdout",
     "output_type": "stream",
     "text": [
      "5\n"
     ]
    }
   ],
   "source": [
    "s='cadbzabcd'\n",
    "value=longest_substring_without_repeting(s)\n",
    "print(value)"
   ]
  },
  {
   "cell_type": "markdown",
   "id": "98a32a38",
   "metadata": {},
   "source": [
    "better approach"
   ]
  },
  {
   "cell_type": "code",
   "execution_count": 118,
   "id": "fef4658e",
   "metadata": {},
   "outputs": [],
   "source": [
    "class Solution(object):\n",
    "    def lengthOfLongestSubstring(self, s):\n",
    "        \"\"\"\n",
    "        :type s: str\n",
    "        :rtype: int\n",
    "        \"\"\"\n",
    "        left=0\n",
    "        right=0\n",
    "        length=len(s)\n",
    "        set1=set()\n",
    "        maxlen=0\n",
    "        while right<length-1:\n",
    "            \n",
    "            \n",
    "            if s[right] not in set1:\n",
    "                set1.add(s[right])\n",
    "                maxlen=max(maxlen,len(set1))\n",
    "                right=right+1\n",
    "            if s[right] in set1:\n",
    "                set1.remove(s[left])\n",
    "                left=left+1\n",
    "            \n",
    "        return maxlen\n",
    "    \n",
    "\n",
    "\n",
    "            "
   ]
  },
  {
   "cell_type": "code",
   "execution_count": null,
   "id": "5dbd8834",
   "metadata": {},
   "outputs": [
    {
     "name": "stdout",
     "output_type": "stream",
     "text": [
      "5\n"
     ]
    }
   ],
   "source": [
    "s = 'cadbzabcd'\n",
    "obj = Solution()\n",
    "result = obj.lengthOfLongestSubstring(s)\n",
    "print(result)  # "
   ]
  },
  {
   "cell_type": "code",
   "execution_count": 120,
   "id": "2cdf3135",
   "metadata": {},
   "outputs": [],
   "source": [
    "class Solution:\n",
    "    def lengthOfLongestSubstring(self, s):\n",
    "        # Initialize array to track last seen index of characters\n",
    "        hash_map = [-1] * 256\n",
    "\n",
    "        n = len(s)\n",
    "        l = 0  # left pointer\n",
    "        r = 0  # right pointer\n",
    "        max_len = 0\n",
    "\n",
    "        while r < n:\n",
    "            # Character already seen before\n",
    "            if hash_map[ord(s[r])] != -1:\n",
    "                if hash_map[ord(s[r])] >= l:\n",
    "                    l = hash_map[ord(s[r])] + 1\n",
    "\n",
    "            # Update length and max\n",
    "            curr_len = r - l + 1\n",
    "            max_len = max(curr_len, max_len)\n",
    "\n",
    "            # Update last seen index\n",
    "            hash_map[ord(s[r])] = r\n",
    "            r += 1\n",
    "\n",
    "        return max_len\n"
   ]
  },
  {
   "cell_type": "markdown",
   "id": "a7ea000e",
   "metadata": {},
   "source": [
    "# [5] Max consecutive 1 s "
   ]
  },
  {
   "cell_type": "markdown",
   "id": "3893ed28",
   "metadata": {},
   "source": [
    "Brute force approach"
   ]
  },
  {
   "cell_type": "code",
   "execution_count": 131,
   "id": "e0293de7",
   "metadata": {},
   "outputs": [],
   "source": [
    "class Solution(object):\n",
    "    def longestOnes(self, arr, k):\n",
    "        \"\"\"\n",
    "        :type nums: List[int]\n",
    "        :type k: int\n",
    "        :rtype: int\n",
    "        \"\"\"\n",
    "        stari=0\n",
    "        endi=0\n",
    "        maxlen=0\n",
    "        count=0\n",
    "        zeroc=0\n",
    "        length=len(arr)\n",
    "        for i in range(length):\n",
    "            \n",
    "            \n",
    "            for j in range(i,length,1):\n",
    "                \n",
    "                if zeroc>k:\n",
    "                    zeroc=k\n",
    "                    break\n",
    "                \n",
    "                if arr[j]!=0:\n",
    "                    maxlen=max(maxlen,j-i+1)\n",
    "                    \n",
    "                if arr[j]==0 and zeroc<=k:\n",
    "                    maxlen=max(maxlen,j-i+1)\n",
    "                    zeroc=zeroc+1\n",
    "                \n",
    "        return maxlen\n",
    "                    \n",
    "            "
   ]
  },
  {
   "cell_type": "code",
   "execution_count": 140,
   "id": "fc51ff01",
   "metadata": {},
   "outputs": [
    {
     "name": "stdout",
     "output_type": "stream",
     "text": [
      "6\n"
     ]
    }
   ],
   "source": [
    "arr = [1, 0, 1, 1, 0, 0, 1, 1]\n",
    "k = 2\n",
    "obj = Solution()\n",
    "print(obj.longestOnes(arr, k))  # Output: 7\n"
   ]
  },
  {
   "cell_type": "code",
   "execution_count": 137,
   "id": "da041e1b",
   "metadata": {},
   "outputs": [],
   "source": [
    "class Solution(object):\n",
    "    def longestOnes(self, arr, k):\n",
    "        \"\"\"\n",
    "        :type arr: List[int]\n",
    "        :type k: int\n",
    "        :rtype: int\n",
    "        \"\"\"\n",
    "        length = len(arr)\n",
    "        maxlen = 0\n",
    "\n",
    "        for i in range(length):\n",
    "            zeroc = 0  # reset for each new starting point\n",
    "            for j in range(i, length):\n",
    "                if arr[j] == 0:\n",
    "                    zeroc += 1\n",
    "\n",
    "                if zeroc > k:\n",
    "                    break  # cannot flip more than k zeroes\n",
    "\n",
    "                # Update maxlen if current window is valid\n",
    "                maxlen = max(maxlen, j - i + 1)\n",
    "\n",
    "        return maxlen\n"
   ]
  },
  {
   "cell_type": "code",
   "execution_count": 139,
   "id": "75da249b",
   "metadata": {},
   "outputs": [
    {
     "name": "stdout",
     "output_type": "stream",
     "text": [
      "6\n"
     ]
    }
   ],
   "source": [
    "arr = [1, 0, 1, 1, 0, 0, 1, 1]\n",
    "k = 2\n",
    "obj = Solution()\n",
    "print(obj.longestOnes(arr, k))  # Output: 7\n"
   ]
  },
  {
   "cell_type": "markdown",
   "id": "f5473afd",
   "metadata": {},
   "source": [
    "better approach"
   ]
  },
  {
   "cell_type": "code",
   "execution_count": 141,
   "id": "97467e47",
   "metadata": {},
   "outputs": [],
   "source": [
    "class Solution(object):\n",
    "    def longestOnes(self, arr, k):\n",
    "        \"\"\"\n",
    "        :type nums: List[int]\n",
    "        :type k: int\n",
    "        :rtype: int\n",
    "        \"\"\"\n",
    "        \n",
    "        maxlen=0\n",
    "        zeroc=0\n",
    "        length=len(arr)\n",
    "        left=0\n",
    "        right=0\n",
    "        while right <length:\n",
    "                \n",
    "                if arr[right]==0:\n",
    "                    zeroc=zeroc+1\n",
    "                \n",
    "                if zeroc>k:\n",
    "                    while zeroc>k:\n",
    "                        if arr[left]==0:\n",
    "                            zeroc -= 1\n",
    "                        left=left+1\n",
    "                maxlen=max(maxlen,right-left+1)\n",
    "                right=right+1\n",
    "                \n",
    "               \n",
    "                    \n",
    "                \n",
    "        return maxlen"
   ]
  },
  {
   "cell_type": "markdown",
   "id": "427f18a5",
   "metadata": {},
   "source": [
    "# [6] Fruit Into Baskets "
   ]
  },
  {
   "cell_type": "markdown",
   "id": "512fe06f",
   "metadata": {},
   "source": [
    "Brute approach"
   ]
  },
  {
   "cell_type": "code",
   "execution_count": null,
   "id": "a0afede1",
   "metadata": {},
   "outputs": [],
   "source": [
    "class Solution(object):\n",
    "    def totalFruit(self, fruits):\n",
    "        \"\"\"\n",
    "        :type fruits: List[int]\n",
    "        :rtype: int\n",
    "        \"\"\"\n",
    "        basket=2\n",
    "        length=len(fruits)\n",
    "        set1=set()\n",
    "        maxlen=0\n",
    "        count=0\n",
    "\n",
    "        for i in range (length): \n",
    "            count=0\n",
    "            set1.clear()\n",
    "            for j in range (i,length,1):  \n",
    "                if len(set1)>2:\n",
    "                    break\n",
    "\n",
    "                if  (len(set1)<2):\n",
    "                    set1.add(fruits[j]) \n",
    "                    count=count+1\n",
    "                    maxlen=max(maxlen,count)\n",
    "\n",
    "\n",
    "        return   maxlen   "
   ]
  },
  {
   "cell_type": "code",
   "execution_count": 142,
   "id": "de1935b0",
   "metadata": {},
   "outputs": [],
   "source": [
    "class Solution(object):\n",
    "    def totalFruit(self, fruits):\n",
    "        \"\"\"\n",
    "        :type fruits: List[int]\n",
    "        :rtype: int\n",
    "        \"\"\"\n",
    "        basket = 2\n",
    "        length = len(fruits)\n",
    "        maxlen = 0\n",
    "\n",
    "        for i in range(length): \n",
    "            count = 0\n",
    "            set1 = set()\n",
    "            for j in range(i, length):  \n",
    "                if fruits[j] in set1 or len(set1) < 2:\n",
    "                    set1.add(fruits[j])  \n",
    "                    count += 1\n",
    "                    maxlen = max(maxlen, count)\n",
    "                else:\n",
    "                    break\n",
    "\n",
    "        return maxlen\n",
    "\n"
   ]
  },
  {
   "cell_type": "markdown",
   "id": "c20a3e8a",
   "metadata": {},
   "source": [
    "better approach"
   ]
  },
  {
   "cell_type": "code",
   "execution_count": 143,
   "id": "a8f829da",
   "metadata": {},
   "outputs": [],
   "source": [
    "class Solution(object):\n",
    "    def totalFruit(self, fruits):\n",
    "        \"\"\"\n",
    "        :type fruits: List[int]\n",
    "        :rtype: int\n",
    "        \"\"\"\n",
    "        fruit_count = {}  # built-in dictionary\n",
    "        left = 0\n",
    "        maxlen = 0\n",
    "\n",
    "        for right in range(len(fruits)):\n",
    "            fruit = fruits[right]\n",
    "            if fruit in fruit_count:\n",
    "                fruit_count[fruit] += 1\n",
    "            else:\n",
    "                fruit_count[fruit] = 1\n",
    "\n",
    "            # Shrink the window if more than 2 types of fruits\n",
    "            while len(fruit_count) > 2:\n",
    "                left_fruit = fruits[left]\n",
    "                fruit_count[left_fruit] -= 1\n",
    "                if fruit_count[left_fruit] == 0:\n",
    "                    del fruit_count[left_fruit]\n",
    "                left += 1\n",
    "\n",
    "            maxlen = max(maxlen, right - left + 1)\n",
    "\n",
    "        return maxlen\n"
   ]
  },
  {
   "cell_type": "markdown",
   "id": "309539b4",
   "metadata": {},
   "source": [
    "# [7] Longest Substring With At Most K Distinct Characters "
   ]
  },
  {
   "cell_type": "code",
   "execution_count": 146,
   "id": "3e628c94",
   "metadata": {},
   "outputs": [],
   "source": [
    "class Solution:\n",
    "    def longestKSubstr(self, s, k):\n",
    "        # code here\n",
    "        set2=set()\n",
    "        length=len(s)\n",
    "        set1=set()\n",
    "        maxlen=-1\n",
    "        set2.update(s)\n",
    "        for i in range(0,length,1):\n",
    "            \n",
    "            set1=set()\n",
    "            count=0\n",
    "            \n",
    "            \n",
    "            for j in range(i,length,1):\n",
    "                \n",
    "                set1.add(s[j])\n",
    "                count+=1\n",
    "    \n",
    "                 \n",
    "                if len(set1) == k:\n",
    "                    maxlen = max(maxlen, count)\n",
    "                if len(set1)>k:\n",
    "                    break\n",
    "                \n",
    "        return maxlen"
   ]
  },
  {
   "cell_type": "markdown",
   "id": "88f5faad",
   "metadata": {},
   "source": [
    "Brute force"
   ]
  },
  {
   "cell_type": "code",
   "execution_count": 144,
   "id": "c11d4b78",
   "metadata": {},
   "outputs": [],
   "source": [
    "class Solution:\n",
    "    def longestKSubstr(self, s, k):\n",
    "        length = len(s)\n",
    "        maxlen = -1\n",
    "\n",
    "        for i in range(length):\n",
    "            set1 = set()\n",
    "            count = 0\n",
    "\n",
    "            for j in range(i, length):\n",
    "                set1.add(s[j])\n",
    "                if len(set1) > k:\n",
    "                    break\n",
    "                count += 1\n",
    "                if len(set1) == k:\n",
    "                    maxlen = max(maxlen, count)\n",
    "\n",
    "        return maxlen\n",
    "\n",
    "                    "
   ]
  },
  {
   "cell_type": "markdown",
   "id": "6bac269b",
   "metadata": {},
   "source": [
    "Better"
   ]
  },
  {
   "cell_type": "code",
   "execution_count": 145,
   "id": "bd85593e",
   "metadata": {},
   "outputs": [],
   "source": [
    "class Solution:\n",
    "    def longestKSubstr(self, s, k):\n",
    "        \"\"\"\n",
    "        :type s: str\n",
    "        :type k: int\n",
    "        :rtype: int\n",
    "        \"\"\"\n",
    "        left = 0\n",
    "        maxlen = -1\n",
    "        char_freq = {}  # stores frequency of characters in current window\n",
    "\n",
    "        for right in range(len(s)):\n",
    "            char = s[right]\n",
    "            # Add character to the dictionary or increment count\n",
    "            if char in char_freq:\n",
    "                char_freq[char] += 1\n",
    "            else:\n",
    "                char_freq[char] = 1\n",
    "\n",
    "            # Shrink window if distinct characters > k\n",
    "            while len(char_freq) > k:\n",
    "                char_freq[s[left]] -= 1\n",
    "                if char_freq[s[left]] == 0:\n",
    "                    del char_freq[s[left]]\n",
    "                left += 1\n",
    "\n",
    "            # If window has exactly k distinct characters\n",
    "            if len(char_freq) == k:\n",
    "                maxlen = max(maxlen, right - left + 1)\n",
    "\n",
    "        return maxlen\n"
   ]
  },
  {
   "cell_type": "markdown",
   "id": "f23046ba",
   "metadata": {},
   "source": [
    "# [8]  Number of Substrings Containing All Three Characters "
   ]
  },
  {
   "cell_type": "markdown",
   "id": "86114dbf",
   "metadata": {},
   "source": [
    "brute "
   ]
  },
  {
   "cell_type": "code",
   "execution_count": 147,
   "id": "62e0db5c",
   "metadata": {},
   "outputs": [],
   "source": [
    "class Solution(object):\n",
    "    def numberOfSubstrings(self, s):\n",
    "        \"\"\"\n",
    "        :type s: str\n",
    "        :rtype: int\n",
    "        \"\"\"\n",
    "        length=len(s)\n",
    "        apoint=0\n",
    "        bpoint=0\n",
    "        cpoint=0\n",
    "        maxcount=0\n",
    "\n",
    "        for i in range(length):\n",
    "\n",
    "            apoint=bpoint=cpoint=0\n",
    "            for j in range(i,length,1):\n",
    "\n",
    "                if s[j]=='a':\n",
    "                    apoint=1\n",
    "                if s[j]=='b':\n",
    "                    bpoint=1\n",
    "                if s[j]=='c':\n",
    "                    cpoint=1\n",
    "                if (apoint==1) and (bpoint==1)and (cpoint==1):\n",
    "                    maxcount=maxcount+1\n",
    "        return maxcount\n"
   ]
  },
  {
   "cell_type": "markdown",
   "id": "8b60efd0",
   "metadata": {},
   "source": [
    "optimal"
   ]
  },
  {
   "cell_type": "code",
   "execution_count": 148,
   "id": "95abd136",
   "metadata": {},
   "outputs": [],
   "source": [
    "class Solution(object):\n",
    "    def numberOfSubstrings(self, s):\n",
    "        \"\"\"\n",
    "        :type s: str\n",
    "        :rtype: int\n",
    "        \"\"\"\n",
    "        count = {'a': 0, 'b': 0, 'c': 0}  # standard dictionary\n",
    "        res = 0\n",
    "        left = 0\n",
    "\n",
    "        for right in range(len(s)):\n",
    "            count[s[right]] += 1\n",
    "\n",
    "            # When all three characters are in the window\n",
    "            while count['a'] > 0 and count['b'] > 0 and count['c'] > 0:\n",
    "                res += len(s) - right  # all substrings from this window are valid\n",
    "                count[s[left]] -= 1\n",
    "                left += 1\n",
    "\n",
    "        return res"
   ]
  },
  {
   "cell_type": "markdown",
   "id": "8d236bf5",
   "metadata": {},
   "source": [
    "# [9] Longest Repeating Character Replacement"
   ]
  },
  {
   "cell_type": "code",
   "execution_count": null,
   "id": "d176cae8",
   "metadata": {},
   "outputs": [],
   "source": []
  }
 ],
 "metadata": {
  "kernelspec": {
   "display_name": "Python 3",
   "language": "python",
   "name": "python3"
  },
  "language_info": {
   "codemirror_mode": {
    "name": "ipython",
    "version": 3
   },
   "file_extension": ".py",
   "mimetype": "text/x-python",
   "name": "python",
   "nbconvert_exporter": "python",
   "pygments_lexer": "ipython3",
   "version": "3.13.1"
  }
 },
 "nbformat": 4,
 "nbformat_minor": 5
}
