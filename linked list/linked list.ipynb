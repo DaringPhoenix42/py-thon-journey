{
 "cells": [
  {
   "cell_type": "markdown",
   "id": "c68651cc",
   "metadata": {},
   "source": [
    "creating a node"
   ]
  },
  {
   "cell_type": "code",
   "execution_count": 1,
   "id": "3015aed2",
   "metadata": {},
   "outputs": [
    {
     "name": "stdout",
     "output_type": "stream",
     "text": [
      "1\n",
      "None\n",
      "2\n",
      "None\n"
     ]
    }
   ],
   "source": [
    "class Node:\n",
    "    def __init__(self,data):\n",
    "        self.data=data\n",
    "        self.next=None\n",
    "Node1=Node(1)\n",
    "Node2=Node(2)\n",
    "Node3=Node(3)\n",
    "\n",
    "print(Node1.data)\n",
    "print(Node1.next)\n",
    "\n",
    "print(Node2.data)\n",
    "print(Node2.next)\n",
    "        "
   ]
  },
  {
   "cell_type": "markdown",
   "id": "0ca9424e",
   "metadata": {},
   "source": [
    "create class of singly linked list"
   ]
  },
  {
   "cell_type": "code",
   "execution_count": 2,
   "id": "58e82a76",
   "metadata": {},
   "outputs": [],
   "source": [
    "class singlyLL:\n",
    "    def __init__(self):\n",
    "        self.head=None\n",
    "        \n",
    "sll=singlyLL()\n"
   ]
  },
  {
   "cell_type": "code",
   "execution_count": 3,
   "id": "fd874f2d",
   "metadata": {},
   "outputs": [
    {
     "name": "stdout",
     "output_type": "stream",
     "text": [
      "None\n"
     ]
    }
   ],
   "source": [
    "print(sll.head)"
   ]
  },
  {
   "cell_type": "markdown",
   "id": "99eb8b5c",
   "metadata": {},
   "source": [
    "traversal in linked list"
   ]
  },
  {
   "cell_type": "code",
   "execution_count": null,
   "id": "101bf66f",
   "metadata": {},
   "outputs": [],
   "source": [
    "\n",
    "# creating node\n",
    "class Node:\n",
    "    def __init__(self,data):\n",
    "        self.data=data\n",
    "        self.next=None\n",
    "\n",
    "# Creating class of singly linked list #\n",
    "class singlylinkedlist:\n",
    "    def __init__(self):\n",
    "        self.head=None\n",
    "    \n",
    "    def traversal(self):\n",
    "        if self.head is None:\n",
    "            print(\"Singly linklist is empty\")\n",
    "        else:\n",
    "            a=self.head\n",
    "            while a is not None:\n",
    "                print(a.data,end=\" \")\n",
    "                a=a.next\n",
    "\n",
    "# passing data to node class#\n",
    "\n",
    "n1=Node(5)\n",
    "n2=Node(7)\n",
    "n3=Node(10)\n",
    "n4=Node(13)\n",
    "\n",
    "# creating singly liked list object #\n",
    "sLL=singlylinkedlist()\n",
    "sLL.head=n1\n",
    "\n",
    "n1.next=n2\n",
    "n2.next=n3\n",
    "n3.next=n4\n",
    "\n",
    "\n",
    "\n",
    "\n",
    "\n",
    "\n",
    "\n"
   ]
  }
 ],
 "metadata": {
  "kernelspec": {
   "display_name": "Python 3",
   "language": "python",
   "name": "python3"
  },
  "language_info": {
   "codemirror_mode": {
    "name": "ipython",
    "version": 3
   },
   "file_extension": ".py",
   "mimetype": "text/x-python",
   "name": "python",
   "nbconvert_exporter": "python",
   "pygments_lexer": "ipython3",
   "version": "3.13.1"
  }
 },
 "nbformat": 4,
 "nbformat_minor": 5
}
