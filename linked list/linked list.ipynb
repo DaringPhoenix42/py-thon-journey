{
 "cells": [
  {
   "cell_type": "markdown",
   "id": "c68651cc",
   "metadata": {},
   "source": [
    "creating a node"
   ]
  },
  {
   "cell_type": "code",
   "execution_count": 1,
   "id": "3015aed2",
   "metadata": {},
   "outputs": [
    {
     "name": "stdout",
     "output_type": "stream",
     "text": [
      "1\n",
      "None\n",
      "2\n",
      "None\n"
     ]
    }
   ],
   "source": [
    "class Node:\n",
    "    def __init__(self,data):\n",
    "        self.data=data\n",
    "        self.next=None\n",
    "Node1=Node(1)\n",
    "Node2=Node(2)\n",
    "Node3=Node(3)\n",
    "\n",
    "print(Node1.data)\n",
    "print(Node1.next)\n",
    "\n",
    "print(Node2.data)\n",
    "print(Node2.next)\n",
    "        "
   ]
  },
  {
   "cell_type": "markdown",
   "id": "0ca9424e",
   "metadata": {},
   "source": [
    "create class of singly linked list"
   ]
  },
  {
   "cell_type": "code",
   "execution_count": 2,
   "id": "58e82a76",
   "metadata": {},
   "outputs": [],
   "source": [
    "class singlyLL:\n",
    "    def __init__(self):\n",
    "        self.head=None\n",
    "        \n",
    "sll=singlyLL()\n"
   ]
  },
  {
   "cell_type": "code",
   "execution_count": 3,
   "id": "fd874f2d",
   "metadata": {},
   "outputs": [
    {
     "name": "stdout",
     "output_type": "stream",
     "text": [
      "None\n"
     ]
    }
   ],
   "source": [
    "print(sll.head)"
   ]
  },
  {
   "cell_type": "markdown",
   "id": "99eb8b5c",
   "metadata": {},
   "source": [
    "traversal in linked list"
   ]
  },
  {
   "cell_type": "code",
   "execution_count": 15,
   "id": "101bf66f",
   "metadata": {},
   "outputs": [
    {
     "name": "stdout",
     "output_type": "stream",
     "text": [
      "Original values:-\n",
      "5 7 10 13  \n",
      "after insert at begining:-\n",
      "2 5 7 10 13  \n",
      "after insert at end:-\n",
      "2 5 7 10 13 5 \n",
      "after insert at particular position:-\n",
      "2 5 100 7 10 13 5 \n",
      "Deletion  at the beginning:-\n",
      "5 100 7 10 13 5 \n",
      "Deletion  at the end:-\n",
      "5 100 7 10 13 \n",
      "Deletion at a perticu;ar position\n",
      "5 100 10 13 "
     ]
    }
   ],
   "source": [
    "\n",
    "# creating node\n",
    "class Node:\n",
    "    def __init__(self,data):\n",
    "        self.data=data\n",
    "        self.next=None\n",
    "\n",
    "# Creating class of singly linked list #\n",
    "class singlylinkedlist:\n",
    "    def __init__(self):\n",
    "        self.head=None\n",
    "    \n",
    "    def traversal(self):\n",
    "        if self.head is None:\n",
    "            print(\"Singly linklist is empty\")\n",
    "        else:\n",
    "            a=self.head\n",
    "            while a is not None:\n",
    "                print(a.data,end=\" \")\n",
    "                a=a.next\n",
    "    #insertion in linedlist\n",
    "    def insert_at_beginning(self,data):\n",
    "        nb=Node(data)\n",
    "        nb.next=self.head\n",
    "        self.head=nb\n",
    "    \n",
    "    \n",
    "    def insert_atend(self, data):\n",
    "        ne = Node(data)\n",
    "        if self.head is None:\n",
    "            self.head = ne\n",
    "        else:\n",
    "            a = self.head\n",
    "            while a.next is not None:\n",
    "                a = a.next\n",
    "            a.next = ne\n",
    "            \n",
    "    def insert_at_position(self,data,position):\n",
    "        npn=Node(data)\n",
    "        a=self.head\n",
    "        for i in range(1,position-1):\n",
    "            a=a.next\n",
    "        npn.next=a.next\n",
    "        a.next=npn\n",
    "        \n",
    "    # Deletion in linked list\n",
    "    def deletion_at_beginnig(self):\n",
    "        a=self.head\n",
    "        self.head=a.next\n",
    "        a.next=None\n",
    "        \n",
    "    #Deletion at the end\n",
    "    def deletion_at_end(self):\n",
    "    \n",
    "        prev=self.head\n",
    "        a=self.head.next\n",
    "        while a.next is not None:\n",
    "            a=a.next\n",
    "            prev=prev.next\n",
    "        prev.next=None\n",
    "        \n",
    "    # Deletion at a particular position #\n",
    "    def deletion_at_position(self,position):\n",
    "        prev=self.head\n",
    "        a=self.head.next\n",
    "        for i in range(1,position-1):\n",
    "            a=a.next\n",
    "            prev=prev.next\n",
    "        prev.next=a.next\n",
    "        a.next=None\n",
    "            \n",
    "    \n",
    "    \n",
    "# passing data to node class#\n",
    "\n",
    "n1=Node(5)\n",
    "sLL=singlylinkedlist()\n",
    "sLL.head=n1\n",
    "n2=Node(7)\n",
    "n1.next=n2\n",
    "n3=Node(10)\n",
    "n2.next=n3\n",
    "n4=Node(13)\n",
    "n3.next=n4\n",
    "\n",
    "# creating singly liked list object #\n",
    "print(\"Original values:-\")\n",
    "\n",
    "sLL.traversal()\n",
    "\n",
    "sLL.insert_at_beginning(2)\n",
    "print(\" \")\n",
    "\n",
    "print(\"after insert at begining:-\")\n",
    "\n",
    "sLL.traversal()\n",
    "\n",
    "print(\" \")\n",
    "\n",
    "print(\"after insert at end:-\")\n",
    "sLL.insert_atend(5)\n",
    "sLL.traversal()\n",
    "print()\n",
    "\n",
    "print(\"after insert at particular position:-\")\n",
    "sLL.insert_at_position(100,3)\n",
    "sLL.traversal()\n",
    "print()\n",
    "print(\"Deletion  at the beginning:-\")\n",
    "sLL.deletion_at_beginnig()\n",
    "sLL.traversal()\n",
    "print()\n",
    "\n",
    "print(\"Deletion  at the end:-\")\n",
    "sLL.deletion_at_end()\n",
    "sLL.traversal()\n",
    "print()\n",
    "\n",
    "print(\"Deletion at a perticu;ar position\")\n",
    "sLL.deletion_at_position(3)\n",
    "sLL.traversal()"
   ]
  },
  {
   "cell_type": "markdown",
   "id": "530be97c",
   "metadata": {},
   "source": [
    "Doubly linkedlist"
   ]
  },
  {
   "cell_type": "code",
   "execution_count": 9,
   "id": "f408a503",
   "metadata": {},
   "outputs": [
    {
     "name": "stdout",
     "output_type": "stream",
     "text": [
      "5 10 12 15 \n",
      "15 12 10 5 "
     ]
    }
   ],
   "source": [
    "#creating a Node in Doubly \n",
    "class Node:\n",
    "    def __init__(self,data):\n",
    "        self.data=data\n",
    "        self.next=None\n",
    "        self.prev=None\n",
    "        \n",
    "# creating class of doubly linkedlist\n",
    "\n",
    "class doubly_Linked_list:\n",
    "    def __init__(self):\n",
    "        self.head=None\n",
    "    def forward_traversal(self):\n",
    "        # forward traversal\n",
    "        if self.head==None:\n",
    "            print(\"doubly linked list is empty\")\n",
    "        else:\n",
    "            a=self.head\n",
    "            while a is not None:\n",
    "                print(a.data,end=\" \")\n",
    "                a=a.next\n",
    "                \n",
    "    def backward_traversal(self):\n",
    "        if self.head==None:\n",
    "            print(\"doubly linked list is empty\")\n",
    "        else :\n",
    "            a=self.head\n",
    "            while a.next is not None:\n",
    "                a=a.next\n",
    "            \n",
    "            print()\n",
    "            while a is not None:\n",
    "                print(a.data,end=\" \")\n",
    "                a=a.prev\n",
    "        \n",
    "\n",
    "\n",
    "# creating node\n",
    "n1=Node(5)\n",
    "dll=doubly_Linked_list()\n",
    "dll.head=n1\n",
    "# created node n1 and assigning the node to the head above\n",
    "\n",
    "# creating n2 node \n",
    "n2=Node(10)\n",
    "n1.next=n2\n",
    "n2.prev=n1\n",
    "\n",
    "# creating node n3 and linking it\n",
    "n3=Node(12)\n",
    "n3.prev=n2\n",
    "n2.next=n3\n",
    "\n",
    "# creating node n4\n",
    "n4=Node(15)\n",
    "n3.next=n4\n",
    "n4.prev = n3\n",
    "\n",
    "\n",
    "dll.forward_traversal()\n",
    "dll.backward_traversal()\n",
    "\n",
    "            \n",
    "    \n",
    "    \n",
    "        \n",
    "        "
   ]
  }
 ],
 "metadata": {
  "kernelspec": {
   "display_name": "Python 3",
   "language": "python",
   "name": "python3"
  },
  "language_info": {
   "codemirror_mode": {
    "name": "ipython",
    "version": 3
   },
   "file_extension": ".py",
   "mimetype": "text/x-python",
   "name": "python",
   "nbconvert_exporter": "python",
   "pygments_lexer": "ipython3",
   "version": "3.13.1"
  }
 },
 "nbformat": 4,
 "nbformat_minor": 5
}
