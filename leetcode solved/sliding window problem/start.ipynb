{
 "cells": [
  {
   "cell_type": "markdown",
   "metadata": {},
   "source": [
    "https://leetcode.com/problems/best-time-to-buy-and-sell-stock/"
   ]
  },
  {
   "cell_type": "markdown",
   "metadata": {},
   "source": [
    "brute force "
   ]
  },
  {
   "cell_type": "code",
   "execution_count": 1,
   "metadata": {},
   "outputs": [],
   "source": [
    "class Solution(object):\n",
    "    def maxProfit(self, prices):\n",
    "        length=len(prices)\n",
    "        max_profit=float('-inf')\n",
    "        for i in range(length):\n",
    "            bought=prices[i]\n",
    "            for j in range(i+1,length,1):\n",
    "                sold=prices[j]\n",
    "                profit=sold-bought\n",
    "                if max_profit<profit:\n",
    "                    max_profit=profit\n",
    "        \n",
    "        if max_profit<0:\n",
    "            return 0\n",
    "        else:\n",
    "            return max_profit\n"
   ]
  },
  {
   "cell_type": "code",
   "execution_count": 3,
   "metadata": {},
   "outputs": [
    {
     "name": "stdout",
     "output_type": "stream",
     "text": [
      "5\n"
     ]
    }
   ],
   "source": [
    "prices = [7, 1, 5, 3, 6, 4]\n",
    "solution = Solution()\n",
    "print(solution.maxProfit(prices))  # Expected Output: 5\n"
   ]
  },
  {
   "cell_type": "markdown",
   "metadata": {},
   "source": [
    "optimal using 2 pointer approach"
   ]
  },
  {
   "cell_type": "code",
   "execution_count": 2,
   "metadata": {},
   "outputs": [],
   "source": [
    "from typing import List\n",
    "\n",
    "class Solution:\n",
    "    def maxProfit(self, prices: List[int]) -> int:\n",
    "        buy_day, sell_day = 0, 1  # buy_day is the left pointer, sell_day is the right pointer\n",
    "        max_profit = 0  # Stores the maximum profit found\n",
    "\n",
    "        while sell_day < len(prices):\n",
    "            if prices[buy_day] < prices[sell_day]:  # If the buying price is lower\n",
    "                current_profit = prices[sell_day] - prices[buy_day]  # Calculate profit\n",
    "                max_profit = max(max_profit, current_profit)  # Update max profit\n",
    "            else:\n",
    "                buy_day = sell_day  # Move buy_day to the new lower price\n",
    "            sell_day += 1  # Move sell_day forward\n",
    "\n",
    "        return max_profit\n"
   ]
  },
  {
   "cell_type": "code",
   "execution_count": 4,
   "metadata": {},
   "outputs": [
    {
     "name": "stdout",
     "output_type": "stream",
     "text": [
      "5\n"
     ]
    }
   ],
   "source": [
    "prices = [7, 1, 5, 3, 6, 4]\n",
    "solution = Solution()\n",
    "print(solution.maxProfit(prices))  # Expected Output: 5\n"
   ]
  },
  {
   "cell_type": "markdown",
   "metadata": {},
   "source": [
    "https://leetcode.com/problems/longest-substring-without-repeating-characters/"
   ]
  },
  {
   "cell_type": "code",
   "execution_count": 1,
   "metadata": {},
   "outputs": [],
   "source": [
    "class Solution(object):\n",
    "    def lengthOfLongestSubstring(self, s):\n",
    "        \"\"\"\n",
    "        :type s: str\n",
    "        :rtype: int\n",
    "        \"\"\"\n",
    "        length = len(s)\n",
    "        max_len = 0\n",
    "        left_pointer = 0\n",
    "        # Using a set to track characters in the current window\n",
    "        window_chars = set()\n",
    "\n",
    "        for right_pointer in range(length):\n",
    "            # If we encounter a duplicate character, move the left pointer\n",
    "            while s[right_pointer] in window_chars:\n",
    "                # Remove the character at left_pointer from the set\n",
    "                window_chars.remove(s[left_pointer])\n",
    "                # Move the left pointer to shrink the window\n",
    "                left_pointer += 1\n",
    "            \n",
    "            # Add the new character to the set\n",
    "            window_chars.add(s[right_pointer])\n",
    "            # Calculate the current window length and update max_len\n",
    "            max_len = max(max_len, right_pointer - left_pointer + 1)\n",
    "\n",
    "        return max_len"
   ]
  },
  {
   "cell_type": "code",
   "execution_count": 2,
   "metadata": {},
   "outputs": [
    {
     "name": "stdout",
     "output_type": "stream",
     "text": [
      "3\n"
     ]
    }
   ],
   "source": [
    "solution = Solution()\n",
    "result = solution.lengthOfLongestSubstring(\"abcabcbb\")\n",
    "print(result)  # Output: 3 (The longest substring is \"abc\")\n"
   ]
  }
 ],
 "metadata": {
  "kernelspec": {
   "display_name": "Python 3",
   "language": "python",
   "name": "python3"
  },
  "language_info": {
   "codemirror_mode": {
    "name": "ipython",
    "version": 3
   },
   "file_extension": ".py",
   "mimetype": "text/x-python",
   "name": "python",
   "nbconvert_exporter": "python",
   "pygments_lexer": "ipython3",
   "version": "3.13.1"
  }
 },
 "nbformat": 4,
 "nbformat_minor": 2
}
