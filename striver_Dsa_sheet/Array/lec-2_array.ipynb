{
 "cells": [
  {
   "cell_type": "markdown",
   "metadata": {},
   "source": [
    "# left rotate an array by one place"
   ]
  },
  {
   "cell_type": "markdown",
   "metadata": {},
   "source": [
    " my approach"
   ]
  },
  {
   "cell_type": "code",
   "execution_count": 1,
   "metadata": {},
   "outputs": [],
   "source": [
    "def rotate_left_by_one(arr):\n",
    "    leng=len(arr)\n",
    "    first=arr[0]\n",
    "    \n",
    "    for i in range(1,len(arr),1):\n",
    "        arr[i-1]=arr[i]\n",
    "    arr[leng-1]=first\n",
    "    return arr\n",
    "        \n",
    "    "
   ]
  },
  {
   "cell_type": "code",
   "execution_count": 2,
   "metadata": {},
   "outputs": [
    {
     "name": "stdout",
     "output_type": "stream",
     "text": [
      "[2, 3, 4, 5, 1]\n",
      "[2, 3, 4, 5, 1]\n"
     ]
    }
   ],
   "source": [
    "arr=[1,2,3,4,5]\n",
    "val=rotate_left_by_one(arr)\n",
    "print(arr)\n",
    "print(val)\n"
   ]
  },
  {
   "cell_type": "markdown",
   "metadata": {},
   "source": [
    "# left rotate an array by D place"
   ]
  },
  {
   "cell_type": "markdown",
   "metadata": {},
   "source": [
    "brute force"
   ]
  },
  {
   "cell_type": "code",
   "execution_count": 154,
   "metadata": {},
   "outputs": [],
   "source": [
    "def rotate_left_by_one(arr,d,N):\n",
    "    leng=N\n",
    "    no_of_rotation=d%N\n",
    "    print(no_of_rotation)\n",
    "    first=[]\n",
    "    j=0\n",
    "    for index in range(0,no_of_rotation,1):\n",
    "        first.append(arr[index])\n",
    "    \n",
    "    print(first)\n",
    "    for i in range(no_of_rotation,len(arr),1):\n",
    "        arr[i-no_of_rotation]=arr[i]\n",
    "        \n",
    "    for index in range(leng-no_of_rotation,len(arr),+1):\n",
    "        arr[index]=first[j]\n",
    "        j=j+1  \n",
    "    return arr"
   ]
  },
  {
   "cell_type": "code",
   "execution_count": 155,
   "metadata": {},
   "outputs": [
    {
     "name": "stdout",
     "output_type": "stream",
     "text": [
      "5\n",
      "[1, 2, 3, 4, 5]\n",
      "[6, 1, 2, 3, 4, 5]\n",
      "[6, 1, 2, 3, 4, 5]\n"
     ]
    }
   ],
   "source": [
    "arr=[1,2,3,4,5,6]\n",
    "val=rotate_left_by_one(arr,11,6)\n",
    "print(arr)\n",
    "print(val)"
   ]
  },
  {
   "cell_type": "markdown",
   "metadata": {},
   "source": [
    "optimal"
   ]
  },
  {
   "cell_type": "code",
   "execution_count": 156,
   "metadata": {},
   "outputs": [],
   "source": [
    "def rotate_left_by_one(arr,d,N):\n",
    "    leng=N\n",
    "    no_of_rotation=d%N\n",
    "    print(no_of_rotation)\n",
    "    first=[]\n",
    "    j=0\n",
    "    for index in range(0,no_of_rotation,1):\n",
    "        first.append(arr[index])\n",
    "    \n",
    "    print(first)\n",
    "    for i in range(no_of_rotation,len(arr),1):\n",
    "        arr[i-no_of_rotation]=arr[i]\n",
    "        \n",
    "    for index in range(leng-no_of_rotation,len(arr),+1):\n",
    "        arr[index]=first[index-(N-no_of_rotation)]\n",
    "        j=j+1  \n",
    "    return arr"
   ]
  },
  {
   "cell_type": "code",
   "execution_count": 163,
   "metadata": {},
   "outputs": [
    {
     "name": "stdout",
     "output_type": "stream",
     "text": [
      "3\n",
      "[1, 2, 3]\n",
      "[4, 5, 6, 1, 2, 3]\n",
      "[4, 5, 6, 1, 2, 3]\n"
     ]
    }
   ],
   "source": [
    "arr=[1,2,3,4,5,6]\n",
    "val=rotate_left_by_one(arr,3,6)\n",
    "print(arr)\n",
    "print(val)"
   ]
  },
  {
   "cell_type": "markdown",
   "metadata": {},
   "source": [
    "optimal approach"
   ]
  },
  {
   "cell_type": "code",
   "execution_count": 159,
   "metadata": {},
   "outputs": [],
   "source": [
    "def reverse_sublist(arr, start, end):\n",
    "    # Ensure the indices are within the bounds of the list\n",
    "    if start < 0 or end >= len(arr) or start > end:\n",
    "        raise ValueError(\"Invalid start or end indices\")\n",
    "    \n",
    "    # Reverse the sublist in-place\n",
    "    arr[start:end+1] = arr[start:end+1][::-1]\n",
    "    \n",
    "    return arr\n"
   ]
  },
  {
   "cell_type": "code",
   "execution_count": 162,
   "metadata": {},
   "outputs": [
    {
     "ename": "ValueError",
     "evalue": "Invalid start or end indices",
     "output_type": "error",
     "traceback": [
      "\u001b[1;31m---------------------------------------------------------------------------\u001b[0m",
      "\u001b[1;31mValueError\u001b[0m                                Traceback (most recent call last)",
      "Cell \u001b[1;32mIn[162], line 3\u001b[0m\n\u001b[0;32m      1\u001b[0m arr\u001b[38;5;241m=\u001b[39m[\u001b[38;5;241m1\u001b[39m,\u001b[38;5;241m2\u001b[39m,\u001b[38;5;241m3\u001b[39m,\u001b[38;5;241m4\u001b[39m,\u001b[38;5;241m5\u001b[39m,\u001b[38;5;241m6\u001b[39m,\u001b[38;5;241m7\u001b[39m]\n\u001b[0;32m      2\u001b[0m v1\u001b[38;5;241m=\u001b[39mreverse_sublist(arr,\u001b[38;5;241m0\u001b[39m,\u001b[38;5;241m3\u001b[39m)\n\u001b[1;32m----> 3\u001b[0m v2\u001b[38;5;241m=\u001b[39m\u001b[43mreverse_sublist\u001b[49m\u001b[43m(\u001b[49m\u001b[43marr\u001b[49m\u001b[43m,\u001b[49m\u001b[38;5;241;43m3\u001b[39;49m\u001b[43m,\u001b[49m\u001b[38;5;241;43m7\u001b[39;49m\u001b[43m)\u001b[49m\n\u001b[0;32m      4\u001b[0m v3\u001b[38;5;241m=\u001b[39mreverse_sublist(arr,\u001b[38;5;241m7\u001b[39m)\n\u001b[0;32m      5\u001b[0m \u001b[38;5;28mprint\u001b[39m(v3)\n",
      "Cell \u001b[1;32mIn[159], line 4\u001b[0m, in \u001b[0;36mreverse_sublist\u001b[1;34m(arr, start, end)\u001b[0m\n\u001b[0;32m      1\u001b[0m \u001b[38;5;28;01mdef\u001b[39;00m \u001b[38;5;21mreverse_sublist\u001b[39m(arr, start, end):\n\u001b[0;32m      2\u001b[0m     \u001b[38;5;66;03m# Ensure the indices are within the bounds of the list\u001b[39;00m\n\u001b[0;32m      3\u001b[0m     \u001b[38;5;28;01mif\u001b[39;00m start \u001b[38;5;241m<\u001b[39m \u001b[38;5;241m0\u001b[39m \u001b[38;5;129;01mor\u001b[39;00m end \u001b[38;5;241m>\u001b[39m\u001b[38;5;241m=\u001b[39m \u001b[38;5;28mlen\u001b[39m(arr) \u001b[38;5;129;01mor\u001b[39;00m start \u001b[38;5;241m>\u001b[39m end:\n\u001b[1;32m----> 4\u001b[0m         \u001b[38;5;28;01mraise\u001b[39;00m \u001b[38;5;167;01mValueError\u001b[39;00m(\u001b[38;5;124m\"\u001b[39m\u001b[38;5;124mInvalid start or end indices\u001b[39m\u001b[38;5;124m\"\u001b[39m)\n\u001b[0;32m      6\u001b[0m     \u001b[38;5;66;03m# Reverse the sublist in-place\u001b[39;00m\n\u001b[0;32m      7\u001b[0m     arr[start:end\u001b[38;5;241m+\u001b[39m\u001b[38;5;241m1\u001b[39m] \u001b[38;5;241m=\u001b[39m arr[start:end\u001b[38;5;241m+\u001b[39m\u001b[38;5;241m1\u001b[39m][::\u001b[38;5;241m-\u001b[39m\u001b[38;5;241m1\u001b[39m]\n",
      "\u001b[1;31mValueError\u001b[0m: Invalid start or end indices"
     ]
    }
   ],
   "source": [
    "arr=[1,2,3,4,5,6,7]\n",
    "v1=reverse_sublist(arr,0,3)\n",
    "v2=reverse_sublist(arr,3,7)\n",
    "v3=reverse_sublist(arr,7)\n",
    "print(v3)\n"
   ]
  },
  {
   "cell_type": "markdown",
   "metadata": {},
   "source": [
    "# move the zeros to the end of the array"
   ]
  },
  {
   "cell_type": "markdown",
   "metadata": {},
   "source": [
    "My approach"
   ]
  },
  {
   "cell_type": "code",
   "execution_count": 178,
   "metadata": {},
   "outputs": [],
   "source": [
    "def move_the_zeros(arr):\n",
    "    non_zero_list=[]\n",
    "    i=0\n",
    "    length=len(arr)\n",
    "    for index in range(0,len(arr),1):\n",
    "        if arr[index]!=0:\n",
    "            non_zero_list.append(arr[index])\n",
    "            i=i+1\n",
    "    print(i)\n",
    "    print(non_zero_list)\n",
    "    print(length)\n",
    "    while i<length:\n",
    "        non_zero_list.append(0)\n",
    "        i=i+1\n",
    "    return non_zero_list"
   ]
  },
  {
   "cell_type": "code",
   "execution_count": 179,
   "metadata": {},
   "outputs": [
    {
     "name": "stdout",
     "output_type": "stream",
     "text": [
      "7\n",
      "[1, 2, 3, 2, 4, 5, 1]\n",
      "10\n",
      "[1, 0, 2, 3, 2, 0, 0, 4, 5, 1]\n",
      "[1, 2, 3, 2, 4, 5, 1, 0, 0, 0]\n"
     ]
    }
   ],
   "source": [
    "arr=[1,0,2,3,2,0,0,4,5,1]\n",
    "f_array=move_the_zeros(arr)\n",
    "print(arr)\n",
    "print(f_array)"
   ]
  },
  {
   "cell_type": "markdown",
   "metadata": {},
   "source": [
    "brute force "
   ]
  },
  {
   "cell_type": "code",
   "execution_count": 185,
   "metadata": {},
   "outputs": [],
   "source": [
    "def move_the_zeros(arr):\n",
    "    non_zero_list=[]\n",
    "    i=0\n",
    "    length=len(arr)\n",
    "    for index in range(0,len(arr),1):\n",
    "        if arr[index]!=0:\n",
    "            non_zero_list.append(arr[index])\n",
    "            i=i+1\n",
    "   \n",
    "    for index in range(0,len(non_zero_list),1):\n",
    "        arr[index]=non_zero_list[index]\n",
    "        \n",
    "    for index in range(len(non_zero_list),length,1):\n",
    "        arr[index]=0\n",
    "    return arr"
   ]
  },
  {
   "cell_type": "code",
   "execution_count": 186,
   "metadata": {},
   "outputs": [
    {
     "name": "stdout",
     "output_type": "stream",
     "text": [
      "[1, 2, 3, 2, 4, 5, 1, 0, 0, 0, 0, 0, 0, 0]\n",
      "[1, 2, 3, 2, 4, 5, 1, 0, 0, 0, 0, 0, 0, 0]\n"
     ]
    }
   ],
   "source": [
    "arr=[1,0,2,3,2,0,0,4,5,1,0,0,0,0]\n",
    "f_array=move_the_zeros(arr)\n",
    "print(arr)\n",
    "print(f_array)"
   ]
  },
  {
   "cell_type": "markdown",
   "metadata": {},
   "source": [
    "optimal "
   ]
  },
  {
   "cell_type": "code",
   "execution_count": 191,
   "metadata": {},
   "outputs": [],
   "source": [
    "def move_the_zeros1(arr):\n",
    "    non_zero_list=[]\n",
    "    j=-1\n",
    "    length=len(arr)\n",
    "    for index in range(0,len(arr),1):\n",
    "        if arr[index]==0:\n",
    "            j=index\n",
    "            break\n",
    "   \n",
    "    for index in range(j+1,length):\n",
    "        if(arr[index]!=0):\n",
    "            arr[index],arr[j]=arr[j],arr[index]\n",
    "            j=j+1\n",
    "    \n",
    "        \n",
    "\n",
    "    return arr"
   ]
  },
  {
   "cell_type": "code",
   "execution_count": 192,
   "metadata": {},
   "outputs": [
    {
     "name": "stdout",
     "output_type": "stream",
     "text": [
      "[1, 2, 3, 2, 4, 5, 1, 0, 0, 0, 0, 0, 0, 0]\n",
      "[1, 2, 3, 2, 4, 5, 1, 0, 0, 0, 0, 0, 0, 0]\n"
     ]
    }
   ],
   "source": [
    "arr=[1,0,2,3,2,0,0,4,5,1,0,0,0,0]\n",
    "f_array=move_the_zeros1(arr)\n",
    "print(arr)\n",
    "print(f_array)"
   ]
  },
  {
   "cell_type": "markdown",
   "metadata": {},
   "source": [
    "# Linear search"
   ]
  },
  {
   "cell_type": "code",
   "execution_count": 193,
   "metadata": {},
   "outputs": [],
   "source": [
    "def linear_search(arr,num):\n",
    "    for index in range(0,len(arr),1):\n",
    "        if arr[index]==num:\n",
    "            return index\n",
    "    return -1"
   ]
  },
  {
   "cell_type": "code",
   "execution_count": 196,
   "metadata": {},
   "outputs": [
    {
     "name": "stdout",
     "output_type": "stream",
     "text": [
      "-1\n",
      "7\n"
     ]
    }
   ],
   "source": [
    "arr=[1,2,3,4,5,6,7,8]\n",
    "f_array=linear_search(arr,10)\n",
    "print(f_array)\n",
    "f_array=linear_search(arr,8)\n",
    "print(f_array)"
   ]
  },
  {
   "cell_type": "markdown",
   "metadata": {},
   "source": [
    "# union of two sorted array"
   ]
  },
  {
   "cell_type": "code",
   "execution_count": 197,
   "metadata": {},
   "outputs": [],
   "source": [
    "def union_sorted_array(arr1,arr2):\n",
    "    arr1.sort\n",
    "    arr2.sort\n",
    "    setv=set()\n",
    "    unique_item=[]\n",
    "    for index in range(0,len(arr1),1):\n",
    "        if arr1[index] not in setv:\n",
    "            setv.add(arr1[index])\n",
    "            unique_item.append(arr1[index])\n",
    "    for index in range(0,len(arr2),1):\n",
    "        if arr1[index] not in setv:\n",
    "            setv.add(arr2[index])\n",
    "            unique_item.append(arr2[index])\n",
    "    return unique_item"
   ]
  },
  {
   "cell_type": "code",
   "execution_count": 198,
   "metadata": {},
   "outputs": [
    {
     "name": "stdout",
     "output_type": "stream",
     "text": [
      "[1, 2, 3, 4, 5]\n"
     ]
    }
   ],
   "source": [
    "arr1=[1,1,2,3,4,5]\n",
    "arr2=[2,3,4,4,5,6]\n",
    "final=union_sorted_array(arr1,arr2)\n",
    "print(final)"
   ]
  },
  {
   "cell_type": "markdown",
   "metadata": {},
   "source": [
    "optimal approach "
   ]
  },
  {
   "cell_type": "code",
   "execution_count": 203,
   "metadata": {},
   "outputs": [
    {
     "name": "stdout",
     "output_type": "stream",
     "text": [
      "[1, 2, 3, 4, 5, 6]\n"
     ]
    }
   ],
   "source": [
    "def union_sorted_array1(arr1, arr2):\n",
    "    unique_item = []\n",
    "    l1, l2 = len(arr1), len(arr2)\n",
    "    i, j = 0, 0\n",
    "    \n",
    "    while i < l1 and j < l2:\n",
    "        if arr1[i] < arr2[j]:\n",
    "            if arr1[i] not in unique_item:\n",
    "                unique_item.append(arr1[i])\n",
    "            i += 1\n",
    "        elif arr1[i] > arr2[j]:\n",
    "            if arr2[j] not in unique_item:\n",
    "                unique_item.append(arr2[j])\n",
    "            j += 1\n",
    "        else:\n",
    "            if arr1[i] not in unique_item:\n",
    "                unique_item.append(arr1[i])\n",
    "            i += 1\n",
    "            j += 1\n",
    "    \n",
    "    while i < l1:\n",
    "        if arr1[i] not in unique_item:\n",
    "            unique_item.append(arr1[i])\n",
    "        i += 1\n",
    "    \n",
    "    while j < l2:\n",
    "        if arr2[j] not in unique_item:\n",
    "            unique_item.append(arr2[j])\n",
    "        j += 1\n",
    "    \n",
    "    return unique_item\n",
    "\n",
    "# Example usage\n",
    "arr1 = [1, 2, 4, 5]\n",
    "arr2 = [2, 3, 5, 6]\n",
    "print(union_sorted_array1(arr1, arr2))  # Output: [1, 2, 3, 4, 5, 6]\n"
   ]
  },
  {
   "cell_type": "code",
   "execution_count": 204,
   "metadata": {},
   "outputs": [
    {
     "name": "stdout",
     "output_type": "stream",
     "text": [
      "[2, 3, 1, 4, 5, 6]\n"
     ]
    }
   ],
   "source": [
    "arr1=[3,1,2,3,4,5]\n",
    "arr2=[2,3,4,4,5,6]\n",
    "final=union_sorted_array1(arr1,arr2)\n",
    "print(final)"
   ]
  },
  {
   "cell_type": "markdown",
   "metadata": {},
   "source": [
    "# Intersection of two array"
   ]
  },
  {
   "cell_type": "markdown",
   "metadata": {},
   "source": [
    "brute force approach"
   ]
  },
  {
   "cell_type": "code",
   "execution_count": 205,
   "metadata": {},
   "outputs": [],
   "source": [
    "def intersection_of_array(arr1,arr2):\n",
    "    length1=len(arr1)\n",
    "    length2=len(arr2)\n",
    "    final=[]\n",
    "    visited=[0]*length2\n",
    "    for index1 in range(0,length1,1):\n",
    "        for index2 in range(0,length2,1):\n",
    "            if arr1[index1]==arr2[index2] and visited[index2]==0:\n",
    "                final.append(arr1[index1])\n",
    "                visited[index2]=1\n",
    "                break\n",
    "            if arr2[index2]>arr1[index1]:\n",
    "                break\n",
    "    return final\n",
    "    "
   ]
  },
  {
   "cell_type": "code",
   "execution_count": 206,
   "metadata": {},
   "outputs": [
    {
     "name": "stdout",
     "output_type": "stream",
     "text": [
      "[2, 3, 3, 5, 6]\n"
     ]
    }
   ],
   "source": [
    "arr1=[1,2,2,3,3,4,5,6]\n",
    "arr2=[2,3,3,5,6,6,7]\n",
    "val=intersection_of_array(arr1,arr2)\n",
    "print(val)"
   ]
  }
 ],
 "metadata": {
  "kernelspec": {
   "display_name": "Python 3",
   "language": "python",
   "name": "python3"
  },
  "language_info": {
   "codemirror_mode": {
    "name": "ipython",
    "version": 3
   },
   "file_extension": ".py",
   "mimetype": "text/x-python",
   "name": "python",
   "nbconvert_exporter": "python",
   "pygments_lexer": "ipython3",
   "version": "3.13.1"
  }
 },
 "nbformat": 4,
 "nbformat_minor": 2
}
