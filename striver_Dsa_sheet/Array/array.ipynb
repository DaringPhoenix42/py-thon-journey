{
 "cells": [
  {
   "cell_type": "markdown",
   "metadata": {},
   "source": [
    "# Second largest element in array:-"
   ]
  },
  {
   "cell_type": "markdown",
   "metadata": {},
   "source": [
    "# Better approach"
   ]
  },
  {
   "cell_type": "code",
   "execution_count": 31,
   "metadata": {},
   "outputs": [],
   "source": [
    "def second_largest_ekement(arr):\n",
    "    second_largest=float('-inf')\n",
    "    largest_number=arr[0]\n",
    "    \n",
    "    ## largest number\n",
    "    for index in range(0,len(arr),1):\n",
    "        if arr[index]>largest_number:\n",
    "            largest_number=arr[index]\n",
    "            \n",
    "    #Second largest number\n",
    "    for index in range(0,len(arr),1):\n",
    "        if arr[index]>second_largest and arr[index]!=largest_number:\n",
    "            second_largest=arr[index]\n",
    "    if second_largest==float('-inf'):\n",
    "            return -1,largest_number\n",
    "            \n",
    "    return second_largest,largest_number\n",
    "            \n",
    "        \n",
    "    \n",
    "\n"
   ]
  },
  {
   "cell_type": "code",
   "execution_count": 32,
   "metadata": {},
   "outputs": [
    {
     "name": "stdout",
     "output_type": "stream",
     "text": [
      "[12, 35, 1, 10, 34, 1]\n",
      "Second largeest 34\n",
      "Largest  number 35\n"
     ]
    }
   ],
   "source": [
    "arr1=[12,35,1,10,34,1]\n",
    "val1,val2=second_largest_ekement(arr1)\n",
    "print(arr1)\n",
    "print(\"Second largeest\",val1)\n",
    "print(\"Largest  number\",val2)"
   ]
  },
  {
   "cell_type": "code",
   "execution_count": 33,
   "metadata": {},
   "outputs": [
    {
     "name": "stdout",
     "output_type": "stream",
     "text": [
      "[12, 35, 1, 10, 34, -1]\n",
      "(34, 35)\n"
     ]
    }
   ],
   "source": [
    "arr2=[12,35,1,10,34,-1]\n",
    "val2=second_largest_ekement(arr2)\n",
    "print(arr2)\n",
    "print(val2)"
   ]
  },
  {
   "cell_type": "code",
   "execution_count": 34,
   "metadata": {},
   "outputs": [
    {
     "name": "stdout",
     "output_type": "stream",
     "text": [
      "[-12, -35, -1, -10, 34, -1]\n",
      "(-1, 34)\n"
     ]
    }
   ],
   "source": [
    "arr2=[-12,-35,-1,-10,34,-1]\n",
    "val2=second_largest_ekement(arr2)\n",
    "print(arr2)\n",
    "print(val2)"
   ]
  },
  {
   "cell_type": "code",
   "execution_count": 35,
   "metadata": {},
   "outputs": [
    {
     "name": "stdout",
     "output_type": "stream",
     "text": [
      "[-1, -1, -1, -1]\n",
      "(-1, -1)\n"
     ]
    }
   ],
   "source": [
    "arr2=[-1,-1,-1,-1]\n",
    "val2=second_largest_ekement(arr2)\n",
    "print(arr2)\n",
    "print(val2)"
   ]
  },
  {
   "cell_type": "markdown",
   "metadata": {},
   "source": [
    "# optimal approach"
   ]
  },
  {
   "cell_type": "code",
   "execution_count": 36,
   "metadata": {},
   "outputs": [],
   "source": [
    "def second_largest_ekement(arr):\n",
    "    second_largest=float('-inf')\n",
    "    largest_number=arr[0]\n",
    "    \n",
    "            \n",
    "    #Second largest number #largest number\n",
    "    for index in range(0,len(arr),1):\n",
    "        if arr[index]>largest_number:\n",
    "            second_largest=largest_number\n",
    "            largest_number=arr[index]\n",
    "        elif arr[index]>second_largest and arr[index]!=largest_number:\n",
    "            second_largest=arr[index]\n",
    "    if second_largest==float('-inf'):\n",
    "            return -1,largest_number\n",
    "        \n",
    "            \n",
    "    return second_largest,largest_number"
   ]
  },
  {
   "cell_type": "code",
   "execution_count": 37,
   "metadata": {},
   "outputs": [
    {
     "name": "stdout",
     "output_type": "stream",
     "text": [
      "[-1, -1, -1, -1]\n",
      "(-1, -1)\n"
     ]
    }
   ],
   "source": [
    "arr2=[-1,-1,-1,-1]\n",
    "val2=second_largest_ekement(arr2)\n",
    "print(arr2)\n",
    "print(val2)"
   ]
  },
  {
   "cell_type": "code",
   "execution_count": 38,
   "metadata": {},
   "outputs": [
    {
     "name": "stdout",
     "output_type": "stream",
     "text": [
      "[-12, -35, -1, -10, 34, -1]\n",
      "(-1, 34)\n"
     ]
    }
   ],
   "source": [
    "arr2=[-12,-35,-1,-10,34,-1]\n",
    "val2=second_largest_ekement(arr2)\n",
    "print(arr2)\n",
    "print(val2)"
   ]
  },
  {
   "cell_type": "code",
   "execution_count": 39,
   "metadata": {},
   "outputs": [
    {
     "name": "stdout",
     "output_type": "stream",
     "text": [
      "[12, 35, 1, 10, 34, -1]\n",
      "(34, 35)\n"
     ]
    }
   ],
   "source": [
    "arr2=[12,35,1,10,34,-1]\n",
    "val2=second_largest_ekement(arr2)\n",
    "print(arr2)\n",
    "print(val2)"
   ]
  },
  {
   "cell_type": "code",
   "execution_count": 30,
   "metadata": {},
   "outputs": [
    {
     "name": "stdout",
     "output_type": "stream",
     "text": [
      "[12, 35, 1, 10, 34, 1]\n",
      "Second largeest 34\n",
      "Largest  number 35\n"
     ]
    }
   ],
   "source": [
    "arr1=[12,35,1,10,34,1]\n",
    "val1,val2=second_largest_ekement(arr1)\n",
    "print(arr1)\n",
    "print(\"Second largeest\",val1)\n",
    "print(\"Largest  number\",val2)"
   ]
  },
  {
   "cell_type": "markdown",
   "metadata": {},
   "source": [
    "# Check if the array is sorted in non desending order"
   ]
  },
  {
   "cell_type": "code",
   "execution_count": 40,
   "metadata": {},
   "outputs": [],
   "source": [
    "def sorted_or_not(arr):\n",
    "    \n",
    "    for index in range(1,len(arr),1):\n",
    "        if arr[index]>arr[index-1]:\n",
    "            pass\n",
    "        else :\n",
    "            return False\n",
    "    return True"
   ]
  },
  {
   "cell_type": "code",
   "execution_count": 41,
   "metadata": {},
   "outputs": [
    {
     "name": "stdout",
     "output_type": "stream",
     "text": [
      "[12, 35, 1, 10, 34, 1]\n",
      "False\n"
     ]
    }
   ],
   "source": [
    "arr1=[12,35,1,10,34,1]\n",
    "val1=sorted_or_not(arr1)\n",
    "print(arr1)\n",
    "print(val1)\n"
   ]
  }
 ],
 "metadata": {
  "kernelspec": {
   "display_name": "Python 3",
   "language": "python",
   "name": "python3"
  },
  "language_info": {
   "codemirror_mode": {
    "name": "ipython",
    "version": 3
   },
   "file_extension": ".py",
   "mimetype": "text/x-python",
   "name": "python",
   "nbconvert_exporter": "python",
   "pygments_lexer": "ipython3",
   "version": "3.13.1"
  }
 },
 "nbformat": 4,
 "nbformat_minor": 2
}
