{
 "cells": [
  {
   "cell_type": "markdown",
   "metadata": {},
   "source": [
    "# Second largest element in array:-"
   ]
  },
  {
   "cell_type": "markdown",
   "metadata": {},
   "source": [
    "# Better approach"
   ]
  },
  {
   "cell_type": "code",
   "execution_count": 31,
   "metadata": {},
   "outputs": [],
   "source": [
    "def second_largest_ekement(arr):\n",
    "    second_largest=float('-inf')\n",
    "    largest_number=arr[0]\n",
    "    \n",
    "    ## largest number\n",
    "    for index in range(0,len(arr),1):\n",
    "        if arr[index]>largest_number:\n",
    "            largest_number=arr[index]\n",
    "            \n",
    "    #Second largest number\n",
    "    for index in range(0,len(arr),1):\n",
    "        if arr[index]>second_largest and arr[index]!=largest_number:\n",
    "            second_largest=arr[index]\n",
    "    if second_largest==float('-inf'):\n",
    "            return -1,largest_number\n",
    "            \n",
    "    return second_largest,largest_number\n",
    "            \n",
    "        \n",
    "    \n",
    "\n"
   ]
  },
  {
   "cell_type": "code",
   "execution_count": 32,
   "metadata": {},
   "outputs": [
    {
     "name": "stdout",
     "output_type": "stream",
     "text": [
      "[12, 35, 1, 10, 34, 1]\n",
      "Second largeest 34\n",
      "Largest  number 35\n"
     ]
    }
   ],
   "source": [
    "arr1=[12,35,1,10,34,1]\n",
    "val1,val2=second_largest_ekement(arr1)\n",
    "print(arr1)\n",
    "print(\"Second largeest\",val1)\n",
    "print(\"Largest  number\",val2)"
   ]
  },
  {
   "cell_type": "code",
   "execution_count": 33,
   "metadata": {},
   "outputs": [
    {
     "name": "stdout",
     "output_type": "stream",
     "text": [
      "[12, 35, 1, 10, 34, -1]\n",
      "(34, 35)\n"
     ]
    }
   ],
   "source": [
    "arr2=[12,35,1,10,34,-1]\n",
    "val2=second_largest_ekement(arr2)\n",
    "print(arr2)\n",
    "print(val2)"
   ]
  },
  {
   "cell_type": "code",
   "execution_count": 34,
   "metadata": {},
   "outputs": [
    {
     "name": "stdout",
     "output_type": "stream",
     "text": [
      "[-12, -35, -1, -10, 34, -1]\n",
      "(-1, 34)\n"
     ]
    }
   ],
   "source": [
    "arr2=[-12,-35,-1,-10,34,-1]\n",
    "val2=second_largest_ekement(arr2)\n",
    "print(arr2)\n",
    "print(val2)"
   ]
  },
  {
   "cell_type": "code",
   "execution_count": 35,
   "metadata": {},
   "outputs": [
    {
     "name": "stdout",
     "output_type": "stream",
     "text": [
      "[-1, -1, -1, -1]\n",
      "(-1, -1)\n"
     ]
    }
   ],
   "source": [
    "arr2=[-1,-1,-1,-1]\n",
    "val2=second_largest_ekement(arr2)\n",
    "print(arr2)\n",
    "print(val2)"
   ]
  },
  {
   "cell_type": "markdown",
   "metadata": {},
   "source": [
    "# optimal approach"
   ]
  },
  {
   "cell_type": "code",
   "execution_count": 36,
   "metadata": {},
   "outputs": [],
   "source": [
    "def second_largest_ekement(arr):\n",
    "    second_largest=float('-inf')\n",
    "    largest_number=arr[0]\n",
    "    \n",
    "            \n",
    "    #Second largest number #largest number\n",
    "    for index in range(0,len(arr),1):\n",
    "        if arr[index]>largest_number:\n",
    "            second_largest=largest_number\n",
    "            largest_number=arr[index]\n",
    "        elif arr[index]>second_largest and arr[index]!=largest_number:\n",
    "            second_largest=arr[index]\n",
    "    if second_largest==float('-inf'):\n",
    "            return -1,largest_number\n",
    "        \n",
    "            \n",
    "    return second_largest,largest_number"
   ]
  },
  {
   "cell_type": "code",
   "execution_count": 37,
   "metadata": {},
   "outputs": [
    {
     "name": "stdout",
     "output_type": "stream",
     "text": [
      "[-1, -1, -1, -1]\n",
      "(-1, -1)\n"
     ]
    }
   ],
   "source": [
    "arr2=[-1,-1,-1,-1]\n",
    "val2=second_largest_ekement(arr2)\n",
    "print(arr2)\n",
    "print(val2)"
   ]
  },
  {
   "cell_type": "code",
   "execution_count": 38,
   "metadata": {},
   "outputs": [
    {
     "name": "stdout",
     "output_type": "stream",
     "text": [
      "[-12, -35, -1, -10, 34, -1]\n",
      "(-1, 34)\n"
     ]
    }
   ],
   "source": [
    "arr2=[-12,-35,-1,-10,34,-1]\n",
    "val2=second_largest_ekement(arr2)\n",
    "print(arr2)\n",
    "print(val2)"
   ]
  },
  {
   "cell_type": "code",
   "execution_count": 39,
   "metadata": {},
   "outputs": [
    {
     "name": "stdout",
     "output_type": "stream",
     "text": [
      "[12, 35, 1, 10, 34, -1]\n",
      "(34, 35)\n"
     ]
    }
   ],
   "source": [
    "arr2=[12,35,1,10,34,-1]\n",
    "val2=second_largest_ekement(arr2)\n",
    "print(arr2)\n",
    "print(val2)"
   ]
  },
  {
   "cell_type": "code",
   "execution_count": 30,
   "metadata": {},
   "outputs": [
    {
     "name": "stdout",
     "output_type": "stream",
     "text": [
      "[12, 35, 1, 10, 34, 1]\n",
      "Second largeest 34\n",
      "Largest  number 35\n"
     ]
    }
   ],
   "source": [
    "arr1=[12,35,1,10,34,1]\n",
    "val1,val2=second_largest_ekement(arr1)\n",
    "print(arr1)\n",
    "print(\"Second largeest\",val1)\n",
    "print(\"Largest  number\",val2)"
   ]
  },
  {
   "cell_type": "markdown",
   "metadata": {},
   "source": [
    "# Check if the array is sorted in non desending order"
   ]
  },
  {
   "cell_type": "code",
   "execution_count": 40,
   "metadata": {},
   "outputs": [],
   "source": [
    "def sorted_or_not(arr):\n",
    "    \n",
    "    for index in range(1,len(arr),1):\n",
    "        if arr[index]>arr[index-1]:\n",
    "            pass\n",
    "        else :\n",
    "            return False\n",
    "    return True"
   ]
  },
  {
   "cell_type": "code",
   "execution_count": 41,
   "metadata": {},
   "outputs": [
    {
     "name": "stdout",
     "output_type": "stream",
     "text": [
      "[12, 35, 1, 10, 34, 1]\n",
      "False\n"
     ]
    }
   ],
   "source": [
    "arr1=[12,35,1,10,34,1]\n",
    "val1=sorted_or_not(arr1)\n",
    "print(arr1)\n",
    "print(val1)\n"
   ]
  },
  {
   "cell_type": "markdown",
   "metadata": {},
   "source": [
    "# To remove duplicate in the array"
   ]
  },
  {
   "cell_type": "markdown",
   "metadata": {},
   "source": [
    "brute force approach"
   ]
  },
  {
   "cell_type": "code",
   "execution_count": 42,
   "metadata": {},
   "outputs": [],
   "source": [
    "def remove_dublicate_element(arr):\n",
    "    set_arr=set(arr)\n",
    "    li=[]\n",
    "    for index in range(0,len(arr),1):\n",
    "        for val in set_arr:\n",
    "            if arr[index]==val and arr[index] not in li:\n",
    "                li.append(arr[index])\n",
    "    return li"
   ]
  },
  {
   "cell_type": "code",
   "execution_count": 43,
   "metadata": {},
   "outputs": [
    {
     "name": "stdout",
     "output_type": "stream",
     "text": [
      "[1, 1, 2, 2, 2, 3, 3]\n",
      "[1, 2, 3]\n"
     ]
    }
   ],
   "source": [
    "arr=[1,1,2,2,2,3,3]\n",
    "val=remove_dublicate_element(arr)\n",
    "print(arr)\n",
    "print(val)"
   ]
  },
  {
   "cell_type": "markdown",
   "metadata": {},
   "source": [
    "optimal approach using 2 pointer approach"
   ]
  },
  {
   "cell_type": "code",
   "execution_count": null,
   "metadata": {},
   "outputs": [],
   "source": [
    "def remove_dublicate_element2(arr):\n",
    "    i=0\n",
    "    for j in range(1,len(arr),1):\n",
    "        if arr[i]!=arr[j]:\n",
    "            arr[i+1]=arr[j]\n",
    "            i=i+1\n",
    "    \n",
    "    while i<len(arr):\n",
    "        arr[i]=0\n",
    "        \n",
    "    return arr\n",
    "        "
   ]
  },
  {
   "cell_type": "markdown",
   "metadata": {},
   "source": [
    "# missing number"
   ]
  },
  {
   "cell_type": "code",
   "execution_count": 53,
   "metadata": {},
   "outputs": [],
   "source": [
    "def missing_number(arr,N):\n",
    "    \n",
    "    for i in range(1,N+1,1):\n",
    "        flag=0\n",
    "        for j in range(0,N-1,1):\n",
    "            if arr[j]==i:\n",
    "                flag=1\n",
    "                break\n",
    "        if(flag==0):\n",
    "            return i"
   ]
  },
  {
   "cell_type": "code",
   "execution_count": 54,
   "metadata": {},
   "outputs": [
    {
     "name": "stdout",
     "output_type": "stream",
     "text": [
      "4\n"
     ]
    }
   ],
   "source": [
    "arr=[1,2,3,5]\n",
    "num=missing_number(arr,5)\n",
    "print(num)"
   ]
  },
  {
   "cell_type": "markdown",
   "metadata": {},
   "source": [
    "better"
   ]
  },
  {
   "cell_type": "code",
   "execution_count": 75,
   "metadata": {},
   "outputs": [],
   "source": [
    "def missing_number(arr,b):\n",
    "    n = len(arr)\n",
    "    hash_table = [0] * (n + 1)\n",
    "    for i in range(0,n-1,1):\n",
    "\n",
    "        hash_table[i]=1\n",
    "\n",
    "    for i in range(1, n + 1):\n",
    "        if hash_table[i] == 0:\n",
    "            return i\n",
    "\n",
    "    return n \n"
   ]
  },
  {
   "cell_type": "code",
   "execution_count": 77,
   "metadata": {},
   "outputs": [
    {
     "name": "stdout",
     "output_type": "stream",
     "text": [
      "3\n"
     ]
    }
   ],
   "source": [
    "arr=[1,3,4,5]\n",
    "num=missing_number(arr,5)\n",
    "print(num)"
   ]
  },
  {
   "cell_type": "markdown",
   "metadata": {},
   "source": [
    "optimal solution"
   ]
  },
  {
   "cell_type": "code",
   "execution_count": 78,
   "metadata": {},
   "outputs": [],
   "source": [
    "def missing_number1(arr,n):\n",
    "    xor1=0\n",
    "    xor2=0\n",
    "    length=n\n",
    "    for i in range(0,n-1,1):\n",
    "        xor2=xor2 ^ arr[i]\n",
    "        xor1=xor1 ^ (i+1)\n",
    "    xor1=xor1^n\n",
    "    \n",
    "        \n",
    "\n",
    "    return xor1 ^ xor2"
   ]
  },
  {
   "cell_type": "code",
   "execution_count": 79,
   "metadata": {},
   "outputs": [
    {
     "name": "stdout",
     "output_type": "stream",
     "text": [
      "2\n"
     ]
    }
   ],
   "source": [
    "arr=[1,3,4,5]\n",
    "num=missing_number1(arr,5)\n",
    "print(num)"
   ]
  },
  {
   "cell_type": "markdown",
   "metadata": {},
   "source": [
    "# maxium consicutive ones"
   ]
  },
  {
   "cell_type": "code",
   "execution_count": 85,
   "metadata": {},
   "outputs": [],
   "source": [
    "def consecutive_ones(arr):\n",
    "    max=0\n",
    "    li=[]\n",
    "    count=0\n",
    "    for index in range(0,len(arr),1):\n",
    "            \n",
    "            if arr[index]==1:\n",
    "                count=count+1\n",
    "            else:\n",
    "                count=0\n",
    "            if(max<count):\n",
    "                max=count\n",
    "            \n",
    "            \n",
    "           \n",
    "            \n",
    "    return max"
   ]
  },
  {
   "cell_type": "code",
   "execution_count": 86,
   "metadata": {},
   "outputs": [
    {
     "name": "stdout",
     "output_type": "stream",
     "text": [
      "3\n"
     ]
    }
   ],
   "source": [
    "arr=[1,1,0,1,1,1]\n",
    "num=consecutive_ones(arr)\n",
    "print(num)"
   ]
  },
  {
   "cell_type": "markdown",
   "metadata": {},
   "source": [
    "# Find the number of one s"
   ]
  },
  {
   "cell_type": "code",
   "execution_count": 89,
   "metadata": {},
   "outputs": [],
   "source": [
    "def no_of_ones(arr):\n",
    "    for i in range(0,len(arr),1):\n",
    "        num=arr[i]\n",
    "        count=0\n",
    "        for j in range(0,len(arr),1):\n",
    "            if arr[j]==num:\n",
    "                count=count+1\n",
    "        if count==1:\n",
    "            return num\n",
    "    "
   ]
  },
  {
   "cell_type": "code",
   "execution_count": 90,
   "metadata": {},
   "outputs": [
    {
     "name": "stdout",
     "output_type": "stream",
     "text": [
      "2\n"
     ]
    }
   ],
   "source": [
    "arr=[1,1,2,3,3,4,4]\n",
    "val=no_of_ones(arr)\n",
    "print(val)\n"
   ]
  },
  {
   "cell_type": "markdown",
   "metadata": {},
   "source": [
    "# longest subarray with sum k"
   ]
  },
  {
   "cell_type": "markdown",
   "metadata": {},
   "source": [
    "brute force approach"
   ]
  },
  {
   "cell_type": "code",
   "execution_count": 7,
   "metadata": {},
   "outputs": [],
   "source": [
    "def longestSubarrayWithSumK(arr, k):\n",
    "    preSumMap = {}\n",
    "    sum = 0\n",
    "    maxLen = 0\n",
    "\n",
    "    for i in range(len(arr)):\n",
    "        sum += arr[i]\n",
    "\n",
    "        if sum == k:\n",
    "            maxLen = max(maxLen, i + 1)\n",
    "\n",
    "        rem = sum - k\n",
    "\n",
    "        if rem in preSumMap:\n",
    "            length = i - preSumMap[rem]\n",
    "            maxLen = max(maxLen, length)\n",
    "\n",
    "        if sum not in preSumMap:\n",
    "            preSumMap[sum] = i\n",
    "\n",
    "    return maxLen\n",
    "\n",
    "\n",
    "\n"
   ]
  },
  {
   "cell_type": "code",
   "execution_count": 8,
   "metadata": {},
   "outputs": [
    {
     "name": "stdout",
     "output_type": "stream",
     "text": [
      "3\n"
     ]
    }
   ],
   "source": [
    "# Example usage:\n",
    "a = [1, 2, 3, 7, 5]\n",
    "k = 12\n",
    "print(longestSubarrayWithSumK(a, k))"
   ]
  },
  {
   "cell_type": "markdown",
   "metadata": {},
   "source": [
    "optimal approach"
   ]
  },
  {
   "cell_type": "code",
   "execution_count": 14,
   "metadata": {},
   "outputs": [],
   "source": [
    "def longestSubarrayWithSumK(a, k):\n",
    "    left = 0\n",
    "    right = 0\n",
    "    sum = a[0]\n",
    "    maxLen = 0\n",
    "    n = len(a)\n",
    "\n",
    "    while right < n:\n",
    "        # Adjust the window to maintain the sum less than or equal to k\n",
    "        while left <= right and sum > k:\n",
    "            sum -= a[left]\n",
    "            left += 1\n",
    "        \n",
    "        # Check if the sum equals k\n",
    "        if sum == k:\n",
    "            maxLen = max(maxLen, right - left + 1)\n",
    "        \n",
    "        # Move the right end of the window\n",
    "        right += 1\n",
    "        if right < n:\n",
    "            sum += a[right]\n",
    "    \n",
    "    return maxLen\n",
    "\n",
    "\n"
   ]
  },
  {
   "cell_type": "code",
   "execution_count": 12,
   "metadata": {},
   "outputs": [],
   "source": [
    "def longestSubarrayWithSumK(a, k):\n",
    "    left = 0\n",
    "    right = 0\n",
    "    sum = 0\n",
    "    maxLen = 0\n",
    "    n = len(a)\n",
    "\n",
    "    while right < n:\n",
    "        sum += a[right]  # Add the current element to the sum\n",
    "\n",
    "        # Adjust the window to maintain the sum less than or equal to k\n",
    "        while left <= right and sum > k:\n",
    "            sum -= a[left]\n",
    "            left += 1\n",
    "        \n",
    "        # Check if the sum equals k\n",
    "        if sum == k:\n",
    "            maxLen = max(maxLen, right - left + 1)\n",
    "        \n",
    "        # Move the right end of the window\n",
    "        right += 1\n",
    "    \n",
    "    return maxLen\n",
    "\n",
    "# Example usage:\n",
    "# a = [1, 2, 3, 7, 5]\n",
    "# k = 12\n",
    "# print(longestSubarrayWithSumK(a, k))  # Output should be 2\n"
   ]
  },
  {
   "cell_type": "code",
   "execution_count": 15,
   "metadata": {},
   "outputs": [
    {
     "name": "stdout",
     "output_type": "stream",
     "text": [
      "3\n"
     ]
    }
   ],
   "source": [
    "a = [1,2,3,1,1,1,1,3,3]\n",
    "k = 3\n",
    "print(longestSubarrayWithSumK(a, k))  # Output should be 2"
   ]
  },
  {
   "cell_type": "markdown",
   "metadata": {},
   "source": [
    "# 2 sum"
   ]
  },
  {
   "cell_type": "markdown",
   "metadata": {},
   "source": [
    "# my approach"
   ]
  },
  {
   "cell_type": "code",
   "execution_count": null,
   "metadata": {},
   "outputs": [],
   "source": []
  },
  {
   "cell_type": "markdown",
   "metadata": {},
   "source": [
    "# 3 sum"
   ]
  },
  {
   "cell_type": "code",
   "execution_count": null,
   "metadata": {},
   "outputs": [],
   "source": []
  },
  {
   "cell_type": "markdown",
   "metadata": {},
   "source": [
    "# 4 sum"
   ]
  },
  {
   "cell_type": "code",
   "execution_count": null,
   "metadata": {},
   "outputs": [],
   "source": []
  },
  {
   "cell_type": "markdown",
   "metadata": {},
   "source": [
    "# Maximum points you can obtain from cards"
   ]
  },
  {
   "cell_type": "code",
   "execution_count": 21,
   "metadata": {},
   "outputs": [],
   "source": [
    "def find_max_sum(nums, k):\n",
    "    n = len(nums)\n",
    "    \n",
    "    lsum = rsum = max_sum = 0\n",
    "    \n",
    "    # First loop to calculate the sum of the first k elements and update max_sum\n",
    "    for i in range(k):\n",
    "        lsum += nums[i]\n",
    "        \n",
    "    max_sum = lsum\n",
    "    rindex = n - 1\n",
    "    \n",
    "    # Second loop to calculate the sum of the last k elements and update max_sum\n",
    "    for i in range(k - 1, -1, -1):\n",
    "        lsum -= nums[i]\n",
    "        rsum += nums[rindex]\n",
    "        rindex -= 1\n",
    "        max_sum = max(max_sum, lsum + rsum)\n",
    "    \n",
    "    return max_sum"
   ]
  },
  {
   "cell_type": "code",
   "execution_count": 22,
   "metadata": {},
   "outputs": [
    {
     "name": "stdout",
     "output_type": "stream",
     "text": [
      "16\n"
     ]
    }
   ],
   "source": [
    "nums = [6,2,3,4,7,2,1,7,1]\n",
    "k = 4\n",
    "print(find_max_sum(nums, k))  # Output should be the maximum sum of two subarrays of length k"
   ]
  },
  {
   "cell_type": "markdown",
   "metadata": {},
   "source": [
    "# longest substring without repetition"
   ]
  },
  {
   "cell_type": "code",
   "execution_count": 57,
   "metadata": {},
   "outputs": [],
   "source": [
    "def longest_subString(s):\n",
    "    n = len(s)\n",
    "    maxlen = 0\n",
    "    for i in range(n):\n",
    "        hash_map = [0] * 256  # ASCII size of 256\n",
    "        for j in range(i, n):\n",
    "            if hash_map[ord(s[j])] == 1:\n",
    "                break\n",
    "            hash_map[ord(s[j])] = 1\n",
    "            curr_len = j - i + 1\n",
    "            maxlen = max(maxlen, curr_len)\n",
    "    return maxlen\n",
    "\n",
    "\n"
   ]
  },
  {
   "cell_type": "code",
   "execution_count": null,
   "metadata": {},
   "outputs": [],
   "source": [
    "def longest_subString(s):\n",
    "    n = len(s)\n",
    "    maxlen = 0\n",
    "    left = 0\n",
    "    unique_chars = set()\n",
    "\n",
    "    for right in range(n):\n",
    "        while s[right] in unique_chars:\n",
    "            unique_chars.remove(s[left])\n",
    "            left += 1\n",
    "        unique_chars.add(s[right])\n",
    "        maxlen = max(maxlen, right - left + 1)\n",
    "\n",
    "    return maxlen"
   ]
  },
  {
   "cell_type": "code",
   "execution_count": 59,
   "metadata": {},
   "outputs": [],
   "source": [
    "def length_of_longest_substring(s: str) -> int:\n",
    "    n = len(s)\n",
    "    l = 0  # Left pointer\n",
    "    max_len = 0\n",
    "    char_map = {}  # Hash map to store the last index of characters\n",
    "\n",
    "    for r in range(n):  # Right pointer\n",
    "        if s[r] in char_map and char_map[s[r]] >= l:\n",
    "            l = char_map[s[r]] + 1  # Move the left pointer to the right of the repeating character\n",
    "\n",
    "        char_map[s[r]] = r  # Update the last index of the character\n",
    "        max_len = max(max_len, r - l + 1)  # Calculate the length of the current substring\n",
    "\n",
    "    return max_len\n",
    "\n"
   ]
  },
  {
   "cell_type": "code",
   "execution_count": 60,
   "metadata": {},
   "outputs": [
    {
     "name": "stdout",
     "output_type": "stream",
     "text": [
      "5\n"
     ]
    }
   ],
   "source": [
    "# Example usage\n",
    "s = \"cadbzabcd\"\n",
    "print(longest_subString(s))  # Output: 5\n",
    "\n"
   ]
  },
  {
   "cell_type": "markdown",
   "metadata": {},
   "source": [
    "# Make consecutive 1 part -3"
   ]
  },
  {
   "cell_type": "markdown",
   "metadata": {},
   "source": [
    "brute "
   ]
  },
  {
   "cell_type": "code",
   "execution_count": 69,
   "metadata": {},
   "outputs": [],
   "source": [
    "def maximum_consecutive_one(arr,k):\n",
    "    max_len=0\n",
    "    for i in range(0,len(arr),1):\n",
    "        no_of_zeroes=0\n",
    "        for j in range(i,len(arr),1):\n",
    "            if arr[j]==0:\n",
    "                no_of_zeroes=no_of_zeroes+1\n",
    "            if(no_of_zeroes<=k):\n",
    "                leng=j-i+1\n",
    "                max_len = max(max_len, leng)\n",
    "            else:\n",
    "                break\n",
    "    return max_len\n",
    "                "
   ]
  },
  {
   "cell_type": "markdown",
   "metadata": {},
   "source": [
    "better "
   ]
  },
  {
   "cell_type": "code",
   "execution_count": 94,
   "metadata": {},
   "outputs": [],
   "source": [
    "def maximum_consecutive_one(arr,k):\n",
    "    max_len=0\n",
    "    l=0\n",
    "    r=0\n",
    "    no_of_zeroes=0\n",
    "    n=len(arr)\n",
    "    while r<n:\n",
    "        if arr[r]==0:\n",
    "                no_of_zeroes=no_of_zeroes+1\n",
    "        while no_of_zeroes>k:\n",
    "            if arr[l]==0:\n",
    "                no_of_zeroes=no_of_zeroes-1\n",
    "            l=l+1\n",
    "                \n",
    "        if(no_of_zeroes<=k):\n",
    "                leng=r-l+1\n",
    "                max_len = max(max_len, leng)\n",
    "        r=r+1\n",
    "\n",
    "    return max_len"
   ]
  },
  {
   "cell_type": "markdown",
   "metadata": {},
   "source": [
    "optimal"
   ]
  },
  {
   "cell_type": "code",
   "execution_count": 96,
   "metadata": {},
   "outputs": [],
   "source": [
    "def maximum_consecutive_one(arr,k):\n",
    "    max_len=0\n",
    "    l=0\n",
    "    r=0\n",
    "    no_of_zeroes=0\n",
    "    n=len(arr)\n",
    "    while r<n:\n",
    "        if arr[r]==0:\n",
    "                no_of_zeroes=no_of_zeroes+1\n",
    "        if no_of_zeroes>k:\n",
    "            if arr[l]==0:\n",
    "                no_of_zeroes=no_of_zeroes-1\n",
    "            l=l+1   \n",
    "        if(no_of_zeroes<=k):\n",
    "                leng=r-l+1\n",
    "                max_len = max(max_len, leng)\n",
    "        r=r+1\n",
    "\n",
    "    return max_len"
   ]
  },
  {
   "cell_type": "code",
   "execution_count": 97,
   "metadata": {},
   "outputs": [
    {
     "name": "stdout",
     "output_type": "stream",
     "text": [
      "6\n"
     ]
    }
   ],
   "source": [
    "arr=[1,1,1,0,0,0,1,1,1,1,0]\n",
    "k=2\n",
    "val=maximum_consecutive_one(arr,k)\n",
    "print(val)"
   ]
  },
  {
   "cell_type": "markdown",
   "metadata": {},
   "source": [
    "# Fruits into baskets"
   ]
  },
  {
   "cell_type": "code",
   "execution_count": 108,
   "metadata": {},
   "outputs": [],
   "source": [
    "def fruit_into_basket(arr):\n",
    "    maxlen=0\n",
    "    set1=set()\n",
    "    for i in range(0,len(arr),1):\n",
    "        set1.clear()\n",
    "        for j in range(i,len(arr),1):\n",
    "            set1.add(arr[j])\n",
    "            if len(set1)<=2:\n",
    "                maxlen=max(maxlen,j-i+1)\n",
    "            else:\n",
    "                break\n",
    "    return maxlen\n",
    "        "
   ]
  },
  {
   "cell_type": "code",
   "execution_count": 120,
   "metadata": {},
   "outputs": [
    {
     "name": "stdout",
     "output_type": "stream",
     "text": [
      "4\n"
     ]
    }
   ],
   "source": [
    "def longest_subarray_with_k_distinct(arr, k):\n",
    "    left = 0\n",
    "    right = 0\n",
    "    maxlen = 0\n",
    "    mpp = {}  # Dictionary to store the frequency of elements\n",
    "\n",
    "    while right < len(arr):\n",
    "        # Add the current element to the map and increase its frequency\n",
    "        mpp[arr[right]] = mpp.get(arr[right], 0) + 1\n",
    "\n",
    "        # If the number of distinct elements exceeds k, shrink the window\n",
    "        while len(mpp) > k:\n",
    "            mpp[arr[left]] -= 1\n",
    "            if mpp[arr[left]] == 0:\n",
    "                del mpp[arr[left]]  # Remove the element when its count reaches zero\n",
    "            left += 1\n",
    "\n",
    "        # Update the maximum length if the current window is valid\n",
    "        if len(mpp) <= k:\n",
    "            maxlen = max(maxlen, right - left + 1)\n",
    "        \n",
    "        right += 1\n",
    "\n",
    "    return maxlen\n",
    "\n",
    "# Example usage\n",
    "arr = [1, 2, 1, 2, 3]\n",
    "k = 2\n",
    "print(longest_subarray_with_k_distinct(arr, k))  # Output: 4\n"
   ]
  },
  {
   "cell_type": "code",
   "execution_count": 111,
   "metadata": {},
   "outputs": [
    {
     "name": "stdout",
     "output_type": "stream",
     "text": [
      "4\n"
     ]
    }
   ],
   "source": [
    "def longest_subarray_with_k_distinct(arr, k):\n",
    "    left = 0\n",
    "    right = 0\n",
    "    maxlen = 0\n",
    "    mpp = {}  # Dictionary to store the frequency of elements\n",
    "\n",
    "    while right < len(arr):\n",
    "        # Add the current element to the map and increase its frequency\n",
    "        mpp[arr[right]] = mpp.get(arr[right], 0) + 1\n",
    "\n",
    "        # If the number of distinct elements exceeds k, shrink the window\n",
    "        if len(mpp) > k:\n",
    "            mpp[arr[left]] -= 1\n",
    "            if mpp[arr[left]] == 0:\n",
    "                del mpp[arr[left]]  # Remove the element when its count reaches zero\n",
    "            left += 1\n",
    "\n",
    "        # Update the maximum length if the current window is valid\n",
    "        if len(mpp) <= k:\n",
    "            maxlen = max(maxlen, right - left + 1)\n",
    "        \n",
    "        right += 1\n",
    "\n",
    "    return maxlen\n",
    "\n",
    "# Example usage\n",
    "arr = [1, 2, 1, 2, 3]\n",
    "k = 2\n",
    "print(longest_subarray_with_k_distinct(arr, k))  # Output: 4\n"
   ]
  },
  {
   "cell_type": "markdown",
   "metadata": {},
   "source": [
    "tc->bigo of n"
   ]
  },
  {
   "cell_type": "code",
   "execution_count": 109,
   "metadata": {},
   "outputs": [
    {
     "name": "stdout",
     "output_type": "stream",
     "text": [
      "5\n"
     ]
    }
   ],
   "source": [
    "arr=[3,3,3,1,2,1,1,2,3,3,4]\n",
    "val=fruit_into_basket(arr)\n",
    "print(val)"
   ]
  },
  {
   "cell_type": "markdown",
   "metadata": {},
   "source": [
    "# longest substring with at most k distict character"
   ]
  },
  {
   "cell_type": "markdown",
   "metadata": {},
   "source": [
    "brute force"
   ]
  },
  {
   "cell_type": "code",
   "execution_count": 116,
   "metadata": {},
   "outputs": [],
   "source": [
    "def sub_string(s,k):\n",
    "    maxlen=0\n",
    "    dictionary={}\n",
    "    for i in range(0,len(s),1):\n",
    "        dictionary.clear()\n",
    "        for j in range(i,len(s),1):\n",
    "            dictionary[s[j]] = dictionary.get(s[j], 0) + 1\n",
    "            if len(dictionary) <=k:\n",
    "                    maxlen = max(maxlen, j - i + 1)\n",
    "            else:\n",
    "                break\n",
    "    return maxlen\n",
    "                \n",
    "            "
   ]
  },
  {
   "cell_type": "code",
   "execution_count": null,
   "metadata": {},
   "outputs": [],
   "source": [
    "def sub_string(s,k):\n",
    "    maxlen=0\n",
    "    dictionary={}\n",
    "    for i in range(0,len(s),1):\n",
    "        dictionary.clear()\n",
    "        for j in range(i,len(s),1):\n",
    "            dictionary[s[j]] = dictionary.get(s[j], 0) + 1\n",
    "            if len(dictionary) <=k:\n",
    "                    maxlen = max(maxlen, j - i + 1)\n",
    "            else:\n",
    "                break\n",
    "    return maxlen"
   ]
  },
  {
   "cell_type": "code",
   "execution_count": 118,
   "metadata": {},
   "outputs": [
    {
     "name": "stdout",
     "output_type": "stream",
     "text": [
      "3\n"
     ]
    }
   ],
   "source": [
    "def longest_substring_with_k_distinct(s, k):\n",
    "    left = 0\n",
    "    max_len = 0\n",
    "    mpp = {}  # Dictionary to store the frequency of characters\n",
    "\n",
    "    for right in range(len(s)):\n",
    "        # Add the current character to the map and increase its frequency\n",
    "        mpp[s[right]] = mpp.get(s[right], 0) + 1\n",
    "\n",
    "        # Shrink the window if there are more than k distinct characters\n",
    "        while len(mpp) > k:\n",
    "            mpp[s[left]] -= 1\n",
    "            if mpp[s[left]] == 0:\n",
    "                del mpp[s[left]]  # Remove character from the dictionary\n",
    "            left += 1\n",
    "\n",
    "        # Update the maximum length\n",
    "        if len(mpp) <= k:\n",
    "            max_len = max(max_len, right - left + 1)\n",
    "\n",
    "    return max_len\n",
    "\n",
    "# Example usage\n",
    "s = \"eceba\"\n",
    "k = 2\n",
    "print(longest_substring_with_k_distinct(s, k))  # Output: 3 (substring \"ece\")\n"
   ]
  },
  {
   "cell_type": "code",
   "execution_count": 119,
   "metadata": {},
   "outputs": [
    {
     "name": "stdout",
     "output_type": "stream",
     "text": [
      "3\n"
     ]
    }
   ],
   "source": [
    "def longest_substring_with_k_distinct(s, k):\n",
    "    left = 0\n",
    "    max_len = 0\n",
    "    mpp = {}  # Dictionary to store the frequency of characters\n",
    "\n",
    "    for right in range(len(s)):\n",
    "        # Add the current character to the map and increase its frequency\n",
    "        mpp[s[right]] = mpp.get(s[right], 0) + 1\n",
    "\n",
    "        # Shrink the window if there are more than k distinct characters\n",
    "        if len(mpp) > k:\n",
    "            mpp[s[left]] -= 1\n",
    "            if mpp[s[left]] == 0:\n",
    "                del mpp[s[left]]  # Remove character from the dictionary\n",
    "            left += 1\n",
    "\n",
    "        # Update the maximum length\n",
    "        if len(mpp) <= k:\n",
    "            max_len = max(max_len, right - left + 1)\n",
    "\n",
    "    return max_len\n",
    "\n",
    "# Example usage\n",
    "s = \"eceba\"\n",
    "k = 2\n",
    "print(longest_substring_with_k_distinct(s, k))  # Output: 3 (substring \"ece\")"
   ]
  },
  {
   "cell_type": "code",
   "execution_count": 117,
   "metadata": {},
   "outputs": [
    {
     "name": "stdout",
     "output_type": "stream",
     "text": [
      "5\n"
     ]
    }
   ],
   "source": [
    "s=\"aaabbccd\"\n",
    "val=sub_string(s,2)\n",
    "print(val)\n"
   ]
  },
  {
   "cell_type": "markdown",
   "metadata": {},
   "source": [
    "# Number of substring containing all the character"
   ]
  },
  {
   "cell_type": "markdown",
   "metadata": {},
   "source": [
    "brute"
   ]
  },
  {
   "cell_type": "code",
   "execution_count": 123,
   "metadata": {},
   "outputs": [
    {
     "name": "stdout",
     "output_type": "stream",
     "text": [
      "9\n"
     ]
    }
   ],
   "source": [
    "s = \"bbacba\"  # Example input string\n",
    "n = len(s)\n",
    "count = 0\n",
    "\n",
    "for i in range(n):\n",
    "    hash_map = [0, 0, 0]  # Reset hash map for every starting index\n",
    "    for j in range(i, n):\n",
    "        hash_map[ord(s[j]) - ord('a')] = 1  # Mark the character as seen\n",
    "        if sum(hash_map) == 3:  # Check if all three characters are present\n",
    "            count =count+(n-j)\n",
    "            break\n",
    "        \n",
    "\n",
    "print(count)\n"
   ]
  },
  {
   "cell_type": "markdown",
   "metadata": {},
   "source": [
    "better"
   ]
  },
  {
   "cell_type": "code",
   "execution_count": 128,
   "metadata": {},
   "outputs": [],
   "source": [
    "def sub_string_containing_char(s):\n",
    "    lastseen = [-1, -1, -1]\n",
    "    count = 0\n",
    "    n = len(s)\n",
    "    \n",
    "    for i in range(n):\n",
    "        if s[i] in 'abc':\n",
    "            lastseen[ord(s[i]) - ord('a')] = i\n",
    "        if all(x != -1 for x in lastseen):\n",
    "            count += 1 + min(lastseen)\n",
    "    \n",
    "    return count\n",
    "\n",
    "        "
   ]
  },
  {
   "cell_type": "code",
   "execution_count": 129,
   "metadata": {},
   "outputs": [
    {
     "name": "stdout",
     "output_type": "stream",
     "text": [
      "9\n"
     ]
    },
    {
     "ename": "",
     "evalue": "",
     "output_type": "error",
     "traceback": [
      "\u001b[1;31mThe Kernel crashed while executing code in the current cell or a previous cell. \n",
      "\u001b[1;31mPlease review the code in the cell(s) to identify a possible cause of the failure. \n",
      "\u001b[1;31mClick <a href='https://aka.ms/vscodeJupyterKernelCrash'>here</a> for more info. \n",
      "\u001b[1;31mView Jupyter <a href='command:jupyter.viewOutput'>log</a> for further details."
     ]
    }
   ],
   "source": [
    "s = \"bbacba\"  # Example input string\n",
    "val=sub_string_containing_char(s)\n",
    "print(val)"
   ]
  },
  {
   "cell_type": "markdown",
   "metadata": {},
   "source": [
    "optimal"
   ]
  },
  {
   "cell_type": "code",
   "execution_count": null,
   "metadata": {},
   "outputs": [],
   "source": [
    "def sub_string_cointaing_char(s):\n",
    "    pass"
   ]
  },
  {
   "cell_type": "code",
   "execution_count": null,
   "metadata": {},
   "outputs": [],
   "source": [
    "s = \"bbacba\"  # Example input string\n",
    "val=sub_string_cointaing_char(s)\n",
    "print(val)"
   ]
  },
  {
   "cell_type": "markdown",
   "metadata": {},
   "source": [
    "# longest repeating charac6ter replacement"
   ]
  },
  {
   "cell_type": "markdown",
   "metadata": {},
   "source": [
    "brute"
   ]
  },
  {
   "cell_type": "code",
   "execution_count": 3,
   "metadata": {},
   "outputs": [],
   "source": [
    "def process_string(s, k):\n",
    "    n = len(s)\n",
    "    maxlen = 0\n",
    "    \n",
    "    for i in range(n):\n",
    "        hash_map = {}\n",
    "        maxf = 0\n",
    "        \n",
    "        for j in range(i, n):\n",
    "            char = s[j]\n",
    "            hash_map[char] = hash_map.get(char, 0) + 1\n",
    "            maxf = max(maxf, hash_map[char])\n",
    "            \n",
    "            changes = (j - i + 1) - maxf\n",
    "            if changes <= k:\n",
    "                maxlen = max(maxlen, j - i + 1)\n",
    "            else:\n",
    "                break\n",
    "    \n",
    "    return maxlen\n",
    "\n",
    "# Example usage\n",
    "\n"
   ]
  },
  {
   "cell_type": "code",
   "execution_count": 7,
   "metadata": {},
   "outputs": [],
   "source": [
    "def process_string(s, k):\n",
    "    n = len(s)\n",
    "    maxlen = 0\n",
    "    \n",
    "    for i in range(n):\n",
    "        hash_map = [0]*26  # 26 for each letter a-z\n",
    "        maxf = 0\n",
    "        \n",
    "        for j in range(i, n):\n",
    "            char_index = ord(s[j]) - ord('a')\n",
    "            hash_map[char_index] += 1\n",
    "            maxf = max(maxf, hash_map[char_index])\n",
    "            \n",
    "            changes = (j - i + 1) - maxf\n",
    "            if changes <= k:\n",
    "                maxlen = max(maxlen, j - i + 1)\n",
    "            else:\n",
    "                break\n",
    "    \n",
    "    return maxlen"
   ]
  },
  {
   "cell_type": "code",
   "execution_count": 8,
   "metadata": {},
   "outputs": [
    {
     "name": "stdout",
     "output_type": "stream",
     "text": [
      "Max length: 5\n"
     ]
    }
   ],
   "source": [
    "s = \"aababba\"\n",
    "k = 2\n",
    "result = process_string(s, k)\n",
    "print(\"Max length:\", result)"
   ]
  },
  {
   "cell_type": "markdown",
   "metadata": {},
   "source": [
    "better"
   ]
  },
  {
   "cell_type": "code",
   "execution_count": null,
   "metadata": {},
   "outputs": [
    {
     "ename": "KeyboardInterrupt",
     "evalue": "",
     "output_type": "error",
     "traceback": [
      "\u001b[1;31m---------------------------------------------------------------------------\u001b[0m",
      "\u001b[1;31mKeyboardInterrupt\u001b[0m                         Traceback (most recent call last)",
      "Cell \u001b[1;32mIn[27], line 27\u001b[0m\n\u001b[0;32m     25\u001b[0m s \u001b[38;5;241m=\u001b[39m \u001b[38;5;124m\"\u001b[39m\u001b[38;5;124maababba\u001b[39m\u001b[38;5;124m\"\u001b[39m\n\u001b[0;32m     26\u001b[0m k \u001b[38;5;241m=\u001b[39m \u001b[38;5;241m2\u001b[39m\n\u001b[1;32m---> 27\u001b[0m result \u001b[38;5;241m=\u001b[39m \u001b[43mprocess_string\u001b[49m\u001b[43m(\u001b[49m\u001b[43ms\u001b[49m\u001b[43m,\u001b[49m\u001b[43m \u001b[49m\u001b[43mk\u001b[49m\u001b[43m)\u001b[49m\n\u001b[0;32m     28\u001b[0m \u001b[38;5;28mprint\u001b[39m(\u001b[38;5;124m\"\u001b[39m\u001b[38;5;124mMax length:\u001b[39m\u001b[38;5;124m\"\u001b[39m, result)\n",
      "Cell \u001b[1;32mIn[27], line 10\u001b[0m, in \u001b[0;36mprocess_string\u001b[1;34m(s, k)\u001b[0m\n\u001b[0;32m      8\u001b[0m \u001b[38;5;28;01mwhile\u001b[39;00m r\u001b[38;5;241m<\u001b[39mn:\n\u001b[0;32m      9\u001b[0m     maxf \u001b[38;5;241m=\u001b[39m \u001b[38;5;241m0\u001b[39m\n\u001b[1;32m---> 10\u001b[0m     char_index \u001b[38;5;241m=\u001b[39m \u001b[38;5;28;43mord\u001b[39;49m\u001b[43m(\u001b[49m\u001b[43ms\u001b[49m\u001b[43m[\u001b[49m\u001b[43mr\u001b[49m\u001b[43m]\u001b[49m\u001b[43m)\u001b[49m \u001b[38;5;241m-\u001b[39m \u001b[38;5;28mord\u001b[39m(\u001b[38;5;124m'\u001b[39m\u001b[38;5;124ma\u001b[39m\u001b[38;5;124m'\u001b[39m)\n\u001b[0;32m     11\u001b[0m     hash_map[char_index] \u001b[38;5;241m+\u001b[39m\u001b[38;5;241m=\u001b[39m \u001b[38;5;241m1\u001b[39m\n\u001b[0;32m     12\u001b[0m     maxf \u001b[38;5;241m=\u001b[39m \u001b[38;5;28mmax\u001b[39m(maxf, hash_map[char_index])\n",
      "\u001b[1;31mKeyboardInterrupt\u001b[0m: "
     ]
    },
    {
     "ename": "",
     "evalue": "",
     "output_type": "error",
     "traceback": [
      "\u001b[1;31mThe Kernel crashed while executing code in the current cell or a previous cell. \n",
      "\u001b[1;31mPlease review the code in the cell(s) to identify a possible cause of the failure. \n",
      "\u001b[1;31mClick <a href='https://aka.ms/vscodeJupyterKernelCrash'>here</a> for more info. \n",
      "\u001b[1;31mView Jupyter <a href='command:jupyter.viewOutput'>log</a> for further details."
     ]
    }
   ],
   "source": [
    "def process_string(s, k):\n",
    "    n = len(s)\n",
    "    maxlen = 0\n",
    "    l=0\n",
    "    r=0\n",
    "    maxf=0\n",
    "    hash_map = [0]*26  # 26 for each letter a-z\n",
    "    while r<n:\n",
    "        maxf = 0\n",
    "        char_index = ord(s[r]) - ord('a')\n",
    "        hash_map[char_index] += 1\n",
    "        maxf = max(maxf, hash_map[char_index])\n",
    "        while (r-l+1)-maxf>k:\n",
    "            char_index = ord(s[l]) - ord('a')\n",
    "            hash_map[char_index] -= 1\n",
    "            maxf = 0\n",
    "            for i in range(0,25,1):\n",
    "                maxlen = max(maxlen, hash[i])\n",
    "                l=l+1\n",
    "            if (r-l+1)-maxf <= k:\n",
    "                    maxlen = max(maxlen, r-l+1)\n",
    "                    r=r+1\n",
    "    \n",
    "    return maxlen\n",
    "s = \"aababba\"\n",
    "k = 2\n",
    "result = process_string(s, k)\n",
    "print(\"Max length:\", result)"
   ]
  },
  {
   "cell_type": "code",
   "execution_count": 25,
   "metadata": {},
   "outputs": [
    {
     "name": "stdout",
     "output_type": "stream",
     "text": [
      "Max length: 5\n"
     ]
    }
   ],
   "source": [
    "def process_string(s, k):\n",
    "    n = len(s)\n",
    "    maxlen = 0\n",
    "    l = 0\n",
    "    hash_map = [0] * 26  # To count the frequency of each character a-z\n",
    "\n",
    "    for r in range(n):\n",
    "        # Update the frequency of the character at position r\n",
    "        hash_map[ord(s[r]) - ord('a')] += 1\n",
    "\n",
    "        # Find the most frequent character in the current window\n",
    "        maxf = max(hash_map)\n",
    "\n",
    "        # If the number of characters to replace exceeds k, move the left pointer\n",
    "        while (r - l + 1) - maxf > k:\n",
    "            hash_map[ord(s[l]) - ord('a')] -= 1\n",
    "            l += 1\n",
    "\n",
    "        # Calculate the maximum length of the valid window\n",
    "        maxlen = max(maxlen, r - l + 1)\n",
    "\n",
    "    return maxlen\n",
    "\n",
    "# Example usage\n",
    "s = \"aababba\"\n",
    "k = 2\n",
    "result = process_string(s, k)\n",
    "print(\"Max length:\", result)\n",
    "\n"
   ]
  },
  {
   "cell_type": "code",
   "execution_count": 26,
   "metadata": {},
   "outputs": [
    {
     "name": "stdout",
     "output_type": "stream",
     "text": [
      "Max length: 5\n"
     ]
    }
   ],
   "source": [
    "s = \"aababba\"\n",
    "k = 2\n",
    "result = process_string(s, k)\n",
    "print(\"Max length:\", result)"
   ]
  },
  {
   "cell_type": "markdown",
   "metadata": {},
   "source": [
    "# Count subarray with sum equal to k"
   ]
  },
  {
   "cell_type": "code",
   "execution_count": null,
   "metadata": {},
   "outputs": [],
   "source": []
  },
  {
   "cell_type": "code",
   "execution_count": null,
   "metadata": {},
   "outputs": [],
   "source": []
  },
  {
   "cell_type": "markdown",
   "metadata": {},
   "source": [
    "# binary subarray with sum"
   ]
  },
  {
   "cell_type": "code",
   "execution_count": null,
   "metadata": {},
   "outputs": [],
   "source": []
  },
  {
   "cell_type": "code",
   "execution_count": null,
   "metadata": {},
   "outputs": [],
   "source": []
  },
  {
   "cell_type": "markdown",
   "metadata": {},
   "source": [
    "# count the number of nice subarray"
   ]
  },
  {
   "cell_type": "code",
   "execution_count": null,
   "metadata": {},
   "outputs": [],
   "source": []
  },
  {
   "cell_type": "code",
   "execution_count": null,
   "metadata": {},
   "outputs": [],
   "source": []
  }
 ],
 "metadata": {
  "kernelspec": {
   "display_name": "Python 3",
   "language": "python",
   "name": "python3"
  },
  "language_info": {
   "codemirror_mode": {
    "name": "ipython",
    "version": 3
   },
   "file_extension": ".py",
   "mimetype": "text/x-python",
   "name": "python",
   "nbconvert_exporter": "python",
   "pygments_lexer": "ipython3",
   "version": "3.13.1"
  }
 },
 "nbformat": 4,
 "nbformat_minor": 2
}
