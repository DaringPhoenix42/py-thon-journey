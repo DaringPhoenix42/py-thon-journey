{
 "cells": [
  {
   "cell_type": "markdown",
   "metadata": {},
   "source": [
    "# Second largest element in array:-"
   ]
  },
  {
   "cell_type": "markdown",
   "metadata": {},
   "source": [
    "# Better approach"
   ]
  },
  {
   "cell_type": "code",
   "execution_count": 31,
   "metadata": {},
   "outputs": [],
   "source": [
    "def second_largest_ekement(arr):\n",
    "    second_largest=float('-inf')\n",
    "    largest_number=arr[0]\n",
    "    \n",
    "    ## largest number\n",
    "    for index in range(0,len(arr),1):\n",
    "        if arr[index]>largest_number:\n",
    "            largest_number=arr[index]\n",
    "            \n",
    "    #Second largest number\n",
    "    for index in range(0,len(arr),1):\n",
    "        if arr[index]>second_largest and arr[index]!=largest_number:\n",
    "            second_largest=arr[index]\n",
    "    if second_largest==float('-inf'):\n",
    "            return -1,largest_number\n",
    "            \n",
    "    return second_largest,largest_number\n",
    "            \n",
    "        \n",
    "    \n",
    "\n"
   ]
  },
  {
   "cell_type": "code",
   "execution_count": 32,
   "metadata": {},
   "outputs": [
    {
     "name": "stdout",
     "output_type": "stream",
     "text": [
      "[12, 35, 1, 10, 34, 1]\n",
      "Second largeest 34\n",
      "Largest  number 35\n"
     ]
    }
   ],
   "source": [
    "arr1=[12,35,1,10,34,1]\n",
    "val1,val2=second_largest_ekement(arr1)\n",
    "print(arr1)\n",
    "print(\"Second largeest\",val1)\n",
    "print(\"Largest  number\",val2)"
   ]
  },
  {
   "cell_type": "code",
   "execution_count": 33,
   "metadata": {},
   "outputs": [
    {
     "name": "stdout",
     "output_type": "stream",
     "text": [
      "[12, 35, 1, 10, 34, -1]\n",
      "(34, 35)\n"
     ]
    }
   ],
   "source": [
    "arr2=[12,35,1,10,34,-1]\n",
    "val2=second_largest_ekement(arr2)\n",
    "print(arr2)\n",
    "print(val2)"
   ]
  },
  {
   "cell_type": "code",
   "execution_count": 34,
   "metadata": {},
   "outputs": [
    {
     "name": "stdout",
     "output_type": "stream",
     "text": [
      "[-12, -35, -1, -10, 34, -1]\n",
      "(-1, 34)\n"
     ]
    }
   ],
   "source": [
    "arr2=[-12,-35,-1,-10,34,-1]\n",
    "val2=second_largest_ekement(arr2)\n",
    "print(arr2)\n",
    "print(val2)"
   ]
  },
  {
   "cell_type": "code",
   "execution_count": 35,
   "metadata": {},
   "outputs": [
    {
     "name": "stdout",
     "output_type": "stream",
     "text": [
      "[-1, -1, -1, -1]\n",
      "(-1, -1)\n"
     ]
    }
   ],
   "source": [
    "arr2=[-1,-1,-1,-1]\n",
    "val2=second_largest_ekement(arr2)\n",
    "print(arr2)\n",
    "print(val2)"
   ]
  },
  {
   "cell_type": "markdown",
   "metadata": {},
   "source": [
    "# optimal approach"
   ]
  },
  {
   "cell_type": "code",
   "execution_count": 36,
   "metadata": {},
   "outputs": [],
   "source": [
    "def second_largest_ekement(arr):\n",
    "    second_largest=float('-inf')\n",
    "    largest_number=arr[0]\n",
    "    \n",
    "            \n",
    "    #Second largest number #largest number\n",
    "    for index in range(0,len(arr),1):\n",
    "        if arr[index]>largest_number:\n",
    "            second_largest=largest_number\n",
    "            largest_number=arr[index]\n",
    "        elif arr[index]>second_largest and arr[index]!=largest_number:\n",
    "            second_largest=arr[index]\n",
    "    if second_largest==float('-inf'):\n",
    "            return -1,largest_number\n",
    "        \n",
    "            \n",
    "    return second_largest,largest_number"
   ]
  },
  {
   "cell_type": "code",
   "execution_count": 37,
   "metadata": {},
   "outputs": [
    {
     "name": "stdout",
     "output_type": "stream",
     "text": [
      "[-1, -1, -1, -1]\n",
      "(-1, -1)\n"
     ]
    }
   ],
   "source": [
    "arr2=[-1,-1,-1,-1]\n",
    "val2=second_largest_ekement(arr2)\n",
    "print(arr2)\n",
    "print(val2)"
   ]
  },
  {
   "cell_type": "code",
   "execution_count": 38,
   "metadata": {},
   "outputs": [
    {
     "name": "stdout",
     "output_type": "stream",
     "text": [
      "[-12, -35, -1, -10, 34, -1]\n",
      "(-1, 34)\n"
     ]
    }
   ],
   "source": [
    "arr2=[-12,-35,-1,-10,34,-1]\n",
    "val2=second_largest_ekement(arr2)\n",
    "print(arr2)\n",
    "print(val2)"
   ]
  },
  {
   "cell_type": "code",
   "execution_count": 39,
   "metadata": {},
   "outputs": [
    {
     "name": "stdout",
     "output_type": "stream",
     "text": [
      "[12, 35, 1, 10, 34, -1]\n",
      "(34, 35)\n"
     ]
    }
   ],
   "source": [
    "arr2=[12,35,1,10,34,-1]\n",
    "val2=second_largest_ekement(arr2)\n",
    "print(arr2)\n",
    "print(val2)"
   ]
  },
  {
   "cell_type": "code",
   "execution_count": 30,
   "metadata": {},
   "outputs": [
    {
     "name": "stdout",
     "output_type": "stream",
     "text": [
      "[12, 35, 1, 10, 34, 1]\n",
      "Second largeest 34\n",
      "Largest  number 35\n"
     ]
    }
   ],
   "source": [
    "arr1=[12,35,1,10,34,1]\n",
    "val1,val2=second_largest_ekement(arr1)\n",
    "print(arr1)\n",
    "print(\"Second largeest\",val1)\n",
    "print(\"Largest  number\",val2)"
   ]
  },
  {
   "cell_type": "markdown",
   "metadata": {},
   "source": [
    "# Check if the array is sorted in non desending order"
   ]
  },
  {
   "cell_type": "code",
   "execution_count": 40,
   "metadata": {},
   "outputs": [],
   "source": [
    "def sorted_or_not(arr):\n",
    "    \n",
    "    for index in range(1,len(arr),1):\n",
    "        if arr[index]>arr[index-1]:\n",
    "            pass\n",
    "        else :\n",
    "            return False\n",
    "    return True"
   ]
  },
  {
   "cell_type": "code",
   "execution_count": 41,
   "metadata": {},
   "outputs": [
    {
     "name": "stdout",
     "output_type": "stream",
     "text": [
      "[12, 35, 1, 10, 34, 1]\n",
      "False\n"
     ]
    }
   ],
   "source": [
    "arr1=[12,35,1,10,34,1]\n",
    "val1=sorted_or_not(arr1)\n",
    "print(arr1)\n",
    "print(val1)\n"
   ]
  },
  {
   "cell_type": "markdown",
   "metadata": {},
   "source": [
    "# To remove duplicate in the array"
   ]
  },
  {
   "cell_type": "markdown",
   "metadata": {},
   "source": [
    "brute force approach"
   ]
  },
  {
   "cell_type": "code",
   "execution_count": 42,
   "metadata": {},
   "outputs": [],
   "source": [
    "def remove_dublicate_element(arr):\n",
    "    set_arr=set(arr)\n",
    "    li=[]\n",
    "    for index in range(0,len(arr),1):\n",
    "        for val in set_arr:\n",
    "            if arr[index]==val and arr[index] not in li:\n",
    "                li.append(arr[index])\n",
    "    return li"
   ]
  },
  {
   "cell_type": "code",
   "execution_count": 43,
   "metadata": {},
   "outputs": [
    {
     "name": "stdout",
     "output_type": "stream",
     "text": [
      "[1, 1, 2, 2, 2, 3, 3]\n",
      "[1, 2, 3]\n"
     ]
    }
   ],
   "source": [
    "arr=[1,1,2,2,2,3,3]\n",
    "val=remove_dublicate_element(arr)\n",
    "print(arr)\n",
    "print(val)"
   ]
  },
  {
   "cell_type": "markdown",
   "metadata": {},
   "source": [
    "optimal approach using 2 pointer approach"
   ]
  },
  {
   "cell_type": "code",
   "execution_count": null,
   "metadata": {},
   "outputs": [],
   "source": [
    "def remove_dublicate_element2(arr):\n",
    "    i=0\n",
    "    for j in range(1,len(arr),1):\n",
    "        if arr[i]!=arr[j]:\n",
    "            arr[i+1]=arr[j]\n",
    "            i=i+1\n",
    "    \n",
    "    while i<len(arr):\n",
    "        arr[i]=0\n",
    "        \n",
    "    return arr\n",
    "        "
   ]
  },
  {
   "cell_type": "markdown",
   "metadata": {},
   "source": [
    "# missing number"
   ]
  },
  {
   "cell_type": "code",
   "execution_count": 53,
   "metadata": {},
   "outputs": [],
   "source": [
    "def missing_number(arr,N):\n",
    "    \n",
    "    for i in range(1,N+1,1):\n",
    "        flag=0\n",
    "        for j in range(0,N-1,1):\n",
    "            if arr[j]==i:\n",
    "                flag=1\n",
    "                break\n",
    "        if(flag==0):\n",
    "            return i"
   ]
  },
  {
   "cell_type": "code",
   "execution_count": 54,
   "metadata": {},
   "outputs": [
    {
     "name": "stdout",
     "output_type": "stream",
     "text": [
      "4\n"
     ]
    }
   ],
   "source": [
    "arr=[1,2,3,5]\n",
    "num=missing_number(arr,5)\n",
    "print(num)"
   ]
  },
  {
   "cell_type": "markdown",
   "metadata": {},
   "source": [
    "better"
   ]
  },
  {
   "cell_type": "code",
   "execution_count": 75,
   "metadata": {},
   "outputs": [],
   "source": [
    "def missing_number(arr,b):\n",
    "    n = len(arr)\n",
    "    hash_table = [0] * (n + 1)\n",
    "    for i in range(0,n-1,1):\n",
    "\n",
    "        hash_table[i]=1\n",
    "\n",
    "    for i in range(1, n + 1):\n",
    "        if hash_table[i] == 0:\n",
    "            return i\n",
    "\n",
    "    return n \n"
   ]
  },
  {
   "cell_type": "code",
   "execution_count": 77,
   "metadata": {},
   "outputs": [
    {
     "name": "stdout",
     "output_type": "stream",
     "text": [
      "3\n"
     ]
    }
   ],
   "source": [
    "arr=[1,3,4,5]\n",
    "num=missing_number(arr,5)\n",
    "print(num)"
   ]
  },
  {
   "cell_type": "markdown",
   "metadata": {},
   "source": [
    "optimal solution"
   ]
  },
  {
   "cell_type": "code",
   "execution_count": 78,
   "metadata": {},
   "outputs": [],
   "source": [
    "def missing_number1(arr,n):\n",
    "    xor1=0\n",
    "    xor2=0\n",
    "    length=n\n",
    "    for i in range(0,n-1,1):\n",
    "        xor2=xor2 ^ arr[i]\n",
    "        xor1=xor1 ^ (i+1)\n",
    "    xor1=xor1^n\n",
    "    \n",
    "        \n",
    "\n",
    "    return xor1 ^ xor2"
   ]
  },
  {
   "cell_type": "code",
   "execution_count": 79,
   "metadata": {},
   "outputs": [
    {
     "name": "stdout",
     "output_type": "stream",
     "text": [
      "2\n"
     ]
    }
   ],
   "source": [
    "arr=[1,3,4,5]\n",
    "num=missing_number1(arr,5)\n",
    "print(num)"
   ]
  },
  {
   "cell_type": "markdown",
   "metadata": {},
   "source": [
    "# maxium consicutive ones"
   ]
  },
  {
   "cell_type": "code",
   "execution_count": 85,
   "metadata": {},
   "outputs": [],
   "source": [
    "def consecutive_ones(arr):\n",
    "    max=0\n",
    "    li=[]\n",
    "    count=0\n",
    "    for index in range(0,len(arr),1):\n",
    "            \n",
    "            if arr[index]==1:\n",
    "                count=count+1\n",
    "            else:\n",
    "                count=0\n",
    "            if(max<count):\n",
    "                max=count\n",
    "            \n",
    "            \n",
    "           \n",
    "            \n",
    "    return max"
   ]
  },
  {
   "cell_type": "code",
   "execution_count": 86,
   "metadata": {},
   "outputs": [
    {
     "name": "stdout",
     "output_type": "stream",
     "text": [
      "3\n"
     ]
    }
   ],
   "source": [
    "arr=[1,1,0,1,1,1]\n",
    "num=consecutive_ones(arr)\n",
    "print(num)"
   ]
  },
  {
   "cell_type": "markdown",
   "metadata": {},
   "source": [
    "# Find the number of one s"
   ]
  },
  {
   "cell_type": "code",
   "execution_count": 89,
   "metadata": {},
   "outputs": [],
   "source": [
    "def no_of_ones(arr):\n",
    "    for i in range(0,len(arr),1):\n",
    "        num=arr[i]\n",
    "        count=0\n",
    "        for j in range(0,len(arr),1):\n",
    "            if arr[j]==num:\n",
    "                count=count+1\n",
    "        if count==1:\n",
    "            return num\n",
    "    "
   ]
  },
  {
   "cell_type": "code",
   "execution_count": 90,
   "metadata": {},
   "outputs": [
    {
     "name": "stdout",
     "output_type": "stream",
     "text": [
      "2\n"
     ]
    }
   ],
   "source": [
    "arr=[1,1,2,3,3,4,4]\n",
    "val=no_of_ones(arr)\n",
    "print(val)\n"
   ]
  }
 ],
 "metadata": {
  "kernelspec": {
   "display_name": "Python 3",
   "language": "python",
   "name": "python3"
  },
  "language_info": {
   "codemirror_mode": {
    "name": "ipython",
    "version": 3
   },
   "file_extension": ".py",
   "mimetype": "text/x-python",
   "name": "python",
   "nbconvert_exporter": "python",
   "pygments_lexer": "ipython3",
   "version": "3.13.1"
  }
 },
 "nbformat": 4,
 "nbformat_minor": 2
}
