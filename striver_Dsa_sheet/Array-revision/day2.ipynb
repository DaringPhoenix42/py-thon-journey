{
 "cells": [
  {
   "cell_type": "markdown",
   "metadata": {},
   "source": [
    "121. Best Time to Buy and Sell Stock\n"
   ]
  },
  {
   "cell_type": "code",
   "execution_count": 2,
   "metadata": {},
   "outputs": [
    {
     "name": "stdout",
     "output_type": "stream",
     "text": [
      "#################\n",
      "[7, 1, 5, 3, 6, 4]\n",
      "5\n",
      "#################\n",
      "[7, 6, 4, 3, 1]\n",
      "0\n"
     ]
    }
   ],
   "source": [
    "def maxProfit( prices):\n",
    "    buying_day=0\n",
    "    selling_day=0\n",
    "    max_profit=0\n",
    "    for i in range(0,len(prices),1):\n",
    "        buying_day=prices[i]\n",
    "        for j in range(i+1,len(prices),1):\n",
    "            selling_day=prices[j]\n",
    "            max_profit=max(max_profit,selling_day-buying_day)\n",
    "            \n",
    "    return max_profit\n",
    "print(\"#################\")\n",
    "prices = [7,1,5,3,6,4]\n",
    "print(prices)\n",
    "val=maxProfit(prices)\n",
    "print(val)\n",
    "print(\"#################\")\n",
    "prices=[7,6,4,3,1]\n",
    "print(prices)\n",
    "val=maxProfit(prices)\n",
    "print(val)"
   ]
  },
  {
   "cell_type": "code",
   "execution_count": null,
   "metadata": {},
   "outputs": [
    {
     "name": "stdout",
     "output_type": "stream",
     "text": [
      "#################\n",
      "[7, 1, 5, 3, 6, 4]\n",
      "5\n",
      "#################\n",
      "[7, 6, 4, 3, 1]\n",
      "0\n"
     ]
    }
   ],
   "source": [
    "def maxProfit( prices):\n",
    "    buying_day=0\n",
    "    selling_day=0\n",
    "    max_profit=0\n",
    "    l=0\n",
    "    r=1\n",
    "    while l<len(prices):\n",
    "        if len(prices) < 2:\n",
    "            return 0\n",
    "\n",
    "        if len(prices)==r:\n",
    "            l=l+1\n",
    "            r=l+1\n",
    "            if r >= len(prices):\n",
    "                break\n",
    "        else:\n",
    "            buying_day=prices[l]\n",
    "            selling_day=prices[r]\n",
    "            if selling_day-buying_day>max_profit:\n",
    "                max_profit=selling_day-buying_day\n",
    "            r=r+1\n",
    "    \n",
    "            \n",
    "    return max_profit\n",
    "print(\"#################\")\n",
    "prices = [7,1,5,3,6,4]\n",
    "print(prices)\n",
    "val=maxProfit(prices)\n",
    "print(val)\n",
    "print(\"#################\")\n",
    "prices=[7,6,4,3,1]\n",
    "print(prices)\n",
    "val=maxProfit(prices)\n",
    "print(val)"
   ]
  },
  {
   "cell_type": "markdown",
   "metadata": {},
   "source": [
    "31. Next Permutation\n"
   ]
  },
  {
   "cell_type": "code",
   "execution_count": 33,
   "metadata": {},
   "outputs": [
    {
     "name": "stdout",
     "output_type": "stream",
     "text": [
      "All permutations: [[1, 2, 3], [1, 3, 2], [2, 1, 3], [2, 3, 1], [3, 2, 1], [3, 1, 2]]\n",
      "Next permutation for [1,2,3]: [1, 3, 2]\n",
      "Next permutation for [3,2,1]: [1, 2, 3]\n"
     ]
    }
   ],
   "source": [
    "class Solution:\n",
    "    def recurPermute(self, index, nums, ans):\n",
    "        # Base case: If index reaches the end, add the current permutation to the result\n",
    "        if index == len(nums):\n",
    "            ans.append(nums[:])  # Append a copy of nums\n",
    "            return\n",
    "        \n",
    "        for i in range(index, len(nums)):\n",
    "            self.swap(nums, index, i)\n",
    "            self.recurPermute(index + 1, nums, ans)\n",
    "            self.swap(nums, index, i)  # Backtrack to restore original state\n",
    "\n",
    "    def swap(self, nums, i, j):\n",
    "        nums[i], nums[j] = nums[j], nums[i]\n",
    "\n",
    "    def permute(self, nums):\n",
    "        ans = []\n",
    "        self.recurPermute(0, nums, ans)\n",
    "        return ans\n",
    "    \n",
    "    def nextpermutate(self, ans, val):\n",
    "        # Sort the permutations list to be in lexicographical order\n",
    "        ans.sort()  \n",
    "        # Find the index of the current permutation\n",
    "        for i in range(len(ans)):\n",
    "            if ans[i] == val:\n",
    "                # If it's the last permutation, return the first\n",
    "                if i == len(ans) - 1:\n",
    "                    return list(ans[0])\n",
    "                else:\n",
    "                    return list(ans[i + 1])\n",
    "        return None  # if the permutation was not found\n",
    "\n",
    "# Example usage\n",
    "solution = Solution()\n",
    "ans = solution.permute([1, 2, 3])\n",
    "print(\"All permutations:\", ans)\n",
    "\n",
    "val = [1, 2, 3]\n",
    "print(\"Next permutation for [1,2,3]:\", solution.nextpermutate(ans, val))\n",
    "\n",
    "val = [3, 2, 1]\n",
    "print(\"Next permutation for [3,2,1]:\", solution.nextpermutate(ans, val))\n"
   ]
  },
  {
   "cell_type": "code",
   "execution_count": null,
   "metadata": {},
   "outputs": [],
   "source": [
    "class Solution(object):\n",
    "    def nextPermutation(self, nums):\n",
    "        \"\"\"\n",
    "        Do not return anything, modify nums in-place instead.\n",
    "        \"\"\"\n",
    "        n = len(nums)\n",
    "        \n",
    "        # Step 1: Find the first decreasing element from the right\n",
    "        i = n - 2\n",
    "        while i >= 0 and nums[i] >= nums[i + 1]:\n",
    "            i -= 1\n",
    "        \n",
    "        # Step 2: If such an element exists, find the next larger element to swap\n",
    "        if i >= 0:\n",
    "            j = n - 1\n",
    "            while nums[j] <= nums[i]:\n",
    "                j -= 1\n",
    "            # Swap elements at i and j\n",
    "            nums[i], nums[j] = nums[j], nums[i]\n",
    "        \n",
    "        # Step 3: Reverse the elements after index i to get the next permutation\n",
    "        nums[i + 1:] = reversed(nums[i + 1:])\n",
    "\n"
   ]
  },
  {
   "cell_type": "code",
   "execution_count": 34,
   "metadata": {},
   "outputs": [
    {
     "name": "stdout",
     "output_type": "stream",
     "text": [
      "[(1, 2, 3), (1, 3, 2), (2, 1, 3), (2, 3, 1), (3, 1, 2), (3, 2, 1)]\n",
      "Next permutation for [1,2,3]: [1, 3, 2]\n",
      "[(1, 2, 3), (1, 3, 2), (2, 1, 3), (2, 3, 1), (3, 1, 2), (3, 2, 1)]\n",
      "Next permutation for [3,2,1]: [1, 2, 3]\n"
     ]
    }
   ],
   "source": [
    "import itertools\n",
    "class Solution:\n",
    "    def nextpermutate(self, ans, val):\n",
    "        # Sort the permutations list to be in lexicographical order\n",
    "        ans.sort()  \n",
    "        # Find the index of the current permutation\n",
    "        for i in range(len(ans)):\n",
    "            if ans[i] == val:\n",
    "                # If it's the last permutation, return the first\n",
    "                if i == len(ans) - 1:\n",
    "                    return list(ans[0])\n",
    "                else:\n",
    "                    return list(ans[i + 1])\n",
    "        return None  # if the permutation was not found\n",
    "\n",
    "# Example usage\n",
    "# Example usage\n",
    "solution = Solution()\n",
    "val = [1, 2, 3]\n",
    "ans =  sorted(list(itertools.permutations(val)))\n",
    "print(ans)\n",
    "print(\"Next permutation for [1,2,3]:\", solution.nextpermutate(ans, tuple(val)))\n",
    "\n",
    "val = [3, 2, 1]\n",
    "ans =  sorted(list(itertools.permutations(val)))\n",
    "print(ans)\n",
    "print(\"Next permutation for [3,2,1]:\", solution.nextpermutate(ans, tuple(val))) "
   ]
  },
  {
   "cell_type": "code",
   "execution_count": 27,
   "metadata": {},
   "outputs": [
    {
     "name": "stdout",
     "output_type": "stream",
     "text": [
      "All permutations for [1,2,3]: [(1, 2, 3), (1, 3, 2), (2, 1, 3), (2, 3, 1), (3, 1, 2), (3, 2, 1)]\n",
      "Next permutation for [1,2,3]: (1, 3, 2)\n",
      "All permutations for [3,2,1]: [(1, 2, 3), (1, 3, 2), (2, 1, 3), (2, 3, 1), (3, 1, 2), (3, 2, 1)]\n",
      "Next permutation for [3,2,1]: (1, 2, 3)\n"
     ]
    }
   ],
   "source": [
    "import itertools\n",
    "\n",
    "class Solution:\n",
    "    def nextpermutate(self, ans, val):\n",
    "        # Here, val should be a tuple for correct comparison\n",
    "        for i in range(len(ans)):\n",
    "            if ans[i] == val:\n",
    "                # If it's the last permutation, return the first\n",
    "                if i == len(ans) - 1:\n",
    "                    return ans[0]\n",
    "                else:\n",
    "                    return ans[i + 1]\n",
    "        return None  # if the permutation was not found\n",
    "\n",
    "# Example usage\n",
    "solution = Solution()\n",
    "\n",
    "# For val = [1,2,3]\n",
    "val = [1, 2, 3]\n",
    "# Generate and sort permutations (they are tuples)\n",
    "ans = sorted(list(itertools.permutations(val)))\n",
    "print(\"All permutations for [1,2,3]:\", ans)\n",
    "# Pass val as tuple for correct comparison\n",
    "print(\"Next permutation for [1,2,3]:\", solution.nextpermutate(ans, tuple(val)))\n",
    "\n",
    "# For val = [3,2,1]\n",
    "val = [3, 2, 1]\n",
    "ans = sorted(list(itertools.permutations(val)))\n",
    "print(\"All permutations for [3,2,1]:\", ans)\n",
    "print(\"Next permutation for [3,2,1]:\", solution.nextpermutate(ans, tuple(val)))\n"
   ]
  },
  {
   "cell_type": "markdown",
   "metadata": {},
   "source": [
    "# print all the permuation of string and array App-1"
   ]
  },
  {
   "cell_type": "code",
   "execution_count": 1,
   "metadata": {},
   "outputs": [
    {
     "name": "stdout",
     "output_type": "stream",
     "text": [
      "[[1, 2, 3], [1, 3, 2], [2, 1, 3], [2, 3, 1], [3, 1, 2], [3, 2, 1]]\n"
     ]
    }
   ],
   "source": [
    "class Solution:\n",
    "    def recurPermute(self, nums, ds, ans, freq):\n",
    "        # If current list ds has the same size as nums, add it to the answer\n",
    "        if len(ds) == len(nums):\n",
    "            ans.append(ds[:])  # Append a copy of ds\n",
    "            return\n",
    "        \n",
    "        # Loop through all elements\n",
    "        for i in range(len(nums)):\n",
    "            if not freq[i]:  # If the number is not used\n",
    "                freq[i] = True\n",
    "                ds.append(nums[i])\n",
    "                \n",
    "                # Recursive call\n",
    "                self.recurPermute(nums, ds, ans, freq)\n",
    "                \n",
    "                # Backtracking: Remove the last element and mark it unused\n",
    "                ds.pop()\n",
    "                freq[i] = False\n",
    "\n",
    "    def permute(self, nums):\n",
    "        ans = []\n",
    "        ds = []\n",
    "        freq = [False] * len(nums)  # Frequency array to track used numbers\n",
    "        self.recurPermute(nums, ds, ans, freq)\n",
    "        return ans\n",
    "\n",
    "# Example usage\n",
    "solution = Solution()\n",
    "print(solution.permute([1, 2, 3]))\n"
   ]
  },
  {
   "cell_type": "markdown",
   "metadata": {},
   "source": [
    "# print all the permuation of string and array app=-2"
   ]
  },
  {
   "cell_type": "code",
   "execution_count": null,
   "metadata": {},
   "outputs": [
    {
     "name": "stdout",
     "output_type": "stream",
     "text": [
      "[[1, 2, 3], [1, 3, 2], [2, 1, 3], [2, 3, 1], [3, 2, 1], [3, 1, 2]]\n"
     ]
    }
   ],
   "source": [
    "class Solution:\n",
    "    def recurPermute(self, index, nums, ans):\n",
    "        # Base case: If index reaches the end, add the current permutation to the result\n",
    "        if index == len(nums):\n",
    "            ans.append(nums[:])  # Append a copy of nums\n",
    "            return\n",
    "        \n",
    "        for i in range(index, len(nums)):\n",
    "            self.swap(nums, index, i)\n",
    "            self.recurPermute(index + 1, nums, ans)\n",
    "            self.swap(nums, index, i)  # Backtrack to restore original state\n",
    "\n",
    "    def swap(self, nums, i, j):\n",
    "        nums[i], nums[j] = nums[j], nums[i]\n",
    "\n",
    "    def permute(self, nums):\n",
    "        ans = []\n",
    "        self.recurPermute(0, nums, ans)\n",
    "        return ans\n",
    "    \n",
    "# Example usage\n",
    "solution = Solution()\n",
    "print(solution.permute([1, 2, 3]))\n"
   ]
  },
  {
   "cell_type": "code",
   "execution_count": null,
   "metadata": {},
   "outputs": [],
   "source": [
    "\n",
    "\n"
   ]
  }
 ],
 "metadata": {
  "kernelspec": {
   "display_name": "Python 3",
   "language": "python",
   "name": "python3"
  },
  "language_info": {
   "codemirror_mode": {
    "name": "ipython",
    "version": 3
   },
   "file_extension": ".py",
   "mimetype": "text/x-python",
   "name": "python",
   "nbconvert_exporter": "python",
   "pygments_lexer": "ipython3",
   "version": "3.13.1"
  }
 },
 "nbformat": 4,
 "nbformat_minor": 2
}
