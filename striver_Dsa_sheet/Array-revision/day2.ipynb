{
 "cells": [
  {
   "cell_type": "markdown",
   "metadata": {},
   "source": [
    "# 121. Best Time to Buy and Sell Stock\n"
   ]
  },
  {
   "cell_type": "code",
   "execution_count": 2,
   "metadata": {},
   "outputs": [
    {
     "name": "stdout",
     "output_type": "stream",
     "text": [
      "#################\n",
      "[7, 1, 5, 3, 6, 4]\n",
      "5\n",
      "#################\n",
      "[7, 6, 4, 3, 1]\n",
      "0\n"
     ]
    }
   ],
   "source": [
    "def maxProfit( prices):\n",
    "    buying_day=0\n",
    "    selling_day=0\n",
    "    max_profit=0\n",
    "    for i in range(0,len(prices),1):\n",
    "        buying_day=prices[i]\n",
    "        for j in range(i+1,len(prices),1):\n",
    "            selling_day=prices[j]\n",
    "            max_profit=max(max_profit,selling_day-buying_day)\n",
    "            \n",
    "    return max_profit\n",
    "print(\"#################\")\n",
    "prices = [7,1,5,3,6,4]\n",
    "print(prices)\n",
    "val=maxProfit(prices)\n",
    "print(val)\n",
    "print(\"#################\")\n",
    "prices=[7,6,4,3,1]\n",
    "print(prices)\n",
    "val=maxProfit(prices)\n",
    "print(val)"
   ]
  },
  {
   "cell_type": "code",
   "execution_count": null,
   "metadata": {},
   "outputs": [
    {
     "name": "stdout",
     "output_type": "stream",
     "text": [
      "#################\n",
      "[7, 1, 5, 3, 6, 4]\n",
      "5\n",
      "#################\n",
      "[7, 6, 4, 3, 1]\n",
      "0\n"
     ]
    }
   ],
   "source": [
    "def maxProfit( prices):\n",
    "    buying_day=0\n",
    "    selling_day=0\n",
    "    max_profit=0\n",
    "    l=0\n",
    "    r=1\n",
    "    while l<len(prices):\n",
    "        if len(prices) < 2:\n",
    "            return 0\n",
    "\n",
    "        if len(prices)==r:\n",
    "            l=l+1\n",
    "            r=l+1\n",
    "            if r >= len(prices):\n",
    "                break\n",
    "        else:\n",
    "            buying_day=prices[l]\n",
    "            selling_day=prices[r]\n",
    "            if selling_day-buying_day>max_profit:\n",
    "                max_profit=selling_day-buying_day\n",
    "            r=r+1\n",
    "    \n",
    "            \n",
    "    return max_profit\n",
    "print(\"#################\")\n",
    "prices = [7,1,5,3,6,4]\n",
    "print(prices)\n",
    "val=maxProfit(prices)\n",
    "print(val)\n",
    "print(\"#################\")\n",
    "prices=[7,6,4,3,1]\n",
    "print(prices)\n",
    "val=maxProfit(prices)\n",
    "print(val)"
   ]
  },
  {
   "cell_type": "markdown",
   "metadata": {},
   "source": [
    "# 31. Next Permutation\n"
   ]
  },
  {
   "cell_type": "code",
   "execution_count": 33,
   "metadata": {},
   "outputs": [
    {
     "name": "stdout",
     "output_type": "stream",
     "text": [
      "All permutations: [[1, 2, 3], [1, 3, 2], [2, 1, 3], [2, 3, 1], [3, 2, 1], [3, 1, 2]]\n",
      "Next permutation for [1,2,3]: [1, 3, 2]\n",
      "Next permutation for [3,2,1]: [1, 2, 3]\n"
     ]
    }
   ],
   "source": [
    "class Solution:\n",
    "    def recurPermute(self, index, nums, ans):\n",
    "        # Base case: If index reaches the end, add the current permutation to the result\n",
    "        if index == len(nums):\n",
    "            ans.append(nums[:])  # Append a copy of nums\n",
    "            return\n",
    "        \n",
    "        for i in range(index, len(nums)):\n",
    "            self.swap(nums, index, i)\n",
    "            self.recurPermute(index + 1, nums, ans)\n",
    "            self.swap(nums, index, i)  # Backtrack to restore original state\n",
    "\n",
    "    def swap(self, nums, i, j):\n",
    "        nums[i], nums[j] = nums[j], nums[i]\n",
    "\n",
    "    def permute(self, nums):\n",
    "        ans = []\n",
    "        self.recurPermute(0, nums, ans)\n",
    "        return ans\n",
    "    \n",
    "    def nextpermutate(self, ans, val):\n",
    "        # Sort the permutations list to be in lexicographical order\n",
    "        ans.sort()  \n",
    "        # Find the index of the current permutation\n",
    "        for i in range(len(ans)):\n",
    "            if ans[i] == val:\n",
    "                # If it's the last permutation, return the first\n",
    "                if i == len(ans) - 1:\n",
    "                    return list(ans[0])\n",
    "                else:\n",
    "                    return list(ans[i + 1])\n",
    "        return None  # if the permutation was not found\n",
    "\n",
    "# Example usage\n",
    "solution = Solution()\n",
    "ans = solution.permute([1, 2, 3])\n",
    "print(\"All permutations:\", ans)\n",
    "\n",
    "val = [1, 2, 3]\n",
    "print(\"Next permutation for [1,2,3]:\", solution.nextpermutate(ans, val))\n",
    "\n",
    "val = [3, 2, 1]\n",
    "print(\"Next permutation for [3,2,1]:\", solution.nextpermutate(ans, val))\n"
   ]
  },
  {
   "cell_type": "code",
   "execution_count": null,
   "metadata": {},
   "outputs": [],
   "source": [
    "class Solution(object):\n",
    "    def nextPermutation(self, nums):\n",
    "        \"\"\"\n",
    "        Do not return anything, modify nums in-place instead.\n",
    "        \"\"\"\n",
    "        n = len(nums)\n",
    "        \n",
    "        # Step 1: Find the first decreasing element from the right\n",
    "        i = n - 2\n",
    "        while i >= 0 and nums[i] >= nums[i + 1]:\n",
    "            i -= 1\n",
    "        \n",
    "        # Step 2: If such an element exists, find the next larger element to swap\n",
    "        if i >= 0:\n",
    "            j = n - 1\n",
    "            while nums[j] <= nums[i]:\n",
    "                j -= 1\n",
    "            # Swap elements at i and j\n",
    "            nums[i], nums[j] = nums[j], nums[i]\n",
    "        \n",
    "        # Step 3: Reverse the elements after index i to get the next permutation\n",
    "        nums[i + 1:] = reversed(nums[i + 1:])\n",
    "\n"
   ]
  },
  {
   "cell_type": "code",
   "execution_count": 34,
   "metadata": {},
   "outputs": [
    {
     "name": "stdout",
     "output_type": "stream",
     "text": [
      "[(1, 2, 3), (1, 3, 2), (2, 1, 3), (2, 3, 1), (3, 1, 2), (3, 2, 1)]\n",
      "Next permutation for [1,2,3]: [1, 3, 2]\n",
      "[(1, 2, 3), (1, 3, 2), (2, 1, 3), (2, 3, 1), (3, 1, 2), (3, 2, 1)]\n",
      "Next permutation for [3,2,1]: [1, 2, 3]\n"
     ]
    }
   ],
   "source": [
    "import itertools\n",
    "class Solution:\n",
    "    def nextpermutate(self, ans, val):\n",
    "        # Sort the permutations list to be in lexicographical order\n",
    "        ans.sort()  \n",
    "        # Find the index of the current permutation\n",
    "        for i in range(len(ans)):\n",
    "            if ans[i] == val:\n",
    "                # If it's the last permutation, return the first\n",
    "                if i == len(ans) - 1:\n",
    "                    return list(ans[0])\n",
    "                else:\n",
    "                    return list(ans[i + 1])\n",
    "        return None  # if the permutation was not found\n",
    "\n",
    "# Example usage\n",
    "# Example usage\n",
    "solution = Solution()\n",
    "val = [1, 2, 3]\n",
    "ans =  sorted(list(itertools.permutations(val)))\n",
    "print(ans)\n",
    "print(\"Next permutation for [1,2,3]:\", solution.nextpermutate(ans, tuple(val)))\n",
    "\n",
    "val = [3, 2, 1]\n",
    "ans =  sorted(list(itertools.permutations(val)))\n",
    "print(ans)\n",
    "print(\"Next permutation for [3,2,1]:\", solution.nextpermutate(ans, tuple(val))) "
   ]
  },
  {
   "cell_type": "code",
   "execution_count": 27,
   "metadata": {},
   "outputs": [
    {
     "name": "stdout",
     "output_type": "stream",
     "text": [
      "All permutations for [1,2,3]: [(1, 2, 3), (1, 3, 2), (2, 1, 3), (2, 3, 1), (3, 1, 2), (3, 2, 1)]\n",
      "Next permutation for [1,2,3]: (1, 3, 2)\n",
      "All permutations for [3,2,1]: [(1, 2, 3), (1, 3, 2), (2, 1, 3), (2, 3, 1), (3, 1, 2), (3, 2, 1)]\n",
      "Next permutation for [3,2,1]: (1, 2, 3)\n"
     ]
    }
   ],
   "source": [
    "import itertools\n",
    "\n",
    "class Solution:\n",
    "    def nextpermutate(self, ans, val):\n",
    "        # Here, val should be a tuple for correct comparison\n",
    "        for i in range(len(ans)):\n",
    "            if ans[i] == val:\n",
    "                # If it's the last permutation, return the first\n",
    "                if i == len(ans) - 1:\n",
    "                    return ans[0]\n",
    "                else:\n",
    "                    return ans[i + 1]\n",
    "        return None  # if the permutation was not found\n",
    "\n",
    "# Example usage\n",
    "solution = Solution()\n",
    "\n",
    "# For val = [1,2,3]\n",
    "val = [1, 2, 3]\n",
    "# Generate and sort permutations (they are tuples)\n",
    "ans = sorted(list(itertools.permutations(val)))\n",
    "print(\"All permutations for [1,2,3]:\", ans)\n",
    "# Pass val as tuple for correct comparison\n",
    "print(\"Next permutation for [1,2,3]:\", solution.nextpermutate(ans, tuple(val)))\n",
    "\n",
    "# For val = [3,2,1]\n",
    "val = [3, 2, 1]\n",
    "ans = sorted(list(itertools.permutations(val)))\n",
    "print(\"All permutations for [3,2,1]:\", ans)\n",
    "print(\"Next permutation for [3,2,1]:\", solution.nextpermutate(ans, tuple(val)))\n"
   ]
  },
  {
   "cell_type": "markdown",
   "metadata": {},
   "source": [
    "# print all the permuation of string and array App-1"
   ]
  },
  {
   "cell_type": "code",
   "execution_count": 1,
   "metadata": {},
   "outputs": [
    {
     "name": "stdout",
     "output_type": "stream",
     "text": [
      "[[1, 2, 3], [1, 3, 2], [2, 1, 3], [2, 3, 1], [3, 1, 2], [3, 2, 1]]\n"
     ]
    }
   ],
   "source": [
    "class Solution:\n",
    "    def recurPermute(self, nums, ds, ans, freq):\n",
    "        # If current list ds has the same size as nums, add it to the answer\n",
    "        if len(ds) == len(nums):\n",
    "            ans.append(ds[:])  # Append a copy of ds\n",
    "            return\n",
    "        \n",
    "        # Loop through all elements\n",
    "        for i in range(len(nums)):\n",
    "            if not freq[i]:  # If the number is not used\n",
    "                freq[i] = True\n",
    "                ds.append(nums[i])\n",
    "                \n",
    "                # Recursive call\n",
    "                self.recurPermute(nums, ds, ans, freq)\n",
    "                \n",
    "                # Backtracking: Remove the last element and mark it unused\n",
    "                ds.pop()\n",
    "                freq[i] = False\n",
    "\n",
    "    def permute(self, nums):\n",
    "        ans = []\n",
    "        ds = []\n",
    "        freq = [False] * len(nums)  # Frequency array to track used numbers\n",
    "        self.recurPermute(nums, ds, ans, freq)\n",
    "        return ans\n",
    "\n",
    "# Example usage\n",
    "solution = Solution()\n",
    "print(solution.permute([1, 2, 3]))\n"
   ]
  },
  {
   "cell_type": "markdown",
   "metadata": {},
   "source": [
    "# print all the permuation of string and array app=-2"
   ]
  },
  {
   "cell_type": "code",
   "execution_count": null,
   "metadata": {},
   "outputs": [
    {
     "name": "stdout",
     "output_type": "stream",
     "text": [
      "[[1, 2, 3], [1, 3, 2], [2, 1, 3], [2, 3, 1], [3, 2, 1], [3, 1, 2]]\n"
     ]
    }
   ],
   "source": [
    "class Solution:\n",
    "    def recurPermute(self, index, nums, ans):\n",
    "        # Base case: If index reaches the end, add the current permutation to the result\n",
    "        if index == len(nums):\n",
    "            ans.append(nums[:])  # Append a copy of nums\n",
    "            return\n",
    "        \n",
    "        for i in range(index, len(nums)):\n",
    "            self.swap(nums, index, i)\n",
    "            self.recurPermute(index + 1, nums, ans)\n",
    "            self.swap(nums, index, i)  # Backtrack to restore original state\n",
    "\n",
    "    def swap(self, nums, i, j):\n",
    "        nums[i], nums[j] = nums[j], nums[i]\n",
    "\n",
    "    def permute(self, nums):\n",
    "        ans = []\n",
    "        self.recurPermute(0, nums, ans)\n",
    "        return ans\n",
    "    \n",
    "# Example usage\n",
    "solution = Solution()\n",
    "print(solution.permute([1, 2, 3]))\n"
   ]
  },
  {
   "cell_type": "markdown",
   "metadata": {},
   "source": [
    "# Leaders in array"
   ]
  },
  {
   "cell_type": "code",
   "execution_count": null,
   "metadata": {},
   "outputs": [
    {
     "name": "stdout",
     "output_type": "stream",
     "text": [
      "[10, 22, 12, 3, 0, 6]\n",
      "[22, 12, 6]\n"
     ]
    }
   ],
   "source": [
    "\n",
    "def leadersinarray(arr):\n",
    "    length=len(arr)\n",
    "    count=0\n",
    "    ans=[]\n",
    "    if length==0:\n",
    "        return arr\n",
    "    \n",
    "    for i in range(length):\n",
    "        count=0\n",
    "        lead=arr[i]\n",
    "        for j in range(i+1,length,1):\n",
    "            if arr[j]<lead:\n",
    "                continue\n",
    "            elif arr[j]>lead:\n",
    "                count+=1\n",
    "                break\n",
    "        if count==0:\n",
    "            ans.append(lead)\n",
    "        else:\n",
    "            continue\n",
    "        \n",
    "    return ans\n",
    "            \n",
    "arr=[10,22,12,3,0,6]\n",
    "print(arr)\n",
    "val=leadersinarray(arr)\n",
    "print(val)\n"
   ]
  },
  {
   "cell_type": "code",
   "execution_count": null,
   "metadata": {},
   "outputs": [
    {
     "name": "stdout",
     "output_type": "stream",
     "text": [
      "[10, 22, 12, 3, 0, 6]\n",
      "[12, 3]\n"
     ]
    }
   ],
   "source": [
    "\n",
    "def leadersinarray(arr):\n",
    "    length=len(arr)\n",
    "    count=0\n",
    "    ans=[]\n",
    "    if length==0:\n",
    "        return arr\n",
    "    l=0\n",
    "    r=1\n",
    "    lead=0\n",
    "    while r<length and l<length:\n",
    "        s_leader = True\n",
    "        lead=arr[l]\n",
    "        r=r+1\n",
    "        if arr[r]>=lead:\n",
    "            s_leader = False\n",
    "            l=l+1\n",
    "            if l==len(arr):\n",
    "                return ans\n",
    "            else:\n",
    "                r=l+1\n",
    "\n",
    "        if s_leader:\n",
    "            ans.append(arr[l])\n",
    "        l+=1\n",
    "    return ans\n",
    "            \n",
    "            \n",
    "arr=[10,22,12,3,0,6]\n",
    "print(arr)\n",
    "val=leadersinarray(arr)\n",
    "print(val)"
   ]
  },
  {
   "cell_type": "code",
   "execution_count": 44,
   "metadata": {},
   "outputs": [
    {
     "name": "stdout",
     "output_type": "stream",
     "text": [
      "Input Array: [10, 22, 12, 3, 0, 6]\n",
      "Leaders: [22, 12, 6]\n"
     ]
    }
   ],
   "source": [
    "def leadersinarray(arr):\n",
    "    length = len(arr)\n",
    "    ans = []\n",
    "    \n",
    "    if length == 0:\n",
    "        return ans\n",
    "    \n",
    "    l = 0\n",
    "    while l < length:\n",
    "        is_leader = True\n",
    "        r = l + 1  # Start checking elements to the right\n",
    "        \n",
    "        while r < length:\n",
    "            if arr[r] >= arr[l]:\n",
    "                is_leader = False\n",
    "                break  # Not a leader, move to next element\n",
    "            r += 1\n",
    "        \n",
    "        if is_leader:\n",
    "            ans.append(arr[l])\n",
    "        \n",
    "        l += 1  # Move left pointer forward\n",
    "    \n",
    "    return ans\n",
    "\n",
    "arr = [10, 22, 12, 3, 0, 6]\n",
    "print(\"Input Array:\", arr)\n",
    "print(\"Leaders:\", leadersinarray(arr))\n"
   ]
  },
  {
   "cell_type": "code",
   "execution_count": 43,
   "metadata": {},
   "outputs": [
    {
     "name": "stdout",
     "output_type": "stream",
     "text": [
      "Array: [10, 22, 12, 3, 0, 6]\n",
      "Leaders: [22, 12, 6]\n"
     ]
    }
   ],
   "source": [
    "def leaders_in_array(arr):\n",
    "    length = len(arr)\n",
    "    if length == 0:\n",
    "        return []\n",
    "    \n",
    "    max_from_right = arr[-1]\n",
    "    leaders = [max_from_right]\n",
    "    \n",
    "    for i in range(length - 2, -1, -1):\n",
    "        if arr[i] >= max_from_right:\n",
    "            max_from_right = arr[i]\n",
    "            leaders.append(max_from_right)\n",
    "    \n",
    "    return leaders[::-1]\n",
    "\n",
    "arr = [10, 22, 12, 3, 0, 6]\n",
    "print(\"Array:\", arr)\n",
    "print(\"Leaders:\", leaders_in_array(arr))\n"
   ]
  },
  {
   "cell_type": "markdown",
   "metadata": {},
   "source": [
    "# longest consecutive sequence"
   ]
  },
  {
   "cell_type": "code",
   "execution_count": 8,
   "metadata": {},
   "outputs": [
    {
     "name": "stdout",
     "output_type": "stream",
     "text": [
      "[102, 4, 100, 1, 101, 3, 2, 1, 1]\n",
      "3\n"
     ]
    }
   ],
   "source": [
    "def consecutivesequence(arr):\n",
    "    count=0\n",
    "    longest=1\n",
    "    maxlen=0\n",
    "    for i in range(0,len(arr)-1,1):\n",
    "        count=1\n",
    "        current=arr[i]\n",
    "        for j in range(i+1,len(arr),1):\n",
    "            if arr[j]==current+1:\n",
    "                count=count+1\n",
    "                longest=longest+1\n",
    "                maxlen=max(maxlen,longest)\n",
    "                current=arr[j]\n",
    "            \n",
    "    return maxlen\n",
    "    pass\n",
    "\n",
    "arr=[102,4,100,1,101,3,2,1,1]\n",
    "print(arr)\n",
    "val=consecutivesequence(arr)\n",
    "print(val)"
   ]
  },
  {
   "cell_type": "code",
   "execution_count": 11,
   "metadata": {},
   "outputs": [
    {
     "name": "stdout",
     "output_type": "stream",
     "text": [
      "[102, 4, 100, 1, 101, 3, 2, 1, 1]\n",
      "3\n"
     ]
    }
   ],
   "source": [
    "def consecutivesequence(arr):\n",
    "    count=0\n",
    "    longest=1\n",
    "    maxlen=0\n",
    "    l=0\n",
    "    r=1\n",
    "    while l<len(arr)-1:\n",
    "        current=arr[l]\n",
    "        while r<len(arr):\n",
    "            if arr[r]==current+1:\n",
    "                longest+=1\n",
    "                maxlen=max(maxlen,longest)\n",
    "                current=arr[r]\n",
    "            r=r+1\n",
    "        l=l+1\n",
    "        r=l+1\n",
    "    return maxlen\n",
    "    pass\n",
    "\n",
    "arr=[102,4,100,1,101,3,2,1,1]\n",
    "print(arr)\n",
    "val=consecutivesequence(arr)\n",
    "print(val)"
   ]
  },
  {
   "cell_type": "code",
   "execution_count": 2,
   "metadata": {},
   "outputs": [
    {
     "name": "stdout",
     "output_type": "stream",
     "text": [
      "4\n",
      "[102, 4, 100, 1, 101, 3, 2, 1, 1]\n",
      "4\n"
     ]
    }
   ],
   "source": [
    "def longest_successive_elements(arr):\n",
    "    if not arr:\n",
    "        return 0\n",
    "\n",
    "    st = set(arr)\n",
    "    longest = 0\n",
    "\n",
    "    for num in st:\n",
    "        if num - 1 not in st:  # Check if it's the start of a sequence\n",
    "            cnt = 1\n",
    "            x = num\n",
    "\n",
    "            while x + 1 in st:\n",
    "                x += 1\n",
    "                cnt += 1\n",
    "\n",
    "            longest = max(longest, cnt)\n",
    "\n",
    "    return longest\n",
    "\n",
    "# Example usage:\n",
    "arr = [100, 4, 200, 1, 3, 2]\n",
    "print(longest_successive_elements(arr))  # Output: 4\n",
    "arr=[102,4,100,1,101,3,2,1,1]\n",
    "print(arr)\n",
    "print(longest_successive_elements(arr))"
   ]
  },
  {
   "cell_type": "markdown",
   "metadata": {},
   "source": [
    "# Number of subarray with sum=k"
   ]
  },
  {
   "cell_type": "markdown",
   "metadata": {},
   "source": [
    "brute"
   ]
  },
  {
   "cell_type": "code",
   "execution_count": 4,
   "metadata": {},
   "outputs": [
    {
     "name": "stdout",
     "output_type": "stream",
     "text": [
      "2\n"
     ]
    }
   ],
   "source": [
    "def find_all_subarrays_with_given_sum(arr, k):\n",
    "    prefix_sum = 0\n",
    "    no_of_subarrays = 0\n",
    "    hash_map = {0: 1}  # Dictionary to store prefix sum frequencies\n",
    "\n",
    "    for num in arr:\n",
    "        prefix_sum += num\n",
    "\n",
    "        # Check if (prefix_sum - k) exists in the hashmap\n",
    "        if (prefix_sum - k) in hash_map:\n",
    "            no_of_subarrays += hash_map[prefix_sum - k]\n",
    "\n",
    "        # Update hashmap with the current prefix_sum count\n",
    "        hash_map[prefix_sum] = hash_map.get(prefix_sum, 0) + 1\n",
    "\n",
    "    return no_of_subarrays\n",
    "\n",
    "# Example usage:\n",
    "arr = [1, 2, 3, 4, 5]\n",
    "k = 5\n",
    "print(find_all_subarrays_with_given_sum(arr, k))  # Output: 2\n",
    "\n"
   ]
  },
  {
   "cell_type": "code",
   "execution_count": null,
   "metadata": {},
   "outputs": [],
   "source": [
    "arr = [1, 2, 3, 4, 5]\n",
    "k = 5\n",
    "print(find_all_subarrays_with_given_sum(arr, k))"
   ]
  },
  {
   "cell_type": "markdown",
   "metadata": {},
   "source": [
    "better/optimal"
   ]
  },
  {
   "cell_type": "code",
   "execution_count": 3,
   "metadata": {},
   "outputs": [
    {
     "name": "stdout",
     "output_type": "stream",
     "text": [
      "2\n"
     ]
    }
   ],
   "source": [
    "def find_all_subarrays_with_given_sum(arr, k):\n",
    "    mpp = {0: 1}  # Dictionary to store prefix sum frequencies\n",
    "    pre_sum = 0\n",
    "    cnt = 0\n",
    "\n",
    "    for num in arr:\n",
    "        pre_sum += num\n",
    "        remove = pre_sum - k\n",
    "        cnt += mpp.get(remove, 0)  # Get the count of (pre_sum - k) from the dictionary\n",
    "        mpp[pre_sum] = mpp.get(pre_sum, 0) + 1  # Store the prefix sum count\n",
    "\n",
    "    return cnt\n",
    "\n",
    "# Example usage:\n",
    "arr = [1, 2, 3, 4, 5]\n",
    "k = 5\n",
    "print(find_all_subarrays_with_given_sum(arr, k))  # Output: 2\n"
   ]
  },
  {
   "cell_type": "markdown",
   "metadata": {},
   "source": [
    "# majority element 2 > n/3 floor value"
   ]
  },
  {
   "cell_type": "markdown",
   "metadata": {},
   "source": [
    "brute"
   ]
  },
  {
   "cell_type": "code",
   "execution_count": 5,
   "metadata": {},
   "outputs": [
    {
     "name": "stdout",
     "output_type": "stream",
     "text": [
      "[1, 2]\n"
     ]
    }
   ],
   "source": [
    "def majority_elements(nums):\n",
    "    n = len(nums)\n",
    "    ls = set()\n",
    "\n",
    "    for i in range(n):\n",
    "        if len(ls) == 0 or all(x != nums[i] for x in ls):\n",
    "            count = 0\n",
    "            for j in range(n):\n",
    "                if nums[j] == nums[i]:\n",
    "                    count += 1\n",
    "            if count > n // 3:\n",
    "                ls.add(nums[i])\n",
    "        \n",
    "        if len(ls) == 2:  # Since there can be at most 2 elements with > n/3 frequency\n",
    "            break\n",
    "\n",
    "    return list(ls)\n",
    "\n",
    "# Example usage:\n",
    "arr = [1, 1, 1, 3, 3, 2, 2, 2]\n",
    "print(majority_elements(arr))  # Output: [1, 2]\n"
   ]
  },
  {
   "cell_type": "markdown",
   "metadata": {},
   "source": [
    "better"
   ]
  },
  {
   "cell_type": "code",
   "execution_count": 13,
   "metadata": {},
   "outputs": [
    {
     "name": "stdout",
     "output_type": "stream",
     "text": [
      "[1, 2]\n"
     ]
    }
   ],
   "source": [
    "def majority_elements(arr):\n",
    "    n = len(arr)\n",
    "    ls = []\n",
    "    hash={}\n",
    "    for i in range(n):\n",
    "        hash[arr[i]]=hash.get(arr[i],0)+1\n",
    "        \n",
    "        if hash[arr[i]] > n/3 and arr[i] not in ls:\n",
    "            ls.append(arr[i])\n",
    "    return ls\n",
    "\n",
    "    \n",
    "\n",
    "# Example usage:\n",
    "arr = [1, 1, 1, 3, 3, 2, 2, 2]\n",
    "print(majority_elements(arr))  # Output: [1, 2]"
   ]
  },
  {
   "cell_type": "code",
   "execution_count": 14,
   "metadata": {},
   "outputs": [
    {
     "name": "stdout",
     "output_type": "stream",
     "text": [
      "[1, 2]\n"
     ]
    }
   ],
   "source": [
    "def majority_element(nums):\n",
    "    # Step 1: Finding potential candidates\n",
    "    cnt1, cnt2 = 0, 0\n",
    "    el1, el2 = None, None  # Using None instead of INT_MIN\n",
    "    \n",
    "    for num in nums:\n",
    "        if el1 == num:\n",
    "            cnt1 += 1\n",
    "        elif el2 == num:\n",
    "            cnt2 += 1\n",
    "        elif cnt1 == 0:\n",
    "            el1 = num\n",
    "            cnt1 = 1\n",
    "        elif cnt2 == 0:\n",
    "            el2 = num\n",
    "            cnt2 = 1\n",
    "        else:\n",
    "            cnt1 -= 1\n",
    "            cnt2 -= 1\n",
    "\n",
    "    # Step 2: Validating candidates\n",
    "    cnt1, cnt2 = 0, 0\n",
    "    for num in nums:\n",
    "        if num == el1:\n",
    "            cnt1 += 1\n",
    "        elif num == el2:\n",
    "            cnt2 += 1\n",
    "\n",
    "    result = []\n",
    "    mini = len(nums) // 3 + 1\n",
    "\n",
    "    if cnt1 >= mini:\n",
    "        result.append(el1)\n",
    "    if cnt2 >= mini:\n",
    "        result.append(el2)\n",
    "\n",
    "    return sorted(result)\n",
    "\n",
    "# Example usage:\n",
    "arr = [1, 1, 1, 3, 3, 2, 2, 2]\n",
    "print(majority_element(arr))  # Output: [1, 2]\n"
   ]
  },
  {
   "cell_type": "markdown",
   "metadata": {},
   "source": []
  }
 ],
 "metadata": {
  "kernelspec": {
   "display_name": "Python 3",
   "language": "python",
   "name": "python3"
  },
  "language_info": {
   "codemirror_mode": {
    "name": "ipython",
    "version": 3
   },
   "file_extension": ".py",
   "mimetype": "text/x-python",
   "name": "python",
   "nbconvert_exporter": "python",
   "pygments_lexer": "ipython3",
   "version": "3.13.1"
  }
 },
 "nbformat": 4,
 "nbformat_minor": 2
}
