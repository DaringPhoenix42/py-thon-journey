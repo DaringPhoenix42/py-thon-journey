{
 "cells": [
  {
   "cell_type": "markdown",
   "metadata": {},
   "source": [
    "# Largest number"
   ]
  },
  {
   "cell_type": "code",
   "execution_count": 5,
   "metadata": {},
   "outputs": [
    {
     "name": "stdout",
     "output_type": "stream",
     "text": [
      "5\n"
     ]
    }
   ],
   "source": [
    "def largest(arr):\n",
    "    max=float('-inf')\n",
    "    for i in range(0,len(arr)-1,1):\n",
    "        if arr[i]>max:\n",
    "            max=arr[i]\n",
    "    return max\n",
    "\n",
    "arr=[3,2,1,5,2]\n",
    "val=largest(arr)\n",
    "print(val)"
   ]
  },
  {
   "cell_type": "markdown",
   "metadata": {},
   "source": [
    "# Second largest element in the array"
   ]
  },
  {
   "cell_type": "markdown",
   "metadata": {},
   "source": [
    "My approach"
   ]
  },
  {
   "cell_type": "code",
   "execution_count": 7,
   "metadata": {},
   "outputs": [
    {
     "name": "stdout",
     "output_type": "stream",
     "text": [
      "[1, 2, 4, 7, 7, 5]\n",
      "5\n",
      "34\n",
      "5\n",
      "-1\n"
     ]
    }
   ],
   "source": [
    "def secondlargestElement(arr):\n",
    "    largestno=max(arr)\n",
    "    secondlargestElement=float('-inf')\n",
    "    for i in range(0,len(arr),1):\n",
    "        if len(arr)==0:\n",
    "            return -1\n",
    "        elif arr[i]<largestno and arr[i]>secondlargestElement:\n",
    "            secondlargestElement=arr[i]\n",
    "    if secondlargestElement==float('-inf'):\n",
    "        return -1\n",
    "    else:\n",
    "        return secondlargestElement\n",
    "            \n",
    "        \n",
    "    \n",
    "arr=[1,2,4,7,7,5]\n",
    "print(arr)\n",
    "val=secondlargestElement(arr)\n",
    "print(val)\n",
    "arr=[12, 35, 1, 10, 34, 1]\n",
    "val=secondlargestElement(arr)\n",
    "print(val)\n",
    "arr=[10, 5, 10]\n",
    "val=secondlargestElement(arr)\n",
    "print(val)\n",
    "arr=[10, 10, 10]\n",
    "val=secondlargestElement(arr)\n",
    "print(val)"
   ]
  },
  {
   "cell_type": "code",
   "execution_count": 9,
   "metadata": {},
   "outputs": [
    {
     "name": "stdout",
     "output_type": "stream",
     "text": [
      "[1, 2, 4, 7, 7, 5]\n",
      "5\n",
      "[1, 2, 4, 7, 7, 5]\n",
      "34\n",
      "[12, 35, 1, 10, 34, 1]\n",
      "5\n",
      "[10, 5, 10]\n",
      "-1\n"
     ]
    }
   ],
   "source": [
    "def secondlargestElement(arr):\n",
    "    largestno=arr[0]\n",
    "    secondlargestElement=float('-inf')\n",
    "    for i in range(0,len(arr),1):\n",
    "        if len(arr)==0:\n",
    "            return -1\n",
    "        elif arr[i]>largestno:\n",
    "            secondlargestElement=largestno\n",
    "            largestno=arr[i]\n",
    "        elif arr[i]<largestno and arr[i]>secondlargestElement:\n",
    "            secondlargestElement=arr[i]\n",
    "    if secondlargestElement==float('-inf'):\n",
    "        return -1\n",
    "    else:\n",
    "        return secondlargestElement\n",
    "            \n",
    "        \n",
    "    \n",
    "arr=[1,2,4,7,7,5]\n",
    "print(arr)\n",
    "val=secondlargestElement(arr)\n",
    "print(val)\n",
    "print(arr)\n",
    "arr=[12, 35, 1, 10, 34, 1]\n",
    "val=secondlargestElement(arr)\n",
    "print(val)\n",
    "print(arr)\n",
    "arr=[10, 5, 10]\n",
    "val=secondlargestElement(arr)\n",
    "print(val)\n",
    "print(arr)\n",
    "arr=[10, 10, 10]\n",
    "val=secondlargestElement(arr)\n",
    "print(val)"
   ]
  },
  {
   "cell_type": "markdown",
   "metadata": {},
   "source": [
    "# Check if array is sorted"
   ]
  },
  {
   "cell_type": "code",
   "execution_count": 10,
   "metadata": {},
   "outputs": [
    {
     "name": "stdout",
     "output_type": "stream",
     "text": [
      "False\n",
      "False\n",
      "True\n"
     ]
    }
   ],
   "source": [
    "def check(arr):\n",
    "    for i in range(1,len(arr),1):\n",
    "        if arr[i]>=arr[i-1]:\n",
    "            continue\n",
    "        else :\n",
    "            return False\n",
    "    return True\n",
    "\n",
    "arr=[12, 35, 1, 10, 34, 1]\n",
    "val=check(arr)\n",
    "print(val)\n",
    "arr = [3,4,5,1,2]\n",
    "val=check(arr)\n",
    "print(val)\n",
    "arr = [1,2,3]\n",
    "val=check(arr)\n",
    "print(val)"
   ]
  },
  {
   "cell_type": "markdown",
   "metadata": {},
   "source": [
    "# Remove duplicate in place /non sorted array"
   ]
  },
  {
   "cell_type": "markdown",
   "metadata": {},
   "source": [
    "my approach"
   ]
  },
  {
   "cell_type": "code",
   "execution_count": 18,
   "metadata": {},
   "outputs": [
    {
     "name": "stdout",
     "output_type": "stream",
     "text": [
      "[1, 1, 2, 2, 2, 3, 3]\n",
      "[1, 2, 3]\n",
      "[0, 0, 1, 1, 1, 2, 2, 3, 3, 4]\n",
      "[0, 1, 2, 3, 4]\n",
      "[1, 1, 2]\n",
      "[1, 2]\n"
     ]
    }
   ],
   "source": [
    "def removeDuplicate(arr):\n",
    "    temp={}\n",
    "    arr2=[]\n",
    "    for i in range(0,len(arr),1):\n",
    "        temp[arr[i]]=temp.get(arr[i],0)+1\n",
    "    \n",
    "    for key in temp.keys():\n",
    "        arr2.append(key)\n",
    "        \n",
    "    return arr2\n",
    "        \n",
    "\n",
    "arr=[1,1,2,2,2,3,3]\n",
    "print(arr)\n",
    "new=removeDuplicate(arr)\n",
    "print(new)\n",
    "\n",
    "arr=[0,0,1,1,1,2,2,3,3,4]\n",
    "print(arr)\n",
    "new=removeDuplicate(arr)\n",
    "print(new)\n",
    "\n",
    "arr=[1,1,2]\n",
    "print(arr)\n",
    "new=removeDuplicate(arr)\n",
    "print(new)"
   ]
  },
  {
   "cell_type": "code",
   "execution_count": 20,
   "metadata": {},
   "outputs": [
    {
     "name": "stdout",
     "output_type": "stream",
     "text": [
      "[1, 1, 2, 2, 2, 3, 3]\n",
      "[1, 2, 3]\n",
      "[0, 0, 1, 1, 1, 2, 2, 3, 3, 4]\n",
      "[0, 1, 2, 3, 4]\n",
      "[1, 1, 2]\n",
      "[1, 2]\n"
     ]
    }
   ],
   "source": [
    "def removeDuplicate(arr):\n",
    "    temp={}\n",
    "    arr2=[]\n",
    "    for i in range(0,len(arr),1):\n",
    "        temp[arr[i]]=temp.get(arr[i],0)+1\n",
    "    arr.clear()\n",
    "    for key in temp.keys():\n",
    "        arr.append(key)\n",
    "        \n",
    "    return arr\n",
    "        \n",
    "\n",
    "arr=[1,1,2,2,2,3,3]\n",
    "print(arr)\n",
    "new=removeDuplicate(arr)\n",
    "print(new)\n",
    "\n",
    "arr=[0,0,1,1,1,2,2,3,3,4]\n",
    "print(arr)\n",
    "new=removeDuplicate(arr)\n",
    "print(new)\n",
    "\n",
    "arr=[1,1,2]\n",
    "print(arr)\n",
    "new=removeDuplicate(arr)\n",
    "print(new)"
   ]
  },
  {
   "cell_type": "code",
   "execution_count": 23,
   "metadata": {},
   "outputs": [
    {
     "name": "stdout",
     "output_type": "stream",
     "text": [
      "[1, 1, 2, 2, 2, 3, 3]\n",
      "[1, 2, 3]\n",
      "[0, 0, 1, 1, 1, 2, 2, 3, 3, 4]\n",
      "[0, 1, 2, 3, 4]\n",
      "[1, 1, 2]\n",
      "[1, 2]\n"
     ]
    }
   ],
   "source": [
    "def removeDuplicate(arr):\n",
    "    i=0\n",
    "    for j in range(1,len(arr),1):\n",
    "        if arr[j]!=arr[i]:\n",
    "            arr[i+1]=arr[j]\n",
    "            i=i+1\n",
    "            \n",
    "        \n",
    "    return arr[:i+1]\n",
    "        \n",
    "\n",
    "arr=[1,1,2,2,2,3,3]\n",
    "print(arr)\n",
    "new=removeDuplicate(arr)\n",
    "print(new)\n",
    "\n",
    "arr=[0,0,1,1,1,2,2,3,3,4]\n",
    "print(arr)\n",
    "new=removeDuplicate(arr)\n",
    "print(new)\n",
    "\n",
    "arr=[1,1,2]\n",
    "print(arr)\n",
    "new=removeDuplicate(arr)\n",
    "print(new)       "
   ]
  },
  {
   "cell_type": "markdown",
   "metadata": {},
   "source": [
    "Left rotate array by one place"
   ]
  },
  {
   "cell_type": "code",
   "execution_count": 33,
   "metadata": {},
   "outputs": [
    {
     "name": "stdout",
     "output_type": "stream",
     "text": [
      "[1, 2, 3, 4, 5]\n",
      "[2, 3, 4, 5, 1]\n",
      "[0, 0, 1, 1, 1, 2, 2, 3, 3, 4]\n",
      "[0, 1, 1, 1, 2, 2, 3, 3, 4, 0]\n",
      "[12, 35, 1, 10, 34, 1]\n",
      "[35, 1, 10, 34, 1, 12]\n"
     ]
    }
   ],
   "source": [
    "def leftRotateArray(arr,k):\n",
    "    temp=arr[0]\n",
    "    leng=len(arr)\n",
    "    for j in range(0,leng-k,1):\n",
    "        arr[j]=arr[k]\n",
    "        k=k+1\n",
    "    arr[leng-1]=temp\n",
    "    return arr\n",
    "\n",
    "arr=[1,2,3,4,5]\n",
    "print(arr)\n",
    "val=leftRotateArray(arr,1)\n",
    "print(arr)\n",
    "\n",
    "arr=[0,0,1,1,1,2,2,3,3,4]\n",
    "print(arr)\n",
    "val=leftRotateArray(arr,1)\n",
    "print(arr)\n",
    "\n",
    "arr=[12, 35, 1, 10, 34, 1]\n",
    "print(arr)\n",
    "val=leftRotateArray(arr,1)\n",
    "print(arr)"
   ]
  },
  {
   "cell_type": "code",
   "execution_count": 34,
   "metadata": {},
   "outputs": [
    {
     "name": "stdout",
     "output_type": "stream",
     "text": [
      "[1, 2, 3, 4, 5]\n",
      "[2, 3, 4, 5, 1]\n",
      "[0, 0, 1, 1, 1, 2, 2, 3, 3, 4]\n",
      "[0, 1, 1, 1, 2, 2, 3, 3, 4, 0]\n",
      "[12, 35, 1, 10, 34, 1]\n",
      "[35, 1, 10, 34, 1, 12]\n"
     ]
    }
   ],
   "source": [
    "def leftRotateArray(arr,k):\n",
    "    temp=arr[0]\n",
    "    leng=len(arr)\n",
    "    for j in range(1,leng,1):\n",
    "        arr[j-1]=arr[j]\n",
    "        \n",
    "    arr[leng-1]=temp\n",
    "    return arr\n",
    "\n",
    "arr=[1,2,3,4,5]\n",
    "print(arr)\n",
    "val=leftRotateArray(arr,1)\n",
    "print(arr)\n",
    "\n",
    "arr=[0,0,1,1,1,2,2,3,3,4]\n",
    "print(arr)\n",
    "val=leftRotateArray(arr,1)\n",
    "print(arr)\n",
    "\n",
    "arr=[12, 35, 1, 10, 34, 1]\n",
    "print(arr)\n",
    "val=leftRotateArray(arr,1)\n",
    "print(arr)"
   ]
  },
  {
   "cell_type": "markdown",
   "metadata": {},
   "source": [
    "Rotate the array by k element"
   ]
  },
  {
   "cell_type": "code",
   "execution_count": 50,
   "metadata": {},
   "outputs": [
    {
     "name": "stdout",
     "output_type": "stream",
     "text": [
      "[1, 2, 3, 4, 5]\n",
      "[4, 5, 1, 2, 3]\n",
      "[0, 0, 1, 1, 1, 2, 2, 3, 3, 4]\n",
      "[1, 1, 1, 2, 2, 3, 3, 4, 0, 0]\n",
      "[12, 35, 1, 10, 34, 2]\n",
      "[1, 10, 34, 2, 12, 35]\n"
     ]
    }
   ],
   "source": [
    "def leftRotateArrayk(arr,k):\n",
    "    d=k%len(arr)\n",
    "    leng=len(arr)\n",
    "    n = len(arr)\n",
    "    k = k % n \n",
    "    temp=arr[0:k]\n",
    "    for j in range(0,leng-d,1):\n",
    "        arr[j]=arr[k]\n",
    "        k=k+1\n",
    "    g=0\n",
    "    for l in range(leng-d,leng,1):\n",
    "        \n",
    "        arr[l]=temp[g]\n",
    "        g=g+1\n",
    "    return arr\n",
    "\n",
    "arr=[1,2,3,4,5]\n",
    "print(arr)\n",
    "val=leftRotateArrayk(arr,3)\n",
    "print(arr)\n",
    "\n",
    "arr=[0,0,1,1,1,2,2,3,3,4]\n",
    "print(arr)\n",
    "val=leftRotateArrayk(arr,2)\n",
    "print(arr)\n",
    "\n",
    "arr=[12, 35, 1, 10, 34, 2]\n",
    "print(arr)\n",
    "val=leftRotateArrayk(arr,2)\n",
    "print(arr)"
   ]
  },
  {
   "cell_type": "code",
   "execution_count": 48,
   "metadata": {},
   "outputs": [
    {
     "name": "stdout",
     "output_type": "stream",
     "text": [
      "Original: [1, 2, 3, 4, 5]\n",
      "Left Rotated: [3, 4, 5, 1, 2]\n",
      "Original: [0, 0, 1, 1, 1, 2, 2, 3, 3, 4]\n",
      "Left Rotated: [1, 1, 2, 2, 3, 3, 4, 0, 0, 1]\n",
      "Original: [12, 35, 1, 10, 34, 2]\n",
      "Left Rotated: [34, 2, 12, 35, 1, 10]\n"
     ]
    }
   ],
   "source": [
    "def leftRotateArrayk(arr, k):\n",
    "    n = len(arr)\n",
    "    k = k % n  # Handle cases where k > n\n",
    "    \n",
    "    # Extract the rotated part using slicing\n",
    "    temp = arr[:k]\n",
    "\n",
    "    # Shift the remaining elements to the left\n",
    "    for i in range(n - k):\n",
    "        arr[i] = arr[i + k]\n",
    "\n",
    "    # Place the rotated elements at the end\n",
    "    arr[n - k:] = temp\n",
    "    \n",
    "    return arr\n",
    "\n",
    "# Test cases\n",
    "arr = [1, 2, 3, 4, 5]\n",
    "print(\"Original:\", arr)\n",
    "leftRotateArrayk(arr, 2)\n",
    "print(\"Left Rotated:\", arr)\n",
    "\n",
    "arr = [0, 0, 1, 1, 1, 2, 2, 3, 3, 4]\n",
    "print(\"Original:\", arr)\n",
    "leftRotateArrayk(arr, 3)\n",
    "print(\"Left Rotated:\", arr)\n",
    "\n",
    "arr = [12, 35, 1, 10, 34, 2]\n",
    "print(\"Original:\", arr)\n",
    "leftRotateArrayk(arr, 4)\n",
    "print(\"Left Rotated:\", arr)\n"
   ]
  },
  {
   "cell_type": "code",
   "execution_count": 51,
   "metadata": {},
   "outputs": [
    {
     "name": "stdout",
     "output_type": "stream",
     "text": [
      "[4, 5, 6, 7, 1, 2, 3]\n",
      "[3, 99, -1, -100]\n"
     ]
    }
   ],
   "source": [
    "def reverse(arr, start, end):\n",
    "    while start < end:\n",
    "        arr[start], arr[end] = arr[end], arr[start]\n",
    "        start += 1\n",
    "        end -= 1\n",
    "\n",
    "def leftRotate(arr, d):\n",
    "    n = len(arr)\n",
    "    d = d % n  # Handle cases where d > n\n",
    "\n",
    "    # Step 1: Reverse the first d elements\n",
    "    reverse(arr, 0, d-1)\n",
    "\n",
    "    # Step 2: Reverse the remaining n-d elements\n",
    "    reverse(arr, d, n-1)\n",
    "\n",
    "    # Step 3: Reverse the entire array\n",
    "    reverse(arr, 0, n-1)\n",
    "\n",
    "# Example 1\n",
    "arr = [1, 2, 3, 4, 5, 6, 7]\n",
    "leftRotate(arr, 3)\n",
    "print(arr)  # Output: [4, 5, 6, 7, 1, 2, 3]\n",
    "\n",
    "# Example 2\n",
    "arr = [-1, -100, 3, 99]\n",
    "leftRotate(arr, 2)\n",
    "print(arr)  # Output: [3, 99, -1, -100]\n"
   ]
  },
  {
   "cell_type": "code",
   "execution_count": 52,
   "metadata": {},
   "outputs": [],
   "source": [
    "class Solution(object):\n",
    "    def reverse(self, arr, start, end):\n",
    "        while start < end:\n",
    "            arr[start], arr[end] = arr[end], arr[start]\n",
    "            start += 1\n",
    "            end -= 1\n",
    "\n",
    "    def rotate(self, arr, d):\n",
    "        n = len(arr)\n",
    "        d = d % n\n",
    "\n",
    "        self.reverse(arr, 0, n - d - 1)\n",
    "        self.reverse(arr, n - d, n - 1)\n",
    "        self.reverse(arr, 0, n - 1)"
   ]
  },
  {
   "cell_type": "markdown",
   "metadata": {},
   "source": [
    "# Move all the zeroes to the array"
   ]
  },
  {
   "cell_type": "code",
   "execution_count": 66,
   "metadata": {},
   "outputs": [
    {
     "name": "stdout",
     "output_type": "stream",
     "text": [
      "[0, 1, 0, 3, 12]\n",
      "[1, 3, 12, 0, 0]\n",
      "[0]\n",
      "[0]\n",
      "[0, 0, 1, 1, 1, 2, 2, 3, 3, 4]\n",
      "[1, 1, 1, 2, 2, 3, 3, 4, 0, 0]\n",
      "[1, 0, 2, 3, 2, 0, 0, 4, 5, 1]\n",
      "[1, 2, 3, 2, 4, 5, 1, 0, 0, 0]\n"
     ]
    }
   ],
   "source": [
    "def MoveZeroes(arr):\n",
    "    length=len(arr)\n",
    "    temp=[]\n",
    "    j=0\n",
    "    for i in range(0,length,1):\n",
    "        if arr[i]!=0:\n",
    "            temp.append(arr[i])\n",
    "            j=j+1\n",
    "        else:\n",
    "            continue\n",
    "    temlength=len(temp)\n",
    "       \n",
    "    while temlength<length:\n",
    "        temp.append(0)\n",
    "        temlength+=1\n",
    "        \n",
    "    return temp\n",
    "\n",
    "arr=[0,1,0,3,12]\n",
    "print(arr)\n",
    "val=MoveZeroes(arr)\n",
    "print(val)\n",
    "\n",
    "arr=[0]\n",
    "print(arr)\n",
    "val=MoveZeroes(arr)\n",
    "print(val)\n",
    "\n",
    "arr = [0, 0, 1, 1, 1, 2, 2, 3, 3, 4]\n",
    "print(arr)\n",
    "val=MoveZeroes(arr)\n",
    "print(val)\n",
    "\n",
    "arr=[1,0,2,3,2,0,0,4,5,1]\n",
    "print(arr)\n",
    "val=MoveZeroes(arr)\n",
    "print(val)"
   ]
  },
  {
   "cell_type": "code",
   "execution_count": 67,
   "metadata": {},
   "outputs": [
    {
     "name": "stdout",
     "output_type": "stream",
     "text": [
      "[0, 1, 0, 3, 12]\n",
      "[1, 3, 12, 0, 0]\n",
      "[0]\n",
      "[0]\n",
      "[0, 0, 1, 1, 1, 2, 2, 3, 3, 4]\n",
      "[1, 1, 1, 2, 2, 3, 3, 4, 0, 0]\n",
      "[1, 0, 2, 3, 2, 0, 0, 4, 5, 1]\n",
      "[1, 2, 3, 2, 4, 5, 1, 0, 0, 0]\n"
     ]
    }
   ],
   "source": [
    "def MoveZeroes(arr):\n",
    "    length=len(arr)\n",
    "    temp=[]\n",
    "    j=0\n",
    "    for i in range(0,length,1):\n",
    "        if arr[i]!=0:\n",
    "            temp.append(arr[i])\n",
    "            j=j+1\n",
    "        else:\n",
    "            continue\n",
    "    temlength=len(temp)\n",
    "    \n",
    "    zero_count = len(arr) - len(temp)    \n",
    "    temp= temp + [0] * zero_count\n",
    "    return temp\n",
    "    \n",
    "    \n",
    "arr=[0,1,0,3,12]\n",
    "print(arr)\n",
    "val=MoveZeroes(arr)\n",
    "print(val)\n",
    "\n",
    "arr=[0]\n",
    "print(arr)\n",
    "val=MoveZeroes(arr)\n",
    "print(val)\n",
    "\n",
    "arr = [0, 0, 1, 1, 1, 2, 2, 3, 3, 4]\n",
    "print(arr)\n",
    "val=MoveZeroes(arr)\n",
    "print(val)\n",
    "\n",
    "arr=[1,0,2,3,2,0,0,4,5,1]\n",
    "print(arr)\n",
    "val=MoveZeroes(arr)\n",
    "print(val)"
   ]
  },
  {
   "cell_type": "code",
   "execution_count": 70,
   "metadata": {},
   "outputs": [
    {
     "name": "stdout",
     "output_type": "stream",
     "text": [
      "[0, 1, 0, 3, 12]\n",
      "[1, 3, 12, 0, 0]\n",
      "[0]\n",
      "[0]\n",
      "[0, 0, 1, 1, 1, 2, 2, 3, 3, 4]\n",
      "[1, 1, 1, 2, 2, 3, 3, 4, 0, 0]\n",
      "[1, 0, 2, 3, 2, 0, 0, 4, 5, 1]\n",
      "[1, 2, 3, 2, 4, 5, 1, 0, 0, 0]\n"
     ]
    }
   ],
   "source": [
    "def MoveZeroes(arr):\n",
    "    length=len(arr)\n",
    "    temp=[]\n",
    "    j=-1\n",
    "    \n",
    "    for k in range(0,length,1):\n",
    "        if arr[k]==0:\n",
    "            j=k\n",
    "            break\n",
    "        \n",
    "    for i in range(j+1,length,1):\n",
    "        if arr[i]!=0:\n",
    "            arr[i],arr[j]=arr[j],arr[i]\n",
    "            j=j+1\n",
    "        \n",
    "   \n",
    "    return arr\n",
    "    \n",
    "    \n",
    "arr=[0,1,0,3,12]\n",
    "print(arr)\n",
    "val=MoveZeroes(arr)\n",
    "print(val)\n",
    "\n",
    "arr=[0]\n",
    "print(arr)\n",
    "val=MoveZeroes(arr)\n",
    "print(val)\n",
    "\n",
    "arr = [0, 0, 1, 1, 1, 2, 2, 3, 3, 4]\n",
    "print(arr)\n",
    "val=MoveZeroes(arr)\n",
    "print(val)\n",
    "\n",
    "arr=[1,0,2,3,2,0,0,4,5,1]\n",
    "print(arr)\n",
    "val=MoveZeroes(arr)\n",
    "print(val)"
   ]
  },
  {
   "cell_type": "markdown",
   "metadata": {},
   "source": [
    "# linear search"
   ]
  },
  {
   "cell_type": "code",
   "execution_count": 71,
   "metadata": {},
   "outputs": [
    {
     "name": "stdout",
     "output_type": "stream",
     "text": [
      "Index of the 4 in  array\n",
      "[0, 1, 2]\n"
     ]
    }
   ],
   "source": [
    "def linaerserach(arr,k):\n",
    "    length=len(arr)\n",
    "    temp=[]\n",
    "    for i in range(0,length,1):\n",
    "        if arr[i]==k:\n",
    "            temp.append(i)\n",
    "            \n",
    "    return temp\n",
    "\n",
    "arr=[4,4,4,3,3,5,5,6,8]\n",
    "val=linaerserach(arr,4)\n",
    "print(\"Index of the 4 in  array\")\n",
    "print(val)"
   ]
  },
  {
   "cell_type": "markdown",
   "metadata": {},
   "source": [
    "# Union of two sorted array"
   ]
  },
  {
   "cell_type": "code",
   "execution_count": 72,
   "metadata": {},
   "outputs": [
    {
     "name": "stdout",
     "output_type": "stream",
     "text": [
      "[1, 2, 3, 4, 5, 6]\n",
      "Test Case 1: [1, 2, 3, 4, 5, 6]\n",
      "Test Case 2a: [1, 2, 3, 4]\n",
      "Test Case 2b: [5, 6, 7]\n",
      "Test Case 3: [1, 2, 3]\n",
      "Test Case 4: [1, 2, 3, 4, 5, 6, 7, 8]\n",
      "Test Case 5a: [5]\n",
      "Test Case 5b: [7, 8]\n",
      "Test Case 6: [1, 2, 3, 4, 5]\n",
      "Test Case 7: [-5, -4, -3, -2, -1, 0, 1, 2, 3]\n",
      "Test Case 8: [1, 2, 3, 4, 5]\n"
     ]
    }
   ],
   "source": [
    "def unionOfSortedArray(arr1,arr2):\n",
    "    result = sorted(set(arr1).union(set(arr2)))\n",
    "    return result\n",
    "\n",
    "arr1=[1,1,2,3,4,5]\n",
    "arr2=[2,3,4,4,5,6]\n",
    "val=unionOfSortedArray(arr1,arr2)\n",
    "print(val)\n",
    "\n",
    "\n",
    "# ✅ Test Case 1: Basic Test (With Duplicates)\n",
    "arr1 = [1, 1, 2, 3, 4, 5]\n",
    "arr2 = [2, 3, 4, 4, 5, 6]\n",
    "print(\"Test Case 1:\", unionOfSortedArray(arr1, arr2))  # [1, 2, 3, 4, 5, 6]\n",
    "\n",
    "# ✅ Test Case 2: One Array is Empty\n",
    "arr1 = []\n",
    "arr2 = [1, 2, 3, 4]\n",
    "print(\"Test Case 2a:\", unionOfSortedArray(arr1, arr2))  # [1, 2, 3, 4]\n",
    "\n",
    "arr1 = [5, 6, 7]\n",
    "arr2 = []\n",
    "print(\"Test Case 2b:\", unionOfSortedArray(arr1, arr2))  # [5, 6, 7]\n",
    "\n",
    "# ✅ Test Case 3: Both Arrays are Identical\n",
    "arr1 = [1, 2, 3]\n",
    "arr2 = [1, 2, 3]\n",
    "print(\"Test Case 3:\", unionOfSortedArray(arr1, arr2))  # [1, 2, 3]\n",
    "\n",
    "# ✅ Test Case 4: No Common Elements\n",
    "arr1 = [1, 3, 5, 7]\n",
    "arr2 = [2, 4, 6, 8]\n",
    "print(\"Test Case 4:\", unionOfSortedArray(arr1, arr2))  # [1, 2, 3, 4, 5, 6, 7, 8]\n",
    "\n",
    "# ✅ Test Case 5: Single Element in Both Arrays\n",
    "arr1 = [5]\n",
    "arr2 = [5]\n",
    "print(\"Test Case 5a:\", unionOfSortedArray(arr1, arr2))  # [5]\n",
    "\n",
    "arr1 = [7]\n",
    "arr2 = [8]\n",
    "print(\"Test Case 5b:\", unionOfSortedArray(arr1, arr2))  # [7, 8]\n",
    "\n",
    "# ✅ Test Case 6: One Element in One Array, Multiple in Another\n",
    "arr1 = [4]\n",
    "arr2 = [1, 2, 3, 4, 5]\n",
    "print(\"Test Case 6:\", unionOfSortedArray(arr1, arr2))  # [1, 2, 3, 4, 5]\n",
    "\n",
    "# ✅ Test Case 7: Negative Numbers and Zero\n",
    "arr1 = [-5, -3, -1, 0, 1]\n",
    "arr2 = [-4, -2, 0, 2, 3]\n",
    "print(\"Test Case 7:\", unionOfSortedArray(arr1, arr2))  # [-5, -4, -3, -2, -1, 0, 1, 2, 3]\n",
    "\n",
    "# ✅ Test Case 8: Large Arrays with Repeated Elements\n",
    "arr1 = [1, 1, 1, 2, 2, 3, 3]\n",
    "arr2 = [2, 2, 3, 4, 4, 5, 5]\n",
    "print(\"Test Case 8:\", unionOfSortedArray(arr1, arr2))  # [1, 2, 3, 4, 5]\n"
   ]
  },
  {
   "cell_type": "code",
   "execution_count": 74,
   "metadata": {},
   "outputs": [
    {
     "name": "stdout",
     "output_type": "stream",
     "text": [
      "[1, 2, 3, 4, 5, 6]\n",
      "Test Case 1: [1, 2, 3, 4, 5, 6]\n",
      "Test Case 2a: [1, 2, 3, 4]\n",
      "Test Case 2b: [5, 6, 7]\n",
      "Test Case 3: [1, 2, 3]\n",
      "Test Case 4: [1, 3, 5, 7, 2, 4, 6, 8]\n",
      "Test Case 5a: [5]\n",
      "Test Case 5b: [7, 8]\n",
      "Test Case 6: [4, 1, 2, 3, 5]\n",
      "Test Case 7: [-5, -3, -1, 0, 1, -4, -2, 2, 3]\n",
      "Test Case 8: [1, 2, 3, 4, 5]\n"
     ]
    }
   ],
   "source": [
    "def unionOfSortedArray(arr1,arr2):\n",
    "    result=[]\n",
    "    set1=set(arr1)\n",
    "    set2=set(arr2)\n",
    "    for i in range(0,len(arr1),1):\n",
    "        if arr1[i] not in result:\n",
    "            result.append(arr1[i])\n",
    "        pass\n",
    "        \n",
    "    for i in range(0,len(arr2),1):\n",
    "        if arr2[i] not in result:\n",
    "            result.append(arr2[i])\n",
    "        pass\n",
    "        \n",
    "        \n",
    "    return result\n",
    "\n",
    "arr1=[1,1,2,3,4,5]\n",
    "arr2=[2,3,4,4,5,6]\n",
    "val=unionOfSortedArray(arr1,arr2)\n",
    "print(val)\n",
    "\n",
    "\n",
    "# ✅ Test Case 1: Basic Test (With Duplicates)\n",
    "arr1 = [1, 1, 2, 3, 4, 5]\n",
    "arr2 = [2, 3, 4, 4, 5, 6]\n",
    "print(\"Test Case 1:\", unionOfSortedArray(arr1, arr2))  # [1, 2, 3, 4, 5, 6]\n",
    "\n",
    "# ✅ Test Case 2: One Array is Empty\n",
    "arr1 = []\n",
    "arr2 = [1, 2, 3, 4]\n",
    "print(\"Test Case 2a:\", unionOfSortedArray(arr1, arr2))  # [1, 2, 3, 4]\n",
    "\n",
    "arr1 = [5, 6, 7]\n",
    "arr2 = []\n",
    "print(\"Test Case 2b:\", unionOfSortedArray(arr1, arr2))  # [5, 6, 7]\n",
    "\n",
    "# ✅ Test Case 3: Both Arrays are Identical\n",
    "arr1 = [1, 2, 3]\n",
    "arr2 = [1, 2, 3]\n",
    "print(\"Test Case 3:\", unionOfSortedArray(arr1, arr2))  # [1, 2, 3]\n",
    "\n",
    "# ✅ Test Case 4: No Common Elements\n",
    "arr1 = [1, 3, 5, 7]\n",
    "arr2 = [2, 4, 6, 8]\n",
    "print(\"Test Case 4:\", unionOfSortedArray(arr1, arr2))  # [1, 2, 3, 4, 5, 6, 7, 8]\n",
    "\n",
    "# ✅ Test Case 5: Single Element in Both Arrays\n",
    "arr1 = [5]\n",
    "arr2 = [5]\n",
    "print(\"Test Case 5a:\", unionOfSortedArray(arr1, arr2))  # [5]\n",
    "\n",
    "arr1 = [7]\n",
    "arr2 = [8]\n",
    "print(\"Test Case 5b:\", unionOfSortedArray(arr1, arr2))  # [7, 8]\n",
    "\n",
    "# ✅ Test Case 6: One Element in One Array, Multiple in Another\n",
    "arr1 = [4]\n",
    "arr2 = [1, 2, 3, 4, 5]\n",
    "print(\"Test Case 6:\", unionOfSortedArray(arr1, arr2))  # [1, 2, 3, 4, 5]\n",
    "\n",
    "# ✅ Test Case 7: Negative Numbers and Zero\n",
    "arr1 = [-5, -3, -1, 0, 1]\n",
    "arr2 = [-4, -2, 0, 2, 3]\n",
    "print(\"Test Case 7:\", unionOfSortedArray(arr1, arr2))  # [-5, -4, -3, -2, -1, 0, 1, 2, 3]\n",
    "\n",
    "# ✅ Test Case 8: Large Arrays with Repeated Elements\n",
    "arr1 = [1, 1, 1, 2, 2, 3, 3]\n",
    "arr2 = [2, 2, 3, 4, 4, 5, 5]\n",
    "print(\"Test Case 8:\", unionOfSortedArray(arr1, arr2))  # [1, 2, 3, 4, 5]\n"
   ]
  },
  {
   "cell_type": "code",
   "execution_count": null,
   "metadata": {},
   "outputs": [],
   "source": [
    "def unionOfSortedArray(arr1,arr2):\n",
    "    result=[]\n",
    "    set1=set(arr1)\n",
    "    set2=set(arr2)\n",
    "    for i in range(0,len(arr1),1):\n",
    "        if arr1[i] not in result:\n",
    "            result.append(arr1[i])\n",
    "        pass\n",
    "        \n",
    "    for i in range(0,len(arr2),1):\n",
    "        if arr2[i] not in result:\n",
    "            result.append(arr2[i])\n",
    "        pass\n",
    "        \n",
    "        \n",
    "    return result\n",
    "\n",
    "arr1=[1,1,2,3,4,5]\n",
    "arr2=[2,3,4,4,5,6]\n",
    "val=unionOfSortedArray(arr1,arr2)\n",
    "print(val)\n",
    "\n",
    "\n",
    "# ✅ Test Case 1: Basic Test (With Duplicates)\n",
    "arr1 = [1, 1, 2, 3, 4, 5]\n",
    "arr2 = [2, 3, 4, 4, 5, 6]\n",
    "print(\"Test Case 1:\", unionOfSortedArray(arr1, arr2))  # [1, 2, 3, 4, 5, 6]\n",
    "\n",
    "# ✅ Test Case 2: One Array is Empty\n",
    "arr1 = []\n",
    "arr2 = [1, 2, 3, 4]\n",
    "print(\"Test Case 2a:\", unionOfSortedArray(arr1, arr2))  # [1, 2, 3, 4]\n",
    "\n",
    "arr1 = [5, 6, 7]\n",
    "arr2 = []\n",
    "print(\"Test Case 2b:\", unionOfSortedArray(arr1, arr2))  # [5, 6, 7]\n",
    "\n",
    "# ✅ Test Case 3: Both Arrays are Identical\n",
    "arr1 = [1, 2, 3]\n",
    "arr2 = [1, 2, 3]\n",
    "print(\"Test Case 3:\", unionOfSortedArray(arr1, arr2))  # [1, 2, 3]\n",
    "\n",
    "# ✅ Test Case 4: No Common Elements\n",
    "arr1 = [1, 3, 5, 7]\n",
    "arr2 = [2, 4, 6, 8]\n",
    "print(\"Test Case 4:\", unionOfSortedArray(arr1, arr2))  # [1, 2, 3, 4, 5, 6, 7, 8]\n",
    "\n",
    "# ✅ Test Case 5: Single Element in Both Arrays\n",
    "arr1 = [5]\n",
    "arr2 = [5]\n",
    "print(\"Test Case 5a:\", unionOfSortedArray(arr1, arr2))  # [5]\n",
    "\n",
    "arr1 = [7]\n",
    "arr2 = [8]\n",
    "print(\"Test Case 5b:\", unionOfSortedArray(arr1, arr2))  # [7, 8]\n",
    "\n",
    "# ✅ Test Case 6: One Element in One Array, Multiple in Another\n",
    "arr1 = [4]\n",
    "arr2 = [1, 2, 3, 4, 5]\n",
    "print(\"Test Case 6:\", unionOfSortedArray(arr1, arr2))  # [1, 2, 3, 4, 5]\n",
    "\n",
    "# ✅ Test Case 7: Negative Numbers and Zero\n",
    "arr1 = [-5, -3, -1, 0, 1]\n",
    "arr2 = [-4, -2, 0, 2, 3]\n",
    "print(\"Test Case 7:\", unionOfSortedArray(arr1, arr2))  # [-5, -4, -3, -2, -1, 0, 1, 2, 3]\n",
    "\n",
    "# ✅ Test Case 8: Large Arrays with Repeated Elements\n",
    "arr1 = [1, 1, 1, 2, 2, 3, 3]\n",
    "arr2 = [2, 2, 3, 4, 4, 5, 5]\n",
    "print(\"Test Case 8:\", unionOfSortedArray(arr1, arr2))  # [1, 2, 3, 4, 5]\n"
   ]
  },
  {
   "cell_type": "code",
   "execution_count": 75,
   "metadata": {},
   "outputs": [
    {
     "name": "stdout",
     "output_type": "stream",
     "text": [
      "[1, 2, 3, 4, 5, 6]\n"
     ]
    }
   ],
   "source": [
    "def unionOfSortedArray(a, b):\n",
    "    n1 = len(a)\n",
    "    n2 = len(b)\n",
    "    i = 0\n",
    "    j = 0\n",
    "    unionArr = []\n",
    "\n",
    "    # Traverse both arrays\n",
    "    while i < n1 and j < n2:\n",
    "        if a[i] < b[j]:\n",
    "            if len(unionArr) == 0 or unionArr[-1] != a[i]:\n",
    "                unionArr.append(a[i])\n",
    "            i += 1\n",
    "        else:\n",
    "            if len(unionArr) == 0 or unionArr[-1] != b[j]:\n",
    "                unionArr.append(b[j])\n",
    "            j += 1\n",
    "\n",
    "    # Remaining elements from array b\n",
    "    while j < n2:\n",
    "        if len(unionArr) == 0 or unionArr[-1] != b[j]:\n",
    "            unionArr.append(b[j])\n",
    "        j += 1\n",
    "\n",
    "    # Remaining elements from array a\n",
    "    while i < n1:\n",
    "        if len(unionArr) == 0 or unionArr[-1] != a[i]:\n",
    "            unionArr.append(a[i])\n",
    "        i += 1\n",
    "\n",
    "    return unionArr\n",
    "\n",
    "# Example usage\n",
    "a = [1, 1, 2, 3, 4, 5]\n",
    "b = [2, 3, 4, 4, 5, 6]\n",
    "print(unionOfSortedArray(a, b))  # Output: [1, 2, 3, 4, 5, 6]\n"
   ]
  },
  {
   "cell_type": "markdown",
   "metadata": {},
   "source": [
    "# Insertion of 2 sorted array"
   ]
  },
  {
   "cell_type": "code",
   "execution_count": 76,
   "metadata": {},
   "outputs": [
    {
     "name": "stdout",
     "output_type": "stream",
     "text": [
      "[2, 3, 5]\n",
      "[2, 3]\n",
      "[]\n"
     ]
    }
   ],
   "source": [
    "def intersectionBruteForce(arr1, arr2):\n",
    "    result = []\n",
    "    for i in range(len(arr1)):\n",
    "        for j in range(len(arr2)):\n",
    "            if arr1[i] == arr2[j] and arr1[i] not in result:\n",
    "                result.append(arr1[i])\n",
    "    return result\n",
    "\n",
    "# Test Cases\n",
    "print(intersectionBruteForce([1, 2, 2, 3, 4, 5], [2, 2, 3, 5, 6]))  # Output: [2, 3, 5]\n",
    "print(intersectionBruteForce([1, 1, 2, 3], [2, 3, 4]))              # Output: [2, 3]\n",
    "print(intersectionBruteForce([1, 2, 3, 4], [5, 6, 7, 8]))           # Output: []\n"
   ]
  },
  {
   "cell_type": "code",
   "execution_count": 78,
   "metadata": {},
   "outputs": [
    {
     "name": "stdout",
     "output_type": "stream",
     "text": [
      "[2, 2, 3, 5]\n",
      "[2, 3]\n",
      "[]\n"
     ]
    }
   ],
   "source": [
    "def intersectionBruteForce(arr1, arr2):\n",
    "    result = []\n",
    "    i=0\n",
    "    j=0\n",
    "    length1=len(arr1)\n",
    "    length2=len(arr2)\n",
    "    while i<length1 and j<length2:\n",
    "        if arr1[i]<arr2[j]:\n",
    "            i=i+1\n",
    "        elif arr1[i]>arr2[j]:\n",
    "            j=j+1\n",
    "        else:\n",
    "            result.append(arr1[i])\n",
    "            i=i+1\n",
    "            j=j+1\n",
    "        \n",
    "    return result\n",
    "\n",
    "# Test Cases\n",
    "print(intersectionBruteForce([1, 2, 2, 3, 4, 5], [2, 2, 3, 5, 6]))  # Output: [2, 3, 5]\n",
    "print(intersectionBruteForce([1, 1, 2, 3], [2, 3, 4]))              # Output: [2, 3]\n",
    "print(intersectionBruteForce([1, 2, 3, 4], [5, 6, 7, 8])) "
   ]
  },
  {
   "cell_type": "markdown",
   "metadata": {},
   "source": [
    "# finding the missing number"
   ]
  },
  {
   "cell_type": "code",
   "execution_count": 91,
   "metadata": {},
   "outputs": [
    {
     "name": "stdout",
     "output_type": "stream",
     "text": [
      "List of all the numbers:- [1, 2, 3, 4, 5]\n",
      "Array:- [1, 2, 4, 5]\n",
      "3\n",
      "List of all the numbers:- [1, 2, 3, 4, 5]\n",
      "Array:- [2, 3, 4, 5]\n",
      "1\n",
      "List of all the numbers:- [1, 2, 3, 4, 5]\n",
      "Array:- [1, 2, 3, 4]\n",
      "5\n",
      "List of all the numbers:- [1, 2]\n",
      "Array:- [2]\n",
      "1\n",
      "List of all the numbers:- [1, 2, 3, 4, 5]\n",
      "Array:- [1, 2, 3, 4, 5]\n",
      "No missing element\n"
     ]
    }
   ],
   "source": [
    "def missingnumber(arr,N):\n",
    "    list=[]\n",
    "    for i in range(1,N+1,1):\n",
    "        list.append(i)\n",
    "    print(\"List of all the numbers:-\",list)\n",
    "    print(\"Array:-\",arr)\n",
    "    for j in range(0,N,1):\n",
    "        if list[j] not in arr:\n",
    "            return list[j]\n",
    "    if len(arr)<N:\n",
    "        return N\n",
    "    if len(arr)==N:\n",
    "        return \"No missing element\"\n",
    "       \n",
    "    \n",
    "    \n",
    "print(missingnumber([1, 2, 4, 5],5))  # Output: 3\n",
    "print(missingnumber([2, 3, 4, 5],5))  # Output: 1\n",
    "print(missingnumber([1, 2, 3, 4],5))  # Output: 5\n",
    "print(missingnumber([2],2))  # Output: 1 or 3 (depends on problem constraints)\n",
    "print(missingnumber([1, 2, 3, 4, 5],5))  # Output: None or appropriate message\n",
    "\n",
    "\n"
   ]
  },
  {
   "cell_type": "code",
   "execution_count": 89,
   "metadata": {},
   "outputs": [
    {
     "name": "stdout",
     "output_type": "stream",
     "text": [
      "Generated List: [1, 2, 3, 4, 5]\n",
      "3\n",
      "Generated List: [1, 2, 3, 4, 5]\n",
      "1\n",
      "Generated List: [1, 2, 3, 4, 5]\n",
      "5\n",
      "Generated List: [1, 2]\n",
      "1\n",
      "Generated List: [1, 2, 3, 4, 5]\n",
      "None\n"
     ]
    }
   ],
   "source": [
    "def missingnumber(arr, N):\n",
    "    # Creating the list from 1 to N\n",
    "    number_list = list(range(1, N+1))\n",
    "    print(\"Generated List:\", number_list)\n",
    "    \n",
    "    # Checking for the missing number\n",
    "    for num in number_list:\n",
    "        if num not in arr:\n",
    "            return num\n",
    "    return None\n",
    "\n",
    "# Test Cases\n",
    "print(missingnumber([1, 2, 4, 5], 5))  # Output: 3\n",
    "print(missingnumber([2, 3, 4, 5], 5))  # Output: 1\n",
    "print(missingnumber([1, 2, 3, 4], 5))  # Output: 5\n",
    "print(missingnumber([2], 2))           # Output: 1\n",
    "print(missingnumber([1, 2, 3, 4, 5], 5))  # Output: None (No Missing Number)\n"
   ]
  },
  {
   "cell_type": "code",
   "execution_count": 86,
   "metadata": {},
   "outputs": [
    {
     "name": "stdout",
     "output_type": "stream",
     "text": [
      "3\n",
      "1\n",
      "5\n",
      "1\n",
      "No missing element\n"
     ]
    }
   ],
   "source": [
    "def missingnumber(arr,N):\n",
    "    list=[]\n",
    "    # for i in range(1,N,1):\n",
    "    #     list.append(i)\n",
    "    # print(list)\n",
    "    i=0\n",
    "    for j in range(1,N,1):\n",
    "       if arr[i]==j:\n",
    "           i=i+1\n",
    "           continue\n",
    "       else:\n",
    "           return j\n",
    "    if len(arr)<N:\n",
    "        return N\n",
    "    if len(arr)==N:\n",
    "        return \"No missing element\"\n",
    "       \n",
    "    \n",
    "print(missingnumber([1, 2, 4, 5],5))  # Output: 3\n",
    "print(missingnumber([2, 3, 4, 5],5))  # Output: 1\n",
    "print(missingnumber([1, 2, 3, 4],5))  # Output: 5\n",
    "print(missingnumber([2],2))  # Output: 1 or 3 (depends on problem constraints)\n",
    "print(missingnumber([1, 2, 3, 4, 5],5))  # Output: None or appropriate message\n"
   ]
  },
  {
   "cell_type": "code",
   "execution_count": 96,
   "metadata": {},
   "outputs": [
    {
     "name": "stdout",
     "output_type": "stream",
     "text": [
      " Hash Map: {1: 1, 2: 1, 3: 0, 4: 1, 5: 1}\n",
      "3\n",
      " Hash Map: {1: 0, 2: 1, 3: 1, 4: 1, 5: 1}\n",
      "1\n",
      " Hash Map: {1: 1, 2: 1, 3: 1, 4: 1, 5: 0}\n",
      "5\n",
      " Hash Map: {1: 0, 2: 1}\n",
      "1\n",
      " Hash Map: {1: 1, 2: 1, 3: 1, 4: 1, 5: 1}\n",
      "No missing element\n"
     ]
    }
   ],
   "source": [
    "def missingnumber(arr, N):\n",
    "    # Initialize hash map with values set to 0\n",
    "    hash_map = {i: 0 for i in range(1, N+1)}\n",
    "\n",
    "    # Mark present numbers in the hash map\n",
    "    for num in arr:\n",
    "        if num in hash_map:\n",
    "            hash_map[num] = 1\n",
    "    \n",
    "    print(\" Hash Map:\", hash_map)\n",
    "    # Find missing number\n",
    "    for j in range(1, N+1):\n",
    "        if hash_map[j] == 0:\n",
    "            return j\n",
    "\n",
    "    # Check if no number is missing\n",
    "    return \"No missing element\"\n",
    "\n",
    "# Test Cases\n",
    "print(missingnumber([1, 2, 4, 5], 5))  # Output: 3\n",
    "print(missingnumber([2, 3, 4, 5], 5))  # Output: 1\n",
    "print(missingnumber([1, 2, 3, 4], 5))  # Output: 5\n",
    "print(missingnumber([2], 2))           # Output: 1\n",
    "print(missingnumber([1, 2, 3, 4, 5], 5))  # Output: No missing element\n"
   ]
  },
  {
   "cell_type": "code",
   "execution_count": null,
   "metadata": {},
   "outputs": [],
   "source": [
    "def missingnumber(arr, N):\n",
    "    hash_map = {i: 0 for i in range(1, N+1)}\n",
    "    \n",
    "    for num in arr:\n",
    "        if num in hash_map:\n",
    "            hash_map[num] = 1\n",
    "    \n",
    "    for i in range(1, N+1):\n",
    "        if hash_map[i] == 0:\n",
    "            return i\n",
    "    \n",
    "    if len(arr) < N:\n",
    "        return N\n",
    "    return \"No missing element\"\n",
    "\n",
    "       \n",
    "    \n",
    "print(missingnumber([1, 2, 4, 5],5))  # Output: 3\n",
    "print(missingnumber([2, 3, 4, 5],5))  # Output: 1\n",
    "print(missingnumber([1, 2, 3, 4],5))  # Output: 5\n",
    "print(missingnumber([2],2))  # Output: 1 or 3 (depends on problem constraints)\n",
    "print(missingnumber([1, 2, 3, 4, 5],5))  # Output: None or appropriate message here is my logic make it work"
   ]
  },
  {
   "cell_type": "code",
   "execution_count": 106,
   "metadata": {},
   "outputs": [
    {
     "ename": "IndexError",
     "evalue": "list index out of range",
     "output_type": "error",
     "traceback": [
      "\u001b[1;31m---------------------------------------------------------------------------\u001b[0m",
      "\u001b[1;31mIndexError\u001b[0m                                Traceback (most recent call last)",
      "Cell \u001b[1;32mIn[106], line 26\u001b[0m\n\u001b[0;32m     22\u001b[0m     \u001b[38;5;28;01mif\u001b[39;00m \u001b[38;5;28mlen\u001b[39m(arr)\u001b[38;5;241m==\u001b[39mN:\n\u001b[0;32m     23\u001b[0m         \u001b[38;5;28;01mreturn\u001b[39;00m \u001b[38;5;124m\"\u001b[39m\u001b[38;5;124mNo missing element\u001b[39m\u001b[38;5;124m\"\u001b[39m\n\u001b[1;32m---> 26\u001b[0m \u001b[38;5;28mprint\u001b[39m(\u001b[43mmissingnumber\u001b[49m\u001b[43m(\u001b[49m\u001b[43m[\u001b[49m\u001b[38;5;241;43m1\u001b[39;49m\u001b[43m,\u001b[49m\u001b[43m \u001b[49m\u001b[38;5;241;43m2\u001b[39;49m\u001b[43m,\u001b[49m\u001b[43m \u001b[49m\u001b[38;5;241;43m4\u001b[39;49m\u001b[43m,\u001b[49m\u001b[43m \u001b[49m\u001b[38;5;241;43m5\u001b[39;49m\u001b[43m]\u001b[49m\u001b[43m,\u001b[49m\u001b[38;5;241;43m5\u001b[39;49m\u001b[43m)\u001b[49m)  \u001b[38;5;66;03m# Output: 3\u001b[39;00m\n\u001b[0;32m     27\u001b[0m \u001b[38;5;28mprint\u001b[39m(missingnumber([\u001b[38;5;241m2\u001b[39m, \u001b[38;5;241m3\u001b[39m, \u001b[38;5;241m4\u001b[39m, \u001b[38;5;241m5\u001b[39m],\u001b[38;5;241m5\u001b[39m))  \u001b[38;5;66;03m# Output: 1\u001b[39;00m\n\u001b[0;32m     28\u001b[0m \u001b[38;5;28mprint\u001b[39m(missingnumber([\u001b[38;5;241m1\u001b[39m, \u001b[38;5;241m2\u001b[39m, \u001b[38;5;241m3\u001b[39m, \u001b[38;5;241m4\u001b[39m],\u001b[38;5;241m5\u001b[39m))  \u001b[38;5;66;03m# Output: 5\u001b[39;00m\n",
      "Cell \u001b[1;32mIn[106], line 12\u001b[0m, in \u001b[0;36mmissingnumber\u001b[1;34m(arr, N)\u001b[0m\n\u001b[0;32m      9\u001b[0m j\u001b[38;5;241m=\u001b[39m\u001b[38;5;241m0\u001b[39m\n\u001b[0;32m     10\u001b[0m \u001b[38;5;28;01mfor\u001b[39;00m i \u001b[38;5;129;01min\u001b[39;00m \u001b[38;5;28mrange\u001b[39m(\u001b[38;5;241m1\u001b[39m,N\u001b[38;5;241m+\u001b[39m\u001b[38;5;241m1\u001b[39m,\u001b[38;5;241m1\u001b[39m):\n\u001b[1;32m---> 12\u001b[0m     \u001b[38;5;28;01mif\u001b[39;00m i\u001b[38;5;241m==\u001b[39m\u001b[43marr\u001b[49m\u001b[43m[\u001b[49m\u001b[43mj\u001b[49m\u001b[43m]\u001b[49m:\n\u001b[0;32m     13\u001b[0m         \u001b[38;5;28mhash\u001b[39m[j]\u001b[38;5;241m=\u001b[39m\u001b[38;5;241m1\u001b[39m\n\u001b[0;32m     14\u001b[0m     j\u001b[38;5;241m=\u001b[39mj\u001b[38;5;241m+\u001b[39m\u001b[38;5;241m1\u001b[39m\n",
      "\u001b[1;31mIndexError\u001b[0m: list index out of range"
     ]
    }
   ],
   "source": [
    "def missingnumber(arr,N):\n",
    "   \n",
    "\n",
    "\n",
    "    \n",
    "    hash = {i: 0 for i in range(1, N+1)}\n",
    "    \n",
    "\n",
    "    j=0\n",
    "    for i in range(1,N+1,1):\n",
    "        \n",
    "        if i==arr[j]:\n",
    "            hash[j]=1\n",
    "        j=j+1\n",
    "            \n",
    "    for j in range(1,N+1,1):\n",
    "        if hash[i]==0:\n",
    "            return i\n",
    "\n",
    "    if len(arr)<N:\n",
    "        return N\n",
    "    if len(arr)==N:\n",
    "        return \"No missing element\"\n",
    "       \n",
    "    \n",
    "print(missingnumber([1, 2, 4, 5],5))  # Output: 3\n",
    "print(missingnumber([2, 3, 4, 5],5))  # Output: 1\n",
    "print(missingnumber([1, 2, 3, 4],5))  # Output: 5\n",
    "print(missingnumber([2],2))  # Output: 1 or 3 (depends on problem constraints)\n",
    "print(missingnumber([1, 2, 3, 4, 5],5))  # Output: None or appropriate message here is my logic make it work"
   ]
  },
  {
   "cell_type": "markdown",
   "metadata": {},
   "source": [
    "Xor approach"
   ]
  },
  {
   "cell_type": "code",
   "execution_count": 112,
   "metadata": {},
   "outputs": [
    {
     "name": "stdout",
     "output_type": "stream",
     "text": [
      "3\n",
      "1\n",
      "5\n",
      "1\n",
      "0\n"
     ]
    }
   ],
   "source": [
    "def missingnumber(arr, N):\n",
    "    xor1=0\n",
    "    xor2=0\n",
    "    for i in range(1,N+1):\n",
    "        xor1=xor1^i\n",
    "        \n",
    "    # for i in range(N-1):\n",
    "    #     xor2=xor2^arr[i]\n",
    "    # return xor1^xor2\n",
    "    for num in arr:\n",
    "        xor2 ^= num\n",
    "    \n",
    "    return xor1 ^ xor2\n",
    "    if len(arr) < N:\n",
    "        return N\n",
    "    return \"No missing element\"\n",
    "\n",
    "       \n",
    "    \n",
    "print(missingnumber([1, 2, 4, 5],5))  # Output: 3\n",
    "print(missingnumber([2, 3, 4, 5],5))  # Output: 1\n",
    "print(missingnumber([1, 2, 3, 4],5))  # Output: 5\n",
    "print(missingnumber([2],2))  # Output: 1 or 3 (depends on problem constraints)\n",
    "print(missingnumber([1, 2, 3, 4, 5],5))  # Output: None or appropriate message here is my logic make it work"
   ]
  },
  {
   "cell_type": "markdown",
   "metadata": {},
   "source": [
    "# Maxium consecutive ones"
   ]
  },
  {
   "cell_type": "code",
   "execution_count": null,
   "metadata": {},
   "outputs": [],
   "source": [
    "def maximumConsecutiveOnes(arr):\n",
    "    pass\n",
    "\n",
    "# Test case 1\n",
    "arr = [1, 1, 0, 1, 1, 1, 0, 1, 1]\n",
    "print(\"Input:\", arr)\n",
    "val = maximumConsecutiveOnes(arr)\n",
    "print(\"Output:\", val)\n",
    "\n",
    "# Test case 2\n",
    "arr = [0, 0, 0, 0]\n",
    "print(\"Input:\", arr)\n",
    "val = maximumConsecutiveOnes(arr)\n",
    "print(\"Output:\", val)\n",
    "\n",
    "# Test case 3\n",
    "arr = [1, 1, 1, 1, 1]\n",
    "print(\"Input:\", arr)\n",
    "val = maximumConsecutiveOnes(arr)\n",
    "print(\"Output:\", val)\n",
    "\n",
    "# Test case 4\n",
    "arr = [1, 0, 1, 0, 1, 0]\n",
    "print(\"Input:\", arr)\n",
    "val = maximumConsecutiveOnes(arr)\n",
    "print(\"Output:\", val)\n",
    "\n",
    "# Test case 5\n",
    "arr = [1, 1, 0, 1, 1, 0, 0, 1, 1, 1, 1]\n",
    "print(\"Input:\", arr)\n",
    "val = maximumConsecutiveOnes(arr)\n",
    "print(\"Output:\", val)\n",
    "\n",
    "# Test case 6\n",
    "arr = []\n",
    "print(\"Input:\", arr)\n",
    "val = maximumConsecutiveOnes(arr)\n",
    "print(\"Output:\", val)"
   ]
  },
  {
   "cell_type": "code",
   "execution_count": 117,
   "metadata": {},
   "outputs": [
    {
     "name": "stdout",
     "output_type": "stream",
     "text": [
      "Test Case 1: [1, 1, 0, 1, 1, 1, 0, 1, 1]\n",
      "Maximum Consecutive Ones: 3\n",
      "\n",
      "Test Case 2: [0, 0, 0, 0]\n",
      "Maximum Consecutive Ones: 0\n",
      "\n",
      "Test Case 3: [1, 1, 1, 1, 1]\n",
      "Maximum Consecutive Ones: 5\n",
      "\n",
      "Test Case 4: [1, 0, 1, 0, 1, 0]\n",
      "Maximum Consecutive Ones: 1\n",
      "\n",
      "Test Case 5: [1, 1, 0, 1, 1, 0, 0, 1, 1, 1, 1]\n",
      "Maximum Consecutive Ones: 4\n",
      "\n",
      "Test Case 6: []\n",
      "Maximum Consecutive Ones: 0\n",
      "\n"
     ]
    }
   ],
   "source": [
    "def maximumConsecutiveOnes(arr):\n",
    "    left_pointer=0\n",
    "    right_pointer=0\n",
    "    length=len(arr)\n",
    "    max_length=0\n",
    "    lengthpointer=0\n",
    "    while right_pointer<length:\n",
    "        if arr[right_pointer]==1:\n",
    "            max_length=max(max_length,right_pointer-left_pointer+1)\n",
    "            \n",
    "        if arr[right_pointer]==0:\n",
    "            left_pointer=right_pointer+1\n",
    "        right_pointer=right_pointer+1    \n",
    "    return max_length\n",
    "        \n",
    "        \n",
    "    pass\n",
    "\n",
    "test_cases = [\n",
    "    [1, 1, 0, 1, 1, 1, 0, 1, 1],\n",
    "    [0, 0, 0, 0],\n",
    "    [1, 1, 1, 1, 1],\n",
    "    [1, 0, 1, 0, 1, 0],\n",
    "    [1, 1, 0, 1, 1, 0, 0, 1, 1, 1, 1],\n",
    "    []\n",
    "]\n",
    "\n",
    "for i, arr in enumerate(test_cases, 1):\n",
    "    print(f\"Test Case {i}: {arr}\")\n",
    "    val = maximumConsecutiveOnes(arr)\n",
    "    print(f\"Maximum Consecutive Ones: {val}\\n\")"
   ]
  },
  {
   "cell_type": "code",
   "execution_count": 114,
   "metadata": {},
   "outputs": [
    {
     "name": "stdout",
     "output_type": "stream",
     "text": [
      "Test Case 1: [1, 1, 0, 1, 1, 1, 0, 1, 1]\n",
      "Maximum Consecutive Ones: 3\n",
      "\n",
      "Test Case 2: [0, 0, 0, 0]\n",
      "Maximum Consecutive Ones: 0\n",
      "\n",
      "Test Case 3: [1, 1, 1, 1, 1]\n",
      "Maximum Consecutive Ones: 5\n",
      "\n",
      "Test Case 4: [1, 0, 1, 0, 1, 0]\n",
      "Maximum Consecutive Ones: 1\n",
      "\n",
      "Test Case 5: [1, 1, 0, 1, 1, 0, 0, 1, 1, 1, 1]\n",
      "Maximum Consecutive Ones: 4\n",
      "\n",
      "Test Case 6: []\n",
      "Maximum Consecutive Ones: 0\n",
      "\n"
     ]
    }
   ],
   "source": [
    "def maximumConsecutiveOnes(arr):\n",
    "    left_pointer = 0\n",
    "    right_pointer = 0\n",
    "    length = len(arr)\n",
    "    max_length = 0\n",
    "\n",
    "    while right_pointer < length:\n",
    "        if arr[right_pointer] == 1:\n",
    "            max_length = max(max_length, right_pointer - left_pointer + 1)\n",
    "        else:\n",
    "            left_pointer = right_pointer + 1\n",
    "        right_pointer += 1\n",
    "\n",
    "    return max_length\n",
    "\n",
    "test_cases = [\n",
    "    [1, 1, 0, 1, 1, 1, 0, 1, 1],\n",
    "    [0, 0, 0, 0],\n",
    "    [1, 1, 1, 1, 1],\n",
    "    [1, 0, 1, 0, 1, 0],\n",
    "    [1, 1, 0, 1, 1, 0, 0, 1, 1, 1, 1],\n",
    "    []\n",
    "]\n",
    "\n",
    "for i, arr in enumerate(test_cases, 1):\n",
    "    print(f\"Test Case {i}: {arr}\")\n",
    "    val = maximumConsecutiveOnes(arr)\n",
    "    print(f\"Maximum Consecutive Ones: {val}\\n\")"
   ]
  },
  {
   "cell_type": "markdown",
   "metadata": {},
   "source": [
    "# find the number that apperas ones and one that appears twice"
   ]
  },
  {
   "cell_type": "markdown",
   "metadata": {},
   "source": [
    "Brute"
   ]
  },
  {
   "cell_type": "code",
   "execution_count": null,
   "metadata": {},
   "outputs": [
    {
     "name": "stdout",
     "output_type": "stream",
     "text": [
      "2\n",
      "1\n",
      "2\n"
     ]
    }
   ],
   "source": [
    "def numberapperas(arr):\n",
    "    for i in range(0,len(arr),1):\n",
    "        num=arr[i]\n",
    "        count=0\n",
    "        for j in range(0,len(arr),1):\n",
    "            if arr[j]==num:\n",
    "                count=count+1\n",
    "                \n",
    "        if count==1:\n",
    "            return num\n",
    "    \n",
    "\n",
    "arr=[1,1,2,3,3,4,4]\n",
    "val=numberapperas(arr)\n",
    "print(val)\n",
    "\n",
    "arr=[1,2,2,3,3,4,4]\n",
    "val=numberapperas(arr)\n",
    "print(val)\n",
    "\n",
    "\n",
    "arr=[1,1,2,3,3,1,4]\n",
    "val=numberapperas(arr)\n",
    "print(val)"
   ]
  },
  {
   "cell_type": "markdown",
   "metadata": {},
   "source": [
    "better"
   ]
  },
  {
   "cell_type": "code",
   "execution_count": 127,
   "metadata": {},
   "outputs": [
    {
     "name": "stdout",
     "output_type": "stream",
     "text": [
      "{1: 2, 2: 1, 3: 2, 4: 2}\n",
      "2\n",
      "{1: 1, 2: 2, 3: 2, 4: 2}\n",
      "1\n",
      "{1: 2, 2: 1, 3: 2, 4: 2}\n",
      "2\n"
     ]
    }
   ],
   "source": [
    "def numberapperas(arr):\n",
    "    hash={}\n",
    "    for nums in arr:\n",
    "        hash[nums]=hash.get(nums,0)+1\n",
    "        \n",
    "    print(hash)\n",
    "    for key,value in hash.items():\n",
    "        if hash[key]==1:\n",
    "            return key\n",
    "\n",
    "arr=[1,1,2,3,3,4,4]\n",
    "val=numberapperas(arr)\n",
    "print(val)\n",
    "\n",
    "arr=[1,2,2,3,3,4,4]\n",
    "val=numberapperas(arr)\n",
    "print(val)\n",
    "\n",
    "\n",
    "arr=[1,1,2,3,3,4,4]\n",
    "val=numberapperas(arr)\n",
    "print(val)"
   ]
  },
  {
   "cell_type": "code",
   "execution_count": 126,
   "metadata": {},
   "outputs": [
    {
     "name": "stdout",
     "output_type": "stream",
     "text": [
      "2\n",
      "1\n",
      "2\n"
     ]
    }
   ],
   "source": [
    "def numberapperas(arr):\n",
    "    xor=0\n",
    "    for i in range(0,len(arr),1):\n",
    "        xor=xor^arr[i]\n",
    "    return xor\n",
    "    \n",
    "\n",
    "arr=[1,1,2,3,3,4,4]\n",
    "val=numberapperas(arr)\n",
    "print(val)\n",
    "\n",
    "arr=[1,2,2,3,3,4,4]\n",
    "val=numberapperas(arr)\n",
    "print(val)\n",
    "\n",
    "\n",
    "arr=[1,1,2,3,3,4,4]\n",
    "val=numberapperas(arr)\n",
    "print(val)"
   ]
  },
  {
   "cell_type": "markdown",
   "metadata": {},
   "source": [
    "# longest subarray with sum k positives"
   ]
  },
  {
   "cell_type": "code",
   "execution_count": 137,
   "metadata": {},
   "outputs": [
    {
     "name": "stdout",
     "output_type": "stream",
     "text": [
      "Array: [1, 2, 3, 1, 1, 1, 1, 4, 2, 3], k: 6\n",
      "Longest Subarray with Sum 6: 4\n",
      "\n",
      "Array: [-1, -2, -3, -4], k: -6\n",
      "Longest Subarray with Sum -6: 3\n",
      "\n",
      "Array: [1, 2, 3, 4, 5], k: 20\n",
      "Longest Subarray with Sum 20: 0\n",
      "\n",
      "Array: [3, 1, 4, 2, 1, 2, 3], k: 6\n",
      "Longest Subarray with Sum 6: 3\n",
      "\n",
      "Array: [5, 6, 7, 8, 9], k: 7\n",
      "Longest Subarray with Sum 7: 1\n",
      "\n",
      "Array: [1, 2, 3, 7, 5], k: 12\n",
      "Longest Subarray with Sum 12: 3\n",
      "\n"
     ]
    }
   ],
   "source": [
    "def longestSubArraySum_k(arr,k):\n",
    "\n",
    "    subarray=0\n",
    "    maxlen=0\n",
    "    for i in range(0,len(arr),1):\n",
    "        subarray=0\n",
    "        for j in range(i,len(arr),1):\n",
    "            subarray=arr[j]+subarray\n",
    "            if subarray==k:\n",
    "                maxlen=max(maxlen,j-i+1)\n",
    "                \n",
    "    return maxlen\n",
    "                \n",
    "        \n",
    "\n",
    "    \n",
    "# Test cases\n",
    "test_cases = [\n",
    "    ([1, 2, 3, 1, 1, 1, 1, 4, 2, 3], 6),       # Expected output: 4\n",
    "    ([-1, -2, -3, -4], -6),                     # Expected output: 2\n",
    "    ([1, 2, 3, 4, 5], 20),                      # Expected output: 0\n",
    "    ([3, 1, 4, 2, 1, 2, 3], 6),                 # Expected output: 3\n",
    "    ([5, 6, 7, 8, 9], 7),                       # Expected output: 1\n",
    "    ([1, 2, 3, 7, 5], 12),                      # Expected output: 2\n",
    "]\n",
    "\n",
    "# Run test cases\n",
    "for arr, k in test_cases:\n",
    "    print(f\"Array: {arr}, k: {k}\")\n",
    "    result = longestSubArraySum_k(arr, k)\n",
    "    print(f\"Longest Subarray with Sum {k}: {result}\\n\")"
   ]
  },
  {
   "cell_type": "code",
   "execution_count": 146,
   "metadata": {},
   "outputs": [
    {
     "name": "stdout",
     "output_type": "stream",
     "text": [
      "Array: [1, 2, 3, 1, 1, 1, 1, 4, 2, 3], k: 6\n",
      "Longest Subarray with Sum 6: 4\n",
      "\n",
      "Array: [-1, -2, -3, -4], k: -6\n",
      "Longest Subarray with Sum -6: 0\n",
      "\n",
      "Array: [1, 2, 3, 4, 5], k: 20\n",
      "Longest Subarray with Sum 20: 0\n",
      "\n",
      "Array: [3, 1, 4, 2, 1, 2, 3], k: 6\n",
      "Longest Subarray with Sum 6: 3\n",
      "\n",
      "Array: [5, 6, 7, 8, 9], k: 7\n",
      "Longest Subarray with Sum 7: 1\n",
      "\n",
      "Array: [1, 2, 3, 7, 5], k: 12\n",
      "Longest Subarray with Sum 12: 3\n",
      "\n"
     ]
    }
   ],
   "source": [
    "def longestSubArraySum_k(arr, k):\n",
    "    maxlen = 0\n",
    "    l=0\n",
    "    r=0\n",
    "    subarraysum=0\n",
    "    while r<len(arr):\n",
    "        \n",
    "        subarraysum+=arr[r]\n",
    "        \n",
    "        while subarraysum>k and l <= r:\n",
    "            subarraysum-=arr[l]\n",
    "            l=l+1\n",
    "        \n",
    "        if subarraysum==k :\n",
    "            maxlen=max(maxlen,r-l+1)\n",
    "            \n",
    "            \n",
    "        r=r+1\n",
    "        \n",
    "    return maxlen\n",
    "    \n",
    "                \n",
    "    \n",
    "# Test cases\n",
    "test_cases = [\n",
    "    ([1, 2, 3, 1, 1, 1, 1, 4, 2, 3], 6),       # Expected output: 4\n",
    "    ([-1, -2, -3, -4], -6),                     # Expected output: 2\n",
    "    ([1, 2, 3, 4, 5], 20),                      # Expected output: 0\n",
    "    ([3, 1, 4, 2, 1, 2, 3], 6),                 # Expected output: 3\n",
    "    ([5, 6, 7, 8, 9], 7),                       # Expected output: 1\n",
    "    ([1, 2, 3, 7, 5], 12),                      # Expected output: 2\n",
    "]\n",
    "\n",
    "# Run test cases\n",
    "for arr, k in test_cases:\n",
    "    print(f\"Array: {arr}, k: {k}\")\n",
    "    result = longestSubArraySum_k(arr, k)\n",
    "    print(f\"Longest Subarray with Sum {k}: {result}\\n\")\n"
   ]
  },
  {
   "cell_type": "code",
   "execution_count": 1,
   "metadata": {},
   "outputs": [
    {
     "name": "stdout",
     "output_type": "stream",
     "text": [
      "4\n",
      "3\n",
      "0\n",
      "3\n",
      "1\n",
      "3\n"
     ]
    }
   ],
   "source": [
    "def longestSubArraySum_k(arr, k):\n",
    "    prefix_sum = 0\n",
    "    maxlen = 0\n",
    "    hash_map = {}  # Start with an empty dictionary\n",
    "\n",
    "    for i in range(len(arr)):\n",
    "        prefix_sum += arr[i]\n",
    "\n",
    "        # Check if the current prefix sum equals k (subarray from the beginning)\n",
    "        if prefix_sum == k:\n",
    "            maxlen = i + 1\n",
    "\n",
    "        # Check if (prefix_sum - k) exists\n",
    "        if (prefix_sum - k) in hash_map:\n",
    "            maxlen = max(maxlen, i - hash_map[prefix_sum - k])\n",
    "        \n",
    "        # Store prefix sum in hashmap\n",
    "        if prefix_sum not in hash_map:\n",
    "            hash_map[prefix_sum] = i\n",
    "\n",
    "    return maxlen\n",
    "\n",
    "# Test Cases\n",
    "print(longestSubArraySum_k([1, 2, 3, 1, 1, 1, 1, 4, 2, 3], 6))  # Output: 4\n",
    "print(longestSubArraySum_k([-1, -2, -3, -4], -6))               # Output: 2\n",
    "print(longestSubArraySum_k([1, 2, 3, 4, 5], 20))                # Output: 0\n",
    "print(longestSubArraySum_k([3, 1, 4, 2, 1, 2, 3], 6))           # Output: 3\n",
    "print(longestSubArraySum_k([5, 6, 7, 8, 9], 7))                 # Output: 1\n",
    "print(longestSubArraySum_k([1, 2, 3, 7, 5], 12))                # Output: 2\n"
   ]
  },
  {
   "cell_type": "markdown",
   "metadata": {},
   "source": [
    "# sort array of zeroes and ones"
   ]
  },
  {
   "cell_type": "markdown",
   "metadata": {},
   "source": [
    "brute force"
   ]
  },
  {
   "cell_type": "code",
   "execution_count": 2,
   "metadata": {},
   "outputs": [],
   "source": [
    "class Solution(object):\n",
    "    def sortColors(self, nums):\n",
    "        \"\"\"\n",
    "        :type nums: List[int]\n",
    "        :rtype: None Do not return anything, modify nums in-place instead.\n",
    "        \"\"\"\n",
    "        nums.sort()\n",
    "        return nums"
   ]
  },
  {
   "cell_type": "code",
   "execution_count": 5,
   "metadata": {},
   "outputs": [
    {
     "name": "stdout",
     "output_type": "stream",
     "text": [
      "{0: 4, 1: 4, 2: 4}\n",
      "[0, 1, 2, 0, 1, 2, 0, 1, 2, 0, 1, 2]\n",
      "{2: 2, 1: 2, 0: 2}\n",
      "[2, 1, 0, 2, 1, 0]\n"
     ]
    }
   ],
   "source": [
    "def sortColors( arr):\n",
    "    length=len(arr)\n",
    "    hash={}\n",
    "    for i in range(0,length,1):\n",
    "        hash[arr[i]]=hash.get(arr[i],0)+1\n",
    "    print(hash)\n",
    "    \n",
    "        \n",
    "    return arr\n",
    "\n",
    "arr=[0,1,2,0,1,2,0,1,2,0,1,2]\n",
    "val=sortColors(arr)\n",
    "print(val)\n",
    "\n",
    "arr=[2,1,0,2,1,0]\n",
    "val=sortColors(arr)\n",
    "print(val)\n"
   ]
  },
  {
   "cell_type": "code",
   "execution_count": 10,
   "metadata": {},
   "outputs": [
    {
     "name": "stdout",
     "output_type": "stream",
     "text": [
      "[0, 0, 0, 0, 1, 1, 1, 1, 2, 2, 2, 2]\n",
      "[0, 0, 1, 1, 2, 2]\n"
     ]
    }
   ],
   "source": [
    "def sortColors( arr):\n",
    "    length=len(arr)\n",
    "    count0=0\n",
    "    count1=0\n",
    "    count2=0\n",
    "    for i in range(0,length,1):\n",
    "       if arr[i]==0:\n",
    "           count0+=1\n",
    "       if arr[i]==1:\n",
    "           count1+=1\n",
    "       if arr[i]==2:\n",
    "           count2+=1\n",
    "           \n",
    "    for i in range(0,count0,1):\n",
    "        arr[i]=0\n",
    "    for j in range(count0,count1+count0,1):\n",
    "        arr[j]=1\n",
    "    for k in range(count0+count1,count0+count1+count2,1):\n",
    "        arr[k]=2\n",
    "    \n",
    "        \n",
    "    return arr\n",
    "\n",
    "arr=[0,1,2,0,1,2,0,1,2,0,1,2]\n",
    "val=sortColors(arr)\n",
    "print(val)\n",
    "\n",
    "arr=[2,1,0,2,1,0]\n",
    "val=sortColors(arr)\n",
    "print(val)\n"
   ]
  },
  {
   "cell_type": "markdown",
   "metadata": {},
   "source": [
    "# Dutch national flag"
   ]
  },
  {
   "cell_type": "code",
   "execution_count": 12,
   "metadata": {},
   "outputs": [
    {
     "name": "stdout",
     "output_type": "stream",
     "text": [
      "[0, 0, 0, 0, 1, 1, 1, 1, 2, 2, 2, 2]\n",
      "[0, 0, 1, 2, 1, 2]\n"
     ]
    }
   ],
   "source": [
    "def sortColors( arr):\n",
    "    low=0\n",
    "    mid=0\n",
    "    high=len(arr)-1\n",
    "    while mid<=high:\n",
    "        if arr[mid]==0:\n",
    "            arr[low],arr[mid]=arr[mid],arr[low]\n",
    "            low+=1\n",
    "            mid+=1\n",
    "        if arr[mid]==1:\n",
    "            mid+=1\n",
    "            \n",
    "        if arr[mid]==2:\n",
    "            arr[mid],arr[high]=arr[high],arr[mid]\n",
    "            \n",
    "            high-=1\n",
    "    \n",
    "        \n",
    "    return arr\n",
    "\n",
    "arr=[0,1,2,0,1,2,0,1,2,0,1,2]\n",
    "val=sortColors(arr)\n",
    "print(val)\n",
    "\n",
    "arr=[2,1,0,2,1,0]\n",
    "val=sortColors(arr)\n",
    "print(val)\n"
   ]
  },
  {
   "cell_type": "markdown",
   "metadata": {},
   "source": [
    "Majority Element (>n/2 times)"
   ]
  },
  {
   "cell_type": "code",
   "execution_count": 14,
   "metadata": {},
   "outputs": [
    {
     "name": "stdout",
     "output_type": "stream",
     "text": [
      "[2, 2, 3, 3, 1, 2, 2]\n",
      "2\n"
     ]
    }
   ],
   "source": [
    "def majorityElement(arr):\n",
    "    hash={}\n",
    "    for i in range(0,len(arr),1):\n",
    "        hash[arr[i]]=hash.get(arr[i],0)+1\n",
    "        if hash[arr[i]]>len(arr)/2:\n",
    "            return arr[i]\n",
    "    print(hash)\n",
    "    \n",
    "    pass\n",
    "\n",
    "arr=[2,2,3,3,1,2,2]\n",
    "print(arr)\n",
    "val=majorityElement(arr)\n",
    "print(val)"
   ]
  },
  {
   "cell_type": "code",
   "execution_count": 15,
   "metadata": {},
   "outputs": [
    {
     "name": "stdout",
     "output_type": "stream",
     "text": [
      "2\n",
      "4\n"
     ]
    }
   ],
   "source": [
    "def majorityElement(arr):\n",
    "    cnt = 0\n",
    "    el = None\n",
    "    \n",
    "    for num in arr:\n",
    "        if cnt == 0:\n",
    "            cnt = 1\n",
    "            el = num\n",
    "        elif num == el:\n",
    "            cnt += 1\n",
    "        else:\n",
    "            cnt -= 1\n",
    "    \n",
    "    return el\n",
    "\n",
    "# Test cases\n",
    "print(majorityElement([2,2,1,1,1,2,2]))  # Output: 2\n",
    "print(majorityElement([3,3,4,2,4,4,2,4,4]))  # Output: 4\n"
   ]
  },
  {
   "cell_type": "markdown",
   "metadata": {},
   "source": [
    "# Maximum subarray sum Kandanes algorithm"
   ]
  },
  {
   "cell_type": "code",
   "execution_count": 20,
   "metadata": {},
   "outputs": [
    {
     "name": "stdout",
     "output_type": "stream",
     "text": [
      "7\n"
     ]
    }
   ],
   "source": [
    "def maximumSubarraySum(arr):\n",
    "    maxsum = float('-inf')\n",
    "    for i in range(0,len(arr),1):\n",
    "        sum=0\n",
    "        for j in range(i,len(arr),1):\n",
    "            sum+=arr[j]\n",
    "            maxsum=max(maxsum,sum)\n",
    "        \n",
    "    return maxsum\n",
    "\n",
    "\n",
    "arr=[-2,-3,4,-1,-2,1,5,-3]\n",
    "val=maximumSubarraySum(arr)\n",
    "print(val)"
   ]
  },
  {
   "cell_type": "code",
   "execution_count": 23,
   "metadata": {},
   "outputs": [
    {
     "name": "stdout",
     "output_type": "stream",
     "text": [
      "7\n"
     ]
    }
   ],
   "source": [
    "def maximumSubarraySum(arr):\n",
    "    l=0\n",
    "    r=0\n",
    "    maxsum=float('-inf')\n",
    "    sum=0\n",
    "    while l<len(arr):\n",
    "        sum+=arr[r]\n",
    "        maxsum=max(maxsum,sum)\n",
    "        if r==len(arr)-1:\n",
    "            r=l\n",
    "            l=l+1\n",
    "            sum=0\n",
    "        r=r+1\n",
    "            \n",
    "        \n",
    "    return maxsum\n",
    "\n",
    "\n",
    "arr=[-2,-3,4,-1,-2,1,5,-3]\n",
    "val=maximumSubarraySum(arr)\n",
    "print(val)"
   ]
  },
  {
   "cell_type": "code",
   "execution_count": 24,
   "metadata": {},
   "outputs": [
    {
     "name": "stdout",
     "output_type": "stream",
     "text": [
      "Maximum Sum: 7\n",
      "Start Index: 2, End Index: 6\n"
     ]
    },
    {
     "data": {
      "text/plain": [
       "7"
      ]
     },
     "execution_count": 24,
     "metadata": {},
     "output_type": "execute_result"
    }
   ],
   "source": [
    "def maximumSubarraySum(arr):\n",
    "    n = len(arr)\n",
    "    max_sum = float('-inf')\n",
    "    curr_sum = 0\n",
    "    start = 0\n",
    "    ans_start = 0\n",
    "    ans_end = 0\n",
    "\n",
    "    for i in range(n):\n",
    "        if curr_sum == 0:\n",
    "            start = i\n",
    "        \n",
    "        curr_sum += arr[i]\n",
    "\n",
    "        if curr_sum > max_sum:\n",
    "            max_sum = curr_sum\n",
    "            ans_start = start\n",
    "            ans_end = i\n",
    "        \n",
    "        if curr_sum < 0:\n",
    "            curr_sum = 0\n",
    "\n",
    "    print(f\"Maximum Sum: {max_sum}\")\n",
    "    print(f\"Start Index: {ans_start}, End Index: {ans_end}\")\n",
    "    return max_sum\n",
    "\n",
    "# Test Case\n",
    "arr = [-2, -3, 4, -1, -2, 1, 5, -3]\n",
    "maximumSubarraySum(arr)\n"
   ]
  },
  {
   "cell_type": "markdown",
   "metadata": {},
   "source": [
    "# Rearrange array element by sign"
   ]
  },
  {
   "cell_type": "code",
   "execution_count": 35,
   "metadata": {},
   "outputs": [
    {
     "name": "stdout",
     "output_type": "stream",
     "text": [
      "[3, 1, -2, -5, 2, -4]\n",
      "[3, -2, 1, -5, 2, -4]\n"
     ]
    }
   ],
   "source": [
    "def rearrangeArray( arr):\n",
    "        \n",
    "    positive=[]\n",
    "    negative=[]\n",
    "    length=len(arr)\n",
    "    for i in range(0,length,1):\n",
    "        if arr[i]>=0:\n",
    "            positive.append(arr[i])\n",
    "        else:\n",
    "            negative.append(arr[i])\n",
    "\n",
    "    evenp=0\n",
    "    oddp=1\n",
    "    k=0\n",
    "    plen=len(positive)\n",
    "    for j in range(0,plen,1):\n",
    "        \n",
    "            arr[evenp]=positive[j]\n",
    "        \n",
    "            evenp=evenp+2\n",
    "    m=0\n",
    "    nlen=len(negative)\n",
    "    for j in range(0,nlen,1):\n",
    "        \n",
    "            arr[oddp]=negative[j]\n",
    "            oddp=oddp+2\n",
    "    return arr\n",
    "        \n",
    "            \n",
    "            \n",
    "arr=[3,1,-2,-5,2,-4]\n",
    "print(arr)\n",
    "val=rearrangeArray(arr)\n",
    "print(val)\n",
    "    "
   ]
  },
  {
   "cell_type": "code",
   "execution_count": 31,
   "metadata": {},
   "outputs": [],
   "source": [
    "\n",
    "def rearrangeArray( arr):\n",
    "        # Separate positive and negative numbers\n",
    "        positive = []\n",
    "        negative = []\n",
    "        for i in range(len(arr)):\n",
    "            if arr[i] >= 0:\n",
    "                positive.append(arr[i])\n",
    "            else:\n",
    "                negative.append(arr[i])\n",
    "\n",
    "        # Rearrange alternately\n",
    "        evenp = 0\n",
    "        oddp = 1\n",
    "        \n",
    "        # Fill positives at even indices\n",
    "        for k in range(len(positive)):\n",
    "            arr[evenp] = positive[k]\n",
    "            evenp += 2\n",
    "        \n",
    "        # Fill negatives at odd indices\n",
    "        for m in range(len(negative)):\n",
    "            arr[oddp] = negative[m]\n",
    "            oddp += 2\n",
    "        \n",
    "        return arr"
   ]
  },
  {
   "cell_type": "code",
   "execution_count": 32,
   "metadata": {},
   "outputs": [
    {
     "name": "stdout",
     "output_type": "stream",
     "text": [
      "[3, 1, -2, -5, 2, -4]\n",
      "[3, -2, 1, -5, 2, -4]\n"
     ]
    }
   ],
   "source": [
    "arr=[3,1,-2,-5,2,-4]\n",
    "print(arr)\n",
    "val=rearrangeArray(arr)\n",
    "print(val)"
   ]
  },
  {
   "cell_type": "markdown",
   "metadata": {},
   "source": [
    "optimal"
   ]
  },
  {
   "cell_type": "code",
   "execution_count": 36,
   "metadata": {},
   "outputs": [
    {
     "name": "stdout",
     "output_type": "stream",
     "text": [
      "[3, -2, 1, -5, 2, -4]\n"
     ]
    }
   ],
   "source": [
    "class Solution:\n",
    "    def rearrangeArray(self, nums):\n",
    "        n = len(nums)\n",
    "        ans = [0] * n\n",
    "        posIndex = 0\n",
    "        negIndex = 1\n",
    "\n",
    "        for i in range(n):\n",
    "            if nums[i] < 0:\n",
    "                ans[negIndex] = nums[i]\n",
    "                negIndex += 2\n",
    "            else:\n",
    "                ans[posIndex] = nums[i]\n",
    "                posIndex += 2\n",
    "        \n",
    "        return ans\n",
    "\n",
    "# Example Usage\n",
    "sol = Solution()\n",
    "print(sol.rearrangeArray([3, 1, -2, -5, 2, -4]))  # Output: [3, -2, 1, -5, 2, -4]\n"
   ]
  },
  {
   "cell_type": "markdown",
   "metadata": {},
   "source": [
    "Alternate"
   ]
  },
  {
   "cell_type": "code",
   "execution_count": 37,
   "metadata": {},
   "outputs": [
    {
     "name": "stdout",
     "output_type": "stream",
     "text": [
      "[3, -2, 1, -5, 2, -4]\n",
      "[4, -3, 7, -1, 5, -2, -6]\n"
     ]
    }
   ],
   "source": [
    "def alternateNumbers(arr):\n",
    "    pos = []\n",
    "    neg = []\n",
    "    \n",
    "    # Separate positive and negative numbers\n",
    "    for num in arr:\n",
    "        if num >= 0:\n",
    "            pos.append(num)\n",
    "        else:\n",
    "            neg.append(num)\n",
    "    \n",
    "    n = len(arr)\n",
    "    result = [0] * n\n",
    "\n",
    "    # Fill the result array based on size comparison\n",
    "    if len(pos) >= len(neg):\n",
    "        for i in range(len(neg)):\n",
    "            result[2 * i] = pos[i]\n",
    "            result[2 * i + 1] = neg[i]\n",
    "\n",
    "        index = len(neg) * 2\n",
    "        for i in range(len(neg), len(pos)):\n",
    "            result[index] = pos[i]\n",
    "            index += 1\n",
    "    else:\n",
    "        for i in range(len(pos)):\n",
    "            result[2 * i] = pos[i]\n",
    "            result[2 * i + 1] = neg[i]\n",
    "\n",
    "        index = len(pos) * 2\n",
    "        for i in range(len(pos), len(neg)):\n",
    "            result[index] = neg[i]\n",
    "            index += 1\n",
    "\n",
    "    return result\n",
    "\n",
    "# Example Usage\n",
    "print(alternateNumbers([3, 1, -2, -5, 2, -4]))\n",
    "print(alternateNumbers([4, -3, 7, -1, -2, 5, -6]))\n"
   ]
  }
 ],
 "metadata": {
  "kernelspec": {
   "display_name": "Python 3",
   "language": "python",
   "name": "python3"
  },
  "language_info": {
   "codemirror_mode": {
    "name": "ipython",
    "version": 3
   },
   "file_extension": ".py",
   "mimetype": "text/x-python",
   "name": "python",
   "nbconvert_exporter": "python",
   "pygments_lexer": "ipython3",
   "version": "3.13.1"
  }
 },
 "nbformat": 4,
 "nbformat_minor": 2
}
