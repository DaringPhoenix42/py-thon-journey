{
 "cells": [
  {
   "cell_type": "markdown",
   "metadata": {},
   "source": [
    "# factorial of number"
   ]
  },
  {
   "cell_type": "code",
   "execution_count": 1,
   "metadata": {},
   "outputs": [],
   "source": [
    "def factorail_of_num(num):\n",
    "    if num==1 or num==0:\n",
    "        return 1\n",
    "    else:\n",
    "        return num*factorail_of_num(num-1)\n"
   ]
  },
  {
   "cell_type": "code",
   "execution_count": 3,
   "metadata": {},
   "outputs": [
    {
     "name": "stdout",
     "output_type": "stream",
     "text": [
      "120\n"
     ]
    }
   ],
   "source": [
    "num=5\n",
    "val=factorail_of_num(5)\n",
    "print(val)"
   ]
  },
  {
   "cell_type": "code",
   "execution_count": 4,
   "metadata": {},
   "outputs": [
    {
     "name": "stdout",
     "output_type": "stream",
     "text": [
      "1\n"
     ]
    }
   ],
   "source": [
    "num=5\n",
    "val=factorail_of_num(0)\n",
    "print(val)"
   ]
  },
  {
   "cell_type": "markdown",
   "metadata": {},
   "source": [
    "# [1] Print Name 5 time"
   ]
  },
  {
   "cell_type": "code",
   "execution_count": 6,
   "metadata": {},
   "outputs": [
    {
     "name": "stdout",
     "output_type": "stream",
     "text": [
      "Dhruv Tiwari\n",
      "Dhruv Tiwari\n",
      "Dhruv Tiwari\n",
      "Dhruv Tiwari\n",
      "Dhruv Tiwari\n",
      "Dhruv Tiwari\n"
     ]
    }
   ],
   "source": [
    "count=0\n",
    "name='Dhruv Tiwari'\n",
    "def print_name_5_times(name,count):\n",
    "    if count==6:\n",
    "        return\n",
    "    print(name)\n",
    "    count=count+1\n",
    "    print_name_5_times(name,count)\n",
    "print_name_5_times(name,count)"
   ]
  },
  {
   "cell_type": "markdown",
   "metadata": {},
   "source": [
    "# [2]  Print Linearly from 1 to N"
   ]
  },
  {
   "cell_type": "code",
   "execution_count": 12,
   "metadata": {},
   "outputs": [],
   "source": [
    "def print_number(start,end):\n",
    "    if start==6:\n",
    "        return\n",
    "    print(start)\n",
    "    start=start+1\n",
    "    print_number(start,end)\n"
   ]
  },
  {
   "cell_type": "code",
   "execution_count": 14,
   "metadata": {},
   "outputs": [
    {
     "name": "stdout",
     "output_type": "stream",
     "text": [
      "1\n",
      "2\n",
      "3\n",
      "4\n",
      "5\n"
     ]
    }
   ],
   "source": [
    "end=5\n",
    "start=1\n",
    "print_number(start,end)"
   ]
  },
  {
   "cell_type": "markdown",
   "metadata": {},
   "source": [
    "# [3]  Print Linearly from N to 1 "
   ]
  },
  {
   "cell_type": "code",
   "execution_count": 15,
   "metadata": {},
   "outputs": [],
   "source": [
    "def print_number(start,end):\n",
    "    if start==0:\n",
    "        return\n",
    "    print(start)\n",
    "    start=start-1\n",
    "    print_number(start,end)"
   ]
  },
  {
   "cell_type": "code",
   "execution_count": 16,
   "metadata": {},
   "outputs": [
    {
     "name": "stdout",
     "output_type": "stream",
     "text": [
      "5\n",
      "4\n",
      "3\n",
      "2\n",
      "1\n"
     ]
    }
   ],
   "source": [
    "end=1\n",
    "start=5\n",
    "print_number(start,end)"
   ]
  },
  {
   "cell_type": "markdown",
   "metadata": {},
   "source": [
    "# [4]  Print Linearly from 1 to N using backtracking"
   ]
  },
  {
   "cell_type": "code",
   "execution_count": 17,
   "metadata": {},
   "outputs": [],
   "source": [
    "def print_number_backtracking(i,N):\n",
    "    if i<1:\n",
    "        return \n",
    "    print_number_backtracking(i-1,N)\n",
    "    print(i)"
   ]
  },
  {
   "cell_type": "code",
   "execution_count": 18,
   "metadata": {},
   "outputs": [
    {
     "name": "stdout",
     "output_type": "stream",
     "text": [
      "1\n",
      "2\n",
      "3\n",
      "4\n"
     ]
    }
   ],
   "source": [
    "num=4\n",
    "print_number_backtracking(num,num)"
   ]
  },
  {
   "cell_type": "markdown",
   "metadata": {},
   "source": [
    "# [5]  Print Linearly from N to 1  using backtracking"
   ]
  },
  {
   "cell_type": "code",
   "execution_count": 28,
   "metadata": {},
   "outputs": [
    {
     "name": "stdout",
     "output_type": "stream",
     "text": [
      "1\n",
      "2\n",
      "3\n",
      "4\n",
      "5\n"
     ]
    }
   ],
   "source": [
    "def print_number_backtracking(i, N):\n",
    "    if i < N:\n",
    "        return\n",
    "    print_number_backtracking(i - 1, N)  # Move towards N\n",
    "    print(i)  # Backtrack: Print while returning from recursion\n",
    "\n",
    "# Example Usage:\n",
    "print_number_backtracking(5, 1)\n"
   ]
  },
  {
   "cell_type": "code",
   "execution_count": 29,
   "metadata": {},
   "outputs": [],
   "source": [
    "def print_number_backtracking(i,N):\n",
    "    if i>N:\n",
    "        return \n",
    "    print_number_backtracking(i+1,N)\n",
    "    print(i)"
   ]
  },
  {
   "cell_type": "code",
   "execution_count": 31,
   "metadata": {},
   "outputs": [
    {
     "name": "stdout",
     "output_type": "stream",
     "text": [
      "5\n",
      "4\n",
      "3\n",
      "2\n",
      "1\n"
     ]
    }
   ],
   "source": [
    "print_number_backtracking(1,5)"
   ]
  },
  {
   "cell_type": "markdown",
   "metadata": {},
   "source": [
    "# [5]  sum of first n numbers"
   ]
  },
  {
   "cell_type": "markdown",
   "metadata": {},
   "source": [
    "Why Do We Need return?\n",
    "\n",
    "In Python (or any programming language with function calls), every function call creates a new execution context. If you do not return a value, Python implicitly returns None. This means:\n",
    "\n",
    "\n",
    "    Without return, the function calls will execute but will not pass values back up the recursion stack.\n",
    "    The final result would be None, and we wouldn’t get the accumulated sum."
   ]
  },
  {
   "cell_type": "code",
   "execution_count": 41,
   "metadata": {},
   "outputs": [],
   "source": [
    "def sum_of_numbers(num,sum):\n",
    "    if num<1:\n",
    "        \n",
    "        return sum\n",
    "    \n",
    "    return sum_of_numbers(num-1,sum+num)"
   ]
  },
  {
   "cell_type": "code",
   "execution_count": 42,
   "metadata": {},
   "outputs": [
    {
     "name": "stdout",
     "output_type": "stream",
     "text": [
      "15\n"
     ]
    }
   ],
   "source": [
    "num=5\n",
    "sum=0\n",
    "val=sum_of_numbers(num,sum)\n",
    "print(val)\n"
   ]
  },
  {
   "cell_type": "markdown",
   "metadata": {},
   "source": [
    "# [6]  factorial of first n numbers"
   ]
  },
  {
   "cell_type": "code",
   "execution_count": 49,
   "metadata": {},
   "outputs": [],
   "source": [
    "def fact_of_number(num,):\n",
    "    if num==0 or num==1:\n",
    "        \n",
    "        return 1\n",
    "    \n",
    "    return num * fact_of_number(num-1)"
   ]
  },
  {
   "cell_type": "code",
   "execution_count": 50,
   "metadata": {},
   "outputs": [
    {
     "name": "stdout",
     "output_type": "stream",
     "text": [
      "120\n"
     ]
    }
   ],
   "source": [
    "num=5\n",
    "val=fact_of_number(num)\n",
    "print(val)\n"
   ]
  },
  {
   "cell_type": "markdown",
   "metadata": {},
   "source": [
    "# [7] reverse the array using recursion "
   ]
  },
  {
   "cell_type": "markdown",
   "metadata": {},
   "source": [
    "My approach"
   ]
  },
  {
   "cell_type": "code",
   "execution_count": 1,
   "metadata": {},
   "outputs": [],
   "source": [
    "def reverse_array(arr,i,j):\n",
    "    if i>=j:\n",
    "        return arr\n",
    "    \n",
    "    arr[i],arr[j]=arr[j],arr[i]\n",
    "  \n",
    "\n",
    "    return  reverse_array(arr,i+1,j-1)\n",
    "\n",
    "\n",
    "    "
   ]
  },
  {
   "cell_type": "code",
   "execution_count": 2,
   "metadata": {},
   "outputs": [
    {
     "name": "stdout",
     "output_type": "stream",
     "text": [
      "[2, 11, 3, 10, 1]\n"
     ]
    }
   ],
   "source": [
    "arr=[1,10,3,11,2]\n",
    "val=reverse_array(arr,0,len(arr)-1)\n",
    "print(val)"
   ]
  },
  {
   "cell_type": "markdown",
   "metadata": {},
   "source": [
    "better approach"
   ]
  },
  {
   "cell_type": "code",
   "execution_count": 5,
   "metadata": {},
   "outputs": [],
   "source": [
    "def reverse_array(arr,i,j,N):\n",
    "    if i>=N/2:\n",
    "        return arr\n",
    "    \n",
    "    arr[i],arr[N-i-1]=arr[N-i-1],arr[i]\n",
    "  \n",
    "\n",
    "    return  reverse_array(arr,i+1,j-1,N)"
   ]
  },
  {
   "cell_type": "code",
   "execution_count": 7,
   "metadata": {},
   "outputs": [
    {
     "name": "stdout",
     "output_type": "stream",
     "text": [
      "[2, 11, 3, 10, 1]\n"
     ]
    }
   ],
   "source": [
    "arr=[1,10,3,11,2]\n",
    "N=len(arr)\n",
    "val= reverse_array(arr,0,len(arr)-1,N)\n",
    "print(val)"
   ]
  },
  {
   "cell_type": "markdown",
   "metadata": {},
   "source": [
    "# [8] palindrome using recursion "
   ]
  },
  {
   "cell_type": "code",
   "execution_count": 1,
   "metadata": {},
   "outputs": [],
   "source": [
    "def string_palindrome(str,i,N):\n",
    "    if i>=N/2:\n",
    "        return True\n",
    "    if str[i]==str[N-i-1]:\n",
    "        return string_palindrome(str,i+1,N)\n",
    "    else:\n",
    "        return False\n",
    "    \n",
    "    "
   ]
  },
  {
   "cell_type": "code",
   "execution_count": 3,
   "metadata": {},
   "outputs": [
    {
     "name": "stdout",
     "output_type": "stream",
     "text": [
      "True\n",
      "True\n"
     ]
    }
   ],
   "source": [
    "str='MADAM'\n",
    "val=string_palindrome(str,0,len(str))\n",
    "print(val)\n",
    "print(string_palindrome(\"radar\",0,5))\n"
   ]
  },
  {
   "cell_type": "markdown",
   "metadata": {},
   "source": [
    "# [9] fibonaci using recursion "
   ]
  },
  {
   "cell_type": "markdown",
   "metadata": {},
   "source": [
    "app-1"
   ]
  },
  {
   "cell_type": "code",
   "execution_count": 11,
   "metadata": {},
   "outputs": [],
   "source": [
    "def fibonacci(num):\n",
    "    if num <= 1:  # Base case\n",
    "        return num\n",
    "    return fibonacci(num-1) + fibonacci(num-2)  # Recursive case\n"
   ]
  },
  {
   "cell_type": "code",
   "execution_count": 10,
   "metadata": {},
   "outputs": [
    {
     "data": {
      "text/plain": [
       "3"
      ]
     },
     "execution_count": 10,
     "metadata": {},
     "output_type": "execute_result"
    }
   ],
   "source": [
    "fibonacci(4)"
   ]
  },
  {
   "cell_type": "markdown",
   "metadata": {},
   "source": [
    "app-2\n"
   ]
  },
  {
   "cell_type": "code",
   "execution_count": 17,
   "metadata": {},
   "outputs": [],
   "source": [
    "def fibonacci(index,val):\n",
    "    if index <= val:  # Base case\n",
    "        return \n",
    "    \n",
    "    i=val\n",
    "    first=fibonacci(index-i)\n",
    "    next=fibonacci(index-i+1)\n",
    "    print(first,next)\n",
    "    "
   ]
  },
  {
   "cell_type": "code",
   "execution_count": 18,
   "metadata": {},
   "outputs": [],
   "source": [
    "fibonacci(0,4)"
   ]
  },
  {
   "cell_type": "markdown",
   "metadata": {},
   "source": [
    "gpt"
   ]
  },
  {
   "cell_type": "code",
   "execution_count": 6,
   "metadata": {},
   "outputs": [],
   "source": [
    "from functools import lru_cache\n",
    "\n",
    "@lru_cache(maxsize=None)\n",
    "def fibonacci(num):\n",
    "    if num <= 1:\n",
    "        return num\n",
    "    return fibonacci(num-1) + fibonacci(num-2)\n"
   ]
  },
  {
   "cell_type": "code",
   "execution_count": 7,
   "metadata": {},
   "outputs": [
    {
     "data": {
      "text/plain": [
       "8"
      ]
     },
     "execution_count": 7,
     "metadata": {},
     "output_type": "execute_result"
    }
   ],
   "source": [
    "fibonacci(6)"
   ]
  },
  {
   "cell_type": "markdown",
   "metadata": {},
   "source": [
    "# [10] print all the subsequence"
   ]
  },
  {
   "cell_type": "code",
   "execution_count": 18,
   "metadata": {},
   "outputs": [],
   "source": [
    "def subsequence(index,arr,li,n):\n",
    "    if index>=n:\n",
    "        # print(li)\n",
    "        print(\"Empty\" if not li else li)  # Print \"Empty\" if li is empty\n",
    "        return\n",
    "        \n",
    "    li.append(arr[index])\n",
    "    subsequence(index+1,arr,li,n)\n",
    "    li.remove(arr[index])\n",
    "    subsequence(index+1,arr,li,n)\n",
    "    \n",
    "    "
   ]
  },
  {
   "cell_type": "code",
   "execution_count": 19,
   "metadata": {},
   "outputs": [
    {
     "name": "stdout",
     "output_type": "stream",
     "text": [
      "[3, 1, 2]\n",
      "[3, 1]\n",
      "[3, 2]\n",
      "[3]\n",
      "[1, 2]\n",
      "[1]\n",
      "[2]\n",
      "Empty\n"
     ]
    }
   ],
   "source": [
    "arr=[3,1,2]\n",
    "li=[]\n",
    "n=3\n",
    "subsequence(0,arr,li,n)"
   ]
  },
  {
   "cell_type": "code",
   "execution_count": 16,
   "metadata": {},
   "outputs": [],
   "source": [
    "def subsequence(index,arr,li,n):\n",
    "    if index>=n:\n",
    "        print(li)\n",
    "        return\n",
    "        \n",
    "    subsequence(index+1,arr,li,n)\n",
    "    li.append(arr[index])\n",
    "    subsequence(index+1,arr,li,n)\n",
    "    li.remove(arr[index])"
   ]
  },
  {
   "cell_type": "code",
   "execution_count": 17,
   "metadata": {},
   "outputs": [
    {
     "name": "stdout",
     "output_type": "stream",
     "text": [
      "[]\n",
      "[2]\n",
      "[1]\n",
      "[1, 2]\n",
      "[3]\n",
      "[3, 2]\n",
      "[3, 1]\n",
      "[3, 1, 2]\n"
     ]
    }
   ],
   "source": [
    "arr=[3,1,2]\n",
    "li=[]\n",
    "n=3\n",
    "subsequence(0,arr,li,n)\n"
   ]
  },
  {
   "cell_type": "markdown",
   "metadata": {},
   "source": [
    "better-2\n"
   ]
  },
  {
   "cell_type": "code",
   "execution_count": 4,
   "metadata": {},
   "outputs": [
    {
     "name": "stdout",
     "output_type": "stream",
     "text": [
      "[3, 1, 2]\n",
      "[3, 1]\n",
      "[3, 2]\n",
      "[3]\n",
      "[1, 2]\n",
      "[1]\n",
      "[2]\n",
      "[]\n"
     ]
    }
   ],
   "source": [
    "def print_subsequences(index, ds, arr, n):\n",
    "    if index == n:  # Base case: reached the end of the array\n",
    "        print(ds)  # Print the current subsequence\n",
    "        return\n",
    "    \n",
    "    # Pick the element\n",
    "    ds.append(arr[index])\n",
    "    print_subsequences(index + 1, ds, arr, n)  # Recursive call after picking\n",
    "    ds.pop()  # Backtrack\n",
    "    \n",
    "    # Not pick the element\n",
    "    print_subsequences(index + 1, ds, arr, n)  # Recursive call without picking\n",
    "\n",
    "# Example Usage\n",
    "arr = [3, 1, 2]\n",
    "n = len(arr)\n",
    "ds = []\n",
    "print_subsequences(0, ds, arr, n)\n"
   ]
  },
  {
   "cell_type": "markdown",
   "metadata": {},
   "source": [
    "# [11] print all the subsequence with sum =k"
   ]
  },
  {
   "cell_type": "markdown",
   "metadata": {},
   "source": [
    "p-1"
   ]
  },
  {
   "cell_type": "code",
   "execution_count": 28,
   "metadata": {},
   "outputs": [
    {
     "name": "stdout",
     "output_type": "stream",
     "text": [
      "Subsequences with sum = 2\n",
      "[1, 1]\n",
      "[2]\n"
     ]
    }
   ],
   "source": [
    "def print_subsequences(index, ds, curr_sum, target, arr, n):\n",
    "    if index == n:  # Base case: reached the end of the array\n",
    "        if curr_sum == target:\n",
    "            print(ds)  # Print only if the sum matches the target\n",
    "        return\n",
    "\n",
    "    # Pick the element\n",
    "    ds.append(arr[index])\n",
    "    curr_sum += arr[index]\n",
    "    print_subsequences(index + 1, ds, curr_sum, target, arr, n)  # Recursive call\n",
    "    \n",
    "    # Backtrack (remove the last added element)\n",
    "    ds.pop()\n",
    "    curr_sum -= arr[index]\n",
    "\n",
    "    # Don't pick the element\n",
    "    print_subsequences(index + 1, ds, curr_sum, target, arr, n)\n",
    "\n",
    "# Example Usage\n",
    "arr = [1, 2, 1]\n",
    "target_sum = 2\n",
    "print(\"Subsequences with sum =\", target_sum)\n",
    "print_subsequences(0, [], 0, target_sum, arr, len(arr))\n"
   ]
  },
  {
   "cell_type": "markdown",
   "metadata": {},
   "source": [
    "# [12] print only 1 the subsequence with sum =k"
   ]
  },
  {
   "cell_type": "code",
   "execution_count": 27,
   "metadata": {},
   "outputs": [
    {
     "name": "stdout",
     "output_type": "stream",
     "text": [
      "One subsequence with sum = 2\n",
      "[1, 1]\n",
      "[2]\n"
     ]
    }
   ],
   "source": [
    "def print_one_subsequence(index, ds, curr_sum, target, arr, n):\n",
    "    if index == n:  # Base case: reached the end of the array\n",
    "        if curr_sum == target:\n",
    "            print(ds)  # Print only one valid subsequence\n",
    "            \n",
    "        return \n",
    "\n",
    "    # Pick the element\n",
    "    ds.append(arr[index])\n",
    "    curr_sum += arr[index]\n",
    "    if print_one_subsequence(index + 1, ds, curr_sum, target, arr, n):\n",
    "        return True  # Stop further recursion if found\n",
    "\n",
    "    # Backtrack (remove the last added element)\n",
    "    ds.pop()\n",
    "    curr_sum -= arr[index]\n",
    "\n",
    "    # Don't pick the element\n",
    "    print_one_subsequence(index + 1, ds, curr_sum, target, arr, n)\n",
    "\n",
    "\n",
    "    \n",
    "\n",
    "# Example Usage\n",
    "arr = [1, 2, 1]\n",
    "target_sum = 2\n",
    "print(\"One subsequence with sum =\", target_sum)\n",
    "print_one_subsequence(0, [], 0, target_sum, arr, len(arr))\n"
   ]
  },
  {
   "cell_type": "markdown",
   "metadata": {},
   "source": [
    "stri-ap-1"
   ]
  },
  {
   "cell_type": "code",
   "execution_count": null,
   "metadata": {},
   "outputs": [],
   "source": [
    "flag = False  # Global flag to stop recursion once we find a valid subsequence\n",
    "\n",
    "def print_one_subsequence(index, ds, curr_sum, target, arr, n):\n",
    "    global flag\n",
    "    if index == n:\n",
    "        if curr_sum == target and flag == False:\n",
    "            flag = True  # Set flag to True to stop further processing\n",
    "            print(ds)  # Print only one valid subsequence\n",
    "        return\n",
    "\n",
    "    if not flag:  # Continue recursion only if a valid subsequence is not found\n",
    "        # Pick the element\n",
    "        ds.append(arr[index])\n",
    "        print_one_subsequence(index + 1, ds, curr_sum + arr[index], target, arr, n)\n",
    "\n",
    "        # Backtrack\n",
    "        ds.pop()\n",
    "        print_one_subsequence(index + 1, ds, curr_sum, target, arr, n)\n",
    "\n",
    "# Example Usage\n",
    "arr = [1, 2, 1]\n",
    "target_sum = 2\n",
    "print(\"One subsequence with sum =\", target_sum)\n",
    "print_one_subsequence(0, [], 0, target_sum, arr, len(arr))\n"
   ]
  },
  {
   "cell_type": "markdown",
   "metadata": {},
   "source": [
    "stri-ap-2"
   ]
  },
  {
   "cell_type": "code",
   "execution_count": 25,
   "metadata": {},
   "outputs": [
    {
     "name": "stdout",
     "output_type": "stream",
     "text": [
      "One subsequence with sum = 2\n",
      "[1, 1]\n"
     ]
    },
    {
     "data": {
      "text/plain": [
       "True"
      ]
     },
     "execution_count": 25,
     "metadata": {},
     "output_type": "execute_result"
    }
   ],
   "source": [
    "def print_one_subsequence(index, ds, curr_sum, target, arr, n):\n",
    "    # Base case: reached the end of the array\n",
    "    if index == n:\n",
    "        if curr_sum == target:  # Condition satisfied\n",
    "            print(ds)  # Print the valid subsequence\n",
    "            return True  # Stop further recursion\n",
    "        return False  # Condition not satisfied\n",
    "\n",
    "    # Pick the element\n",
    "    ds.append(arr[index])\n",
    "    if print_one_subsequence(index + 1, ds, curr_sum + arr[index], target, arr, n):\n",
    "        return True  # Stop further recursion if we found a valid subsequence\n",
    "\n",
    "    # Backtrack (remove the last added element)\n",
    "    ds.pop()\n",
    "    \n",
    "    # Don't pick the element\n",
    "    if print_one_subsequence(index + 1, ds, curr_sum, target, arr, n):\n",
    "        return True  # Stop further recursion if we found a valid subsequence\n",
    "\n",
    "    return False  # If no valid subsequence found\n",
    "\n",
    "# Example Usage\n",
    "arr = [1, 2, 1]\n",
    "target_sum = 2\n",
    "print(\"One subsequence with sum =\", target_sum)\n",
    "print_one_subsequence(0, [], 0, target_sum, arr, len(arr))\n"
   ]
  },
  {
   "cell_type": "markdown",
   "metadata": {},
   "source": [
    "stri-ap--3"
   ]
  },
  {
   "cell_type": "code",
   "execution_count": 26,
   "metadata": {},
   "outputs": [
    {
     "name": "stdout",
     "output_type": "stream",
     "text": [
      "One subsequence with sum = 2\n",
      "[1, 1]\n"
     ]
    },
    {
     "data": {
      "text/plain": [
       "True"
      ]
     },
     "execution_count": 26,
     "metadata": {},
     "output_type": "execute_result"
    }
   ],
   "source": [
    "def print_one_subsequence(index, ds, curr_sum, target, arr, n):\n",
    "    # Base case: reached the end of the array\n",
    "    if index == n:\n",
    "        if curr_sum == target:  # Condition satisfied\n",
    "            print(ds)  # Print the valid subsequence\n",
    "            return True  # Stop further recursion\n",
    "        return False  # Condition not satisfied\n",
    "\n",
    "    # Pick the element\n",
    "    ds.append(arr[index])\n",
    "    if print_one_subsequence(index + 1, ds, curr_sum + arr[index], target, arr, n):\n",
    "        return True  # Stop further recursion if we found a valid subsequence\n",
    "\n",
    "    # Backtrack (remove the last added element)\n",
    "    ds.pop()\n",
    "    \n",
    "    # Don't pick the element\n",
    "    if print_one_subsequence(index + 1, ds, curr_sum, target, arr, n):\n",
    "        return True  # Stop further recursion if we found a valid subsequence\n",
    "\n",
    "    return False  # If no valid subsequence found\n",
    "\n",
    "# Example Usage\n",
    "arr = [1, 2, 1]\n",
    "target_sum = 2\n",
    "print(\"One subsequence with sum =\", target_sum)\n",
    "print_one_subsequence(0, [], 0, target_sum, arr, len(arr))\n"
   ]
  },
  {
   "cell_type": "markdown",
   "metadata": {},
   "source": [
    "# [13] print count the subsequence with sum =k"
   ]
  },
  {
   "cell_type": "code",
   "execution_count": 29,
   "metadata": {},
   "outputs": [
    {
     "name": "stdout",
     "output_type": "stream",
     "text": [
      "Total subsequences with sum = 2\n",
      "2\n"
     ]
    }
   ],
   "source": [
    "def count_subsequences(index, ds, curr_sum, target, arr, n):\n",
    "    if index == n:  # Base case: end of the array\n",
    "        if curr_sum == target:\n",
    "            return 1  # Found a valid subsequence\n",
    "        return 0  # Not a valid subsequence\n",
    "\n",
    "    # Pick the element\n",
    "    ds.append(arr[index])\n",
    "    left = count_subsequences(index + 1, ds, curr_sum + arr[index], target, arr, n)\n",
    "    ds.pop()  # Backtrack\n",
    "    \n",
    "    # Don't pick the element\n",
    "    right = count_subsequences(index + 1, ds, curr_sum, target, arr, n)\n",
    "\n",
    "    return left + right  # Total count from both choices\n",
    "\n",
    "# Example usage\n",
    "arr = [1, 2, 1]\n",
    "target_sum = 2\n",
    "print(\"Total subsequences with sum =\", target_sum)\n",
    "count = count_subsequences(0, [], 0, target_sum, arr, len(arr))\n",
    "print(count)\n"
   ]
  },
  {
   "cell_type": "markdown",
   "metadata": {},
   "source": [
    "Step-by-Step Recursion Tree"
   ]
  },
  {
   "cell_type": "code",
   "execution_count": null,
   "metadata": {},
   "outputs": [],
   "source": [
    "#                 (0, 0, [])  \n",
    "#                /           \\\n",
    "#       (1, 1, [1])      (1, 0, [])  \n",
    "#          /     \\           /      \\\n",
    "#  (2, 3, [1,2]) (2,1, [1]) (2,2, [2]) (2,0, [])  \n",
    "#       /  \\         /   \\      /   \\       /   \\\n",
    "#   (3,3) (3,1)  (3,2) (3,1) (3,2) (3,0)  (3,1) (3,0)\n"
   ]
  },
  {
   "cell_type": "code",
   "execution_count": 31,
   "metadata": {},
   "outputs": [
    {
     "name": "stdout",
     "output_type": "stream",
     "text": [
      "2\n"
     ]
    }
   ],
   "source": [
    "def printS(ind, s, sum_val, arr, n):\n",
    "    \"\"\"\n",
    "    Recursively calculates the number of subsets of arr that sum to sum_val.\n",
    "\n",
    "    Args:\n",
    "        ind: The current index in the array.\n",
    "        s: The current sum of the subset.\n",
    "        sum_val: The target sum.\n",
    "        arr: The input array.\n",
    "        n: The size of the array.\n",
    "\n",
    "    Returns:\n",
    "        1 if the subset sums to sum_val, 0 otherwise.\n",
    "    \"\"\"\n",
    "    if ind == n:\n",
    "        if s == sum_val:\n",
    "            return 1\n",
    "        else:\n",
    "            return 0\n",
    "\n",
    "    # Pick the element\n",
    "    s += arr[ind]\n",
    "    l = printS(ind + 1, s, sum_val, arr, n)\n",
    "    s -= arr[ind]  # Backtrack: remove the element for the next recursive call\n",
    "\n",
    "    # Don't pick the element\n",
    "    r = printS(ind + 1, s, sum_val, arr, n)\n",
    "\n",
    "    return l + r\n",
    "\n",
    "\n",
    "def main():\n",
    "    arr = [1, 2, 1]\n",
    "    n = len(arr)\n",
    "    sum_val = 2\n",
    "    result = printS(0, 0, sum_val, arr, n)\n",
    "    print(result)\n",
    "\n",
    "\n",
    "if __name__ == \"__main__\":\n",
    "    main()\n"
   ]
  }
 ],
 "metadata": {
  "kernelspec": {
   "display_name": "Python 3",
   "language": "python",
   "name": "python3"
  },
  "language_info": {
   "codemirror_mode": {
    "name": "ipython",
    "version": 3
   },
   "file_extension": ".py",
   "mimetype": "text/x-python",
   "name": "python",
   "nbconvert_exporter": "python",
   "pygments_lexer": "ipython3",
   "version": "3.13.1"
  }
 },
 "nbformat": 4,
 "nbformat_minor": 2
}
