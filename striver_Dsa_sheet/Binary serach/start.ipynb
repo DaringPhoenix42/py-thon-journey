{
 "cells": [
  {
   "cell_type": "markdown",
   "metadata": {},
   "source": [
    "# [1] smallest index auch that arr[index]>=x"
   ]
  },
  {
   "cell_type": "markdown",
   "metadata": {},
   "source": [
    "my app"
   ]
  },
  {
   "cell_type": "code",
   "execution_count": null,
   "metadata": {},
   "outputs": [
    {
     "name": "stdout",
     "output_type": "stream",
     "text": [
      "9\n"
     ]
    }
   ],
   "source": [
    "def smallestIndexCondition(arr,x):\n",
    "    if not arr:\n",
    "        return -1\n",
    "    length=len(arr)\n",
    "    i=0\n",
    "    for i in range(0,length,1):\n",
    "        if arr[i]>=x:\n",
    "            return i\n",
    "    return length-1\n",
    "    \n",
    "arr=[1,2,3,3,7,8,9,9,9,11]\n",
    "num=11\n",
    "val=smallestIndexCondition(arr,num)\n",
    "print(val)\n",
    "\n",
    "\n"
   ]
  },
  {
   "cell_type": "markdown",
   "metadata": {},
   "source": [
    "binary  search app"
   ]
  },
  {
   "cell_type": "code",
   "execution_count": 4,
   "metadata": {},
   "outputs": [
    {
     "name": "stdout",
     "output_type": "stream",
     "text": [
      "9\n"
     ]
    }
   ],
   "source": [
    "import math\n",
    "def smallestIndexCondition(arr,x):\n",
    "    if not arr:\n",
    "        return -1\n",
    "    length=len(arr)\n",
    "    low=0\n",
    "    high=length-1\n",
    "    ans=length-1\n",
    "    while low<=high:\n",
    "        mid=math.ceil((high+low)/2)\n",
    "        if arr[mid]>=x:\n",
    "            ans=mid\n",
    "            high=mid-1\n",
    "        else:\n",
    "            low=mid+1\n",
    "    return ans\n",
    "    \n",
    "arr=[1,2,3,3,7,8,9,9,9,11]\n",
    "num=11\n",
    "val=smallestIndexCondition(arr,num)\n",
    "print(val)"
   ]
  },
  {
   "cell_type": "code",
   "execution_count": 5,
   "metadata": {},
   "outputs": [
    {
     "name": "stdout",
     "output_type": "stream",
     "text": [
      "0\n",
      "3\n",
      "4\n",
      "0\n",
      "-1\n"
     ]
    }
   ],
   "source": [
    "# Test Case 2: Value is smaller than all elements\n",
    "arr2 = [10, 20, 30]\n",
    "x2 = 5\n",
    "print(smallestIndexCondition(arr2, x2))  # Expected output: 0\n",
    "\n",
    "# Test Case 3: Value is greater than all elements\n",
    "arr3 = [2, 4, 6, 8]\n",
    "x3 = 10\n",
    "print(smallestIndexCondition(arr3, x3))  # Expected output: 3 (length-1)\n",
    "\n",
    "# Test Case 4: Value is equal to the last element\n",
    "arr4 = [1, 3, 5, 7, 9]\n",
    "x4 = 9\n",
    "print(smallestIndexCondition(arr4, x4))  # Expected output: 4\n",
    "\n",
    "# Test Case 5: All elements are the same\n",
    "arr5 = [5, 5, 5, 5]\n",
    "x5 = 5\n",
    "print(smallestIndexCondition(arr5, x5))  # Expected output: 0\n",
    "\n",
    "# Test Case 6: Empty array\n",
    "arr6 = []\n",
    "x6 = 10\n",
    "print(smallestIndexCondition(arr6, x6))"
   ]
  },
  {
   "cell_type": "markdown",
   "metadata": {},
   "source": [
    "# [2] smallest index auch that arr[index]>x"
   ]
  },
  {
   "cell_type": "code",
   "execution_count": 6,
   "metadata": {},
   "outputs": [
    {
     "name": "stdout",
     "output_type": "stream",
     "text": [
      "9\n"
     ]
    }
   ],
   "source": [
    "import math\n",
    "def smallestIndexCondition(arr,x):\n",
    "    if not arr:\n",
    "        return -1\n",
    "    length=len(arr)\n",
    "    low=0\n",
    "    high=length-1\n",
    "    ans=length-1\n",
    "    while low<=high:\n",
    "        mid=math.ceil((high+low)/2)\n",
    "        if arr[mid]>=x:\n",
    "            ans=mid\n",
    "            high=mid-1\n",
    "        else:\n",
    "            low=mid+1\n",
    "    return ans\n",
    "    \n",
    "arr=[1,2,3,3,7,8,9,9,9,11]\n",
    "num=11\n",
    "val=smallestIndexCondition(arr,num)\n",
    "print(val)"
   ]
  },
  {
   "cell_type": "code",
   "execution_count": 7,
   "metadata": {},
   "outputs": [
    {
     "name": "stdout",
     "output_type": "stream",
     "text": [
      "0\n",
      "3\n",
      "4\n",
      "0\n",
      "-1\n"
     ]
    }
   ],
   "source": [
    "# Test Case 2: Value is smaller than all elements\n",
    "arr2 = [10, 20, 30]\n",
    "x2 = 5\n",
    "print(smallestIndexCondition(arr2, x2))  # Expected output: 0\n",
    "\n",
    "# Test Case 3: Value is greater than all elements\n",
    "arr3 = [2, 4, 6, 8]\n",
    "x3 = 10\n",
    "print(smallestIndexCondition(arr3, x3))  # Expected output: 3 (length-1)\n",
    "\n",
    "# Test Case 4: Value is equal to the last element\n",
    "arr4 = [1, 3, 5, 7, 9]\n",
    "x4 = 9\n",
    "print(smallestIndexCondition(arr4, x4))  # Expected output: 4\n",
    "\n",
    "# Test Case 5: All elements are the same\n",
    "arr5 = [5, 5, 5, 5]\n",
    "x5 = 5\n",
    "print(smallestIndexCondition(arr5, x5))  # Expected output: 0\n",
    "\n",
    "# Test Case 6: Empty array\n",
    "arr6 = []\n",
    "x6 = 10\n",
    "print(smallestIndexCondition(arr6, x6))"
   ]
  },
  {
   "cell_type": "markdown",
   "metadata": {},
   "source": [
    "# [3] Search insert position "
   ]
  },
  {
   "cell_type": "code",
   "execution_count": 8,
   "metadata": {},
   "outputs": [
    {
     "name": "stdout",
     "output_type": "stream",
     "text": [
      "9\n"
     ]
    }
   ],
   "source": [
    "def smallestIndexCondition(arr,x):\n",
    "    if not arr:\n",
    "        return -1\n",
    "    length=len(arr)\n",
    "    i=0\n",
    "    for i in range(0,length,1):\n",
    "        if arr[i]>=x:\n",
    "            return i\n",
    "    return length-1\n",
    "    \n",
    "arr=[1,2,3,3,7,8,9,9,9,11]\n",
    "num=11\n",
    "val=smallestIndexCondition(arr,num)\n",
    "print(val)\n"
   ]
  },
  {
   "cell_type": "markdown",
   "metadata": {},
   "source": [
    "# [4] Floor and ceil in sorted array"
   ]
  }
 ],
 "metadata": {
  "kernelspec": {
   "display_name": "Python 3",
   "language": "python",
   "name": "python3"
  },
  "language_info": {
   "codemirror_mode": {
    "name": "ipython",
    "version": 3
   },
   "file_extension": ".py",
   "mimetype": "text/x-python",
   "name": "python",
   "nbconvert_exporter": "python",
   "pygments_lexer": "ipython3",
   "version": "3.13.1"
  }
 },
 "nbformat": 4,
 "nbformat_minor": 2
}
