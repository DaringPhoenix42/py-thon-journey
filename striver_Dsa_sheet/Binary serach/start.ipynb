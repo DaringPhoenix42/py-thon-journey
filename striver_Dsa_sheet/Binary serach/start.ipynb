{
 "cells": [
  {
   "cell_type": "markdown",
   "metadata": {},
   "source": [
    "# [1] smallest index auch that arr[index]>=x"
   ]
  },
  {
   "cell_type": "markdown",
   "metadata": {},
   "source": [
    "my app"
   ]
  },
  {
   "cell_type": "code",
   "execution_count": null,
   "metadata": {},
   "outputs": [
    {
     "name": "stdout",
     "output_type": "stream",
     "text": [
      "9\n"
     ]
    }
   ],
   "source": [
    "def smallestIndexCondition(arr,x):\n",
    "    if not arr:\n",
    "        return -1\n",
    "    length=len(arr)\n",
    "    i=0\n",
    "    for i in range(0,length,1):\n",
    "        if arr[i]>=x:\n",
    "            return i\n",
    "    return length-1\n",
    "    \n",
    "arr=[1,2,3,3,7,8,9,9,9,11]\n",
    "num=11\n",
    "val=smallestIndexCondition(arr,num)\n",
    "print(val)\n",
    "\n",
    "\n"
   ]
  },
  {
   "cell_type": "markdown",
   "metadata": {},
   "source": [
    "binary  search app"
   ]
  },
  {
   "cell_type": "code",
   "execution_count": 4,
   "metadata": {},
   "outputs": [
    {
     "name": "stdout",
     "output_type": "stream",
     "text": [
      "9\n"
     ]
    }
   ],
   "source": [
    "import math\n",
    "def smallestIndexCondition(arr,x):\n",
    "    if not arr:\n",
    "        return -1\n",
    "    length=len(arr)\n",
    "    low=0\n",
    "    high=length-1\n",
    "    ans=length-1\n",
    "    while low<=high:\n",
    "        mid=math.ceil((high+low)/2)\n",
    "        if arr[mid]>=x:\n",
    "            ans=mid\n",
    "            high=mid-1\n",
    "        else:\n",
    "            low=mid+1\n",
    "    return ans\n",
    "    \n",
    "arr=[1,2,3,3,7,8,9,9,9,11]\n",
    "num=11\n",
    "val=smallestIndexCondition(arr,num)\n",
    "print(val)"
   ]
  },
  {
   "cell_type": "code",
   "execution_count": 5,
   "metadata": {},
   "outputs": [
    {
     "name": "stdout",
     "output_type": "stream",
     "text": [
      "0\n",
      "3\n",
      "4\n",
      "0\n",
      "-1\n"
     ]
    }
   ],
   "source": [
    "# Test Case 2: Value is smaller than all elements\n",
    "arr2 = [10, 20, 30]\n",
    "x2 = 5\n",
    "print(smallestIndexCondition(arr2, x2))  # Expected output: 0\n",
    "\n",
    "# Test Case 3: Value is greater than all elements\n",
    "arr3 = [2, 4, 6, 8]\n",
    "x3 = 10\n",
    "print(smallestIndexCondition(arr3, x3))  # Expected output: 3 (length-1)\n",
    "\n",
    "# Test Case 4: Value is equal to the last element\n",
    "arr4 = [1, 3, 5, 7, 9]\n",
    "x4 = 9\n",
    "print(smallestIndexCondition(arr4, x4))  # Expected output: 4\n",
    "\n",
    "# Test Case 5: All elements are the same\n",
    "arr5 = [5, 5, 5, 5]\n",
    "x5 = 5\n",
    "print(smallestIndexCondition(arr5, x5))  # Expected output: 0\n",
    "\n",
    "# Test Case 6: Empty array\n",
    "arr6 = []\n",
    "x6 = 10\n",
    "print(smallestIndexCondition(arr6, x6))"
   ]
  },
  {
   "cell_type": "markdown",
   "metadata": {},
   "source": [
    "# [2] smallest index auch that arr[index]>x"
   ]
  },
  {
   "cell_type": "code",
   "execution_count": 6,
   "metadata": {},
   "outputs": [
    {
     "name": "stdout",
     "output_type": "stream",
     "text": [
      "9\n"
     ]
    }
   ],
   "source": [
    "import math\n",
    "def smallestIndexCondition(arr,x):\n",
    "    if not arr:\n",
    "        return -1\n",
    "    length=len(arr)\n",
    "    low=0\n",
    "    high=length-1\n",
    "    ans=length-1\n",
    "    while low<=high:\n",
    "        mid=math.ceil((high+low)/2)\n",
    "        if arr[mid]>=x:\n",
    "            ans=mid\n",
    "            high=mid-1\n",
    "        else:\n",
    "            low=mid+1\n",
    "    return ans\n",
    "    \n",
    "arr=[1,2,3,3,7,8,9,9,9,11]\n",
    "num=11\n",
    "val=smallestIndexCondition(arr,num)\n",
    "print(val)"
   ]
  },
  {
   "cell_type": "code",
   "execution_count": 7,
   "metadata": {},
   "outputs": [
    {
     "name": "stdout",
     "output_type": "stream",
     "text": [
      "0\n",
      "3\n",
      "4\n",
      "0\n",
      "-1\n"
     ]
    }
   ],
   "source": [
    "# Test Case 2: Value is smaller than all elements\n",
    "arr2 = [10, 20, 30]\n",
    "x2 = 5\n",
    "print(smallestIndexCondition(arr2, x2))  # Expected output: 0\n",
    "\n",
    "# Test Case 3: Value is greater than all elements\n",
    "arr3 = [2, 4, 6, 8]\n",
    "x3 = 10\n",
    "print(smallestIndexCondition(arr3, x3))  # Expected output: 3 (length-1)\n",
    "\n",
    "# Test Case 4: Value is equal to the last element\n",
    "arr4 = [1, 3, 5, 7, 9]\n",
    "x4 = 9\n",
    "print(smallestIndexCondition(arr4, x4))  # Expected output: 4\n",
    "\n",
    "# Test Case 5: All elements are the same\n",
    "arr5 = [5, 5, 5, 5]\n",
    "x5 = 5\n",
    "print(smallestIndexCondition(arr5, x5))  # Expected output: 0\n",
    "\n",
    "# Test Case 6: Empty array\n",
    "arr6 = []\n",
    "x6 = 10\n",
    "print(smallestIndexCondition(arr6, x6))"
   ]
  },
  {
   "cell_type": "markdown",
   "metadata": {},
   "source": [
    "# [3] Search insert position "
   ]
  },
  {
   "cell_type": "code",
   "execution_count": 8,
   "metadata": {},
   "outputs": [
    {
     "name": "stdout",
     "output_type": "stream",
     "text": [
      "9\n"
     ]
    }
   ],
   "source": [
    "def smallestIndexCondition(arr,x):\n",
    "    if not arr:\n",
    "        return -1\n",
    "    length=len(arr)\n",
    "    i=0\n",
    "    for i in range(0,length,1):\n",
    "        if arr[i]>=x:\n",
    "            return i\n",
    "    return length-1\n",
    "    \n",
    "arr=[1,2,3,3,7,8,9,9,9,11]\n",
    "num=11\n",
    "val=smallestIndexCondition(arr,num)\n",
    "print(val)\n"
   ]
  },
  {
   "cell_type": "markdown",
   "metadata": {},
   "source": [
    "# [4] Floor and ceil in sorted array"
   ]
  },
  {
   "cell_type": "code",
   "execution_count": null,
   "metadata": {},
   "outputs": [],
   "source": []
  },
  {
   "cell_type": "markdown",
   "metadata": {},
   "source": [
    "# [5] Search in rotated sorted array [unique element]"
   ]
  },
  {
   "cell_type": "markdown",
   "metadata": {},
   "source": [
    "linear search"
   ]
  },
  {
   "cell_type": "code",
   "execution_count": 2,
   "metadata": {},
   "outputs": [],
   "source": [
    "def searchInRotatedUnique(arr,target):\n",
    "    for i in range(0,len(arr),1):\n",
    "        if arr[i]==target:\n",
    "            return i\n",
    "    return -1"
   ]
  },
  {
   "cell_type": "code",
   "execution_count": 3,
   "metadata": {},
   "outputs": [
    {
     "name": "stdout",
     "output_type": "stream",
     "text": [
      "4\n",
      "0\n",
      "6\n",
      "-1\n",
      "0\n",
      "-1\n"
     ]
    }
   ],
   "source": [
    "# Rotated sorted array with unique elements\n",
    "arr = [4, 5, 6, 7, 0, 1, 2]\n",
    "target = 0\n",
    "\n",
    "# Expected Output: 4 (since arr[4] == 0)\n",
    "print(searchInRotatedUnique(arr, target))  # Output: 4\n",
    "\n",
    "print(searchInRotatedUnique([4, 5, 6, 7, 0, 1, 2], 4))  # Output: 0\n",
    "\n",
    "print(searchInRotatedUnique([4, 5, 6, 7, 0, 1, 2], 2))  # Output: 6\n",
    "\n",
    "print(searchInRotatedUnique([4, 5, 6, 7, 0, 1, 2], 10))  # Output: -1\n",
    "\n",
    "print(searchInRotatedUnique([1], 1))  # Output: 0\n",
    "print(searchInRotatedUnique([1], 0))  # Output: -1\n",
    "\n",
    "\n"
   ]
  },
  {
   "cell_type": "markdown",
   "metadata": {},
   "source": [
    "binary search"
   ]
  },
  {
   "cell_type": "code",
   "execution_count": 14,
   "metadata": {},
   "outputs": [],
   "source": [
    "import math\n",
    "def searchInRotatedUnique(arr,target):\n",
    "    low=0\n",
    "    length=len(arr)\n",
    "    high=length-1\n",
    "    while low<=high:\n",
    "        mid=math.ceil((low+high)/2)\n",
    "        if arr[mid]==target:\n",
    "            return mid\n",
    "        #checking sorted region where binary search will be applied\n",
    "        if arr[low] <= arr[mid]:\n",
    "        # checking in the left part low->mid\n",
    "            if arr[low]<=target and arr[mid]>=target:\n",
    "            # left is the sorted region shrink the search space\n",
    "                high=mid-1\n",
    "            \n",
    "            else:\n",
    "            #left is not thr sorted region so serach in the right region \n",
    "                low=mid+1\n",
    "            \n",
    "        # checking in the right part mid->high\n",
    "        else:\n",
    "            if arr[mid]<=target and arr[high]>=target:\n",
    "            # right is the sorted region shrink the search space\n",
    "                low=mid+1\n",
    "            \n",
    "            else:\n",
    "            #right is not thr sorted region so serach in the left region \n",
    "                high=mid-1\n",
    "            \n",
    "    return -1"
   ]
  },
  {
   "cell_type": "code",
   "execution_count": 15,
   "metadata": {},
   "outputs": [
    {
     "name": "stdout",
     "output_type": "stream",
     "text": [
      "4\n",
      "0\n",
      "6\n",
      "-1\n",
      "0\n",
      "-1\n"
     ]
    }
   ],
   "source": [
    "# Rotated sorted array with unique elements\n",
    "arr = [4, 5, 6, 7, 0, 1, 2]\n",
    "target = 0\n",
    "\n",
    "# Expected Output: 4 (since arr[4] == 0)\n",
    "print(searchInRotatedUnique(arr, target))  # Output: 4\n",
    "\n",
    "print(searchInRotatedUnique([4, 5, 6, 7, 0, 1, 2], 4))  # Output: 0\n",
    "\n",
    "print(searchInRotatedUnique([4, 5, 6, 7, 0, 1, 2], 2))  # Output: 6\n",
    "\n",
    "print(searchInRotatedUnique([4, 5, 6, 7, 0, 1, 2], 10))  # Output: -1\n",
    "\n",
    "print(searchInRotatedUnique([1], 1))  # Output: 0\n",
    "print(searchInRotatedUnique([1], 0))  # Output: -1"
   ]
  },
  {
   "cell_type": "markdown",
   "metadata": {},
   "source": [
    "# [6] Search in rotated sorted array [duplicate  element]"
   ]
  },
  {
   "cell_type": "markdown",
   "metadata": {},
   "source": [
    "linear search"
   ]
  },
  {
   "cell_type": "code",
   "execution_count": 6,
   "metadata": {},
   "outputs": [],
   "source": [
    "def searchInRotatedDuplicate(arr,target):\n",
    "    val=-1\n",
    "    for i in range(0,len(arr),1):\n",
    "        if arr[i]==target:\n",
    "            val=i\n",
    "    if val==-1:\n",
    "        return -1\n",
    "    else:\n",
    "        return val\n",
    " "
   ]
  },
  {
   "cell_type": "code",
   "execution_count": 7,
   "metadata": {},
   "outputs": [
    {
     "name": "stdout",
     "output_type": "stream",
     "text": [
      "9\n",
      "5\n",
      "3\n",
      "-1\n",
      "3\n"
     ]
    }
   ],
   "source": [
    "arr = [4, 5, 6, 6, 7, 0, 1, 2, 4, 4]\n",
    "target = 4\n",
    "print(searchInRotatedDuplicate(arr, target))  # Expected Output: 9 (last occurrence of 4)\n",
    "\n",
    "print(searchInRotatedDuplicate([2, 2, 2, 3, 4, 2], 2))  # Output: 5\n",
    "\n",
    "print(searchInRotatedDuplicate([5, 6, 7, 0, 1, 2, 3], 0))  # Output: 3\n",
    "\n",
    "print(searchInRotatedDuplicate([5, 6, 7, 0, 1, 2, 3], 10))  # Output: -1\n",
    "\n",
    "print(searchInRotatedDuplicate([4, 4, 4, 4], 4))  # Output: 3\n",
    "\n",
    "\n",
    "\n",
    "\n"
   ]
  },
  {
   "cell_type": "markdown",
   "metadata": {},
   "source": [
    "binary search"
   ]
  },
  {
   "cell_type": "code",
   "execution_count": 18,
   "metadata": {},
   "outputs": [],
   "source": [
    "import math\n",
    "def searchInRotatedDuplicate(arr,target):\n",
    "    low=0\n",
    "    length=len(arr)\n",
    "    high=length-1\n",
    "    while low<=high:\n",
    "        mid = (low + high) // 2 \n",
    "        if arr[mid]==target:\n",
    "            return mid\n",
    "        if arr[low] == arr[mid] and arr[mid] == arr[high]:\n",
    "            low += 1\n",
    "            high -= 1\n",
    "            continue\n",
    "\n",
    "        #checking sorted region where binary search will be applied\n",
    "        if arr[low] <= arr[mid]:\n",
    "        # checking in the left part low->mid\n",
    "            if arr[low]<=target and arr[mid]>=target:\n",
    "            # left is the sorted region shrink the search space\n",
    "                high=mid-1\n",
    "            \n",
    "            else:\n",
    "            #left is not thr sorted region so serach in the right region \n",
    "                low=mid+1\n",
    "            \n",
    "        # checking in the right part mid->high\n",
    "        else:\n",
    "            if arr[mid]<=target and arr[high]>=target:\n",
    "            # right is the sorted region shrink the search space\n",
    "                low=mid+1\n",
    "            \n",
    "            else:\n",
    "            #right is not thr sorted region so serach in the left region \n",
    "                high=mid-1\n",
    "            \n",
    "    return -1"
   ]
  },
  {
   "cell_type": "code",
   "execution_count": 19,
   "metadata": {},
   "outputs": [
    {
     "name": "stdout",
     "output_type": "stream",
     "text": [
      "0\n",
      "2\n",
      "3\n",
      "-1\n",
      "1\n"
     ]
    }
   ],
   "source": [
    "arr = [4, 5, 6, 6, 7, 0, 1, 2, 4, 4]\n",
    "target = 4\n",
    "print(searchInRotatedDuplicate(arr, target))  # Expected Output: 9 (last occurrence of 4)\n",
    "\n",
    "print(searchInRotatedDuplicate([2, 2, 2, 3, 4, 2], 2))  # Output: 5\n",
    "\n",
    "print(searchInRotatedDuplicate([5, 6, 7, 0, 1, 2, 3], 0))  # Output: 3\n",
    "\n",
    "print(searchInRotatedDuplicate([5, 6, 7, 0, 1, 2, 3], 10))  # Output: -1\n",
    "\n",
    "print(searchInRotatedDuplicate([4, 4, 4, 4], 4))  # Output: 3\n"
   ]
  },
  {
   "cell_type": "code",
   "execution_count": 26,
   "metadata": {},
   "outputs": [],
   "source": [
    "def searchInRotatedDuplicate(arr, target):\n",
    "    low = 0\n",
    "    high = len(arr) - 1\n",
    "    result = -1  # To store the last index if found\n",
    "\n",
    "    while low <= high:\n",
    "        mid = (low + high) // 2\n",
    "\n",
    "        if arr[mid] == target:\n",
    "            result = mid  # Found target, but continue searching to the right\n",
    "            low = mid + 1\n",
    "            continue\n",
    "\n",
    "        # Handle duplicates\n",
    "        if arr[low] == arr[mid] == arr[high]:\n",
    "            low += 1\n",
    "            high -= 1\n",
    "            continue\n",
    "\n",
    "        # Left half is sorted\n",
    "        if arr[low] <= arr[mid]:\n",
    "            if arr[low] <= target < arr[mid]:\n",
    "                high = mid - 1\n",
    "            else:\n",
    "                low = mid + 1\n",
    "        # Right half is sorted\n",
    "        else:\n",
    "            if arr[mid] < target <= arr[high]:\n",
    "                low = mid + 1\n",
    "            else:\n",
    "                high = mid - 1\n",
    "\n",
    "    return result\n"
   ]
  },
  {
   "cell_type": "code",
   "execution_count": 25,
   "metadata": {},
   "outputs": [
    {
     "name": "stdout",
     "output_type": "stream",
     "text": [
      "0\n",
      "5\n",
      "3\n",
      "-1\n",
      "3\n"
     ]
    }
   ],
   "source": [
    "arr = [4, 5, 6, 6, 7, 0, 1, 2, 4, 4]\n",
    "target = 4\n",
    "print(searchInRotatedDuplicate(arr, target))  # Expected Output: 9 (last occurrence of 4)\n",
    "\n",
    "print(searchInRotatedDuplicate([2, 2, 2, 3, 4, 2], 2))  # Output: 5\n",
    "\n",
    "print(searchInRotatedDuplicate([5, 6, 7, 0, 1, 2, 3], 0))  # Output: 3\n",
    "\n",
    "print(searchInRotatedDuplicate([5, 6, 7, 0, 1, 2, 3], 10))  # Output: -1\n",
    "\n",
    "print(searchInRotatedDuplicate([4, 4, 4, 4], 4))  # Output: 3\n"
   ]
  },
  {
   "cell_type": "markdown",
   "metadata": {},
   "source": [
    "# [7] minimum in rotaed sorted array"
   ]
  },
  {
   "cell_type": "markdown",
   "metadata": {},
   "source": [
    "linear"
   ]
  },
  {
   "cell_type": "code",
   "execution_count": 28,
   "metadata": {},
   "outputs": [],
   "source": [
    "def MinimumInRotatedArray(arr):\n",
    "    minimum=float('inf')\n",
    "    for i in range(0,len(arr),1):\n",
    "        if arr[i]<minimum:\n",
    "            minimum=arr[i]\n",
    "        else:\n",
    "            continue\n",
    "    return minimum"
   ]
  },
  {
   "cell_type": "code",
   "execution_count": 29,
   "metadata": {},
   "outputs": [
    {
     "name": "stdout",
     "output_type": "stream",
     "text": [
      "0\n",
      "1\n",
      "10\n",
      "2\n",
      "1\n"
     ]
    }
   ],
   "source": [
    "arr = [4, 5, 6, 7, 0, 1, 2]\n",
    "print(MinimumInRotatedArray(arr))  # Output: 0\n",
    "arr = [1, 2, 3, 4, 5]\n",
    "print(MinimumInRotatedArray(arr))  # Output: 1\n",
    "arr = [10]\n",
    "print(MinimumInRotatedArray(arr))  # Output: 10\n",
    "arr = [2, 2, 2, 2]\n",
    "print(MinimumInRotatedArray(arr))  # Output: 2\n",
    "arr = [3, 4, 5, 1, 2, 2, 2]\n",
    "print(MinimumInRotatedArray(arr))  # Output: 1\n",
    "\n",
    "\n"
   ]
  },
  {
   "cell_type": "markdown",
   "metadata": {},
   "source": [
    "binary search"
   ]
  },
  {
   "cell_type": "code",
   "execution_count": 39,
   "metadata": {},
   "outputs": [],
   "source": [
    "def MinimumInRotatedArray(arr):\n",
    "    minimum = float('inf')\n",
    "    low = 0\n",
    "    high = len(arr) - 1\n",
    "\n",
    "    while low <= high:\n",
    "        mid = (low + high) // 2\n",
    "        if arr[low] <= arr[mid]:\n",
    "            minimum = min(minimum, arr[low])\n",
    "            low = mid + 1\n",
    "        else:\n",
    "            minimum = min(minimum, arr[mid])\n",
    "            high = mid - 1\n",
    "\n",
    "    return minimum\n"
   ]
  },
  {
   "cell_type": "code",
   "execution_count": 47,
   "metadata": {},
   "outputs": [],
   "source": [
    "def MinimumInRotatedArray(arr):\n",
    "    minimum=float('inf')\n",
    "    low=0\n",
    "    high=len(arr)-1\n",
    "    while low<=high:\n",
    "        mid=(low+high)//2\n",
    "        if arr[low]<=arr[high]:\n",
    "            minimum = min(minimum, arr[low])\n",
    "            break\n",
    "        if arr[low] <= arr[mid]:\n",
    "            minimum = min(minimum, arr[low])\n",
    "            high=mid-1\n",
    "        else:\n",
    "            minimum = min(minimum, arr[mid])\n",
    "            low=mid+1\n",
    "    return minimum"
   ]
  },
  {
   "cell_type": "code",
   "execution_count": 48,
   "metadata": {},
   "outputs": [
    {
     "name": "stdout",
     "output_type": "stream",
     "text": [
      "4\n",
      "1\n",
      "10\n",
      "2\n",
      "1\n"
     ]
    }
   ],
   "source": [
    "arr = [4, 5, 6, 7, 0, 1, 2]\n",
    "print(MinimumInRotatedArray(arr))  # Output: 0\n",
    "arr = [1, 2, 3, 4, 5]\n",
    "print(MinimumInRotatedArray(arr))  # Output: 1\n",
    "arr = [10]\n",
    "print(MinimumInRotatedArray(arr))  # Output: 10\n",
    "arr = [2, 2, 2, 2]\n",
    "print(MinimumInRotatedArray(arr))  # Output: 2\n",
    "arr = [3, 4, 5, 1, 2, 2, 2]\n",
    "print(MinimumInRotatedArray(arr))  # Output: 1\n"
   ]
  },
  {
   "cell_type": "markdown",
   "metadata": {},
   "source": [
    "# [8] Find how many time array is been rotated"
   ]
  },
  {
   "cell_type": "code",
   "execution_count": null,
   "metadata": {},
   "outputs": [],
   "source": [
    "def MinimumInRotatedArray(arr):\n",
    "    minimum = float('inf')\n",
    "    index = -1\n",
    "    low = 0\n",
    "    high = len(arr) - 1\n",
    "\n",
    "    while low <= high:\n",
    "        mid = (low + high) // 2\n",
    "\n",
    "        # If the array is already sorted\n",
    "        if arr[low] <= arr[high]:\n",
    "            if arr[low] < minimum:\n",
    "                minimum = arr[low]\n",
    "                index = low\n",
    "            break\n",
    "\n",
    "        # If left half is sorted\n",
    "        if arr[low] <= arr[mid]:\n",
    "            if arr[low] < minimum:\n",
    "                minimum = arr[low]\n",
    "                index = low\n",
    "            low = mid + 1\n",
    "\n",
    "        # If right half is sorted\n",
    "        else:\n",
    "            if arr[mid] < minimum:\n",
    "                minimum = arr[mid]\n",
    "                index = mid\n",
    "            high = mid - 1\n",
    "\n",
    "    return minimum, index\n"
   ]
  },
  {
   "cell_type": "code",
   "execution_count": 54,
   "metadata": {},
   "outputs": [
    {
     "name": "stdout",
     "output_type": "stream",
     "text": [
      "Test 1: Pass | Output: (0, 4) | Expected: (0, 4)\n",
      "Test 2: Pass | Output: (1, 0) | Expected: (1, 0)\n",
      "Test 3: Pass | Output: (1, 3) | Expected: (1, 3)\n",
      "Test 4: Pass | Output: (5, 4) | Expected: (5, 4)\n",
      "Test 5: Pass | Output: (1, 6) | Expected: (1, 6)\n",
      "Test 6: Pass | Output: (10, 0) | Expected: (10, 0)\n",
      "Test 7: Pass | Output: (1, 1) | Expected: (1, 1)\n"
     ]
    }
   ],
   "source": [
    "test_cases = [\n",
    "    ([4, 5, 6, 7, 0, 1, 2], (0, 4)),  # rotated 4 times\n",
    "    ([1, 2, 3, 4, 5, 6, 7], (1, 0)),  # not rotated\n",
    "    ([3, 4, 5, 1, 2], (1, 3)),        # rotated 3 times\n",
    "    ([7, 9, 11, 12, 5], (5, 4)),      # rotated 4 times\n",
    "    ([2, 3, 4, 5, 6, 7, 1], (1, 6)),  # rotated 6 times\n",
    "    ([10], (10, 0)),                 # single element\n",
    "    ([2, 1], (1, 1)),                # rotated once\n",
    "]\n",
    "for i, (arr, expected) in enumerate(test_cases):\n",
    "    result = MinimumInRotatedArray(arr)\n",
    "    print(f\"Test {i+1}: {'Pass' if result == expected else 'Fail'} | Output: {result} | Expected: {expected}\")\n"
   ]
  },
  {
   "cell_type": "markdown",
   "metadata": {},
   "source": [
    "# [9] single element in sorted array"
   ]
  },
  {
   "cell_type": "markdown",
   "metadata": {},
   "source": [
    "brute my app"
   ]
  },
  {
   "cell_type": "code",
   "execution_count": 2,
   "metadata": {},
   "outputs": [],
   "source": [
    "def singleElementInSortedArray(arr):\n",
    "    hash={}\n",
    "    length=len(arr)\n",
    "    for i in range(0,length,1):\n",
    "        hash[arr[i]]=hash.get(arr[i],0)+1\n",
    "    print(hash)\n",
    "    \n",
    "    for key,value in hash.items():\n",
    "        if hash[key]==1:\n",
    "            return key"
   ]
  },
  {
   "cell_type": "code",
   "execution_count": 3,
   "metadata": {},
   "outputs": [
    {
     "name": "stdout",
     "output_type": "stream",
     "text": [
      "{1: 2, 2: 2, 3: 1, 4: 2, 5: 2}\n",
      "Single element is: 3\n"
     ]
    }
   ],
   "source": [
    "arr = [1, 1, 2, 2, 3, 4, 4, 5, 5]\n",
    "result = singleElementInSortedArray(arr)\n",
    "print(\"Single element is:\", result)\n"
   ]
  },
  {
   "cell_type": "code",
   "execution_count": 4,
   "metadata": {},
   "outputs": [
    {
     "name": "stdout",
     "output_type": "stream",
     "text": [
      "{1: 2, 2: 2, 3: 1, 4: 2}\n",
      "Test 1: Pass | Output: 3 | Expected: 3\n",
      "{7: 1}\n",
      "Test 2: Pass | Output: 7 | Expected: 7\n",
      "{5: 1, 6: 2, 7: 2, 8: 2}\n",
      "Test 3: Pass | Output: 5 | Expected: 5\n",
      "{1: 2, 2: 2, 3: 2, 4: 1}\n",
      "Test 4: Pass | Output: 4 | Expected: 4\n",
      "{}\n",
      "Test 5: Pass | Output: None | Expected: None\n",
      "{1: 2, 2: 1, 3: 2, 4: 2}\n",
      "Test 6: Pass | Output: 2 | Expected: 2\n",
      "{1: 2, 2: 2, 3: 2}\n",
      "Test 7: Pass | Output: None | Expected: None\n"
     ]
    }
   ],
   "source": [
    "test_cases = [\n",
    "    ([1, 1, 2, 2, 3, 4, 4], 3),\n",
    "    ([7], 7),\n",
    "    ([5, 6, 6, 7, 7, 8, 8], 5),\n",
    "    ([1, 1, 2, 2, 3, 3, 4], 4),\n",
    "    ([], None),\n",
    "    ([1, 1, 2, 3, 3, 4, 4], 2),  # Multiple singles – returns first found\n",
    "    ([1, 1, 2, 2, 3, 3], None),\n",
    "]\n",
    "\n",
    "for i, (arr, expected) in enumerate(test_cases):\n",
    "    result = singleElementInSortedArray(arr)\n",
    "    print(f\"Test {i+1}: {'Pass' if result == expected else 'Fail'} | Output: {result} | Expected: {expected}\")\n"
   ]
  },
  {
   "cell_type": "markdown",
   "metadata": {},
   "source": [
    "striver app binary search"
   ]
  },
  {
   "cell_type": "code",
   "execution_count": 9,
   "metadata": {},
   "outputs": [],
   "source": [
    "def singleElementInSortedArray(arr):\n",
    "    n = len(arr)\n",
    "    if n == 1:\n",
    "        return arr[0]\n",
    "    if arr[0] != arr[1]:\n",
    "        return arr[0]\n",
    "    if arr[n - 1] != arr[n - 2]:\n",
    "        return arr[n - 1]\n",
    "\n",
    "    low = 1\n",
    "    high = n - 2\n",
    "\n",
    "    while low <= high:\n",
    "        mid = (low + high) // 2\n",
    "        if arr[mid] != arr[mid - 1] and arr[mid] != arr[mid + 1]:\n",
    "            return arr[mid]\n",
    "\n",
    "        # we are in the left side\n",
    "        if (mid % 2 == 1 and arr[mid] == arr[mid - 1]) or (mid % 2 == 0 and arr[mid] == arr[mid + 1]):\n",
    "            low = mid + 1\n",
    "        else:\n",
    "            high = mid - 1\n",
    "\n",
    "    return None\n"
   ]
  },
  {
   "cell_type": "code",
   "execution_count": 11,
   "metadata": {},
   "outputs": [
    {
     "name": "stdout",
     "output_type": "stream",
     "text": [
      "Test 1: Pass | Output: 3 | Expected: 3\n",
      "Test 2: Pass | Output: 7 | Expected: 7\n",
      "Test 3: Pass | Output: 5 | Expected: 5\n",
      "Test 4: Pass | Output: 4 | Expected: 4\n",
      "Test 5: Pass | Output: 2 | Expected: 2\n"
     ]
    }
   ],
   "source": [
    "test_cases = [\n",
    "    ([1, 1, 2, 2, 3, 4, 4], 3),\n",
    "    ([7], 7),\n",
    "    ([5, 6, 6, 7, 7, 8, 8], 5),\n",
    "    ([1, 1, 2, 2, 3, 3, 4], 4),\n",
    "\n",
    "    ([1, 1, 2, 3, 3, 4, 4], 2),  # Multiple singles – returns first found\n",
    "    \n",
    "]\n",
    "\n",
    "for i, (arr, expected) in enumerate(test_cases):\n",
    "    result = singleElementInSortedArray(arr)\n",
    "    print(f\"Test {i+1}: {'Pass' if result == expected else 'Fail'} | Output: {result} | Expected: {expected}\")\n"
   ]
  },
  {
   "cell_type": "markdown",
   "metadata": {},
   "source": [
    "# [10] find peak element"
   ]
  },
  {
   "cell_type": "markdown",
   "metadata": {},
   "source": [
    "my app"
   ]
  },
  {
   "cell_type": "code",
   "execution_count": 16,
   "metadata": {},
   "outputs": [],
   "source": [
    "def findPeakElement(arr):\n",
    "    if len(arr)==0:\n",
    "        return None\n",
    "    if len(arr)==1:\n",
    "        return arr[0]\n",
    "    for i in range(0,len(arr)-1,1):\n",
    "        if arr[i] >= arr[i-1] and arr[i] >= arr[i+1]:\n",
    "            return arr[i]\n",
    "    if arr[len(arr)-1]>arr[len(arr)-2]:\n",
    "        return arr[len(arr)-1]\n",
    "    if arr[0]>arr[1]:\n",
    "        return arr[i]\n",
    "    return None"
   ]
  },
  {
   "cell_type": "code",
   "execution_count": 20,
   "metadata": {},
   "outputs": [],
   "source": [
    "def findPeakElement(arr):\n",
    "    n = len(arr)\n",
    "    if n == 0:\n",
    "        return None\n",
    "\n",
    "    for i in range(n):\n",
    "        if (i == 0 or arr[i - 1] < arr[i]) and (i == n - 1 or arr[i] > arr[i + 1]):\n",
    "            return arr[i]\n",
    "\n",
    "    return None\n"
   ]
  },
  {
   "cell_type": "code",
   "execution_count": 22,
   "metadata": {},
   "outputs": [
    {
     "name": "stdout",
     "output_type": "stream",
     "text": [
      "Test 1: Fail | Output: 3 | Expected: 1\n",
      "Test 2: Pass | Output: 3 | Expected: 3\n",
      "Test 3: Fail | Output: 2 | Expected: 1\n",
      "Test 4: Pass | Output: 2 | Expected: 2\n",
      "Test 5: Pass | Output: 1 | Expected: 1\n",
      "Test 6: Pass | Output: None | Expected: None\n",
      "Test 7: Pass | Output: None | Expected: None\n",
      "Test 8: Fail | Output: 3 | Expected: 1\n",
      "Test 9: Fail | Output: 20 | Expected: 10\n"
     ]
    }
   ],
   "source": [
    "test_cases = [\n",
    "    ([1, 2, 3, 1], 1),                # First increasing\n",
    "    ([3, 2, 1], 3),                   # First element is peak\n",
    "    ([1, 2], 1),                      # Simple increasing\n",
    "    ([2, 1], 2),                      # First element peak\n",
    "    ([1], 1),                         # Single element\n",
    "    ([], None),                       # Empty list\n",
    "    ([5, 5, 5, 5], None),             # Flat, no peak\n",
    "    ([1, 3, 2, 4, 1], 1),             # Multiple peaks, returns first increasing neighbor\n",
    "    ([10, 20, 15, 2, 23, 90, 67], 10) # Multiple peaks, returns first increasing neighbor\n",
    "]\n",
    "\n",
    "for i, (arr, expected) in enumerate(test_cases):\n",
    "    result = findPeakElement(arr)\n",
    "    print(f\"Test {i+1}: {'Pass' if result == expected else 'Fail'} | Output: {result} | Expected: {expected}\")\n"
   ]
  },
  {
   "cell_type": "markdown",
   "metadata": {},
   "source": [
    "binary search"
   ]
  },
  {
   "cell_type": "code",
   "execution_count": null,
   "metadata": {},
   "outputs": [],
   "source": [
    "def findPeakElement(arr):\n",
    "    n = len(arr)\n",
    "    if n == 0:\n",
    "        return None\n",
    "    if n == 1:\n",
    "        return 0\n",
    "    if arr[0] > arr[1]:\n",
    "        return 0\n",
    "    if arr[n - 1] > arr[n - 2]:\n",
    "        return n - 1\n",
    "\n",
    "    low, high = 1, n - 2\n",
    "\n",
    "    while low <= high:\n",
    "        mid = (low + high) // 2\n",
    "        if arr[mid] > arr[mid - 1] and arr[mid] > arr[mid + 1]:\n",
    "            return mid\n",
    "        elif arr[mid] > arr[mid - 1]:\n",
    "            low = mid + 1\n",
    "        else:\n",
    "            high = mid - 1\n",
    "\n",
    "    return -1  # No peak found\n"
   ]
  },
  {
   "cell_type": "code",
   "execution_count": 23,
   "metadata": {},
   "outputs": [
    {
     "name": "stdout",
     "output_type": "stream",
     "text": [
      "Test 1: Fail | Output: 3 | Expected: 1\n",
      "Test 2: Pass | Output: 3 | Expected: 3\n",
      "Test 3: Fail | Output: 2 | Expected: 1\n",
      "Test 4: Pass | Output: 2 | Expected: 2\n",
      "Test 5: Pass | Output: 1 | Expected: 1\n",
      "Test 6: Pass | Output: None | Expected: None\n",
      "Test 7: Pass | Output: None | Expected: None\n",
      "Test 8: Fail | Output: 3 | Expected: 1\n",
      "Test 9: Fail | Output: 20 | Expected: 10\n"
     ]
    }
   ],
   "source": [
    "test_cases = [\n",
    "    ([1, 2, 3, 1], 1),                # First increasing\n",
    "    ([3, 2, 1], 3),                   # First element is peak\n",
    "    ([1, 2], 1),                      # Simple increasing\n",
    "    ([2, 1], 2),                      # First element peak\n",
    "    ([1], 1),                         # Single element\n",
    "    ([], None),                       # Empty list\n",
    "    ([5, 5, 5, 5], None),             # Flat, no peak\n",
    "    ([1, 3, 2, 4, 1], 1),             # Multiple peaks, returns first increasing neighbor\n",
    "    ([10, 20, 15, 2, 23, 90, 67], 10) # Multiple peaks, returns first increasing neighbor\n",
    "]\n",
    "\n",
    "for i, (arr, expected) in enumerate(test_cases):\n",
    "    result = findPeakElement(arr)\n",
    "    print(f\"Test {i+1}: {'Pass' if result == expected else 'Fail'} | Output: {result} | Expected: {expected}\")\n"
   ]
  },
  {
   "cell_type": "markdown",
   "metadata": {},
   "source": [
    "brute"
   ]
  },
  {
   "cell_type": "code",
   "execution_count": null,
   "metadata": {},
   "outputs": [],
   "source": []
  },
  {
   "cell_type": "markdown",
   "metadata": {},
   "source": [
    "binary search"
   ]
  },
  {
   "cell_type": "code",
   "execution_count": 25,
   "metadata": {},
   "outputs": [],
   "source": [
    "def sqrtBinarySearch(n):\n",
    "    if n < 0:\n",
    "        return None  # Square root of negative numbers is undefined in real numbers\n",
    "    if n == 0 or n == 1:\n",
    "        return n\n",
    "\n",
    "    low = 0\n",
    "    high = n\n",
    "    ans = -1\n",
    "\n",
    "    while low <= high:\n",
    "        mid = (low + high) // 2\n",
    "        if mid * mid == n:\n",
    "            return mid\n",
    "        elif mid * mid < n:\n",
    "            ans = mid  # store floor value\n",
    "            low = mid + 1\n",
    "        else:\n",
    "            high = mid - 1\n",
    "\n",
    "    return ans\n"
   ]
  },
  {
   "cell_type": "code",
   "execution_count": 26,
   "metadata": {},
   "outputs": [
    {
     "name": "stdout",
     "output_type": "stream",
     "text": [
      "Test 1: Pass | Input: 0 | Output: 0 | Expected: 0\n",
      "Test 2: Pass | Input: 1 | Output: 1 | Expected: 1\n",
      "Test 3: Pass | Input: 4 | Output: 2 | Expected: 2\n",
      "Test 4: Pass | Input: 15 | Output: 3 | Expected: 3\n",
      "Test 5: Pass | Input: 16 | Output: 4 | Expected: 4\n",
      "Test 6: Pass | Input: 25 | Output: 5 | Expected: 5\n",
      "Test 7: Pass | Input: 26 | Output: 5 | Expected: 5\n",
      "Test 8: Pass | Input: 1000000 | Output: 1000 | Expected: 1000\n",
      "Test 9: Pass | Input: 1000001 | Output: 1000 | Expected: 1000\n",
      "Test 10: Pass | Input: -4 | Output: None | Expected: None\n"
     ]
    }
   ],
   "source": [
    "# Test cases\n",
    "test_cases = [\n",
    "    (0, 0),      # Edge: Zero\n",
    "    (1, 1),      # Edge: One\n",
    "    (4, 2),      # Perfect square\n",
    "    (15, 3),     # Non-perfect square\n",
    "    (16, 4),     # Perfect square\n",
    "    (25, 5),     # Perfect square\n",
    "    (26, 5),     # Just above perfect square\n",
    "    (1000000, 1000),  # Large perfect square\n",
    "    (1000001, 1000),  # Large non-perfect square\n",
    "    (-4, None),      # Negative number edge case\n",
    "]\n",
    "\n",
    "for i, (num, expected) in enumerate(test_cases):\n",
    "    result = sqrtBinarySearch(num)\n",
    "    print(f\"Test {i+1}: {'Pass' if result == expected else 'Fail'} | Input: {num} | Output: {result} | Expected: {expected}\")"
   ]
  },
  {
   "cell_type": "markdown",
   "metadata": {},
   "source": [
    "# [12] Finding the nth root of an integer"
   ]
  },
  {
   "cell_type": "code",
   "execution_count": null,
   "metadata": {},
   "outputs": [
    {
     "name": "stdout",
     "output_type": "stream",
     "text": [
      "Test 1: 3-th root of 27 = 3.0\n",
      "Test 2: 4-th root of 16 = 2.0\n",
      "Test 3: 2-th root of 81 = 9.0\n",
      "Test 4: 10-th root of 1024 = 2.0\n",
      "Test 5: 5-th root of 1 = 1.0\n"
     ]
    }
   ],
   "source": [
    "import math\n",
    "\n",
    "def nthRoot(number, n):\n",
    "    if n == 0:\n",
    "        return None  # root of degree zero is undefined\n",
    "    if number < 0 and n % 2 == 0:\n",
    "        return None  # even root of negative number is not real\n",
    "\n",
    "    return number ** (1 / n)  # Using inbuilt exponent operator\n",
    "\n",
    "# Example test cases\n",
    "test_cases = [\n",
    "    (27, 3),      # Cube root of 27\n",
    "    (16, 4),      # 4th root of 16\n",
    "    (81, 2),      # Square root of 81\n",
    "    (1024, 10),   # 10th root of 1024\n",
    "    (1, 5),       # 5th root of 1\n",
    "]\n",
    "\n",
    "for i, (num, n) in enumerate(test_cases):\n",
    "    result = nthRoot(num, n)\n",
    "    print(f\"Test {i+1}: {n}-th root of {num} = {result}\")\n"
   ]
  },
  {
   "cell_type": "code",
   "execution_count": 28,
   "metadata": {},
   "outputs": [],
   "source": [
    "def nthRoot( n,m):\n",
    "    if n < 0:\n",
    "        return None  # Square root of negative numbers is undefined in real numbers\n",
    "    if n == 0 or n == 1:\n",
    "        return n\n",
    "\n",
    "    low = 0\n",
    "    high = n\n",
    "    ans = -1\n",
    "\n",
    "    while low <= high:\n",
    "        mid = (low + high) // 2\n",
    "        if mid **m == n:\n",
    "            return mid\n",
    "        elif mid **m < n:\n",
    "            ans = mid  # store floor value\n",
    "            low = mid + 1\n",
    "        else:\n",
    "            high = mid - 1\n",
    "\n",
    "    return ans"
   ]
  },
  {
   "cell_type": "code",
   "execution_count": null,
   "metadata": {},
   "outputs": [
    {
     "name": "stdout",
     "output_type": "stream",
     "text": [
      "Test 1: 3-th root of 27 = 3\n",
      "Test 2: 4-th root of 16 = 2\n",
      "Test 3: 2-th root of 81 = 9\n",
      "Test 4: 10-th root of 1024 = 2\n",
      "Test 5: 5-th root of 1 = 1\n"
     ]
    },
    {
     "ename": "",
     "evalue": "",
     "output_type": "error",
     "traceback": [
      "\u001b[1;31mThe Kernel crashed while executing code in the current cell or a previous cell. \n",
      "\u001b[1;31mPlease review the code in the cell(s) to identify a possible cause of the failure. \n",
      "\u001b[1;31mClick <a href='https://aka.ms/vscodeJupyterKernelCrash'>here</a> for more info. \n",
      "\u001b[1;31mView Jupyter <a href='command:jupyter.viewOutput'>log</a> for further details."
     ]
    }
   ],
   "source": [
    "# Example test cases\n",
    "test_cases = [\n",
    "    (27, 3),      # Cube root of 27\n",
    "    (16, 4),      # 4th root of 16\n",
    "    (81, 2),      # Square root of 81\n",
    "    (1024, 10),   # 10th root of 1024\n",
    "    (1, 5),       # 5th root of 1\n",
    "]\n",
    "\n",
    "for i, (num, n) in enumerate(test_cases):\n",
    "    result = nthRoot(num, n)\n",
    "    print(f\"Test {i+1}: {n}-th root of {num} = {result}\")\n"
   ]
  },
  {
   "cell_type": "code",
   "execution_count": null,
   "metadata": {},
   "outputs": [],
   "source": [
    "def func(mid, n, m):\n",
    "    ans = 1\n",
    "    for i in range(1, n + 1):\n",
    "        ans *= mid\n",
    "        if ans > m:\n",
    "            return 2  # mid^n > m\n",
    "    if ans == m:\n",
    "        return 1  # mid^n == m\n",
    "    return 0  # mid^n < m\n",
    "\n",
    "def nth_root(n, m):\n",
    "    low = 1\n",
    "    high = m\n",
    "\n",
    "    while low <= high:\n",
    "        mid = (low + high) // 2\n",
    "        midN = func(mid, n, m)\n",
    "\n",
    "        if midN == 1:\n",
    "            return mid\n",
    "        elif midN < 1:\n",
    "            low = mid + 1\n",
    "        else:\n",
    "            high = mid - 1\n",
    "\n",
    "    return -1\n",
    "\n",
    "# Example usage:\n",
    "n = 3\n",
    "m = 27\n",
    "print(\"Nth Root:\", nth_root(n, m))\n"
   ]
  },
  {
   "cell_type": "markdown",
   "metadata": {},
   "source": [
    "# [13] koko eating bananas"
   ]
  },
  {
   "cell_type": "code",
   "execution_count": 1,
   "metadata": {},
   "outputs": [
    {
     "name": "stdout",
     "output_type": "stream",
     "text": [
      "Minimum rate to eat all bananas: 4\n"
     ]
    }
   ],
   "source": [
    "import math\n",
    "\n",
    "def find_max(v):\n",
    "    return max(v)\n",
    "\n",
    "def calculate_total_hours(v, hourly):\n",
    "    total_hours = 0\n",
    "    for bananas in v:\n",
    "        total_hours += math.ceil(bananas / hourly)\n",
    "    return total_hours\n",
    "\n",
    "def minimum_rate_to_eat_bananas(v, h):\n",
    "    low = 1\n",
    "    high = find_max(v)\n",
    "\n",
    "    while low <= high:\n",
    "        mid = (low + high) // 2\n",
    "        total_hours = calculate_total_hours(v, mid)\n",
    "\n",
    "        if total_hours <= h:\n",
    "            high = mid - 1\n",
    "        else:\n",
    "            low = mid + 1\n",
    "\n",
    "    return low\n",
    "\n",
    "# Example usage:\n",
    "bananas = [3, 6, 7, 11]\n",
    "h = 8\n",
    "print(\"Minimum rate to eat all bananas:\", minimum_rate_to_eat_bananas(bananas, h))\n"
   ]
  },
  {
   "cell_type": "markdown",
   "metadata": {},
   "source": [
    "# [14] Minimum daya to make M bouquets"
   ]
  },
  {
   "cell_type": "code",
   "execution_count": 2,
   "metadata": {},
   "outputs": [
    {
     "name": "stdout",
     "output_type": "stream",
     "text": [
      "Minimum day to make bouquets: 3\n"
     ]
    }
   ],
   "source": [
    "def possible(arr, day, m, k):\n",
    "    cnt = 0\n",
    "    no_of_bouquets = 0\n",
    "\n",
    "    for flower_day in arr:\n",
    "        if flower_day <= day:\n",
    "            cnt += 1\n",
    "        else:\n",
    "            no_of_bouquets += cnt // k\n",
    "            cnt = 0\n",
    "\n",
    "    no_of_bouquets += cnt // k\n",
    "    return no_of_bouquets >= m\n",
    "\n",
    "def rose_garden(arr, r, b, k):\n",
    "    total_needed = r * b\n",
    "    if total_needed > len(arr):\n",
    "        return -1\n",
    "\n",
    "    mini = min(arr)\n",
    "    maxi = max(arr)\n",
    "\n",
    "    low = mini\n",
    "    high = maxi\n",
    "\n",
    "    while low <= high:\n",
    "        mid = (low + high) // 2\n",
    "        if possible(arr, mid, r, k):\n",
    "            high = mid - 1\n",
    "        else:\n",
    "            low = mid + 1\n",
    "\n",
    "    return low\n",
    "\n",
    "# Example usage:\n",
    "arr = [1, 10, 3, 10, 2]\n",
    "r = 3  # required bouquets\n",
    "b = 1  # flowers per bouquet\n",
    "k = 1  # minimum flowers per bouquet\n",
    "print(\"Minimum day to make bouquets:\", rose_garden(arr, r, b, k))\n"
   ]
  },
  {
   "cell_type": "markdown",
   "metadata": {},
   "source": [
    "# [15] find out the smallest divisor given a threshold value"
   ]
  },
  {
   "cell_type": "markdown",
   "metadata": {},
   "source": [
    "brute"
   ]
  },
  {
   "cell_type": "code",
   "execution_count": null,
   "metadata": {},
   "outputs": [],
   "source": []
  },
  {
   "cell_type": "markdown",
   "metadata": {},
   "source": [
    "binary search"
   ]
  },
  {
   "cell_type": "code",
   "execution_count": 3,
   "metadata": {},
   "outputs": [
    {
     "name": "stdout",
     "output_type": "stream",
     "text": [
      "Smallest Divisor: 5\n"
     ]
    }
   ],
   "source": [
    "import math\n",
    "\n",
    "def sum_by_div(arr, div):\n",
    "    total = 0\n",
    "    for num in arr:\n",
    "        total += math.ceil(num / div)\n",
    "    return total\n",
    "\n",
    "def smallest_divisor(arr, limit):\n",
    "    low = 1\n",
    "    high = max(arr)\n",
    "\n",
    "    while low <= high:\n",
    "        mid = (low + high) // 2\n",
    "        if sum_by_div(arr, mid) <= limit:\n",
    "            high = mid - 1\n",
    "        else:\n",
    "            low = mid + 1\n",
    "\n",
    "    return low\n",
    "\n",
    "# Example usage:\n",
    "arr = [1, 2, 5, 9]\n",
    "limit = 6\n",
    "print(\"Smallest Divisor:\", smallest_divisor(arr, limit))\n"
   ]
  },
  {
   "cell_type": "markdown",
   "metadata": {},
   "source": [
    "# [16] least capacity to ship packages within d days"
   ]
  },
  {
   "cell_type": "code",
   "execution_count": 8,
   "metadata": {},
   "outputs": [
    {
     "name": "stdout",
     "output_type": "stream",
     "text": [
      "Least Weight Capacity: 15\n"
     ]
    }
   ],
   "source": [
    "def find_days(weights, cap):\n",
    "    days = 1\n",
    "    load = 0\n",
    "    for weight in weights:\n",
    "        if weight + load > cap:\n",
    "            days += 1\n",
    "            load = weight\n",
    "        else:\n",
    "            load += weight\n",
    "    return days\n",
    "\n",
    "def least_weight_capacity(weights, d):\n",
    "    low = max(weights)\n",
    "    high = sum(weights)\n",
    "\n",
    "    while low <= high:\n",
    "        mid = (low + high) // 2\n",
    "        number_of_days = find_days(weights, mid)\n",
    "\n",
    "        if number_of_days <= d:\n",
    "            high = mid - 1\n",
    "        else:\n",
    "            low = mid + 1\n",
    "\n",
    "    return low\n",
    "\n",
    "# Example usage:\n",
    "weights = [1, 2, 3, 4, 5, 6, 7, 8, 9, 10]\n",
    "d = 5\n",
    "print(\"Least Weight Capacity:\", least_weight_capacity(weights, d))\n"
   ]
  },
  {
   "cell_type": "markdown",
   "metadata": {},
   "source": [
    "# [17] kth missing positive number "
   ]
  },
  {
   "cell_type": "code",
   "execution_count": 10,
   "metadata": {},
   "outputs": [
    {
     "name": "stdout",
     "output_type": "stream",
     "text": [
      "The K-th missing number is: 9\n"
     ]
    }
   ],
   "source": [
    "def missing_k(vec, n, k):\n",
    "    low = 0\n",
    "    high = n - 1\n",
    "\n",
    "    while low <= high:\n",
    "        mid = (low + high) // 2\n",
    "        missing = vec[mid] - (mid + 1)\n",
    "\n",
    "        if missing < k:\n",
    "            low = mid + 1\n",
    "        else:\n",
    "            high = mid - 1\n",
    "\n",
    "    return k + high + 1\n",
    "\n",
    "# Example usage:\n",
    "vec = [2, 3, 4, 7, 11]\n",
    "n = len(vec)\n",
    "k = 5\n",
    "print(\"The K-th missing number is:\", missing_k(vec, n, k))\n"
   ]
  },
  {
   "cell_type": "markdown",
   "metadata": {},
   "source": [
    "# [18] Aggressive cows"
   ]
  },
  {
   "cell_type": "code",
   "execution_count": 12,
   "metadata": {},
   "outputs": [
    {
     "name": "stdout",
     "output_type": "stream",
     "text": [
      "Largest minimum distance: 3\n"
     ]
    }
   ],
   "source": [
    "def can_we_place(stalls, dist, cows):\n",
    "    cnt_cows = 1\n",
    "    last = stalls[0]\n",
    "    \n",
    "    for i in range(1, len(stalls)):\n",
    "        if stalls[i] - last >= dist:\n",
    "            cnt_cows += 1\n",
    "            last = stalls[i]\n",
    "        if cnt_cows >= cows:\n",
    "            return True\n",
    "    return False\n",
    "\n",
    "def aggressive_cows(stalls, k):\n",
    "    stalls.sort()\n",
    "    n = len(stalls)\n",
    "    low = 1\n",
    "    high = stalls[-1] - stalls[0]\n",
    "    \n",
    "    while low <= high:\n",
    "        mid = (low + high) // 2\n",
    "        if can_we_place(stalls, mid, k):\n",
    "            low = mid + 1\n",
    "        else:\n",
    "            high = mid - 1\n",
    "    \n",
    "    return high\n",
    "\n",
    "# Example usage:\n",
    "stalls = [1, 2, 8, 4, 9]\n",
    "k = 3  # number of cows\n",
    "print(\"Largest minimum distance:\", aggressive_cows(stalls, k))\n"
   ]
  },
  {
   "cell_type": "markdown",
   "metadata": {},
   "source": [
    "# [19] allocate book or book allocation"
   ]
  },
  {
   "cell_type": "code",
   "execution_count": 14,
   "metadata": {},
   "outputs": [
    {
     "name": "stdout",
     "output_type": "stream",
     "text": [
      "Minimum number of maximum pages: 113\n"
     ]
    }
   ],
   "source": [
    "def count_students(arr, pages):\n",
    "    students = 1\n",
    "    pages_student = 0\n",
    "    \n",
    "    for page in arr:\n",
    "        if pages_student + page <= pages:\n",
    "            pages_student += page\n",
    "        else:\n",
    "            students += 1\n",
    "            pages_student = page\n",
    "            \n",
    "    return students\n",
    "\n",
    "def find_pages(arr, n, m):\n",
    "    if m > n:\n",
    "        return -1\n",
    "    \n",
    "    low = max(arr)\n",
    "    high = sum(arr)\n",
    "    \n",
    "    while low <= high:\n",
    "        mid = (low + high) // 2\n",
    "        students = count_students(arr, mid)\n",
    "        \n",
    "        if students > m:\n",
    "            low = mid + 1\n",
    "        else:\n",
    "            high = mid - 1\n",
    "            \n",
    "    return low\n",
    "\n",
    "# Example usage:\n",
    "arr = [12, 34, 67, 90]\n",
    "n = len(arr)\n",
    "m = 2  # number of students\n",
    "print(\"Minimum number of maximum pages:\", find_pages(arr, n, m))\n"
   ]
  },
  {
   "cell_type": "markdown",
   "metadata": {},
   "source": [
    "# [20] allocate book or book allocation same // painter partition split array"
   ]
  },
  {
   "cell_type": "code",
   "execution_count": 15,
   "metadata": {},
   "outputs": [
    {
     "name": "stdout",
     "output_type": "stream",
     "text": [
      "Minimum possible maximum pages: 113\n"
     ]
    }
   ],
   "source": [
    "def count_students(arr, pages):\n",
    "    students = 1\n",
    "    pages_student = 0\n",
    "\n",
    "    for page in arr:\n",
    "        if pages_student + page <= pages:\n",
    "            pages_student += page\n",
    "        else:\n",
    "            students += 1\n",
    "            pages_student = page\n",
    "\n",
    "    return students\n",
    "\n",
    "def find_pages(arr, n, m):\n",
    "    if m > n:\n",
    "        return -1\n",
    "\n",
    "    low = max(arr)\n",
    "    high = sum(arr)\n",
    "\n",
    "    while low <= high:\n",
    "        mid = (low + high) // 2\n",
    "        students = count_students(arr, mid)\n",
    "\n",
    "        if students > m:\n",
    "            low = mid + 1\n",
    "        else:\n",
    "            high = mid - 1\n",
    "\n",
    "    return low\n",
    "\n",
    "# Example usage:\n",
    "a = [12, 34, 67, 90]  # Example book pages\n",
    "n = len(a)\n",
    "m = 2  # Number of students\n",
    "\n",
    "print(\"Minimum possible maximum pages:\", find_pages(a, n, m))\n"
   ]
  },
  {
   "cell_type": "markdown",
   "metadata": {},
   "source": []
  },
  {
   "cell_type": "code",
   "execution_count": null,
   "metadata": {},
   "outputs": [],
   "source": []
  }
 ],
 "metadata": {
  "kernelspec": {
   "display_name": "Python 3",
   "language": "python",
   "name": "python3"
  },
  "language_info": {
   "codemirror_mode": {
    "name": "ipython",
    "version": 3
   },
   "file_extension": ".py",
   "mimetype": "text/x-python",
   "name": "python",
   "nbconvert_exporter": "python",
   "pygments_lexer": "ipython3",
   "version": "3.13.1"
  }
 },
 "nbformat": 4,
 "nbformat_minor": 2
}
