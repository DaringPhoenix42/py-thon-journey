{
 "cells": [
  {
   "cell_type": "markdown",
   "id": "74783cad",
   "metadata": {},
   "source": [
    " stack implemenatation using list"
   ]
  },
  {
   "cell_type": "code",
   "execution_count": null,
   "id": "542ba7cc",
   "metadata": {},
   "outputs": [
    {
     "name": "stdout",
     "output_type": "stream",
     "text": [
      "stack\n",
      "to\n",
      "welcome\n"
     ]
    }
   ],
   "source": [
    "stack=[]\n",
    "stack.append(\"welcome\")\n",
    "stack.append(\"to\")\n",
    "stack.append(\"stack\")\n",
    "print(stack.pop())\n",
    "print(stack.pop())\n",
    "print(stack.pop())\n"
   ]
  },
  {
   "cell_type": "markdown",
   "id": "40de21ed",
   "metadata": {},
   "source": [
    "# Implementation of stack using the collection module which provides dequeue class"
   ]
  },
  {
   "cell_type": "code",
   "execution_count": 7,
   "id": "cfb1de01",
   "metadata": {},
   "outputs": [
    {
     "name": "stdout",
     "output_type": "stream",
     "text": [
      "abc\n",
      "stack\n",
      "to\n",
      "welcome\n"
     ]
    }
   ],
   "source": [
    "from collections import deque\n",
    "stack=deque()\n",
    "stack.append(\"abc\")\n",
    "print(stack.pop())\n",
    "stack.append(\"welcome\")\n",
    "stack.append(\"to\")\n",
    "stack.append(\"stack\")\n",
    "print(stack.pop())\n",
    "print(stack.pop())\n",
    "print(stack.pop())\n"
   ]
  },
  {
   "cell_type": "markdown",
   "id": "5b329115",
   "metadata": {},
   "source": [
    "# Implementation of stack using queue"
   ]
  },
  {
   "cell_type": "code",
   "execution_count": 9,
   "id": "176cb321",
   "metadata": {},
   "outputs": [
    {
     "name": "stdout",
     "output_type": "stream",
     "text": [
      "3\n",
      "False\n",
      "False\n",
      "4\n",
      "3\n",
      "2\n"
     ]
    }
   ],
   "source": [
    "from queue import LifoQueue\n",
    "stack=LifoQueue(maxsize=5)\n",
    "stack.put(2)\n",
    "stack.put(3)\n",
    "stack.put(4)\n",
    "print(stack.qsize())\n",
    "print(stack.empty())\n",
    "print(stack.full())\n",
    "\n",
    "print(stack.get())\n",
    "print(stack.get())\n",
    "print(stack.get())"
   ]
  }
 ],
 "metadata": {
  "kernelspec": {
   "display_name": "Python 3",
   "language": "python",
   "name": "python3"
  },
  "language_info": {
   "codemirror_mode": {
    "name": "ipython",
    "version": 3
   },
   "file_extension": ".py",
   "mimetype": "text/x-python",
   "name": "python",
   "nbconvert_exporter": "python",
   "pygments_lexer": "ipython3",
   "version": "3.13.1"
  }
 },
 "nbformat": 4,
 "nbformat_minor": 5
}
