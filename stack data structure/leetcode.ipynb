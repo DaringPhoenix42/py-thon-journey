{
 "cells": [
  {
   "cell_type": "markdown",
   "id": "899e198c",
   "metadata": {},
   "source": [
    "Valid Parentheses - Stack - Leetcode 20"
   ]
  },
  {
   "cell_type": "code",
   "execution_count": null,
   "id": "d4a2d976",
   "metadata": {},
   "outputs": [],
   "source": [
    "class Solution(object):\n",
    "    def isValid(self, s):\n",
    "        \"\"\"\n",
    "        :type s: str\n",
    "        :rtype: bool\n",
    "        \"\"\"\n",
    "        # declaring empty stack first\n",
    "        stack=[]\n",
    "        # traversing the  string given\n",
    "        for i in s:\n",
    "            # opening bracket check\n",
    "            if i=='(' or i=='{' or i=='[':\n",
    "                stack.append(i)\n",
    "\n",
    "            # closing bracket check ,input froom string is closing bracket \n",
    "            #and stack top is opening bracket\n",
    "            else:\n",
    "                if stack and ( \n",
    "                             (stack[-1]=='(' and i ==')')or\n",
    "                             (stack[-1]=='[' and i ==']')or\n",
    "                             (stack[-1]=='{' and i =='}')\n",
    "                             ):\n",
    "\n",
    "                        stack.pop()\n",
    "                # unmatched closing bracket\n",
    "                else:\n",
    "                    return False\n",
    "        if len(stack)!=0:\n",
    "            return False\n",
    "        else:\n",
    "            return True"
   ]
  },
  {
   "cell_type": "markdown",
   "id": "037c5193",
   "metadata": {},
   "source": [
    "Simplify Path - Stack - Leetcode 71"
   ]
  },
  {
   "cell_type": "code",
   "execution_count": 6,
   "id": "34d6ad10",
   "metadata": {},
   "outputs": [],
   "source": [
    "class Solution(object):\n",
    "    def simplifyPath(self, path):\n",
    "        list1 = path.split('/')\n",
    "        print(\"Split parts:\", list1)\n",
    "\n",
    "        output = []  \n",
    "\n",
    "        for i in list1:\n",
    "            if i == \"\" or i == \".\":\n",
    "                continue\n",
    "            elif i == \"..\":\n",
    "                if output:\n",
    "                    output.pop()\n",
    "            else:\n",
    "                output.append(i)\n",
    "\n",
    "       \n",
    "\n",
    "        # Join the result with '/' to make the final path\n",
    "        return \"/\" + \"/\".join(output)\n",
    "\n",
    "    "
   ]
  },
  {
   "cell_type": "code",
   "execution_count": 7,
   "id": "4771df46",
   "metadata": {},
   "outputs": [
    {
     "name": "stdout",
     "output_type": "stream",
     "text": [
      "Split parts: ['', 'home', '']\n",
      "Returned: /home\n"
     ]
    }
   ],
   "source": [
    "sol = Solution()\n",
    "result = sol.simplifyPath(\"/home/\")\n",
    "print(\"Returned:\", result)\n"
   ]
  }
 ],
 "metadata": {
  "kernelspec": {
   "display_name": "Python 3",
   "language": "python",
   "name": "python3"
  },
  "language_info": {
   "codemirror_mode": {
    "name": "ipython",
    "version": 3
   },
   "file_extension": ".py",
   "mimetype": "text/x-python",
   "name": "python",
   "nbconvert_exporter": "python",
   "pygments_lexer": "ipython3",
   "version": "3.13.1"
  }
 },
 "nbformat": 4,
 "nbformat_minor": 5
}
