{
 "cells": [
  {
   "cell_type": "markdown",
   "id": "899e198c",
   "metadata": {},
   "source": [
    "Valid Parentheses - Stack - Leetcode 20"
   ]
  },
  {
   "cell_type": "code",
   "execution_count": null,
   "id": "d4a2d976",
   "metadata": {},
   "outputs": [],
   "source": [
    "class Solution(object):\n",
    "    def isValid(self, s):\n",
    "        \"\"\"\n",
    "        :type s: str\n",
    "        :rtype: bool\n",
    "        \"\"\"\n",
    "        # declaring empty stack first\n",
    "        stack=[]\n",
    "        # traversing the  string given\n",
    "        for i in s:\n",
    "            # opening bracket check\n",
    "            if i=='(' or i=='{' or i=='[':\n",
    "                stack.append(i)\n",
    "\n",
    "            # closing bracket check ,input froom string is closing bracket \n",
    "            #and stack top is opening bracket\n",
    "            else:\n",
    "                if stack and ( \n",
    "                             (stack[-1]=='(' and i ==')')or\n",
    "                             (stack[-1]=='[' and i ==']')or\n",
    "                             (stack[-1]=='{' and i =='}')\n",
    "                             ):\n",
    "\n",
    "                        stack.pop()\n",
    "                # unmatched closing bracket\n",
    "                else:\n",
    "                    return False\n",
    "        if len(stack)!=0:\n",
    "            return False\n",
    "        else:\n",
    "            return True"
   ]
  },
  {
   "cell_type": "markdown",
   "id": "037c5193",
   "metadata": {},
   "source": [
    "Simplify Path - Stack - Leetcode 71"
   ]
  },
  {
   "cell_type": "markdown",
   "id": "4df9320b",
   "metadata": {},
   "source": [
    "basic approach"
   ]
  },
  {
   "cell_type": "code",
   "execution_count": null,
   "id": "34d6ad10",
   "metadata": {},
   "outputs": [],
   "source": [
    "class Solution(object):\n",
    "    \n",
    "    def simplifyPath(self, path):\n",
    "        list1 = path.split('/')\n",
    "        print(\"Split parts:\", list1)\n",
    "\n",
    "        output = []  \n",
    "\n",
    "        for i in list1:\n",
    "            if i == \"\" or i == \".\":\n",
    "                continue\n",
    "            elif i == \"..\":\n",
    "                if output:\n",
    "                    output.pop()\n",
    "            else:\n",
    "                output.append(i)\n",
    "\n",
    "       \n",
    "\n",
    "        # Join the result with '/' to make the final path\n",
    "        return \"/\" + \"/\".join(output)\n",
    "\n",
    "    "
   ]
  },
  {
   "cell_type": "code",
   "execution_count": 7,
   "id": "4771df46",
   "metadata": {},
   "outputs": [
    {
     "name": "stdout",
     "output_type": "stream",
     "text": [
      "Split parts: ['', 'home', '']\n",
      "Returned: /home\n"
     ]
    }
   ],
   "source": [
    "sol = Solution()\n",
    "result = sol.simplifyPath(\"/home/\")\n",
    "print(\"Returned:\", result)\n"
   ]
  },
  {
   "cell_type": "markdown",
   "id": "7f248f41",
   "metadata": {},
   "source": [
    "Generate Parentheses - Stack - Leetcode 22"
   ]
  },
  {
   "cell_type": "code",
   "execution_count": null,
   "id": "bfb7abe0",
   "metadata": {},
   "outputs": [],
   "source": [
    "class Solution(object):\n",
    "    def generateParenthesis(self, n):\n",
    "        \"\"\"\n",
    "        :type n: int\n",
    "        :rtype: List[str]\n",
    "        \"\"\"\n",
    "        # only add open parathesis if open < n and\n",
    "        # adding open paranthesis only in start\n",
    "        # add closing paranthesis if open > close\n",
    "        # end if open = close = n ; n = total number of pairs of paranthesis\n",
    "\n",
    "        stack = []  # holds the current combination being built\n",
    "        res = []    # stores all valid combinations\n",
    "\n",
    "        def backtrack(openN, closeN):\n",
    "            # if we've used all n pairs, add to result\n",
    "            if openN == closeN == n:\n",
    "                res.append(\"\".join(stack))\n",
    "                return\n",
    "\n",
    "            # if we can still add '(', do it\n",
    "            if openN < n:\n",
    "                stack.append(\"(\")\n",
    "                backtrack(openN + 1, closeN)\n",
    "                stack.pop()\n",
    "\n",
    "            # if we can add ')', do it only if there's unmatched '('\n",
    "            if closeN < openN:\n",
    "                stack.append(\")\")\n",
    "                backtrack(openN, closeN + 1)\n",
    "                stack.pop()\n",
    "\n",
    "        backtrack(0, 0)\n",
    "        return res\n"
   ]
  },
  {
   "cell_type": "markdown",
   "id": "a6c40010",
   "metadata": {},
   "source": [
    "Design Min Stack - Amazon Interview Question - Leetcode 155"
   ]
  },
  {
   "cell_type": "code",
   "execution_count": null,
   "id": "e3bedfa7",
   "metadata": {},
   "outputs": [],
   "source": [
    "class MinStack(object):\n",
    "\n",
    "    def __init__(self):\n",
    "        self.stack=[]\n",
    "\n",
    "    def push(self, val):\n",
    "        \"\"\"\n",
    "        :type val: int\n",
    "        :rtype: None\n",
    "        \"\"\"\n",
    "        \n",
    "        self.stack.append(val)\n",
    "        \n",
    "        \n",
    "\n",
    "    def pop(self):\n",
    "        \"\"\"\n",
    "        :rtype: None\n",
    "        \"\"\"\n",
    "        if self.stack:\n",
    "            re=self.stack.pop()\n",
    "       \n",
    "\n",
    "        \n",
    "\n",
    "    def top(self):\n",
    "        \"\"\"\n",
    "        :rtype: int\n",
    "        \"\"\"\n",
    "        if self.stack:\n",
    "            top=self.stack[-1]\n",
    "            return top\n",
    "       \n",
    "        \n",
    "\n",
    "    def getMin(self):\n",
    "        \"\"\"\n",
    "        :rtype: int\n",
    "        \"\"\"\n",
    "        if self.stack:\n",
    "            return min(self.stack)\n",
    "        else:\n",
    "            return None\n",
    "               \n",
    "        \n",
    "\n",
    "\n",
    "# Your MinStack object will be instantiated and called as such:\n",
    "# obj = MinStack()\n",
    "# obj.push(val)\n",
    "# obj.pop()\n",
    "# param_3 = obj.top()\n",
    "# param_4 = obj.getMin()"
   ]
  }
 ],
 "metadata": {
  "kernelspec": {
   "display_name": "Python 3",
   "language": "python",
   "name": "python3"
  },
  "language_info": {
   "codemirror_mode": {
    "name": "ipython",
    "version": 3
   },
   "file_extension": ".py",
   "mimetype": "text/x-python",
   "name": "python",
   "nbconvert_exporter": "python",
   "pygments_lexer": "ipython3",
   "version": "3.13.1"
  }
 },
 "nbformat": 4,
 "nbformat_minor": 5
}
