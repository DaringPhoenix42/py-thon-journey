{
 "cells": [
  {
   "cell_type": "markdown",
   "id": "899e198c",
   "metadata": {},
   "source": [
    "Valid Parentheses - Stack - Leetcode 20"
   ]
  },
  {
   "cell_type": "code",
   "execution_count": null,
   "id": "d4a2d976",
   "metadata": {},
   "outputs": [],
   "source": [
    "class Solution(object):\n",
    "    def isValid(self, s):\n",
    "        \"\"\"\n",
    "        :type s: str\n",
    "        :rtype: bool\n",
    "        \"\"\"\n",
    "        # declaring empty stack first\n",
    "        stack=[]\n",
    "        # traversing the  string given\n",
    "        for i in s:\n",
    "            # opening bracket check\n",
    "            if i=='(' or i=='{' or i=='[':\n",
    "                stack.append(i)\n",
    "\n",
    "            # closing bracket check ,input froom string is closing bracket \n",
    "            #and stack top is opening bracket\n",
    "            else:\n",
    "                if stack and ( \n",
    "                             (stack[-1]=='(' and i ==')')or\n",
    "                             (stack[-1]=='[' and i ==']')or\n",
    "                             (stack[-1]=='{' and i =='}')\n",
    "                             ):\n",
    "\n",
    "                        stack.pop()\n",
    "                # unmatched closing bracket\n",
    "                else:\n",
    "                    return False\n",
    "        if len(stack)!=0:\n",
    "            return False\n",
    "        else:\n",
    "            return True"
   ]
  }
 ],
 "metadata": {
  "language_info": {
   "name": "python"
  }
 },
 "nbformat": 4,
 "nbformat_minor": 5
}
