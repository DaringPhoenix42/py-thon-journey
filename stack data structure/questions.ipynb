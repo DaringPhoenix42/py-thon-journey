{
 "cells": [
  {
   "cell_type": "markdown",
   "id": "7225ae62",
   "metadata": {},
   "source": [
    "\n",
    "# Valid Parentheses - Stack - Leetcode 20 - Python "
   ]
  },
  {
   "cell_type": "markdown",
   "id": "205f1fb9",
   "metadata": {},
   "source": []
  },
  {
   "cell_type": "markdown",
   "id": "27c737ce",
   "metadata": {},
   "source": [
    "# Infix to Postfix Expression"
   ]
  },
  {
   "cell_type": "code",
   "execution_count": 8,
   "id": "dfe64196",
   "metadata": {},
   "outputs": [],
   "source": [
    "def prec(c):\n",
    "    if c =='^':\n",
    "        return 3\n",
    "    elif c in ('/','*'):\n",
    "        return 2\n",
    "    \n",
    "    elif c in ('+','-'):\n",
    "        return 1\n",
    "    else:\n",
    "        return -1\n",
    "   \n",
    "def infix_to_postfix(s):\n",
    "    stack=[]\n",
    "    result=\"\"\n",
    "    for charcter in s:\n",
    "        \n",
    "        if charcter.isalnum():\n",
    "            result+=charcter\n",
    "        \n",
    "        elif charcter=='(':\n",
    "            stack.append('(')\n",
    "            \n",
    "        elif charcter==')':\n",
    "            while stack and stack[-1] !='(':\n",
    "                result+=stack.pop()\n",
    "            stack.pop()\n",
    "            \n",
    "        else:\n",
    "            while stack and prec(charcter)<= prec(stack[-1]):\n",
    "                result+=stack.pop()\n",
    "                \n",
    "            stack.append(charcter)\n",
    "    while stack:\n",
    "        result+=stack.pop()\n",
    "    return result\n",
    "                 "
   ]
  },
  {
   "cell_type": "code",
   "execution_count": 9,
   "id": "5ab006f3",
   "metadata": {},
   "outputs": [
    {
     "name": "stdout",
     "output_type": "stream",
     "text": [
      "abcd^e-fgh*+^*+i-\n"
     ]
    }
   ],
   "source": [
    "if __name__ == '__main__':\n",
    "    exp = 'a+b*(c^d-e)^(f+g*h)-i'\n",
    "    print(infix_to_postfix(exp))"
   ]
  },
  {
   "cell_type": "markdown",
   "id": "a0f97a57",
   "metadata": {},
   "source": [
    "# Prefix to Infix Conversion"
   ]
  },
  {
   "cell_type": "code",
   "execution_count": 14,
   "id": "9be081d0",
   "metadata": {},
   "outputs": [],
   "source": [
    "def isOperator(c):\n",
    "    if c in(\"*\",\"+\",\"-\",\"/\",\"^\",\"(\",\")\"):\n",
    "        return True\n",
    "    else :\n",
    "        return False\n",
    "        \n",
    "    \n",
    "def prefixToInfix(prefix):\n",
    "    stack=[]\n",
    "    i=len(prefix)-1\n",
    "    while i>=0:\n",
    "        #when string instance is operand add to stack\n",
    "        if not isOperator(prefix[i]):\n",
    "            stack.append(prefix[i])\n",
    "            i-=1\n",
    "        # when string instance is operator then 2 operand and concatinate it with operator\n",
    "        else:\n",
    "            str=\"(\" +stack.pop() + prefix[i] +stack.pop() +\")\"\n",
    "            stack.append(str)\n",
    "            i-=1\n",
    "    \n",
    "    return stack.pop()\n",
    "        \n",
    "    "
   ]
  },
  {
   "cell_type": "code",
   "execution_count": 15,
   "id": "6edf963e",
   "metadata": {},
   "outputs": [
    {
     "name": "stdout",
     "output_type": "stream",
     "text": [
      "((A-(B/C))*((A/K)-L))\n"
     ]
    }
   ],
   "source": [
    "if __name__==\"__main__\":\n",
    "    str = \"*-A/BC-/AKL\"\n",
    "    print(prefixToInfix(str))"
   ]
  },
  {
   "cell_type": "markdown",
   "id": "7bd875fa",
   "metadata": {},
   "source": [
    "# Prefix to Postfix Conversion"
   ]
  },
  {
   "cell_type": "code",
   "execution_count": 16,
   "id": "7c0ba61c",
   "metadata": {},
   "outputs": [],
   "source": [
    "def isOperator(c):\n",
    "    if c in(\"*\",\"+\",\"-\",\"/\",\"^\",\"(\",\")\"):\n",
    "        return True\n",
    "    else :\n",
    "        return False\n",
    "        \n",
    "    \n",
    "def prefixTopostfix(prefix):\n",
    "    stack=[]\n",
    "    i=len(prefix)-1\n",
    "    while i>=0:\n",
    "        #when string instance is operand add to stack\n",
    "        if not isOperator(prefix[i]):\n",
    "            stack.append(prefix[i])\n",
    "            i-=1\n",
    "        # when string instance is operator then 2 operand and concatinate it with operator\n",
    "        else:\n",
    "            str=stack.pop() +stack.pop() +prefix[i] \n",
    "            stack.append(str)\n",
    "            i-=1\n",
    "    \n",
    "    return stack.pop()"
   ]
  },
  {
   "cell_type": "code",
   "execution_count": 17,
   "id": "47bcdd29",
   "metadata": {},
   "outputs": [
    {
     "name": "stdout",
     "output_type": "stream",
     "text": [
      "ABC/-AK/L-*\n"
     ]
    }
   ],
   "source": [
    "if __name__==\"__main__\":\n",
    "    str = \"*-A/BC-/AKL\"\n",
    "    print(prefixTopostfix(str))\n"
   ]
  },
  {
   "cell_type": "markdown",
   "id": "b172a012",
   "metadata": {},
   "source": [
    "# Postfix to Prefix Conversion"
   ]
  },
  {
   "cell_type": "code",
   "execution_count": 25,
   "id": "74e9138c",
   "metadata": {},
   "outputs": [],
   "source": [
    "\n",
    "class Solution:\n",
    "\n",
    " def isOperator(self,c):\n",
    "    if c in(\"*\",\"+\",\"-\",\"/\",\"^\",\"(\",\")\"):\n",
    "        return True\n",
    "    else :\n",
    "        return False\n",
    "        \n",
    "    \n",
    " def postToPre(self,prefix):\n",
    "    stack=[]\n",
    "    i=0\n",
    "    while i<=len(prefix)-1:\n",
    "        #when string instance is operand add to stack\n",
    "        if not self.isOperator(prefix[i]):\n",
    "            stack.append(prefix[i])\n",
    "            i+=1\n",
    "        # when string instance is operator then 2 operand and concatinate it with operator\n",
    "        else:\n",
    "            op2 = stack.pop()    # right operand\n",
    "            op1 = stack.pop()\n",
    "         \n",
    "            stack.append(prefix[i]+op1+op2)\n",
    "            i+=1\n",
    "    \n",
    "    return stack.pop()"
   ]
  },
  {
   "cell_type": "markdown",
   "id": "5d9f4ce2",
   "metadata": {},
   "source": [
    "# Postfix to infix"
   ]
  },
  {
   "cell_type": "code",
   "execution_count": null,
   "id": "3f25a6e2",
   "metadata": {},
   "outputs": [],
   "source": [
    "def isOperator(c):\n",
    "    if c in(\"*\",\"+\",\"-\",\"/\",\"^\",\"(\",\")\"):\n",
    "        return True\n",
    "    else :\n",
    "        return False\n",
    "\n",
    "\n",
    "    \n",
    "def getInfix(prefix):\n",
    "    stack=[]\n",
    "    n=len(prefix)-1\n",
    "    i=0\n",
    "    while i<=n:\n",
    "        #when string instance is operand add to stack\n",
    "        if not isOperator(prefix[i]):\n",
    "            stack.append(prefix[i])\n",
    "            i+=1\n",
    "        # when string instance is operator then 2 operand and concatinate it with operator\n",
    "        else:\n",
    "            op1 = stack.pop()\n",
    "            op2 = stack.pop()\n",
    "            expr = f\"({op1}{prefix[i]}{op2})\"\n",
    "            stack.append(expr)\n",
    "            i+=1\n",
    "    \n",
    "    return stack.pop()"
   ]
  },
  {
   "cell_type": "code",
   "execution_count": null,
   "id": "f675c93e",
   "metadata": {},
   "outputs": [
    {
     "name": "stdout",
     "output_type": "stream",
     "text": [
      "(c+(b*a))\n"
     ]
    }
   ],
   "source": [
    "if __name__ == '__main__': \n",
    "    exp = \"ab*c+\"\n",
    "    print(getInfix(exp.strip()))"
   ]
  },
  {
   "cell_type": "markdown",
   "id": "4fdea78d",
   "metadata": {},
   "source": [
    "# Length of longest balanced parentheses prefix"
   ]
  },
  {
   "cell_type": "code",
   "execution_count": null,
   "id": "ec8a6875",
   "metadata": {},
   "outputs": [],
   "source": []
  }
 ],
 "metadata": {
  "kernelspec": {
   "display_name": "Python 3",
   "language": "python",
   "name": "python3"
  },
  "language_info": {
   "codemirror_mode": {
    "name": "ipython",
    "version": 3
   },
   "file_extension": ".py",
   "mimetype": "text/x-python",
   "name": "python",
   "nbconvert_exporter": "python",
   "pygments_lexer": "ipython3",
   "version": "3.13.1"
  }
 },
 "nbformat": 4,
 "nbformat_minor": 5
}
