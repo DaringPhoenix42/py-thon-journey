{
 "cells": [
  {
   "cell_type": "markdown",
   "metadata": {},
   "source": [
    "# Searching and sorting"
   ]
  },
  {
   "cell_type": "markdown",
   "metadata": {},
   "source": [
    "linaer search arr will be given \n",
    "\n",
    "1]Target to be returned \n",
    "\n",
    "2]Element index to be returned "
   ]
  },
  {
   "cell_type": "code",
   "execution_count": 9,
   "metadata": {},
   "outputs": [],
   "source": [
    "def linearsearch(arr,target):\n",
    "    for i in range(0,len(arr),1):\n",
    "        if arr[i]==target:\n",
    "            val=i\n",
    "            return val\n",
    "            \n",
    "        else :\n",
    "            val=-1\n",
    "    return val\n",
    "        \n",
    "\n",
    "\n"
   ]
  },
  {
   "cell_type": "code",
   "execution_count": 14,
   "metadata": {},
   "outputs": [
    {
     "name": "stdout",
     "output_type": "stream",
     "text": [
      "0\n",
      "-1\n"
     ]
    }
   ],
   "source": [
    "arr=[10,23,45,70,11]\n",
    "index=linearsearch(arr,10)\n",
    "print(index)\n",
    "index=linearsearch(arr,90)\n",
    "print(index)"
   ]
  },
  {
   "cell_type": "code",
   "execution_count": 13,
   "metadata": {},
   "outputs": [],
   "source": [
    "def linearsearch(arr,target):\n",
    "    for i in range(0,len(arr),1):\n",
    "        if arr[i]==target:\n",
    "            val=i\n",
    "            return val\n",
    "            \n",
    "    return -1"
   ]
  },
  {
   "cell_type": "code",
   "execution_count": 12,
   "metadata": {},
   "outputs": [
    {
     "name": "stdout",
     "output_type": "stream",
     "text": [
      "0\n",
      "-1\n"
     ]
    }
   ],
   "source": [
    "arr=[10,23,45,70,11]\n",
    "index=linearsearch(arr,10)\n",
    "print(index)\n",
    "index=linearsearch(arr,90)\n",
    "print(index)"
   ]
  }
 ],
 "metadata": {
  "kernelspec": {
   "display_name": "Python 3",
   "language": "python",
   "name": "python3"
  },
  "language_info": {
   "codemirror_mode": {
    "name": "ipython",
    "version": 3
   },
   "file_extension": ".py",
   "mimetype": "text/x-python",
   "name": "python",
   "nbconvert_exporter": "python",
   "pygments_lexer": "ipython3",
   "version": "3.13.1"
  }
 },
 "nbformat": 4,
 "nbformat_minor": 2
}
