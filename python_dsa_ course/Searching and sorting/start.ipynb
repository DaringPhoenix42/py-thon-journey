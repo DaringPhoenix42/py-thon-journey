{
 "cells": [
  {
   "cell_type": "markdown",
   "metadata": {},
   "source": [
    "# Searching and sorting"
   ]
  },
  {
   "cell_type": "markdown",
   "metadata": {},
   "source": [
    "# linaer search arr will be given \n",
    "\n",
    "1]Target to be returned \n",
    "\n",
    "2]Element index to be returned "
   ]
  },
  {
   "cell_type": "code",
   "execution_count": 1,
   "metadata": {},
   "outputs": [],
   "source": [
    "def linearsearch(arr,target):\n",
    "    for i in range(0,len(arr),1):\n",
    "        if arr[i]==target:\n",
    "            val=i\n",
    "            return val\n",
    "            \n",
    "        else :\n",
    "            val=-1\n",
    "    return val\n",
    "        \n",
    "\n",
    "\n"
   ]
  },
  {
   "cell_type": "code",
   "execution_count": 2,
   "metadata": {},
   "outputs": [
    {
     "name": "stdout",
     "output_type": "stream",
     "text": [
      "0\n",
      "-1\n"
     ]
    }
   ],
   "source": [
    "arr=[10,23,45,70,11]\n",
    "index=linearsearch(arr,10)\n",
    "print(index)\n",
    "index=linearsearch(arr,90)\n",
    "print(index)"
   ]
  },
  {
   "cell_type": "code",
   "execution_count": 3,
   "metadata": {},
   "outputs": [],
   "source": [
    "def linearsearch(arr,target):\n",
    "    for i in range(0,len(arr),1):\n",
    "        if arr[i]==target:\n",
    "            val=i\n",
    "            return val\n",
    "            \n",
    "    return -1"
   ]
  },
  {
   "cell_type": "code",
   "execution_count": 4,
   "metadata": {},
   "outputs": [
    {
     "name": "stdout",
     "output_type": "stream",
     "text": [
      "0\n",
      "-1\n"
     ]
    }
   ],
   "source": [
    "arr=[10,23,45,70,11]\n",
    "index=linearsearch(arr,10)\n",
    "print(index)\n",
    "index=linearsearch(arr,90)\n",
    "print(index)"
   ]
  },
  {
   "cell_type": "markdown",
   "metadata": {},
   "source": [
    "# Binary Search "
   ]
  },
  {
   "cell_type": "code",
   "execution_count": 15,
   "metadata": {},
   "outputs": [
    {
     "name": "stdout",
     "output_type": "stream",
     "text": [
      "4\n"
     ]
    }
   ],
   "source": [
    "sorted_list=[10,23,35,45,50,70,85]\n",
    "target=50\n",
    "start=0\n",
    "end=len(sorted_list)-1\n",
    "def binary_search(sorted_list,target,start,end):\n",
    "    \n",
    "        if start > end:\n",
    "            return -1\n",
    "    \n",
    "        middle=(end+start)//2\n",
    "        \n",
    "        if sorted_list[middle]==target:\n",
    "            return middle\n",
    "        \n",
    "        elif sorted_list[middle]<target:\n",
    "            start=middle+1\n",
    "            return binary_search(sorted_list,target,start,end)\n",
    "        elif sorted_list[middle]>target:\n",
    "            end=middle-1\n",
    "            return binary_search(sorted_list,target,start,end)\n",
    "        \n",
    "            \n",
    "result=binary_search(sorted_list,target,start,end)\n",
    "print(result)"
   ]
  },
  {
   "cell_type": "code",
   "execution_count": 17,
   "metadata": {},
   "outputs": [
    {
     "name": "stdout",
     "output_type": "stream",
     "text": [
      "6\n"
     ]
    }
   ],
   "source": [
    "sorted_list = [10, 23, 35, 45, 50, 70, 85]\n",
    "target = 85\n",
    "start = 0\n",
    "end = len(sorted_list) - 1\n",
    "\n",
    "def binary_search(sorted_list, target, start, end):\n",
    "    while start <= end:\n",
    "        middle = (start + end) // 2\n",
    "        \n",
    "        if sorted_list[middle] == target:\n",
    "            return middle  # Target found\n",
    "        \n",
    "        elif sorted_list[middle] < target:\n",
    "            start = middle + 1  # Target is in the right half\n",
    "        else:\n",
    "            end = middle - 1  # Target is in the left half\n",
    "    \n",
    "    return -1  # Target not found\n",
    "\n",
    "result = binary_search(sorted_list, target, start, end)\n",
    "print(result)  # This will print the index of the target element\n"
   ]
  },
  {
   "cell_type": "markdown",
   "metadata": {},
   "source": [
    "# Sorting Algorithm"
   ]
  },
  {
   "cell_type": "markdown",
   "metadata": {},
   "source": [
    "# Bubble sort"
   ]
  },
  {
   "cell_type": "code",
   "execution_count": 18,
   "metadata": {},
   "outputs": [],
   "source": [
    "def bubble_sort(arr,size):\n",
    "    for passes in range(size):\n",
    "        lenth=size-passes\n",
    "        for i in range(0,lenth-1,1):\n",
    "            j=i+1\n",
    "            if arr[i]>arr[j]:\n",
    "                arr[i], arr[j] =arr[j] ,arr[i]\n",
    "                \n",
    "    return arr\n",
    "            \n",
    "            \n",
    "        "
   ]
  },
  {
   "cell_type": "code",
   "execution_count": 20,
   "metadata": {},
   "outputs": [
    {
     "name": "stdout",
     "output_type": "stream",
     "text": [
      "[11, 13, 34, 85, 90, 98]\n"
     ]
    }
   ],
   "source": [
    "sorted_list = [85,11,34,13,90,98]\n",
    "size=len(sorted_list)\n",
    "result=bubble_sort(sorted_list,size)\n",
    "print(result)"
   ]
  },
  {
   "cell_type": "code",
   "execution_count": 21,
   "metadata": {},
   "outputs": [],
   "source": [
    "def bubble_sort(arr,size):\n",
    "    for passes in range(size):\n",
    "        lenth=size-passes\n",
    "        for i in range(0,lenth-1,1):\n",
    "            j=i+1\n",
    "            if arr[i]>arr[j]:\n",
    "                arr[i], arr[j] =arr[j] ,arr[i]\n",
    "                \n",
    "    return arr"
   ]
  },
  {
   "cell_type": "code",
   "execution_count": 22,
   "metadata": {},
   "outputs": [
    {
     "name": "stdout",
     "output_type": "stream",
     "text": [
      "[11, 13, 34, 85, 90, 98]\n"
     ]
    }
   ],
   "source": [
    "sorted_list = [85,11,34,13,90,98]\n",
    "size=len(sorted_list)\n",
    "result=bubble_sort(sorted_list,size)\n",
    "print(result)"
   ]
  },
  {
   "cell_type": "markdown",
   "metadata": {},
   "source": [
    "# Selection sort"
   ]
  },
  {
   "cell_type": "code",
   "execution_count": 60,
   "metadata": {},
   "outputs": [],
   "source": [
    "def selection_sort(arr):\n",
    "    lenth=len(arr)\n",
    "    \n",
    "    for pases in range(0,lenth-1):\n",
    "        start=pases\n",
    "        min=pases\n",
    "        for i in range(start+1,lenth,1):\n",
    "            if (arr[i]<arr[min]):\n",
    "                min=i\n",
    "        arr[start], arr[min] = arr[min], arr[start]\n",
    "    return arr\n",
    "                \n",
    "    "
   ]
  },
  {
   "cell_type": "code",
   "execution_count": 61,
   "metadata": {},
   "outputs": [
    {
     "name": "stdout",
     "output_type": "stream",
     "text": [
      "[11, 13, 34, 85, 90, 98]\n"
     ]
    }
   ],
   "source": [
    "sorted_list = [85,11,34,13,90,98]\n",
    "size=len(sorted_list)\n",
    "result=selection_sort(sorted_list)\n",
    "print(result)"
   ]
  },
  {
   "cell_type": "code",
   "execution_count": 52,
   "metadata": {},
   "outputs": [],
   "source": [
    "def selection_sort(arr):\n",
    "    length = len(arr)\n",
    "    \n",
    "    # Outer loop for passes\n",
    "    for start in range(length - 1):\n",
    "        # Assume the first element in the unsorted portion is the minimum\n",
    "        min_index = start\n",
    "        \n",
    "        # Inner loop to find the smallest element in the unsorted portion\n",
    "        for i in range(start + 1, length):\n",
    "            if arr[i] < arr[min_index]:\n",
    "                min_index = i\n",
    "        \n",
    "        # Swap the found minimum element with the element at `start`\n",
    "        arr[start], arr[min_index] = arr[min_index], arr[start]\n",
    "    \n",
    "    return arr\n"
   ]
  },
  {
   "cell_type": "code",
   "execution_count": 53,
   "metadata": {},
   "outputs": [
    {
     "name": "stdout",
     "output_type": "stream",
     "text": [
      "[11, 13, 34, 85, 90, 98]\n"
     ]
    }
   ],
   "source": [
    "sorted_list = [85,11,34,13,90,98]\n",
    "size=len(sorted_list)\n",
    "result=selection_sort(sorted_list)\n",
    "print(result)"
   ]
  },
  {
   "cell_type": "code",
   "execution_count": 64,
   "metadata": {},
   "outputs": [],
   "source": [
    "def selection_sort(arr):\n",
    "    lenth=len(arr)\n",
    "    \n",
    "    for pases in range(0,lenth):\n",
    "        start=pases\n",
    "        min=pases\n",
    "        for i in range(start+1,lenth,1):\n",
    "            if (arr[i]<arr[min]):\n",
    "                min=i\n",
    "        arr[start], arr[min] = arr[min], arr[start]\n",
    "    return arr"
   ]
  },
  {
   "cell_type": "code",
   "execution_count": 65,
   "metadata": {},
   "outputs": [
    {
     "name": "stdout",
     "output_type": "stream",
     "text": [
      "[11, 13, 34, 85, 90, 98]\n"
     ]
    }
   ],
   "source": [
    "sorted_list = [85,11,34,13,90,98]\n",
    "size=len(sorted_list)\n",
    "result=selection_sort(sorted_list)\n",
    "print(result)"
   ]
  },
  {
   "cell_type": "markdown",
   "metadata": {},
   "source": [
    "# Insertion  sort"
   ]
  },
  {
   "cell_type": "code",
   "execution_count": 74,
   "metadata": {},
   "outputs": [],
   "source": [
    "def insertion_sort(arr):\n",
    "    list=[]\n",
    "    list.append(arr[0])\n",
    "    for rounds in range(1,len(arr),1):\n",
    "    \n",
    "            list.append(arr[rounds])\n",
    "            list.sort()\n",
    "    return list\n",
    "            \n",
    "            \n",
    "        "
   ]
  },
  {
   "cell_type": "code",
   "execution_count": 75,
   "metadata": {},
   "outputs": [
    {
     "name": "stdout",
     "output_type": "stream",
     "text": [
      "[11, 13, 34, 85, 90, 98]\n"
     ]
    }
   ],
   "source": [
    "sorted_list = [85,11,34,13,90,98]\n",
    "size=len(sorted_list)\n",
    "result=insertion_sort(sorted_list)\n",
    "print(result)"
   ]
  },
  {
   "cell_type": "code",
   "execution_count": null,
   "metadata": {},
   "outputs": [],
   "source": [
    "def insertion_sort(arr):\n",
    "    \n",
    "    \n",
    "    for rounds in range(1,len(arr),1):\n",
    "            times=rounds\n",
    "            \n",
    "    \n",
    "    return arr"
   ]
  },
  {
   "cell_type": "code",
   "execution_count": null,
   "metadata": {},
   "outputs": [],
   "source": [
    "def insertion_sort(arr):\n",
    "    list=[]\n",
    "    list.append(arr[0])\n",
    "    for rounds in range(1,len(arr),1):\n",
    "    \n",
    "            list.append(arr[rounds])\n",
    "            list.sort()\n",
    "    return list"
   ]
  },
  {
   "cell_type": "code",
   "execution_count": null,
   "metadata": {},
   "outputs": [],
   "source": [
    "sorted_list = [85,11,34,13,90,98]\n",
    "size=len(sorted_list)\n",
    "result=insertion_sort(sorted_list)\n",
    "print(result)"
   ]
  },
  {
   "cell_type": "code",
   "execution_count": 76,
   "metadata": {},
   "outputs": [],
   "source": [
    "def insertion_sort(arr):\n",
    "    # Start from the second element (index 1)\n",
    "    for rounds in range(1, len(arr)):\n",
    "        key = arr[rounds]  # Current element to be inserted\n",
    "        j = rounds - 1\n",
    "        \n",
    "        # Move elements of arr[0..rounds-1] that are greater than key to one position ahead\n",
    "        while j >= 0 and arr[j] > key:\n",
    "            arr[j + 1] = arr[j]  # Shift element to the right\n",
    "            j -= 1\n",
    "        \n",
    "        # Insert the key at the correct position\n",
    "        arr[j + 1] = key\n",
    "    \n",
    "    return arr\n"
   ]
  },
  {
   "cell_type": "code",
   "execution_count": 77,
   "metadata": {},
   "outputs": [
    {
     "name": "stdout",
     "output_type": "stream",
     "text": [
      "[11, 13, 34, 85, 90, 98]\n"
     ]
    }
   ],
   "source": [
    "sorted_list = [85,11,34,13,90,98]\n",
    "size=len(sorted_list)\n",
    "result=insertion_sort(sorted_list)\n",
    "print(result)"
   ]
  },
  {
   "cell_type": "code",
   "execution_count": 80,
   "metadata": {},
   "outputs": [],
   "source": [
    "def insertion_sort(arr):\n",
    "    # Start from the second element (index 1)\n",
    "    for current in range(1, len(arr)):\n",
    "        currentcard = arr[current]  # The element to insert into the sorted portion\n",
    "        correctposition = current - 1\n",
    "        \n",
    "        # Shift elements of arr[0..currentcard-1] that are greater than key to one position ahead\n",
    "        while correctposition >= 0 and arr[correctposition] > currentcard:\n",
    "            arr[correctposition + 1] = arr[correctposition]  # Shift the element to the right\n",
    "            correctposition -= 1\n",
    "        \n",
    "        # Insert the key at the correct position\n",
    "        arr[correctposition + 1] = currentcard\n",
    "    \n",
    "    return arr\n"
   ]
  },
  {
   "cell_type": "code",
   "execution_count": 81,
   "metadata": {},
   "outputs": [
    {
     "name": "stdout",
     "output_type": "stream",
     "text": [
      "[85, 34, 13, 90, 11, 98]\n"
     ]
    }
   ],
   "source": [
    "sorted_list = [85,11,34,13,90,98]\n",
    "size=len(sorted_list)\n",
    "result=insertion_sort(sorted_list)\n",
    "print(result)"
   ]
  }
 ],
 "metadata": {
  "kernelspec": {
   "display_name": "Python 3",
   "language": "python",
   "name": "python3"
  },
  "language_info": {
   "codemirror_mode": {
    "name": "ipython",
    "version": 3
   },
   "file_extension": ".py",
   "mimetype": "text/x-python",
   "name": "python",
   "nbconvert_exporter": "python",
   "pygments_lexer": "ipython3",
   "version": "3.13.1"
  }
 },
 "nbformat": 4,
 "nbformat_minor": 2
}
