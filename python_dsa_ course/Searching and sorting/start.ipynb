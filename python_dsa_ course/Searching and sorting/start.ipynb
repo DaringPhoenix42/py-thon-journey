{
 "cells": [
  {
   "cell_type": "markdown",
   "metadata": {},
   "source": [
    "# Searching and sorting"
   ]
  },
  {
   "cell_type": "markdown",
   "metadata": {},
   "source": [
    "# linaer search arr will be given \n",
    "\n",
    "1]Target to be returned \n",
    "\n",
    "2]Element index to be returned "
   ]
  },
  {
   "cell_type": "code",
   "execution_count": 1,
   "metadata": {},
   "outputs": [],
   "source": [
    "def linearsearch(arr,target):\n",
    "    for i in range(0,len(arr),1):\n",
    "        if arr[i]==target:\n",
    "            val=i\n",
    "            return val\n",
    "            \n",
    "        else :\n",
    "            val=-1\n",
    "    return val\n",
    "        \n",
    "\n",
    "\n"
   ]
  },
  {
   "cell_type": "code",
   "execution_count": 2,
   "metadata": {},
   "outputs": [
    {
     "name": "stdout",
     "output_type": "stream",
     "text": [
      "0\n",
      "-1\n"
     ]
    }
   ],
   "source": [
    "arr=[10,23,45,70,11]\n",
    "index=linearsearch(arr,10)\n",
    "print(index)\n",
    "index=linearsearch(arr,90)\n",
    "print(index)"
   ]
  },
  {
   "cell_type": "code",
   "execution_count": 3,
   "metadata": {},
   "outputs": [],
   "source": [
    "def linearsearch(arr,target):\n",
    "    for i in range(0,len(arr),1):\n",
    "        if arr[i]==target:\n",
    "            val=i\n",
    "            return val\n",
    "            \n",
    "    return -1"
   ]
  },
  {
   "cell_type": "code",
   "execution_count": 4,
   "metadata": {},
   "outputs": [
    {
     "name": "stdout",
     "output_type": "stream",
     "text": [
      "0\n",
      "-1\n"
     ]
    }
   ],
   "source": [
    "arr=[10,23,45,70,11]\n",
    "index=linearsearch(arr,10)\n",
    "print(index)\n",
    "index=linearsearch(arr,90)\n",
    "print(index)"
   ]
  },
  {
   "cell_type": "markdown",
   "metadata": {},
   "source": [
    "# Binary Search "
   ]
  },
  {
   "cell_type": "code",
   "execution_count": 15,
   "metadata": {},
   "outputs": [
    {
     "name": "stdout",
     "output_type": "stream",
     "text": [
      "4\n"
     ]
    }
   ],
   "source": [
    "sorted_list=[10,23,35,45,50,70,85]\n",
    "target=50\n",
    "start=0\n",
    "end=len(sorted_list)-1\n",
    "def binary_search(sorted_list,target,start,end):\n",
    "    \n",
    "        if start > end:\n",
    "            return -1\n",
    "    \n",
    "        middle=(end+start)//2\n",
    "        \n",
    "        if sorted_list[middle]==target:\n",
    "            return middle\n",
    "        \n",
    "        elif sorted_list[middle]<target:\n",
    "            start=middle+1\n",
    "            return binary_search(sorted_list,target,start,end)\n",
    "        elif sorted_list[middle]>target:\n",
    "            end=middle-1\n",
    "            return binary_search(sorted_list,target,start,end)\n",
    "        \n",
    "            \n",
    "result=binary_search(sorted_list,target,start,end)\n",
    "print(result)"
   ]
  },
  {
   "cell_type": "code",
   "execution_count": 17,
   "metadata": {},
   "outputs": [
    {
     "name": "stdout",
     "output_type": "stream",
     "text": [
      "6\n"
     ]
    }
   ],
   "source": [
    "sorted_list = [10, 23, 35, 45, 50, 70, 85]\n",
    "target = 85\n",
    "start = 0\n",
    "end = len(sorted_list) - 1\n",
    "\n",
    "def binary_search(sorted_list, target, start, end):\n",
    "    while start <= end:\n",
    "        middle = (start + end) // 2\n",
    "        \n",
    "        if sorted_list[middle] == target:\n",
    "            return middle  # Target found\n",
    "        \n",
    "        elif sorted_list[middle] < target:\n",
    "            start = middle + 1  # Target is in the right half\n",
    "        else:\n",
    "            end = middle - 1  # Target is in the left half\n",
    "    \n",
    "    return -1  # Target not found\n",
    "\n",
    "result = binary_search(sorted_list, target, start, end)\n",
    "print(result)  # This will print the index of the target element\n"
   ]
  },
  {
   "cell_type": "markdown",
   "metadata": {},
   "source": [
    "# Sorting Algorithm"
   ]
  },
  {
   "cell_type": "markdown",
   "metadata": {},
   "source": [
    "# Bubble sort"
   ]
  },
  {
   "cell_type": "code",
   "execution_count": 18,
   "metadata": {},
   "outputs": [],
   "source": [
    "def bubble_sort(arr,size):\n",
    "    for passes in range(size):\n",
    "        lenth=size-passes\n",
    "        for i in range(0,lenth-1,1):\n",
    "            j=i+1\n",
    "            if arr[i]>arr[j]:\n",
    "                arr[i], arr[j] =arr[j] ,arr[i]\n",
    "                \n",
    "    return arr\n",
    "            \n",
    "            \n",
    "        "
   ]
  },
  {
   "cell_type": "code",
   "execution_count": 20,
   "metadata": {},
   "outputs": [
    {
     "name": "stdout",
     "output_type": "stream",
     "text": [
      "[11, 13, 34, 85, 90, 98]\n"
     ]
    }
   ],
   "source": [
    "sorted_list = [85,11,34,13,90,98]\n",
    "size=len(sorted_list)\n",
    "result=bubble_sort(sorted_list,size)\n",
    "print(result)"
   ]
  },
  {
   "cell_type": "code",
   "execution_count": 21,
   "metadata": {},
   "outputs": [],
   "source": [
    "def bubble_sort(arr,size):\n",
    "    for passes in range(size):\n",
    "        lenth=size-passes\n",
    "        for i in range(0,lenth-1,1):\n",
    "            j=i+1\n",
    "            if arr[i]>arr[j]:\n",
    "                arr[i], arr[j] =arr[j] ,arr[i]\n",
    "                \n",
    "    return arr"
   ]
  },
  {
   "cell_type": "code",
   "execution_count": 22,
   "metadata": {},
   "outputs": [
    {
     "name": "stdout",
     "output_type": "stream",
     "text": [
      "[11, 13, 34, 85, 90, 98]\n"
     ]
    }
   ],
   "source": [
    "sorted_list = [85,11,34,13,90,98]\n",
    "size=len(sorted_list)\n",
    "result=bubble_sort(sorted_list,size)\n",
    "print(result)"
   ]
  },
  {
   "cell_type": "markdown",
   "metadata": {},
   "source": [
    "# Selection sort"
   ]
  },
  {
   "cell_type": "code",
   "execution_count": null,
   "metadata": {},
   "outputs": [],
   "source": []
  },
  {
   "cell_type": "markdown",
   "metadata": {},
   "source": [
    "# Insertion  sort"
   ]
  },
  {
   "cell_type": "code",
   "execution_count": null,
   "metadata": {},
   "outputs": [],
   "source": []
  }
 ],
 "metadata": {
  "kernelspec": {
   "display_name": "Python 3",
   "language": "python",
   "name": "python3"
  },
  "language_info": {
   "codemirror_mode": {
    "name": "ipython",
    "version": 3
   },
   "file_extension": ".py",
   "mimetype": "text/x-python",
   "name": "python",
   "nbconvert_exporter": "python",
   "pygments_lexer": "ipython3",
   "version": "3.13.1"
  }
 },
 "nbformat": 4,
 "nbformat_minor": 2
}
