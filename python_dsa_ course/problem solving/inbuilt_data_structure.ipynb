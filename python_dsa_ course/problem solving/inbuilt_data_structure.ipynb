{
 "cells": [
  {
   "cell_type": "markdown",
   "metadata": {},
   "source": [
    "Sum of list element"
   ]
  },
  {
   "cell_type": "code",
   "execution_count": 2,
   "metadata": {},
   "outputs": [
    {
     "name": "stdout",
     "output_type": "stream",
     "text": [
      "[10, -5, 7, 8, -2]\n",
      "18\n"
     ]
    }
   ],
   "source": [
    "def sum_list(numbers):\n",
    "    sum=0\n",
    "    for i in numbers:\n",
    "        sum+=i\n",
    "    return sum\n",
    "numbers = [10, -5, 7, 8, -2]\n",
    "Sum=sum_list(numbers)\n",
    "print(numbers)\n",
    "print(Sum)\n",
    "\n",
    "    "
   ]
  },
  {
   "cell_type": "markdown",
   "metadata": {},
   "source": [
    "Largest Element \n",
    "\n",
    "\n",
    "\n",
    "\n",
    "\n"
   ]
  },
  {
   "cell_type": "code",
   "execution_count": 3,
   "metadata": {},
   "outputs": [
    {
     "name": "stdout",
     "output_type": "stream",
     "text": [
      "[-5, -10, -2, -1, -7]\n",
      "-1\n"
     ]
    }
   ],
   "source": [
    "def find_largest(numbers):\n",
    "    max=float('-inf')\n",
    "    for i in numbers:\n",
    "        if i>max:\n",
    "            max=i\n",
    "        else:\n",
    "            continue\n",
    "        \n",
    "    return max\n",
    "\n",
    "\n",
    "numbers = [-5, -10, -2, -1, -7]\n",
    "max=find_largest(numbers)\n",
    "print(numbers)\n",
    "print(max)"
   ]
  },
  {
   "cell_type": "markdown",
   "metadata": {},
   "source": [
    "#### Remove Duplicate element in list\n"
   ]
  },
  {
   "cell_type": "code",
   "execution_count": 10,
   "metadata": {},
   "outputs": [
    {
     "name": "stdout",
     "output_type": "stream",
     "text": [
      "[2, 2, 4, 4]\n"
     ]
    }
   ],
   "source": [
    "lst = [1, 2, 2, 3, 4, 4, 5]\n",
    "empty=[]\n",
    "def remove_duplicates(lst):\n",
    "    for i in lst:\n",
    "        count=0\n",
    "        for j in lst:\n",
    "            if i==j:\n",
    "                count=count+1\n",
    "                \n",
    "        if count>=2:\n",
    "            empty.append(i)\n",
    "        \n",
    "            \n",
    "\n",
    "    return empty\n",
    "final_list=remove_duplicates(lst)\n",
    "print(final_list)"
   ]
  },
  {
   "cell_type": "code",
   "execution_count": 13,
   "metadata": {},
   "outputs": [
    {
     "name": "stdout",
     "output_type": "stream",
     "text": [
      "{1: 1, 2: 2, 3: 1, 4: 2, 5: 1}\n",
      "[1, 3, 5]\n"
     ]
    }
   ],
   "source": [
    "lst = [1, 2, 2, 3, 4, 4, 5]\n",
    "\n",
    "def remove_duplicates(lst):\n",
    "    counts = {}\n",
    "    for i in lst:\n",
    "        counts[i] = counts.get(i, 0) + 1\n",
    "    duplicates = []\n",
    "    \n",
    "    for i in counts:\n",
    "        if counts[i] <=1:\n",
    "            duplicates.append(i)\n",
    "    print(counts)\n",
    "    \n",
    "    return duplicates\n",
    "\n",
    "final_list = remove_duplicates(lst)\n",
    "print(final_list)\n"
   ]
  },
  {
   "cell_type": "code",
   "execution_count": 14,
   "metadata": {},
   "outputs": [
    {
     "name": "stdout",
     "output_type": "stream",
     "text": [
      "[2, 4]\n"
     ]
    }
   ],
   "source": [
    "def remove_duplicates(lst):\n",
    "    seen = set()\n",
    "    duplicates = set()\n",
    "    \n",
    "    for i in lst:\n",
    "        if i in seen:\n",
    "            duplicates.add(i)\n",
    "        else:\n",
    "            seen.add(i)\n",
    "    \n",
    "    return list(duplicates)\n",
    "\n",
    "final_list = remove_duplicates(lst)\n",
    "print(final_list)\n"
   ]
  },
  {
   "cell_type": "markdown",
   "metadata": {},
   "source": [
    "correct"
   ]
  },
  {
   "cell_type": "code",
   "execution_count": 22,
   "metadata": {},
   "outputs": [
    {
     "name": "stdout",
     "output_type": "stream",
     "text": [
      "[1, 2, 3, 4, 5]\n"
     ]
    }
   ],
   "source": [
    "lst = [1, 2, 2, 3, 4, 4, 5]\n",
    "empty=[]\n",
    "setval=set(lst)\n",
    "def remove_duplicates(lst):\n",
    "    \n",
    "  for j in lst:\n",
    "    count=0\n",
    "    for i in setval:\n",
    "            empty.append(i)\n",
    "    return empty\n",
    "\n",
    "final_list=remove_duplicates(lst)\n",
    "print(final_list)"
   ]
  },
  {
   "cell_type": "markdown",
   "metadata": {},
   "source": [
    "check if all the element in the list is unique"
   ]
  },
  {
   "cell_type": "code",
   "execution_count": 30,
   "metadata": {},
   "outputs": [
    {
     "name": "stdout",
     "output_type": "stream",
     "text": [
      "False\n"
     ]
    }
   ],
   "source": [
    "lst = [1, 2, 3 ,3, 4, 5,5]\n",
    "\n",
    "def check_unique(lst):\n",
    "    for item in lst:\n",
    "        count=0\n",
    "        for j in lst:\n",
    "            if item==j:\n",
    "                count=count+1\n",
    "        if count>1:\n",
    "            return False \n",
    "    return True\n",
    "val=check_unique(lst)\n",
    "print(val)"
   ]
  },
  {
   "cell_type": "code",
   "execution_count": 31,
   "metadata": {},
   "outputs": [],
   "source": [
    "def check_unique(lst):\n",
    "    # Initialize an empty set to keep track of seen elements\n",
    "    seen = set()\n",
    "    \n",
    "    # Iterate through each element in the input list\n",
    "    for num in lst:\n",
    "        # If the element has been seen before, return False\n",
    "        if num in seen:\n",
    "            return False\n",
    "        # Add the element to the seen set\n",
    "        seen.add(num)\n",
    "    \n",
    "    # If no duplicates are found, return True\n",
    "    return True"
   ]
  },
  {
   "cell_type": "markdown",
   "metadata": {},
   "source": [
    "Reverse a list"
   ]
  },
  {
   "cell_type": "code",
   "execution_count": 34,
   "metadata": {},
   "outputs": [
    {
     "name": "stdout",
     "output_type": "stream",
     "text": [
      "[5, 4, 3, 2, 1]\n"
     ]
    }
   ],
   "source": [
    "lst=[1, 2, 3, 4, 5]\n",
    "li=[]\n",
    "def reverse_list(lst):\n",
    "    for i in range(len(lst)-1,-1,-1):\n",
    "        li.append(lst[i])\n",
    "    return li\n",
    "reversed=reverse_list(lst)\n",
    "print(reversed)\n"
   ]
  },
  {
   "cell_type": "markdown",
   "metadata": {},
   "source": [
    "Count Number of Odd and Even Elements in a List"
   ]
  },
  {
   "cell_type": "code",
   "execution_count": 36,
   "metadata": {},
   "outputs": [
    {
     "name": "stdout",
     "output_type": "stream",
     "text": [
      "(2, 3)\n"
     ]
    }
   ],
   "source": [
    "lst = [1, 2, 3, 4, 5]\n",
    "def count_even_odd(lst):\n",
    "    even_count=0\n",
    "    odd_count=0\n",
    "    for item in lst:\n",
    "        if item%2==0:\n",
    "            even_count+=1\n",
    "        else:\n",
    "            odd_count+=1\n",
    "    tupple_elements=(even_count,odd_count)\n",
    "    return tupple_elements\n",
    "val=count_even_odd(lst)\n",
    "print(val)\n",
    "    "
   ]
  },
  {
   "cell_type": "markdown",
   "metadata": {},
   "source": [
    "Maximum difference between two consecutive elements in a list.\n"
   ]
  },
  {
   "cell_type": "code",
   "execution_count": 41,
   "metadata": {},
   "outputs": [
    {
     "name": "stdout",
     "output_type": "stream",
     "text": [
      "7\n"
     ]
    }
   ],
   "source": [
    "lst = [1, 7, 3, 10, 5]\n",
    "def max_consecutive_difference(lst):\n",
    "    max_sub=0\n",
    "    for item1 in range(len(lst)):\n",
    "        if item1==len(lst)-1:\n",
    "            return max_sub\n",
    "        else:\n",
    "            val=abs(lst[item1]-lst[item1+1])\n",
    "            if val>max_sub:\n",
    "                max_sub=val       \n",
    "    return max_sub\n",
    "maxv=max_consecutive_difference(lst)\n",
    "print(maxv)\n"
   ]
  },
  {
   "cell_type": "markdown",
   "metadata": {},
   "source": [
    "Merge two sorted list"
   ]
  },
  {
   "cell_type": "code",
   "execution_count": 42,
   "metadata": {},
   "outputs": [
    {
     "name": "stdout",
     "output_type": "stream",
     "text": [
      "[1, 3, 5, 2, 4, 6]\n"
     ]
    }
   ],
   "source": [
    "list1 = [1, 3, 5]\n",
    "list2 = [2, 4, 6]\n",
    "def merge_two_sorted_lists(list1, list2):\n",
    "    for item in list2:\n",
    "        list1.append(item)\n",
    "    return list1\n",
    "val=merge_two_sorted_lists(list1,list2)\n",
    "print(val)\n"
   ]
  }
 ],
 "metadata": {
  "kernelspec": {
   "display_name": "Python 3",
   "language": "python",
   "name": "python3"
  },
  "language_info": {
   "codemirror_mode": {
    "name": "ipython",
    "version": 3
   },
   "file_extension": ".py",
   "mimetype": "text/x-python",
   "name": "python",
   "nbconvert_exporter": "python",
   "pygments_lexer": "ipython3",
   "version": "3.13.1"
  }
 },
 "nbformat": 4,
 "nbformat_minor": 2
}
