{
 "cells": [
  {
   "cell_type": "markdown",
   "metadata": {},
   "source": [
    "start"
   ]
  },
  {
   "cell_type": "markdown",
   "metadata": {},
   "source": [
    "# [1] convert decimal to binary"
   ]
  },
  {
   "cell_type": "markdown",
   "metadata": {},
   "source": [
    "My approach"
   ]
  },
  {
   "cell_type": "code",
   "execution_count": 78,
   "metadata": {},
   "outputs": [],
   "source": [
    "def convert2binary (n):\n",
    "    temp=n\n",
    "    li=[]\n",
    "    while(n>0):\n",
    "        rem=n%2\n",
    "        li.append(rem)\n",
    "        quotient=n//2\n",
    "        n=quotient\n",
    "    print(li)\n",
    "    li.reverse()\n",
    "    print(li)\n",
    "        \n",
    "    return li\n",
    "        \n"
   ]
  },
  {
   "cell_type": "markdown",
   "metadata": {},
   "source": [
    "# in python strings are immutable"
   ]
  },
  {
   "cell_type": "markdown",
   "metadata": {},
   "source": [
    "improving my previous code"
   ]
  },
  {
   "cell_type": "code",
   "execution_count": 74,
   "metadata": {},
   "outputs": [],
   "source": [
    "def convert2binary (n):\n",
    "    li=[]\n",
    "    while(n!=1):\n",
    "       if (n%2==1):\n",
    "        li.append(1)\n",
    "       else:\n",
    "           li.append(0)\n",
    "        \n",
    "       n=n//2\n",
    "    li.reverse()\n",
    "        \n",
    "    return li"
   ]
  },
  {
   "cell_type": "code",
   "execution_count": 79,
   "metadata": {},
   "outputs": [
    {
     "name": "stdout",
     "output_type": "stream",
     "text": [
      "[1, 0, 1, 1]\n",
      "[1, 1, 0, 1]\n",
      "[1, 1, 0, 1]\n"
     ]
    }
   ],
   "source": [
    "num=13\n",
    "val=convert2binary(num)\n",
    "print(val)"
   ]
  },
  {
   "cell_type": "markdown",
   "metadata": {},
   "source": [
    "# [2] convert binary to decimal number"
   ]
  },
  {
   "cell_type": "markdown",
   "metadata": {},
   "source": [
    "my approach"
   ]
  },
  {
   "cell_type": "code",
   "execution_count": 29,
   "metadata": {},
   "outputs": [],
   "source": [
    "def convert_binary2decimal(num):\n",
    "    sum=0\n",
    "    listv=num\n",
    "    for index in range(0,len(listv),1):\n",
    "        sum=int(listv[index])*(2**(len(listv)-1-index))+sum\n",
    "        \n",
    "    return sum\n",
    "    "
   ]
  },
  {
   "cell_type": "code",
   "execution_count": null,
   "metadata": {},
   "outputs": [],
   "source": [
    "num=str(101)\n",
    "ok=list(num)\n",
    "print(ok)\n",
    "\n",
    "val=convert_binary2decimal(ok)\n",
    "print(val)"
   ]
  },
  {
   "cell_type": "markdown",
   "metadata": {},
   "source": [
    "my approach-2"
   ]
  },
  {
   "cell_type": "code",
   "execution_count": 33,
   "metadata": {},
   "outputs": [],
   "source": [
    "def convert_binary2decimal(num):\n",
    "    sum=0\n",
    "    listv=num\n",
    "    for index in range(0,len(listv),1):\n",
    "        sum=int(listv[index])*(2**(len(listv)-1-index))+sum\n",
    "        \n",
    "    return sum"
   ]
  },
  {
   "cell_type": "code",
   "execution_count": 34,
   "metadata": {},
   "outputs": [
    {
     "name": "stdout",
     "output_type": "stream",
     "text": [
      "101\n",
      "5\n"
     ]
    }
   ],
   "source": [
    "num=str(101)\n",
    "ok=num\n",
    "print(ok)\n",
    "\n",
    "val=convert_binary2decimal(ok)\n",
    "print(val)"
   ]
  },
  {
   "cell_type": "markdown",
   "metadata": {},
   "source": [
    "improving my previous code"
   ]
  },
  {
   "cell_type": "code",
   "execution_count": null,
   "metadata": {},
   "outputs": [],
   "source": []
  },
  {
   "cell_type": "markdown",
   "metadata": {},
   "source": []
  },
  {
   "cell_type": "markdown",
   "metadata": {},
   "source": [
    "# [3]swap 2 no using bit manipulation"
   ]
  },
  {
   "cell_type": "markdown",
   "metadata": {},
   "source": [
    "approach-1"
   ]
  },
  {
   "cell_type": "code",
   "execution_count": 35,
   "metadata": {},
   "outputs": [],
   "source": [
    "def swap2numbers(num1,num2):\n",
    "    temp=num1\n",
    "    num1=num2\n",
    "    num2=temp\n",
    "    return num1,num2"
   ]
  },
  {
   "cell_type": "code",
   "execution_count": 53,
   "metadata": {},
   "outputs": [
    {
     "name": "stdout",
     "output_type": "stream",
     "text": [
      "num1=6 \t num2=5\n"
     ]
    }
   ],
   "source": [
    "num1=5\n",
    "num2=6\n",
    "val1,val2=swap2numbers(num1,num2)\n",
    "print(f\"num1={val1} \\t num2={val2}\")"
   ]
  },
  {
   "cell_type": "markdown",
   "metadata": {},
   "source": [
    "approach-2"
   ]
  },
  {
   "cell_type": "code",
   "execution_count": 47,
   "metadata": {},
   "outputs": [],
   "source": [
    "def swap2numbers(num1, num2):\n",
    "    num1, num2 = num2, num1  # Swap the values using tuple unpacking\n",
    "    return num1, num2"
   ]
  },
  {
   "cell_type": "code",
   "execution_count": 52,
   "metadata": {},
   "outputs": [
    {
     "name": "stdout",
     "output_type": "stream",
     "text": [
      "num1=6 \t num2=5\n"
     ]
    }
   ],
   "source": [
    "num1=5\n",
    "num2=6\n",
    "val1,val2=swap2numbers(num1,num2)\n",
    "print(f\"num1={val1} \\t num2={val2}\")"
   ]
  },
  {
   "cell_type": "markdown",
   "metadata": {},
   "source": [
    "approach-3 exor"
   ]
  },
  {
   "cell_type": "code",
   "execution_count": 61,
   "metadata": {},
   "outputs": [],
   "source": [
    "def swap2numbers(num1, num2):\n",
    "    num1=num1 ^ num2\n",
    "    num2=(num1 ^ num2)\n",
    "    num1=(num1 ^ num2)\n",
    "    return num1, num2"
   ]
  },
  {
   "cell_type": "code",
   "execution_count": 62,
   "metadata": {},
   "outputs": [
    {
     "name": "stdout",
     "output_type": "stream",
     "text": [
      "num1=6 \t num2=5\n"
     ]
    }
   ],
   "source": [
    "num1=5\n",
    "num2=6\n",
    "val1,val2=swap2numbers(num1,num2)\n",
    "print(f\"num1={val1} \\t num2={val2}\")"
   ]
  },
  {
   "cell_type": "markdown",
   "metadata": {},
   "source": [
    "# [4] Check if i th bit is set or not"
   ]
  },
  {
   "cell_type": "markdown",
   "metadata": {},
   "source": [
    "Approach-1"
   ]
  },
  {
   "cell_type": "code",
   "execution_count": 145,
   "metadata": {},
   "outputs": [],
   "source": [
    "def convert_decimal2binary1(n):\n",
    "    li=[]\n",
    "    while(n!=0):\n",
    "        if (n%2==1):\n",
    "            li.append(1)\n",
    "        else:\n",
    "            li.append(0)\n",
    "        \n",
    "        n=n//2\n",
    "    li.reverse()\n",
    "    \n",
    "        \n",
    "    return li\n",
    "    \n",
    "def ith_bit_set_or_not(num,bit):\n",
    "    val=convert_decimal2binary1(num)\n",
    "    print(val[len(val)-1-bit])\n",
    "    print(val)\n",
    "    \n",
    "    if len(val)==bit:\n",
    "        if val[len(val)-1]==bit:\n",
    "            return True\n",
    "    else:\n",
    "            \n",
    "                index=len(val)-1-bit\n",
    "                print(val[index])\n",
    "                if val[index]==1:\n",
    "                    return True\n",
    "                else:\n",
    "                    return False\n",
    "\n",
    "    \n",
    "        \n",
    "\n",
    "\n"
   ]
  },
  {
   "cell_type": "code",
   "execution_count": 138,
   "metadata": {},
   "outputs": [
    {
     "name": "stdout",
     "output_type": "stream",
     "text": [
      "0\n",
      "[1, 0, 1, 0]\n",
      "0\n",
      "Not Set\n"
     ]
    }
   ],
   "source": [
    "num=10\n",
    "bit=2\n",
    "if ith_bit_set_or_not(num,bit)==True:\n",
    "    print(\"Set \")\n",
    "else:\n",
    "    print(\"Not Set\")"
   ]
  },
  {
   "cell_type": "markdown",
   "metadata": {},
   "source": [
    "Approach-2"
   ]
  },
  {
   "cell_type": "markdown",
   "metadata": {},
   "source": [
    "using left shif operator"
   ]
  },
  {
   "cell_type": "code",
   "execution_count": 141,
   "metadata": {},
   "outputs": [],
   "source": [
    "def ith_bit_set_or_not(num,bit):\n",
    "   if num & (1<<bit)!=0:\n",
    "        return True\n",
    "   else:\n",
    "       return False"
   ]
  },
  {
   "cell_type": "code",
   "execution_count": 143,
   "metadata": {},
   "outputs": [
    {
     "name": "stdout",
     "output_type": "stream",
     "text": [
      "Set \n"
     ]
    }
   ],
   "source": [
    "num=13\n",
    "bit=2\n",
    "if ith_bit_set_or_not(num,bit)==True:\n",
    "    print(\"Set \")\n",
    "else:\n",
    "    print(\"Not Set\")"
   ]
  },
  {
   "cell_type": "markdown",
   "metadata": {},
   "source": [
    "Aprroach-3\n",
    "right shift"
   ]
  },
  {
   "cell_type": "code",
   "execution_count": null,
   "metadata": {},
   "outputs": [],
   "source": [
    "def ith_bit_set_or_not(num,bit):\n",
    "   if (num>>bit) & (1)!=0:\n",
    "        return True\n",
    "   else:\n",
    "       return False"
   ]
  },
  {
   "cell_type": "code",
   "execution_count": 144,
   "metadata": {},
   "outputs": [
    {
     "name": "stdout",
     "output_type": "stream",
     "text": [
      "Set \n"
     ]
    }
   ],
   "source": [
    "num=13\n",
    "bit=2\n",
    "if ith_bit_set_or_not(num,bit)==True:\n",
    "    print(\"Set \")\n",
    "else:\n",
    "    print(\"Not Set\")"
   ]
  },
  {
   "cell_type": "markdown",
   "metadata": {},
   "source": [
    "# [5] set the i th bit"
   ]
  },
  {
   "cell_type": "markdown",
   "metadata": {},
   "source": [
    "approach-1"
   ]
  },
  {
   "cell_type": "code",
   "execution_count": 159,
   "metadata": {},
   "outputs": [],
   "source": [
    "def convert_decimal2binary1(n):\n",
    "    li=[]\n",
    "    while(n!=0):\n",
    "        if (n%2==1):\n",
    "            li.append(1)\n",
    "        else:\n",
    "            li.append(0)\n",
    "        \n",
    "        n=n//2\n",
    "    li.reverse()\n",
    "    \n",
    "        \n",
    "    return li\n",
    "\n",
    "def convert_binary2decimal(num):\n",
    "    sum=0\n",
    "    listv=num\n",
    "    for index in range(0,len(listv),1):\n",
    "        sum=int(listv[index])*(2**(len(listv)-1-index))+sum\n",
    "        \n",
    "    return sum\n",
    "def set_the_ith_bit_and_return_decimal_number(num,bit):\n",
    "    valbinary=convert_decimal2binary1(num)\n",
    "    print(valbinary)\n",
    "    \n",
    "    if valbinary[len(valbinary)-bit-1]==1:\n",
    "        pass\n",
    "    else:\n",
    "        valbinary[len(valbinary)-bit-1]=1\n",
    "        \n",
    "    valdecimal=convert_binary2decimal(valbinary)\n",
    "    print(valdecimal)\n",
    "    \n",
    "    pass"
   ]
  },
  {
   "cell_type": "code",
   "execution_count": 160,
   "metadata": {},
   "outputs": [
    {
     "name": "stdout",
     "output_type": "stream",
     "text": [
      "[1, 0, 0, 1]\n",
      "13\n"
     ]
    }
   ],
   "source": [
    "num=9\n",
    "bit=2\n",
    "val=set_the_ith_bit_and_return_decimal_number(num,bit)"
   ]
  },
  {
   "cell_type": "markdown",
   "metadata": {},
   "source": [
    "Approach-2"
   ]
  },
  {
   "cell_type": "code",
   "execution_count": 174,
   "metadata": {},
   "outputs": [],
   "source": [
    "def set_the_ith_bit_and_return_decimal_number1(num,bit):\n",
    "\n",
    "    val=num |(1<<bit)\n",
    "    print(val)\n",
    "    valbinary=convert_decimal2binary1(val)\n",
    "    print(valbinary)\n",
    "    valdecimal=convert_binary2decimal(valbinary)\n",
    "    print(valdecimal)\n",
    "\n",
    "    \n",
    "    pass"
   ]
  },
  {
   "cell_type": "code",
   "execution_count": 175,
   "metadata": {},
   "outputs": [
    {
     "name": "stdout",
     "output_type": "stream",
     "text": [
      "13\n",
      "[1, 1, 0, 1]\n",
      "13\n"
     ]
    }
   ],
   "source": [
    "num=9\n",
    "bit=2\n",
    "val=set_the_ith_bit_and_return_decimal_number1(num,bit)"
   ]
  },
  {
   "cell_type": "markdown",
   "metadata": {},
   "source": [
    "# [6]clear the i th bit"
   ]
  },
  {
   "cell_type": "markdown",
   "metadata": {},
   "source": [
    "Approach-1\n"
   ]
  },
  {
   "cell_type": "code",
   "execution_count": 178,
   "metadata": {},
   "outputs": [],
   "source": [
    "def convert_decimal2binary1(n):\n",
    "    li=[]\n",
    "    while(n!=0):\n",
    "        if (n%2==1):\n",
    "            li.append(1)\n",
    "        else:\n",
    "            li.append(0)\n",
    "        \n",
    "        n=n//2\n",
    "    li.reverse()\n",
    "    \n",
    "        \n",
    "    return li\n",
    "\n",
    "def convert_binary2decimal(num):\n",
    "    sum=0\n",
    "    listv=num\n",
    "    for index in range(0,len(listv),1):\n",
    "        sum=int(listv[index])*(2**(len(listv)-1-index))+sum\n",
    "        \n",
    "    return sum\n",
    "def claer_the_ith_bit(num,bit):\n",
    "    valbinary=convert_decimal2binary1(num)\n",
    "    print(valbinary)\n",
    "    \n",
    "    if valbinary[len(valbinary)-bit-1]==1:\n",
    "        valbinary[len(valbinary)-bit-1]=0\n",
    "    else:\n",
    "        pass\n",
    "        \n",
    "    valdecimal=convert_binary2decimal(valbinary)\n",
    "    print(valdecimal)\n",
    "    \n",
    "    return valdecimal\n",
    "    \n",
    "    "
   ]
  },
  {
   "cell_type": "code",
   "execution_count": 179,
   "metadata": {},
   "outputs": [
    {
     "name": "stdout",
     "output_type": "stream",
     "text": [
      "[1, 1, 0, 1]\n",
      "9\n",
      "9\n"
     ]
    }
   ],
   "source": [
    "num=13\n",
    "bit=2\n",
    "val=claer_the_ith_bit(num,bit)\n",
    "print(val)"
   ]
  },
  {
   "cell_type": "markdown",
   "metadata": {},
   "source": [
    " approach-2"
   ]
  },
  {
   "cell_type": "code",
   "execution_count": 186,
   "metadata": {},
   "outputs": [],
   "source": [
    "def claer_the_ith_bit(num,bit):\n",
    "\n",
    "    val=num &(~(1<<bit))\n",
    "    print(val)\n",
    "    valbinary=convert_decimal2binary1(val)\n",
    "    print(valbinary)\n",
    "    valdecimal=convert_binary2decimal(valbinary)\n",
    "    print(valdecimal)\n",
    "\n",
    "    \n",
    "    pass"
   ]
  },
  {
   "cell_type": "code",
   "execution_count": 187,
   "metadata": {},
   "outputs": [
    {
     "name": "stdout",
     "output_type": "stream",
     "text": [
      "9\n",
      "[1, 0, 0, 1]\n",
      "9\n",
      "None\n"
     ]
    }
   ],
   "source": [
    "num=13\n",
    "bit=2\n",
    "val=claer_the_ith_bit(num,bit)\n",
    "print(val)"
   ]
  },
  {
   "cell_type": "markdown",
   "metadata": {},
   "source": [
    "# [7] toggle the ith bit"
   ]
  },
  {
   "cell_type": "markdown",
   "metadata": {},
   "source": [
    " approach-2"
   ]
  },
  {
   "cell_type": "code",
   "execution_count": 190,
   "metadata": {},
   "outputs": [],
   "source": [
    "def convert_decimal2binary1(n):\n",
    "    li=[]\n",
    "    while(n!=0):\n",
    "        if (n%2==1):\n",
    "            li.append(1)\n",
    "        else:\n",
    "            li.append(0)\n",
    "        \n",
    "        n=n//2\n",
    "    li.reverse()\n",
    "    \n",
    "        \n",
    "    return li\n",
    "\n",
    "def convert_binary2decimal(num):\n",
    "    sum=0\n",
    "    listv=num\n",
    "    for index in range(0,len(listv),1):\n",
    "        sum=int(listv[index])*(2**(len(listv)-1-index))+sum\n",
    "        \n",
    "    return sum\n",
    "def toggle_the_ith_bit(num,bit):\n",
    "    valbinary=convert_decimal2binary1(num)\n",
    "    print(valbinary)\n",
    "    \n",
    "    if valbinary[len(valbinary)-bit-1]==1:\n",
    "        valbinary[len(valbinary)-bit-1]=0\n",
    "    else:\n",
    "        valbinary[len(valbinary)-bit-1]=1\n",
    "    \n",
    "    print(valbinary)\n",
    "        \n",
    "    valdecimal=convert_binary2decimal(valbinary)\n",
    "    print(valdecimal)\n",
    "    \n",
    "    return valdecimal\n",
    "    "
   ]
  },
  {
   "cell_type": "code",
   "execution_count": 191,
   "metadata": {},
   "outputs": [
    {
     "name": "stdout",
     "output_type": "stream",
     "text": [
      "[1, 1, 0, 1]\n",
      "[1, 0, 0, 1]\n",
      "9\n",
      "9\n"
     ]
    }
   ],
   "source": [
    "num=13\n",
    "bit=2\n",
    "val=toggle_the_ith_bit(num,bit)\n",
    "print(val)"
   ]
  },
  {
   "cell_type": "markdown",
   "metadata": {},
   "source": [
    "approach-2"
   ]
  },
  {
   "cell_type": "code",
   "execution_count": 194,
   "metadata": {},
   "outputs": [],
   "source": [
    "def toggle_the_ith_bit(num,bit):\n",
    "\n",
    "    val=num^(1<<bit)\n",
    "    print(val)\n",
    "    valbinary=convert_decimal2binary1(val)\n",
    "    print(valbinary)\n",
    "    valdecimal=convert_binary2decimal(valbinary)\n",
    "    print(valdecimal)\n",
    "    return val"
   ]
  },
  {
   "cell_type": "code",
   "execution_count": 195,
   "metadata": {},
   "outputs": [
    {
     "name": "stdout",
     "output_type": "stream",
     "text": [
      "9\n",
      "[1, 0, 0, 1]\n",
      "9\n",
      "9\n"
     ]
    }
   ],
   "source": [
    "num=13\n",
    "bit=2\n",
    "val=toggle_the_ith_bit(num,bit)\n",
    "print(val)"
   ]
  },
  {
   "cell_type": "code",
   "execution_count": 196,
   "metadata": {},
   "outputs": [
    {
     "name": "stdout",
     "output_type": "stream",
     "text": [
      "15\n",
      "[1, 1, 1, 1]\n",
      "15\n",
      "15\n"
     ]
    }
   ],
   "source": [
    "num=13\n",
    "bit=1\n",
    "val=toggle_the_ith_bit(num,bit)\n",
    "print(val)"
   ]
  }
 ],
 "metadata": {
  "kernelspec": {
   "display_name": "Python 3",
   "language": "python",
   "name": "python3"
  },
  "language_info": {
   "codemirror_mode": {
    "name": "ipython",
    "version": 3
   },
   "file_extension": ".py",
   "mimetype": "text/x-python",
   "name": "python",
   "nbconvert_exporter": "python",
   "pygments_lexer": "ipython3",
   "version": "3.13.1"
  }
 },
 "nbformat": 4,
 "nbformat_minor": 2
}
