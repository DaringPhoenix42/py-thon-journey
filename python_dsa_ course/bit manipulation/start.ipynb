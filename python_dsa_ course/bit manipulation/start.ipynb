{
 "cells": [
  {
   "cell_type": "markdown",
   "metadata": {},
   "source": [
    "start"
   ]
  },
  {
   "cell_type": "markdown",
   "metadata": {},
   "source": [
    "My approach"
   ]
  },
  {
   "cell_type": "code",
   "execution_count": 1,
   "metadata": {},
   "outputs": [],
   "source": [
    "def convert2binary (n):\n",
    "    temp=n\n",
    "    li=[]\n",
    "    while(n!=1):\n",
    "        rem=n%2\n",
    "        li.append(rem)\n",
    "        qoitent=n//2\n",
    "        n=qoitent\n",
    "    print(li)\n",
    "    li.reverse()\n",
    "    print(li)\n",
    "        \n",
    "    return li\n",
    "        \n"
   ]
  },
  {
   "cell_type": "markdown",
   "metadata": {},
   "source": [
    "# in python strings are immutable"
   ]
  },
  {
   "cell_type": "markdown",
   "metadata": {},
   "source": [
    "improveing my previous code"
   ]
  },
  {
   "cell_type": "code",
   "execution_count": 3,
   "metadata": {},
   "outputs": [],
   "source": [
    "def convert2binary (n):\n",
    "    li=[]\n",
    "    while(n!=1):\n",
    "       if (n%2==1):\n",
    "        li.append(1)\n",
    "       else:\n",
    "           li.append(0)\n",
    "        \n",
    "       n=n//2\n",
    "    li.reverse()\n",
    "        \n",
    "    return li"
   ]
  },
  {
   "cell_type": "code",
   "execution_count": 4,
   "metadata": {},
   "outputs": [
    {
     "name": "stdout",
     "output_type": "stream",
     "text": [
      "[1, 0, 1]\n"
     ]
    }
   ],
   "source": [
    "num=13\n",
    "val=convert2binary(num)\n",
    "print(val)"
   ]
  }
 ],
 "metadata": {
  "kernelspec": {
   "display_name": "Python 3",
   "language": "python",
   "name": "python3"
  },
  "language_info": {
   "codemirror_mode": {
    "name": "ipython",
    "version": 3
   },
   "file_extension": ".py",
   "mimetype": "text/x-python",
   "name": "python",
   "nbconvert_exporter": "python",
   "pygments_lexer": "ipython3",
   "version": "3.13.1"
  }
 },
 "nbformat": 4,
 "nbformat_minor": 2
}
