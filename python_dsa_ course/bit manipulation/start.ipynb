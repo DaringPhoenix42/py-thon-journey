{
 "cells": [
  {
   "cell_type": "markdown",
   "metadata": {},
   "source": [
    "start"
   ]
  },
  {
   "cell_type": "markdown",
   "metadata": {},
   "source": [
    "# [1] convert decimal to binary"
   ]
  },
  {
   "cell_type": "markdown",
   "metadata": {},
   "source": [
    "My approach"
   ]
  },
  {
   "cell_type": "code",
   "execution_count": 78,
   "metadata": {},
   "outputs": [],
   "source": [
    "def convert2binary (n):\n",
    "    temp=n\n",
    "    li=[]\n",
    "    while(n>0):\n",
    "        rem=n%2\n",
    "        li.append(rem)\n",
    "        quotient=n//2\n",
    "        n=quotient\n",
    "    print(li)\n",
    "    li.reverse()\n",
    "    print(li)\n",
    "        \n",
    "    return li\n",
    "        \n"
   ]
  },
  {
   "cell_type": "markdown",
   "metadata": {},
   "source": [
    "# in python strings are immutable"
   ]
  },
  {
   "cell_type": "markdown",
   "metadata": {},
   "source": [
    "improving my previous code"
   ]
  },
  {
   "cell_type": "code",
   "execution_count": 74,
   "metadata": {},
   "outputs": [],
   "source": [
    "def convert2binary (n):\n",
    "    li=[]\n",
    "    while(n!=1):\n",
    "       if (n%2==1):\n",
    "        li.append(1)\n",
    "       else:\n",
    "           li.append(0)\n",
    "        \n",
    "       n=n//2\n",
    "    li.reverse()\n",
    "        \n",
    "    return li"
   ]
  },
  {
   "cell_type": "code",
   "execution_count": 79,
   "metadata": {},
   "outputs": [
    {
     "name": "stdout",
     "output_type": "stream",
     "text": [
      "[1, 0, 1, 1]\n",
      "[1, 1, 0, 1]\n",
      "[1, 1, 0, 1]\n"
     ]
    }
   ],
   "source": [
    "num=13\n",
    "val=convert2binary(num)\n",
    "print(val)"
   ]
  },
  {
   "cell_type": "markdown",
   "metadata": {},
   "source": [
    "# [2] convert binary to decimal number"
   ]
  },
  {
   "cell_type": "markdown",
   "metadata": {},
   "source": [
    "my approach"
   ]
  },
  {
   "cell_type": "code",
   "execution_count": 29,
   "metadata": {},
   "outputs": [],
   "source": [
    "def convert_binary2decimal(num):\n",
    "    sum=0\n",
    "    listv=num\n",
    "    for index in range(0,len(listv),1):\n",
    "        sum=int(listv[index])*(2**(len(listv)-1-index))+sum\n",
    "        \n",
    "    return sum\n",
    "    "
   ]
  },
  {
   "cell_type": "code",
   "execution_count": null,
   "metadata": {},
   "outputs": [],
   "source": [
    "num=str(101)\n",
    "ok=list(num)\n",
    "print(ok)\n",
    "\n",
    "val=convert_binary2decimal(ok)\n",
    "print(val)"
   ]
  },
  {
   "cell_type": "markdown",
   "metadata": {},
   "source": [
    "my approach-2"
   ]
  },
  {
   "cell_type": "code",
   "execution_count": 33,
   "metadata": {},
   "outputs": [],
   "source": [
    "def convert_binary2decimal(num):\n",
    "    sum=0\n",
    "    listv=num\n",
    "    for index in range(0,len(listv),1):\n",
    "        sum=int(listv[index])*(2**(len(listv)-1-index))+sum\n",
    "        \n",
    "    return sum"
   ]
  },
  {
   "cell_type": "code",
   "execution_count": 34,
   "metadata": {},
   "outputs": [
    {
     "name": "stdout",
     "output_type": "stream",
     "text": [
      "101\n",
      "5\n"
     ]
    }
   ],
   "source": [
    "num=str(101)\n",
    "ok=num\n",
    "print(ok)\n",
    "\n",
    "val=convert_binary2decimal(ok)\n",
    "print(val)"
   ]
  },
  {
   "cell_type": "markdown",
   "metadata": {},
   "source": [
    "improving my previous code"
   ]
  },
  {
   "cell_type": "code",
   "execution_count": null,
   "metadata": {},
   "outputs": [],
   "source": []
  },
  {
   "cell_type": "markdown",
   "metadata": {},
   "source": []
  },
  {
   "cell_type": "markdown",
   "metadata": {},
   "source": [
    "# [3]swap 2 no using bit manipulation"
   ]
  },
  {
   "cell_type": "markdown",
   "metadata": {},
   "source": [
    "approach-1"
   ]
  },
  {
   "cell_type": "code",
   "execution_count": 35,
   "metadata": {},
   "outputs": [],
   "source": [
    "def swap2numbers(num1,num2):\n",
    "    temp=num1\n",
    "    num1=num2\n",
    "    num2=temp\n",
    "    return num1,num2"
   ]
  },
  {
   "cell_type": "code",
   "execution_count": 53,
   "metadata": {},
   "outputs": [
    {
     "name": "stdout",
     "output_type": "stream",
     "text": [
      "num1=6 \t num2=5\n"
     ]
    }
   ],
   "source": [
    "num1=5\n",
    "num2=6\n",
    "val1,val2=swap2numbers(num1,num2)\n",
    "print(f\"num1={val1} \\t num2={val2}\")"
   ]
  },
  {
   "cell_type": "markdown",
   "metadata": {},
   "source": [
    "approach-2"
   ]
  },
  {
   "cell_type": "code",
   "execution_count": 47,
   "metadata": {},
   "outputs": [],
   "source": [
    "def swap2numbers(num1, num2):\n",
    "    num1, num2 = num2, num1  # Swap the values using tuple unpacking\n",
    "    return num1, num2"
   ]
  },
  {
   "cell_type": "code",
   "execution_count": 52,
   "metadata": {},
   "outputs": [
    {
     "name": "stdout",
     "output_type": "stream",
     "text": [
      "num1=6 \t num2=5\n"
     ]
    }
   ],
   "source": [
    "num1=5\n",
    "num2=6\n",
    "val1,val2=swap2numbers(num1,num2)\n",
    "print(f\"num1={val1} \\t num2={val2}\")"
   ]
  },
  {
   "cell_type": "markdown",
   "metadata": {},
   "source": [
    "approach-3 exor"
   ]
  },
  {
   "cell_type": "code",
   "execution_count": 61,
   "metadata": {},
   "outputs": [],
   "source": [
    "def swap2numbers(num1, num2):\n",
    "    num1=num1 ^ num2\n",
    "    num2=(num1 ^ num2)\n",
    "    num1=(num1 ^ num2)\n",
    "    return num1, num2"
   ]
  },
  {
   "cell_type": "code",
   "execution_count": 62,
   "metadata": {},
   "outputs": [
    {
     "name": "stdout",
     "output_type": "stream",
     "text": [
      "num1=6 \t num2=5\n"
     ]
    }
   ],
   "source": [
    "num1=5\n",
    "num2=6\n",
    "val1,val2=swap2numbers(num1,num2)\n",
    "print(f\"num1={val1} \\t num2={val2}\")"
   ]
  },
  {
   "cell_type": "markdown",
   "metadata": {},
   "source": [
    "# [4] Check if i th bit is set or not"
   ]
  },
  {
   "cell_type": "markdown",
   "metadata": {},
   "source": [
    "Approach-1"
   ]
  },
  {
   "cell_type": "code",
   "execution_count": 145,
   "metadata": {},
   "outputs": [],
   "source": [
    "def convert_decimal2binary1(n):\n",
    "    li=[]\n",
    "    while(n!=0):\n",
    "        if (n%2==1):\n",
    "            li.append(1)\n",
    "        else:\n",
    "            li.append(0)\n",
    "        \n",
    "        n=n//2\n",
    "    li.reverse()\n",
    "    \n",
    "        \n",
    "    return li\n",
    "    \n",
    "def ith_bit_set_or_not(num,bit):\n",
    "    val=convert_decimal2binary1(num)\n",
    "    print(val[len(val)-1-bit])\n",
    "    print(val)\n",
    "    \n",
    "    if len(val)==bit:\n",
    "        if val[len(val)-1]==bit:\n",
    "            return True\n",
    "    else:\n",
    "            \n",
    "                index=len(val)-1-bit\n",
    "                print(val[index])\n",
    "                if val[index]==1:\n",
    "                    return True\n",
    "                else:\n",
    "                    return False\n",
    "\n",
    "    \n",
    "        \n",
    "\n",
    "\n"
   ]
  },
  {
   "cell_type": "code",
   "execution_count": 138,
   "metadata": {},
   "outputs": [
    {
     "name": "stdout",
     "output_type": "stream",
     "text": [
      "0\n",
      "[1, 0, 1, 0]\n",
      "0\n",
      "Not Set\n"
     ]
    }
   ],
   "source": [
    "num=10\n",
    "bit=2\n",
    "if ith_bit_set_or_not(num,bit)==True:\n",
    "    print(\"Set \")\n",
    "else:\n",
    "    print(\"Not Set\")"
   ]
  },
  {
   "cell_type": "markdown",
   "metadata": {},
   "source": [
    "Approach-2"
   ]
  },
  {
   "cell_type": "markdown",
   "metadata": {},
   "source": [
    "using left shif operator"
   ]
  },
  {
   "cell_type": "code",
   "execution_count": 141,
   "metadata": {},
   "outputs": [],
   "source": [
    "def ith_bit_set_or_not(num,bit):\n",
    "   if num & (1<<bit)!=0:\n",
    "        return True\n",
    "   else:\n",
    "       return False"
   ]
  },
  {
   "cell_type": "code",
   "execution_count": 143,
   "metadata": {},
   "outputs": [
    {
     "name": "stdout",
     "output_type": "stream",
     "text": [
      "Set \n"
     ]
    }
   ],
   "source": [
    "num=13\n",
    "bit=2\n",
    "if ith_bit_set_or_not(num,bit)==True:\n",
    "    print(\"Set \")\n",
    "else:\n",
    "    print(\"Not Set\")"
   ]
  },
  {
   "cell_type": "markdown",
   "metadata": {},
   "source": [
    "Aprroach-3\n",
    "right shift"
   ]
  },
  {
   "cell_type": "code",
   "execution_count": null,
   "metadata": {},
   "outputs": [],
   "source": [
    "def ith_bit_set_or_not(num,bit):\n",
    "   if (num>>bit) & (1)!=0:\n",
    "        return True\n",
    "   else:\n",
    "       return False"
   ]
  },
  {
   "cell_type": "code",
   "execution_count": 144,
   "metadata": {},
   "outputs": [
    {
     "name": "stdout",
     "output_type": "stream",
     "text": [
      "Set \n"
     ]
    }
   ],
   "source": [
    "num=13\n",
    "bit=2\n",
    "if ith_bit_set_or_not(num,bit)==True:\n",
    "    print(\"Set \")\n",
    "else:\n",
    "    print(\"Not Set\")"
   ]
  },
  {
   "cell_type": "markdown",
   "metadata": {},
   "source": [
    "# [5] set the i th bit"
   ]
  },
  {
   "cell_type": "markdown",
   "metadata": {},
   "source": [
    "approach-1"
   ]
  },
  {
   "cell_type": "code",
   "execution_count": 159,
   "metadata": {},
   "outputs": [],
   "source": [
    "def convert_decimal2binary1(n):\n",
    "    li=[]\n",
    "    while(n!=0):\n",
    "        if (n%2==1):\n",
    "            li.append(1)\n",
    "        else:\n",
    "            li.append(0)\n",
    "        \n",
    "        n=n//2\n",
    "    li.reverse()\n",
    "    \n",
    "        \n",
    "    return li\n",
    "\n",
    "def convert_binary2decimal(num):\n",
    "    sum=0\n",
    "    listv=num\n",
    "    for index in range(0,len(listv),1):\n",
    "        sum=int(listv[index])*(2**(len(listv)-1-index))+sum\n",
    "        \n",
    "    return sum\n",
    "def set_the_ith_bit_and_return_decimal_number(num,bit):\n",
    "    valbinary=convert_decimal2binary1(num)\n",
    "    print(valbinary)\n",
    "    \n",
    "    if valbinary[len(valbinary)-bit-1]==1:\n",
    "        pass\n",
    "    else:\n",
    "        valbinary[len(valbinary)-bit-1]=1\n",
    "        \n",
    "    valdecimal=convert_binary2decimal(valbinary)\n",
    "    print(valdecimal)\n",
    "    \n",
    "    pass"
   ]
  },
  {
   "cell_type": "code",
   "execution_count": 160,
   "metadata": {},
   "outputs": [
    {
     "name": "stdout",
     "output_type": "stream",
     "text": [
      "[1, 0, 0, 1]\n",
      "13\n"
     ]
    }
   ],
   "source": [
    "num=9\n",
    "bit=2\n",
    "val=set_the_ith_bit_and_return_decimal_number(num,bit)"
   ]
  },
  {
   "cell_type": "markdown",
   "metadata": {},
   "source": [
    "Approach-2"
   ]
  },
  {
   "cell_type": "code",
   "execution_count": 174,
   "metadata": {},
   "outputs": [],
   "source": [
    "def set_the_ith_bit_and_return_decimal_number1(num,bit):\n",
    "\n",
    "    val=num |(1<<bit)\n",
    "    print(val)\n",
    "    valbinary=convert_decimal2binary1(val)\n",
    "    print(valbinary)\n",
    "    valdecimal=convert_binary2decimal(valbinary)\n",
    "    print(valdecimal)\n",
    "\n",
    "    \n",
    "    pass"
   ]
  },
  {
   "cell_type": "code",
   "execution_count": 175,
   "metadata": {},
   "outputs": [
    {
     "name": "stdout",
     "output_type": "stream",
     "text": [
      "13\n",
      "[1, 1, 0, 1]\n",
      "13\n"
     ]
    }
   ],
   "source": [
    "num=9\n",
    "bit=2\n",
    "val=set_the_ith_bit_and_return_decimal_number1(num,bit)"
   ]
  },
  {
   "cell_type": "markdown",
   "metadata": {},
   "source": [
    "# [6]clear the i th bit"
   ]
  },
  {
   "cell_type": "markdown",
   "metadata": {},
   "source": [
    "Approach-1\n"
   ]
  },
  {
   "cell_type": "code",
   "execution_count": 178,
   "metadata": {},
   "outputs": [],
   "source": [
    "def convert_decimal2binary1(n):\n",
    "    li=[]\n",
    "    while(n!=0):\n",
    "        if (n%2==1):\n",
    "            li.append(1)\n",
    "        else:\n",
    "            li.append(0)\n",
    "        \n",
    "        n=n//2\n",
    "    li.reverse()\n",
    "    \n",
    "        \n",
    "    return li\n",
    "\n",
    "def convert_binary2decimal(num):\n",
    "    sum=0\n",
    "    listv=num\n",
    "    for index in range(0,len(listv),1):\n",
    "        sum=int(listv[index])*(2**(len(listv)-1-index))+sum\n",
    "        \n",
    "    return sum\n",
    "def claer_the_ith_bit(num,bit):\n",
    "    valbinary=convert_decimal2binary1(num)\n",
    "    print(valbinary)\n",
    "    \n",
    "    if valbinary[len(valbinary)-bit-1]==1:\n",
    "        valbinary[len(valbinary)-bit-1]=0\n",
    "    else:\n",
    "        pass\n",
    "        \n",
    "    valdecimal=convert_binary2decimal(valbinary)\n",
    "    print(valdecimal)\n",
    "    \n",
    "    return valdecimal\n",
    "    \n",
    "    "
   ]
  },
  {
   "cell_type": "code",
   "execution_count": 179,
   "metadata": {},
   "outputs": [
    {
     "name": "stdout",
     "output_type": "stream",
     "text": [
      "[1, 1, 0, 1]\n",
      "9\n",
      "9\n"
     ]
    }
   ],
   "source": [
    "num=13\n",
    "bit=2\n",
    "val=claer_the_ith_bit(num,bit)\n",
    "print(val)"
   ]
  },
  {
   "cell_type": "markdown",
   "metadata": {},
   "source": [
    " approach-2"
   ]
  },
  {
   "cell_type": "code",
   "execution_count": 186,
   "metadata": {},
   "outputs": [],
   "source": [
    "def claer_the_ith_bit(num,bit):\n",
    "\n",
    "    val=num &(~(1<<bit))\n",
    "    print(val)\n",
    "    valbinary=convert_decimal2binary1(val)\n",
    "    print(valbinary)\n",
    "    valdecimal=convert_binary2decimal(valbinary)\n",
    "    print(valdecimal)\n",
    "\n",
    "    \n",
    "    pass"
   ]
  },
  {
   "cell_type": "code",
   "execution_count": 187,
   "metadata": {},
   "outputs": [
    {
     "name": "stdout",
     "output_type": "stream",
     "text": [
      "9\n",
      "[1, 0, 0, 1]\n",
      "9\n",
      "None\n"
     ]
    }
   ],
   "source": [
    "num=13\n",
    "bit=2\n",
    "val=claer_the_ith_bit(num,bit)\n",
    "print(val)"
   ]
  },
  {
   "cell_type": "markdown",
   "metadata": {},
   "source": [
    "# [7] toggle the ith bit"
   ]
  },
  {
   "cell_type": "markdown",
   "metadata": {},
   "source": [
    " approach-2"
   ]
  },
  {
   "cell_type": "code",
   "execution_count": 190,
   "metadata": {},
   "outputs": [],
   "source": [
    "def convert_decimal2binary1(n):\n",
    "    li=[]\n",
    "    while(n!=0):\n",
    "        if (n%2==1):\n",
    "            li.append(1)\n",
    "        else:\n",
    "            li.append(0)\n",
    "        \n",
    "        n=n//2\n",
    "    li.reverse()\n",
    "    \n",
    "        \n",
    "    return li\n",
    "\n",
    "def convert_binary2decimal(num):\n",
    "    sum=0\n",
    "    listv=num\n",
    "    for index in range(0,len(listv),1):\n",
    "        sum=int(listv[index])*(2**(len(listv)-1-index))+sum\n",
    "        \n",
    "    return sum\n",
    "def toggle_the_ith_bit(num,bit):\n",
    "    valbinary=convert_decimal2binary1(num)\n",
    "    print(valbinary)\n",
    "    \n",
    "    if valbinary[len(valbinary)-bit-1]==1:\n",
    "        valbinary[len(valbinary)-bit-1]=0\n",
    "    else:\n",
    "        valbinary[len(valbinary)-bit-1]=1\n",
    "    \n",
    "    print(valbinary)\n",
    "        \n",
    "    valdecimal=convert_binary2decimal(valbinary)\n",
    "    print(valdecimal)\n",
    "    \n",
    "    return valdecimal\n",
    "    "
   ]
  },
  {
   "cell_type": "code",
   "execution_count": 191,
   "metadata": {},
   "outputs": [
    {
     "name": "stdout",
     "output_type": "stream",
     "text": [
      "[1, 1, 0, 1]\n",
      "[1, 0, 0, 1]\n",
      "9\n",
      "9\n"
     ]
    }
   ],
   "source": [
    "num=13\n",
    "bit=2\n",
    "val=toggle_the_ith_bit(num,bit)\n",
    "print(val)"
   ]
  },
  {
   "cell_type": "markdown",
   "metadata": {},
   "source": [
    "approach-2"
   ]
  },
  {
   "cell_type": "code",
   "execution_count": 194,
   "metadata": {},
   "outputs": [],
   "source": [
    "def toggle_the_ith_bit(num,bit):\n",
    "\n",
    "    val=num^(1<<bit)\n",
    "    print(val)\n",
    "    valbinary=convert_decimal2binary1(val)\n",
    "    print(valbinary)\n",
    "    valdecimal=convert_binary2decimal(valbinary)\n",
    "    print(valdecimal)\n",
    "    return val"
   ]
  },
  {
   "cell_type": "code",
   "execution_count": 195,
   "metadata": {},
   "outputs": [
    {
     "name": "stdout",
     "output_type": "stream",
     "text": [
      "9\n",
      "[1, 0, 0, 1]\n",
      "9\n",
      "9\n"
     ]
    }
   ],
   "source": [
    "num=13\n",
    "bit=2\n",
    "val=toggle_the_ith_bit(num,bit)\n",
    "print(val)"
   ]
  },
  {
   "cell_type": "code",
   "execution_count": 196,
   "metadata": {},
   "outputs": [
    {
     "name": "stdout",
     "output_type": "stream",
     "text": [
      "15\n",
      "[1, 1, 1, 1]\n",
      "15\n",
      "15\n"
     ]
    }
   ],
   "source": [
    "num=13\n",
    "bit=1\n",
    "val=toggle_the_ith_bit(num,bit)\n",
    "print(val)"
   ]
  },
  {
   "cell_type": "markdown",
   "metadata": {},
   "source": [
    "# [8] remove the last set bit(rightmost)"
   ]
  },
  {
   "cell_type": "markdown",
   "metadata": {},
   "source": [
    "approach-1"
   ]
  },
  {
   "cell_type": "code",
   "execution_count": 215,
   "metadata": {},
   "outputs": [],
   "source": [
    "def convert_decimal2binary1(n):\n",
    "    li=[]\n",
    "    while(n!=0):\n",
    "        if (n%2==1):\n",
    "            li.append(1)\n",
    "        else:\n",
    "            li.append(0)\n",
    "        \n",
    "        n=n//2\n",
    "    li.reverse()\n",
    "    \n",
    "        \n",
    "    return li\n",
    "\n",
    "def convert_binary2decimal(num):\n",
    "    sum=0\n",
    "    listv=num\n",
    "    for index in range(0,len(listv),1):\n",
    "        sum=int(listv[index])*(2**(len(listv)-1-index))+sum\n",
    "        \n",
    "    return sum\n",
    "def remove_the_last_set_bit(num):\n",
    "    valbinary=convert_decimal2binary1(num)\n",
    "    print(valbinary)\n",
    "    count=valbinary.count(1)\n",
    "    print(count)\n",
    "    for i in range(len(valbinary) - 1, -1, -1):  # Iterate from right to left\n",
    "        if valbinary[i] == 1:\n",
    "            valbinary[i] = 0\n",
    "            break  # Stop after removing one '1'\n",
    "    # c=0\n",
    "    # for index in range(0,len(valbinary)-1,1):\n",
    "    #     if  c<=count:\n",
    "    #         c=c+1\n",
    "    #         of=index\n",
    "    #     else:\n",
    "    #         valbinary[of]=0\n",
    "    #         break\n",
    "    # print(valbinary)\n",
    "        \n",
    "    valdecimal=convert_binary2decimal(valbinary)\n",
    "    print(valdecimal)\n",
    "    \n",
    "    return valdecimal\n",
    "    "
   ]
  },
  {
   "cell_type": "code",
   "execution_count": 221,
   "metadata": {},
   "outputs": [
    {
     "name": "stdout",
     "output_type": "stream",
     "text": [
      "8\n",
      "[1, 0, 0, 0]\n",
      "8\n",
      "8\n"
     ]
    }
   ],
   "source": [
    "num=12\n",
    "val=remove_the_last_set_bit(num)\n",
    "print(val)"
   ]
  },
  {
   "cell_type": "markdown",
   "metadata": {},
   "source": [
    "Approach-2"
   ]
  },
  {
   "cell_type": "code",
   "execution_count": 219,
   "metadata": {},
   "outputs": [],
   "source": [
    "def remove_the_last_set_bit(num):\n",
    "\n",
    "    val = num & (num - 1)\n",
    "\n",
    "    print(val)\n",
    "    valbinary=convert_decimal2binary1(val)\n",
    "    print(valbinary)\n",
    "    valdecimal=convert_binary2decimal(valbinary)\n",
    "    print(valdecimal)\n",
    "    return val"
   ]
  },
  {
   "cell_type": "code",
   "execution_count": 220,
   "metadata": {},
   "outputs": [
    {
     "name": "stdout",
     "output_type": "stream",
     "text": [
      "8\n",
      "[1, 0, 0, 0]\n",
      "8\n",
      "8\n"
     ]
    }
   ],
   "source": [
    "num=12\n",
    "val=remove_the_last_set_bit(num)\n",
    "print(val)"
   ]
  },
  {
   "cell_type": "markdown",
   "metadata": {},
   "source": [
    "# [9] check if the number is power of 2 or not"
   ]
  },
  {
   "cell_type": "markdown",
   "metadata": {},
   "source": [
    "Approach-1"
   ]
  },
  {
   "cell_type": "code",
   "execution_count": 222,
   "metadata": {},
   "outputs": [],
   "source": [
    "def convert_decimal2binary1(n):\n",
    "    li=[]\n",
    "    while(n!=0):\n",
    "        if (n%2==1):\n",
    "            li.append(1)\n",
    "        else:\n",
    "            li.append(0)\n",
    "        \n",
    "        n=n//2\n",
    "    li.reverse()\n",
    "    \n",
    "        \n",
    "    return li\n",
    "def power_of_2(num):\n",
    "    binary_val=convert2binary(num)\n",
    "    count=0\n",
    "    for index in range(0,len(binary_val),1):\n",
    "        if(binary_val[index]==1):\n",
    "            count=count+1\n",
    "        else:\n",
    "            continue\n",
    "    if count==1:\n",
    "        print(f\"The num={num} is power of 2\")\n",
    "    else:\n",
    "        print(f\"The num={num} is  not power of 2\")\n",
    "        \n",
    "    "
   ]
  },
  {
   "cell_type": "code",
   "execution_count": 225,
   "metadata": {},
   "outputs": [
    {
     "name": "stdout",
     "output_type": "stream",
     "text": [
      "[1, 0, 1, 1]\n",
      "[1, 1, 0, 1]\n",
      "The num=13 is  not power of 2\n"
     ]
    }
   ],
   "source": [
    "num=13\n",
    "power_of_2(num)"
   ]
  },
  {
   "cell_type": "code",
   "execution_count": 226,
   "metadata": {},
   "outputs": [
    {
     "name": "stdout",
     "output_type": "stream",
     "text": [
      "[0, 0, 0, 0, 1]\n",
      "[1, 0, 0, 0, 0]\n",
      "The num=16 is power of 2\n"
     ]
    }
   ],
   "source": [
    "num=16\n",
    "power_of_2(num)"
   ]
  },
  {
   "cell_type": "code",
   "execution_count": null,
   "metadata": {},
   "outputs": [],
   "source": [
    "num=32\n",
    "power_of_2(num)"
   ]
  },
  {
   "cell_type": "markdown",
   "metadata": {},
   "source": [
    "Approach-2"
   ]
  },
  {
   "cell_type": "code",
   "execution_count": 227,
   "metadata": {},
   "outputs": [],
   "source": [
    "def power_of_2(num):\n",
    "\n",
    "    val = num & (num - 1)\n",
    "    if val==0:\n",
    "        print(f\"The num={num} is power of 2\")\n",
    "    else:\n",
    "        print(f\"The num={num} is  not power of 2\")\n",
    "        \n",
    "    "
   ]
  },
  {
   "cell_type": "code",
   "execution_count": 228,
   "metadata": {},
   "outputs": [
    {
     "name": "stdout",
     "output_type": "stream",
     "text": [
      "The num=32 is power of 2\n"
     ]
    }
   ],
   "source": [
    "num=32\n",
    "power_of_2(num)"
   ]
  },
  {
   "cell_type": "code",
   "execution_count": 229,
   "metadata": {},
   "outputs": [
    {
     "name": "stdout",
     "output_type": "stream",
     "text": [
      "The num=16 is power of 2\n"
     ]
    }
   ],
   "source": [
    "num=16\n",
    "power_of_2(num)"
   ]
  },
  {
   "cell_type": "code",
   "execution_count": 230,
   "metadata": {},
   "outputs": [
    {
     "name": "stdout",
     "output_type": "stream",
     "text": [
      "The num=13 is  not power of 2\n"
     ]
    }
   ],
   "source": [
    "num=13\n",
    "power_of_2(num)"
   ]
  },
  {
   "cell_type": "markdown",
   "metadata": {},
   "source": [
    "# [10] counting the number of set bits"
   ]
  },
  {
   "cell_type": "markdown",
   "metadata": {},
   "source": [
    "Approach-1"
   ]
  },
  {
   "cell_type": "code",
   "execution_count": 246,
   "metadata": {},
   "outputs": [],
   "source": [
    "def convert_decimal2binary1(n):\n",
    "    li=[]\n",
    "    while(n!=0):\n",
    "        if (n%2==1):\n",
    "            li.append(1)\n",
    "        else:\n",
    "            li.append(0)\n",
    "        \n",
    "        n=n//2\n",
    "    li.reverse()\n",
    "    \n",
    "        \n",
    "    return li\n",
    "    \n",
    "def counting_no_of_set_bit(num):\n",
    "    binary_val=convert_decimal2binary1(num)\n",
    "    count=0\n",
    "    for index in range(0,len(binary_val),1):\n",
    "        if(binary_val[index]==1):\n",
    "            count=count+1\n",
    "        else:\n",
    "            continue\n",
    "    \n",
    "    return count"
   ]
  },
  {
   "cell_type": "code",
   "execution_count": 247,
   "metadata": {},
   "outputs": [
    {
     "name": "stdout",
     "output_type": "stream",
     "text": [
      "3\n"
     ]
    }
   ],
   "source": [
    "num=13\n",
    "val = counting_no_of_set_bit(num)\n",
    "print(val)"
   ]
  },
  {
   "cell_type": "markdown",
   "metadata": {},
   "source": [
    " approach-2"
   ]
  },
  {
   "cell_type": "code",
   "execution_count": 250,
   "metadata": {},
   "outputs": [],
   "source": [
    "\n",
    "    \n",
    "def counting_no_of_set_bit(n):\n",
    "    li=[]\n",
    "    count=0\n",
    "    while(n!=0):\n",
    "        if (n%2==1):\n",
    "            li.append(1)\n",
    "            count=count+1\n",
    "        else:\n",
    "            li.append(0)\n",
    "        \n",
    "        n=n//2\n",
    "    li.reverse()\n",
    "    \n",
    "        \n",
    "    return count\n",
    "    \n"
   ]
  },
  {
   "cell_type": "code",
   "execution_count": 251,
   "metadata": {},
   "outputs": [
    {
     "name": "stdout",
     "output_type": "stream",
     "text": [
      "3\n"
     ]
    }
   ],
   "source": [
    "num=13\n",
    "val = counting_no_of_set_bit(num)\n",
    "print(val)"
   ]
  },
  {
   "cell_type": "markdown",
   "metadata": {},
   "source": [
    "app-3"
   ]
  },
  {
   "cell_type": "code",
   "execution_count": 254,
   "metadata": {},
   "outputs": [],
   "source": [
    "def counting_no_of_set_bit(n):\n",
    "    count=0\n",
    "    while(n!=0):\n",
    "        n=n&n-1\n",
    "        count=count+1\n",
    "    \n",
    "        \n",
    "    return count\n",
    "    "
   ]
  },
  {
   "cell_type": "code",
   "execution_count": 255,
   "metadata": {},
   "outputs": [
    {
     "name": "stdout",
     "output_type": "stream",
     "text": [
      "3\n"
     ]
    }
   ],
   "source": [
    "num=13\n",
    "val = counting_no_of_set_bit(num)\n",
    "print(val)"
   ]
  },
  {
   "cell_type": "markdown",
   "metadata": {},
   "source": [
    "# [11] Minimum no of bit flip to convert number"
   ]
  },
  {
   "cell_type": "markdown",
   "metadata": {},
   "source": [
    "start=10 goal=7"
   ]
  },
  {
   "cell_type": "markdown",
   "metadata": {},
   "source": [
    "start=3 goal=4"
   ]
  },
  {
   "cell_type": "code",
   "execution_count": 271,
   "metadata": {},
   "outputs": [],
   "source": [
    "def minimum_no_of_flip(start,goal):\n",
    "    ans=start^goal\n",
    "    count=0\n",
    "    for i in range(0,len(ans),1):\n",
    "        if ans & (1<<i):\n",
    "            count=count+1\n",
    "    pass"
   ]
  },
  {
   "cell_type": "code",
   "execution_count": 267,
   "metadata": {},
   "outputs": [],
   "source": [
    "def minimum_no_of_flips(start, goal):\n",
    "    ans = start ^ goal\n",
    "    count = 0\n",
    "    while ans:\n",
    "        count += ans & 1  # Check if the last bit is 1\n",
    "        ans >>= 1         # Right shift to check the next bit\n",
    "    return count\n"
   ]
  },
  {
   "cell_type": "code",
   "execution_count": 280,
   "metadata": {},
   "outputs": [
    {
     "name": "stdout",
     "output_type": "stream",
     "text": [
      "10\n"
     ]
    }
   ],
   "source": [
    "start=10\n",
    "goal=7\n",
    "val= minimum_no_of_flips(start,goal)\n",
    "print(start)\n"
   ]
  },
  {
   "cell_type": "code",
   "execution_count": 270,
   "metadata": {},
   "outputs": [
    {
     "name": "stdout",
     "output_type": "stream",
     "text": [
      "4\n"
     ]
    }
   ],
   "source": [
    "def minimum_no_of_flips(start, goal):\n",
    "    return bin(start ^ goal).count('1')\n",
    "\n",
    "# Example usage\n",
    "start = 2\n",
    "goal = 13\n",
    "print(minimum_no_of_flips(start, goal))  # Output: 3\n"
   ]
  },
  {
   "cell_type": "code",
   "execution_count": 281,
   "metadata": {},
   "outputs": [
    {
     "name": "stdout",
     "output_type": "stream",
     "text": [
      "4\n"
     ]
    }
   ],
   "source": [
    "def minimum_no_of_flips(start, goal):\n",
    "    ans = start ^ goal  # XOR to find differing bits\n",
    "    count = 0\n",
    "    while ans:\n",
    "        count += ans & 1  # Check if the last bit is 1\n",
    "        ans >>= 1         # Shift right to check the next bit\n",
    "    return count\n",
    "\n",
    "# Example usage:\n",
    "start = 2\n",
    "goal = 13\n",
    "print(minimum_no_of_flips(start, goal))  # Output: 3\n"
   ]
  },
  {
   "cell_type": "markdown",
   "metadata": {},
   "source": [
    "# [12] power set(Print all sets)"
   ]
  },
  {
   "cell_type": "code",
   "execution_count": 1,
   "metadata": {},
   "outputs": [
    {
     "name": "stdout",
     "output_type": "stream",
     "text": [
      "[[], [1], [2], [1, 2], [3], [1, 3], [2, 3], [1, 2, 3]]\n"
     ]
    }
   ],
   "source": [
    "def generate_subsets(nums):\n",
    "    n = len(nums)\n",
    "    subsets_count = 1 << n  # 2^n subsets\n",
    "    ans = []\n",
    "\n",
    "    for num in range(subsets_count):\n",
    "        subset = []\n",
    "        for i in range(n):\n",
    "            if num & (1 << i):  # Check if the ith bit is set\n",
    "                subset.append(nums[i])\n",
    "        ans.append(subset)\n",
    "\n",
    "    return ans\n",
    "\n",
    "\n",
    "nums = [1, 2, 3]\n",
    "print(generate_subsets(nums))\n"
   ]
  },
  {
   "cell_type": "markdown",
   "metadata": {},
   "source": [
    "Approach 1: Using a Dictionary (dict)\n",
    "\n",
    "Python's built-in dictionary is a great choice for storing occurrences of numbers because:\n",
    "\n",
    "    It allows constant-time (O(1)) insertions and lookups.\n",
    "    Keys represent unique numbers, and values represent their count."
   ]
  },
  {
   "cell_type": "code",
   "execution_count": null,
   "metadata": {},
   "outputs": [],
   "source": [
    "def count_occurrences(nums):\n",
    "    freq_map = {}  # Dictionary to store occurrences\n",
    "\n",
    "    for num in nums:\n",
    "        if num in freq_map:\n",
    "            freq_map[num] += 1  # Increment count if number already exists\n",
    "        else:\n",
    "            freq_map[num] = 1  # Initialize count for new number\n",
    "\n",
    "    return freq_map\n",
    "\n",
    "# Example usage\n",
    "nums = [1, 2, 2, 3, 3, 3, 4, 1, 2, 4, 4, 4, 4]\n",
    "print(count_occurrences(nums))\n"
   ]
  },
  {
   "cell_type": "markdown",
   "metadata": {},
   "source": [
    "# [12] single Number"
   ]
  },
  {
   "cell_type": "code",
   "execution_count": null,
   "metadata": {},
   "outputs": [],
   "source": []
  }
 ],
 "metadata": {
  "kernelspec": {
   "display_name": "Python 3",
   "language": "python",
   "name": "python3"
  },
  "language_info": {
   "codemirror_mode": {
    "name": "ipython",
    "version": 3
   },
   "file_extension": ".py",
   "mimetype": "text/x-python",
   "name": "python",
   "nbconvert_exporter": "python",
   "pygments_lexer": "ipython3",
   "version": "3.13.1"
  }
 },
 "nbformat": 4,
 "nbformat_minor": 2
}
