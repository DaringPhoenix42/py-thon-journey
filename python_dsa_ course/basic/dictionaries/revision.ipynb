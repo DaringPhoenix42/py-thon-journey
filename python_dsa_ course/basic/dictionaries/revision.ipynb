{
 "cells": [
  {
   "cell_type": "code",
   "execution_count": 2,
   "metadata": {},
   "outputs": [
    {
     "name": "stdout",
     "output_type": "stream",
     "text": [
      "<class 'dict'>\n"
     ]
    }
   ],
   "source": [
    "empty_dict={}\n",
    "print(type(empty_dict))\n"
   ]
  },
  {
   "cell_type": "code",
   "execution_count": 1,
   "metadata": {},
   "outputs": [
    {
     "name": "stdout",
     "output_type": "stream",
     "text": [
      "<class 'dict'>\n"
     ]
    }
   ],
   "source": [
    "empty_dict2=dict()\n",
    "print(type(empty_dict2))"
   ]
  },
  {
   "cell_type": "markdown",
   "metadata": {},
   "source": [
    "# example on dictionary\n"
   ]
  },
  {
   "cell_type": "code",
   "execution_count": 4,
   "metadata": {},
   "outputs": [],
   "source": [
    "students={\n",
    "    \"name\":\"Dhruv\",\n",
    "    \"age\":\"20\",\n",
    "    \"gender\":\"Male\",\n",
    "    \"grade\":\"A\",\n",
    "    \"course\":\"CE\"\n",
    "    }"
   ]
  },
  {
   "cell_type": "code",
   "execution_count": 5,
   "metadata": {},
   "outputs": [
    {
     "name": "stdout",
     "output_type": "stream",
     "text": [
      "{'name': 'Dhruv', 'age': '20', 'gender': 'Male', 'grade': 'A', 'course': 'CE'}\n"
     ]
    }
   ],
   "source": [
    "print(students)"
   ]
  },
  {
   "cell_type": "markdown",
   "metadata": {},
   "source": [
    "# accessing elements"
   ]
  },
  {
   "cell_type": "code",
   "execution_count": 6,
   "metadata": {},
   "outputs": [
    {
     "name": "stdout",
     "output_type": "stream",
     "text": [
      "Dhruv\n",
      "20\n",
      "CE\n",
      "A\n",
      "Male\n",
      "A\n",
      "not available\n"
     ]
    }
   ],
   "source": [
    "print(students[\"name\"])\n",
    "print(students[\"age\"])\n",
    "print(students[\"course\"])\n",
    "print(students[\"grade\"])\n",
    "print(students[\"gender\"])\n",
    "\n",
    "\n",
    "\n",
    "print(students.get(\"grade\"))\n",
    "print(students.get(\"last_name\",\"not available\"))\n"
   ]
  },
  {
   "cell_type": "markdown",
   "metadata": {},
   "source": [
    "#   Modifying dictionary elements  they are mutable"
   ]
  },
  {
   "cell_type": "code",
   "execution_count": 7,
   "metadata": {},
   "outputs": [
    {
     "name": "stdout",
     "output_type": "stream",
     "text": [
      "{'name': 'Dhruv', 'age': '20', 'gender': 'Male', 'grade': 'A', 'course': 'CE', 'address': 'India'}\n"
     ]
    }
   ],
   "source": [
    "students[\"address\"]=\"India\"\n",
    "print(students)"
   ]
  },
  {
   "cell_type": "code",
   "execution_count": 8,
   "metadata": {},
   "outputs": [
    {
     "name": "stdout",
     "output_type": "stream",
     "text": [
      "{'name': 'Dhruv', 'age': '20', 'gender': 'Male', 'grade': 'A', 'course': 'Enginerring', 'address': 'India'}\n"
     ]
    }
   ],
   "source": [
    "students[\"course\"]=\"Enginerring\"\n",
    "print(students)"
   ]
  },
  {
   "cell_type": "code",
   "execution_count": 9,
   "metadata": {},
   "outputs": [
    {
     "name": "stdout",
     "output_type": "stream",
     "text": [
      "{'name': 'Dhruv', 'age': '20', 'gender': 'Male', 'grade': 'A', 'address': 'India'}\n"
     ]
    }
   ],
   "source": [
    "del students[\"course\"]\n",
    "print(students)"
   ]
  },
  {
   "cell_type": "markdown",
   "metadata": {},
   "source": [
    "# Dictionary methods"
   ]
  },
  {
   "cell_type": "code",
   "execution_count": 10,
   "metadata": {},
   "outputs": [
    {
     "name": "stdout",
     "output_type": "stream",
     "text": [
      "dict_values(['Dhruv', '20', 'Male', 'A', 'India'])\n",
      "dict_keys(['name', 'age', 'gender', 'grade', 'address'])\n",
      "dict_items([('name', 'Dhruv'), ('age', '20'), ('gender', 'Male'), ('grade', 'A'), ('address', 'India')])\n"
     ]
    }
   ],
   "source": [
    "values=students.values()\n",
    "print(values)\n",
    "keys=students.keys()\n",
    "print(keys)\n",
    "items=students.items()\n",
    "print(items)"
   ]
  },
  {
   "cell_type": "code",
   "execution_count": 11,
   "metadata": {},
   "outputs": [
    {
     "name": "stdout",
     "output_type": "stream",
     "text": [
      "{'name': 'Dhruv', 'age': '20', 'gender': 'Male', 'grade': 'A', 'address': 'India'}\n",
      "{'name': 'Dhruv', 'age': '20', 'gender': 'Male', 'grade': 'A', 'address': 'India'}\n"
     ]
    }
   ],
   "source": [
    "#shallow copy \n",
    "students_copy=students\n",
    "print(students)\n",
    "print(students_copy)"
   ]
  },
  {
   "cell_type": "code",
   "execution_count": 12,
   "metadata": {},
   "outputs": [
    {
     "name": "stdout",
     "output_type": "stream",
     "text": [
      "{'name': 'Dhruv Tiwari', 'age': '20', 'gender': 'Male', 'grade': 'A', 'address': 'India'}\n",
      "{'name': 'Dhruv Tiwari', 'age': '20', 'gender': 'Male', 'grade': 'A', 'address': 'India'}\n"
     ]
    }
   ],
   "source": [
    "students[\"name\"]=\"Dhruv Tiwari\"\n",
    "print(students)\n",
    "print(students_copy)"
   ]
  },
  {
   "cell_type": "code",
   "execution_count": 13,
   "metadata": {},
   "outputs": [
    {
     "name": "stdout",
     "output_type": "stream",
     "text": [
      "{'name': 'Dhruv Tiwari', 'age': '20', 'gender': 'Male', 'grade': 'A', 'address': 'India'}\n",
      "{'name': 'Dhruv Tiwari', 'age': 21, 'gender': 'Male', 'grade': 'A', 'address': 'India'}\n"
     ]
    }
   ],
   "source": [
    "#shallow copy \n",
    "students_copy=students.copy()\n",
    "print(students)\n",
    "students_copy[\"age\"]=21\n",
    "print(students_copy)\n"
   ]
  },
  {
   "cell_type": "markdown",
   "metadata": {},
   "source": [
    "# iteration in dictionary\n"
   ]
  },
  {
   "cell_type": "code",
   "execution_count": 14,
   "metadata": {},
   "outputs": [
    {
     "name": "stdout",
     "output_type": "stream",
     "text": [
      "Dhruv Tiwari\t20\tMale\tA\tIndia\t"
     ]
    }
   ],
   "source": [
    "for values in students.values():\n",
    "    print(values,end=\"\\t\")"
   ]
  },
  {
   "cell_type": "code",
   "execution_count": 19,
   "metadata": {},
   "outputs": [
    {
     "name": "stdout",
     "output_type": "stream",
     "text": [
      "name\tage\tgender\tgrade\taddress\t"
     ]
    }
   ],
   "source": [
    "for keys in students.keys():\n",
    "    print(keys,end=\"\\t\")"
   ]
  },
  {
   "cell_type": "code",
   "execution_count": 18,
   "metadata": {},
   "outputs": [
    {
     "name": "stdout",
     "output_type": "stream",
     "text": [
      "[name: Dhruv Tiwari]\n",
      "[age: 20]\n",
      "[gender: Male]\n",
      "[grade: A]\n",
      "[address: India]\n"
     ]
    }
   ],
   "source": [
    "for key,value in students.items():\n",
    "   print(f\"[{key}: {value}]\")\n"
   ]
  },
  {
   "cell_type": "markdown",
   "metadata": {},
   "source": [
    "# Nested Dictionary"
   ]
  },
  {
   "cell_type": "code",
   "execution_count": 20,
   "metadata": {},
   "outputs": [
    {
     "name": "stdout",
     "output_type": "stream",
     "text": [
      "{'student1': {'name': 'Dhruv', 'grade': 'A', 'address': 'India'}, 'student2': {'name': 'Divyansh', 'grade': 'B', 'address': 'India'}}\n"
     ]
    }
   ],
   "source": [
    "students={\n",
    "    \"student1\":{'name': 'Dhruv', 'grade': 'A', 'address': 'India'},\n",
    "    \"student2\":{'name': 'Divyansh', 'grade': 'B', 'address': 'India'}\n",
    "}\n",
    "print(students)"
   ]
  },
  {
   "cell_type": "code",
   "execution_count": 22,
   "metadata": {},
   "outputs": [
    {
     "name": "stdout",
     "output_type": "stream",
     "text": [
      "student1: {'name': 'Dhruv', 'grade': 'A', 'address': 'India'}\n",
      "name:Dhruv\n",
      "grade:A\n",
      "address:India\n",
      "student2: {'name': 'Divyansh', 'grade': 'B', 'address': 'India'}\n",
      "name:Divyansh\n",
      "grade:B\n",
      "address:India\n"
     ]
    }
   ],
   "source": [
    "for students_id,students_info in students.items():\n",
    "    print(f\"{students_id}: {students_info}\")\n",
    "    for key,value in students_info.items():\n",
    "        print(f\"{key}:{value}\")"
   ]
  },
  {
   "cell_type": "code",
   "execution_count": 23,
   "metadata": {},
   "outputs": [
    {
     "name": "stdout",
     "output_type": "stream",
     "text": [
      "{1: 2, 2: 2, 3: 3, 4: 6}\n"
     ]
    }
   ],
   "source": [
    "#practical example \n",
    "#use a dictionary tpo count frequency of elements in list\n",
    "numbers1 = [1, 1, 2, 2, 3, 3, 3, 4, 4, 4, 4, 4, 4]\n",
    "frequency = {}\n",
    "\n",
    "for number in numbers1:\n",
    "    if number in frequency:\n",
    "        frequency[number] += 1\n",
    "    else:\n",
    "        frequency[number] = 1  \n",
    "\n",
    "print(frequency)\n"
   ]
  },
  {
   "cell_type": "code",
   "execution_count": 28,
   "metadata": {},
   "outputs": [
    {
     "name": "stdout",
     "output_type": "stream",
     "text": [
      "{1: 2, 2: 2, 3: 3, 4: 6}\n"
     ]
    }
   ],
   "source": [
    "numbers1 = [1, 1, 2, 2, 3, 3, 3, 4, 4, 4, 4, 4, 4]\n",
    "frequency = {}\n",
    "for index1 in range(len(numbers1)):\n",
    "    count=0\n",
    "    for index2 in range(len(numbers1)):\n",
    "        if numbers1[index1]==numbers1[index2]:\n",
    "            count+=1\n",
    "    frequency[numbers1[index1]]=count\n",
    "        \n",
    "            \n",
    "print(frequency)\n",
    "            \n",
    "    "
   ]
  },
  {
   "cell_type": "markdown",
   "metadata": {},
   "source": [
    "# Baisc problem in dictionary"
   ]
  },
  {
   "cell_type": "markdown",
   "metadata": {},
   "source": [
    "# [1] Get length of dictionary in Python"
   ]
  },
  {
   "cell_type": "markdown",
   "metadata": {},
   "source": [
    "using len function"
   ]
  },
  {
   "cell_type": "code",
   "execution_count": 30,
   "metadata": {},
   "outputs": [
    {
     "name": "stdout",
     "output_type": "stream",
     "text": [
      "3\n"
     ]
    }
   ],
   "source": [
    "d ={'Name':'Steve', 'Age':30, 'Designation':'Programmer'}\n",
    "\n",
    "print(len(d))\n"
   ]
  },
  {
   "cell_type": "markdown",
   "metadata": {},
   "source": [
    "using list list comprehension"
   ]
  },
  {
   "cell_type": "code",
   "execution_count": 32,
   "metadata": {},
   "outputs": [
    {
     "name": "stdout",
     "output_type": "stream",
     "text": [
      "3\n"
     ]
    }
   ],
   "source": [
    "d ={'Name':'Steve', 'Age':30, 'Designation':'Programmer'}\n",
    "length=len([key for key in d])\n",
    "print(length)"
   ]
  },
  {
   "cell_type": "code",
   "execution_count": 33,
   "metadata": {},
   "outputs": [
    {
     "name": "stdout",
     "output_type": "stream",
     "text": [
      "9\n"
     ]
    }
   ],
   "source": [
    "d = {\n",
    "    \"product1\": {\"name\": \"Laptop\", \"price\": 800, \"stock\": 15},\n",
    "    \"product2\": {\"name\": \"Smartphone\", \"price\": 500, \"stock\": 30},\n",
    "    \"product3\": {\"name\": \"Tablet\", \"price\": 300, \"stock\": 25}\n",
    "}\n",
    "\n",
    "cnt = 0\n",
    "\n",
    "# Loop through the top-level dictionary\n",
    "for key, val in d.items():\n",
    "    if isinstance(val, dict):  # Check if the value is a nested dictionary\n",
    "        # Loop through the nested dictionary\n",
    "        for i in val:\n",
    "            cnt += 1  # Count each key in the nested dictionary\n",
    "    else:\n",
    "        cnt += 1  # Count the top-level keys\n",
    "\n",
    "print(cnt)\n",
    "\n",
    "    "
   ]
  },
  {
   "cell_type": "markdown",
   "metadata": {},
   "source": [
    "# [2] check if key exist"
   ]
  },
  {
   "cell_type": "markdown",
   "metadata": {},
   "source": [
    "using in operator"
   ]
  },
  {
   "cell_type": "code",
   "execution_count": 35,
   "metadata": {},
   "outputs": [
    {
     "name": "stdout",
     "output_type": "stream",
     "text": [
      "True\n",
      "False\n"
     ]
    }
   ],
   "source": [
    "d = {'a': 1, 'b': 2, 'c': 3}\n",
    "# Key to check\n",
    "key = 'b'\n",
    "\n",
    "print(key in d)\n",
    "key='g'\n",
    "print(key in d)"
   ]
  },
  {
   "cell_type": "code",
   "execution_count": 39,
   "metadata": {},
   "outputs": [
    {
     "name": "stdout",
     "output_type": "stream",
     "text": [
      "found the key \t[value:200]\n"
     ]
    }
   ],
   "source": [
    "dic = {'a': 100, 'b':200, 'c':300}\n",
    "key = 'b'\n",
    "\n",
    "if  key in dic.keys():\n",
    "    print(\"found the key \",end=\"\\t\")\n",
    "    print(f\"[value:{dic[key]}]\")\n",
    "else:\n",
    "    print(\"Not found the required key\")"
   ]
  },
  {
   "cell_type": "code",
   "execution_count": 40,
   "metadata": {},
   "outputs": [
    {
     "name": "stdout",
     "output_type": "stream",
     "text": [
      "found the key \t[value:200]\n"
     ]
    }
   ],
   "source": [
    "# checking if key exist using get method\n",
    "dic = {'a': 100, 'b':200, 'c':300}\n",
    "key = 'b'\n",
    "if dic.get(key)==None:\n",
    "    print(\"Can not find the key\")\n",
    "else:\n",
    "    print(\"found the key \",end=\"\\t\")\n",
    "    print(f\"[value:{dic[key]}]\")"
   ]
  }
 ],
 "metadata": {
  "kernelspec": {
   "display_name": "Python 3",
   "language": "python",
   "name": "python3"
  },
  "language_info": {
   "codemirror_mode": {
    "name": "ipython",
    "version": 3
   },
   "file_extension": ".py",
   "mimetype": "text/x-python",
   "name": "python",
   "nbconvert_exporter": "python",
   "pygments_lexer": "ipython3",
   "version": "3.13.1"
  }
 },
 "nbformat": 4,
 "nbformat_minor": 2
}
