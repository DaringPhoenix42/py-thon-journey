{
 "cells": [
  {
   "cell_type": "code",
   "execution_count": 2,
   "metadata": {},
   "outputs": [
    {
     "name": "stdout",
     "output_type": "stream",
     "text": [
      "<class 'dict'>\n"
     ]
    }
   ],
   "source": [
    "empty_dict={}\n",
    "print(type(empty_dict))\n"
   ]
  },
  {
   "cell_type": "code",
   "execution_count": 1,
   "metadata": {},
   "outputs": [
    {
     "name": "stdout",
     "output_type": "stream",
     "text": [
      "<class 'dict'>\n"
     ]
    }
   ],
   "source": [
    "empty_dict2=dict()\n",
    "print(type(empty_dict2))"
   ]
  },
  {
   "cell_type": "markdown",
   "metadata": {},
   "source": [
    "# example on dictionary\n"
   ]
  },
  {
   "cell_type": "code",
   "execution_count": 4,
   "metadata": {},
   "outputs": [],
   "source": [
    "students={\n",
    "    \"name\":\"Dhruv\",\n",
    "    \"age\":\"20\",\n",
    "    \"gender\":\"Male\",\n",
    "    \"grade\":\"A\",\n",
    "    \"course\":\"CE\"\n",
    "    }"
   ]
  },
  {
   "cell_type": "code",
   "execution_count": 5,
   "metadata": {},
   "outputs": [
    {
     "name": "stdout",
     "output_type": "stream",
     "text": [
      "{'name': 'Dhruv', 'age': '20', 'gender': 'Male', 'grade': 'A', 'course': 'CE'}\n"
     ]
    }
   ],
   "source": [
    "print(students)"
   ]
  },
  {
   "cell_type": "markdown",
   "metadata": {},
   "source": [
    "# accessing elements"
   ]
  },
  {
   "cell_type": "code",
   "execution_count": 6,
   "metadata": {},
   "outputs": [
    {
     "name": "stdout",
     "output_type": "stream",
     "text": [
      "Dhruv\n",
      "20\n",
      "CE\n",
      "A\n",
      "Male\n",
      "A\n",
      "not available\n"
     ]
    }
   ],
   "source": [
    "print(students[\"name\"])\n",
    "print(students[\"age\"])\n",
    "print(students[\"course\"])\n",
    "print(students[\"grade\"])\n",
    "print(students[\"gender\"])\n",
    "\n",
    "\n",
    "\n",
    "print(students.get(\"grade\"))\n",
    "print(students.get(\"last_name\",\"not available\"))\n"
   ]
  },
  {
   "cell_type": "markdown",
   "metadata": {},
   "source": [
    "#   Modifying dictionary elements  they are mutable"
   ]
  },
  {
   "cell_type": "code",
   "execution_count": 7,
   "metadata": {},
   "outputs": [
    {
     "name": "stdout",
     "output_type": "stream",
     "text": [
      "{'name': 'Dhruv', 'age': '20', 'gender': 'Male', 'grade': 'A', 'course': 'CE', 'address': 'India'}\n"
     ]
    }
   ],
   "source": [
    "students[\"address\"]=\"India\"\n",
    "print(students)"
   ]
  },
  {
   "cell_type": "code",
   "execution_count": 8,
   "metadata": {},
   "outputs": [
    {
     "name": "stdout",
     "output_type": "stream",
     "text": [
      "{'name': 'Dhruv', 'age': '20', 'gender': 'Male', 'grade': 'A', 'course': 'Enginerring', 'address': 'India'}\n"
     ]
    }
   ],
   "source": [
    "students[\"course\"]=\"Enginerring\"\n",
    "print(students)"
   ]
  },
  {
   "cell_type": "code",
   "execution_count": 9,
   "metadata": {},
   "outputs": [
    {
     "name": "stdout",
     "output_type": "stream",
     "text": [
      "{'name': 'Dhruv', 'age': '20', 'gender': 'Male', 'grade': 'A', 'address': 'India'}\n"
     ]
    }
   ],
   "source": [
    "del students[\"course\"]\n",
    "print(students)"
   ]
  },
  {
   "cell_type": "markdown",
   "metadata": {},
   "source": [
    "# Dictionary methods"
   ]
  },
  {
   "cell_type": "code",
   "execution_count": 10,
   "metadata": {},
   "outputs": [
    {
     "name": "stdout",
     "output_type": "stream",
     "text": [
      "dict_values(['Dhruv', '20', 'Male', 'A', 'India'])\n",
      "dict_keys(['name', 'age', 'gender', 'grade', 'address'])\n",
      "dict_items([('name', 'Dhruv'), ('age', '20'), ('gender', 'Male'), ('grade', 'A'), ('address', 'India')])\n"
     ]
    }
   ],
   "source": [
    "values=students.values()\n",
    "print(values)\n",
    "keys=students.keys()\n",
    "print(keys)\n",
    "items=students.items()\n",
    "print(items)"
   ]
  },
  {
   "cell_type": "code",
   "execution_count": 11,
   "metadata": {},
   "outputs": [
    {
     "name": "stdout",
     "output_type": "stream",
     "text": [
      "{'name': 'Dhruv', 'age': '20', 'gender': 'Male', 'grade': 'A', 'address': 'India'}\n",
      "{'name': 'Dhruv', 'age': '20', 'gender': 'Male', 'grade': 'A', 'address': 'India'}\n"
     ]
    }
   ],
   "source": [
    "#shallow copy \n",
    "students_copy=students\n",
    "print(students)\n",
    "print(students_copy)"
   ]
  },
  {
   "cell_type": "code",
   "execution_count": 12,
   "metadata": {},
   "outputs": [
    {
     "name": "stdout",
     "output_type": "stream",
     "text": [
      "{'name': 'Dhruv Tiwari', 'age': '20', 'gender': 'Male', 'grade': 'A', 'address': 'India'}\n",
      "{'name': 'Dhruv Tiwari', 'age': '20', 'gender': 'Male', 'grade': 'A', 'address': 'India'}\n"
     ]
    }
   ],
   "source": [
    "students[\"name\"]=\"Dhruv Tiwari\"\n",
    "print(students)\n",
    "print(students_copy)"
   ]
  },
  {
   "cell_type": "code",
   "execution_count": 13,
   "metadata": {},
   "outputs": [
    {
     "name": "stdout",
     "output_type": "stream",
     "text": [
      "{'name': 'Dhruv Tiwari', 'age': '20', 'gender': 'Male', 'grade': 'A', 'address': 'India'}\n",
      "{'name': 'Dhruv Tiwari', 'age': 21, 'gender': 'Male', 'grade': 'A', 'address': 'India'}\n"
     ]
    }
   ],
   "source": [
    "#shallow copy \n",
    "students_copy=students.copy()\n",
    "print(students)\n",
    "students_copy[\"age\"]=21\n",
    "print(students_copy)\n"
   ]
  },
  {
   "cell_type": "markdown",
   "metadata": {},
   "source": [
    "# iteration in dictionary\n"
   ]
  },
  {
   "cell_type": "code",
   "execution_count": 14,
   "metadata": {},
   "outputs": [
    {
     "name": "stdout",
     "output_type": "stream",
     "text": [
      "Dhruv Tiwari\t20\tMale\tA\tIndia\t"
     ]
    }
   ],
   "source": [
    "for values in students.values():\n",
    "    print(values,end=\"\\t\")"
   ]
  },
  {
   "cell_type": "code",
   "execution_count": 19,
   "metadata": {},
   "outputs": [
    {
     "name": "stdout",
     "output_type": "stream",
     "text": [
      "name\tage\tgender\tgrade\taddress\t"
     ]
    }
   ],
   "source": [
    "for keys in students.keys():\n",
    "    print(keys,end=\"\\t\")"
   ]
  },
  {
   "cell_type": "code",
   "execution_count": 18,
   "metadata": {},
   "outputs": [
    {
     "name": "stdout",
     "output_type": "stream",
     "text": [
      "[name: Dhruv Tiwari]\n",
      "[age: 20]\n",
      "[gender: Male]\n",
      "[grade: A]\n",
      "[address: India]\n"
     ]
    }
   ],
   "source": [
    "for key,value in students.items():\n",
    "   print(f\"[{key}: {value}]\")\n"
   ]
  },
  {
   "cell_type": "markdown",
   "metadata": {},
   "source": [
    "# Nested Dictionary"
   ]
  },
  {
   "cell_type": "code",
   "execution_count": 20,
   "metadata": {},
   "outputs": [
    {
     "name": "stdout",
     "output_type": "stream",
     "text": [
      "{'student1': {'name': 'Dhruv', 'grade': 'A', 'address': 'India'}, 'student2': {'name': 'Divyansh', 'grade': 'B', 'address': 'India'}}\n"
     ]
    }
   ],
   "source": [
    "students={\n",
    "    \"student1\":{'name': 'Dhruv', 'grade': 'A', 'address': 'India'},\n",
    "    \"student2\":{'name': 'Divyansh', 'grade': 'B', 'address': 'India'}\n",
    "}\n",
    "print(students)"
   ]
  },
  {
   "cell_type": "code",
   "execution_count": 22,
   "metadata": {},
   "outputs": [
    {
     "name": "stdout",
     "output_type": "stream",
     "text": [
      "student1: {'name': 'Dhruv', 'grade': 'A', 'address': 'India'}\n",
      "name:Dhruv\n",
      "grade:A\n",
      "address:India\n",
      "student2: {'name': 'Divyansh', 'grade': 'B', 'address': 'India'}\n",
      "name:Divyansh\n",
      "grade:B\n",
      "address:India\n"
     ]
    }
   ],
   "source": [
    "for students_id,students_info in students.items():\n",
    "    print(f\"{students_id}: {students_info}\")\n",
    "    for key,value in students_info.items():\n",
    "        print(f\"{key}:{value}\")"
   ]
  },
  {
   "cell_type": "code",
   "execution_count": 23,
   "metadata": {},
   "outputs": [
    {
     "name": "stdout",
     "output_type": "stream",
     "text": [
      "{1: 2, 2: 2, 3: 3, 4: 6}\n"
     ]
    }
   ],
   "source": [
    "#practical example \n",
    "#use a dictionary tpo count frequency of elements in list\n",
    "numbers1 = [1, 1, 2, 2, 3, 3, 3, 4, 4, 4, 4, 4, 4]\n",
    "frequency = {}\n",
    "\n",
    "for number in numbers1:\n",
    "    if number in frequency:\n",
    "        frequency[number] += 1\n",
    "    else:\n",
    "        frequency[number] = 1  \n",
    "\n",
    "print(frequency)\n"
   ]
  },
  {
   "cell_type": "code",
   "execution_count": 28,
   "metadata": {},
   "outputs": [
    {
     "name": "stdout",
     "output_type": "stream",
     "text": [
      "{1: 2, 2: 2, 3: 3, 4: 6}\n"
     ]
    }
   ],
   "source": [
    "numbers1 = [1, 1, 2, 2, 3, 3, 3, 4, 4, 4, 4, 4, 4]\n",
    "frequency = {}\n",
    "for index1 in range(len(numbers1)):\n",
    "    count=0\n",
    "    for index2 in range(len(numbers1)):\n",
    "        if numbers1[index1]==numbers1[index2]:\n",
    "            count+=1\n",
    "    frequency[numbers1[index1]]=count\n",
    "        \n",
    "            \n",
    "print(frequency)\n",
    "            \n",
    "    "
   ]
  },
  {
   "cell_type": "markdown",
   "metadata": {},
   "source": [
    "# Baisc problem in dictionary"
   ]
  },
  {
   "cell_type": "markdown",
   "metadata": {},
   "source": [
    "# [1] Get length of dictionary in Python"
   ]
  },
  {
   "cell_type": "markdown",
   "metadata": {},
   "source": [
    "using len function"
   ]
  },
  {
   "cell_type": "code",
   "execution_count": 30,
   "metadata": {},
   "outputs": [
    {
     "name": "stdout",
     "output_type": "stream",
     "text": [
      "3\n"
     ]
    }
   ],
   "source": [
    "d ={'Name':'Steve', 'Age':30, 'Designation':'Programmer'}\n",
    "\n",
    "print(len(d))\n"
   ]
  },
  {
   "cell_type": "markdown",
   "metadata": {},
   "source": [
    "using list list comprehension"
   ]
  },
  {
   "cell_type": "code",
   "execution_count": 32,
   "metadata": {},
   "outputs": [
    {
     "name": "stdout",
     "output_type": "stream",
     "text": [
      "3\n"
     ]
    }
   ],
   "source": [
    "d ={'Name':'Steve', 'Age':30, 'Designation':'Programmer'}\n",
    "length=len([key for key in d])\n",
    "print(length)"
   ]
  },
  {
   "cell_type": "code",
   "execution_count": 33,
   "metadata": {},
   "outputs": [
    {
     "name": "stdout",
     "output_type": "stream",
     "text": [
      "9\n"
     ]
    }
   ],
   "source": [
    "d = {\n",
    "    \"product1\": {\"name\": \"Laptop\", \"price\": 800, \"stock\": 15},\n",
    "    \"product2\": {\"name\": \"Smartphone\", \"price\": 500, \"stock\": 30},\n",
    "    \"product3\": {\"name\": \"Tablet\", \"price\": 300, \"stock\": 25}\n",
    "}\n",
    "\n",
    "cnt = 0\n",
    "\n",
    "# Loop through the top-level dictionary\n",
    "for key, val in d.items():\n",
    "    if isinstance(val, dict):  # Check if the value is a nested dictionary\n",
    "        # Loop through the nested dictionary\n",
    "        for i in val:\n",
    "            cnt += 1  # Count each key in the nested dictionary\n",
    "    else:\n",
    "        cnt += 1  # Count the top-level keys\n",
    "\n",
    "print(cnt)\n",
    "\n",
    "    "
   ]
  },
  {
   "cell_type": "markdown",
   "metadata": {},
   "source": [
    "# [2] check if key exist"
   ]
  },
  {
   "cell_type": "markdown",
   "metadata": {},
   "source": [
    "using in operator"
   ]
  },
  {
   "cell_type": "code",
   "execution_count": 35,
   "metadata": {},
   "outputs": [
    {
     "name": "stdout",
     "output_type": "stream",
     "text": [
      "True\n",
      "False\n"
     ]
    }
   ],
   "source": [
    "d = {'a': 1, 'b': 2, 'c': 3}\n",
    "# Key to check\n",
    "key = 'b'\n",
    "\n",
    "print(key in d)\n",
    "key='g'\n",
    "print(key in d)"
   ]
  },
  {
   "cell_type": "code",
   "execution_count": 39,
   "metadata": {},
   "outputs": [
    {
     "name": "stdout",
     "output_type": "stream",
     "text": [
      "found the key \t[value:200]\n"
     ]
    }
   ],
   "source": [
    "dic = {'a': 100, 'b':200, 'c':300}\n",
    "key = 'b'\n",
    "\n",
    "if  key in dic.keys():\n",
    "    print(\"found the key \",end=\"\\t\")\n",
    "    print(f\"[value:{dic[key]}]\")\n",
    "else:\n",
    "    print(\"Not found the required key\")"
   ]
  },
  {
   "cell_type": "code",
   "execution_count": 40,
   "metadata": {},
   "outputs": [
    {
     "name": "stdout",
     "output_type": "stream",
     "text": [
      "found the key \t[value:200]\n"
     ]
    }
   ],
   "source": [
    "# checking if key exist using get method\n",
    "dic = {'a': 100, 'b':200, 'c':300}\n",
    "key = 'b'\n",
    "if dic.get(key)==None:\n",
    "    print(\"Can not find the key\")\n",
    "else:\n",
    "    print(\"found the key \",end=\"\\t\")\n",
    "    print(f\"[value:{dic[key]}]\")"
   ]
  },
  {
   "cell_type": "markdown",
   "metadata": {},
   "source": [
    "# [3] Get Dictionary Value by Key - Python"
   ]
  },
  {
   "cell_type": "code",
   "execution_count": 41,
   "metadata": {},
   "outputs": [
    {
     "name": "stdout",
     "output_type": "stream",
     "text": [
      "25\n",
      "USA\n",
      "{'name': 'Alice', 'age': 25, 'city': 'New York', 'country': 'USA'}\n"
     ]
    }
   ],
   "source": [
    "d = {'name': 'Alice', 'age': 25, 'city': 'New York'}\n",
    "\n",
    "# Accessing an existing key\n",
    "print(d.setdefault('age'))  \n",
    "\n",
    "# Accessing a non-existent key and setting a default value\n",
    "print(d.setdefault('country', 'USA')) \n",
    "\n",
    "print(d) \n"
   ]
  },
  {
   "cell_type": "markdown",
   "metadata": {},
   "source": [
    "# [4]Python – Ways to remove a key from dictionary"
   ]
  },
  {
   "cell_type": "code",
   "execution_count": 42,
   "metadata": {},
   "outputs": [
    {
     "name": "stdout",
     "output_type": "stream",
     "text": [
      "{'age': 25, 'city': 'New York'}\n"
     ]
    }
   ],
   "source": [
    "a = {\"name\": \"Nikki\", \"age\": 25, \"city\": \"New York\"}\n",
    "\n",
    "# Remove the key 'name' using dictionary comprehension\n",
    "a = {k: v for k, v in a.items() if k != \"name\"}\n",
    "\n",
    "print(a)  \n"
   ]
  },
  {
   "cell_type": "markdown",
   "metadata": {},
   "source": [
    "Remove keys with substring values"
   ]
  },
  {
   "cell_type": "code",
   "execution_count": 43,
   "metadata": {},
   "outputs": [
    {
     "name": "stdout",
     "output_type": "stream",
     "text": [
      "{'name2': 'python code'}\n"
     ]
    }
   ],
   "source": [
    "# Example\n",
    "d = {'name1': 'hello world', 'name2': 'python code', 'name3': 'world peace'}\n",
    "substring = 'world'\n",
    "\n",
    "temp=dict()\n",
    "for key,value in d.items():\n",
    "    if substring  not in value:\n",
    "        temp[key]=value\n",
    "    else:\n",
    "        continue\n",
    "print(temp)\n"
   ]
  },
  {
   "cell_type": "markdown",
   "metadata": {},
   "source": [
    "Using Dictionary Comprehension"
   ]
  },
  {
   "cell_type": "code",
   "execution_count": 46,
   "metadata": {},
   "outputs": [
    {
     "name": "stdout",
     "output_type": "stream",
     "text": [
      "{'name2': 'python code'}\n"
     ]
    }
   ],
   "source": [
    "# Example\n",
    "d = {'name1': 'hello world', 'name2': 'python code', 'name3': 'world peace'}\n",
    "substring = 'world'\n",
    "\n",
    "temp={}\n",
    "d={k:v for k,v in d.items() if substring not in v}\n",
    "print(d)"
   ]
  },
  {
   "cell_type": "markdown",
   "metadata": {},
   "source": [
    "# Python program to find the sum of all items in a dictionary"
   ]
  },
  {
   "cell_type": "code",
   "execution_count": 1,
   "metadata": {},
   "outputs": [
    {
     "name": "stdout",
     "output_type": "stream",
     "text": [
      "600\n"
     ]
    }
   ],
   "source": [
    "d = {'a': 100, 'b': 200, 'c': 300}\n",
    "res=sum(d.values())\n",
    "print(res)"
   ]
  },
  {
   "cell_type": "code",
   "execution_count": 4,
   "metadata": {},
   "outputs": [
    {
     "name": "stdout",
     "output_type": "stream",
     "text": [
      "600\n"
     ]
    }
   ],
   "source": [
    "d = {'a': 100, 'b': 200, 'c': 300}\n",
    "res=sum([d[key] for key in d])\n",
    "print(res)"
   ]
  },
  {
   "cell_type": "code",
   "execution_count": 6,
   "metadata": {},
   "outputs": [
    {
     "name": "stdout",
     "output_type": "stream",
     "text": [
      "600\n"
     ]
    }
   ],
   "source": [
    "d = {'a': 100, 'b': 200, 'c': 300}\n",
    "res = 0\n",
    "for value in d.values():\n",
    "    res+=value\n",
    "    \n",
    "print(res)"
   ]
  },
  {
   "cell_type": "code",
   "execution_count": 8,
   "metadata": {},
   "outputs": [
    {
     "name": "stdout",
     "output_type": "stream",
     "text": [
      "a\n",
      "100\n",
      "b\n",
      "200\n",
      "c\n",
      "300\n",
      "600\n"
     ]
    }
   ],
   "source": [
    "d = {'a': 100, 'b': 200, 'c': 300}\n",
    "res = 0\n",
    "for inde in d:\n",
    "    res+=d[inde]\n",
    "    print(inde)\n",
    "    print(d[inde])\n",
    "    \n",
    "print(res)"
   ]
  },
  {
   "cell_type": "markdown",
   "metadata": {},
   "source": [
    "# Keys with Maximum value – Python"
   ]
  },
  {
   "cell_type": "markdown",
   "metadata": {},
   "source": [
    "my app"
   ]
  },
  {
   "cell_type": "code",
   "execution_count": null,
   "metadata": {},
   "outputs": [
    {
     "ename": "TypeError",
     "evalue": "'str' object is not callable",
     "output_type": "error",
     "traceback": [
      "\u001b[1;31m---------------------------------------------------------------------------\u001b[0m",
      "\u001b[1;31mTypeError\u001b[0m                                 Traceback (most recent call last)",
      "Cell \u001b[1;32mIn[22], line 10\u001b[0m\n\u001b[0;32m      7\u001b[0m         max_value \u001b[38;5;241m=\u001b[39m d[key]\n\u001b[0;32m      8\u001b[0m         max_key \u001b[38;5;241m=\u001b[39m key  \u001b[38;5;66;03m# Store the key of the max value\u001b[39;00m\n\u001b[1;32m---> 10\u001b[0m \u001b[38;5;28;43mprint\u001b[39;49m\u001b[43m(\u001b[49m\u001b[43mmax_key\u001b[49m\u001b[43m)\u001b[49m  \u001b[38;5;66;03m# Print the key with the maximum value\u001b[39;00m\n\u001b[0;32m     11\u001b[0m \u001b[38;5;28mprint\u001b[39m(max_value)  \u001b[38;5;66;03m# Print the maximum value\u001b[39;00m\n",
      "\u001b[1;31mTypeError\u001b[0m: 'str' object is not callable"
     ]
    }
   ],
   "source": [
    "# d = {'Gfg': 2, 'for': 1, 'CS': 2}\n",
    "# max_value = float('-inf')  # Use 'max_value' instead of 'max' to avoid confusion with built-in 'max'\n",
    "# max_key = None\n",
    "\n",
    "# for key in d:\n",
    "#     if d[key] > max_value:\n",
    "#         max_value = d[key]\n",
    "#         max_key = key  # Store the key of the max value\n",
    "\n",
    "# print(max_key)  # Print the key with the maximum value\n",
    "# print(max_value)  # Print the maximum value\n"
   ]
  },
  {
   "cell_type": "markdown",
   "metadata": {},
   "source": [
    "del max"
   ]
  },
  {
   "cell_type": "code",
   "execution_count": null,
   "metadata": {},
   "outputs": [
    {
     "ename": "NameError",
     "evalue": "name 'max' is not defined",
     "output_type": "error",
     "traceback": [
      "\u001b[1;31m---------------------------------------------------------------------------\u001b[0m",
      "\u001b[1;31mNameError\u001b[0m                                 Traceback (most recent call last)",
      "Cell \u001b[1;32mIn[28], line 2\u001b[0m\n\u001b[0;32m      1\u001b[0m \u001b[38;5;66;03m# Ensure 'max' hasn't been redefined\u001b[39;00m\n\u001b[1;32m----> 2\u001b[0m \u001b[38;5;28;01mdel\u001b[39;00m \u001b[38;5;28;43mmax\u001b[39;49m  \u001b[38;5;66;03m# Only if you previously set max = some_value\u001b[39;00m\n\u001b[0;32m      4\u001b[0m d \u001b[38;5;241m=\u001b[39m {\u001b[38;5;124m'\u001b[39m\u001b[38;5;124mGfg\u001b[39m\u001b[38;5;124m'\u001b[39m: \u001b[38;5;241m2\u001b[39m, \u001b[38;5;124m'\u001b[39m\u001b[38;5;124mfor\u001b[39m\u001b[38;5;124m'\u001b[39m: \u001b[38;5;241m1\u001b[39m, \u001b[38;5;124m'\u001b[39m\u001b[38;5;124mCS\u001b[39m\u001b[38;5;124m'\u001b[39m: \u001b[38;5;241m2\u001b[39m}\n\u001b[0;32m      5\u001b[0m max_value \u001b[38;5;241m=\u001b[39m \u001b[38;5;28mmax\u001b[39m(d\u001b[38;5;241m.\u001b[39mvalues())  \u001b[38;5;66;03m# Find the maximum value\u001b[39;00m\n",
      "\u001b[1;31mNameError\u001b[0m: name 'max' is not defined"
     ]
    }
   ],
   "source": [
    "# Ensure 'max' hasn't been redefined\n",
    "del max  # Only if you previously set max = some_value\n",
    "\n",
    "d = {'Gfg': 2, 'for': 1, 'CS': 2}\n",
    "max_value = max(d.values())  # Find the maximum value\n",
    "max_keys = [key for key in d if d[key] == max_value]  # Find all keys with the max value\n",
    "\n",
    "print(\"Keys with max value:\", max_keys)\n",
    "print(\"Maximum value:\", max_value)\n",
    "\n"
   ]
  },
  {
   "cell_type": "code",
   "execution_count": 31,
   "metadata": {},
   "outputs": [],
   "source": [
    "# TypeError                                 Traceback (most recent call last)\n",
    "# Cell In[29], line 5\n",
    "#       2 max_value = max(d.values())  # Find the maximum value\n",
    "#       3 max_keys = [key for key in d if d[key] == max_value]  # Find all keys with the max value\n",
    "# ----> 5 print(\"Keys with max value:\", max_keys)\n",
    "#       6 print(\"Maximum value:\", max_value)\n",
    "\n",
    "# TypeError: 'str' object is not callab"
   ]
  },
  {
   "cell_type": "code",
   "execution_count": 30,
   "metadata": {},
   "outputs": [
    {
     "name": "stdout",
     "output_type": "stream",
     "text": [
      "Keys with max value: ['Gfg', 'CS']\n",
      "Maximum value: 2\n"
     ]
    }
   ],
   "source": [
    "del print\n",
    "d = {'Gfg': 2, 'for': 1, 'CS': 2}\n",
    "max_value = max(d.values())  # Find the maximum value\n",
    "max_keys = [key for key in d if d[key] == max_value]  # Find all keys with the max value\n",
    "\n",
    "print(\"Keys with max value:\", max_keys)\n",
    "print(\"Maximum value:\", max_value)\n"
   ]
  },
  {
   "cell_type": "code",
   "execution_count": 32,
   "metadata": {},
   "outputs": [
    {
     "name": "stdout",
     "output_type": "stream",
     "text": [
      "['CS', 'Gfg']\n"
     ]
    }
   ],
   "source": [
    "d = {'CS': 2, 'Gfg': 2, 'for': 1}\n",
    "max_val = max(d.values())\n",
    "max_keys = []\n",
    "\n",
    "for key in d:\n",
    "    if d[key] == max_val:\n",
    "        max_keys.append(key)\n",
    "\n",
    "print(max_keys)\n"
   ]
  },
  {
   "cell_type": "code",
   "execution_count": 33,
   "metadata": {},
   "outputs": [
    {
     "name": "stdout",
     "output_type": "stream",
     "text": [
      "['Gfg', 'CS']\n"
     ]
    }
   ],
   "source": [
    "d = {'Gfg' : 2, 'for' : 1, 'CS' : 2}\n",
    "res = [key for key in d if all(d[temp] <= d[key] for temp in d)]\n",
    "print(res)\n"
   ]
  }
 ],
 "metadata": {
  "kernelspec": {
   "display_name": "Python 3",
   "language": "python",
   "name": "python3"
  },
  "language_info": {
   "codemirror_mode": {
    "name": "ipython",
    "version": 3
   },
   "file_extension": ".py",
   "mimetype": "text/x-python",
   "name": "python",
   "nbconvert_exporter": "python",
   "pygments_lexer": "ipython3",
   "version": "3.13.1"
  }
 },
 "nbformat": 4,
 "nbformat_minor": 2
}
