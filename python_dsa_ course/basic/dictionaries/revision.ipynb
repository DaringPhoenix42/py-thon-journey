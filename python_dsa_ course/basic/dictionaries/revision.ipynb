{
 "cells": [
  {
   "cell_type": "code",
   "execution_count": 2,
   "metadata": {},
   "outputs": [
    {
     "name": "stdout",
     "output_type": "stream",
     "text": [
      "<class 'dict'>\n"
     ]
    }
   ],
   "source": [
    "empty_dict={}\n",
    "print(type(empty_dict))\n"
   ]
  },
  {
   "cell_type": "code",
   "execution_count": 1,
   "metadata": {},
   "outputs": [
    {
     "name": "stdout",
     "output_type": "stream",
     "text": [
      "<class 'dict'>\n"
     ]
    }
   ],
   "source": [
    "empty_dict2=dict()\n",
    "print(type(empty_dict2))"
   ]
  },
  {
   "cell_type": "markdown",
   "metadata": {},
   "source": [
    "# example on dictionary\n"
   ]
  },
  {
   "cell_type": "code",
   "execution_count": 4,
   "metadata": {},
   "outputs": [],
   "source": [
    "students={\n",
    "    \"name\":\"Dhruv\",\n",
    "    \"age\":\"20\",\n",
    "    \"gender\":\"Male\",\n",
    "    \"grade\":\"A\",\n",
    "    \"course\":\"CE\"\n",
    "    }"
   ]
  },
  {
   "cell_type": "code",
   "execution_count": 5,
   "metadata": {},
   "outputs": [
    {
     "name": "stdout",
     "output_type": "stream",
     "text": [
      "{'name': 'Dhruv', 'age': '20', 'gender': 'Male', 'grade': 'A', 'course': 'CE'}\n"
     ]
    }
   ],
   "source": [
    "print(students)"
   ]
  },
  {
   "cell_type": "markdown",
   "metadata": {},
   "source": [
    "# accessing elements"
   ]
  },
  {
   "cell_type": "code",
   "execution_count": 6,
   "metadata": {},
   "outputs": [
    {
     "name": "stdout",
     "output_type": "stream",
     "text": [
      "Dhruv\n",
      "20\n",
      "CE\n",
      "A\n",
      "Male\n",
      "A\n",
      "not available\n"
     ]
    }
   ],
   "source": [
    "print(students[\"name\"])\n",
    "print(students[\"age\"])\n",
    "print(students[\"course\"])\n",
    "print(students[\"grade\"])\n",
    "print(students[\"gender\"])\n",
    "\n",
    "\n",
    "\n",
    "print(students.get(\"grade\"))\n",
    "print(students.get(\"last_name\",\"not available\"))\n"
   ]
  },
  {
   "cell_type": "markdown",
   "metadata": {},
   "source": [
    "#   Modifying dictionary elements  they are mutable"
   ]
  },
  {
   "cell_type": "code",
   "execution_count": 7,
   "metadata": {},
   "outputs": [
    {
     "name": "stdout",
     "output_type": "stream",
     "text": [
      "{'name': 'Dhruv', 'age': '20', 'gender': 'Male', 'grade': 'A', 'course': 'CE', 'address': 'India'}\n"
     ]
    }
   ],
   "source": [
    "students[\"address\"]=\"India\"\n",
    "print(students)"
   ]
  },
  {
   "cell_type": "code",
   "execution_count": 8,
   "metadata": {},
   "outputs": [
    {
     "name": "stdout",
     "output_type": "stream",
     "text": [
      "{'name': 'Dhruv', 'age': '20', 'gender': 'Male', 'grade': 'A', 'course': 'Enginerring', 'address': 'India'}\n"
     ]
    }
   ],
   "source": [
    "students[\"course\"]=\"Enginerring\"\n",
    "print(students)"
   ]
  },
  {
   "cell_type": "code",
   "execution_count": 9,
   "metadata": {},
   "outputs": [
    {
     "name": "stdout",
     "output_type": "stream",
     "text": [
      "{'name': 'Dhruv', 'age': '20', 'gender': 'Male', 'grade': 'A', 'address': 'India'}\n"
     ]
    }
   ],
   "source": [
    "del students[\"course\"]\n",
    "print(students)"
   ]
  },
  {
   "cell_type": "markdown",
   "metadata": {},
   "source": [
    "# Dictionary methods"
   ]
  },
  {
   "cell_type": "code",
   "execution_count": 10,
   "metadata": {},
   "outputs": [
    {
     "name": "stdout",
     "output_type": "stream",
     "text": [
      "dict_values(['Dhruv', '20', 'Male', 'A', 'India'])\n",
      "dict_keys(['name', 'age', 'gender', 'grade', 'address'])\n",
      "dict_items([('name', 'Dhruv'), ('age', '20'), ('gender', 'Male'), ('grade', 'A'), ('address', 'India')])\n"
     ]
    }
   ],
   "source": [
    "values=students.values()\n",
    "print(values)\n",
    "keys=students.keys()\n",
    "print(keys)\n",
    "items=students.items()\n",
    "print(items)"
   ]
  },
  {
   "cell_type": "code",
   "execution_count": 11,
   "metadata": {},
   "outputs": [
    {
     "name": "stdout",
     "output_type": "stream",
     "text": [
      "{'name': 'Dhruv', 'age': '20', 'gender': 'Male', 'grade': 'A', 'address': 'India'}\n",
      "{'name': 'Dhruv', 'age': '20', 'gender': 'Male', 'grade': 'A', 'address': 'India'}\n"
     ]
    }
   ],
   "source": [
    "#shallow copy \n",
    "students_copy=students\n",
    "print(students)\n",
    "print(students_copy)"
   ]
  },
  {
   "cell_type": "code",
   "execution_count": 12,
   "metadata": {},
   "outputs": [
    {
     "name": "stdout",
     "output_type": "stream",
     "text": [
      "{'name': 'Dhruv Tiwari', 'age': '20', 'gender': 'Male', 'grade': 'A', 'address': 'India'}\n",
      "{'name': 'Dhruv Tiwari', 'age': '20', 'gender': 'Male', 'grade': 'A', 'address': 'India'}\n"
     ]
    }
   ],
   "source": [
    "students[\"name\"]=\"Dhruv Tiwari\"\n",
    "print(students)\n",
    "print(students_copy)"
   ]
  },
  {
   "cell_type": "code",
   "execution_count": 13,
   "metadata": {},
   "outputs": [
    {
     "name": "stdout",
     "output_type": "stream",
     "text": [
      "{'name': 'Dhruv Tiwari', 'age': '20', 'gender': 'Male', 'grade': 'A', 'address': 'India'}\n",
      "{'name': 'Dhruv Tiwari', 'age': 21, 'gender': 'Male', 'grade': 'A', 'address': 'India'}\n"
     ]
    }
   ],
   "source": [
    "#shallow copy \n",
    "students_copy=students.copy()\n",
    "print(students)\n",
    "students_copy[\"age\"]=21\n",
    "print(students_copy)\n"
   ]
  },
  {
   "cell_type": "markdown",
   "metadata": {},
   "source": [
    "# iteration in dictionary\n"
   ]
  },
  {
   "cell_type": "code",
   "execution_count": 14,
   "metadata": {},
   "outputs": [
    {
     "name": "stdout",
     "output_type": "stream",
     "text": [
      "Dhruv Tiwari\t20\tMale\tA\tIndia\t"
     ]
    }
   ],
   "source": [
    "for values in students.values():\n",
    "    print(values,end=\"\\t\")"
   ]
  },
  {
   "cell_type": "code",
   "execution_count": 19,
   "metadata": {},
   "outputs": [
    {
     "name": "stdout",
     "output_type": "stream",
     "text": [
      "name\tage\tgender\tgrade\taddress\t"
     ]
    }
   ],
   "source": [
    "for keys in students.keys():\n",
    "    print(keys,end=\"\\t\")"
   ]
  },
  {
   "cell_type": "code",
   "execution_count": 18,
   "metadata": {},
   "outputs": [
    {
     "name": "stdout",
     "output_type": "stream",
     "text": [
      "[name: Dhruv Tiwari]\n",
      "[age: 20]\n",
      "[gender: Male]\n",
      "[grade: A]\n",
      "[address: India]\n"
     ]
    }
   ],
   "source": [
    "for key,value in students.items():\n",
    "   print(f\"[{key}: {value}]\")\n"
   ]
  },
  {
   "cell_type": "markdown",
   "metadata": {},
   "source": [
    "# Nested Dictionary"
   ]
  },
  {
   "cell_type": "code",
   "execution_count": 20,
   "metadata": {},
   "outputs": [
    {
     "name": "stdout",
     "output_type": "stream",
     "text": [
      "{'student1': {'name': 'Dhruv', 'grade': 'A', 'address': 'India'}, 'student2': {'name': 'Divyansh', 'grade': 'B', 'address': 'India'}}\n"
     ]
    }
   ],
   "source": [
    "students={\n",
    "    \"student1\":{'name': 'Dhruv', 'grade': 'A', 'address': 'India'},\n",
    "    \"student2\":{'name': 'Divyansh', 'grade': 'B', 'address': 'India'}\n",
    "}\n",
    "print(students)"
   ]
  },
  {
   "cell_type": "code",
   "execution_count": 22,
   "metadata": {},
   "outputs": [
    {
     "name": "stdout",
     "output_type": "stream",
     "text": [
      "student1: {'name': 'Dhruv', 'grade': 'A', 'address': 'India'}\n",
      "name:Dhruv\n",
      "grade:A\n",
      "address:India\n",
      "student2: {'name': 'Divyansh', 'grade': 'B', 'address': 'India'}\n",
      "name:Divyansh\n",
      "grade:B\n",
      "address:India\n"
     ]
    }
   ],
   "source": [
    "for students_id,students_info in students.items():\n",
    "    print(f\"{students_id}: {students_info}\")\n",
    "    for key,value in students_info.items():\n",
    "        print(f\"{key}:{value}\")"
   ]
  },
  {
   "cell_type": "code",
   "execution_count": 23,
   "metadata": {},
   "outputs": [
    {
     "name": "stdout",
     "output_type": "stream",
     "text": [
      "{1: 2, 2: 2, 3: 3, 4: 6}\n"
     ]
    }
   ],
   "source": [
    "#practical example \n",
    "#use a dictionary tpo count frequency of elements in list\n",
    "numbers1 = [1, 1, 2, 2, 3, 3, 3, 4, 4, 4, 4, 4, 4]\n",
    "frequency = {}\n",
    "\n",
    "for number in numbers1:\n",
    "    if number in frequency:\n",
    "        frequency[number] += 1\n",
    "    else:\n",
    "        frequency[number] = 1  \n",
    "\n",
    "print(frequency)\n"
   ]
  },
  {
   "cell_type": "code",
   "execution_count": 28,
   "metadata": {},
   "outputs": [
    {
     "name": "stdout",
     "output_type": "stream",
     "text": [
      "{1: 2, 2: 2, 3: 3, 4: 6}\n"
     ]
    }
   ],
   "source": [
    "numbers1 = [1, 1, 2, 2, 3, 3, 3, 4, 4, 4, 4, 4, 4]\n",
    "frequency = {}\n",
    "for index1 in range(len(numbers1)):\n",
    "    count=0\n",
    "    for index2 in range(len(numbers1)):\n",
    "        if numbers1[index1]==numbers1[index2]:\n",
    "            count+=1\n",
    "    frequency[numbers1[index1]]=count\n",
    "        \n",
    "            \n",
    "print(frequency)\n",
    "            \n",
    "    "
   ]
  },
  {
   "cell_type": "markdown",
   "metadata": {},
   "source": [
    "# Baisc problem in dictionary"
   ]
  },
  {
   "cell_type": "markdown",
   "metadata": {},
   "source": [
    "# [1] Get length of dictionary in Python"
   ]
  },
  {
   "cell_type": "markdown",
   "metadata": {},
   "source": [
    "using len function"
   ]
  },
  {
   "cell_type": "code",
   "execution_count": 30,
   "metadata": {},
   "outputs": [
    {
     "name": "stdout",
     "output_type": "stream",
     "text": [
      "3\n"
     ]
    }
   ],
   "source": [
    "d ={'Name':'Steve', 'Age':30, 'Designation':'Programmer'}\n",
    "\n",
    "print(len(d))\n"
   ]
  },
  {
   "cell_type": "markdown",
   "metadata": {},
   "source": [
    "using list list comprehension"
   ]
  },
  {
   "cell_type": "code",
   "execution_count": 32,
   "metadata": {},
   "outputs": [
    {
     "name": "stdout",
     "output_type": "stream",
     "text": [
      "3\n"
     ]
    }
   ],
   "source": [
    "d ={'Name':'Steve', 'Age':30, 'Designation':'Programmer'}\n",
    "length=len([key for key in d])\n",
    "print(length)"
   ]
  },
  {
   "cell_type": "code",
   "execution_count": 33,
   "metadata": {},
   "outputs": [
    {
     "name": "stdout",
     "output_type": "stream",
     "text": [
      "9\n"
     ]
    }
   ],
   "source": [
    "d = {\n",
    "    \"product1\": {\"name\": \"Laptop\", \"price\": 800, \"stock\": 15},\n",
    "    \"product2\": {\"name\": \"Smartphone\", \"price\": 500, \"stock\": 30},\n",
    "    \"product3\": {\"name\": \"Tablet\", \"price\": 300, \"stock\": 25}\n",
    "}\n",
    "\n",
    "cnt = 0\n",
    "\n",
    "# Loop through the top-level dictionary\n",
    "for key, val in d.items():\n",
    "    if isinstance(val, dict):  # Check if the value is a nested dictionary\n",
    "        # Loop through the nested dictionary\n",
    "        for i in val:\n",
    "            cnt += 1  # Count each key in the nested dictionary\n",
    "    else:\n",
    "        cnt += 1  # Count the top-level keys\n",
    "\n",
    "print(cnt)\n",
    "\n",
    "    "
   ]
  },
  {
   "cell_type": "markdown",
   "metadata": {},
   "source": [
    "# [2] check if key exist"
   ]
  },
  {
   "cell_type": "markdown",
   "metadata": {},
   "source": [
    "using in operator"
   ]
  },
  {
   "cell_type": "code",
   "execution_count": 35,
   "metadata": {},
   "outputs": [
    {
     "name": "stdout",
     "output_type": "stream",
     "text": [
      "True\n",
      "False\n"
     ]
    }
   ],
   "source": [
    "d = {'a': 1, 'b': 2, 'c': 3}\n",
    "# Key to check\n",
    "key = 'b'\n",
    "\n",
    "print(key in d)\n",
    "key='g'\n",
    "print(key in d)"
   ]
  },
  {
   "cell_type": "code",
   "execution_count": 39,
   "metadata": {},
   "outputs": [
    {
     "name": "stdout",
     "output_type": "stream",
     "text": [
      "found the key \t[value:200]\n"
     ]
    }
   ],
   "source": [
    "dic = {'a': 100, 'b':200, 'c':300}\n",
    "key = 'b'\n",
    "\n",
    "if  key in dic.keys():\n",
    "    print(\"found the key \",end=\"\\t\")\n",
    "    print(f\"[value:{dic[key]}]\")\n",
    "else:\n",
    "    print(\"Not found the required key\")"
   ]
  },
  {
   "cell_type": "code",
   "execution_count": 40,
   "metadata": {},
   "outputs": [
    {
     "name": "stdout",
     "output_type": "stream",
     "text": [
      "found the key \t[value:200]\n"
     ]
    }
   ],
   "source": [
    "# checking if key exist using get method\n",
    "dic = {'a': 100, 'b':200, 'c':300}\n",
    "key = 'b'\n",
    "if dic.get(key)==None:\n",
    "    print(\"Can not find the key\")\n",
    "else:\n",
    "    print(\"found the key \",end=\"\\t\")\n",
    "    print(f\"[value:{dic[key]}]\")"
   ]
  },
  {
   "cell_type": "markdown",
   "metadata": {},
   "source": [
    "# [3] Get Dictionary Value by Key - Python"
   ]
  },
  {
   "cell_type": "code",
   "execution_count": 41,
   "metadata": {},
   "outputs": [
    {
     "name": "stdout",
     "output_type": "stream",
     "text": [
      "25\n",
      "USA\n",
      "{'name': 'Alice', 'age': 25, 'city': 'New York', 'country': 'USA'}\n"
     ]
    }
   ],
   "source": [
    "d = {'name': 'Alice', 'age': 25, 'city': 'New York'}\n",
    "\n",
    "# Accessing an existing key\n",
    "print(d.setdefault('age'))  \n",
    "\n",
    "# Accessing a non-existent key and setting a default value\n",
    "print(d.setdefault('country', 'USA')) \n",
    "\n",
    "print(d) \n"
   ]
  },
  {
   "cell_type": "markdown",
   "metadata": {},
   "source": [
    "# [4]Python – Ways to remove a key from dictionary"
   ]
  },
  {
   "cell_type": "code",
   "execution_count": 42,
   "metadata": {},
   "outputs": [
    {
     "name": "stdout",
     "output_type": "stream",
     "text": [
      "{'age': 25, 'city': 'New York'}\n"
     ]
    }
   ],
   "source": [
    "a = {\"name\": \"Nikki\", \"age\": 25, \"city\": \"New York\"}\n",
    "\n",
    "# Remove the key 'name' using dictionary comprehension\n",
    "a = {k: v for k, v in a.items() if k != \"name\"}\n",
    "\n",
    "print(a)  \n"
   ]
  },
  {
   "cell_type": "markdown",
   "metadata": {},
   "source": [
    "Remove keys with substring values"
   ]
  },
  {
   "cell_type": "code",
   "execution_count": 43,
   "metadata": {},
   "outputs": [
    {
     "name": "stdout",
     "output_type": "stream",
     "text": [
      "{'name2': 'python code'}\n"
     ]
    }
   ],
   "source": [
    "# Example\n",
    "d = {'name1': 'hello world', 'name2': 'python code', 'name3': 'world peace'}\n",
    "substring = 'world'\n",
    "\n",
    "temp=dict()\n",
    "for key,value in d.items():\n",
    "    if substring  not in value:\n",
    "        temp[key]=value\n",
    "    else:\n",
    "        continue\n",
    "print(temp)\n"
   ]
  },
  {
   "cell_type": "markdown",
   "metadata": {},
   "source": [
    "Using Dictionary Comprehension"
   ]
  },
  {
   "cell_type": "code",
   "execution_count": 46,
   "metadata": {},
   "outputs": [
    {
     "name": "stdout",
     "output_type": "stream",
     "text": [
      "{'name2': 'python code'}\n"
     ]
    }
   ],
   "source": [
    "# Example\n",
    "d = {'name1': 'hello world', 'name2': 'python code', 'name3': 'world peace'}\n",
    "substring = 'world'\n",
    "\n",
    "temp={}\n",
    "d={k:v for k,v in d.items() if substring not in v}\n",
    "print(d)"
   ]
  },
  {
   "cell_type": "markdown",
   "metadata": {},
   "source": [
    "# Python program to find the sum of all items in a dictionary"
   ]
  },
  {
   "cell_type": "code",
   "execution_count": 1,
   "metadata": {},
   "outputs": [
    {
     "name": "stdout",
     "output_type": "stream",
     "text": [
      "600\n"
     ]
    }
   ],
   "source": [
    "d = {'a': 100, 'b': 200, 'c': 300}\n",
    "res=sum(d.values())\n",
    "print(res)"
   ]
  },
  {
   "cell_type": "code",
   "execution_count": 4,
   "metadata": {},
   "outputs": [
    {
     "name": "stdout",
     "output_type": "stream",
     "text": [
      "600\n"
     ]
    }
   ],
   "source": [
    "d = {'a': 100, 'b': 200, 'c': 300}\n",
    "res=sum([d[key] for key in d])\n",
    "print(res)"
   ]
  },
  {
   "cell_type": "code",
   "execution_count": 6,
   "metadata": {},
   "outputs": [
    {
     "name": "stdout",
     "output_type": "stream",
     "text": [
      "600\n"
     ]
    }
   ],
   "source": [
    "d = {'a': 100, 'b': 200, 'c': 300}\n",
    "res = 0\n",
    "for value in d.values():\n",
    "    res+=value\n",
    "    \n",
    "print(res)"
   ]
  },
  {
   "cell_type": "code",
   "execution_count": 8,
   "metadata": {},
   "outputs": [
    {
     "name": "stdout",
     "output_type": "stream",
     "text": [
      "a\n",
      "100\n",
      "b\n",
      "200\n",
      "c\n",
      "300\n",
      "600\n"
     ]
    }
   ],
   "source": [
    "d = {'a': 100, 'b': 200, 'c': 300}\n",
    "res = 0\n",
    "for inde in d:\n",
    "    res+=d[inde]\n",
    "    print(inde)\n",
    "    print(d[inde])\n",
    "    \n",
    "print(res)"
   ]
  },
  {
   "cell_type": "markdown",
   "metadata": {},
   "source": [
    "# Keys with Maximum value – Python"
   ]
  },
  {
   "cell_type": "markdown",
   "metadata": {},
   "source": [
    "my app"
   ]
  },
  {
   "cell_type": "code",
   "execution_count": null,
   "metadata": {},
   "outputs": [
    {
     "ename": "TypeError",
     "evalue": "'str' object is not callable",
     "output_type": "error",
     "traceback": [
      "\u001b[1;31m---------------------------------------------------------------------------\u001b[0m",
      "\u001b[1;31mTypeError\u001b[0m                                 Traceback (most recent call last)",
      "Cell \u001b[1;32mIn[22], line 10\u001b[0m\n\u001b[0;32m      7\u001b[0m         max_value \u001b[38;5;241m=\u001b[39m d[key]\n\u001b[0;32m      8\u001b[0m         max_key \u001b[38;5;241m=\u001b[39m key  \u001b[38;5;66;03m# Store the key of the max value\u001b[39;00m\n\u001b[1;32m---> 10\u001b[0m \u001b[38;5;28;43mprint\u001b[39;49m\u001b[43m(\u001b[49m\u001b[43mmax_key\u001b[49m\u001b[43m)\u001b[49m  \u001b[38;5;66;03m# Print the key with the maximum value\u001b[39;00m\n\u001b[0;32m     11\u001b[0m \u001b[38;5;28mprint\u001b[39m(max_value)  \u001b[38;5;66;03m# Print the maximum value\u001b[39;00m\n",
      "\u001b[1;31mTypeError\u001b[0m: 'str' object is not callable"
     ]
    }
   ],
   "source": [
    "# d = {'Gfg': 2, 'for': 1, 'CS': 2}\n",
    "# max_value = float('-inf')  # Use 'max_value' instead of 'max' to avoid confusion with built-in 'max'\n",
    "# max_key = None\n",
    "\n",
    "# for key in d:\n",
    "#     if d[key] > max_value:\n",
    "#         max_value = d[key]\n",
    "#         max_key = key  # Store the key of the max value\n",
    "\n",
    "# print(max_key)  # Print the key with the maximum value\n",
    "# print(max_value)  # Print the maximum value\n"
   ]
  },
  {
   "cell_type": "markdown",
   "metadata": {},
   "source": [
    "del max"
   ]
  },
  {
   "cell_type": "code",
   "execution_count": null,
   "metadata": {},
   "outputs": [
    {
     "ename": "NameError",
     "evalue": "name 'max' is not defined",
     "output_type": "error",
     "traceback": [
      "\u001b[1;31m---------------------------------------------------------------------------\u001b[0m",
      "\u001b[1;31mNameError\u001b[0m                                 Traceback (most recent call last)",
      "Cell \u001b[1;32mIn[28], line 2\u001b[0m\n\u001b[0;32m      1\u001b[0m \u001b[38;5;66;03m# Ensure 'max' hasn't been redefined\u001b[39;00m\n\u001b[1;32m----> 2\u001b[0m \u001b[38;5;28;01mdel\u001b[39;00m \u001b[38;5;28;43mmax\u001b[39;49m  \u001b[38;5;66;03m# Only if you previously set max = some_value\u001b[39;00m\n\u001b[0;32m      4\u001b[0m d \u001b[38;5;241m=\u001b[39m {\u001b[38;5;124m'\u001b[39m\u001b[38;5;124mGfg\u001b[39m\u001b[38;5;124m'\u001b[39m: \u001b[38;5;241m2\u001b[39m, \u001b[38;5;124m'\u001b[39m\u001b[38;5;124mfor\u001b[39m\u001b[38;5;124m'\u001b[39m: \u001b[38;5;241m1\u001b[39m, \u001b[38;5;124m'\u001b[39m\u001b[38;5;124mCS\u001b[39m\u001b[38;5;124m'\u001b[39m: \u001b[38;5;241m2\u001b[39m}\n\u001b[0;32m      5\u001b[0m max_value \u001b[38;5;241m=\u001b[39m \u001b[38;5;28mmax\u001b[39m(d\u001b[38;5;241m.\u001b[39mvalues())  \u001b[38;5;66;03m# Find the maximum value\u001b[39;00m\n",
      "\u001b[1;31mNameError\u001b[0m: name 'max' is not defined"
     ]
    }
   ],
   "source": [
    "# Ensure 'max' hasn't been redefined\n",
    "del max  # Only if you previously set max = some_value\n",
    "\n",
    "d = {'Gfg': 2, 'for': 1, 'CS': 2}\n",
    "max_value = max(d.values())  # Find the maximum value\n",
    "max_keys = [key for key in d if d[key] == max_value]  # Find all keys with the max value\n",
    "\n",
    "print(\"Keys with max value:\", max_keys)\n",
    "print(\"Maximum value:\", max_value)\n",
    "\n"
   ]
  },
  {
   "cell_type": "code",
   "execution_count": 31,
   "metadata": {},
   "outputs": [],
   "source": [
    "# TypeError                                 Traceback (most recent call last)\n",
    "# Cell In[29], line 5\n",
    "#       2 max_value = max(d.values())  # Find the maximum value\n",
    "#       3 max_keys = [key for key in d if d[key] == max_value]  # Find all keys with the max value\n",
    "# ----> 5 print(\"Keys with max value:\", max_keys)\n",
    "#       6 print(\"Maximum value:\", max_value)\n",
    "\n",
    "# TypeError: 'str' object is not callab"
   ]
  },
  {
   "cell_type": "code",
   "execution_count": 30,
   "metadata": {},
   "outputs": [
    {
     "name": "stdout",
     "output_type": "stream",
     "text": [
      "Keys with max value: ['Gfg', 'CS']\n",
      "Maximum value: 2\n"
     ]
    }
   ],
   "source": [
    "del print\n",
    "d = {'Gfg': 2, 'for': 1, 'CS': 2}\n",
    "max_value = max(d.values())  # Find the maximum value\n",
    "max_keys = [key for key in d if d[key] == max_value]  # Find all keys with the max value\n",
    "\n",
    "print(\"Keys with max value:\", max_keys)\n",
    "print(\"Maximum value:\", max_value)\n"
   ]
  },
  {
   "cell_type": "code",
   "execution_count": 32,
   "metadata": {},
   "outputs": [
    {
     "name": "stdout",
     "output_type": "stream",
     "text": [
      "['CS', 'Gfg']\n"
     ]
    }
   ],
   "source": [
    "d = {'CS': 2, 'Gfg': 2, 'for': 1}\n",
    "max_val = max(d.values())\n",
    "max_keys = []\n",
    "\n",
    "for key in d:\n",
    "    if d[key] == max_val:\n",
    "        max_keys.append(key)\n",
    "\n",
    "print(max_keys)\n"
   ]
  },
  {
   "cell_type": "code",
   "execution_count": 33,
   "metadata": {},
   "outputs": [
    {
     "name": "stdout",
     "output_type": "stream",
     "text": [
      "['Gfg', 'CS']\n"
     ]
    }
   ],
   "source": [
    "d = {'Gfg' : 2, 'for' : 1, 'CS' : 2}\n",
    "res = [key for key in d if all(d[temp] <= d[key] for temp in d)]\n",
    "print(res)\n"
   ]
  },
  {
   "cell_type": "markdown",
   "metadata": {},
   "source": [
    "Python – Remove duplicate values in dictionary"
   ]
  },
  {
   "cell_type": "code",
   "execution_count": 34,
   "metadata": {},
   "outputs": [
    {
     "name": "stdout",
     "output_type": "stream",
     "text": [
      "{'Gfg': 2, 'for': 1, 'CS': 2}\n"
     ]
    }
   ],
   "source": [
    "test_dict = {'gfg': 10, 'is': 15, 'best': 20, 'for': 10, 'geeks': 20}\n",
    "\n",
    "for key1,val in d.items():\n",
    "    count=0\n",
    "    for key2 in d:\n",
    "        if d[key]==d[key1] :\n",
    "            count=count+1\n",
    "    if  count==2:\n",
    "        d.pop(d[key1])\n",
    "        \n",
    "print(d)    \n"
   ]
  },
  {
   "cell_type": "markdown",
   "metadata": {},
   "source": [
    "Prefix key match in dictionary"
   ]
  },
  {
   "cell_type": "code",
   "execution_count": 39,
   "metadata": {},
   "outputs": [
    {
     "name": "stdout",
     "output_type": "stream",
     "text": [
      "The original dictionary : {'tough': 1, 'to': 2, 'do': 3, 'todays': 4, 'work': 5}\n",
      "{'tough': 1, 'to': 2, 'todays': 4}\n"
     ]
    }
   ],
   "source": [
    "test_dict = {'tough': 1, 'to': 2, 'do': 3, 'todays': 4, 'work': 5}\n",
    " \n",
    "# printing original dictionary\n",
    "print(\"The original dictionary : \" + str(test_dict))\n",
    "temp={}\n",
    "for key,val in test_dict.items():\n",
    "    if key.startswith(\"to\")==True:\n",
    "        temp[key]=val\n",
    "    else:\n",
    "        continue\n",
    "    \n",
    "print(temp)"
   ]
  },
  {
   "cell_type": "markdown",
   "metadata": {},
   "source": [
    "Counting the Frequencies in a List Using Dictionary in Python"
   ]
  },
  {
   "cell_type": "code",
   "execution_count": 40,
   "metadata": {},
   "outputs": [
    {
     "name": "stdout",
     "output_type": "stream",
     "text": [
      "{'apple': 2, 'banana': 3, 'orange': 1}\n"
     ]
    }
   ],
   "source": [
    "a = ['apple', 'banana', 'apple', 'orange', 'banana', 'banana']\n",
    "\n",
    "# Create an empty dictionary to store the counts\n",
    "b = {}\n",
    "for val in a:\n",
    "    count=0\n",
    "    if val  not in b:\n",
    "        b[val]=1\n",
    "    else:\n",
    "        count=count+1\n",
    "        b[val]+=1\n",
    "print(b)"
   ]
  },
  {
   "cell_type": "code",
   "execution_count": 41,
   "metadata": {},
   "outputs": [
    {
     "name": "stdout",
     "output_type": "stream",
     "text": [
      "{'apple': 2, 'banana': 3, 'orange': 1}\n"
     ]
    }
   ],
   "source": [
    "from collections import defaultdict\n",
    "\n",
    "# List of items\n",
    "a = ['apple', 'banana', 'apple', 'orange', 'banana', 'banana']\n",
    "\n",
    "# Create a defaultdict with default value 0\n",
    "b = defaultdict(int)\n",
    "\n",
    "# Loop through the list\n",
    "for c in a:\n",
    "    b[c] += 1\n",
    "\n",
    "# Print the frequency of each item\n",
    "print(dict(b))\n"
   ]
  },
  {
   "cell_type": "markdown",
   "metadata": {},
   "source": [
    "# Check if two arrays are equal or not"
   ]
  },
  {
   "cell_type": "code",
   "execution_count": 48,
   "metadata": {},
   "outputs": [
    {
     "name": "stdout",
     "output_type": "stream",
     "text": [
      "{1: 1, 2: 1, 5: 1, 4: 1, 0: 1}\n",
      "{2: 1, 4: 1, 5: 1, 0: 1, 1: 1}\n",
      "True\n",
      "True\n",
      "[0, 1, 2, 4, 5]\n",
      "[0, 1, 2, 4, 5]\n",
      "True\n"
     ]
    }
   ],
   "source": [
    "a=[1,2,5,4,0]\n",
    "b=[2,4,5,0,1]\n",
    "adic={}\n",
    "bdic={}\n",
    "for val in a:\n",
    "    if val not in adic:\n",
    "        adic[val]=1\n",
    "    else:\n",
    "        adic[val]+=1\n",
    "        \n",
    "print(adic)\n",
    "\n",
    "for val in b:\n",
    "    if val not in bdic:\n",
    "        bdic[val]=1\n",
    "    else:\n",
    "        bdic[val]+=1\n",
    "        \n",
    "print(bdic)\n",
    "if adic==bdic:\n",
    "    print('True')\n",
    "else:\n",
    "    print('False')\n",
    "\n",
    "val=False\n",
    "for key,val in bdic.items():\n",
    "    if key not in adic:\n",
    "        val= False\n",
    "        break\n",
    "    if  key in adic and adic[key]==val:\n",
    "        val= True\n",
    "#time complexity nlogn  space big of n\n",
    "print(val)\n",
    "\n",
    "a.sort()\n",
    "b.sort()\n",
    "print(a)\n",
    "print(b)\n",
    "if a==b:\n",
    "    print('True')\n",
    "else:\n",
    "    print('False')\n"
   ]
  },
  {
   "cell_type": "code",
   "execution_count": 50,
   "metadata": {},
   "outputs": [
    {
     "name": "stdout",
     "output_type": "stream",
     "text": [
      "True\n"
     ]
    }
   ],
   "source": [
    "def compareLists(a, b):\n",
    "    adic = {}\n",
    "    bdic = {}\n",
    "\n",
    "    for val in a:\n",
    "        adic[val] = adic.get(val, 0) + 1\n",
    "\n",
    "    for val in b:\n",
    "        bdic[val] = bdic.get(val, 0) + 1\n",
    "\n",
    "    return adic == bdic\n",
    "\n",
    "# Example usage:\n",
    "a = [1, 2, 5, 4, 0]\n",
    "b = [2, 4, 5, 0, 1]\n",
    "print(compareLists(a, b))  # This will print True if they are equal.\n"
   ]
  },
  {
   "cell_type": "code",
   "execution_count": 49,
   "metadata": {},
   "outputs": [
    {
     "name": "stdout",
     "output_type": "stream",
     "text": [
      "true\n"
     ]
    }
   ],
   "source": [
    "def checkEqual(a, b):\n",
    "    n, m = len(a), len(b)\n",
    "    if n != m:\n",
    "        return False\n",
    "\n",
    "    mp = {}\n",
    "    for num in a:\n",
    "        mp[num] = mp.get(num, 0) + 1\n",
    "\n",
    "    for num in b:\n",
    "        if num not in mp:\n",
    "            return False\n",
    "        if mp[num] == 0:\n",
    "            return False\n",
    "        mp[num] -= 1\n",
    "    return True\n",
    "\n",
    "if __name__ == '__main__':\n",
    "    a = [3, 5, 2, 5, 2]\n",
    "    b = [2, 3, 5, 5, 2]\n",
    "\n",
    "    if checkEqual(a, b):\n",
    "        print(\"true\")\n",
    "    else:\n",
    "        print(\"false\")\n"
   ]
  },
  {
   "cell_type": "code",
   "execution_count": null,
   "metadata": {},
   "outputs": [],
   "source": [
    "# User function Template for python3\n",
    "\n",
    "class Solution:\n",
    "    # Function to check if two arrays are equal or not.\n",
    "    def checkEqual(self, a, b) -> bool:\n",
    "        if len(a) != len(b):\n",
    "            return False\n",
    "        adic={}\n",
    "        bdic={}\n",
    "        for val in a:\n",
    "            if val not in adic:\n",
    "                adic[val]=1\n",
    "            else:\n",
    "                adic[val]+=1\n",
    "        \n",
    "        \n",
    "\n",
    "        for val in b:\n",
    "            if val not in bdic:\n",
    "                bdic[val]=1\n",
    "            else:\n",
    "                bdic[val]+=1\n",
    "        \n",
    "\n",
    "        \n",
    "        for key,val in bdic.items():\n",
    "            if key not in adic:\n",
    "                \n",
    "                return False\n",
    "            if val!=adic[key]:\n",
    "                return False\n",
    "                \n",
    "            if  key in adic and adic[key]==val:\n",
    "                continue\n",
    "                \n",
    "        return True"
   ]
  },
  {
   "cell_type": "markdown",
   "metadata": {},
   "source": [
    "# Max Distance Between Two Occurrences"
   ]
  },
  {
   "cell_type": "markdown",
   "metadata": {},
   "source": [
    "brute force approach"
   ]
  },
  {
   "cell_type": "code",
   "execution_count": 61,
   "metadata": {},
   "outputs": [],
   "source": [
    "def maxDistance(arr):\n",
    "    res=0\n",
    "    for index1 in range(len(arr)-1):\n",
    "        for index2 in range(index1+1,len(arr)):\n",
    "            if arr[index1]==arr[index2]:\n",
    "                res_C=index2-index1\n",
    "                res=max(res,res_C)\n",
    "                \n",
    "    if res==0:\n",
    "        return 0\n",
    "    else :\n",
    "        return res\n",
    "                \n",
    "            "
   ]
  },
  {
   "cell_type": "code",
   "execution_count": 62,
   "metadata": {},
   "outputs": [
    {
     "name": "stdout",
     "output_type": "stream",
     "text": [
      "5\n"
     ]
    }
   ],
   "source": [
    "if __name__==\"__main__\":\n",
    "    arr = [1, 2, 4, 1, 3, 4, 2, 5, 6, 5]\n",
    "    print(maxDistance(arr))"
   ]
  },
  {
   "cell_type": "markdown",
   "metadata": {},
   "source": [
    "hashing approach"
   ]
  },
  {
   "cell_type": "code",
   "execution_count": 68,
   "metadata": {},
   "outputs": [
    {
     "name": "stdout",
     "output_type": "stream",
     "text": [
      "5\n"
     ]
    }
   ],
   "source": [
    "# Python Program to find max distance between two occurrences\n",
    "# in array using hashing\n",
    "\n",
    "def maxDistance(arr):\n",
    "  \n",
    "    # Stores element to first index mapping\n",
    "    mp = {}\n",
    "    res = 0\n",
    "\n",
    "    for i in range(len(arr)):\n",
    "      \n",
    "        # If this is the first occurrence of the\n",
    "        # element, store its index\n",
    "        if arr[i] not in mp:\n",
    "            mp[arr[i]] = i\n",
    "            \n",
    "        # Else update max distance\n",
    "        else:\n",
    "            res = max(res, i - mp[arr[i]])\n",
    "\n",
    "    return res\n",
    "\n",
    "if __name__ == \"__main__\":\n",
    "    arr = [1, 1, 2, 2, 2, 1]\n",
    "    print(maxDistance(arr))\n"
   ]
  },
  {
   "cell_type": "code",
   "execution_count": 71,
   "metadata": {},
   "outputs": [],
   "source": [
    "def maxDistance1(arr):\n",
    "    res=0\n",
    "    temp={}\n",
    "    for index1 in range(len(arr)):\n",
    "        if arr[index1] not in temp:\n",
    "              temp[arr[index1]]=index1\n",
    "        else:\n",
    "            res=max(res,index1-temp[arr[index1]])\n",
    "            \n",
    "    return res"
   ]
  },
  {
   "cell_type": "code",
   "execution_count": 72,
   "metadata": {},
   "outputs": [
    {
     "name": "stdout",
     "output_type": "stream",
     "text": [
      "5\n"
     ]
    }
   ],
   "source": [
    "if __name__==\"__main__\":\n",
    "    arr = [1, 2, 4, 1, 3, 4, 2, 5, 6, 5]\n",
    "    arr2 = [1, 1, 2, 2, 2, 1]\n",
    "    print(maxDistance1(arr2))"
   ]
  },
  {
   "cell_type": "markdown",
   "metadata": {},
   "source": [
    "# 2 sum"
   ]
  },
  {
   "cell_type": "markdown",
   "metadata": {},
   "source": [
    "brure force"
   ]
  },
  {
   "cell_type": "code",
   "execution_count": 73,
   "metadata": {},
   "outputs": [],
   "source": [
    "def countPairs(arr, target):\n",
    "    count=0\n",
    "    for index in range(0,len(arr)-1,1):\n",
    "        for index2 in range(index+1,len(arr),1):\n",
    "            if arr[index]+arr[index2]==target:\n",
    "                count=count+1\n",
    "    return count"
   ]
  },
  {
   "cell_type": "code",
   "execution_count": 74,
   "metadata": {},
   "outputs": [
    {
     "name": "stdout",
     "output_type": "stream",
     "text": [
      "3\n"
     ]
    }
   ],
   "source": [
    "if __name__ == \"__main__\":\n",
    "    arr = [1, 5, 7, -1, 5]\n",
    "    target = 6\n",
    "    print(countPairs(arr, target))"
   ]
  },
  {
   "cell_type": "markdown",
   "metadata": {},
   "source": [
    "sliding window approach"
   ]
  },
  {
   "cell_type": "code",
   "execution_count": null,
   "metadata": {},
   "outputs": [],
   "source": []
  },
  {
   "cell_type": "markdown",
   "metadata": {},
   "source": [
    "\n"
   ]
  },
  {
   "cell_type": "code",
   "execution_count": null,
   "metadata": {},
   "outputs": [
    {
     "name": "stdout",
     "output_type": "stream",
     "text": [
      "2\n"
     ]
    }
   ],
   "source": [
    "def countPairs(arr, target):\n",
    "    freq = {}\n",
    "    cnt = 0\n",
    "\n",
    "    for i in range(0,len(arr)):\n",
    "        # For each element, check if (target - arr[i]) exists in freq\n",
    "        if (target - arr[i]) in freq:\n",
    "            cnt += freq[target - arr[i]]\n",
    "        \n",
    "        # Update frequency of the current element\n",
    "        freq[arr[i]] = freq.get(arr[i], 0) + 1 \n",
    "    return cnt\n",
    "\n",
    "if __name__ == \"__main__\":\n",
    "    arr = [1, 5, 7, -1, 5] \n",
    "    target = 6 \n",
    "    print(countPairs(arr, target))\n"
   ]
  },
  {
   "cell_type": "markdown",
   "metadata": {},
   "source": [
    "3-sum"
   ]
  },
  {
   "cell_type": "code",
   "execution_count": null,
   "metadata": {},
   "outputs": [
    {
     "name": "stdout",
     "output_type": "stream",
     "text": [
      "1\n",
      "false\n"
     ]
    }
   ],
   "source": [
    "# Python Program to check for triplet sum by generating\n",
    "# all triplets\n",
    "\n",
    "def hasTripletSum(arr, target):\n",
    "    n = len(arr)\n",
    "    \n",
    "    count=0\n",
    "    for i in range(0,n - 2):\n",
    "        \n",
    "        \n",
    "        for j in range(i + 1, n - 1):\n",
    "            \n",
    "            \n",
    "            for k in range(j + 1, n):\n",
    "                if arr[i] + arr[j] + arr[k] == target:\n",
    "                    count=count+1\n",
    "                    return True\n",
    "    print(count)    \n",
    "    # If we reach here, then no triplet was found\n",
    "    return False\n",
    "\n",
    "if __name__ == \"__main__\":\n",
    "    arr = [1, 4, 45, 6, 10, 8]\n",
    "    target = 13\n",
    "    if hasTripletSum(arr, target):\n",
    "        print(\"true\")\n",
    "    else:\n",
    "        print(\"false\")\n"
   ]
  },
  {
   "cell_type": "code",
   "execution_count": 88,
   "metadata": {},
   "outputs": [
    {
     "name": "stdout",
     "output_type": "stream",
     "text": [
      "1\n"
     ]
    }
   ],
   "source": [
    "\n",
    "def hasTripletSum(arr, target):\n",
    "    n = len(arr)\n",
    "    \n",
    "    count=0\n",
    "    cnt=0\n",
    "    for i in range(0,n - 2):\n",
    "        \n",
    "        \n",
    "            freq={}\n",
    "            \n",
    "            \n",
    "            for j in range(i + 1, n):\n",
    "                if (target - (arr[i]+arr[j])) in freq:\n",
    "                    cnt += freq[target - (arr[i]+arr[j])]\n",
    "        \n",
    "        \n",
    "                freq[arr[j]] = freq.get(arr[j], 0) + 1 \n",
    "            return cnt\n",
    "        \n",
    "    \n",
    "\n",
    "\n",
    "    \n",
    "if __name__ == \"__main__\":\n",
    "    arr = [1, 4, 45, 6, 10, 8]\n",
    "    target = 13\n",
    "    print(hasTripletSum(arr, target))\n"
   ]
  },
  {
   "cell_type": "code",
   "execution_count": 104,
   "metadata": {},
   "outputs": [
    {
     "name": "stdout",
     "output_type": "stream",
     "text": [
      "1\n"
     ]
    }
   ],
   "source": [
    "def countTriplets(arr, target):\n",
    "    \"\"\"\n",
    "    Count the number of triplets in 'arr' that sum up to 'target'.\n",
    "    \n",
    "    This function uses a nested loop and a frequency dictionary to count\n",
    "    triplets efficiently. For each fixed element arr[i], it uses a dictionary \n",
    "    to record the frequency of subsequent elements and checks if the required \n",
    "    complement (target - (arr[i] + arr[j])) has been seen.\n",
    "    \"\"\"\n",
    "    n = len(arr)\n",
    "    cnt = 0  # Initialize count of valid triplets\n",
    "\n",
    "    \n",
    "    freq = {} \n",
    "    for i in range(n - 2):\n",
    "\n",
    "       \n",
    "        for j in range(i + 1, n):\n",
    "            # Calculate the required complement for the current pair (arr[i], arr[j])\n",
    "            complement = target - (arr[i] + arr[j])\n",
    "            \n",
    "            # If the complement exists in the frequency dictionary, add its frequency to cnt\n",
    "            if complement in freq:\n",
    "                cnt += freq[complement]\n",
    "            \n",
    "            # Update frequency dictionary with the current element arr[j]\n",
    "            freq[arr[j]] = freq.get(arr[j], 0) + 1\n",
    "\n",
    "    return cnt\n",
    "\n",
    "\n",
    "if __name__ == \"__main__\":\n",
    "    arr = [1, 4, 45, 6, 10, 8]\n",
    "    target = 13\n",
    "    print(countTriplets(arr, target))\n"
   ]
  },
  {
   "cell_type": "markdown",
   "metadata": {},
   "source": [
    "Count pairs with absolute difference equal to k"
   ]
  },
  {
   "cell_type": "markdown",
   "metadata": {},
   "source": [
    "brute force"
   ]
  },
  {
   "cell_type": "code",
   "execution_count": 93,
   "metadata": {},
   "outputs": [],
   "source": [
    "def countPairs(arr, k):\n",
    "    count=0\n",
    "    for i in range(len(arr)-1):\n",
    "        for j in range(i+1,len(arr),1):\n",
    "           if abs(arr[j]-arr[i])==k:\n",
    "               count=count+1\n",
    "    return count"
   ]
  },
  {
   "cell_type": "code",
   "execution_count": 94,
   "metadata": {},
   "outputs": [
    {
     "name": "stdout",
     "output_type": "stream",
     "text": [
      "4\n"
     ]
    }
   ],
   "source": [
    "if __name__ == \"__main__\":\n",
    "    arr = [1, 4, 1, 4, 5]\n",
    "    k = 3\n",
    "\n",
    "    print(countPairs(arr, k))"
   ]
  },
  {
   "cell_type": "markdown",
   "metadata": {},
   "source": [
    "better using hash map approach"
   ]
  },
  {
   "cell_type": "code",
   "execution_count": 101,
   "metadata": {},
   "outputs": [
    {
     "name": "stdout",
     "output_type": "stream",
     "text": [
      "4\n"
     ]
    }
   ],
   "source": [
    "# Python Program to count all pairs with difference equal to k\n",
    "# using Hash Map\n",
    "\n",
    "def countPairs(arr, k):\n",
    "    n = len(arr)  \n",
    "    freq = {}\n",
    "    cnt = 0\n",
    "\n",
    "    for i in range(n):\n",
    "      \n",
    "        # Check if the complement (arr[i] + k)\n",
    "        # exists in the map. If yes, increment count\n",
    "        if (arr[i] + k) in freq: \n",
    "            cnt += freq[arr[i] + k] \n",
    "      \n",
    "        # Check if the complement (arr[i] - k)\n",
    "        # exists in the map. If yes, increment count\n",
    "        if (arr[i] - k) in freq: \n",
    "            cnt += freq[arr[i] - k] \n",
    "      \n",
    "        # Increment the frequency of arr[i]\n",
    "        freq[arr[i]] = freq.get(arr[i], 0) + 1 \n",
    "    return cnt\n",
    "\n",
    "if __name__ == \"__main__\":\n",
    "    arr = [1, 4, 1, 4, 5]\n",
    "    k = 3\n",
    "\n",
    "    print(countPairs(arr, k))\n"
   ]
  },
  {
   "cell_type": "code",
   "execution_count": 102,
   "metadata": {},
   "outputs": [],
   "source": [
    "def countPairs(arr, k):\n",
    "    count=0\n",
    "    hash={}\n",
    "    for i in range(len(arr)):\n",
    "        \n",
    "        if (arr[i]+k) in hash:\n",
    "            count+=hash[arr[i]+k]\n",
    "            \n",
    "        if (arr[i]-k) in hash:\n",
    "            count+=hash[arr[i]-k]\n",
    "            \n",
    "        hash[arr[i]]=hash.get(arr[i],0)+1\n",
    "    return count"
   ]
  },
  {
   "cell_type": "code",
   "execution_count": 103,
   "metadata": {},
   "outputs": [
    {
     "name": "stdout",
     "output_type": "stream",
     "text": [
      "4\n"
     ]
    }
   ],
   "source": [
    "if __name__ == \"__main__\":\n",
    "    arr = [1, 4, 1, 4, 5]\n",
    "    k = 3\n",
    "\n",
    "    print(countPairs(arr, k))"
   ]
  },
  {
   "cell_type": "markdown",
   "metadata": {},
   "source": [
    "Remove minimum elements such that no common elements exist in two arrays"
   ]
  },
  {
   "cell_type": "code",
   "execution_count": 105,
   "metadata": {},
   "outputs": [
    {
     "name": "stdout",
     "output_type": "stream",
     "text": [
      "3\n"
     ]
    }
   ],
   "source": [
    "# Python3 program to find minimum element to remove so no common \n",
    "# element exist in both array\n",
    "\n",
    "from collections import Counter\n",
    "\n",
    "def minRemove(arr1, arr2):\n",
    "    countA = Counter(arr1)\n",
    "    countB = Counter(arr2)\n",
    "    res = 0\n",
    "\n",
    "    # Traverse through all common elements, and pick minimum\n",
    "    # occurrence from two arrays\n",
    "    for key in countA:\n",
    "        if key in countB:\n",
    "            res += min(countA[key], countB[key])\n",
    "\n",
    "    return res\n",
    "\n",
    "arr1 = [1, 2, 3, 4]\n",
    "arr2 = [2, 3, 4, 5, 8]\n",
    "\n",
    "print(minRemove(arr1, arr2))\n",
    "\n"
   ]
  },
  {
   "cell_type": "code",
   "execution_count": 106,
   "metadata": {},
   "outputs": [
    {
     "name": "stdout",
     "output_type": "stream",
     "text": [
      "3\n"
     ]
    }
   ],
   "source": [
    "# Python3 program to find minimum elements to remove \n",
    "# so no common element exists in both arrays using a single map\n",
    "\n",
    "from collections import Counter\n",
    "\n",
    "def minRemove(arr1, arr2):\n",
    "    count = Counter(arr1)\n",
    "    res = 0\n",
    "    \n",
    "    # Count elements of arr2 and check common elements\n",
    "    for num in arr2:\n",
    "        if count[num] > 0:\n",
    "            count[num] -= 1\n",
    "            res += 1\n",
    "    \n",
    "    return res\n",
    "\n",
    "arr1 = [1, 2, 3, 4]\n",
    "arr2 = [2, 3, 4, 5, 8]\n",
    "\n",
    "print(minRemove(arr1, arr2))\n"
   ]
  },
  {
   "cell_type": "markdown",
   "metadata": {},
   "source": [
    "# maximum sum of any contiguous subarray of length k"
   ]
  },
  {
   "cell_type": "code",
   "execution_count": null,
   "metadata": {},
   "outputs": [],
   "source": [
    "def sliding_window_sum(arr, k):\n",
    "    \"\"\"\n",
    "    Finds the maximum sum of any contiguous subarray of length k\n",
    "    using a 'while' loop, mirroring the approach shown in the notes.\n",
    "    \"\"\"\n",
    "    l=0\n",
    "    r=k-1\n",
    "    n=len(arr)\n",
    "    sum=0\n",
    "    max_sum=float('-inf')\n",
    "    for i in range(0,n,1):\n",
    "        sum=\n",
    "    while (r<n-1):\n",
    "        \n",
    "        sum=sum-arr[l]\n",
    "        l=l+1\n",
    "        r=r+1\n",
    "        sum=sum+arr[r]\n",
    "        max_sum=max(max_sum,sum)\n",
    "    return max_sum"
   ]
  },
  {
   "cell_type": "code",
   "execution_count": null,
   "metadata": {},
   "outputs": [],
   "source": [
    "if __name__ == \"__main__\":\n",
    "    arr_example = [1, 4, 2, 10, 23, 3, 1, 0, 20]\n",
    "    k = 4\n",
    "    result = sliding_window_sum(arr_example, k)\n",
    "    print(f\"The maximum sum of any {k}-element subarray is: {result}\")"
   ]
  },
  {
   "cell_type": "code",
   "execution_count": 1,
   "metadata": {},
   "outputs": [
    {
     "name": "stdout",
     "output_type": "stream",
     "text": [
      "The maximum sum of any 4-element subarray is: 39\n"
     ]
    }
   ],
   "source": [
    "def sliding_window_sum(arr, k):\n",
    "    \"\"\"\n",
    "    Finds the maximum sum of any contiguous subarray of length k\n",
    "    using a 'while' loop, mirroring the approach shown in the notes.\n",
    "    \"\"\"\n",
    "    n = len(arr)\n",
    "    \n",
    "    # Handle edge cases\n",
    "    if k <= 0 or k > n:\n",
    "        return None\n",
    "    \n",
    "    # 1) Sum the first k elements\n",
    "    current_sum = 0\n",
    "    for i in range(k):\n",
    "        current_sum += arr[i]\n",
    "        \n",
    "    max_sum = current_sum\n",
    "\n",
    "    # 2) Initialize the window pointers\n",
    "    l = 0\n",
    "    r = k - 1\n",
    "\n",
    "    # 3) Slide the window until r reaches the end of the array\n",
    "    while r < n - 1:\n",
    "        # Remove the leftmost element, move the window right, add the new rightmost element\n",
    "        current_sum -= arr[l]\n",
    "        l += 1\n",
    "        r += 1\n",
    "        current_sum += arr[r]\n",
    "        \n",
    "        # Update the maximum sum\n",
    "        if current_sum > max_sum:\n",
    "            max_sum = current_sum\n",
    "\n",
    "    return max_sum\n",
    "\n",
    "# Example usage:\n",
    "if __name__ == \"__main__\":\n",
    "    arr_example = [1, 4, 2, 10, 23, 3, 1, 0, 20]\n",
    "    k = 4\n",
    "    result = sliding_window_sum(arr_example, k)\n",
    "    print(f\"The maximum sum of any {k}-element subarray is: {result}\")\n"
   ]
  },
  {
   "cell_type": "code",
   "execution_count": 9,
   "metadata": {},
   "outputs": [
    {
     "name": "stdout",
     "output_type": "stream",
     "text": [
      "The maximum sum of any 4-element subarray is: 39\n"
     ]
    }
   ],
   "source": [
    "def sliding_window_sum(arr, k):\n",
    "    \"\"\"\n",
    "    Finds the maximum sum of any contiguous subarray of length k\n",
    "    using a 'while' loop, mirroring the approach shown in the notes.\n",
    "    \"\"\"\n",
    "    n = len(arr)\n",
    "    \n",
    "    # Handle edge cases\n",
    "    if k <= 0 or k > n:\n",
    "        return None\n",
    "    \n",
    "    # 1) Sum the first k elements\n",
    "    current_sum = 0\n",
    "    max_sum=float('-inf')\n",
    "    for i in range(n-k+1):\n",
    "        current_sum=0\n",
    "        for j in range(i,i+k,1):\n",
    "            current_sum+=arr[j]\n",
    "        max_sum=max(current_sum,max_sum)\n",
    "   \n",
    "    return max_sum\n",
    "\n",
    "# Example usage:\n",
    "if __name__ == \"__main__\":\n",
    "    arr_example = [1, 4, 2, 10, 23, 3, 1, 0, 20]\n",
    "    k = 4\n",
    "    result = sliding_window_sum(arr_example, k)\n",
    "    print(f\"The maximum sum of any {k}-element subarray is: {result}\")"
   ]
  },
  {
   "cell_type": "code",
   "execution_count": 50,
   "metadata": {},
   "outputs": [
    {
     "name": "stdout",
     "output_type": "stream",
     "text": [
      "[2, 5, 1]\n",
      "The maximum sum 14-No of array possible elements : 3\n"
     ]
    }
   ],
   "source": [
    "def longest_sub_array(arr, k):\n",
    "    l=len(arr)\n",
    "    current_sum=0\n",
    "    maxlen=0\n",
    "    list=[]\n",
    "    best_subarray = []\n",
    "    for i in range(0,l-1,1):\n",
    "        current_subarray = []\n",
    "        current_sum=0\n",
    "        for j in range(i,l,1):\n",
    "            current_subarray.append(arr[j])\n",
    "            current_sum+=arr[j]\n",
    "            if current_sum>k:\n",
    "                break\n",
    "            # if current_sum<=k:\n",
    "            #     maxlen=max(maxlen,j-i+1)\n",
    "            #     best_subarray = current_subarray.copy()\n",
    "            length = j - i + 1\n",
    "            if length > maxlen:\n",
    "                maxlen = length\n",
    "            \n",
    "                best_subarray = current_subarray.copy()\n",
    "    print(best_subarray)\n",
    "    return maxlen\n",
    "                \n",
    "            \n",
    "    \n",
    "    \n",
    "if __name__ == \"__main__\":\n",
    "    arr_example = [2,5,1,7,10]\n",
    "    k = 14\n",
    "    result = longest_sub_array(arr_example, k)\n",
    "    print(f\"The maximum sum {k}-No of array possible elements : {result}\")"
   ]
  },
  {
   "cell_type": "code",
   "execution_count": 42,
   "metadata": {},
   "outputs": [
    {
     "name": "stdout",
     "output_type": "stream",
     "text": [
      "Longest subarray with sum <= 14: [2, 5, 1]\n",
      "The maximum length of a subarray with sum <= 14 is: 3\n"
     ]
    }
   ],
   "source": [
    "def longest_sub_array(arr, k):\n",
    "    \"\"\"\n",
    "    Returns the length of the longest subarray with sum <= k.\n",
    "    Also prints the subarray that achieves this maximum length.\n",
    "    \n",
    "    This is a brute-force approach (O(n^2)) that checks\n",
    "    every possible subarray.\n",
    "    \"\"\"\n",
    "    n = len(arr)\n",
    "    best_len = 0\n",
    "    best_subarray = []\n",
    "\n",
    "    # Outer loop: choose each possible start index\n",
    "    for i in range(n):\n",
    "        current_sum = 0\n",
    "        current_subarray = []\n",
    "        \n",
    "        # Inner loop: expand the subarray from i to j\n",
    "        for j in range(i, n):\n",
    "            current_sum += arr[j]\n",
    "            current_subarray.append(arr[j])\n",
    "            \n",
    "            # If we exceed k, we stop expanding this subarray\n",
    "            # (valid if arr has only non-negative values)\n",
    "            if current_sum > k:\n",
    "                break\n",
    "            \n",
    "            # Calculate the length of the current subarray\n",
    "            length = j - i + 1\n",
    "            if length > best_len:\n",
    "                best_len = length\n",
    "                best_subarray = current_subarray.copy()\n",
    "\n",
    "    print(f\"Longest subarray with sum <= {k}: {best_subarray}\")\n",
    "    return best_len\n",
    "\n",
    "\n",
    "if __name__ == \"__main__\":\n",
    "    arr_example = [2, 5, 1, 7, 10]\n",
    "    k = 14\n",
    "    result = longest_sub_array(arr_example, k)\n",
    "    print(f\"The maximum length of a subarray with sum <= {k} is: {result}\")\n"
   ]
  },
  {
   "cell_type": "markdown",
   "metadata": {},
   "source": [
    "sliding window 2 pointer"
   ]
  },
  {
   "cell_type": "code",
   "execution_count": null,
   "metadata": {},
   "outputs": [],
   "source": [
    "def longest_sub_array(arr, k):\n",
    "    \"\"\"\n",
    "    Returns the length of the longest subarray with sum <= k.\n",
    "    Also prints the subarray that achieves this maximum length.\n",
    "    \n",
    "    This is a brute-force approach (O(n^2)) that checks\n",
    "    every possible subarray.\n",
    "    \"\"\"\n",
    "    n = len(arr)\n",
    "    best_len = 0\n",
    "    sub_aray=[]\n",
    "    \n",
    "    sum=0\n",
    "    index1=0\n",
    "    index2=0\n",
    "\n",
    "    l=0\n",
    "    r=0\n",
    "    while (r<n):\n",
    "        sum=sum+arr[r]\n",
    "        \n",
    "        while(sum>k):\n",
    "            sum=sum-arr[l]\n",
    "            l=l+1\n",
    "        \n",
    "        if sum<=k:\n",
    "            best_len=max(best_len,r-l+1)\n",
    "            index1=l\n",
    "            index2=r\n",
    "            \n",
    "        r=r+1\n",
    "        \n",
    "    for i in range(index1,index2+1,1):\n",
    "        print(arr[i],end=\"\\t\")\n",
    "\n",
    "   \n",
    "    return best_len"
   ]
  },
  {
   "cell_type": "code",
   "execution_count": null,
   "metadata": {},
   "outputs": [
    {
     "name": "stdout",
     "output_type": "stream",
     "text": [
      "Longest subarray with sum <= 14:\n",
      "2\t5\t1\t\n",
      "The maximum length of a subarray with sum <= 14 is: 3\n"
     ]
    }
   ],
   "source": [
    "def longest_sub_array(arr, k):\n",
    "    \"\"\"\n",
    "    Returns the length of the longest subarray with sum <= k\n",
    "    using a sliding window (two-pointer) approach.\n",
    "    Also prints the subarray that achieves this maximum length.\n",
    "    \"\"\"\n",
    "    n = len(arr)\n",
    "    best_len = 0\n",
    "    current_sum = 0  # renamed from 'sum' to avoid overshadowing built-in sum()\n",
    "    index1 = 0\n",
    "    index2 = 0\n",
    "\n",
    "    l = 0\n",
    "    r = 0\n",
    "    while r < n:\n",
    "        # Expand the window to the right\n",
    "        current_sum += arr[r]\n",
    "\n",
    "        # Shrink from the left while sum exceeds k\n",
    "        while current_sum > k and l <= r:\n",
    "            current_sum -= arr[l]\n",
    "            l += 1\n",
    "\n",
    "        # Now current_sum <= k, check if this window is the longest so far\n",
    "        window_length = r - l + 1\n",
    "        if current_sum <= k and window_length > best_len:\n",
    "            best_len = window_length\n",
    "            index1 = l\n",
    "            index2 = r\n",
    "\n",
    "        r += 1\n",
    "\n",
    "    # Print the longest subarray found\n",
    "    print(\"Longest subarray with sum <= {}:\".format(k))\n",
    "    for i in range(index1, index2 + 1):\n",
    "        print(arr[i], end=\"\\t\")\n",
    "    print()  # move to a new line\n",
    "\n",
    "    return best_len\n",
    "\n",
    "\n",
    "\n",
    "if __name__ == \"__main__\":\n",
    "    arr_example = [2, 5, 1, 7, 10]\n",
    "    k = 14\n",
    "    result = longest_sub_array(arr_example, k)\n",
    "    print(f\"The maximum length of a subarray with sum <= {k} is: {result}\")\n"
   ]
  },
  {
   "cell_type": "markdown",
   "metadata": {},
   "source": [
    "# [1] Maximum points you can obtain from the cards"
   ]
  },
  {
   "cell_type": "markdown",
   "metadata": {},
   "source": [
    "my approach "
   ]
  },
  {
   "cell_type": "code",
   "execution_count": 75,
   "metadata": {},
   "outputs": [
    {
     "name": "stdout",
     "output_type": "stream",
     "text": [
      "The maximum points that can be obtained from the cards <= 4 : 16\n"
     ]
    }
   ],
   "source": [
    "def max_point_card(arr,k):\n",
    "    length=len(arr)\n",
    "    left_sum=0\n",
    "    right_sum=0\n",
    "    left_index=0\n",
    "    c_sum=0\n",
    "    right_index=length-1\n",
    "    \n",
    "    for index in range(0,k,1):\n",
    "        left_sum=left_sum+arr[index]\n",
    "    left_index=k-1\n",
    "    c_sum=left_sum\n",
    "    max_sum=left_sum\n",
    "    for j in range(k-1,-1,-1):\n",
    "        left_sum=c_sum-arr[j]\n",
    "        c_sum=left_sum\n",
    "        left_index=left_index-1\n",
    "        right_sum=c_sum+arr[right_index]\n",
    "        c_sum=right_sum\n",
    "        right_index=right_index-1\n",
    "        max_sum=max(c_sum,max_sum)\n",
    "        \n",
    "    return max_sum\n",
    "        \n",
    "\n",
    "if __name__ == \"__main__\":\n",
    "    arr_example = [6,2,3,4,7,2,1,7,1]\n",
    "    k = 4\n",
    "    result = max_point_card(arr_example, k)\n",
    "    print(f\"The maximum points that can be obtained from the cards <= {k} : {result}\")"
   ]
  },
  {
   "cell_type": "markdown",
   "metadata": {},
   "source": [
    "# [2] longest substring without repeating character"
   ]
  },
  {
   "cell_type": "markdown",
   "metadata": {},
   "source": [
    "broute force approach-1"
   ]
  },
  {
   "cell_type": "code",
   "execution_count": 77,
   "metadata": {},
   "outputs": [
    {
     "name": "stdout",
     "output_type": "stream",
     "text": [
      " 5\n"
     ]
    }
   ],
   "source": [
    "def longest_substring(s):\n",
    "    max_len=0\n",
    "    for i in range(len(s)):\n",
    "        substring=\"\"\n",
    "        for j in range(len(s)):\n",
    "            if s[j] in substring:\n",
    "                break\n",
    "            else:\n",
    "                substring+=s[j]\n",
    "                max_len=max(max_len,len(substring))\n",
    "    return max_len\n",
    "\n",
    "\n",
    "if __name__ == \"__main__\":\n",
    "    arr_example = \"cadbzabcd\"\n",
    "    \n",
    "    result = longest_substring(arr_example)\n",
    "    print(f\" {result}\")"
   ]
  },
  {
   "cell_type": "markdown",
   "metadata": {},
   "source": [
    "broute force approach-2 using hash map"
   ]
  },
  {
   "cell_type": "code",
   "execution_count": 78,
   "metadata": {},
   "outputs": [
    {
     "name": "stdout",
     "output_type": "stream",
     "text": [
      " 5\n"
     ]
    }
   ],
   "source": [
    "def longest_substring(s):\n",
    "    max_len=0\n",
    "    for i in range(len(s)):\n",
    "        dict={}\n",
    "        for j in range(len(s)):\n",
    "            if s[j] in dict:\n",
    "                break\n",
    "            else:\n",
    "                length=j-i+1\n",
    "                max_len=max(max_len,length)\n",
    "                dict[s[j]]=1\n",
    "                \n",
    "                \n",
    "    return max_len\n",
    "\n",
    "\n",
    "if __name__ == \"__main__\":\n",
    "    arr_example = \"cadbzabcd\"\n",
    "    \n",
    "    result = longest_substring(arr_example)\n",
    "    print(f\" {result}\")"
   ]
  },
  {
   "cell_type": "code",
   "execution_count": 79,
   "metadata": {},
   "outputs": [
    {
     "name": "stdout",
     "output_type": "stream",
     "text": [
      "The length of the longest substring without repeating characters is 5\n"
     ]
    }
   ],
   "source": [
    "def solve(str: str) -> int:\n",
    "    if len(str) == 0:\n",
    "        return 0\n",
    "    maxans = -1\n",
    "    for i in range(len(str)):  # outer loop for traversing the string\n",
    "        set = {}\n",
    "        # nested loop for getting different string starting with str[i]\n",
    "        for j in range(i, len(str)):\n",
    "            if str[j] in set:  # if element if found so mark it as ans and break from the loop\n",
    "                maxans = max(maxans, j - i)\n",
    "                break\n",
    "            set[str[j]] = 1\n",
    "    return maxans\n",
    "\n",
    "\n",
    "if __name__ == \"__main__\":\n",
    "    str = \"cadbzabcd\"\n",
    "    print(\"The length of the longest substring without repeating characters is\", solve(str))"
   ]
  },
  {
   "cell_type": "markdown",
   "metadata": {},
   "source": [
    "better approach"
   ]
  },
  {
   "cell_type": "code",
   "execution_count": 88,
   "metadata": {},
   "outputs": [
    {
     "name": "stdout",
     "output_type": "stream",
     "text": [
      " 5\n"
     ]
    }
   ],
   "source": [
    "def longest_substring(s):\n",
    "    maxlen=0\n",
    "    hash={}\n",
    "    left_p=0\n",
    "    right_p=0\n",
    "    n=len(s)\n",
    "    while (right_p<n):\n",
    "        if s[right_p]  in hash:\n",
    "            if hash[s[right_p]]>=left_p:\n",
    "                left_p=hash[s[right_p]]+1\n",
    "        length=right_p-left_p+1\n",
    "        maxlen=max(maxlen,length)\n",
    "        hash[s[right_p]]=right_p\n",
    "        right_p=right_p+1\n",
    "            \n",
    "\n",
    "                \n",
    "                \n",
    "    return maxlen\n",
    "\n",
    "\n",
    "if __name__ == \"__main__\":\n",
    "    arr_example = \"cadbzabcd\"\n",
    "    \n",
    "    result = longest_substring(arr_example)\n",
    "    print(f\" {result}\")"
   ]
  },
  {
   "cell_type": "code",
   "execution_count": null,
   "metadata": {},
   "outputs": [],
   "source": [
    "def longest_substring(s):\n",
    "    maxlen = 0\n",
    "    hash = {}\n",
    "    left_p = 0\n",
    "    right_p = 0\n",
    "    n = len(s)\n",
    "    while right_p < n:\n",
    "        if s[right_p] in hash:\n",
    "            if hash[s[right_p]] >= left_p:\n",
    "                left_p = hash[s[right_p]] + 1\n",
    "        length = right_p - left_p + 1\n",
    "        maxlen = max(maxlen, length)\n",
    "        hash[s[right_p]] = right_p\n",
    "        right_p += 1\n",
    "    return maxlen\n",
    "\n",
    "\n",
    "if __name__ == \"__main__\":\n",
    "    arr_example = \"cadbzabcd\"\n",
    "    result = longest_substring(arr_example)\n",
    "    print(f\"{result}\")\n"
   ]
  },
  {
   "cell_type": "markdown",
   "metadata": {},
   "source": [
    "# [3]max consecutive ones -3"
   ]
  },
  {
   "cell_type": "markdown",
   "metadata": {},
   "source": [
    "brute force approach"
   ]
  },
  {
   "cell_type": "code",
   "execution_count": 91,
   "metadata": {},
   "outputs": [
    {
     "name": "stdout",
     "output_type": "stream",
     "text": [
      "6\n"
     ]
    }
   ],
   "source": [
    "def max_consecutive_ones(arr,k):\n",
    "    length=len(arr)\n",
    "    zeros=0\n",
    "    max_len=0\n",
    "    for i in range(0,length,1):\n",
    "        zeros=0\n",
    "        for j in range(i,length,1):\n",
    "            if arr[j]==0:\n",
    "                zeros+=1\n",
    "            elif zeros<=k:\n",
    "                lent=j-i+1\n",
    "                max_len=max(max_len,lent)\n",
    "            else:\n",
    "                break\n",
    "    return max_len\n",
    "\n",
    "if __name__ == \"__main__\":\n",
    "    arr_example = [1,1,1,0,0,0,1,1,1,1,0]\n",
    "    k=2\n",
    "    result = max_consecutive_ones(arr_example,k)\n",
    "    print(result)"
   ]
  }
 ],
 "metadata": {
  "kernelspec": {
   "display_name": "Python 3",
   "language": "python",
   "name": "python3"
  },
  "language_info": {
   "codemirror_mode": {
    "name": "ipython",
    "version": 3
   },
   "file_extension": ".py",
   "mimetype": "text/x-python",
   "name": "python",
   "nbconvert_exporter": "python",
   "pygments_lexer": "ipython3",
   "version": "3.13.1"
  }
 },
 "nbformat": 4,
 "nbformat_minor": 2
}
