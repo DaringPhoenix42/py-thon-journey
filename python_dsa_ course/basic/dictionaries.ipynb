{
 "cells": [
  {
   "cell_type": "code",
   "execution_count": 1,
   "metadata": {},
   "outputs": [
    {
     "name": "stdout",
     "output_type": "stream",
     "text": [
      "{'name': 'Krish', 'age': 32, 'grade': 24}\n"
     ]
    }
   ],
   "source": [
    "students={\"name\":\"Krish\",\"age\":32,\"grade\":24}\n",
    "print(students)"
   ]
  },
  {
   "cell_type": "code",
   "execution_count": 3,
   "metadata": {},
   "outputs": [
    {
     "name": "stdout",
     "output_type": "stream",
     "text": [
      "{'name': 24, 'age': 32}\n"
     ]
    }
   ],
   "source": [
    "students1={\"name\":\"Krish\",\"age\":32,\"name\":24}\n",
    "print(students1)\n",
    "#keys should be unique"
   ]
  },
  {
   "cell_type": "code",
   "execution_count": 4,
   "metadata": {},
   "outputs": [
    {
     "name": "stdout",
     "output_type": "stream",
     "text": [
      "{'name': 'Krish', 'age': 32, 'grade': 'A'}\n"
     ]
    }
   ],
   "source": [
    "students={\"name\":\"Krish\",\"age\":32,\"grade\":\"A\"}\n",
    "print(students)"
   ]
  },
  {
   "cell_type": "code",
   "execution_count": 6,
   "metadata": {},
   "outputs": [
    {
     "name": "stdout",
     "output_type": "stream",
     "text": [
      "Krish\n",
      "32\n",
      "A\n",
      "Krish\n",
      "32\n",
      "not available\n"
     ]
    }
   ],
   "source": [
    "#Accessing Dictionary elements\n",
    "print(students['name'])\n",
    "print(students[\"age\"])\n",
    "print(students[\"grade\"])\n",
    "##Accessing using get()method\n",
    "print(students.get(\"name\"))\n",
    "print(students.get(\"age\"))\n",
    "print(students.get(\"last_name\",\"not available\"))\n"
   ]
  },
  {
   "cell_type": "markdown",
   "metadata": {},
   "source": [
    "#Modifying dictionary elements  they are mutable"
   ]
  },
  {
   "cell_type": "code",
   "execution_count": 7,
   "metadata": {},
   "outputs": [
    {
     "name": "stdout",
     "output_type": "stream",
     "text": [
      "{'name': 'Krish', 'age': 30, 'grade': 'A'}\n",
      "{'name': 'Krish', 'age': 30, 'grade': 'A', 'address': 'India'}\n"
     ]
    }
   ],
   "source": [
    "students[\"age\"]=30 #update \n",
    "print(students)\n",
    "students[\"address\"]=\"India\" # add value\n",
    "print(students)\n"
   ]
  },
  {
   "cell_type": "code",
   "execution_count": 8,
   "metadata": {},
   "outputs": [
    {
     "name": "stdout",
     "output_type": "stream",
     "text": [
      "{'name': 'Krish', 'grade': 'A', 'address': 'India'}\n"
     ]
    }
   ],
   "source": [
    "del students[\"age\"]\n",
    "print(students)"
   ]
  },
  {
   "cell_type": "markdown",
   "metadata": {},
   "source": [
    "Dictionary methods"
   ]
  },
  {
   "cell_type": "code",
   "execution_count": 9,
   "metadata": {},
   "outputs": [
    {
     "name": "stdout",
     "output_type": "stream",
     "text": [
      "dict_values(['Krish', 'A', 'India'])\n",
      "dict_keys(['name', 'grade', 'address'])\n",
      "dict_items([('name', 'Krish'), ('grade', 'A'), ('address', 'India')])\n"
     ]
    }
   ],
   "source": [
    "values=students.values()\n",
    "print(values)\n",
    "keys=students.keys()\n",
    "print(keys)\n",
    "items=students.items()\n",
    "print(items)"
   ]
  },
  {
   "cell_type": "code",
   "execution_count": 10,
   "metadata": {},
   "outputs": [
    {
     "name": "stdout",
     "output_type": "stream",
     "text": [
      "{'name': 'Krish', 'grade': 'A', 'address': 'India'}\n",
      "{'name': 'Krish', 'grade': 'A', 'address': 'India'}\n"
     ]
    }
   ],
   "source": [
    "#shallow copy \n",
    "students_copy=students\n",
    "print(students)\n",
    "print(students_copy)"
   ]
  },
  {
   "cell_type": "code",
   "execution_count": 11,
   "metadata": {},
   "outputs": [
    {
     "name": "stdout",
     "output_type": "stream",
     "text": [
      "{'name': 'Dhruv', 'grade': 'A', 'address': 'India'}\n",
      "{'name': 'Dhruv', 'grade': 'A', 'address': 'India'}\n"
     ]
    }
   ],
   "source": [
    "students[\"name\"]=\"Dhruv\"\n",
    "print(students)\n",
    "print(students_copy)\n"
   ]
  },
  {
   "cell_type": "code",
   "execution_count": 12,
   "metadata": {},
   "outputs": [
    {
     "name": "stdout",
     "output_type": "stream",
     "text": [
      "{'name': 'Dhruv', 'grade': 'A', 'address': 'India'}\n",
      "{'name': 'Dhruv', 'grade': 'A', 'address': 'India', 'age': 20}\n"
     ]
    }
   ],
   "source": [
    "#shallow copy \n",
    "students_copy=students.copy()\n",
    "print(students)\n",
    "students_copy[\"age\"]=20\n",
    "print(students_copy)\n"
   ]
  },
  {
   "cell_type": "markdown",
   "metadata": {},
   "source": [
    "iteration  in   dictionarys"
   ]
  },
  {
   "cell_type": "code",
   "execution_count": 13,
   "metadata": {},
   "outputs": [
    {
     "name": "stdout",
     "output_type": "stream",
     "text": [
      "name\n",
      "grade\n",
      "address\n"
     ]
    }
   ],
   "source": [
    "#Iterating over the keys\n",
    "for keys in students.keys():\n",
    "    print(keys,end=\"\\n\")"
   ]
  },
  {
   "cell_type": "code",
   "execution_count": 14,
   "metadata": {},
   "outputs": [
    {
     "name": "stdout",
     "output_type": "stream",
     "text": [
      "Dhruv\n",
      "A\n",
      "India\n"
     ]
    }
   ],
   "source": [
    "#Iterating over the values\n",
    "for values in students.values():\n",
    "    print(values,end=\"\\n\")"
   ]
  },
  {
   "cell_type": "code",
   "execution_count": 16,
   "metadata": {},
   "outputs": [
    {
     "name": "stdout",
     "output_type": "stream",
     "text": [
      "name Dhruv\n",
      "grade A\n",
      "address India\n"
     ]
    }
   ],
   "source": [
    "#iterating key value pairs \n",
    "for key,value in  students.items():\n",
    "    print(key,value,end=\"\\n\")"
   ]
  },
  {
   "cell_type": "markdown",
   "metadata": {},
   "source": [
    "Nested dictionarys "
   ]
  },
  {
   "cell_type": "code",
   "execution_count": 17,
   "metadata": {},
   "outputs": [
    {
     "name": "stdout",
     "output_type": "stream",
     "text": [
      "{'student1': {'name': 'Dhruv', 'grade': 'A', 'address': 'India'}, 'student2': {'name': 'Divyansh', 'grade': 'B', 'address': 'India'}}\n"
     ]
    }
   ],
   "source": [
    "students={\n",
    "    \"student1\":{'name': 'Dhruv', 'grade': 'A', 'address': 'India'},\n",
    "    \"student2\":{'name': 'Divyansh', 'grade': 'B', 'address': 'India'}\n",
    "}\n",
    "print(students)"
   ]
  },
  {
   "cell_type": "code",
   "execution_count": 18,
   "metadata": {},
   "outputs": [
    {
     "name": "stdout",
     "output_type": "stream",
     "text": [
      "Dhruv\n",
      "Divyansh\n"
     ]
    }
   ],
   "source": [
    "#Accessing \n",
    "print(students[\"student1\"][\"name\"])\n",
    "print(students[\"student2\"][\"name\"])"
   ]
  },
  {
   "cell_type": "code",
   "execution_count": 19,
   "metadata": {},
   "outputs": [
    {
     "name": "stdout",
     "output_type": "stream",
     "text": [
      "student1: {'name': 'Dhruv', 'grade': 'A', 'address': 'India'}\n",
      "name: Dhruv\n",
      "grade: A\n",
      "address: India\n",
      "student2: {'name': 'Divyansh', 'grade': 'B', 'address': 'India'}\n",
      "name: Divyansh\n",
      "grade: B\n",
      "address: India\n"
     ]
    }
   ],
   "source": [
    "for students_id,students_info in students.items():\n",
    "    print(f\"{students_id}: {students_info}\")\n",
    "    for key,value in students_info.items():\n",
    "        print(f\"{key}: {value}\")"
   ]
  },
  {
   "cell_type": "code",
   "execution_count": 20,
   "metadata": {},
   "outputs": [
    {
     "name": "stdout",
     "output_type": "stream",
     "text": [
      "{0: 0, 1: 1, 2: 4, 3: 9, 4: 16}\n"
     ]
    }
   ],
   "source": [
    "#Dictionary comprehension\n",
    "squares={x:x**2 for x in range(5)}\n",
    "print(squares)\n"
   ]
  },
  {
   "cell_type": "code",
   "execution_count": 21,
   "metadata": {},
   "outputs": [
    {
     "name": "stdout",
     "output_type": "stream",
     "text": [
      "{0: 0, 2: 4, 4: 16, 6: 36, 8: 64}\n"
     ]
    }
   ],
   "source": [
    "#conditional\n",
    "evens={x:x**2 for x in range(10) if x%2==0}\n",
    "print(evens)"
   ]
  },
  {
   "cell_type": "markdown",
   "metadata": {},
   "source": [
    "#my approach "
   ]
  },
  {
   "cell_type": "code",
   "execution_count": 31,
   "metadata": {},
   "outputs": [
    {
     "name": "stdout",
     "output_type": "stream",
     "text": [
      "{1: 2, 2: 2, 3: 3, 4: 6}\n"
     ]
    }
   ],
   "source": [
    "#practical example \n",
    "#use a dictionary tpo count frequency of elements in list\n",
    "numbers=[1,1,2,2,3,3,3,4,4,4,4,4,4]\n",
    "\n",
    "li=[]\n",
    "no_count=dict()\n",
    "\n",
    "for j in range(len(numbers)):\n",
    "        count=0\n",
    "        for k in range(len(numbers)):\n",
    "            if numbers[j]==numbers[k]:\n",
    "                count=count+1\n",
    "        no_count[numbers[j]]=count\n",
    "print(no_count)\n",
    "        \n"
   ]
  },
  {
   "cell_type": "markdown",
   "metadata": {},
   "source": [
    "better approach"
   ]
  },
  {
   "cell_type": "code",
   "execution_count": 34,
   "metadata": {},
   "outputs": [
    {
     "name": "stdout",
     "output_type": "stream",
     "text": [
      "{1: 2, 2: 2, 3: 3, 4: 6}\n"
     ]
    }
   ],
   "source": [
    "#practical example \n",
    "#use a dictionary tpo count frequency of elements in list\n",
    "numbers1 = [1, 1, 2, 2, 3, 3, 3, 4, 4, 4, 4, 4, 4]\n",
    "frequency = {}\n",
    "\n",
    "for number in numbers1:\n",
    "    if number in frequency:\n",
    "        frequency[number] += 1\n",
    "    else:\n",
    "        frequency[number] = 1  \n",
    "\n",
    "print(frequency)\n",
    "\n",
    "\n",
    "        "
   ]
  },
  {
   "cell_type": "code",
   "execution_count": 35,
   "metadata": {},
   "outputs": [
    {
     "name": "stdout",
     "output_type": "stream",
     "text": [
      "{1: 2, 2: 2, 3: 3, 4: 6}\n"
     ]
    }
   ],
   "source": [
    "#practical example \n",
    "#use a dictionary tpo count frequency of elements in list\n",
    "numbers=[1,1,2,2,3,3,3,4,4,4,4,4,4]\n",
    "\n",
    "li=[]\n",
    "no_count=dict()\n",
    "\n",
    "for j in numbers:\n",
    "        count=0\n",
    "        for k in numbers:\n",
    "            if j==k:\n",
    "                count=count+1\n",
    "        no_count[j]=count\n",
    "print(no_count)"
   ]
  },
  {
   "cell_type": "code",
   "execution_count": 36,
   "metadata": {},
   "outputs": [
    {
     "name": "stdout",
     "output_type": "stream",
     "text": [
      "{'a': 1, 'b': 2, 'c': 1, 'd': 2}\n"
     ]
    }
   ],
   "source": [
    "#merge 2 dict\n",
    "dic1={\"a\":1,\"b\":2}\n",
    "dic2={\"c\":1,\"d\":2}\n",
    "merg={**dic1,**dic2}\n",
    "print(merg)"
   ]
  },
  {
   "cell_type": "code",
   "execution_count": null,
   "metadata": {},
   "outputs": [],
   "source": []
  }
 ],
 "metadata": {
  "kernelspec": {
   "display_name": "Python 3",
   "language": "python",
   "name": "python3"
  },
  "language_info": {
   "codemirror_mode": {
    "name": "ipython",
    "version": 3
   },
   "file_extension": ".py",
   "mimetype": "text/x-python",
   "name": "python",
   "nbconvert_exporter": "python",
   "pygments_lexer": "ipython3",
   "version": "3.13.1"
  }
 },
 "nbformat": 4,
 "nbformat_minor": 2
}
