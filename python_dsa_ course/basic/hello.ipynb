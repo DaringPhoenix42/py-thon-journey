{
 "cells": [
  {
   "cell_type": "markdown",
   "metadata": {},
   "source": [
    "Matrix "
   ]
  },
  {
   "cell_type": "code",
   "execution_count": 2,
   "metadata": {},
   "outputs": [
    {
     "name": "stdout",
     "output_type": "stream",
     "text": [
      "\n",
      "\n",
      "\n",
      "[1, 2, 3, 4, 5, 6, 7, 8, 9]\n"
     ]
    }
   ],
   "source": [
    "x,y=map(int,input().split())\n",
    "\n",
    "matrix=[]\n",
    "\n",
    "for i  in range(0,x,1):\n",
    "    \n",
    "    for j in range(0,y,1):\n",
    "        val=int(input(\"Enter The value\"))\n",
    "        matrix [i][j] .append(val)\n",
    "    \n",
    "    print()\n",
    "        \n",
    "print(matrix)"
   ]
  },
  {
   "cell_type": "code",
   "execution_count": 6,
   "metadata": {},
   "outputs": [
    {
     "name": "stdout",
     "output_type": "stream",
     "text": [
      "The matrix is:\n",
      "[1, 2, 3]\n",
      "[4, 5, 6]\n",
      "[7, 8, 9]\n",
      "[[1, 2, 3], [4, 5, 6], [7, 8, 9]]\n"
     ]
    }
   ],
   "source": [
    "x, y = map(int, input(\"Enter number of rows and columns: \").split())\n",
    "\n",
    "matrix = []\n",
    "\n",
    "for i in range(x):\n",
    "    row = []  # Initialize a new row\n",
    "    for j in range(y):\n",
    "        val = int(input(f\"Enter the value for position ({i},{j}): \"))\n",
    "        row.append(val)\n",
    "    matrix.append(row)  # Append the completed row to the matrix\n",
    "\n",
    "print(\"The matrix is:\")\n",
    "for r in matrix:\n",
    "    print(r)\n",
    "    \n",
    "print(matrix)\n"
   ]
  },
  {
   "cell_type": "code",
   "execution_count": 5,
   "metadata": {},
   "outputs": [
    {
     "name": "stdout",
     "output_type": "stream",
     "text": [
      "1 2 3 \n",
      "1 2 3 \n",
      "1 2 3 \n"
     ]
    }
   ],
   "source": [
    "matrix=[[1 ,2 , 3],\n",
    "        [1 ,2 , 3],\n",
    "        [1 ,2 , 3] ]\n",
    "\n",
    "# print matrix \n",
    "n=3\n",
    "m=3\n",
    "for i in range(0,n,1):\n",
    "    \n",
    "    for j in range(0,m,1):\n",
    "        print(matrix[i][j],end=\" \")\n",
    "    print()\n",
    "    \n",
    "    "
   ]
  },
  {
   "cell_type": "markdown",
   "metadata": {},
   "source": [
    "Addition of 2 matrix"
   ]
  },
  {
   "cell_type": "code",
   "execution_count": 17,
   "metadata": {},
   "outputs": [
    {
     "name": "stdout",
     "output_type": "stream",
     "text": [
      "Enter Matrix A\n",
      "Enter Matrix B\n",
      "[[1, 2, 3], [4, 5, 6], [7, 8, 9]]\n",
      "[[1, 2, 3], [4, 5, 6], [7, 8, 9]]\n",
      "[[2, 4, 6], [8, 10, 12], [14, 16, 18]]\n",
      "[[0, 0, 0], [0, 0, 0], [0, 0, 0]]\n",
      "[[30, 36, 42], [66, 81, 96], [102, 126, 150]]\n",
      "Transpose of the matrix\n",
      "[[1, 4, 7], [2, 5, 8], [3, 6, 9]]\n"
     ]
    }
   ],
   "source": [
    "def matrix(m, n):\n",
    "    # Create an empty matrix to store the input\n",
    "    mat = []\n",
    "    for i in range(m):\n",
    "        row = []\n",
    "        for j in range(n):\n",
    "            val = int(input(f\"Enter element at position [{i}, {j}]: \"))\n",
    "            row.append(val)\n",
    "        mat.append(row)\n",
    "    return mat  # Return the complete matrix\n",
    "\n",
    "    \n",
    "m,n=map(int,input().split())\n",
    "\n",
    "print(\"Enter Matrix A\")\n",
    "A=matrix(m,n)\n",
    "\n",
    "print(\"Enter Matrix B\")\n",
    "B=matrix(m,n)\n",
    "\n",
    "print(A)\n",
    "print(B)\n",
    "\n",
    "\n",
    "\n",
    "        \n",
    "# A=[[1 ,2 , 3],\n",
    "#         [1 ,2 , 3],\n",
    "#         [1 ,2 , 3] ]\n",
    "\n",
    "# B=[[1 ,2 , 3],\n",
    "#         [1 ,2 , 3],\n",
    "#         [1 ,2 , 3] ]\n",
    "\n",
    "# print(\"addition of 2 number\")\n",
    "\n",
    "\n",
    "result = []\n",
    "\n",
    "# Iterate through the rows\n",
    "for i in range(m):\n",
    "    row = []  \n",
    "   \n",
    "    for j in range(n):\n",
    "        \n",
    "        row.append(A[i][j] + B[i][j])\n",
    "    # Append the computed row to the result matrix\n",
    "    result.append(row)\n",
    "\n",
    "print(result)\n",
    "\n",
    "\n",
    "subtraction=[]\n",
    "\n",
    "\n",
    "\n",
    "# Iterate through the rows\n",
    "for i in range(m):\n",
    "    row = []  \n",
    "   \n",
    "    for j in range(n):\n",
    "        \n",
    "        row.append(A[i][j] - B[i][j])\n",
    "    # Append the computed row to the result matrix\n",
    "    subtraction.append(row)\n",
    "\n",
    "print(subtraction)\n",
    "\n",
    "\n",
    "result = []\n",
    "\n",
    "# Iterate over each row of A\n",
    "for i in range(m):\n",
    "    row = []  # Temporary list to store the row of the result matrix\n",
    "    # Iterate over each column of B\n",
    "    for j in range(n):\n",
    "        sum_val = 0\n",
    "        # Compute the dot product of the i-th row of A and j-th column of B\n",
    "        for k in range(n):\n",
    "            sum_val += A[i][k] * B[k][j]\n",
    "        row.append(sum_val)\n",
    "    result.append(row)\n",
    "    \n",
    "print(result)\n",
    "\n",
    "print(\"Transpose of the matrix\")\n",
    "transposed = []\n",
    "# Iterate through the rows\n",
    "for i in range(m):\n",
    "    row = []  \n",
    "   \n",
    "    for j in range(n):\n",
    "        \n",
    "        row.append(A[j][i])\n",
    "    # Append the computed row to the result matrix\n",
    "    transposed.append(row)\n",
    "\n",
    "print(transposed)\n",
    "\n"
   ]
  }
 ],
 "metadata": {
  "kernelspec": {
   "display_name": "Python 3",
   "language": "python",
   "name": "python3"
  },
  "language_info": {
   "codemirror_mode": {
    "name": "ipython",
    "version": 3
   },
   "file_extension": ".py",
   "mimetype": "text/x-python",
   "name": "python",
   "nbconvert_exporter": "python",
   "pygments_lexer": "ipython3",
   "version": "3.13.1"
  }
 },
 "nbformat": 4,
 "nbformat_minor": 2
}
