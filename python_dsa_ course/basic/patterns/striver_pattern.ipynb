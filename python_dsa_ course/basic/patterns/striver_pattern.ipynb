{
 "cells": [
  {
   "cell_type": "markdown",
   "metadata": {},
   "source": [
    "#solved them on gfg "
   ]
  },
  {
   "cell_type": "markdown",
   "metadata": {},
   "source": [
    "Pattern-12"
   ]
  },
  {
   "cell_type": "code",
   "execution_count": 27,
   "metadata": {},
   "outputs": [
    {
     "name": "stdout",
     "output_type": "stream",
     "text": [
      "1        1\n",
      "12      21\n",
      "123    321\n",
      "1234  4321\n",
      "1234554321\n"
     ]
    }
   ],
   "source": [
    "n=5\n",
    "for i in range(n):\n",
    "    for j in range(i+1):\n",
    "        print(j+1,end=\"\")\n",
    "    for k in range(i,n-1):\n",
    "        print(\" \",end=\"\")\n",
    "    for k in range(n-i+1,2,-1):\n",
    "        print(\" \",end=\"\")\n",
    "    for l in range(i,-1,-1):\n",
    "        print(l+1,end=\"\")\n",
    "    print()"
   ]
  },
  {
   "cell_type": "markdown",
   "metadata": {},
   "source": [
    "#"
   ]
  }
 ],
 "metadata": {
  "kernelspec": {
   "display_name": "Python 3",
   "language": "python",
   "name": "python3"
  },
  "language_info": {
   "codemirror_mode": {
    "name": "ipython",
    "version": 3
   },
   "file_extension": ".py",
   "mimetype": "text/x-python",
   "name": "python",
   "nbconvert_exporter": "python",
   "pygments_lexer": "ipython3",
   "version": "3.13.1"
  }
 },
 "nbformat": 4,
 "nbformat_minor": 2
}
